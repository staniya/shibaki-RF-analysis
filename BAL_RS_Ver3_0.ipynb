{
  "nbformat": 4,
  "nbformat_minor": 0,
  "metadata": {
    "colab": {
      "provenance": [],
      "authorship_tag": "ABX9TyN1cSATagaQRjTyfjDmYR8O",
      "include_colab_link": true
    },
    "kernelspec": {
      "name": "python3",
      "display_name": "Python 3"
    },
    "language_info": {
      "name": "python"
    }
  },
  "cells": [
    {
      "cell_type": "markdown",
      "metadata": {
        "id": "view-in-github",
        "colab_type": "text"
      },
      "source": [
        "<a href=\"https://colab.research.google.com/github/staniya/shibaki-RF-analysis/blob/main/BAL_RS_Ver3_0.ipynb\" target=\"_parent\"><img src=\"https://colab.research.google.com/assets/colab-badge.svg\" alt=\"Open In Colab\"/></a>"
      ]
    },
    {
      "cell_type": "markdown",
      "source": [
        "# 間質性肺炎の予後予測因子の抽出と予後予測のランダムフォレストモデル"
      ],
      "metadata": {
        "id": "ZEvUixaf5AvI"
      }
    },
    {
      "cell_type": "markdown",
      "source": [
        "線維化を伴う間質性肺炎の急性増悪の多施設後ろ向き実態調査に付随した研究として、予後予測因子の抽出と予後予測の新規モデルを作成します。和歌山医科大学の保有する、線維化を伴う間質性肺炎の急性増悪の多施設後ろ向き実態調査に登録された患者において急性増悪中に施行されたBAL液中のサイトカインやケモカインのデータを用いて、間質性肺炎の予後予測因子の抽出と予後予測の新規モデルを作成します。\n",
        "\n",
        "今回の解析は分類問題であるため、ランダムフォレスト分類器が使用されます。Scikit-learnライブラリから、RandomForestClassifierを持つアンサンブルパッケージが使用されます。ランダムフォレストは、平均化を使用して予測精度を向上させ、特定のデータセットのさまざまなサブサンプルに多数の決定木分類器を適合させることで過剰適合を制御するメタ推定量です。"
      ],
      "metadata": {
        "id": "CTdOc_xP5GE-"
      }
    },
    {
      "cell_type": "markdown",
      "source": [
        "## 環境構築"
      ],
      "metadata": {
        "id": "8-JDHmco5KKC"
      }
    },
    {
      "cell_type": "markdown",
      "source": [
        "本章では、下記のライブラリを利用します。"
      ],
      "metadata": {
        "id": "hjo73HGv5MeX"
      }
    },
    {
      "cell_type": "markdown",
      "source": [
        "*  Collections  \n",
        "*  Data Synthesizer\n",
        "*  Google Colab\n",
        "*  Joblib\n",
        "*  Matplotlib\n",
        "*  Numpy\n",
        "*  Optuna\n",
        "*  os\n",
        "*  Pandas\n",
        "*  PyCaret\n",
        "*  Seaborn\n",
        "*  Scikit-learn\n",
        "*  sys\n",
        "*  TensorFlow\n"
      ],
      "metadata": {
        "id": "JPKL9B0r5PZJ"
      }
    },
    {
      "cell_type": "markdown",
      "source": [
        "以下のセルを実行（Shift + Enter)して必要なライブラリをインストールして下さい。"
      ],
      "metadata": {
        "id": "tULWJlAZ5Swq"
      }
    },
    {
      "cell_type": "code",
      "source": [
        "# コラボのセル出力を%%captureで非表示状態にするライブラリ\n",
        "!pip install -q gwpy"
      ],
      "metadata": {
        "colab": {
          "base_uri": "https://localhost:8080/"
        },
        "id": "zTjORdof63Bg",
        "outputId": "2d7acb5a-c53e-4837-cbe7-992652bb9cd7"
      },
      "execution_count": 1,
      "outputs": [
        {
          "output_type": "stream",
          "name": "stdout",
          "text": [
            "\u001b[K     |████████████████████████████████| 1.4 MB 4.1 MB/s \n",
            "\u001b[K     |████████████████████████████████| 51 kB 6.2 MB/s \n",
            "\u001b[K     |████████████████████████████████| 11.2 MB 31.5 MB/s \n",
            "\u001b[K     |████████████████████████████████| 45 kB 2.3 MB/s \n",
            "\u001b[33mWARNING: igwn-auth-utils 0.3.1 does not provide the extra 'requests'\u001b[0m\n",
            "\u001b[K     |████████████████████████████████| 4.0 MB 11.6 MB/s \n",
            "\u001b[K     |████████████████████████████████| 959 kB 48.2 MB/s \n",
            "\u001b[?25h  Building wheel for ligo-segments (setup.py) ... \u001b[?25l\u001b[?25hdone\n"
          ]
        }
      ]
    },
    {
      "cell_type": "code",
      "execution_count": 2,
      "metadata": {
        "id": "cBGdqQE42W1X"
      },
      "outputs": [],
      "source": [
        "%%capture\n",
        "!pip install openpyxl==3.0\n",
        "!pip install pyyaml==5.4.1\n",
        "!pip install mlflow\n",
        "!pip install -q DataSynthesizer\n",
        "!pip install optuna\n",
        "!pip install matplotlib==3.1.3\n",
        "!apt-get install tree"
      ]
    },
    {
      "cell_type": "markdown",
      "source": [
        "インストールが完了したら以下のセルを実行して，各ライブラリのインポート，及びバージョン確認を行って下さい."
      ],
      "metadata": {
        "id": "F5ONq-PQ7mj9"
      }
    },
    {
      "cell_type": "code",
      "source": [
        "from collections import OrderedDict\n",
        "\n",
        "import DataSynthesizer\n",
        "from DataSynthesizer.DataDescriber import DataDescriber\n",
        "from DataSynthesizer.DataGenerator import DataGenerator\n",
        "from DataSynthesizer.ModelInspector import ModelInspector\n",
        "from DataSynthesizer.lib.utils import read_json_file, display_bayesian_network\n",
        "\n",
        "from google.colab import drive\n",
        "import joblib\n",
        "import matplotlib as mpl\n",
        "import matplotlib.pyplot as plt\n",
        "%matplotlib inline\n",
        "import numpy as np\n",
        "import optuna\n",
        "import os\n",
        "import pandas as pd\n",
        "import seaborn as sns\n",
        "\n",
        "import sklearn\n",
        "from sklearn import tree\n",
        "from sklearn import ensemble\n",
        "from sklearn.impute import SimpleImputer\n",
        "from sklearn.metrics import accuracy_score, confusion_matrix, classification_report\n",
        "from sklearn.model_selection import StratifiedKFold, train_test_split, cross_val_score\n",
        "\n",
        "import sys\n",
        "sys.path.append('models')\n",
        "\n",
        "import tensorflow as tf\n",
        "import time\n",
        "\n",
        "print(\"Data Synthesizer: \", DataSynthesizer.__version__)\n",
        "print(\"Google Colab Python: \")\n",
        "!python --version\n",
        "print(\"\\nJoblib: \", joblib.__version__)\n",
        "print(\"Matplotlib: \", mpl.__version__)\n",
        "print(\"Numpy: \", np.__version__)\n",
        "print(\"Optuna: \", optuna.__version__)\n",
        "print(\"pandas: \", pd.__version__)\n",
        "print(\"Seaborn: \", sns.__version__)\n",
        "print(\"Scikit-learn: \", sklearn.__version__)\n",
        "print(\"TensorFlow: \", tf.__version__)"
      ],
      "metadata": {
        "colab": {
          "base_uri": "https://localhost:8080/"
        },
        "id": "t4i72SQs55JW",
        "outputId": "6cc5a22b-5847-4b53-d8d2-2cb1928ef351"
      },
      "execution_count": 3,
      "outputs": [
        {
          "output_type": "stream",
          "name": "stdout",
          "text": [
            "Data Synthesizer:  0.1.11\n",
            "Google Colab Python: \n",
            "Python 3.7.14\n",
            "\n",
            "Joblib:  1.1.0\n",
            "Matplotlib:  3.2.2\n",
            "Numpy:  1.21.6\n",
            "Optuna:  3.0.2\n",
            "pandas:  1.3.5\n",
            "Seaborn:  0.11.2\n",
            "Scikit-learn:  1.0.2\n",
            "TensorFlow:  2.8.2\n"
          ]
        }
      ]
    },
    {
      "cell_type": "markdown",
      "source": [
        "## 使用するデータセット"
      ],
      "metadata": {
        "id": "8lR1ryC_70Xv"
      }
    },
    {
      "cell_type": "code",
      "source": [
        "from google.colab import drive\n",
        "drive.mount('/content/drive')\n",
        "xlsx_input = input(\"入力データが保管してあるドライブの絶対パス: \") or \"/content/drive/MyDrive/shibaki_analysis/AE-FILD_BAL_patient_data.xlsx\"\n",
        "!cp {xlsx_input} patient_data.xlsx "
      ],
      "metadata": {
        "colab": {
          "base_uri": "https://localhost:8080/"
        },
        "id": "970HSePJ7pEt",
        "outputId": "e4a9481b-b9d3-4c6d-b52d-0d5d35087953"
      },
      "execution_count": 4,
      "outputs": [
        {
          "name": "stdout",
          "output_type": "stream",
          "text": [
            "Mounted at /content/drive\n",
            "入力データが保管してあるドライブの絶対パス: \n"
          ]
        }
      ]
    },
    {
      "cell_type": "markdown",
      "source": [
        "無事ダウンロードが完了すると， /content/driveフォルダがローカル環境にマウントされます。"
      ],
      "metadata": {
        "id": "fzT3XD7R74YZ"
      }
    },
    {
      "cell_type": "markdown",
      "source": [
        "## データ前処理"
      ],
      "metadata": {
        "id": "VLiF1pu2AcWH"
      }
    },
    {
      "cell_type": "markdown",
      "source": [
        "ダウンロードしたファイルを読み込み，機械学習モデルへの入力形式に変換するデータ前処理を以下の手順で行います。\n",
        "\n",
        "1. ヘルパーファンクションでデータフレームテキスト内の\"\\n\"をスペースに変換する関数を定義する\n",
        "2. 学習に不必要なデータコラムを除外する: \"No\"\n",
        "3. sklearnのSimpleImputerを導入し欠損値（NaN)補完を行う\n",
        "    - 補完方法は中央値で欠損値を埋める（[[1](https://scikit-learn.org/stable/modules/generated/sklearn.impute.SimpleImputer.html)]を参考）\n",
        "4. テスト用のデータをホールドアウト法に基づき先に取り分けておく\n",
        "5. 学習用のデータが不足しているためDataSynthesizerライブラリーを導入し模擬データを作成する\n",
        "    - ベイジアンネットワークを使用して合成データセットを作成する方法はこちらを参考して下さい [[2](https://www.scb.se/contentassets/ca21efb41fee47d293bbee5bf7be7fb3/using-bayesian-networks-to-create-synthetic-data.pdf)]"
      ],
      "metadata": {
        "id": "EZR_hYNLAmKE"
      }
    },
    {
      "cell_type": "markdown",
      "source": [
        "まずは以下のセルを実行して、データ前処理クラスを定義します。\n",
        "全処理クラス内では、以下のメンバ関数を定義しています。\n",
        "\n",
        "* __init__() (コンストラクタ）: 変数の初期化，学習用とテスト用への分割ルール，利用するラベルの集約ルール\n",
        "* clean_header(): Pandasデータフレームのヘッダー内の\"\\n\"をスペースに変換する関数\n",
        "* convert_text_to_list(): Pandasデータフレームのヘッダーをリストに変換する関数\n",
        "* drop_columns(): 学習に不必要な項目をdrop()する関数\n",
        "* data_imputation(): sklearnのSimpleImputerを導入し欠損値（NaN)補完を行う関数\n",
        "* def remove_header_map(): Pandasデータフレームのヘッダー内にカテゴリカル変数が含まれる場合、数値と置き換える関数\n",
        "* def split(): テスト用のデータを分割する為の関数\n",
        "* def create_data_synthesis_network(): 模擬データを作成するためのベイジアンネットワークモデルの定義・学習を行う関数\n",
        "* def generate_synthetic_data(): 学習済のベイジアンネットワークモデルを使い模擬データを実際に作成する関数\n",
        "* def synthetic_data_wrapper(): 学習済のDataDescriberのモデルが存在するかを確認する関数\n",
        "* def main(): 上記全ての工程を一度に実行するためのメイン関数\n",
        "\n",
        "\n"
      ],
      "metadata": {
        "id": "mionfH7tAo7D"
      }
    },
    {
      "cell_type": "code",
      "source": [
        "# 出力ディレクトリーの作成\n",
        "!mkdir ./out\n",
        "\n",
        "# description_fileをグーグルドライブから引っ張ってくる\n",
        "!cp '/content/drive/MyDrive/shibaki_analysis/description_simplified.json' ./out/description_simplified.json\n",
        "\n",
        "# synthetic_dataをグーグルドライブから引っ張ってくる\n",
        "!cp '/content/drive/MyDrive/shibaki_analysis/synthetic_data_simplified.csv' ./out/synthetic_data_simplified.csv"
      ],
      "metadata": {
        "colab": {
          "base_uri": "https://localhost:8080/"
        },
        "id": "h0KZTjKf74JN",
        "outputId": "cc5b3f4f-8481-4dae-df1c-abbf9ba7365a"
      },
      "execution_count": 24,
      "outputs": [
        {
          "output_type": "stream",
          "name": "stdout",
          "text": [
            "mkdir: cannot create directory ‘./out’: File exists\n"
          ]
        }
      ]
    },
    {
      "cell_type": "code",
      "source": [
        "class BaseBALDatasetProcessor(object):\n",
        "    def __init__(\n",
        "        self,\n",
        "        dataset,\n",
        "        dataset_root,\n",
        "        dataframe_name,\n",
        "    ):\n",
        "        # 模擬データが元のデータの類似するように模擬データの作成設定をcorrelated_attribute_modeにする\n",
        "        self.mode = 'correlated_attribute_mode'\n",
        "        self.dataset = dataset\n",
        "        self.dataset_root = dataset_root\n",
        "        self.dataframe_name = dataframe_name\n",
        "\n",
        "        # Holdout法に基づき先に学習用のデータを分割したデータフレーム\n",
        "        self.augment_training_df = pd.DataFrame()\n",
        "\n",
        "        # 模擬データの構造を説明するための情報ファイル等の指定\n",
        "        if os.path.exists(f'./out/description_simplified.json') and os.path.exists(f'./out/synthetic_data_simplified.csv'):\n",
        "            self.description_file = f'./out/description_simplified.json'\n",
        "            self.synthetic_data = f'./out/synthetic_data_simplified.csv'\n",
        "\n",
        "        else:\n",
        "            self.output_dir = f'./out'\n",
        "            self.description_file = f'./out/description_simplified.json'\n",
        "            self.synthetic_data = f'./out/synthetic_data_simplified.csv'\n",
        "\n",
        "        # データセットをPandasのデータフレームとして読み込む\n",
        "        self.dataframe = pd.read_excel(self.dataset, engine='openpyxl')\n",
        "\n",
        "        # データセット内のカテゴリカル変数の数値をその数値が表すカテゴリーに置き換える必要がある際\n",
        "        self.columnname_dict = OrderedDict([\n",
        "            ('90day-mortality', {0.0: 'survival', 1.0: 'death'}),\n",
        "            ('sex', {0.0: 'male', 1.0: 'female'}),\n",
        "            ('smoking-status',\n",
        "             {0.0: 'Never',\n",
        "                   1.0: 'Ex(quit smoking over a year ago)',\n",
        "                   2.0: 'Current'}),\n",
        "            ('emphysema', {0.0: '-', 1.0: '+'}),\n",
        "            ('Baseline-ILD',\n",
        "             {0.0: 'UIP',\n",
        "                   1.0: 'probable UIP',\n",
        "                   2.0: 'Indeterminate for UIP',\n",
        "                   3.0: 'Alternative diagnosis'}),\n",
        "            ('Collagen-disease', {0.0: '-', 1.0: '+'}),\n",
        "            ('IPAF', {0.0: '-', 1.0: '+'})])\n",
        "\n",
        "    def clean_header(\n",
        "        self,\n",
        "        text\n",
        "    ):\n",
        "        \"\"\"\n",
        "        Pandasデータフレームのヘッダー内の\"\\n\"をスペースに変換する関数\n",
        "        \"\"\"\n",
        "        text = text.strip()\n",
        "        text = text.replace(\" \", \"-\")\n",
        "        text_n_newline = text.replace(\"\\n\", \" \")\n",
        "        return text_n_newline\n",
        "\n",
        "    def convert_text_to_list(self):\n",
        "        \"\"\"\n",
        "        Pandasデータフレームのヘッダーをリストに変換する関数\n",
        "        \"\"\"\n",
        "        df_header_list = self.dataframe.columns.values.tolist()\n",
        "        df_header_list_cleaned = [self.clean_header(x) for x in df_header_list]\n",
        "        self.dataframe.columns = df_header_list_cleaned\n",
        "\n",
        "    def drop_columns(\n",
        "        self,\n",
        "        col_names=[\"No\"]\n",
        "    ):\n",
        "        \"\"\"\n",
        "        学習に不必要な項目をdrop()する関数\n",
        "        \"\"\"\n",
        "        self.dataframe.drop(columns=self.dataframe.columns.difference(col_names), inplace=True)\n",
        "    def data_imputation(\n",
        "        self,\n",
        "        null_val='NaN',\n",
        "        strategy='median'\n",
        "    ):\n",
        "        \"\"\"\n",
        "        sklearnのSimpleImputerを導入し欠損値（NaN)補完を行う関数\n",
        "        \"\"\"\n",
        "        if null_val == 'NaN':\n",
        "            nan_attr = np.NaN\n",
        "        else:\n",
        "            print(\"Declare valid null data value for variable null_val\")\n",
        "        # データフレーム内の\"NaN\"をnumpyのNaNと置き換える)\n",
        "        self.dataframe.replace(null_val, nan_attr, inplace=True)\n",
        "        # sklearnのSimpleImputerを使い、np.NaNをnull値として認識させる。\n",
        "        # 加、strategy=\"median\"はnp.NaNをその行のNaNを中央値と置き換えるための指定\n",
        "        imp = SimpleImputer(missing_values=nan_attr, strategy=strategy)\n",
        "        df_idf = pd.DataFrame(imp.fit_transform(self.dataframe))\n",
        "        # SimpleImputerは数値しか作成できない為、元のデータセットの行名を新しいデータセットに加るコード\n",
        "        df_idf.columns = self.dataframe.columns\n",
        "        self.dataframe = df_idf\n",
        "\n",
        "    def remove_header_map(\n",
        "        self,\n",
        "        text\n",
        "    ):\n",
        "        \"\"\"\n",
        "        Pandasデータフレームのヘッダー内にカテゴリカル変数が含まれる場合、数値と置き換える関数\n",
        "        \"\"\"\n",
        "        for key in self.columnname_dict.keys():\n",
        "            if key in text:\n",
        "                text = key\n",
        "        return text\n",
        "\n",
        "    def split (\n",
        "      self,\n",
        "      # Y (ラベル) ターゲットラベル\n",
        "      Y_col = '90day-mortality',\n",
        "      # テスト用データの割合\n",
        "      ts = 0.20,\n",
        "      # 検証用でデータの割合\n",
        "      vs = 0.40,\n",
        "      # ランダムステート \n",
        "      rs = 42\n",
        "    ):\n",
        "      \"\"\"\n",
        "      学習用・テスト用・検証用に分割するための関数\n",
        "      \"\"\"\n",
        "      # ヘッダーコラムのテキストを記号と置き換える必要がある場合\n",
        "      df_header_list = self.dataframe.columns.values.tolist()\n",
        "      df_header_list_cleaned = [self.remove_header_map(\n",
        "          x) for x in self.columnname_dict]\n",
        "      for column in self.dataframe:\n",
        "          for header in df_header_list_cleaned:\n",
        "              if header in column:\n",
        "                  self.dataframe.rename(\n",
        "                      columns={column: header}, inplace=True)\n",
        "                  \n",
        "      # X (フィーチャー) ターゲットラベル以外の全ての行\n",
        "      X_cols = self.dataframe.loc[:, self.dataframe.columns != Y_col].columns\n",
        "\n",
        "      # テストデータ分割（初期の分割ではtrainに学習用・検証用データが含まれ, testにテストデータが含まれる)\n",
        "      X_train, self.X_test, y_train, self.y_test = \\\n",
        "      train_test_split(\n",
        "          self.dataframe[X_cols], \n",
        "          self.dataframe[Y_col],\n",
        "          test_size=ts, \n",
        "          random_state=rs, \n",
        "          stratify=self.dataframe[Y_col]\n",
        "          )\n",
        "      \n",
        "      # 学習用・検証用データ分割\n",
        "      X_train, X_val, y_train, y_val = \\\n",
        "      train_test_split(\n",
        "          X_train, \n",
        "          y_train,\n",
        "          test_size=vs, \n",
        "          random_state=rs,\n",
        "          stratify=y_train\n",
        "          )\n",
        "      \n",
        "      # テスト用データからIDをドロップする\n",
        "      self.X_test = self.X_test.drop(columns=['ID'])\n",
        "      \n",
        "      # 学習用のデータをデータフレームに付け加える\n",
        "      X_temp_df = pd.concat([X_train, X_val], axis=0)\n",
        "      y_temp_df = pd.concat([y_train, y_val], axis=0)\n",
        "      self.augment_training_df = pd.concat([X_temp_df, y_temp_df], axis=1)\n",
        "\n",
        "    def create_data_synthesis_network(\n",
        "        self,\n",
        "        # データの要素を識別できるように、IDをデータのキーとして認識する\n",
        "        candidate_keys={'ID': True},\n",
        "\n",
        "        # ベイジアンネットワークパラメーター指定\n",
        "        # ドメインサイズがこのしきい値よりも小さい場合、属性はカテゴリーに分類されます。\n",
        "        # 今回のデータでは一番多いカテゴリー要素が4だったので、閾値を4と指定する\n",
        "        threshold_value=4,\n",
        "\n",
        "        # 差分プライバシーのパラメーター。 これは、入力データセットの行を削除しても、exp（epsilon）の乗法差以上に同じ出力を取得する確率が変わらないことを大まかに意味します。\n",
        "        # イプシロン値を増やすことで学習モデルのノイズを減らせます。 差分プライバシーをオフにするにはepsilon = 0を設定します。\n",
        "        epsilon=1,\n",
        "\n",
        "        # ベイジアンネットワーク内の親ノードの最大数、つまり、有向グラフでの入力エッジの最大数。\n",
        "        degree_of_bayesian_network=2\n",
        "    ):\n",
        "        \"\"\"\n",
        "        模擬データを作成するためのベイジアンネットワークモデルの定義・学習を行う関数\n",
        "        \"\"\"\n",
        "        # PandasのデータフレームをDataSynthesizerが応用できるようにcsvに変換する\n",
        "        self.augment_training_df.to_csv(self.dataframe_name + '.csv', index=False)\n",
        "\n",
        "        # DataDescriberをインスタンス化する\n",
        "        describer = DataDescriber(category_threshold=threshold_value)\n",
        "\n",
        "        if self.mode == 'correlated_attribute_mode':\n",
        "            # データセットの統計を計算する\n",
        "            describer.describe_dataset_in_correlated_attribute_mode(dataset_file='./' + self.dataframe_name + '.csv',\n",
        "                                                                    epsilon=epsilon,\n",
        "                                                                    k=degree_of_bayesian_network,\n",
        "                                                                    attribute_to_is_candidate_key=candidate_keys)\n",
        "        else:\n",
        "            print(\"The model does not currently suport this mode type for computation\")\n",
        "\n",
        "        # データセットの統計を上で定義した出力ファイルに保存する\n",
        "        # その後に作成されたベイズネットワークを出力する\n",
        "        describer.save_dataset_description_to_file(self.description_file)\n",
        "        display_bayesian_network(describer.bayesian_network)\n",
        "        return describer\n",
        "\n",
        "    def generate_synthetic_data(\n",
        "        self,\n",
        "        # 合成データセットで生成される症例数\n",
        "        num_tuples_to_generate=100\n",
        "    ):\n",
        "        \"\"\"\n",
        "        学習済のベイジアンネットワークモデルを使い模擬データを実際に作成する関数\n",
        "        \"\"\"\n",
        "        # 実際に模擬データを作成するコード\n",
        "        generator = DataGenerator()\n",
        "\n",
        "        # ベイズモデルの応用（模擬データの作成）\n",
        "        # description_fileとして定義してあるJSONファイルにベイズモデルが学習したカテゴリカルアトリビュートの特徴が保存される\n",
        "        # num_tuples_to_generateは生成される症例数\n",
        "        generator.generate_dataset_in_correlated_attribute_mode(\n",
        "            num_tuples_to_generate, self.description_file)\n",
        "\n",
        "        # 作成した模擬データをsynthetic_dataとして定義したcsvファイルに保存する\n",
        "        generator.save_synthetic_data(self.synthetic_data)\n",
        "\n",
        "        # pandasのデータフレームとして模擬データを読み込む\n",
        "        synthetic_df = pd.read_csv(self.synthetic_data)\n",
        "\n",
        "        return synthetic_df, generator\n",
        "\n",
        "    def synthetic_data_wrapper(\n",
        "        self\n",
        "    ):\n",
        "        \"\"\"\n",
        "        学習済のDataDescriberのモデルが存在するかを確認する関数\n",
        "        \"\"\"\n",
        "        # 事前に学習済のDataDescriberが存在するかを確認する\n",
        "        if os.path.exists(self.synthetic_data) and \\\n",
        "                os.stat(self.synthetic_data).st_size != 0:\n",
        "            # pandasのデータフレームとして模擬データを読み込む\n",
        "            synthetic_df = pd.read_csv(self.synthetic_data)\n",
        "\n",
        "        else:\n",
        "            describer = self.create_data_synthesis_network()\n",
        "            synthetic_df, generator = self.generate_synthetic_data()\n",
        "\n",
        "        # 新しく作成した模擬データは上記で作成したsynthetic_df内にあるため、self.augment_training_dfにデータを足す\n",
        "        self.augment_training_df = pd.concat([self.augment_training_df, synthetic_df])\n",
        "        # テスト用のデータを学習済のモデルで測るため、テストデータも模擬データフレームと加え出力する\n",
        "        return self.augment_training_df, self.X_test, self.y_test\n",
        "\n",
        "    def main(\n",
        "        self\n",
        "    ):\n",
        "        \"\"\"\n",
        "        上記全ての工程を一度に実行するためのメイン関数\n",
        "        \"\"\"\n",
        "        self.convert_text_to_list()\n",
        "        self.drop_columns(col_names=[\n",
        "            'LDH', \n",
        "            'CRP', \n",
        "            'P/F-ratio', \n",
        "            'BAL(neutro-%)', \n",
        "            'MMP-1', \n",
        "            'GM-CSF', \n",
        "            'IL-6',\n",
        "            'IL-8',\n",
        "            'MCP-1',\n",
        "            'EOTAXIN',\n",
        "            '90day-mortality survival:0 death:1',\n",
        "            'ID',\n",
        "            ])\n",
        "        self.data_imputation(null_val='NaN', strategy='median')\n",
        "        self.split(Y_col = '90day-mortality', ts = 0.30, rs = 42)\n",
        "        return self.synthetic_data_wrapper()\n"
      ],
      "metadata": {
        "id": "O3fTgT645V7C"
      },
      "execution_count": 6,
      "outputs": []
    },
    {
      "cell_type": "markdown",
      "source": [
        "データ保存先のrootディレクトリ(dataset_root)を指定し， 上記のクラスを使用してデータの前処理を行う。前処理済のデータはdataframe_nameで指定した名前でPandasのデータフレーム形式で所定の場所に保存されます。\n",
        "\n",
        "加え、クラスで先にテスト用のデータをとり分けて置く"
      ],
      "metadata": {
        "id": "acAVNqgFDFRE"
      }
    },
    {
      "cell_type": "code",
      "source": [
        "dataset = 'patient_data.xlsx'\n",
        "dataset_root = './'\n",
        "dataframe_name = 'AE_FILD_df'\n",
        "post_processed_data_frame, X_test, y_test = BaseBALDatasetProcessor(dataset, dataset_root, dataframe_name).main()\n",
        "print(post_processed_data_frame['90day-mortality'].value_counts())"
      ],
      "metadata": {
        "colab": {
          "base_uri": "https://localhost:8080/"
        },
        "id": "l1ukPSh6DEec",
        "outputId": "ee74ebaf-5f35-4f32-db04-fcc2cfe42bd0"
      },
      "execution_count": 7,
      "outputs": [
        {
          "output_type": "stream",
          "name": "stdout",
          "text": [
            "================ Constructing Bayesian Network (BN) ================\n",
            "Adding ROOT GM-CSF\n",
            "Adding attribute EOTAXIN\n",
            "Adding attribute IL-8\n",
            "Adding attribute MMP-1\n",
            "Adding attribute BAL(neutro-%)\n",
            "Adding attribute CRP\n",
            "Adding attribute MCP-1\n",
            "Adding attribute LDH\n",
            "Adding attribute 90day-mortality\n",
            "Adding attribute IL-6\n",
            "Adding attribute P/F-ratio\n",
            "========================== BN constructed ==========================\n",
            "Constructed Bayesian network:\n",
            "    EOTAXIN         has parents ['GM-CSF'].\n",
            "    IL-8            has parents ['EOTAXIN', 'GM-CSF'].\n",
            "    MMP-1           has parents ['IL-8', 'EOTAXIN'].\n",
            "    BAL(neutro-%)   has parents ['MMP-1', 'EOTAXIN'].\n",
            "    CRP             has parents ['IL-8', 'EOTAXIN'].\n",
            "    MCP-1           has parents ['MMP-1', 'GM-CSF'].\n",
            "    LDH             has parents ['CRP', 'IL-8'].\n",
            "    90day-mortality has parents ['BAL(neutro-%)', 'MMP-1'].\n",
            "    IL-6            has parents ['LDH', 'MCP-1'].\n",
            "    P/F-ratio       has parents ['MMP-1', 'IL-8'].\n",
            "0.0    90\n",
            "1.0    52\n",
            "Name: 90day-mortality, dtype: int64\n"
          ]
        }
      ]
    },
    {
      "cell_type": "markdown",
      "source": [
        "テスト用のデータのラベルの割合を見てみる"
      ],
      "metadata": {
        "id": "LuJsDXvKDJWx"
      }
    },
    {
      "cell_type": "code",
      "source": [
        "print(y_test.value_counts())"
      ],
      "metadata": {
        "colab": {
          "base_uri": "https://localhost:8080/"
        },
        "id": "tLXH_Yx1AriU",
        "outputId": "8cfdc268-7621-42f3-b8dc-67e48959dc12"
      },
      "execution_count": 8,
      "outputs": [
        {
          "output_type": "stream",
          "name": "stdout",
          "text": [
            "0.0    15\n",
            "1.0     3\n",
            "Name: 90day-mortality, dtype: int64\n"
          ]
        }
      ]
    },
    {
      "cell_type": "markdown",
      "source": [
        "保存先の./outディレクトリに以下のファイルが保存されていることを確認する。\n",
        "* 模擬データを作成するためのベイジアンネットワークモデルを保管するdescription.jsonファイル\n",
        "* 学習済のベイジアンネットワークモデルを使い作成した模擬データを保管するsynthetic_data.csv\n"
      ],
      "metadata": {
        "id": "U4W32uJ9DMbf"
      }
    },
    {
      "cell_type": "code",
      "source": [
        "!tree ./out"
      ],
      "metadata": {
        "colab": {
          "base_uri": "https://localhost:8080/"
        },
        "id": "tJfyT4DIDPS_",
        "outputId": "83b52468-1034-4271-f7ed-ab168d0055d4"
      },
      "execution_count": 9,
      "outputs": [
        {
          "output_type": "stream",
          "name": "stdout",
          "text": [
            "./out\n",
            "├── description_simplified.json\n",
            "└── synthetic_data_simplified.csv\n",
            "\n",
            "0 directories, 2 files\n"
          ]
        }
      ]
    },
    {
      "cell_type": "markdown",
      "source": [
        "### RF解析モデル\n"
      ],
      "metadata": {
        "id": "SBdqD7ZPDROD"
      }
    },
    {
      "cell_type": "markdown",
      "source": [
        "学習モデルを構築する為の学習アルゴリズムには、ランダムフォレストを使用します。\n",
        "まずデータセット分割を行います。\n",
        "教示あり学習には主に交差検証とホールドアウト法がありますが今回はシンプルにホールドアウト法を使ってモデル構築を行います。\n",
        "ホールドアウト法：学習用と評価用にデータセットに分けてから、学習用でモデルを作成してから、評価用のデータでうまく予測する事ができるか確認していきます。\n",
        "X_allにフィーチャー、y_allにラベルと分割し、さらにX_allとy_allを学習用と評価用に分割しました。\n",
        "評価用を30％、学習用を70%と指定しました。\n",
        "加え、ラベルのインデックスは、\n",
        "*   0: 間質性肺炎感染90日後の生存者\n",
        "*   1: 間質性肺炎感染90日後の死者\n",
        "\n",
        "となっています。\n",
        "\n",
        "分割方法についてですが# Scikit-learnのtrain_test_split()を使い自動的にデータセットを学習用と評価用に分割します。test_sizeを0.3にして学習用を30%、訓練用を70%といったように分割できます。加え、random_stateを42にして実験の再現性を向上させます\n"
      ],
      "metadata": {
        "id": "OQMYGFAeDTQA"
      }
    },
    {
      "cell_type": "code",
      "source": [
        "#IDを削除\n",
        "finalized_df = post_processed_data_frame.drop(labels=['ID'], axis=1)\n",
        "\n",
        "# 行数と列数を変数として保管する\n",
        "NUM_ROWS, NUM_COLS = finalized_df.shape[0], finalized_df.shape[1]\n",
        "\n",
        "# Y (ラベル) ターゲットラベル\n",
        "Y_col = '90day-mortality'\n",
        "# X (フィーチャー) ターゲットラベル以外の全ての行\n",
        "X_cols = finalized_df.loc[:, finalized_df.columns != Y_col].columns\n",
        "\n",
        "X_train, X_val, y_train, y_val = \\\n",
        "train_test_split(finalized_df[X_cols], finalized_df[Y_col],test_size=0.3, random_state=42)\n",
        "\n",
        "X_train_op, X_val_op, y_train_op, y_val_op = X_train.copy(), X_val.copy(), y_train.copy(), y_val.copy()\n",
        "\n",
        "print(\"X_train.shape = \", X_train.shape, \" \\t y_train.shape = \", y_train.shape)\n",
        "print(\"X_val.shape = \", X_val.shape, \" \\t y_val.shape = \", y_val.shape)\n"
      ],
      "metadata": {
        "colab": {
          "base_uri": "https://localhost:8080/"
        },
        "id": "O6pvCgO2Db55",
        "outputId": "cea80675-0c7d-47da-a726-b097d09294ad"
      },
      "execution_count": 10,
      "outputs": [
        {
          "output_type": "stream",
          "name": "stdout",
          "text": [
            "X_train.shape =  (99, 10)  \t y_train.shape =  (99,)\n",
            "X_val.shape =  (43, 10)  \t y_val.shape =  (43,)\n"
          ]
        }
      ]
    },
    {
      "cell_type": "markdown",
      "source": [
        "学習用データセットに含まれている各ラベル毎のサンプル数をカウントしてみます．"
      ],
      "metadata": {
        "id": "ziLHO70UDfRF"
      }
    },
    {
      "cell_type": "code",
      "source": [
        "uniq_train, counts_train = np.unique(y_train, return_counts=True)\n",
        "print(\"y_train count each labels: \", dict(zip(uniq_train, counts_train)))"
      ],
      "metadata": {
        "colab": {
          "base_uri": "https://localhost:8080/"
        },
        "id": "Fb9-JxwwDigf",
        "outputId": "f1372fd2-3cc1-44e0-f37d-f10bc0648023"
      },
      "execution_count": 11,
      "outputs": [
        {
          "output_type": "stream",
          "name": "stdout",
          "text": [
            "y_train count each labels:  {0.0: 59, 1.0: 40}\n"
          ]
        }
      ]
    },
    {
      "cell_type": "markdown",
      "source": [
        "評価用データについても同様にラベル毎のサンプル数をカウントします．"
      ],
      "metadata": {
        "id": "yV2U2UZHDkwC"
      }
    },
    {
      "cell_type": "code",
      "source": [
        "uniq_test, counts_test = np.unique(y_val, return_counts=True)\n",
        "print(\"y_val count each labels: \", dict(zip(uniq_test, counts_test)))"
      ],
      "metadata": {
        "colab": {
          "base_uri": "https://localhost:8080/"
        },
        "id": "jyYsTR8hDlsO",
        "outputId": "24d8c417-2dc5-429f-bc78-6bffdb5509bf"
      },
      "execution_count": 12,
      "outputs": [
        {
          "output_type": "stream",
          "name": "stdout",
          "text": [
            "y_val count each labels:  {0.0: 31, 1.0: 12}\n"
          ]
        }
      ]
    },
    {
      "cell_type": "markdown",
      "source": [
        "### モデル構築から予測精度の確認"
      ],
      "metadata": {
        "id": "uNOrGukeDnx-"
      }
    },
    {
      "cell_type": "markdown",
      "source": [
        "学習したデータに対してとても良い精度を出すモデルであっても、予測が必要な新たなデータに対する精度が非常に低い、いわゆる「過学習」という状態になることが良くあります。こうならないように、汎用的に良い精度になるモデルを作成するためには、妥当性の検証が必要になります。\n",
        "妥当性の検証としては方法を二通り行います：\n",
        "* クロスバリデーション\n",
        "* Optuna\n",
        "\n"
      ],
      "metadata": {
        "id": "2--RpMs_Drj2"
      }
    },
    {
      "cell_type": "markdown",
      "source": [
        "#### クロスバリデーション"
      ],
      "metadata": {
        "id": "rV460L6CDyRn"
      }
    },
    {
      "cell_type": "markdown",
      "source": [
        "クロスバリデーションを使った最終モデル選択までの手順：\n",
        "1. 使うモデルの候補を上げる：RandomForestClassifier --> ランダムフォレストのパラメーターは、初期値として作成する決定木を42、最大の深さを1にしてみます。)\n",
        "\n",
        "2. それぞれのモデルでクロスバリデーションを行い、感度や特異度などの精度を算出する (決定木を50, 150, 250, 350; 最大の深さを1から20でランダムフォレストモデルを定義する) \n",
        "\n",
        "3. クロスバリデーションの結果、テストデータでの精度が一番高そうなモデルを選択\n"
      ],
      "metadata": {
        "id": "94FaU9syD1fA"
      }
    },
    {
      "cell_type": "code",
      "source": [
        "# cross validationを使い、階層や決定木の数をチューニングしてみる（ハイパーパラメーター）\n",
        "# 注：過適合/過剰適合のバランスを見極めながらハイパーパラメーターチューニングを行う\n",
        "best_accuracy = 0\n",
        "best_depth = 1\n",
        "best_num_trees = 42\n",
        "\n",
        "for ntrees in range(50,450,100):  # 決定木50から350の間（ステップ数：100)\n",
        "    for d in range(1,20): # 階層1から20の間\n",
        "        rforest_model = ensemble.RandomForestClassifier(\n",
        "            n_estimators= ntrees,\n",
        "            criterion='entropy',\n",
        "            max_depth=d,\n",
        "            min_samples_split=2,\n",
        "            min_samples_leaf=1,\n",
        "            min_weight_fraction_leaf=0.0,\n",
        "            max_features='auto',\n",
        "            max_leaf_nodes=None,\n",
        "            min_impurity_decrease=0.0,\n",
        "            bootstrap=True,\n",
        "            oob_score=False,\n",
        "            n_jobs=-1,\n",
        "            random_state=0,\n",
        "            verbose=0,\n",
        "            warm_start=False,\n",
        "            class_weight='balanced'\n",
        "        )\n",
        "        cv_scores = cross_val_score( rforest_model, X_train, y_train, cv=5 ) # 5 はトレーニング・テストの割合が8割・2割ということを表す\n",
        "        average_cv_accuracy = cv_scores.mean()  # cvスコアの平均値cv=5はスコアを五つ出すため、その平均値を見る\n",
        "        if average_cv_accuracy >= best_accuracy: # cvスコアの平均値正確性が現在の最適正確性を上回った場合、現在のcvスコア平均値を出した決定木数・階層を最適とする\n",
        "            best_accuracy = average_cv_accuracy\n",
        "            best_depth = d\n",
        "            best_num_trees = ntrees\n",
        "        print(f\"階層: {d:2d} 決定木: {ntrees:3d} cv スコア平均値: {average_cv_accuracy:7.4f}\")\n",
        "\n",
        "print()\n",
        "print(f\"最適層: {best_depth}, 最適決定木数： {best_num_trees}, 最高予測精度：{best_accuracy}\")\n",
        "\n",
        "# 上記で見つけた最適層・最適決定木数をもとにモデルの構築・モデルのトレーニング\n",
        "rforest_model_cv = ensemble.RandomForestClassifier(max_depth=best_depth, n_estimators=best_num_trees) # ensemble.RandomForestClassifierからRF解析モデルを引っ張ってくる\n",
        "\n",
        "# モデルを再度トレーニングする\n",
        "rforest_model_cv.fit(X_train, y_train) # .fit()がトレーニングデータを使い、モデルをトレーニングしろというコマンド\n",
        "\n",
        "# 再度トレーニングした後のモデルのパフォーマンス検証\n",
        "# テストデータにrforest_modelに.predict()関数を応用し、RFモデルがラベルを何個正確に予測出来たかを検証する\n",
        "y_pred = rforest_model_cv.predict(X_val)\n",
        "\n",
        "#モデルを作成する段階でのモデルの識別精度\n",
        "trainaccuracy_random_forest = rforest_model_cv.score(X_train, y_train)\n",
        "print('TrainAccuracy: {}'.format(trainaccuracy_random_forest))\n",
        "\n",
        "#作成したモデルに学習に使用していない評価用のデータセットを入力し精度を確認\n",
        "accuracy_random_forest = accuracy_score(y_val, y_pred)\n",
        "print('Accuracy: {}'.format(accuracy_random_forest))\n",
        "\n",
        "# 正確性の出力\n",
        "print(classification_report(y_val, y_pred))"
      ],
      "metadata": {
        "colab": {
          "base_uri": "https://localhost:8080/"
        },
        "id": "3soCAvOjDrMB",
        "outputId": "b86084cc-92c3-4a69-9327-794a395b2158"
      },
      "execution_count": 13,
      "outputs": [
        {
          "output_type": "stream",
          "name": "stdout",
          "text": [
            "階層:  1 決定木:  50 cv スコア平均値:  0.6253\n",
            "階層:  2 決定木:  50 cv スコア平均値:  0.6363\n",
            "階層:  3 決定木:  50 cv スコア平均値:  0.6368\n",
            "階層:  4 決定木:  50 cv スコア平均値:  0.6274\n",
            "階層:  5 決定木:  50 cv スコア平均値:  0.6474\n",
            "階層:  6 決定木:  50 cv スコア平均値:  0.6679\n",
            "階層:  7 決定木:  50 cv スコア平均値:  0.6574\n",
            "階層:  8 決定木:  50 cv スコア平均値:  0.6574\n",
            "階層:  9 決定木:  50 cv スコア平均値:  0.6668\n",
            "階層: 10 決定木:  50 cv スコア平均値:  0.6568\n",
            "階層: 11 決定木:  50 cv スコア平均値:  0.6468\n",
            "階層: 12 決定木:  50 cv スコア平均値:  0.6468\n",
            "階層: 13 決定木:  50 cv スコア平均値:  0.6568\n",
            "階層: 14 決定木:  50 cv スコア平均値:  0.6568\n",
            "階層: 15 決定木:  50 cv スコア平均値:  0.6568\n",
            "階層: 16 決定木:  50 cv スコア平均値:  0.6568\n",
            "階層: 17 決定木:  50 cv スコア平均値:  0.6568\n",
            "階層: 18 決定木:  50 cv スコア平均値:  0.6568\n",
            "階層: 19 決定木:  50 cv スコア平均値:  0.6568\n",
            "階層:  1 決定木: 150 cv スコア平均値:  0.5958\n",
            "階層:  2 決定木: 150 cv スコア平均値:  0.6468\n",
            "階層:  3 決定木: 150 cv スコア平均値:  0.6574\n",
            "階層:  4 決定木: 150 cv スコア平均値:  0.6274\n",
            "階層:  5 決定木: 150 cv スコア平均値:  0.6374\n",
            "階層:  6 決定木: 150 cv スコア平均値:  0.6674\n",
            "階層:  7 決定木: 150 cv スコア平均値:  0.6474\n",
            "階層:  8 決定木: 150 cv スコア平均値:  0.6574\n",
            "階層:  9 決定木: 150 cv スコア平均値:  0.6368\n",
            "階層: 10 決定木: 150 cv スコア平均値:  0.6474\n",
            "階層: 11 決定木: 150 cv スコア平均値:  0.6474\n",
            "階層: 12 決定木: 150 cv スコア平均値:  0.6474\n",
            "階層: 13 決定木: 150 cv スコア平均値:  0.6474\n",
            "階層: 14 決定木: 150 cv スコア平均値:  0.6474\n",
            "階層: 15 決定木: 150 cv スコア平均値:  0.6474\n",
            "階層: 16 決定木: 150 cv スコア平均値:  0.6474\n",
            "階層: 17 決定木: 150 cv スコア平均値:  0.6474\n",
            "階層: 18 決定木: 150 cv スコア平均値:  0.6474\n",
            "階層: 19 決定木: 150 cv スコア平均値:  0.6474\n",
            "階層:  1 決定木: 250 cv スコア平均値:  0.6063\n",
            "階層:  2 決定木: 250 cv スコア平均値:  0.5963\n",
            "階層:  3 決定木: 250 cv スコア平均値:  0.6263\n",
            "階層:  4 決定木: 250 cv スコア平均値:  0.6468\n",
            "階層:  5 決定木: 250 cv スコア平均値:  0.6474\n",
            "階層:  6 決定木: 250 cv スコア平均値:  0.6474\n",
            "階層:  7 決定木: 250 cv スコア平均値:  0.6374\n",
            "階層:  8 決定木: 250 cv スコア平均値:  0.6574\n",
            "階層:  9 決定木: 250 cv スコア平均値:  0.6674\n",
            "階層: 10 決定木: 250 cv スコア平均値:  0.6574\n",
            "階層: 11 決定木: 250 cv スコア平均値:  0.6574\n",
            "階層: 12 決定木: 250 cv スコア平均値:  0.6574\n",
            "階層: 13 決定木: 250 cv スコア平均値:  0.6574\n",
            "階層: 14 決定木: 250 cv スコア平均値:  0.6574\n",
            "階層: 15 決定木: 250 cv スコア平均値:  0.6574\n",
            "階層: 16 決定木: 250 cv スコア平均値:  0.6574\n",
            "階層: 17 決定木: 250 cv スコア平均値:  0.6574\n",
            "階層: 18 決定木: 250 cv スコア平均値:  0.6574\n",
            "階層: 19 決定木: 250 cv スコア平均値:  0.6574\n",
            "階層:  1 決定木: 350 cv スコア平均値:  0.6058\n",
            "階層:  2 決定木: 350 cv スコア平均値:  0.5963\n",
            "階層:  3 決定木: 350 cv スコア平均値:  0.6468\n",
            "階層:  4 決定木: 350 cv スコア平均値:  0.6158\n",
            "階層:  5 決定木: 350 cv スコア平均値:  0.6474\n",
            "階層:  6 決定木: 350 cv スコア平均値:  0.6774\n",
            "階層:  7 決定木: 350 cv スコア平均値:  0.6674\n",
            "階層:  8 決定木: 350 cv スコア平均値:  0.6768\n",
            "階層:  9 決定木: 350 cv スコア平均値:  0.6768\n",
            "階層: 10 決定木: 350 cv スコア平均値:  0.6768\n",
            "階層: 11 決定木: 350 cv スコア平均値:  0.6768\n",
            "階層: 12 決定木: 350 cv スコア平均値:  0.6768\n",
            "階層: 13 決定木: 350 cv スコア平均値:  0.6768\n",
            "階層: 14 決定木: 350 cv スコア平均値:  0.6768\n",
            "階層: 15 決定木: 350 cv スコア平均値:  0.6768\n",
            "階層: 16 決定木: 350 cv スコア平均値:  0.6768\n",
            "階層: 17 決定木: 350 cv スコア平均値:  0.6768\n",
            "階層: 18 決定木: 350 cv スコア平均値:  0.6768\n",
            "階層: 19 決定木: 350 cv スコア平均値:  0.6768\n",
            "\n",
            "最適層: 6, 最適決定木数： 350, 最高予測精度：0.6773684210526316\n",
            "TrainAccuracy: 1.0\n",
            "Accuracy: 0.5348837209302325\n",
            "              precision    recall  f1-score   support\n",
            "\n",
            "         0.0       0.74      0.55      0.63        31\n",
            "         1.0       0.30      0.50      0.37        12\n",
            "\n",
            "    accuracy                           0.53        43\n",
            "   macro avg       0.52      0.52      0.50        43\n",
            "weighted avg       0.62      0.53      0.56        43\n",
            "\n"
          ]
        }
      ]
    },
    {
      "cell_type": "markdown",
      "source": [
        "* 適合率(specificity, precision)とは、positiveと分類したデータ(TP + FP)の中で実際にpositiveだったデータ(TP)数の割合であり、この値が高いほど性能が良く、間違った分類が少ないということを意味します。\n",
        "\n",
        "* 再現率(sensitivity, recall)では、取りこぼし無くpositiveなデータを正しくpositiveと推測できているかどうかの指標となります。この値が高いほど性能がよく、間違ったpositiveの判断が少ないということであり、別の言い方をすると本来positiveと推測すべき全てのデータを、うまく推測できたかどうかを示します。\n",
        "\n",
        "* F-MeasureはF値またはF尺度と呼ばれており、適合率と再現率の調和平均を示します。高ければ高いほど、適合率と再現率ともに高くなり、バランスを示す事ができます。\n",
        "\n",
        "また，クラスごとのスコアの下に，複数の平均スコアが表示されていますが，それぞれの意味は以下の通りです．\n",
        "\n",
        "* マイクロ平均 (micro avg) : 各クラスを区別せずに，混同行列全体からスコアを算出．計算結果はいずれも正解率と一致\n",
        "* マクロ平均 (macro avg) : クラスごとに算出されたスコアの単純平均\n",
        "* 重み付き平均 (weighted avg) : クラスごとに算出されたスコアをサンプル数の比率で重み付けした加重平均"
      ],
      "metadata": {
        "id": "_KJg_D2HEHNG"
      }
    },
    {
      "cell_type": "markdown",
      "source": [
        "予測結果を確認していきましょう。\n",
        "\n",
        "混同行列とよばれる，予測の分類結果をまとめた表を作成します．行方向（表側）を正解ラベル，列方向（表頭）を予測ラベルとして，各項目では以下の集計値を求めています．\n",
        "\n",
        "* 左上 : 実際に生存者であるサンプルが，生存者と予測された数\n",
        "* 右上 : 実際に生存者であるサンプルが、死者と予測された数\n",
        "* 左下 : 実際に死者であるサンプルが，生存者と予測された数\n",
        "* 右下 : 実際に死者であるサンプルが，死者と予測された数"
      ],
      "metadata": {
        "id": "shWAJjjOEJG0"
      }
    },
    {
      "cell_type": "code",
      "source": [
        "result = confusion_matrix(y_val, y_pred)\n",
        "print(\"Confusion Matrix:\")\n",
        "#confusion matrix\n",
        "labels = sorted(finalized_df['90day-mortality'].unique())\n",
        "ax = sns.heatmap(\n",
        "confusion_matrix(y_val, y_pred),\n",
        "annot=True,\n",
        "xticklabels=labels,\n",
        "yticklabels=labels\n",
        ")\n",
        "ax.set(xlabel='true label', ylabel='predicted label')"
      ],
      "metadata": {
        "colab": {
          "base_uri": "https://localhost:8080/",
          "height": 321
        },
        "id": "0b400zeREKqg",
        "outputId": "84912f83-5ef0-4d3f-fff7-f8240cafba07"
      },
      "execution_count": 14,
      "outputs": [
        {
          "output_type": "stream",
          "name": "stdout",
          "text": [
            "Confusion Matrix:\n"
          ]
        },
        {
          "output_type": "execute_result",
          "data": {
            "text/plain": [
              "[Text(30.5, 0.5, 'predicted label'), Text(0.5, 12.5, 'true label')]"
            ]
          },
          "metadata": {},
          "execution_count": 14
        },
        {
          "output_type": "display_data",
          "data": {
            "text/plain": [
              "<Figure size 432x288 with 2 Axes>"
            ],
            "image/png": "[encoded data removed]"
          },
          "metadata": {
            "needs_background": "light"
          }
        }
      ]
    },
    {
      "cell_type": "markdown",
      "source": [
        "サンプル数が多い生存者に対する予測スコアは高い値を示す一方で，サンプル数の少ない死者に対しては，スコアが低くなる傾向があります．今回のデータセットのように，サンプルが占めるクラスの割合が極端に偏っている不均衡データでは，こうした傾向が観測されることが知られています．\n"
      ],
      "metadata": {
        "id": "ujDYTJQzEOkv"
      }
    },
    {
      "cell_type": "markdown",
      "source": [
        "#### Optuna"
      ],
      "metadata": {
        "id": "uAis8mf4PiDw"
      }
    },
    {
      "cell_type": "markdown",
      "source": [
        "OptunaとはPreferred Networks社が出しているハイパーパラメータ自動化ツールです。Tree-structured Parzen Estimator というベイズ最適化アルゴリズムの一種を用いていて有望そうなハイパーパレメーターを正確に特定できます。\n",
        "objective()というOptunaの目的関数を設定する関数でRandomForestClassifierのパラメーターを設定しています。\n",
        "RandomForestClassifier()のパラメーターについて：\n",
        "1.   criterion - 評価基準 (ジニ係数またはエントロピー)\n",
        "2.   bootstrap - 決定木構築の際にブートストラップサンプルを使用するかどうか\n",
        "3.   max_depth - 先のn_estimatorsで指定した決定木／回帰木の深さの指定\n",
        "4.   max_features - 個々の決定木に、どれくらいの特徴量を使用するかを、表します\n",
        "5.   max_leaf_nodes - 決定木をベスト・ファーストの方法で成長させる\n",
        "6.   n_estimators - ベースとして利用する決定木／回帰木の数\n",
        "7.   min_samples_split - 子ノードを分割するために必要なサンプルの最小数\n",
        "8.   min_samples_leaf - リーフノードにある必要があるサンプルの最小数\n",
        "\n",
        "詳しくはこちらを参照して下さい [[3](https://scikit-learn.org/stable/modules/generated/sklearn.ensemble.RandomForestClassifier.html)]。\n",
        "\n",
        "\n"
      ],
      "metadata": {
        "id": "cFaRncCyPi7f"
      }
    },
    {
      "cell_type": "code",
      "source": [
        "def objective(trial):\n",
        "  criterion = trial.suggest_categorical('criterion', ['gini', 'entropy'])\n",
        "  bootstrap = trial.suggest_categorical('bootstrap',['True','False'])\n",
        "  max_depth = trial.suggest_int('max_depth', 1, 1000)\n",
        "  max_features = trial.suggest_categorical('max_features', ['auto', 'sqrt','log2'])\n",
        "  max_leaf_nodes = trial.suggest_int('max_leaf_nodes', 1,1000)\n",
        "  n_estimators =  trial.suggest_int('n_estimators', 1, 1000)\n",
        "  min_samples_split = trial.suggest_int('min_samples_split',2,5)\n",
        "  min_samples_leaf = trial.suggest_int('min_samples_leaf',1,10)\n",
        "\n",
        "  regr = ensemble.RandomForestClassifier(\n",
        "      bootstrap = bootstrap, criterion = criterion,\n",
        "      max_depth = max_depth, max_features = max_features,\n",
        "      max_leaf_nodes = max_leaf_nodes,n_estimators = n_estimators,\n",
        "      min_samples_split = min_samples_split,min_samples_leaf = min_samples_leaf,\n",
        "      n_jobs=2)\n",
        "\n",
        "  score = cross_val_score(regr, X_train_op, y_train_op, cv=5, scoring=\"r2\")\n",
        "  r2_mean = score.mean()\n",
        "  return r2_mean\n",
        "\n",
        "study = optuna.create_study(direction='maximize')\n",
        "study.optimize(objective, n_trials=100)\n",
        "\n",
        "trial = study.best_trial\n",
        "print('Accuracy: {}'.format(trial.value))\n",
        "\n",
        "# チューニングしたハイパーパラメーターをフィット\n",
        "rforest_model_post_optuna = ensemble.RandomForestClassifier(bootstrap = trial.params['bootstrap'], criterion = trial.params['criterion'],\n",
        "                                     max_depth = trial.params['max_depth'], max_features = trial.params['max_features'],\n",
        "                                     max_leaf_nodes = trial.params['max_leaf_nodes'],n_estimators = trial.params['n_estimators'],\n",
        "                                     min_samples_split = trial.params['min_samples_split'],min_samples_leaf = trial.params['min_samples_leaf'],                                     \n",
        "                                     n_jobs=2)\n",
        "\n",
        "# モデルを再度トレーニングする\n",
        "rforest_model_post_optuna.fit(X_train_op, y_train_op) \n",
        "\n",
        "# 再度トレーニングした後のモデルのパフォーマンス検証\n",
        "# テストデータにrforest_modelに.predict()関数を応用し、RFモデルがラベルを何個正確に予測出来たかを検証する\n",
        "y_pred_op = rforest_model_post_optuna.predict(X_val_op)\n",
        "\n",
        "#モデルを作成する段階でのモデルの識別精度\n",
        "trainaccuracy_random_forest_op = rforest_model_post_optuna.score(X_train_op, y_train_op)\n",
        "print('TrainAccuracy: {}'.format(trainaccuracy_random_forest_op))\n",
        "\n",
        "#作成したモデルに学習に使用していない評価用のデータセットを入力し精度を確認\n",
        "accuracy_random_forest_op = accuracy_score(y_val_op, y_pred_op)\n",
        "print('Accuracy: {}'.format(accuracy_random_forest_op))\n",
        "\n",
        "# 正確性の出力\n",
        "print(classification_report(y_val_op, y_pred_op))\n"
      ],
      "metadata": {
        "colab": {
          "base_uri": "https://localhost:8080/"
        },
        "id": "LmKR_hFZPnJu",
        "outputId": "137bbeed-a0dc-4867-c12a-619ca9a52c87"
      },
      "execution_count": 15,
      "outputs": [
        {
          "output_type": "stream",
          "name": "stderr",
          "text": [
            "\u001b[32m[I 2022-09-19 22:08:09,077]\u001b[0m A new study created in memory with name: no-name-cf955814-d4a3-4403-a373-269eb42dad1b\u001b[0m\n",
            "\u001b[32m[I 2022-09-19 22:08:17,868]\u001b[0m Trial 0 finished with value: -0.5090909090909088 and parameters: {'criterion': 'entropy', 'bootstrap': 'True', 'max_depth': 918, 'max_features': 'sqrt', 'max_leaf_nodes': 31, 'n_estimators': 911, 'min_samples_split': 4, 'min_samples_leaf': 3}. Best is trial 0 with value: -0.5090909090909088.\u001b[0m\n",
            "\u001b[32m[I 2022-09-19 22:08:25,697]\u001b[0m Trial 1 finished with value: -0.5507575757575756 and parameters: {'criterion': 'entropy', 'bootstrap': 'True', 'max_depth': 608, 'max_features': 'sqrt', 'max_leaf_nodes': 118, 'n_estimators': 819, 'min_samples_split': 4, 'min_samples_leaf': 10}. Best is trial 0 with value: -0.5090909090909088.\u001b[0m\n",
            "\u001b[32m[I 2022-09-19 22:08:35,206]\u001b[0m Trial 2 finished with value: -0.5507575757575756 and parameters: {'criterion': 'entropy', 'bootstrap': 'True', 'max_depth': 546, 'max_features': 'auto', 'max_leaf_nodes': 690, 'n_estimators': 986, 'min_samples_split': 3, 'min_samples_leaf': 1}. Best is trial 0 with value: -0.5090909090909088.\u001b[0m\n",
            "\u001b[32m[I 2022-09-19 22:08:42,211]\u001b[0m Trial 3 finished with value: -0.46742424242424213 and parameters: {'criterion': 'gini', 'bootstrap': 'False', 'max_depth': 167, 'max_features': 'sqrt', 'max_leaf_nodes': 849, 'n_estimators': 705, 'min_samples_split': 5, 'min_samples_leaf': 3}. Best is trial 3 with value: -0.46742424242424213.\u001b[0m\n",
            "\u001b[32m[I 2022-09-19 22:08:43,124]\u001b[0m Trial 4 finished with value: -0.4674242424242422 and parameters: {'criterion': 'entropy', 'bootstrap': 'False', 'max_depth': 393, 'max_features': 'auto', 'max_leaf_nodes': 791, 'n_estimators': 22, 'min_samples_split': 3, 'min_samples_leaf': 2}. Best is trial 3 with value: -0.46742424242424213.\u001b[0m\n",
            "\u001b[32m[I 2022-09-19 22:08:51,877]\u001b[0m Trial 5 finished with value: -0.5106060606060603 and parameters: {'criterion': 'gini', 'bootstrap': 'True', 'max_depth': 49, 'max_features': 'auto', 'max_leaf_nodes': 562, 'n_estimators': 942, 'min_samples_split': 5, 'min_samples_leaf': 6}. Best is trial 3 with value: -0.46742424242424213.\u001b[0m\n",
            "\u001b[32m[I 2022-09-19 22:08:59,183]\u001b[0m Trial 6 finished with value: -0.5090909090909088 and parameters: {'criterion': 'gini', 'bootstrap': 'False', 'max_depth': 944, 'max_features': 'auto', 'max_leaf_nodes': 893, 'n_estimators': 773, 'min_samples_split': 5, 'min_samples_leaf': 5}. Best is trial 3 with value: -0.46742424242424213.\u001b[0m\n",
            "\u001b[32m[I 2022-09-19 22:09:03,843]\u001b[0m Trial 7 finished with value: -0.424242424242424 and parameters: {'criterion': 'entropy', 'bootstrap': 'False', 'max_depth': 618, 'max_features': 'sqrt', 'max_leaf_nodes': 205, 'n_estimators': 459, 'min_samples_split': 4, 'min_samples_leaf': 5}. Best is trial 7 with value: -0.424242424242424.\u001b[0m\n",
            "\u001b[32m[I 2022-09-19 22:09:12,376]\u001b[0m Trial 8 finished with value: -0.42424242424242403 and parameters: {'criterion': 'entropy', 'bootstrap': 'True', 'max_depth': 618, 'max_features': 'log2', 'max_leaf_nodes': 758, 'n_estimators': 904, 'min_samples_split': 2, 'min_samples_leaf': 5}. Best is trial 7 with value: -0.424242424242424.\u001b[0m\n",
            "\u001b[32m[I 2022-09-19 22:09:16,569]\u001b[0m Trial 9 finished with value: -0.46742424242424213 and parameters: {'criterion': 'gini', 'bootstrap': 'False', 'max_depth': 112, 'max_features': 'sqrt', 'max_leaf_nodes': 380, 'n_estimators': 402, 'min_samples_split': 2, 'min_samples_leaf': 9}. Best is trial 7 with value: -0.424242424242424.\u001b[0m\n",
            "\u001b[32m[I 2022-09-19 22:09:22,126]\u001b[0m Trial 10 finished with value: -0.5106060606060603 and parameters: {'criterion': 'entropy', 'bootstrap': 'False', 'max_depth': 788, 'max_features': 'log2', 'max_leaf_nodes': 287, 'n_estimators': 351, 'min_samples_split': 4, 'min_samples_leaf': 7}. Best is trial 7 with value: -0.424242424242424.\u001b[0m\n",
            "\u001b[32m[I 2022-09-19 22:09:34,440]\u001b[0m Trial 11 finished with value: -0.5939393939393937 and parameters: {'criterion': 'entropy', 'bootstrap': 'True', 'max_depth': 692, 'max_features': 'log2', 'max_leaf_nodes': 563, 'n_estimators': 600, 'min_samples_split': 2, 'min_samples_leaf': 5}. Best is trial 7 with value: -0.424242424242424.\u001b[0m\n",
            "\u001b[32m[I 2022-09-19 22:09:41,399]\u001b[0m Trial 12 finished with value: -0.46742424242424213 and parameters: {'criterion': 'entropy', 'bootstrap': 'False', 'max_depth': 432, 'max_features': 'log2', 'max_leaf_nodes': 219, 'n_estimators': 255, 'min_samples_split': 3, 'min_samples_leaf': 7}. Best is trial 7 with value: -0.424242424242424.\u001b[0m\n",
            "\u001b[32m[I 2022-09-19 22:09:48,114]\u001b[0m Trial 13 finished with value: -0.46590909090909066 and parameters: {'criterion': 'entropy', 'bootstrap': 'True', 'max_depth': 311, 'max_features': 'log2', 'max_leaf_nodes': 444, 'n_estimators': 554, 'min_samples_split': 2, 'min_samples_leaf': 4}. Best is trial 7 with value: -0.424242424242424.\u001b[0m\n",
            "\u001b[32m[I 2022-09-19 22:09:50,666]\u001b[0m Trial 14 finished with value: -0.424242424242424 and parameters: {'criterion': 'entropy', 'bootstrap': 'False', 'max_depth': 724, 'max_features': 'log2', 'max_leaf_nodes': 677, 'n_estimators': 181, 'min_samples_split': 3, 'min_samples_leaf': 7}. Best is trial 7 with value: -0.424242424242424.\u001b[0m\n",
            "\u001b[32m[I 2022-09-19 22:09:52,905]\u001b[0m Trial 15 finished with value: -0.42575757575757545 and parameters: {'criterion': 'entropy', 'bootstrap': 'False', 'max_depth': 795, 'max_features': 'sqrt', 'max_leaf_nodes': 997, 'n_estimators': 148, 'min_samples_split': 4, 'min_samples_leaf': 8}. Best is trial 7 with value: -0.424242424242424.\u001b[0m\n",
            "\u001b[32m[I 2022-09-19 22:09:55,313]\u001b[0m Trial 16 finished with value: -0.46590909090909066 and parameters: {'criterion': 'entropy', 'bootstrap': 'False', 'max_depth': 760, 'max_features': 'log2', 'max_leaf_nodes': 649, 'n_estimators': 190, 'min_samples_split': 3, 'min_samples_leaf': 7}. Best is trial 7 with value: -0.424242424242424.\u001b[0m\n",
            "\u001b[32m[I 2022-09-19 22:10:01,833]\u001b[0m Trial 17 finished with value: -0.5507575757575756 and parameters: {'criterion': 'entropy', 'bootstrap': 'False', 'max_depth': 487, 'max_features': 'sqrt', 'max_leaf_nodes': 346, 'n_estimators': 438, 'min_samples_split': 4, 'min_samples_leaf': 9}. Best is trial 7 with value: -0.424242424242424.\u001b[0m\n",
            "\u001b[32m[I 2022-09-19 22:10:03,465]\u001b[0m Trial 18 finished with value: -0.5537878787878785 and parameters: {'criterion': 'gini', 'bootstrap': 'False', 'max_depth': 999, 'max_features': 'log2', 'max_leaf_nodes': 184, 'n_estimators': 16, 'min_samples_split': 3, 'min_samples_leaf': 6}. Best is trial 7 with value: -0.424242424242424.\u001b[0m\n",
            "\u001b[32m[I 2022-09-19 22:10:08,609]\u001b[0m Trial 19 finished with value: -0.4257575757575755 and parameters: {'criterion': 'entropy', 'bootstrap': 'False', 'max_depth': 285, 'max_features': 'sqrt', 'max_leaf_nodes': 4, 'n_estimators': 262, 'min_samples_split': 4, 'min_samples_leaf': 4}. Best is trial 7 with value: -0.424242424242424.\u001b[0m\n",
            "\u001b[32m[I 2022-09-19 22:10:13,360]\u001b[0m Trial 20 finished with value: -0.4257575757575755 and parameters: {'criterion': 'entropy', 'bootstrap': 'False', 'max_depth': 856, 'max_features': 'sqrt', 'max_leaf_nodes': 526, 'n_estimators': 481, 'min_samples_split': 3, 'min_samples_leaf': 8}. Best is trial 7 with value: -0.424242424242424.\u001b[0m\n",
            "\u001b[32m[I 2022-09-19 22:10:20,237]\u001b[0m Trial 21 finished with value: -0.4659090909090907 and parameters: {'criterion': 'entropy', 'bootstrap': 'True', 'max_depth': 635, 'max_features': 'log2', 'max_leaf_nodes': 718, 'n_estimators': 660, 'min_samples_split': 2, 'min_samples_leaf': 4}. Best is trial 7 with value: -0.424242424242424.\u001b[0m\n",
            "\u001b[32m[I 2022-09-19 22:10:24,048]\u001b[0m Trial 22 finished with value: -0.38409090909090887 and parameters: {'criterion': 'entropy', 'bootstrap': 'True', 'max_depth': 682, 'max_features': 'log2', 'max_leaf_nodes': 624, 'n_estimators': 336, 'min_samples_split': 2, 'min_samples_leaf': 6}. Best is trial 22 with value: -0.38409090909090887.\u001b[0m\n",
            "\u001b[32m[I 2022-09-19 22:10:27,810]\u001b[0m Trial 23 finished with value: -0.29924242424242403 and parameters: {'criterion': 'entropy', 'bootstrap': 'True', 'max_depth': 701, 'max_features': 'log2', 'max_leaf_nodes': 620, 'n_estimators': 342, 'min_samples_split': 2, 'min_samples_leaf': 6}. Best is trial 23 with value: -0.29924242424242403.\u001b[0m\n",
            "\u001b[32m[I 2022-09-19 22:10:31,516]\u001b[0m Trial 24 finished with value: -0.5106060606060603 and parameters: {'criterion': 'entropy', 'bootstrap': 'True', 'max_depth': 533, 'max_features': 'log2', 'max_leaf_nodes': 464, 'n_estimators': 330, 'min_samples_split': 2, 'min_samples_leaf': 6}. Best is trial 23 with value: -0.29924242424242403.\u001b[0m\n",
            "\u001b[32m[I 2022-09-19 22:10:36,880]\u001b[0m Trial 25 finished with value: -0.424242424242424 and parameters: {'criterion': 'entropy', 'bootstrap': 'True', 'max_depth': 680, 'max_features': 'log2', 'max_leaf_nodes': 604, 'n_estimators': 521, 'min_samples_split': 2, 'min_samples_leaf': 5}. Best is trial 23 with value: -0.29924242424242403.\u001b[0m\n",
            "\u001b[32m[I 2022-09-19 22:10:42,608]\u001b[0m Trial 26 finished with value: -0.5939393939393937 and parameters: {'criterion': 'gini', 'bootstrap': 'True', 'max_depth': 830, 'max_features': 'log2', 'max_leaf_nodes': 621, 'n_estimators': 538, 'min_samples_split': 2, 'min_samples_leaf': 6}. Best is trial 23 with value: -0.29924242424242403.\u001b[0m\n",
            "\u001b[32m[I 2022-09-19 22:10:46,445]\u001b[0m Trial 27 finished with value: -0.424242424242424 and parameters: {'criterion': 'entropy', 'bootstrap': 'True', 'max_depth': 596, 'max_features': 'sqrt', 'max_leaf_nodes': 445, 'n_estimators': 352, 'min_samples_split': 5, 'min_samples_leaf': 3}. Best is trial 23 with value: -0.29924242424242403.\u001b[0m\n",
            "\u001b[32m[I 2022-09-19 22:10:50,246]\u001b[0m Trial 28 finished with value: -0.5090909090909088 and parameters: {'criterion': 'entropy', 'bootstrap': 'True', 'max_depth': 481, 'max_features': 'auto', 'max_leaf_nodes': 410, 'n_estimators': 339, 'min_samples_split': 5, 'min_samples_leaf': 1}. Best is trial 23 with value: -0.29924242424242403.\u001b[0m\n",
            "\u001b[32m[I 2022-09-19 22:10:51,750]\u001b[0m Trial 29 finished with value: -0.424242424242424 and parameters: {'criterion': 'entropy', 'bootstrap': 'True', 'max_depth': 735, 'max_features': 'log2', 'max_leaf_nodes': 855, 'n_estimators': 92, 'min_samples_split': 3, 'min_samples_leaf': 8}. Best is trial 23 with value: -0.29924242424242403.\u001b[0m\n",
            "\u001b[32m[I 2022-09-19 22:10:54,839]\u001b[0m Trial 30 finished with value: -0.552272727272727 and parameters: {'criterion': 'entropy', 'bootstrap': 'True', 'max_depth': 866, 'max_features': 'log2', 'max_leaf_nodes': 700, 'n_estimators': 244, 'min_samples_split': 2, 'min_samples_leaf': 7}. Best is trial 23 with value: -0.29924242424242403.\u001b[0m\n",
            "\u001b[32m[I 2022-09-19 22:10:56,532]\u001b[0m Trial 31 finished with value: -0.4643939393939392 and parameters: {'criterion': 'entropy', 'bootstrap': 'True', 'max_depth': 717, 'max_features': 'log2', 'max_leaf_nodes': 967, 'n_estimators': 83, 'min_samples_split': 3, 'min_samples_leaf': 8}. Best is trial 23 with value: -0.29924242424242403.\u001b[0m\n",
            "\u001b[32m[I 2022-09-19 22:10:58,381]\u001b[0m Trial 32 finished with value: -0.5106060606060604 and parameters: {'criterion': 'entropy', 'bootstrap': 'True', 'max_depth': 666, 'max_features': 'log2', 'max_leaf_nodes': 496, 'n_estimators': 108, 'min_samples_split': 2, 'min_samples_leaf': 3}. Best is trial 23 with value: -0.29924242424242403.\u001b[0m\n",
            "\u001b[32m[I 2022-09-19 22:11:00,817]\u001b[0m Trial 33 finished with value: -0.552272727272727 and parameters: {'criterion': 'entropy', 'bootstrap': 'True', 'max_depth': 737, 'max_features': 'log2', 'max_leaf_nodes': 805, 'n_estimators': 196, 'min_samples_split': 3, 'min_samples_leaf': 10}. Best is trial 23 with value: -0.29924242424242403.\u001b[0m\n",
            "\u001b[32m[I 2022-09-19 22:11:02,429]\u001b[0m Trial 34 finished with value: -0.5075757575757573 and parameters: {'criterion': 'entropy', 'bootstrap': 'True', 'max_depth': 925, 'max_features': 'log2', 'max_leaf_nodes': 907, 'n_estimators': 79, 'min_samples_split': 3, 'min_samples_leaf': 9}. Best is trial 23 with value: -0.29924242424242403.\u001b[0m\n",
            "\u001b[32m[I 2022-09-19 22:11:06,810]\u001b[0m Trial 35 finished with value: -0.5507575757575756 and parameters: {'criterion': 'entropy', 'bootstrap': 'True', 'max_depth': 554, 'max_features': 'log2', 'max_leaf_nodes': 605, 'n_estimators': 408, 'min_samples_split': 2, 'min_samples_leaf': 4}. Best is trial 23 with value: -0.29924242424242403.\u001b[0m\n",
            "\u001b[32m[I 2022-09-19 22:11:10,404]\u001b[0m Trial 36 finished with value: -0.3825757575757574 and parameters: {'criterion': 'entropy', 'bootstrap': 'True', 'max_depth': 578, 'max_features': 'sqrt', 'max_leaf_nodes': 168, 'n_estimators': 305, 'min_samples_split': 5, 'min_samples_leaf': 2}. Best is trial 23 with value: -0.29924242424242403.\u001b[0m\n",
            "\u001b[32m[I 2022-09-19 22:11:13,874]\u001b[0m Trial 37 finished with value: -0.4257575757575755 and parameters: {'criterion': 'gini', 'bootstrap': 'True', 'max_depth': 556, 'max_features': 'auto', 'max_leaf_nodes': 60, 'n_estimators': 281, 'min_samples_split': 5, 'min_samples_leaf': 2}. Best is trial 23 with value: -0.29924242424242403.\u001b[0m\n",
            "\u001b[32m[I 2022-09-19 22:11:16,472]\u001b[0m Trial 38 finished with value: -0.424242424242424 and parameters: {'criterion': 'entropy', 'bootstrap': 'True', 'max_depth': 392, 'max_features': 'sqrt', 'max_leaf_nodes': 668, 'n_estimators': 186, 'min_samples_split': 3, 'min_samples_leaf': 6}. Best is trial 23 with value: -0.29924242424242403.\u001b[0m\n",
            "\u001b[32m[I 2022-09-19 22:11:19,784]\u001b[0m Trial 39 finished with value: -0.5090909090909088 and parameters: {'criterion': 'gini', 'bootstrap': 'True', 'max_depth': 369, 'max_features': 'sqrt', 'max_leaf_nodes': 747, 'n_estimators': 295, 'min_samples_split': 4, 'min_samples_leaf': 6}. Best is trial 23 with value: -0.29924242424242403.\u001b[0m\n",
            "\u001b[32m[I 2022-09-19 22:11:24,848]\u001b[0m Trial 40 finished with value: -0.4689393939393936 and parameters: {'criterion': 'entropy', 'bootstrap': 'True', 'max_depth': 287, 'max_features': 'sqrt', 'max_leaf_nodes': 536, 'n_estimators': 410, 'min_samples_split': 2, 'min_samples_leaf': 1}. Best is trial 23 with value: -0.29924242424242403.\u001b[0m\n",
            "\u001b[32m[I 2022-09-19 22:11:26,718]\u001b[0m Trial 41 finished with value: -0.424242424242424 and parameters: {'criterion': 'entropy', 'bootstrap': 'True', 'max_depth': 433, 'max_features': 'sqrt', 'max_leaf_nodes': 844, 'n_estimators': 125, 'min_samples_split': 3, 'min_samples_leaf': 6}. Best is trial 23 with value: -0.29924242424242403.\u001b[0m\n",
            "\u001b[32m[I 2022-09-19 22:11:29,451]\u001b[0m Trial 42 finished with value: -0.3393939393939392 and parameters: {'criterion': 'entropy', 'bootstrap': 'True', 'max_depth': 431, 'max_features': 'sqrt', 'max_leaf_nodes': 821, 'n_estimators': 210, 'min_samples_split': 3, 'min_samples_leaf': 6}. Best is trial 23 with value: -0.29924242424242403.\u001b[0m\n",
            "\u001b[32m[I 2022-09-19 22:11:32,371]\u001b[0m Trial 43 finished with value: -0.5507575757575756 and parameters: {'criterion': 'entropy', 'bootstrap': 'True', 'max_depth': 597, 'max_features': 'auto', 'max_leaf_nodes': 781, 'n_estimators': 220, 'min_samples_split': 3, 'min_samples_leaf': 7}. Best is trial 23 with value: -0.29924242424242403.\u001b[0m\n",
            "\u001b[32m[I 2022-09-19 22:11:36,253]\u001b[0m Trial 44 finished with value: -0.3840909090909088 and parameters: {'criterion': 'entropy', 'bootstrap': 'True', 'max_depth': 586, 'max_features': 'sqrt', 'max_leaf_nodes': 301, 'n_estimators': 344, 'min_samples_split': 5, 'min_samples_leaf': 2}. Best is trial 23 with value: -0.29924242424242403.\u001b[0m\n",
            "\u001b[32m[I 2022-09-19 22:11:40,373]\u001b[0m Trial 45 finished with value: -0.5090909090909089 and parameters: {'criterion': 'entropy', 'bootstrap': 'True', 'max_depth': 505, 'max_features': 'sqrt', 'max_leaf_nodes': 124, 'n_estimators': 395, 'min_samples_split': 5, 'min_samples_leaf': 2}. Best is trial 23 with value: -0.29924242424242403.\u001b[0m\n",
            "\u001b[32m[I 2022-09-19 22:11:45,829]\u001b[0m Trial 46 finished with value: -0.5090909090909089 and parameters: {'criterion': 'entropy', 'bootstrap': 'True', 'max_depth': 229, 'max_features': 'sqrt', 'max_leaf_nodes': 313, 'n_estimators': 310, 'min_samples_split': 5, 'min_samples_leaf': 2}. Best is trial 23 with value: -0.29924242424242403.\u001b[0m\n",
            "\u001b[32m[I 2022-09-19 22:11:50,659]\u001b[0m Trial 47 finished with value: -0.5090909090909089 and parameters: {'criterion': 'gini', 'bootstrap': 'True', 'max_depth': 634, 'max_features': 'sqrt', 'max_leaf_nodes': 133, 'n_estimators': 370, 'min_samples_split': 5, 'min_samples_leaf': 5}. Best is trial 23 with value: -0.29924242424242403.\u001b[0m\n",
            "\u001b[32m[I 2022-09-19 22:11:55,507]\u001b[0m Trial 48 finished with value: -0.5507575757575756 and parameters: {'criterion': 'entropy', 'bootstrap': 'True', 'max_depth': 661, 'max_features': 'sqrt', 'max_leaf_nodes': 267, 'n_estimators': 467, 'min_samples_split': 5, 'min_samples_leaf': 3}. Best is trial 23 with value: -0.29924242424242403.\u001b[0m\n",
            "\u001b[32m[I 2022-09-19 22:12:01,622]\u001b[0m Trial 49 finished with value: -0.552272727272727 and parameters: {'criterion': 'entropy', 'bootstrap': 'True', 'max_depth': 444, 'max_features': 'sqrt', 'max_leaf_nodes': 78, 'n_estimators': 577, 'min_samples_split': 4, 'min_samples_leaf': 1}. Best is trial 23 with value: -0.29924242424242403.\u001b[0m\n",
            "\u001b[32m[I 2022-09-19 22:12:05,409]\u001b[0m Trial 50 finished with value: -0.5090909090909089 and parameters: {'criterion': 'entropy', 'bootstrap': 'True', 'max_depth': 573, 'max_features': 'sqrt', 'max_leaf_nodes': 168, 'n_estimators': 229, 'min_samples_split': 4, 'min_samples_leaf': 3}. Best is trial 23 with value: -0.29924242424242403.\u001b[0m\n",
            "\u001b[32m[I 2022-09-19 22:12:10,655]\u001b[0m Trial 51 finished with value: -0.424242424242424 and parameters: {'criterion': 'entropy', 'bootstrap': 'True', 'max_depth': 687, 'max_features': 'auto', 'max_leaf_nodes': 579, 'n_estimators': 496, 'min_samples_split': 2, 'min_samples_leaf': 5}. Best is trial 23 with value: -0.29924242424242403.\u001b[0m\n",
            "\u001b[32m[I 2022-09-19 22:12:18,670]\u001b[0m Trial 52 finished with value: -0.38257575757575735 and parameters: {'criterion': 'entropy', 'bootstrap': 'True', 'max_depth': 785, 'max_features': 'log2', 'max_leaf_nodes': 633, 'n_estimators': 796, 'min_samples_split': 2, 'min_samples_leaf': 5}. Best is trial 23 with value: -0.29924242424242403.\u001b[0m\n",
            "\u001b[32m[I 2022-09-19 22:12:26,178]\u001b[0m Trial 53 finished with value: -0.552272727272727 and parameters: {'criterion': 'entropy', 'bootstrap': 'True', 'max_depth': 788, 'max_features': 'sqrt', 'max_leaf_nodes': 246, 'n_estimators': 769, 'min_samples_split': 2, 'min_samples_leaf': 2}. Best is trial 23 with value: -0.29924242424242403.\u001b[0m\n",
            "\u001b[32m[I 2022-09-19 22:12:35,671]\u001b[0m Trial 54 finished with value: -0.38257575757575735 and parameters: {'criterion': 'entropy', 'bootstrap': 'True', 'max_depth': 821, 'max_features': 'log2', 'max_leaf_nodes': 638, 'n_estimators': 984, 'min_samples_split': 2, 'min_samples_leaf': 4}. Best is trial 23 with value: -0.29924242424242403.\u001b[0m\n",
            "\u001b[32m[I 2022-09-19 22:12:44,110]\u001b[0m Trial 55 finished with value: -0.5090909090909088 and parameters: {'criterion': 'entropy', 'bootstrap': 'True', 'max_depth': 868, 'max_features': 'sqrt', 'max_leaf_nodes': 370, 'n_estimators': 900, 'min_samples_split': 2, 'min_samples_leaf': 4}. Best is trial 23 with value: -0.29924242424242403.\u001b[0m\n",
            "\u001b[32m[I 2022-09-19 22:12:53,105]\u001b[0m Trial 56 finished with value: -0.5924242424242421 and parameters: {'criterion': 'entropy', 'bootstrap': 'True', 'max_depth': 806, 'max_features': 'log2', 'max_leaf_nodes': 742, 'n_estimators': 942, 'min_samples_split': 2, 'min_samples_leaf': 5}. Best is trial 23 with value: -0.29924242424242403.\u001b[0m\n",
            "\u001b[32m[I 2022-09-19 22:13:01,222]\u001b[0m Trial 57 finished with value: -0.424242424242424 and parameters: {'criterion': 'entropy', 'bootstrap': 'True', 'max_depth': 763, 'max_features': 'sqrt', 'max_leaf_nodes': 506, 'n_estimators': 826, 'min_samples_split': 5, 'min_samples_leaf': 4}. Best is trial 23 with value: -0.29924242424242403.\u001b[0m\n",
            "\u001b[32m[I 2022-09-19 22:13:08,255]\u001b[0m Trial 58 finished with value: -0.4257575757575755 and parameters: {'criterion': 'gini', 'bootstrap': 'True', 'max_depth': 911, 'max_features': 'log2', 'max_leaf_nodes': 642, 'n_estimators': 704, 'min_samples_split': 2, 'min_samples_leaf': 2}. Best is trial 23 with value: -0.29924242424242403.\u001b[0m\n",
            "\u001b[32m[I 2022-09-19 22:13:17,561]\u001b[0m Trial 59 finished with value: -0.5075757575757573 and parameters: {'criterion': 'entropy', 'bootstrap': 'True', 'max_depth': 505, 'max_features': 'log2', 'max_leaf_nodes': 565, 'n_estimators': 988, 'min_samples_split': 2, 'min_samples_leaf': 5}. Best is trial 23 with value: -0.29924242424242403.\u001b[0m\n",
            "\u001b[32m[I 2022-09-19 22:13:25,441]\u001b[0m Trial 60 finished with value: -0.5090909090909088 and parameters: {'criterion': 'entropy', 'bootstrap': 'True', 'max_depth': 827, 'max_features': 'sqrt', 'max_leaf_nodes': 410, 'n_estimators': 807, 'min_samples_split': 4, 'min_samples_leaf': 4}. Best is trial 23 with value: -0.29924242424242403.\u001b[0m\n",
            "\u001b[32m[I 2022-09-19 22:13:30,182]\u001b[0m Trial 61 finished with value: -0.4257575757575755 and parameters: {'criterion': 'entropy', 'bootstrap': 'True', 'max_depth': 646, 'max_features': 'log2', 'max_leaf_nodes': 677, 'n_estimators': 443, 'min_samples_split': 2, 'min_samples_leaf': 6}. Best is trial 23 with value: -0.29924242424242403.\u001b[0m\n",
            "\u001b[32m[I 2022-09-19 22:13:41,935]\u001b[0m Trial 62 finished with value: -0.5106060606060603 and parameters: {'criterion': 'entropy', 'bootstrap': 'True', 'max_depth': 717, 'max_features': 'log2', 'max_leaf_nodes': 718, 'n_estimators': 649, 'min_samples_split': 2, 'min_samples_leaf': 7}. Best is trial 23 with value: -0.29924242424242403.\u001b[0m\n",
            "\u001b[32m[I 2022-09-19 22:14:01,697]\u001b[0m Trial 63 finished with value: -0.38257575757575735 and parameters: {'criterion': 'entropy', 'bootstrap': 'True', 'max_depth': 345, 'max_features': 'log2', 'max_leaf_nodes': 651, 'n_estimators': 880, 'min_samples_split': 2, 'min_samples_leaf': 5}. Best is trial 23 with value: -0.29924242424242403.\u001b[0m\n",
            "\u001b[32m[I 2022-09-19 22:14:11,654]\u001b[0m Trial 64 finished with value: -0.5075757575757573 and parameters: {'criterion': 'entropy', 'bootstrap': 'True', 'max_depth': 148, 'max_features': 'log2', 'max_leaf_nodes': 588, 'n_estimators': 942, 'min_samples_split': 2, 'min_samples_leaf': 5}. Best is trial 23 with value: -0.29924242424242403.\u001b[0m\n",
            "\u001b[32m[I 2022-09-19 22:14:23,570]\u001b[0m Trial 65 finished with value: -0.46742424242424213 and parameters: {'criterion': 'entropy', 'bootstrap': 'True', 'max_depth': 304, 'max_features': 'log2', 'max_leaf_nodes': 645, 'n_estimators': 849, 'min_samples_split': 2, 'min_samples_leaf': 3}. Best is trial 23 with value: -0.29924242424242403.\u001b[0m\n",
            "\u001b[32m[I 2022-09-19 22:14:33,294]\u001b[0m Trial 66 finished with value: -0.424242424242424 and parameters: {'criterion': 'entropy', 'bootstrap': 'False', 'max_depth': 525, 'max_features': 'log2', 'max_leaf_nodes': 807, 'n_estimators': 866, 'min_samples_split': 2, 'min_samples_leaf': 4}. Best is trial 23 with value: -0.29924242424242403.\u001b[0m\n",
            "\u001b[32m[I 2022-09-19 22:14:41,729]\u001b[0m Trial 67 finished with value: -0.46590909090909066 and parameters: {'criterion': 'entropy', 'bootstrap': 'True', 'max_depth': 346, 'max_features': 'auto', 'max_leaf_nodes': 537, 'n_estimators': 896, 'min_samples_split': 5, 'min_samples_leaf': 5}. Best is trial 23 with value: -0.29924242424242403.\u001b[0m\n",
            "\u001b[32m[I 2022-09-19 22:14:50,859]\u001b[0m Trial 68 finished with value: -0.46893939393939366 and parameters: {'criterion': 'entropy', 'bootstrap': 'True', 'max_depth': 459, 'max_features': 'log2', 'max_leaf_nodes': 317, 'n_estimators': 960, 'min_samples_split': 2, 'min_samples_leaf': 6}. Best is trial 23 with value: -0.29924242424242403.\u001b[0m\n",
            "\u001b[32m[I 2022-09-19 22:14:58,535]\u001b[0m Trial 69 finished with value: -0.46742424242424213 and parameters: {'criterion': 'entropy', 'bootstrap': 'True', 'max_depth': 969, 'max_features': 'log2', 'max_leaf_nodes': 477, 'n_estimators': 772, 'min_samples_split': 2, 'min_samples_leaf': 1}. Best is trial 23 with value: -0.29924242424242403.\u001b[0m\n",
            "\u001b[32m[I 2022-09-19 22:15:00,785]\u001b[0m Trial 70 finished with value: -0.42424242424242403 and parameters: {'criterion': 'gini', 'bootstrap': 'False', 'max_depth': 234, 'max_features': 'sqrt', 'max_leaf_nodes': 921, 'n_estimators': 144, 'min_samples_split': 3, 'min_samples_leaf': 4}. Best is trial 23 with value: -0.29924242424242403.\u001b[0m\n",
            "\u001b[32m[I 2022-09-19 22:15:03,991]\u001b[0m Trial 71 finished with value: -0.5507575757575756 and parameters: {'criterion': 'entropy', 'bootstrap': 'True', 'max_depth': 757, 'max_features': 'log2', 'max_leaf_nodes': 630, 'n_estimators': 270, 'min_samples_split': 2, 'min_samples_leaf': 6}. Best is trial 23 with value: -0.29924242424242403.\u001b[0m\n",
            "\u001b[32m[I 2022-09-19 22:15:07,626]\u001b[0m Trial 72 finished with value: -0.552272727272727 and parameters: {'criterion': 'entropy', 'bootstrap': 'True', 'max_depth': 611, 'max_features': 'log2', 'max_leaf_nodes': 697, 'n_estimators': 322, 'min_samples_split': 2, 'min_samples_leaf': 6}. Best is trial 23 with value: -0.29924242424242403.\u001b[0m\n",
            "\u001b[32m[I 2022-09-19 22:15:11,619]\u001b[0m Trial 73 finished with value: -0.38409090909090887 and parameters: {'criterion': 'entropy', 'bootstrap': 'True', 'max_depth': 409, 'max_features': 'log2', 'max_leaf_nodes': 608, 'n_estimators': 389, 'min_samples_split': 2, 'min_samples_leaf': 7}. Best is trial 23 with value: -0.29924242424242403.\u001b[0m\n",
            "\u001b[32m[I 2022-09-19 22:15:15,451]\u001b[0m Trial 74 finished with value: -0.4674242424242422 and parameters: {'criterion': 'entropy', 'bootstrap': 'True', 'max_depth': 703, 'max_features': 'log2', 'max_leaf_nodes': 552, 'n_estimators': 358, 'min_samples_split': 2, 'min_samples_leaf': 5}. Best is trial 23 with value: -0.29924242424242403.\u001b[0m\n",
            "\u001b[32m[I 2022-09-19 22:15:24,612]\u001b[0m Trial 75 finished with value: -0.4643939393939392 and parameters: {'criterion': 'entropy', 'bootstrap': 'True', 'max_depth': 582, 'max_features': 'log2', 'max_leaf_nodes': 663, 'n_estimators': 975, 'min_samples_split': 2, 'min_samples_leaf': 5}. Best is trial 23 with value: -0.29924242424242403.\u001b[0m\n",
            "\u001b[32m[I 2022-09-19 22:15:28,525]\u001b[0m Trial 76 finished with value: -0.6356060606060603 and parameters: {'criterion': 'entropy', 'bootstrap': 'True', 'max_depth': 393, 'max_features': 'log2', 'max_leaf_nodes': 603, 'n_estimators': 387, 'min_samples_split': 2, 'min_samples_leaf': 7}. Best is trial 23 with value: -0.29924242424242403.\u001b[0m\n",
            "\u001b[32m[I 2022-09-19 22:15:31,961]\u001b[0m Trial 77 finished with value: -0.42727272727272697 and parameters: {'criterion': 'entropy', 'bootstrap': 'True', 'max_depth': 360, 'max_features': 'log2', 'max_leaf_nodes': 189, 'n_estimators': 296, 'min_samples_split': 5, 'min_samples_leaf': 7}. Best is trial 23 with value: -0.29924242424242403.\u001b[0m\n",
            "\u001b[32m[I 2022-09-19 22:15:40,717]\u001b[0m Trial 78 finished with value: -0.46893939393939366 and parameters: {'criterion': 'entropy', 'bootstrap': 'True', 'max_depth': 409, 'max_features': 'sqrt', 'max_leaf_nodes': 504, 'n_estimators': 919, 'min_samples_split': 4, 'min_samples_leaf': 8}. Best is trial 23 with value: -0.29924242424242403.\u001b[0m\n",
            "\u001b[32m[I 2022-09-19 22:15:45,123]\u001b[0m Trial 79 finished with value: -0.5106060606060604 and parameters: {'criterion': 'entropy', 'bootstrap': 'True', 'max_depth': 339, 'max_features': 'log2', 'max_leaf_nodes': 711, 'n_estimators': 428, 'min_samples_split': 3, 'min_samples_leaf': 6}. Best is trial 23 with value: -0.29924242424242403.\u001b[0m\n",
            "\u001b[32m[I 2022-09-19 22:15:47,913]\u001b[0m Trial 80 finished with value: -0.4257575757575755 and parameters: {'criterion': 'entropy', 'bootstrap': 'True', 'max_depth': 476, 'max_features': 'auto', 'max_leaf_nodes': 767, 'n_estimators': 252, 'min_samples_split': 2, 'min_samples_leaf': 3}. Best is trial 23 with value: -0.29924242424242403.\u001b[0m\n",
            "\u001b[32m[I 2022-09-19 22:15:52,813]\u001b[0m Trial 81 finished with value: -0.552272727272727 and parameters: {'criterion': 'entropy', 'bootstrap': 'True', 'max_depth': 247, 'max_features': 'log2', 'max_leaf_nodes': 611, 'n_estimators': 328, 'min_samples_split': 2, 'min_samples_leaf': 7}. Best is trial 23 with value: -0.29924242424242403.\u001b[0m\n",
            "\u001b[32m[I 2022-09-19 22:15:57,114]\u001b[0m Trial 82 finished with value: -0.5507575757575754 and parameters: {'criterion': 'entropy', 'bootstrap': 'True', 'max_depth': 419, 'max_features': 'log2', 'max_leaf_nodes': 583, 'n_estimators': 215, 'min_samples_split': 2, 'min_samples_leaf': 6}. Best is trial 23 with value: -0.29924242424242403.\u001b[0m\n",
            "\u001b[32m[I 2022-09-19 22:16:01,106]\u001b[0m Trial 83 finished with value: -0.4257575757575755 and parameters: {'criterion': 'entropy', 'bootstrap': 'True', 'max_depth': 540, 'max_features': 'log2', 'max_leaf_nodes': 835, 'n_estimators': 368, 'min_samples_split': 2, 'min_samples_leaf': 6}. Best is trial 23 with value: -0.29924242424242403.\u001b[0m\n",
            "\u001b[32m[I 2022-09-19 22:16:04,593]\u001b[0m Trial 84 finished with value: -0.5939393939393937 and parameters: {'criterion': 'entropy', 'bootstrap': 'True', 'max_depth': 761, 'max_features': 'log2', 'max_leaf_nodes': 732, 'n_estimators': 288, 'min_samples_split': 2, 'min_samples_leaf': 6}. Best is trial 23 with value: -0.29924242424242403.\u001b[0m\n",
            "\u001b[32m[I 2022-09-19 22:16:09,222]\u001b[0m Trial 85 finished with value: -0.5090909090909088 and parameters: {'criterion': 'entropy', 'bootstrap': 'True', 'max_depth': 673, 'max_features': 'sqrt', 'max_leaf_nodes': 687, 'n_estimators': 383, 'min_samples_split': 2, 'min_samples_leaf': 2}. Best is trial 23 with value: -0.29924242424242403.\u001b[0m\n",
            "\u001b[32m[I 2022-09-19 22:16:13,708]\u001b[0m Trial 86 finished with value: -0.5106060606060603 and parameters: {'criterion': 'entropy', 'bootstrap': 'False', 'max_depth': 463, 'max_features': 'log2', 'max_leaf_nodes': 625, 'n_estimators': 418, 'min_samples_split': 3, 'min_samples_leaf': 7}. Best is trial 23 with value: -0.29924242424242403.\u001b[0m\n",
            "\u001b[32m[I 2022-09-19 22:16:17,236]\u001b[0m Trial 87 finished with value: -0.5924242424242421 and parameters: {'criterion': 'gini', 'bootstrap': 'True', 'max_depth': 886, 'max_features': 'sqrt', 'max_leaf_nodes': 660, 'n_estimators': 307, 'min_samples_split': 5, 'min_samples_leaf': 5}. Best is trial 23 with value: -0.29924242424242403.\u001b[0m\n",
            "\u001b[32m[I 2022-09-19 22:16:19,671]\u001b[0m Trial 88 finished with value: -0.42727272727272697 and parameters: {'criterion': 'entropy', 'bootstrap': 'True', 'max_depth': 8, 'max_features': 'log2', 'max_leaf_nodes': 88, 'n_estimators': 173, 'min_samples_split': 2, 'min_samples_leaf': 7}. Best is trial 23 with value: -0.29924242424242403.\u001b[0m\n",
            "\u001b[32m[I 2022-09-19 22:16:24,902]\u001b[0m Trial 89 finished with value: -0.5106060606060603 and parameters: {'criterion': 'entropy', 'bootstrap': 'True', 'max_depth': 814, 'max_features': 'sqrt', 'max_leaf_nodes': 3, 'n_estimators': 517, 'min_samples_split': 2, 'min_samples_leaf': 2}. Best is trial 23 with value: -0.29924242424242403.\u001b[0m\n",
            "\u001b[32m[I 2022-09-19 22:16:28,670]\u001b[0m Trial 90 finished with value: -0.4257575757575755 and parameters: {'criterion': 'entropy', 'bootstrap': 'True', 'max_depth': 648, 'max_features': 'log2', 'max_leaf_nodes': 224, 'n_estimators': 341, 'min_samples_split': 2, 'min_samples_leaf': 5}. Best is trial 23 with value: -0.29924242424242403.\u001b[0m\n",
            "\u001b[32m[I 2022-09-19 22:16:29,767]\u001b[0m Trial 91 finished with value: -0.3424242424242422 and parameters: {'criterion': 'entropy', 'bootstrap': 'True', 'max_depth': 377, 'max_features': 'sqrt', 'max_leaf_nodes': 886, 'n_estimators': 36, 'min_samples_split': 3, 'min_samples_leaf': 6}. Best is trial 23 with value: -0.29924242424242403.\u001b[0m\n",
            "\u001b[32m[I 2022-09-19 22:16:34,523]\u001b[0m Trial 92 finished with value: -0.38257575757575735 and parameters: {'criterion': 'entropy', 'bootstrap': 'True', 'max_depth': 326, 'max_features': 'sqrt', 'max_leaf_nodes': 892, 'n_estimators': 470, 'min_samples_split': 3, 'min_samples_leaf': 6}. Best is trial 23 with value: -0.29924242424242403.\u001b[0m\n",
            "\u001b[32m[I 2022-09-19 22:16:35,983]\u001b[0m Trial 93 finished with value: -0.5090909090909087 and parameters: {'criterion': 'entropy', 'bootstrap': 'True', 'max_depth': 328, 'max_features': 'sqrt', 'max_leaf_nodes': 979, 'n_estimators': 70, 'min_samples_split': 3, 'min_samples_leaf': 6}. Best is trial 23 with value: -0.29924242424242403.\u001b[0m\n",
            "\u001b[32m[I 2022-09-19 22:16:37,071]\u001b[0m Trial 94 finished with value: -0.3007575757575755 and parameters: {'criterion': 'entropy', 'bootstrap': 'True', 'max_depth': 380, 'max_features': 'sqrt', 'max_leaf_nodes': 876, 'n_estimators': 36, 'min_samples_split': 3, 'min_samples_leaf': 6}. Best is trial 23 with value: -0.29924242424242403.\u001b[0m\n",
            "\u001b[32m[I 2022-09-19 22:16:37,925]\u001b[0m Trial 95 finished with value: -0.5909090909090906 and parameters: {'criterion': 'entropy', 'bootstrap': 'True', 'max_depth': 272, 'max_features': 'sqrt', 'max_leaf_nodes': 926, 'n_estimators': 16, 'min_samples_split': 3, 'min_samples_leaf': 6}. Best is trial 23 with value: -0.29924242424242403.\u001b[0m\n",
            "\u001b[32m[I 2022-09-19 22:16:45,105]\u001b[0m Trial 96 finished with value: -0.46590909090909066 and parameters: {'criterion': 'entropy', 'bootstrap': 'True', 'max_depth': 385, 'max_features': 'sqrt', 'max_leaf_nodes': 878, 'n_estimators': 721, 'min_samples_split': 3, 'min_samples_leaf': 5}. Best is trial 23 with value: -0.29924242424242403.\u001b[0m\n",
            "\u001b[32m[I 2022-09-19 22:16:46,292]\u001b[0m Trial 97 finished with value: -0.46893939393939366 and parameters: {'criterion': 'entropy', 'bootstrap': 'True', 'max_depth': 295, 'max_features': 'sqrt', 'max_leaf_nodes': 949, 'n_estimators': 39, 'min_samples_split': 3, 'min_samples_leaf': 6}. Best is trial 23 with value: -0.29924242424242403.\u001b[0m\n",
            "\u001b[32m[I 2022-09-19 22:16:48,254]\u001b[0m Trial 98 finished with value: -0.42727272727272697 and parameters: {'criterion': 'entropy', 'bootstrap': 'True', 'max_depth': 320, 'max_features': 'sqrt', 'max_leaf_nodes': 879, 'n_estimators': 111, 'min_samples_split': 3, 'min_samples_leaf': 5}. Best is trial 23 with value: -0.29924242424242403.\u001b[0m\n",
            "\u001b[32m[I 2022-09-19 22:16:49,461]\u001b[0m Trial 99 finished with value: -0.2575757575757574 and parameters: {'criterion': 'entropy', 'bootstrap': 'True', 'max_depth': 368, 'max_features': 'sqrt', 'max_leaf_nodes': 795, 'n_estimators': 48, 'min_samples_split': 3, 'min_samples_leaf': 6}. Best is trial 99 with value: -0.2575757575757574.\u001b[0m\n"
          ]
        },
        {
          "output_type": "stream",
          "name": "stdout",
          "text": [
            "Accuracy: -0.2575757575757574\n",
            "TrainAccuracy: 0.9191919191919192\n",
            "Accuracy: 0.5116279069767442\n",
            "              precision    recall  f1-score   support\n",
            "\n",
            "         0.0       0.73      0.52      0.60        31\n",
            "         1.0       0.29      0.50      0.36        12\n",
            "\n",
            "    accuracy                           0.51        43\n",
            "   macro avg       0.51      0.51      0.48        43\n",
            "weighted avg       0.60      0.51      0.54        43\n",
            "\n"
          ]
        }
      ]
    },
    {
      "cell_type": "markdown",
      "source": [
        "最適化の履歴をplot_optimization_history()メソッドを使い確認してみましょう。\n",
        "縦軸が目的変数、横軸が最適化のトライアル数になってます。オレンジの折れ線が最良の目的変数の値となっており、何回目のトライアルでベストパラメータが出たのかわかりやすくなってます。"
      ],
      "metadata": {
        "id": "NtQdBwMnPqce"
      }
    },
    {
      "cell_type": "code",
      "source": [
        "optuna.visualization.plot_optimization_history(study)"
      ],
      "metadata": {
        "colab": {
          "base_uri": "https://localhost:8080/",
          "height": 542
        },
        "id": "vLWTSoXjPrtK",
        "outputId": "2e285286-e7ec-4196-9bc8-e7998527ba61"
      },
      "execution_count": 16,
      "outputs": [
        {
          "output_type": "display_data",
          "data": {
            "text/html": [
              "<html>\n",
              "<head><meta charset=\"utf-8\" /></head>\n",
              "<body>\n",
              "    <div>            <script src=\"https://cdnjs.cloudflare.com/ajax/libs/mathjax/2.7.5/MathJax.js?config=TeX-AMS-MML_SVG\"></script><script type=\"text/javascript\">if (window.MathJax) {MathJax.Hub.Config({SVG: {font: \"STIX-Web\"}});}</script>                <script type=\"text/javascript\">window.PlotlyConfig = {MathJaxConfig: 'local'};</script>\n",
              "        <script src=\"https://cdn.plot.ly/plotly-2.8.3.min.js\"></script>                <div id=\"79d5b740-0f83-4e70-82d2-3572c1950b4f\" class=\"plotly-graph-div\" style=\"height:525px; width:100%;\"></div>            <script type=\"text/javascript\">                                    window.PLOTLYENV=window.PLOTLYENV || {};                                    if (document.getElementById(\"79d5b740-0f83-4e70-82d2-3572c1950b4f\")) {                    Plotly.newPlot(                        \"79d5b740-0f83-4e70-82d2-3572c1950b4f\",                        [{\"mode\":\"markers\",\"name\":\"Objective Value\",\"x\":[0,1,2,3,4,5,6,7,8,9,10,11,12,13,14,15,16,17,18,19,20,21,22,23,24,25,26,27,28,29,30,31,32,33,34,35,36,37,38,39,40,41,42,43,44,45,46,47,48,49,50,51,52,53,54,55,56,57,58,59,60,61,62,63,64,65,66,67,68,69,70,71,72,73,74,75,76,77,78,79,80,81,82,83,84,85,86,87,88,89,90,91,92,93,94,95,96,97,98,99],\"y\":[-0.5090909090909088,-0.5507575757575756,-0.5507575757575756,-0.46742424242424213,-0.4674242424242422,-0.5106060606060603,-0.5090909090909088,-0.424242424242424,-0.42424242424242403,-0.46742424242424213,-0.5106060606060603,-0.5939393939393937,-0.46742424242424213,-0.46590909090909066,-0.424242424242424,-0.42575757575757545,-0.46590909090909066,-0.5507575757575756,-0.5537878787878785,-0.4257575757575755,-0.4257575757575755,-0.4659090909090907,-0.38409090909090887,-0.29924242424242403,-0.5106060606060603,-0.424242424242424,-0.5939393939393937,-0.424242424242424,-0.5090909090909088,-0.424242424242424,-0.552272727272727,-0.4643939393939392,-0.5106060606060604,-0.552272727272727,-0.5075757575757573,-0.5507575757575756,-0.3825757575757574,-0.4257575757575755,-0.424242424242424,-0.5090909090909088,-0.4689393939393936,-0.424242424242424,-0.3393939393939392,-0.5507575757575756,-0.3840909090909088,-0.5090909090909089,-0.5090909090909089,-0.5090909090909089,-0.5507575757575756,-0.552272727272727,-0.5090909090909089,-0.424242424242424,-0.38257575757575735,-0.552272727272727,-0.38257575757575735,-0.5090909090909088,-0.5924242424242421,-0.424242424242424,-0.4257575757575755,-0.5075757575757573,-0.5090909090909088,-0.4257575757575755,-0.5106060606060603,-0.38257575757575735,-0.5075757575757573,-0.46742424242424213,-0.424242424242424,-0.46590909090909066,-0.46893939393939366,-0.46742424242424213,-0.42424242424242403,-0.5507575757575756,-0.552272727272727,-0.38409090909090887,-0.4674242424242422,-0.4643939393939392,-0.6356060606060603,-0.42727272727272697,-0.46893939393939366,-0.5106060606060604,-0.4257575757575755,-0.552272727272727,-0.5507575757575754,-0.4257575757575755,-0.5939393939393937,-0.5090909090909088,-0.5106060606060603,-0.5924242424242421,-0.42727272727272697,-0.5106060606060603,-0.4257575757575755,-0.3424242424242422,-0.38257575757575735,-0.5090909090909087,-0.3007575757575755,-0.5909090909090906,-0.46590909090909066,-0.46893939393939366,-0.42727272727272697,-0.2575757575757574],\"type\":\"scatter\"},{\"name\":\"Best Value\",\"x\":[0,1,2,3,4,5,6,7,8,9,10,11,12,13,14,15,16,17,18,19,20,21,22,23,24,25,26,27,28,29,30,31,32,33,34,35,36,37,38,39,40,41,42,43,44,45,46,47,48,49,50,51,52,53,54,55,56,57,58,59,60,61,62,63,64,65,66,67,68,69,70,71,72,73,74,75,76,77,78,79,80,81,82,83,84,85,86,87,88,89,90,91,92,93,94,95,96,97,98,99],\"y\":[-0.5090909090909088,-0.5090909090909088,-0.5090909090909088,-0.46742424242424213,-0.46742424242424213,-0.46742424242424213,-0.46742424242424213,-0.424242424242424,-0.424242424242424,-0.424242424242424,-0.424242424242424,-0.424242424242424,-0.424242424242424,-0.424242424242424,-0.424242424242424,-0.424242424242424,-0.424242424242424,-0.424242424242424,-0.424242424242424,-0.424242424242424,-0.424242424242424,-0.424242424242424,-0.38409090909090887,-0.29924242424242403,-0.29924242424242403,-0.29924242424242403,-0.29924242424242403,-0.29924242424242403,-0.29924242424242403,-0.29924242424242403,-0.29924242424242403,-0.29924242424242403,-0.29924242424242403,-0.29924242424242403,-0.29924242424242403,-0.29924242424242403,-0.29924242424242403,-0.29924242424242403,-0.29924242424242403,-0.29924242424242403,-0.29924242424242403,-0.29924242424242403,-0.29924242424242403,-0.29924242424242403,-0.29924242424242403,-0.29924242424242403,-0.29924242424242403,-0.29924242424242403,-0.29924242424242403,-0.29924242424242403,-0.29924242424242403,-0.29924242424242403,-0.29924242424242403,-0.29924242424242403,-0.29924242424242403,-0.29924242424242403,-0.29924242424242403,-0.29924242424242403,-0.29924242424242403,-0.29924242424242403,-0.29924242424242403,-0.29924242424242403,-0.29924242424242403,-0.29924242424242403,-0.29924242424242403,-0.29924242424242403,-0.29924242424242403,-0.29924242424242403,-0.29924242424242403,-0.29924242424242403,-0.29924242424242403,-0.29924242424242403,-0.29924242424242403,-0.29924242424242403,-0.29924242424242403,-0.29924242424242403,-0.29924242424242403,-0.29924242424242403,-0.29924242424242403,-0.29924242424242403,-0.29924242424242403,-0.29924242424242403,-0.29924242424242403,-0.29924242424242403,-0.29924242424242403,-0.29924242424242403,-0.29924242424242403,-0.29924242424242403,-0.29924242424242403,-0.29924242424242403,-0.29924242424242403,-0.29924242424242403,-0.29924242424242403,-0.29924242424242403,-0.29924242424242403,-0.29924242424242403,-0.29924242424242403,-0.29924242424242403,-0.29924242424242403,-0.2575757575757574],\"type\":\"scatter\"}],                        {\"title\":{\"text\":\"Optimization History Plot\"},\"xaxis\":{\"title\":{\"text\":\"Trial\"}},\"yaxis\":{\"title\":{\"text\":\"Objective Value\"}},\"template\":{\"data\":{\"bar\":[{\"error_x\":{\"color\":\"#2a3f5f\"},\"error_y\":{\"color\":\"#2a3f5f\"},\"marker\":{\"line\":{\"color\":\"#E5ECF6\",\"width\":0.5},\"pattern\":{\"fillmode\":\"overlay\",\"size\":10,\"solidity\":0.2}},\"type\":\"bar\"}],\"barpolar\":[{\"marker\":{\"line\":{\"color\":\"#E5ECF6\",\"width\":0.5},\"pattern\":{\"fillmode\":\"overlay\",\"size\":10,\"solidity\":0.2}},\"type\":\"barpolar\"}],\"carpet\":[{\"aaxis\":{\"endlinecolor\":\"#2a3f5f\",\"gridcolor\":\"white\",\"linecolor\":\"white\",\"minorgridcolor\":\"white\",\"startlinecolor\":\"#2a3f5f\"},\"baxis\":{\"endlinecolor\":\"#2a3f5f\",\"gridcolor\":\"white\",\"linecolor\":\"white\",\"minorgridcolor\":\"white\",\"startlinecolor\":\"#2a3f5f\"},\"type\":\"carpet\"}],\"choropleth\":[{\"colorbar\":{\"outlinewidth\":0,\"ticks\":\"\"},\"type\":\"choropleth\"}],\"contour\":[{\"colorbar\":{\"outlinewidth\":0,\"ticks\":\"\"},\"colorscale\":[[0.0,\"#0d0887\"],[0.1111111111111111,\"#46039f\"],[0.2222222222222222,\"#7201a8\"],[0.3333333333333333,\"#9c179e\"],[0.4444444444444444,\"#bd3786\"],[0.5555555555555556,\"#d8576b\"],[0.6666666666666666,\"#ed7953\"],[0.7777777777777778,\"#fb9f3a\"],[0.8888888888888888,\"#fdca26\"],[1.0,\"#f0f921\"]],\"type\":\"contour\"}],\"contourcarpet\":[{\"colorbar\":{\"outlinewidth\":0,\"ticks\":\"\"},\"type\":\"contourcarpet\"}],\"heatmap\":[{\"colorbar\":{\"outlinewidth\":0,\"ticks\":\"\"},\"colorscale\":[[0.0,\"#0d0887\"],[0.1111111111111111,\"#46039f\"],[0.2222222222222222,\"#7201a8\"],[0.3333333333333333,\"#9c179e\"],[0.4444444444444444,\"#bd3786\"],[0.5555555555555556,\"#d8576b\"],[0.6666666666666666,\"#ed7953\"],[0.7777777777777778,\"#fb9f3a\"],[0.8888888888888888,\"#fdca26\"],[1.0,\"#f0f921\"]],\"type\":\"heatmap\"}],\"heatmapgl\":[{\"colorbar\":{\"outlinewidth\":0,\"ticks\":\"\"},\"colorscale\":[[0.0,\"#0d0887\"],[0.1111111111111111,\"#46039f\"],[0.2222222222222222,\"#7201a8\"],[0.3333333333333333,\"#9c179e\"],[0.4444444444444444,\"#bd3786\"],[0.5555555555555556,\"#d8576b\"],[0.6666666666666666,\"#ed7953\"],[0.7777777777777778,\"#fb9f3a\"],[0.8888888888888888,\"#fdca26\"],[1.0,\"#f0f921\"]],\"type\":\"heatmapgl\"}],\"histogram\":[{\"marker\":{\"pattern\":{\"fillmode\":\"overlay\",\"size\":10,\"solidity\":0.2}},\"type\":\"histogram\"}],\"histogram2d\":[{\"colorbar\":{\"outlinewidth\":0,\"ticks\":\"\"},\"colorscale\":[[0.0,\"#0d0887\"],[0.1111111111111111,\"#46039f\"],[0.2222222222222222,\"#7201a8\"],[0.3333333333333333,\"#9c179e\"],[0.4444444444444444,\"#bd3786\"],[0.5555555555555556,\"#d8576b\"],[0.6666666666666666,\"#ed7953\"],[0.7777777777777778,\"#fb9f3a\"],[0.8888888888888888,\"#fdca26\"],[1.0,\"#f0f921\"]],\"type\":\"histogram2d\"}],\"histogram2dcontour\":[{\"colorbar\":{\"outlinewidth\":0,\"ticks\":\"\"},\"colorscale\":[[0.0,\"#0d0887\"],[0.1111111111111111,\"#46039f\"],[0.2222222222222222,\"#7201a8\"],[0.3333333333333333,\"#9c179e\"],[0.4444444444444444,\"#bd3786\"],[0.5555555555555556,\"#d8576b\"],[0.6666666666666666,\"#ed7953\"],[0.7777777777777778,\"#fb9f3a\"],[0.8888888888888888,\"#fdca26\"],[1.0,\"#f0f921\"]],\"type\":\"histogram2dcontour\"}],\"mesh3d\":[{\"colorbar\":{\"outlinewidth\":0,\"ticks\":\"\"},\"type\":\"mesh3d\"}],\"parcoords\":[{\"line\":{\"colorbar\":{\"outlinewidth\":0,\"ticks\":\"\"}},\"type\":\"parcoords\"}],\"pie\":[{\"automargin\":true,\"type\":\"pie\"}],\"scatter\":[{\"marker\":{\"colorbar\":{\"outlinewidth\":0,\"ticks\":\"\"}},\"type\":\"scatter\"}],\"scatter3d\":[{\"line\":{\"colorbar\":{\"outlinewidth\":0,\"ticks\":\"\"}},\"marker\":{\"colorbar\":{\"outlinewidth\":0,\"ticks\":\"\"}},\"type\":\"scatter3d\"}],\"scattercarpet\":[{\"marker\":{\"colorbar\":{\"outlinewidth\":0,\"ticks\":\"\"}},\"type\":\"scattercarpet\"}],\"scattergeo\":[{\"marker\":{\"colorbar\":{\"outlinewidth\":0,\"ticks\":\"\"}},\"type\":\"scattergeo\"}],\"scattergl\":[{\"marker\":{\"colorbar\":{\"outlinewidth\":0,\"ticks\":\"\"}},\"type\":\"scattergl\"}],\"scattermapbox\":[{\"marker\":{\"colorbar\":{\"outlinewidth\":0,\"ticks\":\"\"}},\"type\":\"scattermapbox\"}],\"scatterpolar\":[{\"marker\":{\"colorbar\":{\"outlinewidth\":0,\"ticks\":\"\"}},\"type\":\"scatterpolar\"}],\"scatterpolargl\":[{\"marker\":{\"colorbar\":{\"outlinewidth\":0,\"ticks\":\"\"}},\"type\":\"scatterpolargl\"}],\"scatterternary\":[{\"marker\":{\"colorbar\":{\"outlinewidth\":0,\"ticks\":\"\"}},\"type\":\"scatterternary\"}],\"surface\":[{\"colorbar\":{\"outlinewidth\":0,\"ticks\":\"\"},\"colorscale\":[[0.0,\"#0d0887\"],[0.1111111111111111,\"#46039f\"],[0.2222222222222222,\"#7201a8\"],[0.3333333333333333,\"#9c179e\"],[0.4444444444444444,\"#bd3786\"],[0.5555555555555556,\"#d8576b\"],[0.6666666666666666,\"#ed7953\"],[0.7777777777777778,\"#fb9f3a\"],[0.8888888888888888,\"#fdca26\"],[1.0,\"#f0f921\"]],\"type\":\"surface\"}],\"table\":[{\"cells\":{\"fill\":{\"color\":\"#EBF0F8\"},\"line\":{\"color\":\"white\"}},\"header\":{\"fill\":{\"color\":\"#C8D4E3\"},\"line\":{\"color\":\"white\"}},\"type\":\"table\"}]},\"layout\":{\"annotationdefaults\":{\"arrowcolor\":\"#2a3f5f\",\"arrowhead\":0,\"arrowwidth\":1},\"autotypenumbers\":\"strict\",\"coloraxis\":{\"colorbar\":{\"outlinewidth\":0,\"ticks\":\"\"}},\"colorscale\":{\"diverging\":[[0,\"#8e0152\"],[0.1,\"#c51b7d\"],[0.2,\"#de77ae\"],[0.3,\"#f1b6da\"],[0.4,\"#fde0ef\"],[0.5,\"#f7f7f7\"],[0.6,\"#e6f5d0\"],[0.7,\"#b8e186\"],[0.8,\"#7fbc41\"],[0.9,\"#4d9221\"],[1,\"#276419\"]],\"sequential\":[[0.0,\"#0d0887\"],[0.1111111111111111,\"#46039f\"],[0.2222222222222222,\"#7201a8\"],[0.3333333333333333,\"#9c179e\"],[0.4444444444444444,\"#bd3786\"],[0.5555555555555556,\"#d8576b\"],[0.6666666666666666,\"#ed7953\"],[0.7777777777777778,\"#fb9f3a\"],[0.8888888888888888,\"#fdca26\"],[1.0,\"#f0f921\"]],\"sequentialminus\":[[0.0,\"#0d0887\"],[0.1111111111111111,\"#46039f\"],[0.2222222222222222,\"#7201a8\"],[0.3333333333333333,\"#9c179e\"],[0.4444444444444444,\"#bd3786\"],[0.5555555555555556,\"#d8576b\"],[0.6666666666666666,\"#ed7953\"],[0.7777777777777778,\"#fb9f3a\"],[0.8888888888888888,\"#fdca26\"],[1.0,\"#f0f921\"]]},\"colorway\":[\"#636efa\",\"#EF553B\",\"#00cc96\",\"#ab63fa\",\"#FFA15A\",\"#19d3f3\",\"#FF6692\",\"#B6E880\",\"#FF97FF\",\"#FECB52\"],\"font\":{\"color\":\"#2a3f5f\"},\"geo\":{\"bgcolor\":\"white\",\"lakecolor\":\"white\",\"landcolor\":\"#E5ECF6\",\"showlakes\":true,\"showland\":true,\"subunitcolor\":\"white\"},\"hoverlabel\":{\"align\":\"left\"},\"hovermode\":\"closest\",\"mapbox\":{\"style\":\"light\"},\"paper_bgcolor\":\"white\",\"plot_bgcolor\":\"#E5ECF6\",\"polar\":{\"angularaxis\":{\"gridcolor\":\"white\",\"linecolor\":\"white\",\"ticks\":\"\"},\"bgcolor\":\"#E5ECF6\",\"radialaxis\":{\"gridcolor\":\"white\",\"linecolor\":\"white\",\"ticks\":\"\"}},\"scene\":{\"xaxis\":{\"backgroundcolor\":\"#E5ECF6\",\"gridcolor\":\"white\",\"gridwidth\":2,\"linecolor\":\"white\",\"showbackground\":true,\"ticks\":\"\",\"zerolinecolor\":\"white\"},\"yaxis\":{\"backgroundcolor\":\"#E5ECF6\",\"gridcolor\":\"white\",\"gridwidth\":2,\"linecolor\":\"white\",\"showbackground\":true,\"ticks\":\"\",\"zerolinecolor\":\"white\"},\"zaxis\":{\"backgroundcolor\":\"#E5ECF6\",\"gridcolor\":\"white\",\"gridwidth\":2,\"linecolor\":\"white\",\"showbackground\":true,\"ticks\":\"\",\"zerolinecolor\":\"white\"}},\"shapedefaults\":{\"line\":{\"color\":\"#2a3f5f\"}},\"ternary\":{\"aaxis\":{\"gridcolor\":\"white\",\"linecolor\":\"white\",\"ticks\":\"\"},\"baxis\":{\"gridcolor\":\"white\",\"linecolor\":\"white\",\"ticks\":\"\"},\"bgcolor\":\"#E5ECF6\",\"caxis\":{\"gridcolor\":\"white\",\"linecolor\":\"white\",\"ticks\":\"\"}},\"title\":{\"x\":0.05},\"xaxis\":{\"automargin\":true,\"gridcolor\":\"white\",\"linecolor\":\"white\",\"ticks\":\"\",\"title\":{\"standoff\":15},\"zerolinecolor\":\"white\",\"zerolinewidth\":2},\"yaxis\":{\"automargin\":true,\"gridcolor\":\"white\",\"linecolor\":\"white\",\"ticks\":\"\",\"title\":{\"standoff\":15},\"zerolinecolor\":\"white\",\"zerolinewidth\":2}}}},                        {\"responsive\": true}                    ).then(function(){\n",
              "                            \n",
              "var gd = document.getElementById('79d5b740-0f83-4e70-82d2-3572c1950b4f');\n",
              "var x = new MutationObserver(function (mutations, observer) {{\n",
              "        var display = window.getComputedStyle(gd).display;\n",
              "        if (!display || display === 'none') {{\n",
              "            console.log([gd, 'removed!']);\n",
              "            Plotly.purge(gd);\n",
              "            observer.disconnect();\n",
              "        }}\n",
              "}});\n",
              "\n",
              "// Listen for the removal of the full notebook cells\n",
              "var notebookContainer = gd.closest('#notebook-container');\n",
              "if (notebookContainer) {{\n",
              "    x.observe(notebookContainer, {childList: true});\n",
              "}}\n",
              "\n",
              "// Listen for the clearing of the current output cell\n",
              "var outputEl = gd.closest('.output');\n",
              "if (outputEl) {{\n",
              "    x.observe(outputEl, {childList: true});\n",
              "}}\n",
              "\n",
              "                        })                };                            </script>        </div>\n",
              "</body>\n",
              "</html>"
            ]
          },
          "metadata": {}
        }
      ]
    },
    {
      "cell_type": "markdown",
      "source": [
        "グラフをみてみると99回目のトライアルでベストパラメーターが出たのがわかりやくなっています。"
      ],
      "metadata": {
        "id": "01elf9eBPszM"
      }
    },
    {
      "cell_type": "code",
      "source": [
        "optuna.visualization.plot_slice(study)"
      ],
      "metadata": {
        "colab": {
          "base_uri": "https://localhost:8080/",
          "height": 562
        },
        "id": "QV-anY0OPxw9",
        "outputId": "7160958c-dc5d-4537-f702-b93763f1aa22"
      },
      "execution_count": 17,
      "outputs": [
        {
          "output_type": "display_data",
          "data": {
            "text/html": [
              "<html>\n",
              "<head><meta charset=\"utf-8\" /></head>\n",
              "<body>\n",
              "    <div>            <script src=\"https://cdnjs.cloudflare.com/ajax/libs/mathjax/2.7.5/MathJax.js?config=TeX-AMS-MML_SVG\"></script><script type=\"text/javascript\">if (window.MathJax) {MathJax.Hub.Config({SVG: {font: \"STIX-Web\"}});}</script>                <script type=\"text/javascript\">window.PlotlyConfig = {MathJaxConfig: 'local'};</script>\n",
              "        <script src=\"https://cdn.plot.ly/plotly-2.8.3.min.js\"></script>                <div id=\"096f1b97-7147-43d6-bc30-4c5d3f2abbdd\" class=\"plotly-graph-div\" style=\"height:525px; width:2400px;\"></div>            <script type=\"text/javascript\">                                    window.PLOTLYENV=window.PLOTLYENV || {};                                    if (document.getElementById(\"096f1b97-7147-43d6-bc30-4c5d3f2abbdd\")) {                    Plotly.newPlot(                        \"096f1b97-7147-43d6-bc30-4c5d3f2abbdd\",                        [{\"marker\":{\"color\":[0,1,2,3,4,5,6,7,8,9,10,11,12,13,14,15,16,17,18,19,20,21,22,23,24,25,26,27,28,29,30,31,32,33,34,35,36,37,38,39,40,41,42,43,44,45,46,47,48,49,50,51,52,53,54,55,56,57,58,59,60,61,62,63,64,65,66,67,68,69,70,71,72,73,74,75,76,77,78,79,80,81,82,83,84,85,86,87,88,89,90,91,92,93,94,95,96,97,98,99],\"colorbar\":{\"title\":{\"text\":\"Trial\"},\"x\":1.0,\"xpad\":40},\"colorscale\":[[0.0,\"rgb(247,251,255)\"],[0.125,\"rgb(222,235,247)\"],[0.25,\"rgb(198,219,239)\"],[0.375,\"rgb(158,202,225)\"],[0.5,\"rgb(107,174,214)\"],[0.625,\"rgb(66,146,198)\"],[0.75,\"rgb(33,113,181)\"],[0.875,\"rgb(8,81,156)\"],[1.0,\"rgb(8,48,107)\"]],\"line\":{\"color\":\"Grey\",\"width\":0.5},\"showscale\":true},\"mode\":\"markers\",\"showlegend\":false,\"x\":[\"True\",\"True\",\"True\",\"False\",\"False\",\"True\",\"False\",\"False\",\"True\",\"False\",\"False\",\"True\",\"False\",\"True\",\"False\",\"False\",\"False\",\"False\",\"False\",\"False\",\"False\",\"True\",\"True\",\"True\",\"True\",\"True\",\"True\",\"True\",\"True\",\"True\",\"True\",\"True\",\"True\",\"True\",\"True\",\"True\",\"True\",\"True\",\"True\",\"True\",\"True\",\"True\",\"True\",\"True\",\"True\",\"True\",\"True\",\"True\",\"True\",\"True\",\"True\",\"True\",\"True\",\"True\",\"True\",\"True\",\"True\",\"True\",\"True\",\"True\",\"True\",\"True\",\"True\",\"True\",\"True\",\"True\",\"False\",\"True\",\"True\",\"True\",\"False\",\"True\",\"True\",\"True\",\"True\",\"True\",\"True\",\"True\",\"True\",\"True\",\"True\",\"True\",\"True\",\"True\",\"True\",\"True\",\"False\",\"True\",\"True\",\"True\",\"True\",\"True\",\"True\",\"True\",\"True\",\"True\",\"True\",\"True\",\"True\",\"True\"],\"y\":[-0.5090909090909088,-0.5507575757575756,-0.5507575757575756,-0.46742424242424213,-0.4674242424242422,-0.5106060606060603,-0.5090909090909088,-0.424242424242424,-0.42424242424242403,-0.46742424242424213,-0.5106060606060603,-0.5939393939393937,-0.46742424242424213,-0.46590909090909066,-0.424242424242424,-0.42575757575757545,-0.46590909090909066,-0.5507575757575756,-0.5537878787878785,-0.4257575757575755,-0.4257575757575755,-0.4659090909090907,-0.38409090909090887,-0.29924242424242403,-0.5106060606060603,-0.424242424242424,-0.5939393939393937,-0.424242424242424,-0.5090909090909088,-0.424242424242424,-0.552272727272727,-0.4643939393939392,-0.5106060606060604,-0.552272727272727,-0.5075757575757573,-0.5507575757575756,-0.3825757575757574,-0.4257575757575755,-0.424242424242424,-0.5090909090909088,-0.4689393939393936,-0.424242424242424,-0.3393939393939392,-0.5507575757575756,-0.3840909090909088,-0.5090909090909089,-0.5090909090909089,-0.5090909090909089,-0.5507575757575756,-0.552272727272727,-0.5090909090909089,-0.424242424242424,-0.38257575757575735,-0.552272727272727,-0.38257575757575735,-0.5090909090909088,-0.5924242424242421,-0.424242424242424,-0.4257575757575755,-0.5075757575757573,-0.5090909090909088,-0.4257575757575755,-0.5106060606060603,-0.38257575757575735,-0.5075757575757573,-0.46742424242424213,-0.424242424242424,-0.46590909090909066,-0.46893939393939366,-0.46742424242424213,-0.42424242424242403,-0.5507575757575756,-0.552272727272727,-0.38409090909090887,-0.4674242424242422,-0.4643939393939392,-0.6356060606060603,-0.42727272727272697,-0.46893939393939366,-0.5106060606060604,-0.4257575757575755,-0.552272727272727,-0.5507575757575754,-0.4257575757575755,-0.5939393939393937,-0.5090909090909088,-0.5106060606060603,-0.5924242424242421,-0.42727272727272697,-0.5106060606060603,-0.4257575757575755,-0.3424242424242422,-0.38257575757575735,-0.5090909090909087,-0.3007575757575755,-0.5909090909090906,-0.46590909090909066,-0.46893939393939366,-0.42727272727272697,-0.2575757575757574],\"type\":\"scatter\",\"xaxis\":\"x\",\"yaxis\":\"y\"},{\"marker\":{\"color\":[0,1,2,3,4,5,6,7,8,9,10,11,12,13,14,15,16,17,18,19,20,21,22,23,24,25,26,27,28,29,30,31,32,33,34,35,36,37,38,39,40,41,42,43,44,45,46,47,48,49,50,51,52,53,54,55,56,57,58,59,60,61,62,63,64,65,66,67,68,69,70,71,72,73,74,75,76,77,78,79,80,81,82,83,84,85,86,87,88,89,90,91,92,93,94,95,96,97,98,99],\"colorbar\":{\"title\":{\"text\":\"Trial\"},\"x\":1.0,\"xpad\":40},\"colorscale\":[[0.0,\"rgb(247,251,255)\"],[0.125,\"rgb(222,235,247)\"],[0.25,\"rgb(198,219,239)\"],[0.375,\"rgb(158,202,225)\"],[0.5,\"rgb(107,174,214)\"],[0.625,\"rgb(66,146,198)\"],[0.75,\"rgb(33,113,181)\"],[0.875,\"rgb(8,81,156)\"],[1.0,\"rgb(8,48,107)\"]],\"line\":{\"color\":\"Grey\",\"width\":0.5},\"showscale\":false},\"mode\":\"markers\",\"showlegend\":false,\"x\":[\"entropy\",\"entropy\",\"entropy\",\"gini\",\"entropy\",\"gini\",\"gini\",\"entropy\",\"entropy\",\"gini\",\"entropy\",\"entropy\",\"entropy\",\"entropy\",\"entropy\",\"entropy\",\"entropy\",\"entropy\",\"gini\",\"entropy\",\"entropy\",\"entropy\",\"entropy\",\"entropy\",\"entropy\",\"entropy\",\"gini\",\"entropy\",\"entropy\",\"entropy\",\"entropy\",\"entropy\",\"entropy\",\"entropy\",\"entropy\",\"entropy\",\"entropy\",\"gini\",\"entropy\",\"gini\",\"entropy\",\"entropy\",\"entropy\",\"entropy\",\"entropy\",\"entropy\",\"entropy\",\"gini\",\"entropy\",\"entropy\",\"entropy\",\"entropy\",\"entropy\",\"entropy\",\"entropy\",\"entropy\",\"entropy\",\"entropy\",\"gini\",\"entropy\",\"entropy\",\"entropy\",\"entropy\",\"entropy\",\"entropy\",\"entropy\",\"entropy\",\"entropy\",\"entropy\",\"entropy\",\"gini\",\"entropy\",\"entropy\",\"entropy\",\"entropy\",\"entropy\",\"entropy\",\"entropy\",\"entropy\",\"entropy\",\"entropy\",\"entropy\",\"entropy\",\"entropy\",\"entropy\",\"entropy\",\"entropy\",\"gini\",\"entropy\",\"entropy\",\"entropy\",\"entropy\",\"entropy\",\"entropy\",\"entropy\",\"entropy\",\"entropy\",\"entropy\",\"entropy\",\"entropy\"],\"y\":[-0.5090909090909088,-0.5507575757575756,-0.5507575757575756,-0.46742424242424213,-0.4674242424242422,-0.5106060606060603,-0.5090909090909088,-0.424242424242424,-0.42424242424242403,-0.46742424242424213,-0.5106060606060603,-0.5939393939393937,-0.46742424242424213,-0.46590909090909066,-0.424242424242424,-0.42575757575757545,-0.46590909090909066,-0.5507575757575756,-0.5537878787878785,-0.4257575757575755,-0.4257575757575755,-0.4659090909090907,-0.38409090909090887,-0.29924242424242403,-0.5106060606060603,-0.424242424242424,-0.5939393939393937,-0.424242424242424,-0.5090909090909088,-0.424242424242424,-0.552272727272727,-0.4643939393939392,-0.5106060606060604,-0.552272727272727,-0.5075757575757573,-0.5507575757575756,-0.3825757575757574,-0.4257575757575755,-0.424242424242424,-0.5090909090909088,-0.4689393939393936,-0.424242424242424,-0.3393939393939392,-0.5507575757575756,-0.3840909090909088,-0.5090909090909089,-0.5090909090909089,-0.5090909090909089,-0.5507575757575756,-0.552272727272727,-0.5090909090909089,-0.424242424242424,-0.38257575757575735,-0.552272727272727,-0.38257575757575735,-0.5090909090909088,-0.5924242424242421,-0.424242424242424,-0.4257575757575755,-0.5075757575757573,-0.5090909090909088,-0.4257575757575755,-0.5106060606060603,-0.38257575757575735,-0.5075757575757573,-0.46742424242424213,-0.424242424242424,-0.46590909090909066,-0.46893939393939366,-0.46742424242424213,-0.42424242424242403,-0.5507575757575756,-0.552272727272727,-0.38409090909090887,-0.4674242424242422,-0.4643939393939392,-0.6356060606060603,-0.42727272727272697,-0.46893939393939366,-0.5106060606060604,-0.4257575757575755,-0.552272727272727,-0.5507575757575754,-0.4257575757575755,-0.5939393939393937,-0.5090909090909088,-0.5106060606060603,-0.5924242424242421,-0.42727272727272697,-0.5106060606060603,-0.4257575757575755,-0.3424242424242422,-0.38257575757575735,-0.5090909090909087,-0.3007575757575755,-0.5909090909090906,-0.46590909090909066,-0.46893939393939366,-0.42727272727272697,-0.2575757575757574],\"type\":\"scatter\",\"xaxis\":\"x2\",\"yaxis\":\"y2\"},{\"marker\":{\"color\":[0,1,2,3,4,5,6,7,8,9,10,11,12,13,14,15,16,17,18,19,20,21,22,23,24,25,26,27,28,29,30,31,32,33,34,35,36,37,38,39,40,41,42,43,44,45,46,47,48,49,50,51,52,53,54,55,56,57,58,59,60,61,62,63,64,65,66,67,68,69,70,71,72,73,74,75,76,77,78,79,80,81,82,83,84,85,86,87,88,89,90,91,92,93,94,95,96,97,98,99],\"colorbar\":{\"title\":{\"text\":\"Trial\"},\"x\":1.0,\"xpad\":40},\"colorscale\":[[0.0,\"rgb(247,251,255)\"],[0.125,\"rgb(222,235,247)\"],[0.25,\"rgb(198,219,239)\"],[0.375,\"rgb(158,202,225)\"],[0.5,\"rgb(107,174,214)\"],[0.625,\"rgb(66,146,198)\"],[0.75,\"rgb(33,113,181)\"],[0.875,\"rgb(8,81,156)\"],[1.0,\"rgb(8,48,107)\"]],\"line\":{\"color\":\"Grey\",\"width\":0.5},\"showscale\":false},\"mode\":\"markers\",\"showlegend\":false,\"x\":[918,608,546,167,393,49,944,618,618,112,788,692,432,311,724,795,760,487,999,285,856,635,682,701,533,680,830,596,481,735,866,717,666,737,925,554,578,556,392,369,287,433,431,597,586,505,229,634,661,444,573,687,785,788,821,868,806,763,911,505,827,646,717,345,148,304,525,346,459,969,234,757,611,409,703,582,393,360,409,339,476,247,419,540,761,673,463,886,8,814,648,377,326,328,380,272,385,295,320,368],\"y\":[-0.5090909090909088,-0.5507575757575756,-0.5507575757575756,-0.46742424242424213,-0.4674242424242422,-0.5106060606060603,-0.5090909090909088,-0.424242424242424,-0.42424242424242403,-0.46742424242424213,-0.5106060606060603,-0.5939393939393937,-0.46742424242424213,-0.46590909090909066,-0.424242424242424,-0.42575757575757545,-0.46590909090909066,-0.5507575757575756,-0.5537878787878785,-0.4257575757575755,-0.4257575757575755,-0.4659090909090907,-0.38409090909090887,-0.29924242424242403,-0.5106060606060603,-0.424242424242424,-0.5939393939393937,-0.424242424242424,-0.5090909090909088,-0.424242424242424,-0.552272727272727,-0.4643939393939392,-0.5106060606060604,-0.552272727272727,-0.5075757575757573,-0.5507575757575756,-0.3825757575757574,-0.4257575757575755,-0.424242424242424,-0.5090909090909088,-0.4689393939393936,-0.424242424242424,-0.3393939393939392,-0.5507575757575756,-0.3840909090909088,-0.5090909090909089,-0.5090909090909089,-0.5090909090909089,-0.5507575757575756,-0.552272727272727,-0.5090909090909089,-0.424242424242424,-0.38257575757575735,-0.552272727272727,-0.38257575757575735,-0.5090909090909088,-0.5924242424242421,-0.424242424242424,-0.4257575757575755,-0.5075757575757573,-0.5090909090909088,-0.4257575757575755,-0.5106060606060603,-0.38257575757575735,-0.5075757575757573,-0.46742424242424213,-0.424242424242424,-0.46590909090909066,-0.46893939393939366,-0.46742424242424213,-0.42424242424242403,-0.5507575757575756,-0.552272727272727,-0.38409090909090887,-0.4674242424242422,-0.4643939393939392,-0.6356060606060603,-0.42727272727272697,-0.46893939393939366,-0.5106060606060604,-0.4257575757575755,-0.552272727272727,-0.5507575757575754,-0.4257575757575755,-0.5939393939393937,-0.5090909090909088,-0.5106060606060603,-0.5924242424242421,-0.42727272727272697,-0.5106060606060603,-0.4257575757575755,-0.3424242424242422,-0.38257575757575735,-0.5090909090909087,-0.3007575757575755,-0.5909090909090906,-0.46590909090909066,-0.46893939393939366,-0.42727272727272697,-0.2575757575757574],\"type\":\"scatter\",\"xaxis\":\"x3\",\"yaxis\":\"y3\"},{\"marker\":{\"color\":[0,1,2,3,4,5,6,7,8,9,10,11,12,13,14,15,16,17,18,19,20,21,22,23,24,25,26,27,28,29,30,31,32,33,34,35,36,37,38,39,40,41,42,43,44,45,46,47,48,49,50,51,52,53,54,55,56,57,58,59,60,61,62,63,64,65,66,67,68,69,70,71,72,73,74,75,76,77,78,79,80,81,82,83,84,85,86,87,88,89,90,91,92,93,94,95,96,97,98,99],\"colorbar\":{\"title\":{\"text\":\"Trial\"},\"x\":1.0,\"xpad\":40},\"colorscale\":[[0.0,\"rgb(247,251,255)\"],[0.125,\"rgb(222,235,247)\"],[0.25,\"rgb(198,219,239)\"],[0.375,\"rgb(158,202,225)\"],[0.5,\"rgb(107,174,214)\"],[0.625,\"rgb(66,146,198)\"],[0.75,\"rgb(33,113,181)\"],[0.875,\"rgb(8,81,156)\"],[1.0,\"rgb(8,48,107)\"]],\"line\":{\"color\":\"Grey\",\"width\":0.5},\"showscale\":false},\"mode\":\"markers\",\"showlegend\":false,\"x\":[\"sqrt\",\"sqrt\",\"auto\",\"sqrt\",\"auto\",\"auto\",\"auto\",\"sqrt\",\"log2\",\"sqrt\",\"log2\",\"log2\",\"log2\",\"log2\",\"log2\",\"sqrt\",\"log2\",\"sqrt\",\"log2\",\"sqrt\",\"sqrt\",\"log2\",\"log2\",\"log2\",\"log2\",\"log2\",\"log2\",\"sqrt\",\"auto\",\"log2\",\"log2\",\"log2\",\"log2\",\"log2\",\"log2\",\"log2\",\"sqrt\",\"auto\",\"sqrt\",\"sqrt\",\"sqrt\",\"sqrt\",\"sqrt\",\"auto\",\"sqrt\",\"sqrt\",\"sqrt\",\"sqrt\",\"sqrt\",\"sqrt\",\"sqrt\",\"auto\",\"log2\",\"sqrt\",\"log2\",\"sqrt\",\"log2\",\"sqrt\",\"log2\",\"log2\",\"sqrt\",\"log2\",\"log2\",\"log2\",\"log2\",\"log2\",\"log2\",\"auto\",\"log2\",\"log2\",\"sqrt\",\"log2\",\"log2\",\"log2\",\"log2\",\"log2\",\"log2\",\"log2\",\"sqrt\",\"log2\",\"auto\",\"log2\",\"log2\",\"log2\",\"log2\",\"sqrt\",\"log2\",\"sqrt\",\"log2\",\"sqrt\",\"log2\",\"sqrt\",\"sqrt\",\"sqrt\",\"sqrt\",\"sqrt\",\"sqrt\",\"sqrt\",\"sqrt\",\"sqrt\"],\"y\":[-0.5090909090909088,-0.5507575757575756,-0.5507575757575756,-0.46742424242424213,-0.4674242424242422,-0.5106060606060603,-0.5090909090909088,-0.424242424242424,-0.42424242424242403,-0.46742424242424213,-0.5106060606060603,-0.5939393939393937,-0.46742424242424213,-0.46590909090909066,-0.424242424242424,-0.42575757575757545,-0.46590909090909066,-0.5507575757575756,-0.5537878787878785,-0.4257575757575755,-0.4257575757575755,-0.4659090909090907,-0.38409090909090887,-0.29924242424242403,-0.5106060606060603,-0.424242424242424,-0.5939393939393937,-0.424242424242424,-0.5090909090909088,-0.424242424242424,-0.552272727272727,-0.4643939393939392,-0.5106060606060604,-0.552272727272727,-0.5075757575757573,-0.5507575757575756,-0.3825757575757574,-0.4257575757575755,-0.424242424242424,-0.5090909090909088,-0.4689393939393936,-0.424242424242424,-0.3393939393939392,-0.5507575757575756,-0.3840909090909088,-0.5090909090909089,-0.5090909090909089,-0.5090909090909089,-0.5507575757575756,-0.552272727272727,-0.5090909090909089,-0.424242424242424,-0.38257575757575735,-0.552272727272727,-0.38257575757575735,-0.5090909090909088,-0.5924242424242421,-0.424242424242424,-0.4257575757575755,-0.5075757575757573,-0.5090909090909088,-0.4257575757575755,-0.5106060606060603,-0.38257575757575735,-0.5075757575757573,-0.46742424242424213,-0.424242424242424,-0.46590909090909066,-0.46893939393939366,-0.46742424242424213,-0.42424242424242403,-0.5507575757575756,-0.552272727272727,-0.38409090909090887,-0.4674242424242422,-0.4643939393939392,-0.6356060606060603,-0.42727272727272697,-0.46893939393939366,-0.5106060606060604,-0.4257575757575755,-0.552272727272727,-0.5507575757575754,-0.4257575757575755,-0.5939393939393937,-0.5090909090909088,-0.5106060606060603,-0.5924242424242421,-0.42727272727272697,-0.5106060606060603,-0.4257575757575755,-0.3424242424242422,-0.38257575757575735,-0.5090909090909087,-0.3007575757575755,-0.5909090909090906,-0.46590909090909066,-0.46893939393939366,-0.42727272727272697,-0.2575757575757574],\"type\":\"scatter\",\"xaxis\":\"x4\",\"yaxis\":\"y4\"},{\"marker\":{\"color\":[0,1,2,3,4,5,6,7,8,9,10,11,12,13,14,15,16,17,18,19,20,21,22,23,24,25,26,27,28,29,30,31,32,33,34,35,36,37,38,39,40,41,42,43,44,45,46,47,48,49,50,51,52,53,54,55,56,57,58,59,60,61,62,63,64,65,66,67,68,69,70,71,72,73,74,75,76,77,78,79,80,81,82,83,84,85,86,87,88,89,90,91,92,93,94,95,96,97,98,99],\"colorbar\":{\"title\":{\"text\":\"Trial\"},\"x\":1.0,\"xpad\":40},\"colorscale\":[[0.0,\"rgb(247,251,255)\"],[0.125,\"rgb(222,235,247)\"],[0.25,\"rgb(198,219,239)\"],[0.375,\"rgb(158,202,225)\"],[0.5,\"rgb(107,174,214)\"],[0.625,\"rgb(66,146,198)\"],[0.75,\"rgb(33,113,181)\"],[0.875,\"rgb(8,81,156)\"],[1.0,\"rgb(8,48,107)\"]],\"line\":{\"color\":\"Grey\",\"width\":0.5},\"showscale\":false},\"mode\":\"markers\",\"showlegend\":false,\"x\":[31,118,690,849,791,562,893,205,758,380,287,563,219,444,677,997,649,346,184,4,526,718,624,620,464,604,621,445,410,855,700,967,496,805,907,605,168,60,668,747,536,844,821,781,301,124,313,133,267,78,168,579,633,246,638,370,742,506,642,565,410,677,718,651,588,645,807,537,317,477,921,630,697,608,552,663,603,189,504,711,767,611,583,835,732,687,625,660,88,3,224,886,892,979,876,926,878,949,879,795],\"y\":[-0.5090909090909088,-0.5507575757575756,-0.5507575757575756,-0.46742424242424213,-0.4674242424242422,-0.5106060606060603,-0.5090909090909088,-0.424242424242424,-0.42424242424242403,-0.46742424242424213,-0.5106060606060603,-0.5939393939393937,-0.46742424242424213,-0.46590909090909066,-0.424242424242424,-0.42575757575757545,-0.46590909090909066,-0.5507575757575756,-0.5537878787878785,-0.4257575757575755,-0.4257575757575755,-0.4659090909090907,-0.38409090909090887,-0.29924242424242403,-0.5106060606060603,-0.424242424242424,-0.5939393939393937,-0.424242424242424,-0.5090909090909088,-0.424242424242424,-0.552272727272727,-0.4643939393939392,-0.5106060606060604,-0.552272727272727,-0.5075757575757573,-0.5507575757575756,-0.3825757575757574,-0.4257575757575755,-0.424242424242424,-0.5090909090909088,-0.4689393939393936,-0.424242424242424,-0.3393939393939392,-0.5507575757575756,-0.3840909090909088,-0.5090909090909089,-0.5090909090909089,-0.5090909090909089,-0.5507575757575756,-0.552272727272727,-0.5090909090909089,-0.424242424242424,-0.38257575757575735,-0.552272727272727,-0.38257575757575735,-0.5090909090909088,-0.5924242424242421,-0.424242424242424,-0.4257575757575755,-0.5075757575757573,-0.5090909090909088,-0.4257575757575755,-0.5106060606060603,-0.38257575757575735,-0.5075757575757573,-0.46742424242424213,-0.424242424242424,-0.46590909090909066,-0.46893939393939366,-0.46742424242424213,-0.42424242424242403,-0.5507575757575756,-0.552272727272727,-0.38409090909090887,-0.4674242424242422,-0.4643939393939392,-0.6356060606060603,-0.42727272727272697,-0.46893939393939366,-0.5106060606060604,-0.4257575757575755,-0.552272727272727,-0.5507575757575754,-0.4257575757575755,-0.5939393939393937,-0.5090909090909088,-0.5106060606060603,-0.5924242424242421,-0.42727272727272697,-0.5106060606060603,-0.4257575757575755,-0.3424242424242422,-0.38257575757575735,-0.5090909090909087,-0.3007575757575755,-0.5909090909090906,-0.46590909090909066,-0.46893939393939366,-0.42727272727272697,-0.2575757575757574],\"type\":\"scatter\",\"xaxis\":\"x5\",\"yaxis\":\"y5\"},{\"marker\":{\"color\":[0,1,2,3,4,5,6,7,8,9,10,11,12,13,14,15,16,17,18,19,20,21,22,23,24,25,26,27,28,29,30,31,32,33,34,35,36,37,38,39,40,41,42,43,44,45,46,47,48,49,50,51,52,53,54,55,56,57,58,59,60,61,62,63,64,65,66,67,68,69,70,71,72,73,74,75,76,77,78,79,80,81,82,83,84,85,86,87,88,89,90,91,92,93,94,95,96,97,98,99],\"colorbar\":{\"title\":{\"text\":\"Trial\"},\"x\":1.0,\"xpad\":40},\"colorscale\":[[0.0,\"rgb(247,251,255)\"],[0.125,\"rgb(222,235,247)\"],[0.25,\"rgb(198,219,239)\"],[0.375,\"rgb(158,202,225)\"],[0.5,\"rgb(107,174,214)\"],[0.625,\"rgb(66,146,198)\"],[0.75,\"rgb(33,113,181)\"],[0.875,\"rgb(8,81,156)\"],[1.0,\"rgb(8,48,107)\"]],\"line\":{\"color\":\"Grey\",\"width\":0.5},\"showscale\":false},\"mode\":\"markers\",\"showlegend\":false,\"x\":[3,10,1,3,2,6,5,5,5,9,7,5,7,4,7,8,7,9,6,4,8,4,6,6,6,5,6,3,1,8,7,8,3,10,9,4,2,2,6,6,1,6,6,7,2,2,2,5,3,1,3,5,5,2,4,4,5,4,2,5,4,6,7,5,5,3,4,5,6,1,4,6,6,7,5,5,7,7,8,6,3,7,6,6,6,2,7,5,7,2,5,6,6,6,6,6,5,6,5,6],\"y\":[-0.5090909090909088,-0.5507575757575756,-0.5507575757575756,-0.46742424242424213,-0.4674242424242422,-0.5106060606060603,-0.5090909090909088,-0.424242424242424,-0.42424242424242403,-0.46742424242424213,-0.5106060606060603,-0.5939393939393937,-0.46742424242424213,-0.46590909090909066,-0.424242424242424,-0.42575757575757545,-0.46590909090909066,-0.5507575757575756,-0.5537878787878785,-0.4257575757575755,-0.4257575757575755,-0.4659090909090907,-0.38409090909090887,-0.29924242424242403,-0.5106060606060603,-0.424242424242424,-0.5939393939393937,-0.424242424242424,-0.5090909090909088,-0.424242424242424,-0.552272727272727,-0.4643939393939392,-0.5106060606060604,-0.552272727272727,-0.5075757575757573,-0.5507575757575756,-0.3825757575757574,-0.4257575757575755,-0.424242424242424,-0.5090909090909088,-0.4689393939393936,-0.424242424242424,-0.3393939393939392,-0.5507575757575756,-0.3840909090909088,-0.5090909090909089,-0.5090909090909089,-0.5090909090909089,-0.5507575757575756,-0.552272727272727,-0.5090909090909089,-0.424242424242424,-0.38257575757575735,-0.552272727272727,-0.38257575757575735,-0.5090909090909088,-0.5924242424242421,-0.424242424242424,-0.4257575757575755,-0.5075757575757573,-0.5090909090909088,-0.4257575757575755,-0.5106060606060603,-0.38257575757575735,-0.5075757575757573,-0.46742424242424213,-0.424242424242424,-0.46590909090909066,-0.46893939393939366,-0.46742424242424213,-0.42424242424242403,-0.5507575757575756,-0.552272727272727,-0.38409090909090887,-0.4674242424242422,-0.4643939393939392,-0.6356060606060603,-0.42727272727272697,-0.46893939393939366,-0.5106060606060604,-0.4257575757575755,-0.552272727272727,-0.5507575757575754,-0.4257575757575755,-0.5939393939393937,-0.5090909090909088,-0.5106060606060603,-0.5924242424242421,-0.42727272727272697,-0.5106060606060603,-0.4257575757575755,-0.3424242424242422,-0.38257575757575735,-0.5090909090909087,-0.3007575757575755,-0.5909090909090906,-0.46590909090909066,-0.46893939393939366,-0.42727272727272697,-0.2575757575757574],\"type\":\"scatter\",\"xaxis\":\"x6\",\"yaxis\":\"y6\"},{\"marker\":{\"color\":[0,1,2,3,4,5,6,7,8,9,10,11,12,13,14,15,16,17,18,19,20,21,22,23,24,25,26,27,28,29,30,31,32,33,34,35,36,37,38,39,40,41,42,43,44,45,46,47,48,49,50,51,52,53,54,55,56,57,58,59,60,61,62,63,64,65,66,67,68,69,70,71,72,73,74,75,76,77,78,79,80,81,82,83,84,85,86,87,88,89,90,91,92,93,94,95,96,97,98,99],\"colorbar\":{\"title\":{\"text\":\"Trial\"},\"x\":1.0,\"xpad\":40},\"colorscale\":[[0.0,\"rgb(247,251,255)\"],[0.125,\"rgb(222,235,247)\"],[0.25,\"rgb(198,219,239)\"],[0.375,\"rgb(158,202,225)\"],[0.5,\"rgb(107,174,214)\"],[0.625,\"rgb(66,146,198)\"],[0.75,\"rgb(33,113,181)\"],[0.875,\"rgb(8,81,156)\"],[1.0,\"rgb(8,48,107)\"]],\"line\":{\"color\":\"Grey\",\"width\":0.5},\"showscale\":false},\"mode\":\"markers\",\"showlegend\":false,\"x\":[4,4,3,5,3,5,5,4,2,2,4,2,3,2,3,4,3,4,3,4,3,2,2,2,2,2,2,5,5,3,2,3,2,3,3,2,5,5,3,4,2,3,3,3,5,5,5,5,5,4,4,2,2,2,2,2,2,5,2,2,4,2,2,2,2,2,2,5,2,2,3,2,2,2,2,2,2,5,4,3,2,2,2,2,2,2,3,5,2,2,2,3,3,3,3,3,3,3,3,3],\"y\":[-0.5090909090909088,-0.5507575757575756,-0.5507575757575756,-0.46742424242424213,-0.4674242424242422,-0.5106060606060603,-0.5090909090909088,-0.424242424242424,-0.42424242424242403,-0.46742424242424213,-0.5106060606060603,-0.5939393939393937,-0.46742424242424213,-0.46590909090909066,-0.424242424242424,-0.42575757575757545,-0.46590909090909066,-0.5507575757575756,-0.5537878787878785,-0.4257575757575755,-0.4257575757575755,-0.4659090909090907,-0.38409090909090887,-0.29924242424242403,-0.5106060606060603,-0.424242424242424,-0.5939393939393937,-0.424242424242424,-0.5090909090909088,-0.424242424242424,-0.552272727272727,-0.4643939393939392,-0.5106060606060604,-0.552272727272727,-0.5075757575757573,-0.5507575757575756,-0.3825757575757574,-0.4257575757575755,-0.424242424242424,-0.5090909090909088,-0.4689393939393936,-0.424242424242424,-0.3393939393939392,-0.5507575757575756,-0.3840909090909088,-0.5090909090909089,-0.5090909090909089,-0.5090909090909089,-0.5507575757575756,-0.552272727272727,-0.5090909090909089,-0.424242424242424,-0.38257575757575735,-0.552272727272727,-0.38257575757575735,-0.5090909090909088,-0.5924242424242421,-0.424242424242424,-0.4257575757575755,-0.5075757575757573,-0.5090909090909088,-0.4257575757575755,-0.5106060606060603,-0.38257575757575735,-0.5075757575757573,-0.46742424242424213,-0.424242424242424,-0.46590909090909066,-0.46893939393939366,-0.46742424242424213,-0.42424242424242403,-0.5507575757575756,-0.552272727272727,-0.38409090909090887,-0.4674242424242422,-0.4643939393939392,-0.6356060606060603,-0.42727272727272697,-0.46893939393939366,-0.5106060606060604,-0.4257575757575755,-0.552272727272727,-0.5507575757575754,-0.4257575757575755,-0.5939393939393937,-0.5090909090909088,-0.5106060606060603,-0.5924242424242421,-0.42727272727272697,-0.5106060606060603,-0.4257575757575755,-0.3424242424242422,-0.38257575757575735,-0.5090909090909087,-0.3007575757575755,-0.5909090909090906,-0.46590909090909066,-0.46893939393939366,-0.42727272727272697,-0.2575757575757574],\"type\":\"scatter\",\"xaxis\":\"x7\",\"yaxis\":\"y7\"},{\"marker\":{\"color\":[0,1,2,3,4,5,6,7,8,9,10,11,12,13,14,15,16,17,18,19,20,21,22,23,24,25,26,27,28,29,30,31,32,33,34,35,36,37,38,39,40,41,42,43,44,45,46,47,48,49,50,51,52,53,54,55,56,57,58,59,60,61,62,63,64,65,66,67,68,69,70,71,72,73,74,75,76,77,78,79,80,81,82,83,84,85,86,87,88,89,90,91,92,93,94,95,96,97,98,99],\"colorbar\":{\"title\":{\"text\":\"Trial\"},\"x\":1.0,\"xpad\":40},\"colorscale\":[[0.0,\"rgb(247,251,255)\"],[0.125,\"rgb(222,235,247)\"],[0.25,\"rgb(198,219,239)\"],[0.375,\"rgb(158,202,225)\"],[0.5,\"rgb(107,174,214)\"],[0.625,\"rgb(66,146,198)\"],[0.75,\"rgb(33,113,181)\"],[0.875,\"rgb(8,81,156)\"],[1.0,\"rgb(8,48,107)\"]],\"line\":{\"color\":\"Grey\",\"width\":0.5},\"showscale\":false},\"mode\":\"markers\",\"showlegend\":false,\"x\":[911,819,986,705,22,942,773,459,904,402,351,600,255,554,181,148,190,438,16,262,481,660,336,342,330,521,538,352,339,92,244,83,108,196,79,408,305,281,186,295,410,125,210,220,344,395,310,370,467,577,229,496,796,769,984,900,942,826,704,988,807,443,649,880,942,849,866,896,960,772,144,270,322,389,358,975,387,296,919,428,252,328,215,368,288,383,418,307,173,517,341,36,470,70,36,16,721,39,111,48],\"y\":[-0.5090909090909088,-0.5507575757575756,-0.5507575757575756,-0.46742424242424213,-0.4674242424242422,-0.5106060606060603,-0.5090909090909088,-0.424242424242424,-0.42424242424242403,-0.46742424242424213,-0.5106060606060603,-0.5939393939393937,-0.46742424242424213,-0.46590909090909066,-0.424242424242424,-0.42575757575757545,-0.46590909090909066,-0.5507575757575756,-0.5537878787878785,-0.4257575757575755,-0.4257575757575755,-0.4659090909090907,-0.38409090909090887,-0.29924242424242403,-0.5106060606060603,-0.424242424242424,-0.5939393939393937,-0.424242424242424,-0.5090909090909088,-0.424242424242424,-0.552272727272727,-0.4643939393939392,-0.5106060606060604,-0.552272727272727,-0.5075757575757573,-0.5507575757575756,-0.3825757575757574,-0.4257575757575755,-0.424242424242424,-0.5090909090909088,-0.4689393939393936,-0.424242424242424,-0.3393939393939392,-0.5507575757575756,-0.3840909090909088,-0.5090909090909089,-0.5090909090909089,-0.5090909090909089,-0.5507575757575756,-0.552272727272727,-0.5090909090909089,-0.424242424242424,-0.38257575757575735,-0.552272727272727,-0.38257575757575735,-0.5090909090909088,-0.5924242424242421,-0.424242424242424,-0.4257575757575755,-0.5075757575757573,-0.5090909090909088,-0.4257575757575755,-0.5106060606060603,-0.38257575757575735,-0.5075757575757573,-0.46742424242424213,-0.424242424242424,-0.46590909090909066,-0.46893939393939366,-0.46742424242424213,-0.42424242424242403,-0.5507575757575756,-0.552272727272727,-0.38409090909090887,-0.4674242424242422,-0.4643939393939392,-0.6356060606060603,-0.42727272727272697,-0.46893939393939366,-0.5106060606060604,-0.4257575757575755,-0.552272727272727,-0.5507575757575754,-0.4257575757575755,-0.5939393939393937,-0.5090909090909088,-0.5106060606060603,-0.5924242424242421,-0.42727272727272697,-0.5106060606060603,-0.4257575757575755,-0.3424242424242422,-0.38257575757575735,-0.5090909090909087,-0.3007575757575755,-0.5909090909090906,-0.46590909090909066,-0.46893939393939366,-0.42727272727272697,-0.2575757575757574],\"type\":\"scatter\",\"xaxis\":\"x8\",\"yaxis\":\"y8\"}],                        {\"template\":{\"data\":{\"bar\":[{\"error_x\":{\"color\":\"#2a3f5f\"},\"error_y\":{\"color\":\"#2a3f5f\"},\"marker\":{\"line\":{\"color\":\"#E5ECF6\",\"width\":0.5},\"pattern\":{\"fillmode\":\"overlay\",\"size\":10,\"solidity\":0.2}},\"type\":\"bar\"}],\"barpolar\":[{\"marker\":{\"line\":{\"color\":\"#E5ECF6\",\"width\":0.5},\"pattern\":{\"fillmode\":\"overlay\",\"size\":10,\"solidity\":0.2}},\"type\":\"barpolar\"}],\"carpet\":[{\"aaxis\":{\"endlinecolor\":\"#2a3f5f\",\"gridcolor\":\"white\",\"linecolor\":\"white\",\"minorgridcolor\":\"white\",\"startlinecolor\":\"#2a3f5f\"},\"baxis\":{\"endlinecolor\":\"#2a3f5f\",\"gridcolor\":\"white\",\"linecolor\":\"white\",\"minorgridcolor\":\"white\",\"startlinecolor\":\"#2a3f5f\"},\"type\":\"carpet\"}],\"choropleth\":[{\"colorbar\":{\"outlinewidth\":0,\"ticks\":\"\"},\"type\":\"choropleth\"}],\"contour\":[{\"colorbar\":{\"outlinewidth\":0,\"ticks\":\"\"},\"colorscale\":[[0.0,\"#0d0887\"],[0.1111111111111111,\"#46039f\"],[0.2222222222222222,\"#7201a8\"],[0.3333333333333333,\"#9c179e\"],[0.4444444444444444,\"#bd3786\"],[0.5555555555555556,\"#d8576b\"],[0.6666666666666666,\"#ed7953\"],[0.7777777777777778,\"#fb9f3a\"],[0.8888888888888888,\"#fdca26\"],[1.0,\"#f0f921\"]],\"type\":\"contour\"}],\"contourcarpet\":[{\"colorbar\":{\"outlinewidth\":0,\"ticks\":\"\"},\"type\":\"contourcarpet\"}],\"heatmap\":[{\"colorbar\":{\"outlinewidth\":0,\"ticks\":\"\"},\"colorscale\":[[0.0,\"#0d0887\"],[0.1111111111111111,\"#46039f\"],[0.2222222222222222,\"#7201a8\"],[0.3333333333333333,\"#9c179e\"],[0.4444444444444444,\"#bd3786\"],[0.5555555555555556,\"#d8576b\"],[0.6666666666666666,\"#ed7953\"],[0.7777777777777778,\"#fb9f3a\"],[0.8888888888888888,\"#fdca26\"],[1.0,\"#f0f921\"]],\"type\":\"heatmap\"}],\"heatmapgl\":[{\"colorbar\":{\"outlinewidth\":0,\"ticks\":\"\"},\"colorscale\":[[0.0,\"#0d0887\"],[0.1111111111111111,\"#46039f\"],[0.2222222222222222,\"#7201a8\"],[0.3333333333333333,\"#9c179e\"],[0.4444444444444444,\"#bd3786\"],[0.5555555555555556,\"#d8576b\"],[0.6666666666666666,\"#ed7953\"],[0.7777777777777778,\"#fb9f3a\"],[0.8888888888888888,\"#fdca26\"],[1.0,\"#f0f921\"]],\"type\":\"heatmapgl\"}],\"histogram\":[{\"marker\":{\"pattern\":{\"fillmode\":\"overlay\",\"size\":10,\"solidity\":0.2}},\"type\":\"histogram\"}],\"histogram2d\":[{\"colorbar\":{\"outlinewidth\":0,\"ticks\":\"\"},\"colorscale\":[[0.0,\"#0d0887\"],[0.1111111111111111,\"#46039f\"],[0.2222222222222222,\"#7201a8\"],[0.3333333333333333,\"#9c179e\"],[0.4444444444444444,\"#bd3786\"],[0.5555555555555556,\"#d8576b\"],[0.6666666666666666,\"#ed7953\"],[0.7777777777777778,\"#fb9f3a\"],[0.8888888888888888,\"#fdca26\"],[1.0,\"#f0f921\"]],\"type\":\"histogram2d\"}],\"histogram2dcontour\":[{\"colorbar\":{\"outlinewidth\":0,\"ticks\":\"\"},\"colorscale\":[[0.0,\"#0d0887\"],[0.1111111111111111,\"#46039f\"],[0.2222222222222222,\"#7201a8\"],[0.3333333333333333,\"#9c179e\"],[0.4444444444444444,\"#bd3786\"],[0.5555555555555556,\"#d8576b\"],[0.6666666666666666,\"#ed7953\"],[0.7777777777777778,\"#fb9f3a\"],[0.8888888888888888,\"#fdca26\"],[1.0,\"#f0f921\"]],\"type\":\"histogram2dcontour\"}],\"mesh3d\":[{\"colorbar\":{\"outlinewidth\":0,\"ticks\":\"\"},\"type\":\"mesh3d\"}],\"parcoords\":[{\"line\":{\"colorbar\":{\"outlinewidth\":0,\"ticks\":\"\"}},\"type\":\"parcoords\"}],\"pie\":[{\"automargin\":true,\"type\":\"pie\"}],\"scatter\":[{\"marker\":{\"colorbar\":{\"outlinewidth\":0,\"ticks\":\"\"}},\"type\":\"scatter\"}],\"scatter3d\":[{\"line\":{\"colorbar\":{\"outlinewidth\":0,\"ticks\":\"\"}},\"marker\":{\"colorbar\":{\"outlinewidth\":0,\"ticks\":\"\"}},\"type\":\"scatter3d\"}],\"scattercarpet\":[{\"marker\":{\"colorbar\":{\"outlinewidth\":0,\"ticks\":\"\"}},\"type\":\"scattercarpet\"}],\"scattergeo\":[{\"marker\":{\"colorbar\":{\"outlinewidth\":0,\"ticks\":\"\"}},\"type\":\"scattergeo\"}],\"scattergl\":[{\"marker\":{\"colorbar\":{\"outlinewidth\":0,\"ticks\":\"\"}},\"type\":\"scattergl\"}],\"scattermapbox\":[{\"marker\":{\"colorbar\":{\"outlinewidth\":0,\"ticks\":\"\"}},\"type\":\"scattermapbox\"}],\"scatterpolar\":[{\"marker\":{\"colorbar\":{\"outlinewidth\":0,\"ticks\":\"\"}},\"type\":\"scatterpolar\"}],\"scatterpolargl\":[{\"marker\":{\"colorbar\":{\"outlinewidth\":0,\"ticks\":\"\"}},\"type\":\"scatterpolargl\"}],\"scatterternary\":[{\"marker\":{\"colorbar\":{\"outlinewidth\":0,\"ticks\":\"\"}},\"type\":\"scatterternary\"}],\"surface\":[{\"colorbar\":{\"outlinewidth\":0,\"ticks\":\"\"},\"colorscale\":[[0.0,\"#0d0887\"],[0.1111111111111111,\"#46039f\"],[0.2222222222222222,\"#7201a8\"],[0.3333333333333333,\"#9c179e\"],[0.4444444444444444,\"#bd3786\"],[0.5555555555555556,\"#d8576b\"],[0.6666666666666666,\"#ed7953\"],[0.7777777777777778,\"#fb9f3a\"],[0.8888888888888888,\"#fdca26\"],[1.0,\"#f0f921\"]],\"type\":\"surface\"}],\"table\":[{\"cells\":{\"fill\":{\"color\":\"#EBF0F8\"},\"line\":{\"color\":\"white\"}},\"header\":{\"fill\":{\"color\":\"#C8D4E3\"},\"line\":{\"color\":\"white\"}},\"type\":\"table\"}]},\"layout\":{\"annotationdefaults\":{\"arrowcolor\":\"#2a3f5f\",\"arrowhead\":0,\"arrowwidth\":1},\"autotypenumbers\":\"strict\",\"coloraxis\":{\"colorbar\":{\"outlinewidth\":0,\"ticks\":\"\"}},\"colorscale\":{\"diverging\":[[0,\"#8e0152\"],[0.1,\"#c51b7d\"],[0.2,\"#de77ae\"],[0.3,\"#f1b6da\"],[0.4,\"#fde0ef\"],[0.5,\"#f7f7f7\"],[0.6,\"#e6f5d0\"],[0.7,\"#b8e186\"],[0.8,\"#7fbc41\"],[0.9,\"#4d9221\"],[1,\"#276419\"]],\"sequential\":[[0.0,\"#0d0887\"],[0.1111111111111111,\"#46039f\"],[0.2222222222222222,\"#7201a8\"],[0.3333333333333333,\"#9c179e\"],[0.4444444444444444,\"#bd3786\"],[0.5555555555555556,\"#d8576b\"],[0.6666666666666666,\"#ed7953\"],[0.7777777777777778,\"#fb9f3a\"],[0.8888888888888888,\"#fdca26\"],[1.0,\"#f0f921\"]],\"sequentialminus\":[[0.0,\"#0d0887\"],[0.1111111111111111,\"#46039f\"],[0.2222222222222222,\"#7201a8\"],[0.3333333333333333,\"#9c179e\"],[0.4444444444444444,\"#bd3786\"],[0.5555555555555556,\"#d8576b\"],[0.6666666666666666,\"#ed7953\"],[0.7777777777777778,\"#fb9f3a\"],[0.8888888888888888,\"#fdca26\"],[1.0,\"#f0f921\"]]},\"colorway\":[\"#636efa\",\"#EF553B\",\"#00cc96\",\"#ab63fa\",\"#FFA15A\",\"#19d3f3\",\"#FF6692\",\"#B6E880\",\"#FF97FF\",\"#FECB52\"],\"font\":{\"color\":\"#2a3f5f\"},\"geo\":{\"bgcolor\":\"white\",\"lakecolor\":\"white\",\"landcolor\":\"#E5ECF6\",\"showlakes\":true,\"showland\":true,\"subunitcolor\":\"white\"},\"hoverlabel\":{\"align\":\"left\"},\"hovermode\":\"closest\",\"mapbox\":{\"style\":\"light\"},\"paper_bgcolor\":\"white\",\"plot_bgcolor\":\"#E5ECF6\",\"polar\":{\"angularaxis\":{\"gridcolor\":\"white\",\"linecolor\":\"white\",\"ticks\":\"\"},\"bgcolor\":\"#E5ECF6\",\"radialaxis\":{\"gridcolor\":\"white\",\"linecolor\":\"white\",\"ticks\":\"\"}},\"scene\":{\"xaxis\":{\"backgroundcolor\":\"#E5ECF6\",\"gridcolor\":\"white\",\"gridwidth\":2,\"linecolor\":\"white\",\"showbackground\":true,\"ticks\":\"\",\"zerolinecolor\":\"white\"},\"yaxis\":{\"backgroundcolor\":\"#E5ECF6\",\"gridcolor\":\"white\",\"gridwidth\":2,\"linecolor\":\"white\",\"showbackground\":true,\"ticks\":\"\",\"zerolinecolor\":\"white\"},\"zaxis\":{\"backgroundcolor\":\"#E5ECF6\",\"gridcolor\":\"white\",\"gridwidth\":2,\"linecolor\":\"white\",\"showbackground\":true,\"ticks\":\"\",\"zerolinecolor\":\"white\"}},\"shapedefaults\":{\"line\":{\"color\":\"#2a3f5f\"}},\"ternary\":{\"aaxis\":{\"gridcolor\":\"white\",\"linecolor\":\"white\",\"ticks\":\"\"},\"baxis\":{\"gridcolor\":\"white\",\"linecolor\":\"white\",\"ticks\":\"\"},\"bgcolor\":\"#E5ECF6\",\"caxis\":{\"gridcolor\":\"white\",\"linecolor\":\"white\",\"ticks\":\"\"}},\"title\":{\"x\":0.05},\"xaxis\":{\"automargin\":true,\"gridcolor\":\"white\",\"linecolor\":\"white\",\"ticks\":\"\",\"title\":{\"standoff\":15},\"zerolinecolor\":\"white\",\"zerolinewidth\":2},\"yaxis\":{\"automargin\":true,\"gridcolor\":\"white\",\"linecolor\":\"white\",\"ticks\":\"\",\"title\":{\"standoff\":15},\"zerolinecolor\":\"white\",\"zerolinewidth\":2}}},\"xaxis\":{\"anchor\":\"y\",\"domain\":[0.0,0.103125],\"title\":{\"text\":\"bootstrap\"}},\"yaxis\":{\"anchor\":\"x\",\"domain\":[0.0,1.0],\"title\":{\"text\":\"Objective Value\"}},\"xaxis2\":{\"anchor\":\"y2\",\"domain\":[0.128125,0.23124999999999998],\"title\":{\"text\":\"criterion\"}},\"yaxis2\":{\"anchor\":\"x2\",\"domain\":[0.0,1.0],\"matches\":\"y\",\"showticklabels\":false},\"xaxis3\":{\"anchor\":\"y3\",\"domain\":[0.25625,0.359375],\"title\":{\"text\":\"max_depth\"}},\"yaxis3\":{\"anchor\":\"x3\",\"domain\":[0.0,1.0],\"matches\":\"y\",\"showticklabels\":false},\"xaxis4\":{\"anchor\":\"y4\",\"domain\":[0.38437499999999997,0.48749999999999993],\"title\":{\"text\":\"max_features\"}},\"yaxis4\":{\"anchor\":\"x4\",\"domain\":[0.0,1.0],\"matches\":\"y\",\"showticklabels\":false},\"xaxis5\":{\"anchor\":\"y5\",\"domain\":[0.5125,0.615625],\"title\":{\"text\":\"max_leaf_nodes\"}},\"yaxis5\":{\"anchor\":\"x5\",\"domain\":[0.0,1.0],\"matches\":\"y\",\"showticklabels\":false},\"xaxis6\":{\"anchor\":\"y6\",\"domain\":[0.640625,0.74375],\"title\":{\"text\":\"min_samples_leaf\"}},\"yaxis6\":{\"anchor\":\"x6\",\"domain\":[0.0,1.0],\"matches\":\"y\",\"showticklabels\":false},\"xaxis7\":{\"anchor\":\"y7\",\"domain\":[0.76875,0.8718750000000001],\"title\":{\"text\":\"min_samples_split\"}},\"yaxis7\":{\"anchor\":\"x7\",\"domain\":[0.0,1.0],\"matches\":\"y\",\"showticklabels\":false},\"xaxis8\":{\"anchor\":\"y8\",\"domain\":[0.8968750000000001,1.0],\"title\":{\"text\":\"n_estimators\"}},\"yaxis8\":{\"anchor\":\"x8\",\"domain\":[0.0,1.0],\"matches\":\"y\",\"showticklabels\":false},\"title\":{\"text\":\"Slice Plot\"},\"width\":2400},                        {\"responsive\": true}                    ).then(function(){\n",
              "                            \n",
              "var gd = document.getElementById('096f1b97-7147-43d6-bc30-4c5d3f2abbdd');\n",
              "var x = new MutationObserver(function (mutations, observer) {{\n",
              "        var display = window.getComputedStyle(gd).display;\n",
              "        if (!display || display === 'none') {{\n",
              "            console.log([gd, 'removed!']);\n",
              "            Plotly.purge(gd);\n",
              "            observer.disconnect();\n",
              "        }}\n",
              "}});\n",
              "\n",
              "// Listen for the removal of the full notebook cells\n",
              "var notebookContainer = gd.closest('#notebook-container');\n",
              "if (notebookContainer) {{\n",
              "    x.observe(notebookContainer, {childList: true});\n",
              "}}\n",
              "\n",
              "// Listen for the clearing of the current output cell\n",
              "var outputEl = gd.closest('.output');\n",
              "if (outputEl) {{\n",
              "    x.observe(outputEl, {childList: true});\n",
              "}}\n",
              "\n",
              "                        })                };                            </script>        </div>\n",
              "</body>\n",
              "</html>"
            ]
          },
          "metadata": {}
        }
      ]
    },
    {
      "cell_type": "markdown",
      "source": [
        "## 特徴量の重要度の評価"
      ],
      "metadata": {
        "id": "SL9jdk3UPzYz"
      }
    },
    {
      "cell_type": "markdown",
      "source": [
        "妥当性の検証を終え、クロスバリデーションとOptunaでより正確性が高かったモデルを使い、特徴量の重要度の評価を行います。\n",
        "特徴量の重要度の評価はScikit-learnのランダムフォレストモデルライブラリのfeature_importances()という関数を使います。\n"
      ],
      "metadata": {
        "id": "YJroG0CJPz--"
      }
    },
    {
      "cell_type": "code",
      "source": [
        "if accuracy_random_forest_op > accuracy_random_forest:\n",
        "  print(\"妥当性の検証方法でより正確だったのはOptunaです\")\n",
        "  feature_importances = rforest_model_post_optuna.feature_importances_\n",
        "else:\n",
        "  print(\"妥当性の検証方法でより正確だったのはCross Validationです\")\n",
        "  feature_importances = rforest_model_cv.feature_importances_\n",
        "\n",
        "feature_importances_dict = {}\n",
        "\n",
        "for i, importance in enumerate(feature_importances):\n",
        "  perc = importance * 100\n",
        "  feature_importances_dict[finalized_df.columns[i]] = perc # 一行目は出力行のため、考慮しない\n",
        "\n",
        "sorted_dict = {}\n",
        "sorted_keys = sorted(feature_importances_dict, key=feature_importances_dict.get)\n",
        "for w in sorted_keys:\n",
        "    sorted_dict[w] =  feature_importances_dict[w]\n",
        "  \n",
        "for keys in sorted_dict.keys():\n",
        "  print(f\"フィーチャー名：{keys:>12s}は出力データの結果に{sorted_dict[keys]:>7.2f}%関与しています\")"
      ],
      "metadata": {
        "colab": {
          "base_uri": "https://localhost:8080/"
        },
        "id": "qombCtB5P2mU",
        "outputId": "498346a4-136c-4a5f-d0c9-118ef11b0489"
      },
      "execution_count": 18,
      "outputs": [
        {
          "output_type": "stream",
          "name": "stdout",
          "text": [
            "妥当性の検証方法でより正確だったのはCross Validationです\n",
            "フィーチャー名：       MCP-1は出力データの結果に   6.85%関与しています\n",
            "フィーチャー名：         LDHは出力データの結果に   7.58%関与しています\n",
            "フィーチャー名：         CRPは出力データの結果に   7.65%関与しています\n",
            "フィーチャー名：     EOTAXINは出力データの結果に   8.00%関与しています\n",
            "フィーチャー名：   P/F-ratioは出力データの結果に   9.00%関与しています\n",
            "フィーチャー名：BAL(neutro-%)は出力データの結果に   9.49%関与しています\n",
            "フィーチャー名：        IL-6は出力データの結果に  10.31%関与しています\n",
            "フィーチャー名：        IL-8は出力データの結果に  11.21%関与しています\n",
            "フィーチャー名：      GM-CSFは出力データの結果に  13.64%関与しています\n",
            "フィーチャー名：       MMP-1は出力データの結果に  16.28%関与しています\n"
          ]
        }
      ]
    },
    {
      "cell_type": "markdown",
      "source": [
        "##  特徴量の重要度の評価に基づきモデル再構築"
      ],
      "metadata": {
        "id": "TRY9f7vuP4eT"
      }
    },
    {
      "cell_type": "markdown",
      "source": [
        "特徴量設計は、モデルタイプやそのパラメータよりもモデルの品質に大きな影響を与えるという共通認識があります。特徴量選択が重要な問題である理由として、実際のパターンを隠してしまうほどの余分な特徴量で学習してしまうと、本来のパターンを見つけるのが難しくなります。この場合、モデルは不要な特徴量のノイズパターンを使用し始め、結果としてパフォーマンスの低下につながります。加え、特徴量の数を減らすと、一般的にモデルの学習（トレーニング）が大幅に速くなります。そして大抵の場合、結果として得られるモデルは単純で理解しやすいものとなります。常に単純なモデルになるように心がけ、ノイズを削除し、ロバストなモデル作成を心がける必要があります。詳しくはこちらを参照して下さい [[4](https://www.rapidminer.jp/wp-content/uploads/2020/05/%E6%A9%9F%E6%A2%B0%E5%AD%A6%E7%BF%92%E3%81%AE%E3%81%9F%E3%82%81%E3%81%AE%E7%89%B9%E5%BE%B4%E9%87%8F%E6%9C%80%E9%81%A9%E5%8C%96.pdf)]。\n",
        "\n",
        "今回はForward Selectionという考え方を応用し、特徴量の重要度の評価で最も正答率が高かった5個の属性を保持して再度モデルを作成します。"
      ],
      "metadata": {
        "id": "7XOqF-lkP5N9"
      }
    },
    {
      "cell_type": "code",
      "source": [
        "top_five_params = list(sorted_dict.keys())[-5:]\n",
        "print(f\"The top ten parameters are: {top_five_params}\")\n",
        "top_five_params.append('90day-mortality')\n",
        "\n",
        "# 最後に使用したPandasデータフレームをコピーを作成する\n",
        "finalized_df_c = finalized_df.copy()\n",
        "\n",
        "# 新しいデータフレームから重要因子以外を取り除く\n",
        "finalized_df_c = finalized_df_c.drop(columns=[col for col in finalized_df.columns if col not in top_five_params])\n",
        "\n",
        "# 行数と列数を変数として保管する\n",
        "NUM_ROWS, NUM_COLS = finalized_df_c.shape[0], finalized_df_c.shape[1]\n",
        "\n",
        "# Y (ラベル) ターゲットラベル\n",
        "Y_col = '90day-mortality'\n",
        "# X (フィーチャー) ターゲットラベル以外の全ての行\n",
        "X_cols = finalized_df_c.loc[:, finalized_df_c.columns != Y_col].columns\n",
        "\n",
        "X_train, X_val, y_train, y_val = \\\n",
        "train_test_split(finalized_df_c[X_cols], finalized_df_c[Y_col],test_size=0.2, random_state=42)\n",
        "\n",
        "print(\"X_train.shape = \", X_train.shape, \" \\t y_train.shape = \", y_train.shape)\n",
        "print(\"X_val.shape = \", X_val.shape, \" \\t y_val.shape = \", y_val.shape)\n",
        "\n",
        "if accuracy_random_forest_op > accuracy_random_forest:\n",
        "  study = optuna.create_study(direction='maximize')\n",
        "  study.optimize(objective, n_trials=100)\n",
        "\n",
        "  trial = study.best_trial\n",
        "  print('Accuracy: {}'.format(trial.value))\n",
        "\n",
        "  # チューニングしたハイパーパラメーターをフィット\n",
        "  rforest_model_forward_selection = ensemble.RandomForestClassifier(bootstrap = trial.params['bootstrap'], criterion = trial.params['criterion'],\n",
        "                                     max_depth = trial.params['max_depth'], max_features = trial.params['max_features'],\n",
        "                                     max_leaf_nodes = trial.params['max_leaf_nodes'],n_estimators = trial.params['n_estimators'],\n",
        "                                     min_samples_split = trial.params['min_samples_split'],min_samples_leaf = trial.params['min_samples_leaf'],                                     \n",
        "                                     n_jobs=2)\n",
        "\n",
        "\n",
        "else:\n",
        "  # cross validationを使い、階層や決定木の数をチューニングしてみる（ハイパーパラメーター）\n",
        "  # 注：過適合/過剰適合のバランスを見極めながらハイパーパラメーターチューニングを行う\n",
        "  best_accuracy = 0\n",
        "  best_depth = 1\n",
        "  best_num_trees = 42\n",
        "\n",
        "  for ntrees in range(50,450,100):  # 決定木50から350の間（ステップ数：100)\n",
        "      for d in range(1,20): # 階層1から20の間\n",
        "          rforest_model = ensemble.RandomForestClassifier(\n",
        "              n_estimators= ntrees,\n",
        "              criterion='entropy',\n",
        "              max_depth=d,\n",
        "              min_samples_split=2,\n",
        "              min_samples_leaf=1,\n",
        "              min_weight_fraction_leaf=0.0,\n",
        "              max_features='auto',\n",
        "              max_leaf_nodes=None,\n",
        "              min_impurity_decrease=0.0,\n",
        "              bootstrap=True,\n",
        "              oob_score=False,\n",
        "              n_jobs=-1,\n",
        "              random_state=0,\n",
        "              verbose=0,\n",
        "              warm_start=False,\n",
        "              class_weight='balanced'\n",
        "          )\n",
        "          cv_scores = cross_val_score( rforest_model, X_train, y_train, cv=5 ) # 5 はトレーニング・テストの割合が8割・2割ということを表す\n",
        "          average_cv_accuracy = cv_scores.mean()  # cvスコアの平均値cv=5はスコアを五つ出すため、その平均値を見る\n",
        "          if average_cv_accuracy >= best_accuracy: # cvスコアの平均値正確性が現在の最適正確性を上回った場合、現在のcvスコア平均値を出した決定木数・階層を最適とする\n",
        "              best_accuracy = average_cv_accuracy\n",
        "              best_depth = d\n",
        "              best_num_trees = ntrees\n",
        "\n",
        "  print()\n",
        "  print(f\"最適層: {best_depth}, 最適決定木数： {best_num_trees}, 最高予測精度：{best_accuracy}\")\n",
        "\n",
        "  # 上記で見つけた最適層・最適決定木数をもとにモデルの構築・モデルのトレーニング\n",
        "  rforest_model_forward_selection = ensemble.RandomForestClassifier(max_depth=best_depth, n_estimators=best_num_trees) # ensemble.RandomForestClassifierからRF解析モデルを引っ張ってくる\n",
        "\n",
        "# モデルを再度トレーニングする\n",
        "rforest_model_forward_selection.fit(X_train, y_train) \n",
        "\n",
        "# 再度トレーニングした後のモデルのパフォーマンス検証\n",
        "# テストデータにrforest_modelに.predict()関数を応用し、RFモデルがラベルを何個正確に予測出来たかを検証する\n",
        "y_pred_op = rforest_model_forward_selection.predict(X_val)\n",
        "\n",
        "#モデルを作成する段階でのモデルの識別精度\n",
        "trainaccuracy_random_forest = rforest_model_forward_selection.score(X_train, y_train)\n",
        "print('TrainAccuracy: {}'.format(trainaccuracy_random_forest))\n",
        "\n",
        "#作成したモデルに学習に使用していない評価用のデータセットを入力し精度を確認\n",
        "accuracy_random_forest = accuracy_score(y_val, y_pred_op)\n",
        "print('Accuracy: {}'.format(accuracy_random_forest))\n",
        "\n",
        "# 正確性の出力\n",
        "print(classification_report(y_val, y_pred_op))\n",
        "\n",
        "# フィーチャーの重要度を出力するコード\n",
        "feature_importances_opt = rforest_model_forward_selection.feature_importances_\n",
        "\n",
        "feature_importances_dict = {}\n",
        "for i, importance in enumerate(feature_importances_opt):\n",
        "  perc = importance * 100\n",
        "  feature_importances_dict[finalized_df_c.columns[i]] = perc\n",
        "\n",
        "sorted_dict = {}\n",
        "sorted_keys = sorted(feature_importances_dict, key=feature_importances_dict.get)\n",
        "for w in sorted_keys:\n",
        "    sorted_dict[w] =  feature_importances_dict[w]\n",
        "  \n",
        "for keys in sorted_dict.keys():\n",
        "  print(f\"フィーチャー名：{keys:>12s}は出力データの結果に{sorted_dict[keys]:>7.2f}%関与しています\")"
      ],
      "metadata": {
        "colab": {
          "base_uri": "https://localhost:8080/"
        },
        "id": "guulZzHQP-ef",
        "outputId": "20331088-3670-41f0-d388-add0fd720ca1"
      },
      "execution_count": 20,
      "outputs": [
        {
          "output_type": "stream",
          "name": "stdout",
          "text": [
            "The top ten parameters are: ['BAL(neutro-%)', 'IL-6', 'IL-8', 'GM-CSF', 'MMP-1']\n",
            "X_train.shape =  (113, 5)  \t y_train.shape =  (113,)\n",
            "X_val.shape =  (29, 5)  \t y_val.shape =  (29,)\n",
            "\n",
            "最適層: 9, 最適決定木数： 150, 最高予測精度：0.6466403162055335\n",
            "TrainAccuracy: 1.0\n",
            "Accuracy: 0.4827586206896552\n",
            "              precision    recall  f1-score   support\n",
            "\n",
            "         0.0       0.57      0.67      0.62        18\n",
            "         1.0       0.25      0.18      0.21        11\n",
            "\n",
            "    accuracy                           0.48        29\n",
            "   macro avg       0.41      0.42      0.41        29\n",
            "weighted avg       0.45      0.48      0.46        29\n",
            "\n",
            "フィーチャー名：BAL(neutro-%)は出力データの結果に  17.91%関与しています\n",
            "フィーチャー名：        IL-6は出力データの結果に  18.77%関与しています\n",
            "フィーチャー名：      GM-CSFは出力データの結果に  19.23%関与しています\n",
            "フィーチャー名：        IL-8は出力データの結果に  20.33%関与しています\n",
            "フィーチャー名：       MMP-1は出力データの結果に  23.77%関与しています\n"
          ]
        }
      ]
    },
    {
      "cell_type": "markdown",
      "source": [
        "混同行列で予測結果を確認していきましょう。"
      ],
      "metadata": {
        "id": "6llkG1YFQCkt"
      }
    },
    {
      "cell_type": "code",
      "source": [
        "result = confusion_matrix(y_val, y_pred_op)\n",
        "print(\"Confusion Matrix:\")\n",
        "#confusion matrix\n",
        "labels = sorted(finalized_df_c['90day-mortality'].unique())\n",
        "ax = sns.heatmap(\n",
        "confusion_matrix(y_val, y_pred_op),\n",
        "annot=True,\n",
        "xticklabels=labels,\n",
        "yticklabels=labels\n",
        ")\n",
        "ax.set(xlabel='true label', ylabel='predicted label')"
      ],
      "metadata": {
        "colab": {
          "base_uri": "https://localhost:8080/",
          "height": 325
        },
        "id": "MPzMzoUeP-lX",
        "outputId": "45b716d4-f88e-4de3-c6c6-0997bc30a089"
      },
      "execution_count": 21,
      "outputs": [
        {
          "output_type": "stream",
          "name": "stdout",
          "text": [
            "Confusion Matrix:\n"
          ]
        },
        {
          "output_type": "execute_result",
          "data": {
            "text/plain": [
              "[Text(30.5, 0.5, 'predicted label'), Text(0.5, 12.5, 'true label')]"
            ]
          },
          "metadata": {},
          "execution_count": 21
        },
        {
          "output_type": "display_data",
          "data": {
            "text/plain": [
              "<Figure size 432x288 with 2 Axes>"
            ],
            "image/png": "[encoded data removed]"
          },
          "metadata": {
            "needs_background": "light"
          }
        }
      ]
    },
    {
      "cell_type": "markdown",
      "source": [
        "## 学習モデルの保存"
      ],
      "metadata": {
        "id": "fKnMsr8TQGVe"
      }
    },
    {
      "cell_type": "markdown",
      "source": [
        "モデルは訓練中にも、訓練が終わったあとも保存できます。このことは、長い訓練時間を掛けなくても、やめたところから再開できるということを意味します。モデルが保存可能であることは、作ったモデルを他の人と共有できるということでもあります。\n",
        "\n",
        "保存方法としてはJoblibというSciPyのライブラリを使用します。JoblibはPythonのジョブをパイプライン処理するためのユーティリティを提供しています。NumPyデータ構造を効率的に利用するPythonオブジェクトの保存とロードを行うユーティリティを提供します。"
      ],
      "metadata": {
        "id": "g6xLU0oNQG6b"
      }
    },
    {
      "cell_type": "code",
      "source": [
        "# モデルを./outに保存\n",
        "filename = 'out/finalized_model_simplified.joblib'\n",
        "joblib.dump(rforest_model_forward_selection, filename)\n",
        "\n",
        "# モデルをGoogle Driveに保存\n",
        "!cp 'out/finalized_model_simplified.joblib' '/content/drive/MyDrive/shibaki_analysis'\n",
        "\n",
        "# モデルをGoogle Driveからロードしたい場合\n",
        "loaded_model_forward_selection = joblib.load(\"/content/drive/MyDrive/shibaki_analysis/finalized_model_simplified.joblib\")\n",
        "\n",
        "# テスト用データフレームから重要因子以外を取り除く\n",
        "X_test = X_test.drop(columns=[col for col in X_test.columns if col not in top_ten_params])\n",
        "\n",
        "# 検証データにrforest_modelに.predict()関数を応用し、RFモデルがラベルを何個正確に予測出来たかを検証する\n",
        "y_pred_final = loaded_model_forward_selection.predict(X_test)\n",
        "\n",
        "#モデルを作成する段階でのモデルの識別精度\n",
        "trainaccuracy_random_forest_final = loaded_model_forward_selection.score(X_test, y_test)\n",
        "print('TrainAccuracy: {}'.format(trainaccuracy_random_forest_final))\n",
        "\n",
        "#作成したモデルに学習に使用していない評価用のデータセットを入力し精度を確認\n",
        "accuracy_random_forest_final = accuracy_score(y_test, y_pred_final)\n",
        "print('Accuracy: {}'.format(accuracy_random_forest_final))\n",
        "\n",
        "# 正確性の出力\n",
        "print(classification_report(y_test, y_pred_final))\n",
        "\n",
        "result = confusion_matrix(y_test, y_pred_final)\n",
        "print(\"Confusion Matrix:\")\n",
        "\n",
        "#confusion matrix\n",
        "labels = sorted(finalized_df_c['90day-mortality'].unique())\n",
        "ax = sns.heatmap(\n",
        "confusion_matrix(y_test, y_pred_final),\n",
        "annot=True,\n",
        "xticklabels=labels,\n",
        "yticklabels=labels\n",
        ")\n",
        "ax.set(xlabel='true label', ylabel='predicted label')"
      ],
      "metadata": {
        "colab": {
          "base_uri": "https://localhost:8080/",
          "height": 603
        },
        "id": "zc0l6wZVQJrO",
        "outputId": "a2e7478f-0266-4e50-bafb-55daea71de5e"
      },
      "execution_count": 26,
      "outputs": [
        {
          "output_type": "stream",
          "name": "stderr",
          "text": [
            "/usr/local/lib/python3.7/dist-packages/sklearn/base.py:493: FutureWarning:\n",
            "\n",
            "The feature names should match those that were passed during fit. Starting version 1.2, an error will be raised.\n",
            "Feature names unseen at fit time:\n",
            "- CRP\n",
            "- EOTAXIN\n",
            "- LDH\n",
            "- MCP-1\n",
            "- P/F-ratio\n",
            "Feature names must be in the same order as they were in fit.\n",
            "\n",
            "\n"
          ]
        },
        {
          "output_type": "error",
          "ename": "ValueError",
          "evalue": "ignored",
          "traceback": [
            "\u001b[0;31m---------------------------------------------------------------------------\u001b[0m",
            "\u001b[0;31mValueError\u001b[0m                                Traceback (most recent call last)",
            "\u001b[0;32m<ipython-input-26-230175b55338>\u001b[0m in \u001b[0;36m<module>\u001b[0;34m\u001b[0m\n\u001b[1;32m     13\u001b[0m \u001b[0;34m\u001b[0m\u001b[0m\n\u001b[1;32m     14\u001b[0m \u001b[0;31m# 検証データにrforest_modelに.predict()関数を応用し、RFモデルがラベルを何個正確に予測出来たかを検証する\u001b[0m\u001b[0;34m\u001b[0m\u001b[0;34m\u001b[0m\u001b[0;34m\u001b[0m\u001b[0m\n\u001b[0;32m---> 15\u001b[0;31m \u001b[0my_pred_final\u001b[0m \u001b[0;34m=\u001b[0m \u001b[0mloaded_model_forward_selection\u001b[0m\u001b[0;34m.\u001b[0m\u001b[0mpredict\u001b[0m\u001b[0;34m(\u001b[0m\u001b[0mX_test\u001b[0m\u001b[0;34m)\u001b[0m\u001b[0;34m\u001b[0m\u001b[0;34m\u001b[0m\u001b[0m\n\u001b[0m\u001b[1;32m     16\u001b[0m \u001b[0;34m\u001b[0m\u001b[0m\n\u001b[1;32m     17\u001b[0m \u001b[0;31m#モデルを作成する段階でのモデルの識別精度\u001b[0m\u001b[0;34m\u001b[0m\u001b[0;34m\u001b[0m\u001b[0;34m\u001b[0m\u001b[0m\n",
            "\u001b[0;32m/usr/local/lib/python3.7/dist-packages/sklearn/ensemble/_forest.py\u001b[0m in \u001b[0;36mpredict\u001b[0;34m(self, X)\u001b[0m\n\u001b[1;32m    806\u001b[0m             \u001b[0mThe\u001b[0m \u001b[0mpredicted\u001b[0m \u001b[0mclasses\u001b[0m\u001b[0;34m.\u001b[0m\u001b[0;34m\u001b[0m\u001b[0;34m\u001b[0m\u001b[0m\n\u001b[1;32m    807\u001b[0m         \"\"\"\n\u001b[0;32m--> 808\u001b[0;31m         \u001b[0mproba\u001b[0m \u001b[0;34m=\u001b[0m \u001b[0mself\u001b[0m\u001b[0;34m.\u001b[0m\u001b[0mpredict_proba\u001b[0m\u001b[0;34m(\u001b[0m\u001b[0mX\u001b[0m\u001b[0;34m)\u001b[0m\u001b[0;34m\u001b[0m\u001b[0;34m\u001b[0m\u001b[0m\n\u001b[0m\u001b[1;32m    809\u001b[0m \u001b[0;34m\u001b[0m\u001b[0m\n\u001b[1;32m    810\u001b[0m         \u001b[0;32mif\u001b[0m \u001b[0mself\u001b[0m\u001b[0;34m.\u001b[0m\u001b[0mn_outputs_\u001b[0m \u001b[0;34m==\u001b[0m \u001b[0;36m1\u001b[0m\u001b[0;34m:\u001b[0m\u001b[0;34m\u001b[0m\u001b[0;34m\u001b[0m\u001b[0m\n",
            "\u001b[0;32m/usr/local/lib/python3.7/dist-packages/sklearn/ensemble/_forest.py\u001b[0m in \u001b[0;36mpredict_proba\u001b[0;34m(self, X)\u001b[0m\n\u001b[1;32m    848\u001b[0m         \u001b[0mcheck_is_fitted\u001b[0m\u001b[0;34m(\u001b[0m\u001b[0mself\u001b[0m\u001b[0;34m)\u001b[0m\u001b[0;34m\u001b[0m\u001b[0;34m\u001b[0m\u001b[0m\n\u001b[1;32m    849\u001b[0m         \u001b[0;31m# Check data\u001b[0m\u001b[0;34m\u001b[0m\u001b[0;34m\u001b[0m\u001b[0;34m\u001b[0m\u001b[0m\n\u001b[0;32m--> 850\u001b[0;31m         \u001b[0mX\u001b[0m \u001b[0;34m=\u001b[0m \u001b[0mself\u001b[0m\u001b[0;34m.\u001b[0m\u001b[0m_validate_X_predict\u001b[0m\u001b[0;34m(\u001b[0m\u001b[0mX\u001b[0m\u001b[0;34m)\u001b[0m\u001b[0;34m\u001b[0m\u001b[0;34m\u001b[0m\u001b[0m\n\u001b[0m\u001b[1;32m    851\u001b[0m \u001b[0;34m\u001b[0m\u001b[0m\n\u001b[1;32m    852\u001b[0m         \u001b[0;31m# Assign chunk of trees to jobs\u001b[0m\u001b[0;34m\u001b[0m\u001b[0;34m\u001b[0m\u001b[0;34m\u001b[0m\u001b[0m\n",
            "\u001b[0;32m/usr/local/lib/python3.7/dist-packages/sklearn/ensemble/_forest.py\u001b[0m in \u001b[0;36m_validate_X_predict\u001b[0;34m(self, X)\u001b[0m\n\u001b[1;32m    577\u001b[0m         Validate X whenever one tries to predict, apply, predict_proba.\"\"\"\n\u001b[1;32m    578\u001b[0m         \u001b[0mcheck_is_fitted\u001b[0m\u001b[0;34m(\u001b[0m\u001b[0mself\u001b[0m\u001b[0;34m)\u001b[0m\u001b[0;34m\u001b[0m\u001b[0;34m\u001b[0m\u001b[0m\n\u001b[0;32m--> 579\u001b[0;31m         \u001b[0mX\u001b[0m \u001b[0;34m=\u001b[0m \u001b[0mself\u001b[0m\u001b[0;34m.\u001b[0m\u001b[0m_validate_data\u001b[0m\u001b[0;34m(\u001b[0m\u001b[0mX\u001b[0m\u001b[0;34m,\u001b[0m \u001b[0mdtype\u001b[0m\u001b[0;34m=\u001b[0m\u001b[0mDTYPE\u001b[0m\u001b[0;34m,\u001b[0m \u001b[0maccept_sparse\u001b[0m\u001b[0;34m=\u001b[0m\u001b[0;34m\"csr\"\u001b[0m\u001b[0;34m,\u001b[0m \u001b[0mreset\u001b[0m\u001b[0;34m=\u001b[0m\u001b[0;32mFalse\u001b[0m\u001b[0;34m)\u001b[0m\u001b[0;34m\u001b[0m\u001b[0;34m\u001b[0m\u001b[0m\n\u001b[0m\u001b[1;32m    580\u001b[0m         \u001b[0;32mif\u001b[0m \u001b[0missparse\u001b[0m\u001b[0;34m(\u001b[0m\u001b[0mX\u001b[0m\u001b[0;34m)\u001b[0m \u001b[0;32mand\u001b[0m \u001b[0;34m(\u001b[0m\u001b[0mX\u001b[0m\u001b[0;34m.\u001b[0m\u001b[0mindices\u001b[0m\u001b[0;34m.\u001b[0m\u001b[0mdtype\u001b[0m \u001b[0;34m!=\u001b[0m \u001b[0mnp\u001b[0m\u001b[0;34m.\u001b[0m\u001b[0mintc\u001b[0m \u001b[0;32mor\u001b[0m \u001b[0mX\u001b[0m\u001b[0;34m.\u001b[0m\u001b[0mindptr\u001b[0m\u001b[0;34m.\u001b[0m\u001b[0mdtype\u001b[0m \u001b[0;34m!=\u001b[0m \u001b[0mnp\u001b[0m\u001b[0;34m.\u001b[0m\u001b[0mintc\u001b[0m\u001b[0;34m)\u001b[0m\u001b[0;34m:\u001b[0m\u001b[0;34m\u001b[0m\u001b[0;34m\u001b[0m\u001b[0m\n\u001b[1;32m    581\u001b[0m             \u001b[0;32mraise\u001b[0m \u001b[0mValueError\u001b[0m\u001b[0;34m(\u001b[0m\u001b[0;34m\"No support for np.int64 index based sparse matrices\"\u001b[0m\u001b[0;34m)\u001b[0m\u001b[0;34m\u001b[0m\u001b[0;34m\u001b[0m\u001b[0m\n",
            "\u001b[0;32m/usr/local/lib/python3.7/dist-packages/sklearn/base.py\u001b[0m in \u001b[0;36m_validate_data\u001b[0;34m(self, X, y, reset, validate_separately, **check_params)\u001b[0m\n\u001b[1;32m    583\u001b[0m \u001b[0;34m\u001b[0m\u001b[0m\n\u001b[1;32m    584\u001b[0m         \u001b[0;32mif\u001b[0m \u001b[0;32mnot\u001b[0m \u001b[0mno_val_X\u001b[0m \u001b[0;32mand\u001b[0m \u001b[0mcheck_params\u001b[0m\u001b[0;34m.\u001b[0m\u001b[0mget\u001b[0m\u001b[0;34m(\u001b[0m\u001b[0;34m\"ensure_2d\"\u001b[0m\u001b[0;34m,\u001b[0m \u001b[0;32mTrue\u001b[0m\u001b[0;34m)\u001b[0m\u001b[0;34m:\u001b[0m\u001b[0;34m\u001b[0m\u001b[0;34m\u001b[0m\u001b[0m\n\u001b[0;32m--> 585\u001b[0;31m             \u001b[0mself\u001b[0m\u001b[0;34m.\u001b[0m\u001b[0m_check_n_features\u001b[0m\u001b[0;34m(\u001b[0m\u001b[0mX\u001b[0m\u001b[0;34m,\u001b[0m \u001b[0mreset\u001b[0m\u001b[0;34m=\u001b[0m\u001b[0mreset\u001b[0m\u001b[0;34m)\u001b[0m\u001b[0;34m\u001b[0m\u001b[0;34m\u001b[0m\u001b[0m\n\u001b[0m\u001b[1;32m    586\u001b[0m \u001b[0;34m\u001b[0m\u001b[0m\n\u001b[1;32m    587\u001b[0m         \u001b[0;32mreturn\u001b[0m \u001b[0mout\u001b[0m\u001b[0;34m\u001b[0m\u001b[0;34m\u001b[0m\u001b[0m\n",
            "\u001b[0;32m/usr/local/lib/python3.7/dist-packages/sklearn/base.py\u001b[0m in \u001b[0;36m_check_n_features\u001b[0;34m(self, X, reset)\u001b[0m\n\u001b[1;32m    399\u001b[0m         \u001b[0;32mif\u001b[0m \u001b[0mn_features\u001b[0m \u001b[0;34m!=\u001b[0m \u001b[0mself\u001b[0m\u001b[0;34m.\u001b[0m\u001b[0mn_features_in_\u001b[0m\u001b[0;34m:\u001b[0m\u001b[0;34m\u001b[0m\u001b[0;34m\u001b[0m\u001b[0m\n\u001b[1;32m    400\u001b[0m             raise ValueError(\n\u001b[0;32m--> 401\u001b[0;31m                 \u001b[0;34mf\"X has {n_features} features, but {self.__class__.__name__} \"\u001b[0m\u001b[0;34m\u001b[0m\u001b[0;34m\u001b[0m\u001b[0m\n\u001b[0m\u001b[1;32m    402\u001b[0m                 \u001b[0;34mf\"is expecting {self.n_features_in_} features as input.\"\u001b[0m\u001b[0;34m\u001b[0m\u001b[0;34m\u001b[0m\u001b[0m\n\u001b[1;32m    403\u001b[0m             )\n",
            "\u001b[0;31mValueError\u001b[0m: X has 10 features, but RandomForestClassifier is expecting 5 features as input."
          ]
        }
      ]
    },
    {
      "cell_type": "markdown",
      "source": [
        "## 終わりに"
      ],
      "metadata": {
        "id": "4rilDap8QLpU"
      }
    },
    {
      "cell_type": "markdown",
      "source": [
        "今研究では、和歌山医科大学の保有する、線維化を伴う間質性肺炎の急性増悪の多施設後ろ向き実態調査に登録された患者において急性増悪中に施行されたBAL液中のサイトカインやケモカインのデータを用いて、間質性肺炎の予後予測因子の抽出と予後予測に取り組みました。\n",
        "\n",
        "解析内容の要約は以下となります。\n",
        "1.   環境構築\n",
        "2.   データ前処理\n",
        "3.   RF解析モデル構築\n",
        "4.   妥当性の検証・ハイパーパラメーターチューニング\n",
        "5.   特徴量重要度の評価\n",
        "6.   特徴量重要の評価に基づきモデル再構築\n",
        "\n",
        "精度向上に向けて様々な手法を試してみましたが，今回のタスクにおいては，どの工夫が有効に働くか自明で無い場合がほとんどです．従って，試行錯誤を行いながら，その問題設定に適合するやり方を模索していく必要があります．\n",
        "\n",
        "さらなる取り組みとしては，例えば下記内容を検討する余地があります。\n",
        "\n",
        "\n",
        "* クラス不均衡データへの対応\n",
        "  - サンプリング\n",
        "      - 不均衡データセットからサンプリングを行い，クラス比率のバランスが取れたデータセットを作成．\n",
        "    - **Undersampling** : 大多数の正常サンプルを削減．\n",
        "    - **Oversampling**  : 少数の異常サンプルを水増し．  \n",
        "  - 損失関数の重み調整\n",
        "    - 正常サンプルを異常と誤分類した際のペナルティを小さく，異常サンプルを正常と誤分類した際のペナルティを大きくする．\n",
        "    - 例えば，サンプル数の存在比率の逆数を重みとして利用．\n",
        "  - 目的関数(損失関数)の変更\n",
        "    - 異常サンプルに対する予測スコアを向上させるような目的関数を導入．\n",
        "  - 異常検知\n",
        "    - 正常サンプルのデータ分布を仮定し，そこから十分に逸脱したサンプルを異常とみなす．\n",
        "\n",
        "* 前処理の工夫\n",
        "  - ラベルの追加\n",
        "    - 生存者・死者加えて，新たな目的関数を考慮する．\n",
        "  - ラベルの与え方の変更\n",
        "      * セグメント範囲内に正常以外のピークラベルが含まれる場合に優先的にそのラベルを付与する，等．\n",
        "\n",
        "* モデルの変更等\n",
        "  - ランダムフォレスト以外の機械学習モデルを導入する\n"
      ],
      "metadata": {
        "id": "nf5UES9wQLis"
      }
    }
  ]
}