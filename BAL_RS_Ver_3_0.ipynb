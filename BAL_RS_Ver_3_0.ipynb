{
  "nbformat": 4,
  "nbformat_minor": 0,
  "metadata": {
    "colab": {
      "provenance": [],
      "authorship_tag": "ABX9TyNmwVL3UFuMaKrnHH50kFBr",
      "include_colab_link": true
    },
    "kernelspec": {
      "name": "python3",
      "display_name": "Python 3"
    },
    "language_info": {
      "name": "python"
    }
  },
  "cells": [
    {
      "cell_type": "markdown",
      "metadata": {
        "id": "view-in-github",
        "colab_type": "text"
      },
      "source": [
        "<a href=\"https://colab.research.google.com/github/staniya/shibaki-RF-analysis/blob/main/BAL_RS_Ver_3_0.ipynb\" target=\"_parent\"><img src=\"https://colab.research.google.com/assets/colab-badge.svg\" alt=\"Open In Colab\"/></a>"
      ]
    },
    {
      "cell_type": "markdown",
      "source": [
        "# 間質性肺炎の予後予測因子の抽出と予後予測のランダムフォレストモデル"
      ],
      "metadata": {
        "id": "ZEvUixaf5AvI"
      }
    },
    {
      "cell_type": "markdown",
      "source": [
        "線維化を伴う間質性肺炎の急性増悪の多施設後ろ向き実態調査に付随した研究として、予後予測因子の抽出と予後予測の新規モデルを作成します。和歌山医科大学の保有する、線維化を伴う間質性肺炎の急性増悪の多施設後ろ向き実態調査に登録された患者において急性増悪中に施行されたBAL液中のサイトカインやケモカインのデータを用いて、間質性肺炎の予後予測因子の抽出と予後予測の新規モデルを作成します。\n",
        "\n",
        "今回の解析は分類問題であるため、ランダムフォレスト分類器が使用されます。Scikit-learnライブラリから、RandomForestClassifierを持つアンサンブルパッケージが使用されます。ランダムフォレストは、平均化を使用して予測精度を向上させ、特定のデータセットのさまざまなサブサンプルに多数の決定木分類器を適合させることで過剰適合を制御するメタ推定量です。"
      ],
      "metadata": {
        "id": "CTdOc_xP5GE-"
      }
    },
    {
      "cell_type": "markdown",
      "source": [
        "## 環境構築"
      ],
      "metadata": {
        "id": "8-JDHmco5KKC"
      }
    },
    {
      "cell_type": "markdown",
      "source": [
        "本章では、下記のライブラリを利用します。"
      ],
      "metadata": {
        "id": "hjo73HGv5MeX"
      }
    },
    {
      "cell_type": "markdown",
      "source": [
        "*  Collections  \n",
        "*  Data Synthesizer\n",
        "*  Google Colab\n",
        "*  Joblib\n",
        "*  Matplotlib\n",
        "*  Numpy\n",
        "*  Optuna\n",
        "*  os\n",
        "*  Pandas\n",
        "*  PyCaret\n",
        "*  Seaborn\n",
        "*  Scikit-learn\n",
        "*  sys\n",
        "*  TensorFlow\n"
      ],
      "metadata": {
        "id": "JPKL9B0r5PZJ"
      }
    },
    {
      "cell_type": "markdown",
      "source": [
        "以下のセルを実行（Shift + Enter)して必要なライブラリをインストールして下さい。"
      ],
      "metadata": {
        "id": "tULWJlAZ5Swq"
      }
    },
    {
      "cell_type": "code",
      "source": [
        "# コラボのセル出力を%%captureで非表示状態にするライブラリ\n",
        "!pip install -q gwpy"
      ],
      "metadata": {
        "colab": {
          "base_uri": "https://localhost:8080/"
        },
        "id": "zTjORdof63Bg",
        "outputId": "4b28c6da-d777-45ba-c056-e56c27adcaac"
      },
      "execution_count": 1,
      "outputs": [
        {
          "output_type": "stream",
          "name": "stdout",
          "text": [
            "\u001b[K     |████████████████████████████████| 1.4 MB 13.7 MB/s \n",
            "\u001b[K     |████████████████████████████████| 11.2 MB 69.9 MB/s \n",
            "\u001b[K     |████████████████████████████████| 51 kB 8.8 MB/s \n",
            "\u001b[K     |████████████████████████████████| 45 kB 3.4 MB/s \n",
            "\u001b[33mWARNING: igwn-auth-utils 0.3.1 does not provide the extra 'requests'\u001b[0m\n",
            "\u001b[K     |████████████████████████████████| 4.0 MB 62.8 MB/s \n",
            "\u001b[K     |████████████████████████████████| 959 kB 70.3 MB/s \n",
            "\u001b[?25h  Building wheel for ligo-segments (setup.py) ... \u001b[?25l\u001b[?25hdone\n"
          ]
        }
      ]
    },
    {
      "cell_type": "code",
      "execution_count": 2,
      "metadata": {
        "id": "cBGdqQE42W1X"
      },
      "outputs": [],
      "source": [
        "%%capture\n",
        "!pip install openpyxl==3.0\n",
        "!pip install pyyaml==5.4.1\n",
        "!pip install mlflow\n",
        "!pip install -q DataSynthesizer\n",
        "!pip install optuna\n",
        "!pip install matplotlib==3.1.3\n",
        "!apt-get install tree"
      ]
    },
    {
      "cell_type": "markdown",
      "source": [
        "インストールが完了したら以下のセルを実行して，各ライブラリのインポート，及びバージョン確認を行って下さい."
      ],
      "metadata": {
        "id": "F5ONq-PQ7mj9"
      }
    },
    {
      "cell_type": "code",
      "source": [
        "from collections import OrderedDict\n",
        "\n",
        "import DataSynthesizer\n",
        "from DataSynthesizer.DataDescriber import DataDescriber\n",
        "from DataSynthesizer.DataGenerator import DataGenerator\n",
        "from DataSynthesizer.ModelInspector import ModelInspector\n",
        "from DataSynthesizer.lib.utils import read_json_file, display_bayesian_network\n",
        "\n",
        "from google.colab import drive\n",
        "import joblib\n",
        "import matplotlib as mpl\n",
        "import matplotlib.pyplot as plt\n",
        "%matplotlib inline\n",
        "import numpy as np\n",
        "import optuna\n",
        "import os\n",
        "import pandas as pd\n",
        "import seaborn as sns\n",
        "\n",
        "import sklearn\n",
        "from sklearn import tree\n",
        "from sklearn import ensemble\n",
        "from sklearn.impute import SimpleImputer\n",
        "from sklearn.metrics import accuracy_score, confusion_matrix, classification_report\n",
        "from sklearn.model_selection import StratifiedKFold, train_test_split, cross_val_score\n",
        "\n",
        "import sys\n",
        "sys.path.append('models')\n",
        "\n",
        "import tensorflow as tf\n",
        "import time\n",
        "\n",
        "print(\"Data Synthesizer: \", DataSynthesizer.__version__)\n",
        "print(\"Google Colab Python: \")\n",
        "!python --version\n",
        "print(\"\\nJoblib: \", joblib.__version__)\n",
        "print(\"Matplotlib: \", mpl.__version__)\n",
        "print(\"Numpy: \", np.__version__)\n",
        "print(\"Optuna: \", optuna.__version__)\n",
        "print(\"pandas: \", pd.__version__)\n",
        "print(\"Seaborn: \", sns.__version__)\n",
        "print(\"Scikit-learn: \", sklearn.__version__)\n",
        "print(\"TensorFlow: \", tf.__version__)"
      ],
      "metadata": {
        "colab": {
          "base_uri": "https://localhost:8080/"
        },
        "id": "t4i72SQs55JW",
        "outputId": "bacad365-5b0d-4c09-ebc5-8aec85e2e40c"
      },
      "execution_count": 3,
      "outputs": [
        {
          "output_type": "stream",
          "name": "stdout",
          "text": [
            "Data Synthesizer:  0.1.11\n",
            "Google Colab Python: \n",
            "Python 3.7.14\n",
            "\n",
            "Joblib:  1.1.0\n",
            "Matplotlib:  3.2.2\n",
            "Numpy:  1.21.6\n",
            "Optuna:  3.0.2\n",
            "pandas:  1.3.5\n",
            "Seaborn:  0.11.2\n",
            "Scikit-learn:  1.0.2\n",
            "TensorFlow:  2.8.2\n"
          ]
        }
      ]
    },
    {
      "cell_type": "markdown",
      "source": [
        "## 使用するデータセット"
      ],
      "metadata": {
        "id": "8lR1ryC_70Xv"
      }
    },
    {
      "cell_type": "code",
      "source": [
        "from google.colab import drive\n",
        "drive.mount('/content/drive')\n",
        "xlsx_input = input(\"入力データが保管してあるドライブの絶対パス: \") or \"/content/drive/MyDrive/shibaki_analysis/AE-FILD_BAL_patient_data.xlsx\"\n",
        "!cp {xlsx_input} patient_data.xlsx "
      ],
      "metadata": {
        "colab": {
          "base_uri": "https://localhost:8080/"
        },
        "id": "970HSePJ7pEt",
        "outputId": "c356aa91-3f6c-490a-9c33-5eec07a825b5"
      },
      "execution_count": 4,
      "outputs": [
        {
          "name": "stdout",
          "output_type": "stream",
          "text": [
            "Mounted at /content/drive\n",
            "入力データが保管してあるドライブの絶対パス: \n"
          ]
        }
      ]
    },
    {
      "cell_type": "markdown",
      "source": [
        "無事ダウンロードが完了すると， /content/driveフォルダがローカル環境にマウントされます。"
      ],
      "metadata": {
        "id": "fzT3XD7R74YZ"
      }
    },
    {
      "cell_type": "markdown",
      "source": [
        "## データ前処理"
      ],
      "metadata": {
        "id": "VLiF1pu2AcWH"
      }
    },
    {
      "cell_type": "markdown",
      "source": [
        "ダウンロードしたファイルを読み込み，機械学習モデルへの入力形式に変換するデータ前処理を以下の手順で行います。\n",
        "\n",
        "1. ヘルパーファンクションでデータフレームテキスト内の\"\\n\"をスペースに変換する関数を定義する\n",
        "2. 学習に不必要なデータコラムを除外する: \"No\"\n",
        "3. sklearnのSimpleImputerを導入し欠損値（NaN)補完を行う\n",
        "    - 補完方法は中央値で欠損値を埋める（[[1](https://scikit-learn.org/stable/modules/generated/sklearn.impute.SimpleImputer.html)]を参考）\n",
        "4. テスト用のデータをホールドアウト法に基づき先に取り分けておく\n",
        "5. 学習用のデータが不足しているためDataSynthesizerライブラリーを導入し模擬データを作成する\n",
        "    - ベイジアンネットワークを使用して合成データセットを作成する方法はこちらを参考して下さい [[2](https://www.scb.se/contentassets/ca21efb41fee47d293bbee5bf7be7fb3/using-bayesian-networks-to-create-synthetic-data.pdf)]"
      ],
      "metadata": {
        "id": "EZR_hYNLAmKE"
      }
    },
    {
      "cell_type": "markdown",
      "source": [
        "まずは以下のセルを実行して、データ前処理クラスを定義します。\n",
        "全処理クラス内では、以下のメンバ関数を定義しています。\n",
        "\n",
        "* __init__() (コンストラクタ）: 変数の初期化，学習用とテスト用への分割ルール，利用するラベルの集約ルール\n",
        "* clean_header(): Pandasデータフレームのヘッダー内の\"\\n\"をスペースに変換する関数\n",
        "* convert_text_to_list(): Pandasデータフレームのヘッダーをリストに変換する関数\n",
        "* drop_columns(): 学習に不必要な項目をdrop()する関数\n",
        "* data_imputation(): sklearnのSimpleImputerを導入し欠損値（NaN)補完を行う関数\n",
        "* def remove_header_map(): Pandasデータフレームのヘッダー内にカテゴリカル変数が含まれる場合、数値と置き換える関数\n",
        "* def split(): テスト用のデータを分割する為の関数\n",
        "* def create_data_synthesis_network(): 模擬データを作成するためのベイジアンネットワークモデルの定義・学習を行う関数\n",
        "* def generate_synthetic_data(): 学習済のベイジアンネットワークモデルを使い模擬データを実際に作成する関数\n",
        "* def synthetic_data_wrapper(): 学習済のDataDescriberのモデルが存在するかを確認する関数\n",
        "* def main(): 上記全ての工程を一度に実行するためのメイン関数\n",
        "\n",
        "\n"
      ],
      "metadata": {
        "id": "mionfH7tAo7D"
      }
    },
    {
      "cell_type": "code",
      "source": [
        "# 出力ディレクトリーの作成\n",
        "!mkdir ./out\n",
        "\n",
        "# description_fileをグーグルドライブから引っ張ってくる\n",
        "!cp '/content/drive/MyDrive/shibaki_analysis/description_simplified.json' ./out/description_simplified.json\n",
        "\n",
        "# synthetic_dataをグーグルドライブから引っ張ってくる\n",
        "!cp '/content/drive/MyDrive/shibaki_analysis/synthetic_data_simplified.csv' ./out/synthetic_data_simplified.csv"
      ],
      "metadata": {
        "id": "h0KZTjKf74JN"
      },
      "execution_count": 5,
      "outputs": []
    },
    {
      "cell_type": "code",
      "source": [
        "class BaseBALDatasetProcessor(object):\n",
        "    def __init__(\n",
        "        self,\n",
        "        dataset,\n",
        "        dataset_root,\n",
        "        dataframe_name,\n",
        "    ):\n",
        "        # 模擬データが元のデータの類似するように模擬データの作成設定をcorrelated_attribute_modeにする\n",
        "        self.mode = 'correlated_attribute_mode'\n",
        "        self.dataset = dataset\n",
        "        self.dataset_root = dataset_root\n",
        "        self.dataframe_name = dataframe_name\n",
        "\n",
        "        # Holdout法に基づき先に学習用のデータを分割したデータフレーム\n",
        "        self.augment_training_df = pd.DataFrame()\n",
        "\n",
        "        # 模擬データの構造を説明するための情報ファイル等の指定\n",
        "        if os.path.exists(f'./out/description_simplified.json') and os.path.exists(f'./out/synthetic_data_simplified.csv'):\n",
        "            self.description_file = f'./out/description_simplified.json'\n",
        "            self.synthetic_data = f'./out/synthetic_data_simplified.csv'\n",
        "\n",
        "        else:\n",
        "            self.output_dir = f'./out'\n",
        "            self.description_file = f'./out/description_simplified.json'\n",
        "            self.synthetic_data = f'./out/synthetic_data_simplified.csv'\n",
        "\n",
        "        # データセットをPandasのデータフレームとして読み込む\n",
        "        self.dataframe = pd.read_excel(self.dataset, engine='openpyxl')\n",
        "\n",
        "        # データセット内のカテゴリカル変数の数値をその数値が表すカテゴリーに置き換える必要がある際\n",
        "        self.columnname_dict = OrderedDict([\n",
        "            ('90day-mortality', {0.0: 'survival', 1.0: 'death'}),\n",
        "            ('sex', {0.0: 'male', 1.0: 'female'}),\n",
        "            ('smoking-status',\n",
        "             {0.0: 'Never',\n",
        "                   1.0: 'Ex(quit smoking over a year ago)',\n",
        "                   2.0: 'Current'}),\n",
        "            ('emphysema', {0.0: '-', 1.0: '+'}),\n",
        "            ('Baseline-ILD',\n",
        "             {0.0: 'UIP',\n",
        "                   1.0: 'probable UIP',\n",
        "                   2.0: 'Indeterminate for UIP',\n",
        "                   3.0: 'Alternative diagnosis'}),\n",
        "            ('Collagen-disease', {0.0: '-', 1.0: '+'}),\n",
        "            ('IPAF', {0.0: '-', 1.0: '+'})])\n",
        "\n",
        "    def clean_header(\n",
        "        self,\n",
        "        text\n",
        "    ):\n",
        "        \"\"\"\n",
        "        Pandasデータフレームのヘッダー内の\"\\n\"をスペースに変換する関数\n",
        "        \"\"\"\n",
        "        text = text.strip()\n",
        "        text = text.replace(\" \", \"-\")\n",
        "        text_n_newline = text.replace(\"\\n\", \" \")\n",
        "        return text_n_newline\n",
        "\n",
        "    def convert_text_to_list(self):\n",
        "        \"\"\"\n",
        "        Pandasデータフレームのヘッダーをリストに変換する関数\n",
        "        \"\"\"\n",
        "        df_header_list = self.dataframe.columns.values.tolist()\n",
        "        df_header_list_cleaned = [self.clean_header(x) for x in df_header_list]\n",
        "        self.dataframe.columns = df_header_list_cleaned\n",
        "\n",
        "    def drop_columns(\n",
        "        self,\n",
        "        col_names=[\"No\"]\n",
        "    ):\n",
        "        \"\"\"\n",
        "        学習に不必要な項目をdrop()する関数\n",
        "        \"\"\"\n",
        "        self.dataframe.drop(columns=self.dataframe.columns.difference(col_names), inplace=True)\n",
        "    def data_imputation(\n",
        "        self,\n",
        "        null_val='NaN',\n",
        "        strategy='median'\n",
        "    ):\n",
        "        \"\"\"\n",
        "        sklearnのSimpleImputerを導入し欠損値（NaN)補完を行う関数\n",
        "        \"\"\"\n",
        "        if null_val == 'NaN':\n",
        "            nan_attr = np.NaN\n",
        "        else:\n",
        "            print(\"Declare valid null data value for variable null_val\")\n",
        "        # データフレーム内の\"NaN\"をnumpyのNaNと置き換える)\n",
        "        self.dataframe.replace(null_val, nan_attr, inplace=True)\n",
        "        # sklearnのSimpleImputerを使い、np.NaNをnull値として認識させる。\n",
        "        # 加、strategy=\"median\"はnp.NaNをその行のNaNを中央値と置き換えるための指定\n",
        "        imp = SimpleImputer(missing_values=nan_attr, strategy=strategy)\n",
        "        df_idf = pd.DataFrame(imp.fit_transform(self.dataframe))\n",
        "        # SimpleImputerは数値しか作成できない為、元のデータセットの行名を新しいデータセットに加るコード\n",
        "        df_idf.columns = self.dataframe.columns\n",
        "        self.dataframe = df_idf\n",
        "\n",
        "    def remove_header_map(\n",
        "        self,\n",
        "        text\n",
        "    ):\n",
        "        \"\"\"\n",
        "        Pandasデータフレームのヘッダー内にカテゴリカル変数が含まれる場合、数値と置き換える関数\n",
        "        \"\"\"\n",
        "        for key in self.columnname_dict.keys():\n",
        "            if key in text:\n",
        "                text = key\n",
        "        return text\n",
        "\n",
        "    def split (\n",
        "      self,\n",
        "      # Y (ラベル) ターゲットラベル\n",
        "      Y_col = '90day-mortality',\n",
        "      # テスト用データの割合\n",
        "      ts = 0.20,\n",
        "      # 検証用でデータの割合\n",
        "      vs = 0.40,\n",
        "      # ランダムステート \n",
        "      rs = 42\n",
        "    ):\n",
        "      \"\"\"\n",
        "      学習用・テスト用・検証用に分割するための関数\n",
        "      \"\"\"\n",
        "      # ヘッダーコラムのテキストを記号と置き換える必要がある場合\n",
        "      df_header_list = self.dataframe.columns.values.tolist()\n",
        "      df_header_list_cleaned = [self.remove_header_map(\n",
        "          x) for x in self.columnname_dict]\n",
        "      for column in self.dataframe:\n",
        "          for header in df_header_list_cleaned:\n",
        "              if header in column:\n",
        "                  self.dataframe.rename(\n",
        "                      columns={column: header}, inplace=True)\n",
        "                  \n",
        "      # X (フィーチャー) ターゲットラベル以外の全ての行\n",
        "      X_cols = self.dataframe.loc[:, self.dataframe.columns != Y_col].columns\n",
        "\n",
        "      # テストデータ分割（初期の分割ではtrainに学習用・検証用データが含まれ, testにテストデータが含まれる)\n",
        "      X_train, self.X_test, y_train, self.y_test = \\\n",
        "      train_test_split(\n",
        "          self.dataframe[X_cols], \n",
        "          self.dataframe[Y_col],\n",
        "          test_size=ts, \n",
        "          random_state=rs, \n",
        "          stratify=self.dataframe[Y_col]\n",
        "          )\n",
        "      \n",
        "      # 学習用・検証用データ分割\n",
        "      X_train, X_val, y_train, y_val = \\\n",
        "      train_test_split(\n",
        "          X_train, \n",
        "          y_train,\n",
        "          test_size=vs, \n",
        "          random_state=rs,\n",
        "          stratify=y_train\n",
        "          )\n",
        "      \n",
        "      # テスト用データからIDをドロップする\n",
        "      self.X_test = self.X_test.drop(columns=['ID'])\n",
        "      \n",
        "      # 学習用のデータをデータフレームに付け加える\n",
        "      X_temp_df = pd.concat([X_train, X_val], axis=0)\n",
        "      y_temp_df = pd.concat([y_train, y_val], axis=0)\n",
        "      self.augment_training_df = pd.concat([X_temp_df, y_temp_df], axis=1)\n",
        "\n",
        "    def create_data_synthesis_network(\n",
        "        self,\n",
        "        # データの要素を識別できるように、IDをデータのキーとして認識する\n",
        "        candidate_keys={'ID': True},\n",
        "\n",
        "        # ベイジアンネットワークパラメーター指定\n",
        "        # ドメインサイズがこのしきい値よりも小さい場合、属性はカテゴリーに分類されます。\n",
        "        # 今回のデータでは一番多いカテゴリー要素が4だったので、閾値を4と指定する\n",
        "        threshold_value=4,\n",
        "\n",
        "        # 差分プライバシーのパラメーター。 これは、入力データセットの行を削除しても、exp（epsilon）の乗法差以上に同じ出力を取得する確率が変わらないことを大まかに意味します。\n",
        "        # イプシロン値を増やすことで学習モデルのノイズを減らせます。 差分プライバシーをオフにするにはepsilon = 0を設定します。\n",
        "        epsilon=1,\n",
        "\n",
        "        # ベイジアンネットワーク内の親ノードの最大数、つまり、有向グラフでの入力エッジの最大数。\n",
        "        degree_of_bayesian_network=2\n",
        "    ):\n",
        "        \"\"\"\n",
        "        模擬データを作成するためのベイジアンネットワークモデルの定義・学習を行う関数\n",
        "        \"\"\"\n",
        "        # PandasのデータフレームをDataSynthesizerが応用できるようにcsvに変換する\n",
        "        self.augment_training_df.to_csv(self.dataframe_name + '.csv', index=False)\n",
        "\n",
        "        # DataDescriberをインスタンス化する\n",
        "        describer = DataDescriber(category_threshold=threshold_value)\n",
        "\n",
        "        if self.mode == 'correlated_attribute_mode':\n",
        "            # データセットの統計を計算する\n",
        "            describer.describe_dataset_in_correlated_attribute_mode(dataset_file='./' + self.dataframe_name + '.csv',\n",
        "                                                                    epsilon=epsilon,\n",
        "                                                                    k=degree_of_bayesian_network,\n",
        "                                                                    attribute_to_is_candidate_key=candidate_keys)\n",
        "        else:\n",
        "            print(\"The model does not currently suport this mode type for computation\")\n",
        "\n",
        "        # データセットの統計を上で定義した出力ファイルに保存する\n",
        "        # その後に作成されたベイズネットワークを出力する\n",
        "        describer.save_dataset_description_to_file(self.description_file)\n",
        "        display_bayesian_network(describer.bayesian_network)\n",
        "        return describer\n",
        "\n",
        "    def generate_synthetic_data(\n",
        "        self,\n",
        "        # 合成データセットで生成される症例数\n",
        "        num_tuples_to_generate=100\n",
        "    ):\n",
        "        \"\"\"\n",
        "        学習済のベイジアンネットワークモデルを使い模擬データを実際に作成する関数\n",
        "        \"\"\"\n",
        "        # 実際に模擬データを作成するコード\n",
        "        generator = DataGenerator()\n",
        "\n",
        "        # ベイズモデルの応用（模擬データの作成）\n",
        "        # description_fileとして定義してあるJSONファイルにベイズモデルが学習したカテゴリカルアトリビュートの特徴が保存される\n",
        "        # num_tuples_to_generateは生成される症例数\n",
        "        generator.generate_dataset_in_correlated_attribute_mode(\n",
        "            num_tuples_to_generate, self.description_file)\n",
        "\n",
        "        # 作成した模擬データをsynthetic_dataとして定義したcsvファイルに保存する\n",
        "        generator.save_synthetic_data(self.synthetic_data)\n",
        "\n",
        "        # pandasのデータフレームとして模擬データを読み込む\n",
        "        synthetic_df = pd.read_csv(self.synthetic_data)\n",
        "\n",
        "        return synthetic_df, generator\n",
        "\n",
        "    def synthetic_data_wrapper(\n",
        "        self\n",
        "    ):\n",
        "        \"\"\"\n",
        "        学習済のDataDescriberのモデルが存在するかを確認する関数\n",
        "        \"\"\"\n",
        "        # 事前に学習済のDataDescriberが存在するかを確認する\n",
        "        if os.path.exists(self.synthetic_data) and \\\n",
        "                os.stat(self.synthetic_data).st_size != 0:\n",
        "            # pandasのデータフレームとして模擬データを読み込む\n",
        "            synthetic_df = pd.read_csv(self.synthetic_data)\n",
        "\n",
        "        else:\n",
        "            describer = self.create_data_synthesis_network()\n",
        "            synthetic_df, generator = self.generate_synthetic_data()\n",
        "\n",
        "        # 新しく作成した模擬データは上記で作成したsynthetic_df内にあるため、self.augment_training_dfにデータを足す\n",
        "        self.augment_training_df = pd.concat([self.augment_training_df, synthetic_df])\n",
        "        # テスト用のデータを学習済のモデルで測るため、テストデータも模擬データフレームと加え出力する\n",
        "        return self.augment_training_df, self.X_test, self.y_test\n",
        "\n",
        "    def main(\n",
        "        self\n",
        "    ):\n",
        "        \"\"\"\n",
        "        上記全ての工程を一度に実行するためのメイン関数\n",
        "        \"\"\"\n",
        "        self.convert_text_to_list()\n",
        "        self.drop_columns(col_names=[\n",
        "            'LDH', \n",
        "            'CRP', \n",
        "            'P/F-ratio', \n",
        "            'BAL(neutro-%)', \n",
        "            'MMP-1', \n",
        "            'GM-CSF', \n",
        "            'IL-6',\n",
        "            'IL-8',\n",
        "            'MCP-1',\n",
        "            'EOTAXIN',\n",
        "            '90day-mortality survival:0 death:1',\n",
        "            'ID',\n",
        "            ])\n",
        "        self.data_imputation(null_val='NaN', strategy='median')\n",
        "        self.split(Y_col = '90day-mortality', ts = 0.30, rs = 42)\n",
        "        return self.synthetic_data_wrapper()\n"
      ],
      "metadata": {
        "id": "O3fTgT645V7C"
      },
      "execution_count": 6,
      "outputs": []
    },
    {
      "cell_type": "markdown",
      "source": [
        "データ保存先のrootディレクトリ(dataset_root)を指定し， 上記のクラスを使用してデータの前処理を行う。前処理済のデータはdataframe_nameで指定した名前でPandasのデータフレーム形式で所定の場所に保存されます。\n",
        "\n",
        "加え、クラスで先にテスト用のデータをとり分けて置く"
      ],
      "metadata": {
        "id": "acAVNqgFDFRE"
      }
    },
    {
      "cell_type": "code",
      "source": [
        "dataset = 'patient_data.xlsx'\n",
        "dataset_root = './'\n",
        "dataframe_name = 'AE_FILD_df'\n",
        "post_processed_data_frame, X_test, y_test = BaseBALDatasetProcessor(dataset, dataset_root, dataframe_name).main()\n",
        "print(post_processed_data_frame['90day-mortality'].value_counts())"
      ],
      "metadata": {
        "colab": {
          "base_uri": "https://localhost:8080/"
        },
        "id": "l1ukPSh6DEec",
        "outputId": "6b7c805a-112a-486d-bea8-eb38a7c918c8"
      },
      "execution_count": 7,
      "outputs": [
        {
          "output_type": "stream",
          "name": "stdout",
          "text": [
            "0.0    90\n",
            "1.0    52\n",
            "Name: 90day-mortality, dtype: int64\n"
          ]
        }
      ]
    },
    {
      "cell_type": "markdown",
      "source": [
        "テスト用のデータのラベルの割合を見てみる"
      ],
      "metadata": {
        "id": "LuJsDXvKDJWx"
      }
    },
    {
      "cell_type": "code",
      "source": [
        "print(y_test.value_counts())"
      ],
      "metadata": {
        "colab": {
          "base_uri": "https://localhost:8080/"
        },
        "id": "tLXH_Yx1AriU",
        "outputId": "dcb7d9a7-7a6a-4cc5-d652-343ef997ebf4"
      },
      "execution_count": 8,
      "outputs": [
        {
          "output_type": "stream",
          "name": "stdout",
          "text": [
            "0.0    15\n",
            "1.0     3\n",
            "Name: 90day-mortality, dtype: int64\n"
          ]
        }
      ]
    },
    {
      "cell_type": "markdown",
      "source": [
        "保存先の./outディレクトリに以下のファイルが保存されていることを確認する。\n",
        "* 模擬データを作成するためのベイジアンネットワークモデルを保管するdescription.jsonファイル\n",
        "* 学習済のベイジアンネットワークモデルを使い作成した模擬データを保管するsynthetic_data.csv\n"
      ],
      "metadata": {
        "id": "U4W32uJ9DMbf"
      }
    },
    {
      "cell_type": "code",
      "source": [
        "!tree ./out"
      ],
      "metadata": {
        "colab": {
          "base_uri": "https://localhost:8080/"
        },
        "id": "tJfyT4DIDPS_",
        "outputId": "4e22dbae-fa70-473c-9633-ef0a1d000bc9"
      },
      "execution_count": 9,
      "outputs": [
        {
          "output_type": "stream",
          "name": "stdout",
          "text": [
            "./out\n",
            "├── description_simplified.json\n",
            "└── synthetic_data_simplified.csv\n",
            "\n",
            "0 directories, 2 files\n"
          ]
        }
      ]
    },
    {
      "cell_type": "markdown",
      "source": [
        "### RF解析モデル\n"
      ],
      "metadata": {
        "id": "SBdqD7ZPDROD"
      }
    },
    {
      "cell_type": "markdown",
      "source": [
        "学習モデルを構築する為の学習アルゴリズムには、ランダムフォレストを使用します。\n",
        "まずデータセット分割を行います。\n",
        "教示あり学習には主に交差検証とホールドアウト法がありますが今回はシンプルにホールドアウト法を使ってモデル構築を行います。\n",
        "ホールドアウト法：学習用と評価用にデータセットに分けてから、学習用でモデルを作成してから、評価用のデータでうまく予測する事ができるか確認していきます。\n",
        "X_allにフィーチャー、y_allにラベルと分割し、さらにX_allとy_allを学習用と評価用に分割しました。\n",
        "評価用を30％、学習用を70%と指定しました。\n",
        "加え、ラベルのインデックスは、\n",
        "*   0: 間質性肺炎感染90日後の生存者\n",
        "*   1: 間質性肺炎感染90日後の死者\n",
        "\n",
        "となっています。\n",
        "\n",
        "分割方法についてですが# Scikit-learnのtrain_test_split()を使い自動的にデータセットを学習用と評価用に分割します。test_sizeを0.3にして学習用を30%、訓練用を70%といったように分割できます。加え、random_stateを42にして実験の再現性を向上させます\n"
      ],
      "metadata": {
        "id": "OQMYGFAeDTQA"
      }
    },
    {
      "cell_type": "code",
      "source": [
        "#IDを削除\n",
        "finalized_df = post_processed_data_frame.drop(labels=['ID'], axis=1)\n",
        "\n",
        "# 行数と列数を変数として保管する\n",
        "NUM_ROWS, NUM_COLS = finalized_df.shape[0], finalized_df.shape[1]\n",
        "\n",
        "# Y (ラベル) ターゲットラベル\n",
        "Y_col = '90day-mortality'\n",
        "# X (フィーチャー) ターゲットラベル以外の全ての行\n",
        "X_cols = finalized_df.loc[:, finalized_df.columns != Y_col].columns\n",
        "\n",
        "X_train, X_val, y_train, y_val = \\\n",
        "train_test_split(finalized_df[X_cols], finalized_df[Y_col],test_size=0.3, random_state=42)\n",
        "\n",
        "X_train_op, X_val_op, y_train_op, y_val_op = X_train.copy(), X_val.copy(), y_train.copy(), y_val.copy()\n",
        "\n",
        "print(\"X_train.shape = \", X_train.shape, \" \\t y_train.shape = \", y_train.shape)\n",
        "print(\"X_val.shape = \", X_val.shape, \" \\t y_val.shape = \", y_val.shape)\n"
      ],
      "metadata": {
        "colab": {
          "base_uri": "https://localhost:8080/"
        },
        "id": "O6pvCgO2Db55",
        "outputId": "c25980f5-87c7-4226-e0b6-abd593aab545"
      },
      "execution_count": 10,
      "outputs": [
        {
          "output_type": "stream",
          "name": "stdout",
          "text": [
            "X_train.shape =  (99, 10)  \t y_train.shape =  (99,)\n",
            "X_val.shape =  (43, 10)  \t y_val.shape =  (43,)\n"
          ]
        }
      ]
    },
    {
      "cell_type": "markdown",
      "source": [
        "学習用データセットに含まれている各ラベル毎のサンプル数をカウントしてみます．"
      ],
      "metadata": {
        "id": "ziLHO70UDfRF"
      }
    },
    {
      "cell_type": "code",
      "source": [
        "uniq_train, counts_train = np.unique(y_train, return_counts=True)\n",
        "print(\"y_train count each labels: \", dict(zip(uniq_train, counts_train)))"
      ],
      "metadata": {
        "colab": {
          "base_uri": "https://localhost:8080/"
        },
        "id": "Fb9-JxwwDigf",
        "outputId": "35a71527-4294-4407-9d66-ce63d4ed844e"
      },
      "execution_count": 11,
      "outputs": [
        {
          "output_type": "stream",
          "name": "stdout",
          "text": [
            "y_train count each labels:  {0.0: 59, 1.0: 40}\n"
          ]
        }
      ]
    },
    {
      "cell_type": "markdown",
      "source": [
        "評価用データについても同様にラベル毎のサンプル数をカウントします．"
      ],
      "metadata": {
        "id": "yV2U2UZHDkwC"
      }
    },
    {
      "cell_type": "code",
      "source": [
        "uniq_test, counts_test = np.unique(y_val, return_counts=True)\n",
        "print(\"y_val count each labels: \", dict(zip(uniq_test, counts_test)))"
      ],
      "metadata": {
        "colab": {
          "base_uri": "https://localhost:8080/"
        },
        "id": "jyYsTR8hDlsO",
        "outputId": "9f2053cc-efc5-4d01-b308-e558f62a85b5"
      },
      "execution_count": 12,
      "outputs": [
        {
          "output_type": "stream",
          "name": "stdout",
          "text": [
            "y_val count each labels:  {0.0: 31, 1.0: 12}\n"
          ]
        }
      ]
    },
    {
      "cell_type": "markdown",
      "source": [
        "### モデル構築から予測精度の確認"
      ],
      "metadata": {
        "id": "uNOrGukeDnx-"
      }
    },
    {
      "cell_type": "markdown",
      "source": [
        "学習したデータに対してとても良い精度を出すモデルであっても、予測が必要な新たなデータに対する精度が非常に低い、いわゆる「過学習」という状態になることが良くあります。こうならないように、汎用的に良い精度になるモデルを作成するためには、妥当性の検証が必要になります。\n",
        "妥当性の検証としては方法を二通り行います：\n",
        "* クロスバリデーション\n",
        "* Optuna\n",
        "\n"
      ],
      "metadata": {
        "id": "2--RpMs_Drj2"
      }
    },
    {
      "cell_type": "markdown",
      "source": [
        "#### クロスバリデーション"
      ],
      "metadata": {
        "id": "rV460L6CDyRn"
      }
    },
    {
      "cell_type": "markdown",
      "source": [
        "クロスバリデーションを使った最終モデル選択までの手順：\n",
        "1. 使うモデルの候補を上げる：RandomForestClassifier --> ランダムフォレストのパラメーターは、初期値として作成する決定木を42、最大の深さを1にしてみます。)\n",
        "\n",
        "2. それぞれのモデルでクロスバリデーションを行い、感度や特異度などの精度を算出する (決定木を50, 150, 250, 350; 最大の深さを1から20でランダムフォレストモデルを定義する) \n",
        "\n",
        "3. クロスバリデーションの結果、テストデータでの精度が一番高そうなモデルを選択\n"
      ],
      "metadata": {
        "id": "94FaU9syD1fA"
      }
    },
    {
      "cell_type": "code",
      "source": [
        "# cross validationを使い、階層や決定木の数をチューニングしてみる（ハイパーパラメーター）\n",
        "# 注：過適合/過剰適合のバランスを見極めながらハイパーパラメーターチューニングを行う\n",
        "best_accuracy = 0\n",
        "best_depth = 1\n",
        "best_num_trees = 42\n",
        "\n",
        "for ntrees in range(50,450,100):  # 決定木50から350の間（ステップ数：100)\n",
        "    for d in range(1,20): # 階層1から20の間\n",
        "        rforest_model = ensemble.RandomForestClassifier(\n",
        "            n_estimators= ntrees,\n",
        "            criterion='entropy',\n",
        "            max_depth=d,\n",
        "            min_samples_split=2,\n",
        "            min_samples_leaf=1,\n",
        "            min_weight_fraction_leaf=0.0,\n",
        "            max_features='auto',\n",
        "            max_leaf_nodes=None,\n",
        "            min_impurity_decrease=0.0,\n",
        "            bootstrap=True,\n",
        "            oob_score=False,\n",
        "            n_jobs=-1,\n",
        "            random_state=0,\n",
        "            verbose=0,\n",
        "            warm_start=False,\n",
        "            class_weight='balanced'\n",
        "        )\n",
        "        cv_scores = cross_val_score( rforest_model, X_train, y_train, cv=5 ) # 5 はトレーニング・テストの割合が8割・2割ということを表す\n",
        "        average_cv_accuracy = cv_scores.mean()  # cvスコアの平均値cv=5はスコアを五つ出すため、その平均値を見る\n",
        "        if average_cv_accuracy >= best_accuracy: # cvスコアの平均値正確性が現在の最適正確性を上回った場合、現在のcvスコア平均値を出した決定木数・階層を最適とする\n",
        "            best_accuracy = average_cv_accuracy\n",
        "            best_depth = d\n",
        "            best_num_trees = ntrees\n",
        "        print(f\"階層: {d:2d} 決定木: {ntrees:3d} cv スコア平均値: {average_cv_accuracy:7.4f}\")\n",
        "\n",
        "print()\n",
        "print(f\"最適層: {best_depth}, 最適決定木数： {best_num_trees}, 最高予測精度：{best_accuracy}\")\n",
        "\n",
        "# 上記で見つけた最適層・最適決定木数をもとにモデルの構築・モデルのトレーニング\n",
        "rforest_model_cv = ensemble.RandomForestClassifier(max_depth=best_depth, n_estimators=best_num_trees) # ensemble.RandomForestClassifierからRF解析モデルを引っ張ってくる\n",
        "\n",
        "# モデルを再度トレーニングする\n",
        "rforest_model_cv.fit(X_train, y_train) # .fit()がトレーニングデータを使い、モデルをトレーニングしろというコマンド\n",
        "\n",
        "# 再度トレーニングした後のモデルのパフォーマンス検証\n",
        "# テストデータにrforest_modelに.predict()関数を応用し、RFモデルがラベルを何個正確に予測出来たかを検証する\n",
        "y_pred = rforest_model_cv.predict(X_val)\n",
        "\n",
        "#モデルを作成する段階でのモデルの識別精度\n",
        "trainaccuracy_random_forest = rforest_model_cv.score(X_train, y_train)\n",
        "print('TrainAccuracy: {}'.format(trainaccuracy_random_forest))\n",
        "\n",
        "#作成したモデルに学習に使用していない評価用のデータセットを入力し精度を確認\n",
        "accuracy_random_forest = accuracy_score(y_val, y_pred)\n",
        "print('Accuracy: {}'.format(accuracy_random_forest))\n",
        "\n",
        "# 正確性の出力\n",
        "print(classification_report(y_val, y_pred))"
      ],
      "metadata": {
        "colab": {
          "base_uri": "https://localhost:8080/"
        },
        "id": "3soCAvOjDrMB",
        "outputId": "e4a46516-3a52-4f59-fdc7-eb75bf22949e"
      },
      "execution_count": 13,
      "outputs": [
        {
          "output_type": "stream",
          "name": "stdout",
          "text": [
            "階層:  1 決定木:  50 cv スコア平均値:  0.6253\n",
            "階層:  2 決定木:  50 cv スコア平均値:  0.6363\n",
            "階層:  3 決定木:  50 cv スコア平均値:  0.6368\n",
            "階層:  4 決定木:  50 cv スコア平均値:  0.6274\n",
            "階層:  5 決定木:  50 cv スコア平均値:  0.6474\n",
            "階層:  6 決定木:  50 cv スコア平均値:  0.6679\n",
            "階層:  7 決定木:  50 cv スコア平均値:  0.6574\n",
            "階層:  8 決定木:  50 cv スコア平均値:  0.6574\n",
            "階層:  9 決定木:  50 cv スコア平均値:  0.6668\n",
            "階層: 10 決定木:  50 cv スコア平均値:  0.6568\n",
            "階層: 11 決定木:  50 cv スコア平均値:  0.6468\n",
            "階層: 12 決定木:  50 cv スコア平均値:  0.6468\n",
            "階層: 13 決定木:  50 cv スコア平均値:  0.6568\n",
            "階層: 14 決定木:  50 cv スコア平均値:  0.6568\n",
            "階層: 15 決定木:  50 cv スコア平均値:  0.6568\n",
            "階層: 16 決定木:  50 cv スコア平均値:  0.6568\n",
            "階層: 17 決定木:  50 cv スコア平均値:  0.6568\n",
            "階層: 18 決定木:  50 cv スコア平均値:  0.6568\n",
            "階層: 19 決定木:  50 cv スコア平均値:  0.6568\n",
            "階層:  1 決定木: 150 cv スコア平均値:  0.5958\n",
            "階層:  2 決定木: 150 cv スコア平均値:  0.6468\n",
            "階層:  3 決定木: 150 cv スコア平均値:  0.6574\n",
            "階層:  4 決定木: 150 cv スコア平均値:  0.6274\n",
            "階層:  5 決定木: 150 cv スコア平均値:  0.6374\n",
            "階層:  6 決定木: 150 cv スコア平均値:  0.6674\n",
            "階層:  7 決定木: 150 cv スコア平均値:  0.6474\n",
            "階層:  8 決定木: 150 cv スコア平均値:  0.6574\n",
            "階層:  9 決定木: 150 cv スコア平均値:  0.6368\n",
            "階層: 10 決定木: 150 cv スコア平均値:  0.6474\n",
            "階層: 11 決定木: 150 cv スコア平均値:  0.6474\n",
            "階層: 12 決定木: 150 cv スコア平均値:  0.6474\n",
            "階層: 13 決定木: 150 cv スコア平均値:  0.6474\n",
            "階層: 14 決定木: 150 cv スコア平均値:  0.6474\n",
            "階層: 15 決定木: 150 cv スコア平均値:  0.6474\n",
            "階層: 16 決定木: 150 cv スコア平均値:  0.6474\n",
            "階層: 17 決定木: 150 cv スコア平均値:  0.6474\n",
            "階層: 18 決定木: 150 cv スコア平均値:  0.6474\n",
            "階層: 19 決定木: 150 cv スコア平均値:  0.6474\n",
            "階層:  1 決定木: 250 cv スコア平均値:  0.6063\n",
            "階層:  2 決定木: 250 cv スコア平均値:  0.5963\n",
            "階層:  3 決定木: 250 cv スコア平均値:  0.6263\n",
            "階層:  4 決定木: 250 cv スコア平均値:  0.6468\n",
            "階層:  5 決定木: 250 cv スコア平均値:  0.6474\n",
            "階層:  6 決定木: 250 cv スコア平均値:  0.6474\n",
            "階層:  7 決定木: 250 cv スコア平均値:  0.6374\n",
            "階層:  8 決定木: 250 cv スコア平均値:  0.6574\n",
            "階層:  9 決定木: 250 cv スコア平均値:  0.6674\n",
            "階層: 10 決定木: 250 cv スコア平均値:  0.6574\n",
            "階層: 11 決定木: 250 cv スコア平均値:  0.6574\n",
            "階層: 12 決定木: 250 cv スコア平均値:  0.6574\n",
            "階層: 13 決定木: 250 cv スコア平均値:  0.6574\n",
            "階層: 14 決定木: 250 cv スコア平均値:  0.6574\n",
            "階層: 15 決定木: 250 cv スコア平均値:  0.6574\n",
            "階層: 16 決定木: 250 cv スコア平均値:  0.6574\n",
            "階層: 17 決定木: 250 cv スコア平均値:  0.6574\n",
            "階層: 18 決定木: 250 cv スコア平均値:  0.6574\n",
            "階層: 19 決定木: 250 cv スコア平均値:  0.6574\n",
            "階層:  1 決定木: 350 cv スコア平均値:  0.6058\n",
            "階層:  2 決定木: 350 cv スコア平均値:  0.5963\n",
            "階層:  3 決定木: 350 cv スコア平均値:  0.6468\n",
            "階層:  4 決定木: 350 cv スコア平均値:  0.6158\n",
            "階層:  5 決定木: 350 cv スコア平均値:  0.6474\n",
            "階層:  6 決定木: 350 cv スコア平均値:  0.6774\n",
            "階層:  7 決定木: 350 cv スコア平均値:  0.6674\n",
            "階層:  8 決定木: 350 cv スコア平均値:  0.6768\n",
            "階層:  9 決定木: 350 cv スコア平均値:  0.6768\n",
            "階層: 10 決定木: 350 cv スコア平均値:  0.6768\n",
            "階層: 11 決定木: 350 cv スコア平均値:  0.6768\n",
            "階層: 12 決定木: 350 cv スコア平均値:  0.6768\n",
            "階層: 13 決定木: 350 cv スコア平均値:  0.6768\n",
            "階層: 14 決定木: 350 cv スコア平均値:  0.6768\n",
            "階層: 15 決定木: 350 cv スコア平均値:  0.6768\n",
            "階層: 16 決定木: 350 cv スコア平均値:  0.6768\n",
            "階層: 17 決定木: 350 cv スコア平均値:  0.6768\n",
            "階層: 18 決定木: 350 cv スコア平均値:  0.6768\n",
            "階層: 19 決定木: 350 cv スコア平均値:  0.6768\n",
            "\n",
            "最適層: 6, 最適決定木数： 350, 最高予測精度：0.6773684210526316\n",
            "TrainAccuracy: 1.0\n",
            "Accuracy: 0.5116279069767442\n",
            "              precision    recall  f1-score   support\n",
            "\n",
            "         0.0       0.73      0.52      0.60        31\n",
            "         1.0       0.29      0.50      0.36        12\n",
            "\n",
            "    accuracy                           0.51        43\n",
            "   macro avg       0.51      0.51      0.48        43\n",
            "weighted avg       0.60      0.51      0.54        43\n",
            "\n"
          ]
        }
      ]
    },
    {
      "cell_type": "markdown",
      "source": [
        "* 適合率(specificity, precision)とは、positiveと分類したデータ(TP + FP)の中で実際にpositiveだったデータ(TP)数の割合であり、この値が高いほど性能が良く、間違った分類が少ないということを意味します。\n",
        "\n",
        "* 再現率(sensitivity, recall)では、取りこぼし無くpositiveなデータを正しくpositiveと推測できているかどうかの指標となります。この値が高いほど性能がよく、間違ったpositiveの判断が少ないということであり、別の言い方をすると本来positiveと推測すべき全てのデータを、うまく推測できたかどうかを示します。\n",
        "\n",
        "* F-MeasureはF値またはF尺度と呼ばれており、適合率と再現率の調和平均を示します。高ければ高いほど、適合率と再現率ともに高くなり、バランスを示す事ができます。\n",
        "\n",
        "また，クラスごとのスコアの下に，複数の平均スコアが表示されていますが，それぞれの意味は以下の通りです．\n",
        "\n",
        "* マイクロ平均 (micro avg) : 各クラスを区別せずに，混同行列全体からスコアを算出．計算結果はいずれも正解率と一致\n",
        "* マクロ平均 (macro avg) : クラスごとに算出されたスコアの単純平均\n",
        "* 重み付き平均 (weighted avg) : クラスごとに算出されたスコアをサンプル数の比率で重み付けした加重平均"
      ],
      "metadata": {
        "id": "_KJg_D2HEHNG"
      }
    },
    {
      "cell_type": "markdown",
      "source": [
        "予測結果を確認していきましょう。\n",
        "\n",
        "混同行列とよばれる，予測の分類結果をまとめた表を作成します．行方向（表側）を正解ラベル，列方向（表頭）を予測ラベルとして，各項目では以下の集計値を求めています．\n",
        "\n",
        "* 左上 : 実際に生存者であるサンプルが，生存者と予測された数\n",
        "* 右上 : 実際に生存者であるサンプルが、死者と予測された数\n",
        "* 左下 : 実際に死者であるサンプルが，生存者と予測された数\n",
        "* 右下 : 実際に死者であるサンプルが，死者と予測された数"
      ],
      "metadata": {
        "id": "shWAJjjOEJG0"
      }
    },
    {
      "cell_type": "code",
      "source": [
        "result = confusion_matrix(y_val, y_pred)\n",
        "print(\"Confusion Matrix:\")\n",
        "#confusion matrix\n",
        "labels = sorted(finalized_df['90day-mortality'].unique())\n",
        "ax = sns.heatmap(\n",
        "confusion_matrix(y_val, y_pred),\n",
        "annot=True,\n",
        "xticklabels=labels,\n",
        "yticklabels=labels\n",
        ")\n",
        "ax.set(xlabel='true label', ylabel='predicted label')"
      ],
      "metadata": {
        "colab": {
          "base_uri": "https://localhost:8080/",
          "height": 325
        },
        "id": "0b400zeREKqg",
        "outputId": "30e7ce5f-61c4-4fe0-def8-4d150f2550ea"
      },
      "execution_count": 14,
      "outputs": [
        {
          "output_type": "stream",
          "name": "stdout",
          "text": [
            "Confusion Matrix:\n"
          ]
        },
        {
          "output_type": "execute_result",
          "data": {
            "text/plain": [
              "[Text(30.5, 0.5, 'predicted label'), Text(0.5, 12.5, 'true label')]"
            ]
          },
          "metadata": {},
          "execution_count": 14
        },
        {
          "output_type": "display_data",
          "data": {
            "text/plain": [
              "<Figure size 432x288 with 2 Axes>"
            ],
            "image/png": "[encoded data removed]"
          },
          "metadata": {
            "needs_background": "light"
          }
        }
      ]
    },
    {
      "cell_type": "markdown",
      "source": [
        "サンプル数が多い生存者に対する予測スコアは高い値を示す一方で，サンプル数の少ない死者に対しては，スコアが低くなる傾向があります．今回のデータセットのように，サンプルが占めるクラスの割合が極端に偏っている不均衡データでは，こうした傾向が観測されることが知られています．\n"
      ],
      "metadata": {
        "id": "ujDYTJQzEOkv"
      }
    },
    {
      "cell_type": "markdown",
      "source": [
        "#### Optuna"
      ],
      "metadata": {
        "id": "uAis8mf4PiDw"
      }
    },
    {
      "cell_type": "markdown",
      "source": [
        "OptunaとはPreferred Networks社が出しているハイパーパラメータ自動化ツールです。Tree-structured Parzen Estimator というベイズ最適化アルゴリズムの一種を用いていて有望そうなハイパーパレメーターを正確に特定できます。\n",
        "objective()というOptunaの目的関数を設定する関数でRandomForestClassifierのパラメーターを設定しています。\n",
        "RandomForestClassifier()のパラメーターについて：\n",
        "1.   criterion - 評価基準 (ジニ係数またはエントロピー)\n",
        "2.   bootstrap - 決定木構築の際にブートストラップサンプルを使用するかどうか\n",
        "3.   max_depth - 先のn_estimatorsで指定した決定木／回帰木の深さの指定\n",
        "4.   max_features - 個々の決定木に、どれくらいの特徴量を使用するかを、表します\n",
        "5.   max_leaf_nodes - 決定木をベスト・ファーストの方法で成長させる\n",
        "6.   n_estimators - ベースとして利用する決定木／回帰木の数\n",
        "7.   min_samples_split - 子ノードを分割するために必要なサンプルの最小数\n",
        "8.   min_samples_leaf - リーフノードにある必要があるサンプルの最小数\n",
        "\n",
        "詳しくはこちらを参照して下さい [[3](https://scikit-learn.org/stable/modules/generated/sklearn.ensemble.RandomForestClassifier.html)]。\n",
        "\n",
        "\n"
      ],
      "metadata": {
        "id": "cFaRncCyPi7f"
      }
    },
    {
      "cell_type": "code",
      "source": [
        "# def objective_complete(trial):\n",
        "#   criterion = trial.suggest_categorical('criterion', ['gini', 'entropy'])\n",
        "#   bootstrap = trial.suggest_categorical('bootstrap',['True','False'])\n",
        "#   max_depth = trial.suggest_int('max_depth', 1, 1000)\n",
        "#   max_features = trial.suggest_categorical('max_features', ['auto', 'sqrt','log2'])\n",
        "#   max_leaf_nodes = trial.suggest_int('max_leaf_nodes', 1,1000)\n",
        "#   n_estimators =  trial.suggest_int('n_estimators', 1, 1000)\n",
        "#   min_samples_split = trial.suggest_int('min_samples_split',2,5)\n",
        "#   min_samples_leaf = trial.suggest_int('min_samples_leaf',1,10)\n",
        "\n",
        "#   regr = ensemble.RandomForestClassifier(\n",
        "#       bootstrap = bootstrap, criterion = criterion,\n",
        "#       max_depth = max_depth, max_features = max_features,\n",
        "#       max_leaf_nodes = max_leaf_nodes,n_estimators = n_estimators,\n",
        "#       min_samples_split = min_samples_split,min_samples_leaf = min_samples_leaf,\n",
        "#       n_jobs=2)\n",
        "\n",
        "#   score = cross_val_score(regr, X_train_op, y_train_op, cv=5, scoring=\"r2\")\n",
        "#   r2_mean = score.mean()\n",
        "#   return r2_mean\n",
        "\n",
        "def objective(trial):\n",
        "      n_estimators = trial.suggest_int('n_estimators', 2, 20)\n",
        "      max_depth = int(trial.suggest_loguniform('max_depth', 1, 32))\n",
        "      clf = sklearn.ensemble.RandomForestClassifier(n_estimators=n_estimators, max_depth=max_depth)\n",
        "      return sklearn.model_selection.cross_val_score(clf, X_train_op, y_train_op, cv=5, n_jobs=-1).mean()\n",
        "\n",
        "study = optuna.create_study(direction='maximize')\n",
        "study.optimize(objective, n_trials=100)\n",
        "\n",
        "trial = study.best_trial\n",
        "print('Accuracy: {}'.format(trial.value))\n",
        "\n",
        "# チューニングしたハイパーパラメーターをフィット\n",
        "rforest_model_post_optuna = ensemble.RandomForestClassifier(\n",
        "                                     max_depth = trial.params['max_depth'],\n",
        "                                     n_estimators = trial.params['n_estimators'],                                    \n",
        "                                     n_jobs=-1)\n",
        "\n",
        "# モデルを再度トレーニングする\n",
        "rforest_model_post_optuna.fit(X_train_op, y_train_op) \n",
        "\n",
        "# 再度トレーニングした後のモデルのパフォーマンス検証\n",
        "# テストデータにrforest_modelに.predict()関数を応用し、RFモデルがラベルを何個正確に予測出来たかを検証する\n",
        "y_pred_op = rforest_model_post_optuna.predict(X_val_op)\n",
        "\n",
        "#モデルを作成する段階でのモデルの識別精度\n",
        "trainaccuracy_random_forest_op = rforest_model_post_optuna.score(X_train_op, y_train_op)\n",
        "print('TrainAccuracy: {}'.format(trainaccuracy_random_forest_op))\n",
        "\n",
        "#作成したモデルに学習に使用していない評価用のデータセットを入力し精度を確認\n",
        "accuracy_random_forest_op = accuracy_score(y_val_op, y_pred_op)\n",
        "print('Accuracy: {}'.format(accuracy_random_forest_op))\n",
        "\n",
        "# 正確性の出力\n",
        "print(classification_report(y_val_op, y_pred_op))\n"
      ],
      "metadata": {
        "colab": {
          "base_uri": "https://localhost:8080/"
        },
        "id": "LmKR_hFZPnJu",
        "outputId": "118e2234-c588-404b-af34-fcab278397cf"
      },
      "execution_count": 16,
      "outputs": [
        {
          "output_type": "stream",
          "name": "stderr",
          "text": [
            "\u001b[32m[I 2022-09-20 02:40:39,796]\u001b[0m A new study created in memory with name: no-name-d51852e5-d536-4400-ba87-ae012c13e873\u001b[0m\n",
            "/usr/local/lib/python3.7/dist-packages/ipykernel_launcher.py:24: FutureWarning: suggest_loguniform has been deprecated in v3.0.0. This feature will be removed in v6.0.0. See https://github.com/optuna/optuna/releases/tag/v3.0.0. Use :func:`~optuna.trial.Trial.suggest_float` instead.\n",
            "\u001b[32m[I 2022-09-20 02:40:39,884]\u001b[0m Trial 0 finished with value: 0.6563157894736843 and parameters: {'n_estimators': 12, 'max_depth': 3.183605665309073}. Best is trial 0 with value: 0.6563157894736843.\u001b[0m\n",
            "/usr/local/lib/python3.7/dist-packages/ipykernel_launcher.py:24: FutureWarning: suggest_loguniform has been deprecated in v3.0.0. This feature will be removed in v6.0.0. See https://github.com/optuna/optuna/releases/tag/v3.0.0. Use :func:`~optuna.trial.Trial.suggest_float` instead.\n",
            "\u001b[32m[I 2022-09-20 02:40:39,936]\u001b[0m Trial 1 finished with value: 0.5757894736842105 and parameters: {'n_estimators': 3, 'max_depth': 22.75280872524131}. Best is trial 0 with value: 0.6563157894736843.\u001b[0m\n",
            "/usr/local/lib/python3.7/dist-packages/ipykernel_launcher.py:24: FutureWarning: suggest_loguniform has been deprecated in v3.0.0. This feature will be removed in v6.0.0. See https://github.com/optuna/optuna/releases/tag/v3.0.0. Use :func:`~optuna.trial.Trial.suggest_float` instead.\n",
            "\u001b[32m[I 2022-09-20 02:40:39,985]\u001b[0m Trial 2 finished with value: 0.6057894736842105 and parameters: {'n_estimators': 2, 'max_depth': 7.529621855500523}. Best is trial 0 with value: 0.6563157894736843.\u001b[0m\n",
            "/usr/local/lib/python3.7/dist-packages/ipykernel_launcher.py:24: FutureWarning: suggest_loguniform has been deprecated in v3.0.0. This feature will be removed in v6.0.0. See https://github.com/optuna/optuna/releases/tag/v3.0.0. Use :func:`~optuna.trial.Trial.suggest_float` instead.\n",
            "\u001b[32m[I 2022-09-20 02:40:40,046]\u001b[0m Trial 3 finished with value: 0.6257894736842105 and parameters: {'n_estimators': 4, 'max_depth': 12.721683105111378}. Best is trial 0 with value: 0.6563157894736843.\u001b[0m\n",
            "/usr/local/lib/python3.7/dist-packages/ipykernel_launcher.py:24: FutureWarning: suggest_loguniform has been deprecated in v3.0.0. This feature will be removed in v6.0.0. See https://github.com/optuna/optuna/releases/tag/v3.0.0. Use :func:`~optuna.trial.Trial.suggest_float` instead.\n",
            "\u001b[32m[I 2022-09-20 02:40:40,100]\u001b[0m Trial 4 finished with value: 0.5357894736842106 and parameters: {'n_estimators': 3, 'max_depth': 1.6062889079989484}. Best is trial 0 with value: 0.6563157894736843.\u001b[0m\n",
            "/usr/local/lib/python3.7/dist-packages/ipykernel_launcher.py:24: FutureWarning: suggest_loguniform has been deprecated in v3.0.0. This feature will be removed in v6.0.0. See https://github.com/optuna/optuna/releases/tag/v3.0.0. Use :func:`~optuna.trial.Trial.suggest_float` instead.\n",
            "\u001b[32m[I 2022-09-20 02:40:40,155]\u001b[0m Trial 5 finished with value: 0.5763157894736842 and parameters: {'n_estimators': 3, 'max_depth': 10.480160778325287}. Best is trial 0 with value: 0.6563157894736843.\u001b[0m\n",
            "/usr/local/lib/python3.7/dist-packages/ipykernel_launcher.py:24: FutureWarning: suggest_loguniform has been deprecated in v3.0.0. This feature will be removed in v6.0.0. See https://github.com/optuna/optuna/releases/tag/v3.0.0. Use :func:`~optuna.trial.Trial.suggest_float` instead.\n",
            "\u001b[32m[I 2022-09-20 02:40:40,267]\u001b[0m Trial 6 finished with value: 0.6457894736842105 and parameters: {'n_estimators': 16, 'max_depth': 23.820926365368578}. Best is trial 0 with value: 0.6563157894736843.\u001b[0m\n",
            "/usr/local/lib/python3.7/dist-packages/ipykernel_launcher.py:24: FutureWarning: suggest_loguniform has been deprecated in v3.0.0. This feature will be removed in v6.0.0. See https://github.com/optuna/optuna/releases/tag/v3.0.0. Use :func:`~optuna.trial.Trial.suggest_float` instead.\n",
            "\u001b[32m[I 2022-09-20 02:40:40,314]\u001b[0m Trial 7 finished with value: 0.6168421052631579 and parameters: {'n_estimators': 2, 'max_depth': 1.766230131950256}. Best is trial 0 with value: 0.6563157894736843.\u001b[0m\n",
            "/usr/local/lib/python3.7/dist-packages/ipykernel_launcher.py:24: FutureWarning: suggest_loguniform has been deprecated in v3.0.0. This feature will be removed in v6.0.0. See https://github.com/optuna/optuna/releases/tag/v3.0.0. Use :func:`~optuna.trial.Trial.suggest_float` instead.\n",
            "\u001b[32m[I 2022-09-20 02:40:40,417]\u001b[0m Trial 8 finished with value: 0.5963157894736841 and parameters: {'n_estimators': 15, 'max_depth': 1.2155540307931831}. Best is trial 0 with value: 0.6563157894736843.\u001b[0m\n",
            "/usr/local/lib/python3.7/dist-packages/ipykernel_launcher.py:24: FutureWarning: suggest_loguniform has been deprecated in v3.0.0. This feature will be removed in v6.0.0. See https://github.com/optuna/optuna/releases/tag/v3.0.0. Use :func:`~optuna.trial.Trial.suggest_float` instead.\n",
            "\u001b[32m[I 2022-09-20 02:40:40,521]\u001b[0m Trial 9 finished with value: 0.6163157894736842 and parameters: {'n_estimators': 13, 'max_depth': 5.143538428130831}. Best is trial 0 with value: 0.6563157894736843.\u001b[0m\n",
            "/usr/local/lib/python3.7/dist-packages/ipykernel_launcher.py:24: FutureWarning: suggest_loguniform has been deprecated in v3.0.0. This feature will be removed in v6.0.0. See https://github.com/optuna/optuna/releases/tag/v3.0.0. Use :func:`~optuna.trial.Trial.suggest_float` instead.\n",
            "\u001b[32m[I 2022-09-20 02:40:40,654]\u001b[0m Trial 10 finished with value: 0.6468421052631579 and parameters: {'n_estimators': 20, 'max_depth': 3.2066389496153356}. Best is trial 0 with value: 0.6563157894736843.\u001b[0m\n",
            "/usr/local/lib/python3.7/dist-packages/ipykernel_launcher.py:24: FutureWarning: suggest_loguniform has been deprecated in v3.0.0. This feature will be removed in v6.0.0. See https://github.com/optuna/optuna/releases/tag/v3.0.0. Use :func:`~optuna.trial.Trial.suggest_float` instead.\n",
            "\u001b[32m[I 2022-09-20 02:40:40,787]\u001b[0m Trial 11 finished with value: 0.5968421052631578 and parameters: {'n_estimators': 20, 'max_depth': 3.3249363058141896}. Best is trial 0 with value: 0.6563157894736843.\u001b[0m\n",
            "/usr/local/lib/python3.7/dist-packages/ipykernel_launcher.py:24: FutureWarning: suggest_loguniform has been deprecated in v3.0.0. This feature will be removed in v6.0.0. See https://github.com/optuna/optuna/releases/tag/v3.0.0. Use :func:`~optuna.trial.Trial.suggest_float` instead.\n",
            "\u001b[32m[I 2022-09-20 02:40:40,938]\u001b[0m Trial 12 finished with value: 0.6047368421052632 and parameters: {'n_estimators': 8, 'max_depth': 3.217381688818157}. Best is trial 0 with value: 0.6563157894736843.\u001b[0m\n",
            "/usr/local/lib/python3.7/dist-packages/ipykernel_launcher.py:24: FutureWarning: suggest_loguniform has been deprecated in v3.0.0. This feature will be removed in v6.0.0. See https://github.com/optuna/optuna/releases/tag/v3.0.0. Use :func:`~optuna.trial.Trial.suggest_float` instead.\n",
            "\u001b[32m[I 2022-09-20 02:40:41,077]\u001b[0m Trial 13 finished with value: 0.5668421052631578 and parameters: {'n_estimators': 9, 'max_depth': 2.7980503341392984}. Best is trial 0 with value: 0.6563157894736843.\u001b[0m\n",
            "/usr/local/lib/python3.7/dist-packages/ipykernel_launcher.py:24: FutureWarning: suggest_loguniform has been deprecated in v3.0.0. This feature will be removed in v6.0.0. See https://github.com/optuna/optuna/releases/tag/v3.0.0. Use :func:`~optuna.trial.Trial.suggest_float` instead.\n",
            "\u001b[32m[I 2022-09-20 02:40:41,298]\u001b[0m Trial 14 finished with value: 0.6473684210526316 and parameters: {'n_estimators': 19, 'max_depth': 5.606143462747696}. Best is trial 0 with value: 0.6563157894736843.\u001b[0m\n",
            "/usr/local/lib/python3.7/dist-packages/ipykernel_launcher.py:24: FutureWarning: suggest_loguniform has been deprecated in v3.0.0. This feature will be removed in v6.0.0. See https://github.com/optuna/optuna/releases/tag/v3.0.0. Use :func:`~optuna.trial.Trial.suggest_float` instead.\n",
            "\u001b[32m[I 2022-09-20 02:40:41,521]\u001b[0m Trial 15 finished with value: 0.5757894736842105 and parameters: {'n_estimators': 16, 'max_depth': 5.601112633071206}. Best is trial 0 with value: 0.6563157894736843.\u001b[0m\n",
            "/usr/local/lib/python3.7/dist-packages/ipykernel_launcher.py:24: FutureWarning: suggest_loguniform has been deprecated in v3.0.0. This feature will be removed in v6.0.0. See https://github.com/optuna/optuna/releases/tag/v3.0.0. Use :func:`~optuna.trial.Trial.suggest_float` instead.\n",
            "\u001b[32m[I 2022-09-20 02:40:41,661]\u001b[0m Trial 16 finished with value: 0.6468421052631579 and parameters: {'n_estimators': 11, 'max_depth': 8.612180728620784}. Best is trial 0 with value: 0.6563157894736843.\u001b[0m\n",
            "/usr/local/lib/python3.7/dist-packages/ipykernel_launcher.py:24: FutureWarning: suggest_loguniform has been deprecated in v3.0.0. This feature will be removed in v6.0.0. See https://github.com/optuna/optuna/releases/tag/v3.0.0. Use :func:`~optuna.trial.Trial.suggest_float` instead.\n",
            "\u001b[32m[I 2022-09-20 02:40:41,855]\u001b[0m Trial 17 finished with value: 0.5963157894736841 and parameters: {'n_estimators': 18, 'max_depth': 14.616529061044757}. Best is trial 0 with value: 0.6563157894736843.\u001b[0m\n",
            "/usr/local/lib/python3.7/dist-packages/ipykernel_launcher.py:24: FutureWarning: suggest_loguniform has been deprecated in v3.0.0. This feature will be removed in v6.0.0. See https://github.com/optuna/optuna/releases/tag/v3.0.0. Use :func:`~optuna.trial.Trial.suggest_float` instead.\n",
            "\u001b[32m[I 2022-09-20 02:40:41,956]\u001b[0m Trial 18 finished with value: 0.6473684210526316 and parameters: {'n_estimators': 6, 'max_depth': 4.554564333532413}. Best is trial 0 with value: 0.6563157894736843.\u001b[0m\n",
            "/usr/local/lib/python3.7/dist-packages/ipykernel_launcher.py:24: FutureWarning: suggest_loguniform has been deprecated in v3.0.0. This feature will be removed in v6.0.0. See https://github.com/optuna/optuna/releases/tag/v3.0.0. Use :func:`~optuna.trial.Trial.suggest_float` instead.\n",
            "\u001b[32m[I 2022-09-20 02:40:42,131]\u001b[0m Trial 19 finished with value: 0.5863157894736842 and parameters: {'n_estimators': 13, 'max_depth': 2.0798448322540706}. Best is trial 0 with value: 0.6563157894736843.\u001b[0m\n",
            "/usr/local/lib/python3.7/dist-packages/ipykernel_launcher.py:24: FutureWarning: suggest_loguniform has been deprecated in v3.0.0. This feature will be removed in v6.0.0. See https://github.com/optuna/optuna/releases/tag/v3.0.0. Use :func:`~optuna.trial.Trial.suggest_float` instead.\n",
            "\u001b[32m[I 2022-09-20 02:40:42,284]\u001b[0m Trial 20 finished with value: 0.5942105263157894 and parameters: {'n_estimators': 11, 'max_depth': 7.206088928384278}. Best is trial 0 with value: 0.6563157894736843.\u001b[0m\n",
            "/usr/local/lib/python3.7/dist-packages/ipykernel_launcher.py:24: FutureWarning: suggest_loguniform has been deprecated in v3.0.0. This feature will be removed in v6.0.0. See https://github.com/optuna/optuna/releases/tag/v3.0.0. Use :func:`~optuna.trial.Trial.suggest_float` instead.\n",
            "\u001b[32m[I 2022-09-20 02:40:42,366]\u001b[0m Trial 21 finished with value: 0.5652631578947368 and parameters: {'n_estimators': 6, 'max_depth': 4.671499155186482}. Best is trial 0 with value: 0.6563157894736843.\u001b[0m\n",
            "/usr/local/lib/python3.7/dist-packages/ipykernel_launcher.py:24: FutureWarning: suggest_loguniform has been deprecated in v3.0.0. This feature will be removed in v6.0.0. See https://github.com/optuna/optuna/releases/tag/v3.0.0. Use :func:`~optuna.trial.Trial.suggest_float` instead.\n",
            "\u001b[32m[I 2022-09-20 02:40:42,444]\u001b[0m Trial 22 finished with value: 0.5852631578947368 and parameters: {'n_estimators': 6, 'max_depth': 4.288985607313268}. Best is trial 0 with value: 0.6563157894736843.\u001b[0m\n",
            "/usr/local/lib/python3.7/dist-packages/ipykernel_launcher.py:24: FutureWarning: suggest_loguniform has been deprecated in v3.0.0. This feature will be removed in v6.0.0. See https://github.com/optuna/optuna/releases/tag/v3.0.0. Use :func:`~optuna.trial.Trial.suggest_float` instead.\n",
            "\u001b[32m[I 2022-09-20 02:40:42,529]\u001b[0m Trial 23 finished with value: 0.6368421052631579 and parameters: {'n_estimators': 9, 'max_depth': 2.2436545013943623}. Best is trial 0 with value: 0.6563157894736843.\u001b[0m\n",
            "/usr/local/lib/python3.7/dist-packages/ipykernel_launcher.py:24: FutureWarning: suggest_loguniform has been deprecated in v3.0.0. This feature will be removed in v6.0.0. See https://github.com/optuna/optuna/releases/tag/v3.0.0. Use :func:`~optuna.trial.Trial.suggest_float` instead.\n",
            "\u001b[32m[I 2022-09-20 02:40:42,637]\u001b[0m Trial 24 finished with value: 0.6463157894736842 and parameters: {'n_estimators': 13, 'max_depth': 6.576353409820727}. Best is trial 0 with value: 0.6563157894736843.\u001b[0m\n",
            "/usr/local/lib/python3.7/dist-packages/ipykernel_launcher.py:24: FutureWarning: suggest_loguniform has been deprecated in v3.0.0. This feature will be removed in v6.0.0. See https://github.com/optuna/optuna/releases/tag/v3.0.0. Use :func:`~optuna.trial.Trial.suggest_float` instead.\n",
            "\u001b[32m[I 2022-09-20 02:40:42,712]\u001b[0m Trial 25 finished with value: 0.5742105263157895 and parameters: {'n_estimators': 6, 'max_depth': 4.020390398426692}. Best is trial 0 with value: 0.6563157894736843.\u001b[0m\n",
            "/usr/local/lib/python3.7/dist-packages/ipykernel_launcher.py:24: FutureWarning: suggest_loguniform has been deprecated in v3.0.0. This feature will be removed in v6.0.0. See https://github.com/optuna/optuna/releases/tag/v3.0.0. Use :func:`~optuna.trial.Trial.suggest_float` instead.\n",
            "\u001b[32m[I 2022-09-20 02:40:42,837]\u001b[0m Trial 26 finished with value: 0.6252631578947367 and parameters: {'n_estimators': 18, 'max_depth': 2.7286593329860724}. Best is trial 0 with value: 0.6563157894736843.\u001b[0m\n",
            "/usr/local/lib/python3.7/dist-packages/ipykernel_launcher.py:24: FutureWarning: suggest_loguniform has been deprecated in v3.0.0. This feature will be removed in v6.0.0. See https://github.com/optuna/optuna/releases/tag/v3.0.0. Use :func:`~optuna.trial.Trial.suggest_float` instead.\n",
            "\u001b[32m[I 2022-09-20 02:40:42,922]\u001b[0m Trial 27 finished with value: 0.5747368421052632 and parameters: {'n_estimators': 7, 'max_depth': 9.111207603539615}. Best is trial 0 with value: 0.6563157894736843.\u001b[0m\n",
            "/usr/local/lib/python3.7/dist-packages/ipykernel_launcher.py:24: FutureWarning: suggest_loguniform has been deprecated in v3.0.0. This feature will be removed in v6.0.0. See https://github.com/optuna/optuna/releases/tag/v3.0.0. Use :func:`~optuna.trial.Trial.suggest_float` instead.\n",
            "\u001b[32m[I 2022-09-20 02:40:43,009]\u001b[0m Trial 28 finished with value: 0.6273684210526317 and parameters: {'n_estimators': 10, 'max_depth': 1.0937216310144453}. Best is trial 0 with value: 0.6563157894736843.\u001b[0m\n",
            "/usr/local/lib/python3.7/dist-packages/ipykernel_launcher.py:24: FutureWarning: suggest_loguniform has been deprecated in v3.0.0. This feature will be removed in v6.0.0. See https://github.com/optuna/optuna/releases/tag/v3.0.0. Use :func:`~optuna.trial.Trial.suggest_float` instead.\n",
            "\u001b[32m[I 2022-09-20 02:40:43,136]\u001b[0m Trial 29 finished with value: 0.5968421052631578 and parameters: {'n_estimators': 18, 'max_depth': 14.125241021925067}. Best is trial 0 with value: 0.6563157894736843.\u001b[0m\n",
            "/usr/local/lib/python3.7/dist-packages/ipykernel_launcher.py:24: FutureWarning: suggest_loguniform has been deprecated in v3.0.0. This feature will be removed in v6.0.0. See https://github.com/optuna/optuna/releases/tag/v3.0.0. Use :func:`~optuna.trial.Trial.suggest_float` instead.\n",
            "\u001b[32m[I 2022-09-20 02:40:43,249]\u001b[0m Trial 30 finished with value: 0.606842105263158 and parameters: {'n_estimators': 14, 'max_depth': 30.656232655118142}. Best is trial 0 with value: 0.6563157894736843.\u001b[0m\n",
            "/usr/local/lib/python3.7/dist-packages/ipykernel_launcher.py:24: FutureWarning: suggest_loguniform has been deprecated in v3.0.0. This feature will be removed in v6.0.0. See https://github.com/optuna/optuna/releases/tag/v3.0.0. Use :func:`~optuna.trial.Trial.suggest_float` instead.\n",
            "\u001b[32m[I 2022-09-20 02:40:43,382]\u001b[0m Trial 31 finished with value: 0.6373684210526316 and parameters: {'n_estimators': 20, 'max_depth': 3.733876161097184}. Best is trial 0 with value: 0.6563157894736843.\u001b[0m\n",
            "/usr/local/lib/python3.7/dist-packages/ipykernel_launcher.py:24: FutureWarning: suggest_loguniform has been deprecated in v3.0.0. This feature will be removed in v6.0.0. See https://github.com/optuna/optuna/releases/tag/v3.0.0. Use :func:`~optuna.trial.Trial.suggest_float` instead.\n",
            "\u001b[32m[I 2022-09-20 02:40:43,479]\u001b[0m Trial 32 finished with value: 0.5957894736842105 and parameters: {'n_estimators': 11, 'max_depth': 8.562487949812159}. Best is trial 0 with value: 0.6563157894736843.\u001b[0m\n",
            "/usr/local/lib/python3.7/dist-packages/ipykernel_launcher.py:24: FutureWarning: suggest_loguniform has been deprecated in v3.0.0. This feature will be removed in v6.0.0. See https://github.com/optuna/optuna/releases/tag/v3.0.0. Use :func:`~optuna.trial.Trial.suggest_float` instead.\n",
            "\u001b[32m[I 2022-09-20 02:40:43,608]\u001b[0m Trial 33 finished with value: 0.5447368421052632 and parameters: {'n_estimators': 19, 'max_depth': 6.252232776005679}. Best is trial 0 with value: 0.6563157894736843.\u001b[0m\n",
            "/usr/local/lib/python3.7/dist-packages/ipykernel_launcher.py:24: FutureWarning: suggest_loguniform has been deprecated in v3.0.0. This feature will be removed in v6.0.0. See https://github.com/optuna/optuna/releases/tag/v3.0.0. Use :func:`~optuna.trial.Trial.suggest_float` instead.\n",
            "\u001b[32m[I 2022-09-20 02:40:43,733]\u001b[0m Trial 34 finished with value: 0.6263157894736843 and parameters: {'n_estimators': 17, 'max_depth': 2.3954972860810138}. Best is trial 0 with value: 0.6563157894736843.\u001b[0m\n",
            "/usr/local/lib/python3.7/dist-packages/ipykernel_launcher.py:24: FutureWarning: suggest_loguniform has been deprecated in v3.0.0. This feature will be removed in v6.0.0. See https://github.com/optuna/optuna/releases/tag/v3.0.0. Use :func:`~optuna.trial.Trial.suggest_float` instead.\n",
            "\u001b[32m[I 2022-09-20 02:40:43,797]\u001b[0m Trial 35 finished with value: 0.5952631578947368 and parameters: {'n_estimators': 4, 'max_depth': 11.349403933388757}. Best is trial 0 with value: 0.6563157894736843.\u001b[0m\n",
            "/usr/local/lib/python3.7/dist-packages/ipykernel_launcher.py:24: FutureWarning: suggest_loguniform has been deprecated in v3.0.0. This feature will be removed in v6.0.0. See https://github.com/optuna/optuna/releases/tag/v3.0.0. Use :func:`~optuna.trial.Trial.suggest_float` instead.\n",
            "\u001b[32m[I 2022-09-20 02:40:43,909]\u001b[0m Trial 36 finished with value: 0.6168421052631579 and parameters: {'n_estimators': 12, 'max_depth': 8.185857736968776}. Best is trial 0 with value: 0.6563157894736843.\u001b[0m\n",
            "/usr/local/lib/python3.7/dist-packages/ipykernel_launcher.py:24: FutureWarning: suggest_loguniform has been deprecated in v3.0.0. This feature will be removed in v6.0.0. See https://github.com/optuna/optuna/releases/tag/v3.0.0. Use :func:`~optuna.trial.Trial.suggest_float` instead.\n",
            "\u001b[32m[I 2022-09-20 02:40:44,039]\u001b[0m Trial 37 finished with value: 0.6057894736842105 and parameters: {'n_estimators': 19, 'max_depth': 1.7058584350216834}. Best is trial 0 with value: 0.6563157894736843.\u001b[0m\n",
            "/usr/local/lib/python3.7/dist-packages/ipykernel_launcher.py:24: FutureWarning: suggest_loguniform has been deprecated in v3.0.0. This feature will be removed in v6.0.0. See https://github.com/optuna/optuna/releases/tag/v3.0.0. Use :func:`~optuna.trial.Trial.suggest_float` instead.\n",
            "\u001b[32m[I 2022-09-20 02:40:44,161]\u001b[0m Trial 38 finished with value: 0.5957894736842105 and parameters: {'n_estimators': 16, 'max_depth': 3.231076674695829}. Best is trial 0 with value: 0.6563157894736843.\u001b[0m\n",
            "/usr/local/lib/python3.7/dist-packages/ipykernel_launcher.py:24: FutureWarning: suggest_loguniform has been deprecated in v3.0.0. This feature will be removed in v6.0.0. See https://github.com/optuna/optuna/releases/tag/v3.0.0. Use :func:`~optuna.trial.Trial.suggest_float` instead.\n",
            "\u001b[32m[I 2022-09-20 02:40:44,228]\u001b[0m Trial 39 finished with value: 0.6757894736842106 and parameters: {'n_estimators': 4, 'max_depth': 16.459029679876988}. Best is trial 39 with value: 0.6757894736842106.\u001b[0m\n",
            "/usr/local/lib/python3.7/dist-packages/ipykernel_launcher.py:24: FutureWarning: suggest_loguniform has been deprecated in v3.0.0. This feature will be removed in v6.0.0. See https://github.com/optuna/optuna/releases/tag/v3.0.0. Use :func:`~optuna.trial.Trial.suggest_float` instead.\n",
            "\u001b[32m[I 2022-09-20 02:40:44,300]\u001b[0m Trial 40 finished with value: 0.6068421052631578 and parameters: {'n_estimators': 5, 'max_depth': 16.726137462349815}. Best is trial 39 with value: 0.6757894736842106.\u001b[0m\n",
            "/usr/local/lib/python3.7/dist-packages/ipykernel_launcher.py:24: FutureWarning: suggest_loguniform has been deprecated in v3.0.0. This feature will be removed in v6.0.0. See https://github.com/optuna/optuna/releases/tag/v3.0.0. Use :func:`~optuna.trial.Trial.suggest_float` instead.\n",
            "\u001b[32m[I 2022-09-20 02:40:44,357]\u001b[0m Trial 41 finished with value: 0.6473684210526316 and parameters: {'n_estimators': 2, 'max_depth': 17.040467896320457}. Best is trial 39 with value: 0.6757894736842106.\u001b[0m\n",
            "/usr/local/lib/python3.7/dist-packages/ipykernel_launcher.py:24: FutureWarning: suggest_loguniform has been deprecated in v3.0.0. This feature will be removed in v6.0.0. See https://github.com/optuna/optuna/releases/tag/v3.0.0. Use :func:`~optuna.trial.Trial.suggest_float` instead.\n",
            "\u001b[32m[I 2022-09-20 02:40:44,413]\u001b[0m Trial 42 finished with value: 0.6157894736842106 and parameters: {'n_estimators': 2, 'max_depth': 21.649130024419485}. Best is trial 39 with value: 0.6757894736842106.\u001b[0m\n",
            "/usr/local/lib/python3.7/dist-packages/ipykernel_launcher.py:24: FutureWarning: suggest_loguniform has been deprecated in v3.0.0. This feature will be removed in v6.0.0. See https://github.com/optuna/optuna/releases/tag/v3.0.0. Use :func:`~optuna.trial.Trial.suggest_float` instead.\n",
            "\u001b[32m[I 2022-09-20 02:40:44,479]\u001b[0m Trial 43 finished with value: 0.6573684210526316 and parameters: {'n_estimators': 4, 'max_depth': 21.001393532953184}. Best is trial 39 with value: 0.6757894736842106.\u001b[0m\n",
            "/usr/local/lib/python3.7/dist-packages/ipykernel_launcher.py:24: FutureWarning: suggest_loguniform has been deprecated in v3.0.0. This feature will be removed in v6.0.0. See https://github.com/optuna/optuna/releases/tag/v3.0.0. Use :func:`~optuna.trial.Trial.suggest_float` instead.\n",
            "\u001b[32m[I 2022-09-20 02:40:44,547]\u001b[0m Trial 44 finished with value: 0.6063157894736844 and parameters: {'n_estimators': 4, 'max_depth': 20.50226750431185}. Best is trial 39 with value: 0.6757894736842106.\u001b[0m\n",
            "/usr/local/lib/python3.7/dist-packages/ipykernel_launcher.py:24: FutureWarning: suggest_loguniform has been deprecated in v3.0.0. This feature will be removed in v6.0.0. See https://github.com/optuna/optuna/releases/tag/v3.0.0. Use :func:`~optuna.trial.Trial.suggest_float` instead.\n",
            "\u001b[32m[I 2022-09-20 02:40:44,619]\u001b[0m Trial 45 finished with value: 0.6263157894736843 and parameters: {'n_estimators': 5, 'max_depth': 4.9064687857385785}. Best is trial 39 with value: 0.6757894736842106.\u001b[0m\n",
            "/usr/local/lib/python3.7/dist-packages/ipykernel_launcher.py:24: FutureWarning: suggest_loguniform has been deprecated in v3.0.0. This feature will be removed in v6.0.0. See https://github.com/optuna/optuna/releases/tag/v3.0.0. Use :func:`~optuna.trial.Trial.suggest_float` instead.\n",
            "\u001b[32m[I 2022-09-20 02:40:44,683]\u001b[0m Trial 46 finished with value: 0.6263157894736843 and parameters: {'n_estimators': 3, 'max_depth': 28.978421883895013}. Best is trial 39 with value: 0.6757894736842106.\u001b[0m\n",
            "/usr/local/lib/python3.7/dist-packages/ipykernel_launcher.py:24: FutureWarning: suggest_loguniform has been deprecated in v3.0.0. This feature will be removed in v6.0.0. See https://github.com/optuna/optuna/releases/tag/v3.0.0. Use :func:`~optuna.trial.Trial.suggest_float` instead.\n",
            "\u001b[32m[I 2022-09-20 02:40:44,743]\u001b[0m Trial 47 finished with value: 0.4947368421052632 and parameters: {'n_estimators': 3, 'max_depth': 16.80220693394532}. Best is trial 39 with value: 0.6757894736842106.\u001b[0m\n",
            "/usr/local/lib/python3.7/dist-packages/ipykernel_launcher.py:24: FutureWarning: suggest_loguniform has been deprecated in v3.0.0. This feature will be removed in v6.0.0. See https://github.com/optuna/optuna/releases/tag/v3.0.0. Use :func:`~optuna.trial.Trial.suggest_float` instead.\n",
            "\u001b[32m[I 2022-09-20 02:40:44,801]\u001b[0m Trial 48 finished with value: 0.5947368421052632 and parameters: {'n_estimators': 2, 'max_depth': 25.105481141717856}. Best is trial 39 with value: 0.6757894736842106.\u001b[0m\n",
            "/usr/local/lib/python3.7/dist-packages/ipykernel_launcher.py:24: FutureWarning: suggest_loguniform has been deprecated in v3.0.0. This feature will be removed in v6.0.0. See https://github.com/optuna/optuna/releases/tag/v3.0.0. Use :func:`~optuna.trial.Trial.suggest_float` instead.\n",
            "\u001b[32m[I 2022-09-20 02:40:44,866]\u001b[0m Trial 49 finished with value: 0.5268421052631579 and parameters: {'n_estimators': 3, 'max_depth': 19.47043788073192}. Best is trial 39 with value: 0.6757894736842106.\u001b[0m\n",
            "/usr/local/lib/python3.7/dist-packages/ipykernel_launcher.py:24: FutureWarning: suggest_loguniform has been deprecated in v3.0.0. This feature will be removed in v6.0.0. See https://github.com/optuna/optuna/releases/tag/v3.0.0. Use :func:`~optuna.trial.Trial.suggest_float` instead.\n",
            "\u001b[32m[I 2022-09-20 02:40:44,945]\u001b[0m Trial 50 finished with value: 0.6268421052631579 and parameters: {'n_estimators': 5, 'max_depth': 10.67089301042948}. Best is trial 39 with value: 0.6757894736842106.\u001b[0m\n",
            "/usr/local/lib/python3.7/dist-packages/ipykernel_launcher.py:24: FutureWarning: suggest_loguniform has been deprecated in v3.0.0. This feature will be removed in v6.0.0. See https://github.com/optuna/optuna/releases/tag/v3.0.0. Use :func:`~optuna.trial.Trial.suggest_float` instead.\n",
            "\u001b[32m[I 2022-09-20 02:40:45,036]\u001b[0m Trial 51 finished with value: 0.6457894736842105 and parameters: {'n_estimators': 4, 'max_depth': 12.703756721158571}. Best is trial 39 with value: 0.6757894736842106.\u001b[0m\n",
            "/usr/local/lib/python3.7/dist-packages/ipykernel_launcher.py:24: FutureWarning: suggest_loguniform has been deprecated in v3.0.0. This feature will be removed in v6.0.0. See https://github.com/optuna/optuna/releases/tag/v3.0.0. Use :func:`~optuna.trial.Trial.suggest_float` instead.\n",
            "\u001b[32m[I 2022-09-20 02:40:45,116]\u001b[0m Trial 52 finished with value: 0.5152631578947368 and parameters: {'n_estimators': 7, 'max_depth': 5.713253687336006}. Best is trial 39 with value: 0.6757894736842106.\u001b[0m\n",
            "/usr/local/lib/python3.7/dist-packages/ipykernel_launcher.py:24: FutureWarning: suggest_loguniform has been deprecated in v3.0.0. This feature will be removed in v6.0.0. See https://github.com/optuna/optuna/releases/tag/v3.0.0. Use :func:`~optuna.trial.Trial.suggest_float` instead.\n",
            "\u001b[32m[I 2022-09-20 02:40:45,190]\u001b[0m Trial 53 finished with value: 0.5847368421052632 and parameters: {'n_estimators': 4, 'max_depth': 25.77762951431982}. Best is trial 39 with value: 0.6757894736842106.\u001b[0m\n",
            "/usr/local/lib/python3.7/dist-packages/ipykernel_launcher.py:24: FutureWarning: suggest_loguniform has been deprecated in v3.0.0. This feature will be removed in v6.0.0. See https://github.com/optuna/optuna/releases/tag/v3.0.0. Use :func:`~optuna.trial.Trial.suggest_float` instead.\n",
            "\u001b[32m[I 2022-09-20 02:40:45,267]\u001b[0m Trial 54 finished with value: 0.5757894736842106 and parameters: {'n_estimators': 7, 'max_depth': 17.425570904973814}. Best is trial 39 with value: 0.6757894736842106.\u001b[0m\n",
            "/usr/local/lib/python3.7/dist-packages/ipykernel_launcher.py:24: FutureWarning: suggest_loguniform has been deprecated in v3.0.0. This feature will be removed in v6.0.0. See https://github.com/optuna/optuna/releases/tag/v3.0.0. Use :func:`~optuna.trial.Trial.suggest_float` instead.\n",
            "\u001b[32m[I 2022-09-20 02:40:45,319]\u001b[0m Trial 55 finished with value: 0.6378947368421052 and parameters: {'n_estimators': 2, 'max_depth': 3.5572970227356513}. Best is trial 39 with value: 0.6757894736842106.\u001b[0m\n",
            "/usr/local/lib/python3.7/dist-packages/ipykernel_launcher.py:24: FutureWarning: suggest_loguniform has been deprecated in v3.0.0. This feature will be removed in v6.0.0. See https://github.com/optuna/optuna/releases/tag/v3.0.0. Use :func:`~optuna.trial.Trial.suggest_float` instead.\n",
            "\u001b[32m[I 2022-09-20 02:40:45,403]\u001b[0m Trial 56 finished with value: 0.6047368421052631 and parameters: {'n_estimators': 9, 'max_depth': 4.511965357139203}. Best is trial 39 with value: 0.6757894736842106.\u001b[0m\n",
            "/usr/local/lib/python3.7/dist-packages/ipykernel_launcher.py:24: FutureWarning: suggest_loguniform has been deprecated in v3.0.0. This feature will be removed in v6.0.0. See https://github.com/optuna/optuna/releases/tag/v3.0.0. Use :func:`~optuna.trial.Trial.suggest_float` instead.\n",
            "\u001b[32m[I 2022-09-20 02:40:45,480]\u001b[0m Trial 57 finished with value: 0.6368421052631579 and parameters: {'n_estimators': 8, 'max_depth': 1.4267496746975918}. Best is trial 39 with value: 0.6757894736842106.\u001b[0m\n",
            "/usr/local/lib/python3.7/dist-packages/ipykernel_launcher.py:24: FutureWarning: suggest_loguniform has been deprecated in v3.0.0. This feature will be removed in v6.0.0. See https://github.com/optuna/optuna/releases/tag/v3.0.0. Use :func:`~optuna.trial.Trial.suggest_float` instead.\n",
            "\u001b[32m[I 2022-09-20 02:40:45,606]\u001b[0m Trial 58 finished with value: 0.6768421052631579 and parameters: {'n_estimators': 15, 'max_depth': 2.802295695789788}. Best is trial 58 with value: 0.6768421052631579.\u001b[0m\n",
            "/usr/local/lib/python3.7/dist-packages/ipykernel_launcher.py:24: FutureWarning: suggest_loguniform has been deprecated in v3.0.0. This feature will be removed in v6.0.0. See https://github.com/optuna/optuna/releases/tag/v3.0.0. Use :func:`~optuna.trial.Trial.suggest_float` instead.\n",
            "\u001b[32m[I 2022-09-20 02:40:45,710]\u001b[0m Trial 59 finished with value: 0.6868421052631579 and parameters: {'n_estimators': 14, 'max_depth': 2.890917938650189}. Best is trial 59 with value: 0.6868421052631579.\u001b[0m\n",
            "/usr/local/lib/python3.7/dist-packages/ipykernel_launcher.py:24: FutureWarning: suggest_loguniform has been deprecated in v3.0.0. This feature will be removed in v6.0.0. See https://github.com/optuna/optuna/releases/tag/v3.0.0. Use :func:`~optuna.trial.Trial.suggest_float` instead.\n",
            "\u001b[32m[I 2022-09-20 02:40:45,817]\u001b[0m Trial 60 finished with value: 0.5957894736842105 and parameters: {'n_estimators': 14, 'max_depth': 2.060697500146009}. Best is trial 59 with value: 0.6868421052631579.\u001b[0m\n",
            "/usr/local/lib/python3.7/dist-packages/ipykernel_launcher.py:24: FutureWarning: suggest_loguniform has been deprecated in v3.0.0. This feature will be removed in v6.0.0. See https://github.com/optuna/optuna/releases/tag/v3.0.0. Use :func:`~optuna.trial.Trial.suggest_float` instead.\n",
            "\u001b[32m[I 2022-09-20 02:40:45,930]\u001b[0m Trial 61 finished with value: 0.6368421052631579 and parameters: {'n_estimators': 15, 'max_depth': 2.848004155870474}. Best is trial 59 with value: 0.6868421052631579.\u001b[0m\n",
            "/usr/local/lib/python3.7/dist-packages/ipykernel_launcher.py:24: FutureWarning: suggest_loguniform has been deprecated in v3.0.0. This feature will be removed in v6.0.0. See https://github.com/optuna/optuna/releases/tag/v3.0.0. Use :func:`~optuna.trial.Trial.suggest_float` instead.\n",
            "\u001b[32m[I 2022-09-20 02:40:46,029]\u001b[0m Trial 62 finished with value: 0.6257894736842105 and parameters: {'n_estimators': 12, 'max_depth': 2.6186098244670593}. Best is trial 59 with value: 0.6868421052631579.\u001b[0m\n",
            "/usr/local/lib/python3.7/dist-packages/ipykernel_launcher.py:24: FutureWarning: suggest_loguniform has been deprecated in v3.0.0. This feature will be removed in v6.0.0. See https://github.com/optuna/optuna/releases/tag/v3.0.0. Use :func:`~optuna.trial.Trial.suggest_float` instead.\n",
            "\u001b[32m[I 2022-09-20 02:40:46,137]\u001b[0m Trial 63 finished with value: 0.6157894736842106 and parameters: {'n_estimators': 14, 'max_depth': 3.7709771236962464}. Best is trial 59 with value: 0.6868421052631579.\u001b[0m\n",
            "/usr/local/lib/python3.7/dist-packages/ipykernel_launcher.py:24: FutureWarning: suggest_loguniform has been deprecated in v3.0.0. This feature will be removed in v6.0.0. See https://github.com/optuna/optuna/releases/tag/v3.0.0. Use :func:`~optuna.trial.Trial.suggest_float` instead.\n",
            "\u001b[32m[I 2022-09-20 02:40:46,230]\u001b[0m Trial 64 finished with value: 0.6252631578947367 and parameters: {'n_estimators': 12, 'max_depth': 1.9082140102382599}. Best is trial 59 with value: 0.6868421052631579.\u001b[0m\n",
            "/usr/local/lib/python3.7/dist-packages/ipykernel_launcher.py:24: FutureWarning: suggest_loguniform has been deprecated in v3.0.0. This feature will be removed in v6.0.0. See https://github.com/optuna/optuna/releases/tag/v3.0.0. Use :func:`~optuna.trial.Trial.suggest_float` instead.\n",
            "\u001b[32m[I 2022-09-20 02:40:46,339]\u001b[0m Trial 65 finished with value: 0.6673684210526315 and parameters: {'n_estimators': 15, 'max_depth': 2.9905987245881063}. Best is trial 59 with value: 0.6868421052631579.\u001b[0m\n",
            "/usr/local/lib/python3.7/dist-packages/ipykernel_launcher.py:24: FutureWarning: suggest_loguniform has been deprecated in v3.0.0. This feature will be removed in v6.0.0. See https://github.com/optuna/optuna/releases/tag/v3.0.0. Use :func:`~optuna.trial.Trial.suggest_float` instead.\n",
            "\u001b[32m[I 2022-09-20 02:40:46,450]\u001b[0m Trial 66 finished with value: 0.6463157894736842 and parameters: {'n_estimators': 15, 'max_depth': 1.4379372115925915}. Best is trial 59 with value: 0.6868421052631579.\u001b[0m\n",
            "/usr/local/lib/python3.7/dist-packages/ipykernel_launcher.py:24: FutureWarning: suggest_loguniform has been deprecated in v3.0.0. This feature will be removed in v6.0.0. See https://github.com/optuna/optuna/releases/tag/v3.0.0. Use :func:`~optuna.trial.Trial.suggest_float` instead.\n",
            "\u001b[32m[I 2022-09-20 02:40:46,574]\u001b[0m Trial 67 finished with value: 0.6457894736842106 and parameters: {'n_estimators': 15, 'max_depth': 3.0229950730007444}. Best is trial 59 with value: 0.6868421052631579.\u001b[0m\n",
            "/usr/local/lib/python3.7/dist-packages/ipykernel_launcher.py:24: FutureWarning: suggest_loguniform has been deprecated in v3.0.0. This feature will be removed in v6.0.0. See https://github.com/optuna/optuna/releases/tag/v3.0.0. Use :func:`~optuna.trial.Trial.suggest_float` instead.\n",
            "\u001b[32m[I 2022-09-20 02:40:46,675]\u001b[0m Trial 68 finished with value: 0.5542105263157894 and parameters: {'n_estimators': 13, 'max_depth': 2.2836259729869735}. Best is trial 59 with value: 0.6868421052631579.\u001b[0m\n",
            "/usr/local/lib/python3.7/dist-packages/ipykernel_launcher.py:24: FutureWarning: suggest_loguniform has been deprecated in v3.0.0. This feature will be removed in v6.0.0. See https://github.com/optuna/optuna/releases/tag/v3.0.0. Use :func:`~optuna.trial.Trial.suggest_float` instead.\n",
            "\u001b[32m[I 2022-09-20 02:40:46,786]\u001b[0m Trial 69 finished with value: 0.6268421052631579 and parameters: {'n_estimators': 16, 'max_depth': 2.4370719218929713}. Best is trial 59 with value: 0.6868421052631579.\u001b[0m\n",
            "/usr/local/lib/python3.7/dist-packages/ipykernel_launcher.py:24: FutureWarning: suggest_loguniform has been deprecated in v3.0.0. This feature will be removed in v6.0.0. See https://github.com/optuna/optuna/releases/tag/v3.0.0. Use :func:`~optuna.trial.Trial.suggest_float` instead.\n",
            "\u001b[32m[I 2022-09-20 02:40:46,873]\u001b[0m Trial 70 finished with value: 0.5863157894736842 and parameters: {'n_estimators': 10, 'max_depth': 3.45890786818011}. Best is trial 59 with value: 0.6868421052631579.\u001b[0m\n",
            "/usr/local/lib/python3.7/dist-packages/ipykernel_launcher.py:24: FutureWarning: suggest_loguniform has been deprecated in v3.0.0. This feature will be removed in v6.0.0. See https://github.com/optuna/optuna/releases/tag/v3.0.0. Use :func:`~optuna.trial.Trial.suggest_float` instead.\n",
            "\u001b[32m[I 2022-09-20 02:40:46,992]\u001b[0m Trial 71 finished with value: 0.6357894736842106 and parameters: {'n_estimators': 14, 'max_depth': 4.058132428543294}. Best is trial 59 with value: 0.6868421052631579.\u001b[0m\n",
            "/usr/local/lib/python3.7/dist-packages/ipykernel_launcher.py:24: FutureWarning: suggest_loguniform has been deprecated in v3.0.0. This feature will be removed in v6.0.0. See https://github.com/optuna/optuna/releases/tag/v3.0.0. Use :func:`~optuna.trial.Trial.suggest_float` instead.\n",
            "\u001b[32m[I 2022-09-20 02:40:47,116]\u001b[0m Trial 72 finished with value: 0.6278947368421053 and parameters: {'n_estimators': 17, 'max_depth': 5.24990891016979}. Best is trial 59 with value: 0.6868421052631579.\u001b[0m\n",
            "/usr/local/lib/python3.7/dist-packages/ipykernel_launcher.py:24: FutureWarning: suggest_loguniform has been deprecated in v3.0.0. This feature will be removed in v6.0.0. See https://github.com/optuna/optuna/releases/tag/v3.0.0. Use :func:`~optuna.trial.Trial.suggest_float` instead.\n",
            "\u001b[32m[I 2022-09-20 02:40:47,232]\u001b[0m Trial 73 finished with value: 0.5852631578947369 and parameters: {'n_estimators': 12, 'max_depth': 6.770786244099108}. Best is trial 59 with value: 0.6868421052631579.\u001b[0m\n",
            "/usr/local/lib/python3.7/dist-packages/ipykernel_launcher.py:24: FutureWarning: suggest_loguniform has been deprecated in v3.0.0. This feature will be removed in v6.0.0. See https://github.com/optuna/optuna/releases/tag/v3.0.0. Use :func:`~optuna.trial.Trial.suggest_float` instead.\n",
            "\u001b[32m[I 2022-09-20 02:40:47,296]\u001b[0m Trial 74 finished with value: 0.6247368421052631 and parameters: {'n_estimators': 5, 'max_depth': 3.1012111475220796}. Best is trial 59 with value: 0.6868421052631579.\u001b[0m\n",
            "/usr/local/lib/python3.7/dist-packages/ipykernel_launcher.py:24: FutureWarning: suggest_loguniform has been deprecated in v3.0.0. This feature will be removed in v6.0.0. See https://github.com/optuna/optuna/releases/tag/v3.0.0. Use :func:`~optuna.trial.Trial.suggest_float` instead.\n",
            "\u001b[32m[I 2022-09-20 02:40:47,415]\u001b[0m Trial 75 finished with value: 0.5968421052631578 and parameters: {'n_estimators': 17, 'max_depth': 2.6480252093566103}. Best is trial 59 with value: 0.6868421052631579.\u001b[0m\n",
            "/usr/local/lib/python3.7/dist-packages/ipykernel_launcher.py:24: FutureWarning: suggest_loguniform has been deprecated in v3.0.0. This feature will be removed in v6.0.0. See https://github.com/optuna/optuna/releases/tag/v3.0.0. Use :func:`~optuna.trial.Trial.suggest_float` instead.\n",
            "\u001b[32m[I 2022-09-20 02:40:47,537]\u001b[0m Trial 76 finished with value: 0.6063157894736841 and parameters: {'n_estimators': 15, 'max_depth': 15.18642917171222}. Best is trial 59 with value: 0.6868421052631579.\u001b[0m\n",
            "/usr/local/lib/python3.7/dist-packages/ipykernel_launcher.py:24: FutureWarning: suggest_loguniform has been deprecated in v3.0.0. This feature will be removed in v6.0.0. See https://github.com/optuna/optuna/releases/tag/v3.0.0. Use :func:`~optuna.trial.Trial.suggest_float` instead.\n",
            "\u001b[32m[I 2022-09-20 02:40:47,598]\u001b[0m Trial 77 finished with value: 0.5752631578947368 and parameters: {'n_estimators': 3, 'max_depth': 4.172919942244256}. Best is trial 59 with value: 0.6868421052631579.\u001b[0m\n",
            "/usr/local/lib/python3.7/dist-packages/ipykernel_launcher.py:24: FutureWarning: suggest_loguniform has been deprecated in v3.0.0. This feature will be removed in v6.0.0. See https://github.com/optuna/optuna/releases/tag/v3.0.0. Use :func:`~optuna.trial.Trial.suggest_float` instead.\n",
            "\u001b[32m[I 2022-09-20 02:40:47,702]\u001b[0m Trial 78 finished with value: 0.5863157894736842 and parameters: {'n_estimators': 13, 'max_depth': 19.204709677769404}. Best is trial 59 with value: 0.6868421052631579.\u001b[0m\n",
            "/usr/local/lib/python3.7/dist-packages/ipykernel_launcher.py:24: FutureWarning: suggest_loguniform has been deprecated in v3.0.0. This feature will be removed in v6.0.0. See https://github.com/optuna/optuna/releases/tag/v3.0.0. Use :func:`~optuna.trial.Trial.suggest_float` instead.\n",
            "\u001b[32m[I 2022-09-20 02:40:47,781]\u001b[0m Trial 79 finished with value: 0.6363157894736842 and parameters: {'n_estimators': 6, 'max_depth': 2.836534980643103}. Best is trial 59 with value: 0.6868421052631579.\u001b[0m\n",
            "/usr/local/lib/python3.7/dist-packages/ipykernel_launcher.py:24: FutureWarning: suggest_loguniform has been deprecated in v3.0.0. This feature will be removed in v6.0.0. See https://github.com/optuna/optuna/releases/tag/v3.0.0. Use :func:`~optuna.trial.Trial.suggest_float` instead.\n",
            "\u001b[32m[I 2022-09-20 02:40:47,876]\u001b[0m Trial 80 finished with value: 0.616842105263158 and parameters: {'n_estimators': 10, 'max_depth': 9.420246943575284}. Best is trial 59 with value: 0.6868421052631579.\u001b[0m\n",
            "/usr/local/lib/python3.7/dist-packages/ipykernel_launcher.py:24: FutureWarning: suggest_loguniform has been deprecated in v3.0.0. This feature will be removed in v6.0.0. See https://github.com/optuna/optuna/releases/tag/v3.0.0. Use :func:`~optuna.trial.Trial.suggest_float` instead.\n",
            "\u001b[32m[I 2022-09-20 02:40:48,019]\u001b[0m Trial 81 finished with value: 0.6468421052631579 and parameters: {'n_estimators': 19, 'max_depth': 5.846137385413233}. Best is trial 59 with value: 0.6868421052631579.\u001b[0m\n",
            "/usr/local/lib/python3.7/dist-packages/ipykernel_launcher.py:24: FutureWarning: suggest_loguniform has been deprecated in v3.0.0. This feature will be removed in v6.0.0. See https://github.com/optuna/optuna/releases/tag/v3.0.0. Use :func:`~optuna.trial.Trial.suggest_float` instead.\n",
            "\u001b[32m[I 2022-09-20 02:40:48,114]\u001b[0m Trial 82 finished with value: 0.5457894736842105 and parameters: {'n_estimators': 11, 'max_depth': 13.05055032855194}. Best is trial 59 with value: 0.6868421052631579.\u001b[0m\n",
            "/usr/local/lib/python3.7/dist-packages/ipykernel_launcher.py:24: FutureWarning: suggest_loguniform has been deprecated in v3.0.0. This feature will be removed in v6.0.0. See https://github.com/optuna/optuna/releases/tag/v3.0.0. Use :func:`~optuna.trial.Trial.suggest_float` instead.\n",
            "\u001b[32m[I 2022-09-20 02:40:48,229]\u001b[0m Trial 83 finished with value: 0.5747368421052632 and parameters: {'n_estimators': 16, 'max_depth': 22.440743600128343}. Best is trial 59 with value: 0.6868421052631579.\u001b[0m\n",
            "/usr/local/lib/python3.7/dist-packages/ipykernel_launcher.py:24: FutureWarning: suggest_loguniform has been deprecated in v3.0.0. This feature will be removed in v6.0.0. See https://github.com/optuna/optuna/releases/tag/v3.0.0. Use :func:`~optuna.trial.Trial.suggest_float` instead.\n",
            "\u001b[32m[I 2022-09-20 02:40:48,289]\u001b[0m Trial 84 finished with value: 0.5852631578947368 and parameters: {'n_estimators': 4, 'max_depth': 4.777800011254242}. Best is trial 59 with value: 0.6868421052631579.\u001b[0m\n",
            "/usr/local/lib/python3.7/dist-packages/ipykernel_launcher.py:24: FutureWarning: suggest_loguniform has been deprecated in v3.0.0. This feature will be removed in v6.0.0. See https://github.com/optuna/optuna/releases/tag/v3.0.0. Use :func:`~optuna.trial.Trial.suggest_float` instead.\n",
            "\u001b[32m[I 2022-09-20 02:40:48,352]\u001b[0m Trial 85 finished with value: 0.5552631578947368 and parameters: {'n_estimators': 2, 'max_depth': 3.813193534621098}. Best is trial 59 with value: 0.6868421052631579.\u001b[0m\n",
            "/usr/local/lib/python3.7/dist-packages/ipykernel_launcher.py:24: FutureWarning: suggest_loguniform has been deprecated in v3.0.0. This feature will be removed in v6.0.0. See https://github.com/optuna/optuna/releases/tag/v3.0.0. Use :func:`~optuna.trial.Trial.suggest_float` instead.\n",
            "\u001b[32m[I 2022-09-20 02:40:48,466]\u001b[0m Trial 86 finished with value: 0.6263157894736843 and parameters: {'n_estimators': 14, 'max_depth': 3.4147253594673894}. Best is trial 59 with value: 0.6868421052631579.\u001b[0m\n",
            "/usr/local/lib/python3.7/dist-packages/ipykernel_launcher.py:24: FutureWarning: suggest_loguniform has been deprecated in v3.0.0. This feature will be removed in v6.0.0. See https://github.com/optuna/optuna/releases/tag/v3.0.0. Use :func:`~optuna.trial.Trial.suggest_float` instead.\n",
            "\u001b[32m[I 2022-09-20 02:40:48,587]\u001b[0m Trial 87 finished with value: 0.6273684210526316 and parameters: {'n_estimators': 16, 'max_depth': 5.25132969339486}. Best is trial 59 with value: 0.6868421052631579.\u001b[0m\n",
            "/usr/local/lib/python3.7/dist-packages/ipykernel_launcher.py:24: FutureWarning: suggest_loguniform has been deprecated in v3.0.0. This feature will be removed in v6.0.0. See https://github.com/optuna/optuna/releases/tag/v3.0.0. Use :func:`~optuna.trial.Trial.suggest_float` instead.\n",
            "\u001b[32m[I 2022-09-20 02:40:48,644]\u001b[0m Trial 88 finished with value: 0.5542105263157895 and parameters: {'n_estimators': 3, 'max_depth': 2.4629112267127193}. Best is trial 59 with value: 0.6868421052631579.\u001b[0m\n",
            "/usr/local/lib/python3.7/dist-packages/ipykernel_launcher.py:24: FutureWarning: suggest_loguniform has been deprecated in v3.0.0. This feature will be removed in v6.0.0. See https://github.com/optuna/optuna/releases/tag/v3.0.0. Use :func:`~optuna.trial.Trial.suggest_float` instead.\n",
            "\u001b[32m[I 2022-09-20 02:40:48,716]\u001b[0m Trial 89 finished with value: 0.6557894736842106 and parameters: {'n_estimators': 5, 'max_depth': 7.5232788636287875}. Best is trial 59 with value: 0.6868421052631579.\u001b[0m\n",
            "/usr/local/lib/python3.7/dist-packages/ipykernel_launcher.py:24: FutureWarning: suggest_loguniform has been deprecated in v3.0.0. This feature will be removed in v6.0.0. See https://github.com/optuna/optuna/releases/tag/v3.0.0. Use :func:`~optuna.trial.Trial.suggest_float` instead.\n",
            "\u001b[32m[I 2022-09-20 02:40:48,785]\u001b[0m Trial 90 finished with value: 0.48473684210526324 and parameters: {'n_estimators': 5, 'max_depth': 7.700829931100619}. Best is trial 59 with value: 0.6868421052631579.\u001b[0m\n",
            "/usr/local/lib/python3.7/dist-packages/ipykernel_launcher.py:24: FutureWarning: suggest_loguniform has been deprecated in v3.0.0. This feature will be removed in v6.0.0. See https://github.com/optuna/optuna/releases/tag/v3.0.0. Use :func:`~optuna.trial.Trial.suggest_float` instead.\n",
            "\u001b[32m[I 2022-09-20 02:40:48,857]\u001b[0m Trial 91 finished with value: 0.5742105263157895 and parameters: {'n_estimators': 4, 'max_depth': 17.997037534195528}. Best is trial 59 with value: 0.6868421052631579.\u001b[0m\n",
            "/usr/local/lib/python3.7/dist-packages/ipykernel_launcher.py:24: FutureWarning: suggest_loguniform has been deprecated in v3.0.0. This feature will be removed in v6.0.0. See https://github.com/optuna/optuna/releases/tag/v3.0.0. Use :func:`~optuna.trial.Trial.suggest_float` instead.\n",
            "\u001b[32m[I 2022-09-20 02:40:48,933]\u001b[0m Trial 92 finished with value: 0.5763157894736842 and parameters: {'n_estimators': 6, 'max_depth': 4.454843581744428}. Best is trial 59 with value: 0.6868421052631579.\u001b[0m\n",
            "/usr/local/lib/python3.7/dist-packages/ipykernel_launcher.py:24: FutureWarning: suggest_loguniform has been deprecated in v3.0.0. This feature will be removed in v6.0.0. See https://github.com/optuna/optuna/releases/tag/v3.0.0. Use :func:`~optuna.trial.Trial.suggest_float` instead.\n",
            "\u001b[32m[I 2022-09-20 02:40:49,019]\u001b[0m Trial 93 finished with value: 0.5747368421052632 and parameters: {'n_estimators': 5, 'max_depth': 15.483272500587862}. Best is trial 59 with value: 0.6868421052631579.\u001b[0m\n",
            "/usr/local/lib/python3.7/dist-packages/ipykernel_launcher.py:24: FutureWarning: suggest_loguniform has been deprecated in v3.0.0. This feature will be removed in v6.0.0. See https://github.com/optuna/optuna/releases/tag/v3.0.0. Use :func:`~optuna.trial.Trial.suggest_float` instead.\n",
            "\u001b[32m[I 2022-09-20 02:40:49,104]\u001b[0m Trial 94 finished with value: 0.5852631578947369 and parameters: {'n_estimators': 8, 'max_depth': 12.031731862325339}. Best is trial 59 with value: 0.6868421052631579.\u001b[0m\n",
            "/usr/local/lib/python3.7/dist-packages/ipykernel_launcher.py:24: FutureWarning: suggest_loguniform has been deprecated in v3.0.0. This feature will be removed in v6.0.0. See https://github.com/optuna/optuna/releases/tag/v3.0.0. Use :func:`~optuna.trial.Trial.suggest_float` instead.\n",
            "\u001b[32m[I 2022-09-20 02:40:49,236]\u001b[0m Trial 95 finished with value: 0.6473684210526316 and parameters: {'n_estimators': 20, 'max_depth': 27.406707815564207}. Best is trial 59 with value: 0.6868421052631579.\u001b[0m\n",
            "/usr/local/lib/python3.7/dist-packages/ipykernel_launcher.py:24: FutureWarning: suggest_loguniform has been deprecated in v3.0.0. This feature will be removed in v6.0.0. See https://github.com/optuna/optuna/releases/tag/v3.0.0. Use :func:`~optuna.trial.Trial.suggest_float` instead.\n",
            "\u001b[32m[I 2022-09-20 02:40:49,340]\u001b[0m Trial 96 finished with value: 0.6773684210526316 and parameters: {'n_estimators': 13, 'max_depth': 2.1016235747290373}. Best is trial 59 with value: 0.6868421052631579.\u001b[0m\n",
            "/usr/local/lib/python3.7/dist-packages/ipykernel_launcher.py:24: FutureWarning: suggest_loguniform has been deprecated in v3.0.0. This feature will be removed in v6.0.0. See https://github.com/optuna/optuna/releases/tag/v3.0.0. Use :func:`~optuna.trial.Trial.suggest_float` instead.\n",
            "\u001b[32m[I 2022-09-20 02:40:49,446]\u001b[0m Trial 97 finished with value: 0.6468421052631579 and parameters: {'n_estimators': 12, 'max_depth': 26.383090974273046}. Best is trial 59 with value: 0.6868421052631579.\u001b[0m\n",
            "/usr/local/lib/python3.7/dist-packages/ipykernel_launcher.py:24: FutureWarning: suggest_loguniform has been deprecated in v3.0.0. This feature will be removed in v6.0.0. See https://github.com/optuna/optuna/releases/tag/v3.0.0. Use :func:`~optuna.trial.Trial.suggest_float` instead.\n",
            "\u001b[32m[I 2022-09-20 02:40:49,554]\u001b[0m Trial 98 finished with value: 0.6163157894736842 and parameters: {'n_estimators': 13, 'max_depth': 31.787728369817973}. Best is trial 59 with value: 0.6868421052631579.\u001b[0m\n",
            "/usr/local/lib/python3.7/dist-packages/ipykernel_launcher.py:24: FutureWarning: suggest_loguniform has been deprecated in v3.0.0. This feature will be removed in v6.0.0. See https://github.com/optuna/optuna/releases/tag/v3.0.0. Use :func:`~optuna.trial.Trial.suggest_float` instead.\n",
            "\u001b[32m[I 2022-09-20 02:40:49,661]\u001b[0m Trial 99 finished with value: 0.6368421052631579 and parameters: {'n_estimators': 13, 'max_depth': 2.081481803163424}. Best is trial 59 with value: 0.6868421052631579.\u001b[0m\n"
          ]
        },
        {
          "output_type": "stream",
          "name": "stdout",
          "text": [
            "Accuracy: 0.6868421052631579\n",
            "TrainAccuracy: 0.7676767676767676\n",
            "Accuracy: 0.6046511627906976\n",
            "              precision    recall  f1-score   support\n",
            "\n",
            "         0.0       0.75      0.68      0.71        31\n",
            "         1.0       0.33      0.42      0.37        12\n",
            "\n",
            "    accuracy                           0.60        43\n",
            "   macro avg       0.54      0.55      0.54        43\n",
            "weighted avg       0.63      0.60      0.62        43\n",
            "\n"
          ]
        }
      ]
    },
    {
      "cell_type": "markdown",
      "source": [
        "最適化の履歴をplot_optimization_history()メソッドを使い確認してみましょう。\n",
        "縦軸が目的変数、横軸が最適化のトライアル数になってます。オレンジの折れ線が最良の目的変数の値となっており、何回目のトライアルでベストパラメータが出たのかわかりやすくなってます。"
      ],
      "metadata": {
        "id": "NtQdBwMnPqce"
      }
    },
    {
      "cell_type": "code",
      "source": [
        "optuna.visualization.plot_optimization_history(study)"
      ],
      "metadata": {
        "colab": {
          "base_uri": "https://localhost:8080/",
          "height": 542
        },
        "id": "vLWTSoXjPrtK",
        "outputId": "99e6f175-bea5-4443-ceb2-940411826201"
      },
      "execution_count": 17,
      "outputs": [
        {
          "output_type": "display_data",
          "data": {
            "text/html": [
              "<html>\n",
              "<head><meta charset=\"utf-8\" /></head>\n",
              "<body>\n",
              "    <div>            <script src=\"https://cdnjs.cloudflare.com/ajax/libs/mathjax/2.7.5/MathJax.js?config=TeX-AMS-MML_SVG\"></script><script type=\"text/javascript\">if (window.MathJax) {MathJax.Hub.Config({SVG: {font: \"STIX-Web\"}});}</script>                <script type=\"text/javascript\">window.PlotlyConfig = {MathJaxConfig: 'local'};</script>\n",
              "        <script src=\"https://cdn.plot.ly/plotly-2.8.3.min.js\"></script>                <div id=\"c3269d0b-f7d0-46e1-bf5d-266e0cb84834\" class=\"plotly-graph-div\" style=\"height:525px; width:100%;\"></div>            <script type=\"text/javascript\">                                    window.PLOTLYENV=window.PLOTLYENV || {};                                    if (document.getElementById(\"c3269d0b-f7d0-46e1-bf5d-266e0cb84834\")) {                    Plotly.newPlot(                        \"c3269d0b-f7d0-46e1-bf5d-266e0cb84834\",                        [{\"mode\":\"markers\",\"name\":\"Objective Value\",\"x\":[0,1,2,3,4,5,6,7,8,9,10,11,12,13,14,15,16,17,18,19,20,21,22,23,24,25,26,27,28,29,30,31,32,33,34,35,36,37,38,39,40,41,42,43,44,45,46,47,48,49,50,51,52,53,54,55,56,57,58,59,60,61,62,63,64,65,66,67,68,69,70,71,72,73,74,75,76,77,78,79,80,81,82,83,84,85,86,87,88,89,90,91,92,93,94,95,96,97,98,99],\"y\":[0.6563157894736843,0.5757894736842105,0.6057894736842105,0.6257894736842105,0.5357894736842106,0.5763157894736842,0.6457894736842105,0.6168421052631579,0.5963157894736841,0.6163157894736842,0.6468421052631579,0.5968421052631578,0.6047368421052632,0.5668421052631578,0.6473684210526316,0.5757894736842105,0.6468421052631579,0.5963157894736841,0.6473684210526316,0.5863157894736842,0.5942105263157894,0.5652631578947368,0.5852631578947368,0.6368421052631579,0.6463157894736842,0.5742105263157895,0.6252631578947367,0.5747368421052632,0.6273684210526317,0.5968421052631578,0.606842105263158,0.6373684210526316,0.5957894736842105,0.5447368421052632,0.6263157894736843,0.5952631578947368,0.6168421052631579,0.6057894736842105,0.5957894736842105,0.6757894736842106,0.6068421052631578,0.6473684210526316,0.6157894736842106,0.6573684210526316,0.6063157894736844,0.6263157894736843,0.6263157894736843,0.4947368421052632,0.5947368421052632,0.5268421052631579,0.6268421052631579,0.6457894736842105,0.5152631578947368,0.5847368421052632,0.5757894736842106,0.6378947368421052,0.6047368421052631,0.6368421052631579,0.6768421052631579,0.6868421052631579,0.5957894736842105,0.6368421052631579,0.6257894736842105,0.6157894736842106,0.6252631578947367,0.6673684210526315,0.6463157894736842,0.6457894736842106,0.5542105263157894,0.6268421052631579,0.5863157894736842,0.6357894736842106,0.6278947368421053,0.5852631578947369,0.6247368421052631,0.5968421052631578,0.6063157894736841,0.5752631578947368,0.5863157894736842,0.6363157894736842,0.616842105263158,0.6468421052631579,0.5457894736842105,0.5747368421052632,0.5852631578947368,0.5552631578947368,0.6263157894736843,0.6273684210526316,0.5542105263157895,0.6557894736842106,0.48473684210526324,0.5742105263157895,0.5763157894736842,0.5747368421052632,0.5852631578947369,0.6473684210526316,0.6773684210526316,0.6468421052631579,0.6163157894736842,0.6368421052631579],\"type\":\"scatter\"},{\"name\":\"Best Value\",\"x\":[0,1,2,3,4,5,6,7,8,9,10,11,12,13,14,15,16,17,18,19,20,21,22,23,24,25,26,27,28,29,30,31,32,33,34,35,36,37,38,39,40,41,42,43,44,45,46,47,48,49,50,51,52,53,54,55,56,57,58,59,60,61,62,63,64,65,66,67,68,69,70,71,72,73,74,75,76,77,78,79,80,81,82,83,84,85,86,87,88,89,90,91,92,93,94,95,96,97,98,99],\"y\":[0.6563157894736843,0.6563157894736843,0.6563157894736843,0.6563157894736843,0.6563157894736843,0.6563157894736843,0.6563157894736843,0.6563157894736843,0.6563157894736843,0.6563157894736843,0.6563157894736843,0.6563157894736843,0.6563157894736843,0.6563157894736843,0.6563157894736843,0.6563157894736843,0.6563157894736843,0.6563157894736843,0.6563157894736843,0.6563157894736843,0.6563157894736843,0.6563157894736843,0.6563157894736843,0.6563157894736843,0.6563157894736843,0.6563157894736843,0.6563157894736843,0.6563157894736843,0.6563157894736843,0.6563157894736843,0.6563157894736843,0.6563157894736843,0.6563157894736843,0.6563157894736843,0.6563157894736843,0.6563157894736843,0.6563157894736843,0.6563157894736843,0.6563157894736843,0.6757894736842106,0.6757894736842106,0.6757894736842106,0.6757894736842106,0.6757894736842106,0.6757894736842106,0.6757894736842106,0.6757894736842106,0.6757894736842106,0.6757894736842106,0.6757894736842106,0.6757894736842106,0.6757894736842106,0.6757894736842106,0.6757894736842106,0.6757894736842106,0.6757894736842106,0.6757894736842106,0.6757894736842106,0.6768421052631579,0.6868421052631579,0.6868421052631579,0.6868421052631579,0.6868421052631579,0.6868421052631579,0.6868421052631579,0.6868421052631579,0.6868421052631579,0.6868421052631579,0.6868421052631579,0.6868421052631579,0.6868421052631579,0.6868421052631579,0.6868421052631579,0.6868421052631579,0.6868421052631579,0.6868421052631579,0.6868421052631579,0.6868421052631579,0.6868421052631579,0.6868421052631579,0.6868421052631579,0.6868421052631579,0.6868421052631579,0.6868421052631579,0.6868421052631579,0.6868421052631579,0.6868421052631579,0.6868421052631579,0.6868421052631579,0.6868421052631579,0.6868421052631579,0.6868421052631579,0.6868421052631579,0.6868421052631579,0.6868421052631579,0.6868421052631579,0.6868421052631579,0.6868421052631579,0.6868421052631579,0.6868421052631579],\"type\":\"scatter\"}],                        {\"title\":{\"text\":\"Optimization History Plot\"},\"xaxis\":{\"title\":{\"text\":\"Trial\"}},\"yaxis\":{\"title\":{\"text\":\"Objective Value\"}},\"template\":{\"data\":{\"bar\":[{\"error_x\":{\"color\":\"#2a3f5f\"},\"error_y\":{\"color\":\"#2a3f5f\"},\"marker\":{\"line\":{\"color\":\"#E5ECF6\",\"width\":0.5},\"pattern\":{\"fillmode\":\"overlay\",\"size\":10,\"solidity\":0.2}},\"type\":\"bar\"}],\"barpolar\":[{\"marker\":{\"line\":{\"color\":\"#E5ECF6\",\"width\":0.5},\"pattern\":{\"fillmode\":\"overlay\",\"size\":10,\"solidity\":0.2}},\"type\":\"barpolar\"}],\"carpet\":[{\"aaxis\":{\"endlinecolor\":\"#2a3f5f\",\"gridcolor\":\"white\",\"linecolor\":\"white\",\"minorgridcolor\":\"white\",\"startlinecolor\":\"#2a3f5f\"},\"baxis\":{\"endlinecolor\":\"#2a3f5f\",\"gridcolor\":\"white\",\"linecolor\":\"white\",\"minorgridcolor\":\"white\",\"startlinecolor\":\"#2a3f5f\"},\"type\":\"carpet\"}],\"choropleth\":[{\"colorbar\":{\"outlinewidth\":0,\"ticks\":\"\"},\"type\":\"choropleth\"}],\"contour\":[{\"colorbar\":{\"outlinewidth\":0,\"ticks\":\"\"},\"colorscale\":[[0.0,\"#0d0887\"],[0.1111111111111111,\"#46039f\"],[0.2222222222222222,\"#7201a8\"],[0.3333333333333333,\"#9c179e\"],[0.4444444444444444,\"#bd3786\"],[0.5555555555555556,\"#d8576b\"],[0.6666666666666666,\"#ed7953\"],[0.7777777777777778,\"#fb9f3a\"],[0.8888888888888888,\"#fdca26\"],[1.0,\"#f0f921\"]],\"type\":\"contour\"}],\"contourcarpet\":[{\"colorbar\":{\"outlinewidth\":0,\"ticks\":\"\"},\"type\":\"contourcarpet\"}],\"heatmap\":[{\"colorbar\":{\"outlinewidth\":0,\"ticks\":\"\"},\"colorscale\":[[0.0,\"#0d0887\"],[0.1111111111111111,\"#46039f\"],[0.2222222222222222,\"#7201a8\"],[0.3333333333333333,\"#9c179e\"],[0.4444444444444444,\"#bd3786\"],[0.5555555555555556,\"#d8576b\"],[0.6666666666666666,\"#ed7953\"],[0.7777777777777778,\"#fb9f3a\"],[0.8888888888888888,\"#fdca26\"],[1.0,\"#f0f921\"]],\"type\":\"heatmap\"}],\"heatmapgl\":[{\"colorbar\":{\"outlinewidth\":0,\"ticks\":\"\"},\"colorscale\":[[0.0,\"#0d0887\"],[0.1111111111111111,\"#46039f\"],[0.2222222222222222,\"#7201a8\"],[0.3333333333333333,\"#9c179e\"],[0.4444444444444444,\"#bd3786\"],[0.5555555555555556,\"#d8576b\"],[0.6666666666666666,\"#ed7953\"],[0.7777777777777778,\"#fb9f3a\"],[0.8888888888888888,\"#fdca26\"],[1.0,\"#f0f921\"]],\"type\":\"heatmapgl\"}],\"histogram\":[{\"marker\":{\"pattern\":{\"fillmode\":\"overlay\",\"size\":10,\"solidity\":0.2}},\"type\":\"histogram\"}],\"histogram2d\":[{\"colorbar\":{\"outlinewidth\":0,\"ticks\":\"\"},\"colorscale\":[[0.0,\"#0d0887\"],[0.1111111111111111,\"#46039f\"],[0.2222222222222222,\"#7201a8\"],[0.3333333333333333,\"#9c179e\"],[0.4444444444444444,\"#bd3786\"],[0.5555555555555556,\"#d8576b\"],[0.6666666666666666,\"#ed7953\"],[0.7777777777777778,\"#fb9f3a\"],[0.8888888888888888,\"#fdca26\"],[1.0,\"#f0f921\"]],\"type\":\"histogram2d\"}],\"histogram2dcontour\":[{\"colorbar\":{\"outlinewidth\":0,\"ticks\":\"\"},\"colorscale\":[[0.0,\"#0d0887\"],[0.1111111111111111,\"#46039f\"],[0.2222222222222222,\"#7201a8\"],[0.3333333333333333,\"#9c179e\"],[0.4444444444444444,\"#bd3786\"],[0.5555555555555556,\"#d8576b\"],[0.6666666666666666,\"#ed7953\"],[0.7777777777777778,\"#fb9f3a\"],[0.8888888888888888,\"#fdca26\"],[1.0,\"#f0f921\"]],\"type\":\"histogram2dcontour\"}],\"mesh3d\":[{\"colorbar\":{\"outlinewidth\":0,\"ticks\":\"\"},\"type\":\"mesh3d\"}],\"parcoords\":[{\"line\":{\"colorbar\":{\"outlinewidth\":0,\"ticks\":\"\"}},\"type\":\"parcoords\"}],\"pie\":[{\"automargin\":true,\"type\":\"pie\"}],\"scatter\":[{\"marker\":{\"colorbar\":{\"outlinewidth\":0,\"ticks\":\"\"}},\"type\":\"scatter\"}],\"scatter3d\":[{\"line\":{\"colorbar\":{\"outlinewidth\":0,\"ticks\":\"\"}},\"marker\":{\"colorbar\":{\"outlinewidth\":0,\"ticks\":\"\"}},\"type\":\"scatter3d\"}],\"scattercarpet\":[{\"marker\":{\"colorbar\":{\"outlinewidth\":0,\"ticks\":\"\"}},\"type\":\"scattercarpet\"}],\"scattergeo\":[{\"marker\":{\"colorbar\":{\"outlinewidth\":0,\"ticks\":\"\"}},\"type\":\"scattergeo\"}],\"scattergl\":[{\"marker\":{\"colorbar\":{\"outlinewidth\":0,\"ticks\":\"\"}},\"type\":\"scattergl\"}],\"scattermapbox\":[{\"marker\":{\"colorbar\":{\"outlinewidth\":0,\"ticks\":\"\"}},\"type\":\"scattermapbox\"}],\"scatterpolar\":[{\"marker\":{\"colorbar\":{\"outlinewidth\":0,\"ticks\":\"\"}},\"type\":\"scatterpolar\"}],\"scatterpolargl\":[{\"marker\":{\"colorbar\":{\"outlinewidth\":0,\"ticks\":\"\"}},\"type\":\"scatterpolargl\"}],\"scatterternary\":[{\"marker\":{\"colorbar\":{\"outlinewidth\":0,\"ticks\":\"\"}},\"type\":\"scatterternary\"}],\"surface\":[{\"colorbar\":{\"outlinewidth\":0,\"ticks\":\"\"},\"colorscale\":[[0.0,\"#0d0887\"],[0.1111111111111111,\"#46039f\"],[0.2222222222222222,\"#7201a8\"],[0.3333333333333333,\"#9c179e\"],[0.4444444444444444,\"#bd3786\"],[0.5555555555555556,\"#d8576b\"],[0.6666666666666666,\"#ed7953\"],[0.7777777777777778,\"#fb9f3a\"],[0.8888888888888888,\"#fdca26\"],[1.0,\"#f0f921\"]],\"type\":\"surface\"}],\"table\":[{\"cells\":{\"fill\":{\"color\":\"#EBF0F8\"},\"line\":{\"color\":\"white\"}},\"header\":{\"fill\":{\"color\":\"#C8D4E3\"},\"line\":{\"color\":\"white\"}},\"type\":\"table\"}]},\"layout\":{\"annotationdefaults\":{\"arrowcolor\":\"#2a3f5f\",\"arrowhead\":0,\"arrowwidth\":1},\"autotypenumbers\":\"strict\",\"coloraxis\":{\"colorbar\":{\"outlinewidth\":0,\"ticks\":\"\"}},\"colorscale\":{\"diverging\":[[0,\"#8e0152\"],[0.1,\"#c51b7d\"],[0.2,\"#de77ae\"],[0.3,\"#f1b6da\"],[0.4,\"#fde0ef\"],[0.5,\"#f7f7f7\"],[0.6,\"#e6f5d0\"],[0.7,\"#b8e186\"],[0.8,\"#7fbc41\"],[0.9,\"#4d9221\"],[1,\"#276419\"]],\"sequential\":[[0.0,\"#0d0887\"],[0.1111111111111111,\"#46039f\"],[0.2222222222222222,\"#7201a8\"],[0.3333333333333333,\"#9c179e\"],[0.4444444444444444,\"#bd3786\"],[0.5555555555555556,\"#d8576b\"],[0.6666666666666666,\"#ed7953\"],[0.7777777777777778,\"#fb9f3a\"],[0.8888888888888888,\"#fdca26\"],[1.0,\"#f0f921\"]],\"sequentialminus\":[[0.0,\"#0d0887\"],[0.1111111111111111,\"#46039f\"],[0.2222222222222222,\"#7201a8\"],[0.3333333333333333,\"#9c179e\"],[0.4444444444444444,\"#bd3786\"],[0.5555555555555556,\"#d8576b\"],[0.6666666666666666,\"#ed7953\"],[0.7777777777777778,\"#fb9f3a\"],[0.8888888888888888,\"#fdca26\"],[1.0,\"#f0f921\"]]},\"colorway\":[\"#636efa\",\"#EF553B\",\"#00cc96\",\"#ab63fa\",\"#FFA15A\",\"#19d3f3\",\"#FF6692\",\"#B6E880\",\"#FF97FF\",\"#FECB52\"],\"font\":{\"color\":\"#2a3f5f\"},\"geo\":{\"bgcolor\":\"white\",\"lakecolor\":\"white\",\"landcolor\":\"#E5ECF6\",\"showlakes\":true,\"showland\":true,\"subunitcolor\":\"white\"},\"hoverlabel\":{\"align\":\"left\"},\"hovermode\":\"closest\",\"mapbox\":{\"style\":\"light\"},\"paper_bgcolor\":\"white\",\"plot_bgcolor\":\"#E5ECF6\",\"polar\":{\"angularaxis\":{\"gridcolor\":\"white\",\"linecolor\":\"white\",\"ticks\":\"\"},\"bgcolor\":\"#E5ECF6\",\"radialaxis\":{\"gridcolor\":\"white\",\"linecolor\":\"white\",\"ticks\":\"\"}},\"scene\":{\"xaxis\":{\"backgroundcolor\":\"#E5ECF6\",\"gridcolor\":\"white\",\"gridwidth\":2,\"linecolor\":\"white\",\"showbackground\":true,\"ticks\":\"\",\"zerolinecolor\":\"white\"},\"yaxis\":{\"backgroundcolor\":\"#E5ECF6\",\"gridcolor\":\"white\",\"gridwidth\":2,\"linecolor\":\"white\",\"showbackground\":true,\"ticks\":\"\",\"zerolinecolor\":\"white\"},\"zaxis\":{\"backgroundcolor\":\"#E5ECF6\",\"gridcolor\":\"white\",\"gridwidth\":2,\"linecolor\":\"white\",\"showbackground\":true,\"ticks\":\"\",\"zerolinecolor\":\"white\"}},\"shapedefaults\":{\"line\":{\"color\":\"#2a3f5f\"}},\"ternary\":{\"aaxis\":{\"gridcolor\":\"white\",\"linecolor\":\"white\",\"ticks\":\"\"},\"baxis\":{\"gridcolor\":\"white\",\"linecolor\":\"white\",\"ticks\":\"\"},\"bgcolor\":\"#E5ECF6\",\"caxis\":{\"gridcolor\":\"white\",\"linecolor\":\"white\",\"ticks\":\"\"}},\"title\":{\"x\":0.05},\"xaxis\":{\"automargin\":true,\"gridcolor\":\"white\",\"linecolor\":\"white\",\"ticks\":\"\",\"title\":{\"standoff\":15},\"zerolinecolor\":\"white\",\"zerolinewidth\":2},\"yaxis\":{\"automargin\":true,\"gridcolor\":\"white\",\"linecolor\":\"white\",\"ticks\":\"\",\"title\":{\"standoff\":15},\"zerolinecolor\":\"white\",\"zerolinewidth\":2}}}},                        {\"responsive\": true}                    ).then(function(){\n",
              "                            \n",
              "var gd = document.getElementById('c3269d0b-f7d0-46e1-bf5d-266e0cb84834');\n",
              "var x = new MutationObserver(function (mutations, observer) {{\n",
              "        var display = window.getComputedStyle(gd).display;\n",
              "        if (!display || display === 'none') {{\n",
              "            console.log([gd, 'removed!']);\n",
              "            Plotly.purge(gd);\n",
              "            observer.disconnect();\n",
              "        }}\n",
              "}});\n",
              "\n",
              "// Listen for the removal of the full notebook cells\n",
              "var notebookContainer = gd.closest('#notebook-container');\n",
              "if (notebookContainer) {{\n",
              "    x.observe(notebookContainer, {childList: true});\n",
              "}}\n",
              "\n",
              "// Listen for the clearing of the current output cell\n",
              "var outputEl = gd.closest('.output');\n",
              "if (outputEl) {{\n",
              "    x.observe(outputEl, {childList: true});\n",
              "}}\n",
              "\n",
              "                        })                };                            </script>        </div>\n",
              "</body>\n",
              "</html>"
            ]
          },
          "metadata": {}
        }
      ]
    },
    {
      "cell_type": "markdown",
      "source": [
        "グラフをみてみると59回目のトライアルでベストパラメーターが出たのがわかりやくなっています。"
      ],
      "metadata": {
        "id": "01elf9eBPszM"
      }
    },
    {
      "cell_type": "code",
      "source": [
        "optuna.visualization.plot_slice(study)"
      ],
      "metadata": {
        "colab": {
          "base_uri": "https://localhost:8080/",
          "height": 542
        },
        "id": "QV-anY0OPxw9",
        "outputId": "b66cf95c-4f00-4d53-9cdd-b8bc878f5608"
      },
      "execution_count": 18,
      "outputs": [
        {
          "output_type": "display_data",
          "data": {
            "text/html": [
              "<html>\n",
              "<head><meta charset=\"utf-8\" /></head>\n",
              "<body>\n",
              "    <div>            <script src=\"https://cdnjs.cloudflare.com/ajax/libs/mathjax/2.7.5/MathJax.js?config=TeX-AMS-MML_SVG\"></script><script type=\"text/javascript\">if (window.MathJax) {MathJax.Hub.Config({SVG: {font: \"STIX-Web\"}});}</script>                <script type=\"text/javascript\">window.PlotlyConfig = {MathJaxConfig: 'local'};</script>\n",
              "        <script src=\"https://cdn.plot.ly/plotly-2.8.3.min.js\"></script>                <div id=\"02f0e716-31e6-46cd-9cce-ad4c4f767d3e\" class=\"plotly-graph-div\" style=\"height:525px; width:100%;\"></div>            <script type=\"text/javascript\">                                    window.PLOTLYENV=window.PLOTLYENV || {};                                    if (document.getElementById(\"02f0e716-31e6-46cd-9cce-ad4c4f767d3e\")) {                    Plotly.newPlot(                        \"02f0e716-31e6-46cd-9cce-ad4c4f767d3e\",                        [{\"marker\":{\"color\":[0,1,2,3,4,5,6,7,8,9,10,11,12,13,14,15,16,17,18,19,20,21,22,23,24,25,26,27,28,29,30,31,32,33,34,35,36,37,38,39,40,41,42,43,44,45,46,47,48,49,50,51,52,53,54,55,56,57,58,59,60,61,62,63,64,65,66,67,68,69,70,71,72,73,74,75,76,77,78,79,80,81,82,83,84,85,86,87,88,89,90,91,92,93,94,95,96,97,98,99],\"colorbar\":{\"title\":{\"text\":\"Trial\"},\"x\":1.0,\"xpad\":40},\"colorscale\":[[0.0,\"rgb(247,251,255)\"],[0.125,\"rgb(222,235,247)\"],[0.25,\"rgb(198,219,239)\"],[0.375,\"rgb(158,202,225)\"],[0.5,\"rgb(107,174,214)\"],[0.625,\"rgb(66,146,198)\"],[0.75,\"rgb(33,113,181)\"],[0.875,\"rgb(8,81,156)\"],[1.0,\"rgb(8,48,107)\"]],\"line\":{\"color\":\"Grey\",\"width\":0.5},\"showscale\":true},\"mode\":\"markers\",\"showlegend\":false,\"x\":[3.183605665309073,22.75280872524131,7.529621855500523,12.721683105111378,1.6062889079989484,10.480160778325287,23.820926365368578,1.766230131950256,1.2155540307931831,5.143538428130831,3.2066389496153356,3.3249363058141896,3.217381688818157,2.7980503341392984,5.606143462747696,5.601112633071206,8.612180728620784,14.616529061044757,4.554564333532413,2.0798448322540706,7.206088928384278,4.671499155186482,4.288985607313268,2.2436545013943623,6.576353409820727,4.020390398426692,2.7286593329860724,9.111207603539615,1.0937216310144453,14.125241021925067,30.656232655118142,3.733876161097184,8.562487949812159,6.252232776005679,2.3954972860810138,11.349403933388757,8.185857736968776,1.7058584350216834,3.231076674695829,16.459029679876988,16.726137462349815,17.040467896320457,21.649130024419485,21.001393532953184,20.50226750431185,4.9064687857385785,28.978421883895013,16.80220693394532,25.105481141717856,19.47043788073192,10.67089301042948,12.703756721158571,5.713253687336006,25.77762951431982,17.425570904973814,3.5572970227356513,4.511965357139203,1.4267496746975918,2.802295695789788,2.890917938650189,2.060697500146009,2.848004155870474,2.6186098244670593,3.7709771236962464,1.9082140102382599,2.9905987245881063,1.4379372115925915,3.0229950730007444,2.2836259729869735,2.4370719218929713,3.45890786818011,4.058132428543294,5.24990891016979,6.770786244099108,3.1012111475220796,2.6480252093566103,15.18642917171222,4.172919942244256,19.204709677769404,2.836534980643103,9.420246943575284,5.846137385413233,13.05055032855194,22.440743600128343,4.777800011254242,3.813193534621098,3.4147253594673894,5.25132969339486,2.4629112267127193,7.5232788636287875,7.700829931100619,17.997037534195528,4.454843581744428,15.483272500587862,12.031731862325339,27.406707815564207,2.1016235747290373,26.383090974273046,31.787728369817973,2.081481803163424],\"y\":[0.6563157894736843,0.5757894736842105,0.6057894736842105,0.6257894736842105,0.5357894736842106,0.5763157894736842,0.6457894736842105,0.6168421052631579,0.5963157894736841,0.6163157894736842,0.6468421052631579,0.5968421052631578,0.6047368421052632,0.5668421052631578,0.6473684210526316,0.5757894736842105,0.6468421052631579,0.5963157894736841,0.6473684210526316,0.5863157894736842,0.5942105263157894,0.5652631578947368,0.5852631578947368,0.6368421052631579,0.6463157894736842,0.5742105263157895,0.6252631578947367,0.5747368421052632,0.6273684210526317,0.5968421052631578,0.606842105263158,0.6373684210526316,0.5957894736842105,0.5447368421052632,0.6263157894736843,0.5952631578947368,0.6168421052631579,0.6057894736842105,0.5957894736842105,0.6757894736842106,0.6068421052631578,0.6473684210526316,0.6157894736842106,0.6573684210526316,0.6063157894736844,0.6263157894736843,0.6263157894736843,0.4947368421052632,0.5947368421052632,0.5268421052631579,0.6268421052631579,0.6457894736842105,0.5152631578947368,0.5847368421052632,0.5757894736842106,0.6378947368421052,0.6047368421052631,0.6368421052631579,0.6768421052631579,0.6868421052631579,0.5957894736842105,0.6368421052631579,0.6257894736842105,0.6157894736842106,0.6252631578947367,0.6673684210526315,0.6463157894736842,0.6457894736842106,0.5542105263157894,0.6268421052631579,0.5863157894736842,0.6357894736842106,0.6278947368421053,0.5852631578947369,0.6247368421052631,0.5968421052631578,0.6063157894736841,0.5752631578947368,0.5863157894736842,0.6363157894736842,0.616842105263158,0.6468421052631579,0.5457894736842105,0.5747368421052632,0.5852631578947368,0.5552631578947368,0.6263157894736843,0.6273684210526316,0.5542105263157895,0.6557894736842106,0.48473684210526324,0.5742105263157895,0.5763157894736842,0.5747368421052632,0.5852631578947369,0.6473684210526316,0.6773684210526316,0.6468421052631579,0.6163157894736842,0.6368421052631579],\"type\":\"scatter\",\"xaxis\":\"x\",\"yaxis\":\"y\"},{\"marker\":{\"color\":[0,1,2,3,4,5,6,7,8,9,10,11,12,13,14,15,16,17,18,19,20,21,22,23,24,25,26,27,28,29,30,31,32,33,34,35,36,37,38,39,40,41,42,43,44,45,46,47,48,49,50,51,52,53,54,55,56,57,58,59,60,61,62,63,64,65,66,67,68,69,70,71,72,73,74,75,76,77,78,79,80,81,82,83,84,85,86,87,88,89,90,91,92,93,94,95,96,97,98,99],\"colorbar\":{\"title\":{\"text\":\"Trial\"},\"x\":1.0,\"xpad\":40},\"colorscale\":[[0.0,\"rgb(247,251,255)\"],[0.125,\"rgb(222,235,247)\"],[0.25,\"rgb(198,219,239)\"],[0.375,\"rgb(158,202,225)\"],[0.5,\"rgb(107,174,214)\"],[0.625,\"rgb(66,146,198)\"],[0.75,\"rgb(33,113,181)\"],[0.875,\"rgb(8,81,156)\"],[1.0,\"rgb(8,48,107)\"]],\"line\":{\"color\":\"Grey\",\"width\":0.5},\"showscale\":false},\"mode\":\"markers\",\"showlegend\":false,\"x\":[12,3,2,4,3,3,16,2,15,13,20,20,8,9,19,16,11,18,6,13,11,6,6,9,13,6,18,7,10,18,14,20,11,19,17,4,12,19,16,4,5,2,2,4,4,5,3,3,2,3,5,4,7,4,7,2,9,8,15,14,14,15,12,14,12,15,15,15,13,16,10,14,17,12,5,17,15,3,13,6,10,19,11,16,4,2,14,16,3,5,5,4,6,5,8,20,13,12,13,13],\"y\":[0.6563157894736843,0.5757894736842105,0.6057894736842105,0.6257894736842105,0.5357894736842106,0.5763157894736842,0.6457894736842105,0.6168421052631579,0.5963157894736841,0.6163157894736842,0.6468421052631579,0.5968421052631578,0.6047368421052632,0.5668421052631578,0.6473684210526316,0.5757894736842105,0.6468421052631579,0.5963157894736841,0.6473684210526316,0.5863157894736842,0.5942105263157894,0.5652631578947368,0.5852631578947368,0.6368421052631579,0.6463157894736842,0.5742105263157895,0.6252631578947367,0.5747368421052632,0.6273684210526317,0.5968421052631578,0.606842105263158,0.6373684210526316,0.5957894736842105,0.5447368421052632,0.6263157894736843,0.5952631578947368,0.6168421052631579,0.6057894736842105,0.5957894736842105,0.6757894736842106,0.6068421052631578,0.6473684210526316,0.6157894736842106,0.6573684210526316,0.6063157894736844,0.6263157894736843,0.6263157894736843,0.4947368421052632,0.5947368421052632,0.5268421052631579,0.6268421052631579,0.6457894736842105,0.5152631578947368,0.5847368421052632,0.5757894736842106,0.6378947368421052,0.6047368421052631,0.6368421052631579,0.6768421052631579,0.6868421052631579,0.5957894736842105,0.6368421052631579,0.6257894736842105,0.6157894736842106,0.6252631578947367,0.6673684210526315,0.6463157894736842,0.6457894736842106,0.5542105263157894,0.6268421052631579,0.5863157894736842,0.6357894736842106,0.6278947368421053,0.5852631578947369,0.6247368421052631,0.5968421052631578,0.6063157894736841,0.5752631578947368,0.5863157894736842,0.6363157894736842,0.616842105263158,0.6468421052631579,0.5457894736842105,0.5747368421052632,0.5852631578947368,0.5552631578947368,0.6263157894736843,0.6273684210526316,0.5542105263157895,0.6557894736842106,0.48473684210526324,0.5742105263157895,0.5763157894736842,0.5747368421052632,0.5852631578947369,0.6473684210526316,0.6773684210526316,0.6468421052631579,0.6163157894736842,0.6368421052631579],\"type\":\"scatter\",\"xaxis\":\"x2\",\"yaxis\":\"y2\"}],                        {\"template\":{\"data\":{\"bar\":[{\"error_x\":{\"color\":\"#2a3f5f\"},\"error_y\":{\"color\":\"#2a3f5f\"},\"marker\":{\"line\":{\"color\":\"#E5ECF6\",\"width\":0.5},\"pattern\":{\"fillmode\":\"overlay\",\"size\":10,\"solidity\":0.2}},\"type\":\"bar\"}],\"barpolar\":[{\"marker\":{\"line\":{\"color\":\"#E5ECF6\",\"width\":0.5},\"pattern\":{\"fillmode\":\"overlay\",\"size\":10,\"solidity\":0.2}},\"type\":\"barpolar\"}],\"carpet\":[{\"aaxis\":{\"endlinecolor\":\"#2a3f5f\",\"gridcolor\":\"white\",\"linecolor\":\"white\",\"minorgridcolor\":\"white\",\"startlinecolor\":\"#2a3f5f\"},\"baxis\":{\"endlinecolor\":\"#2a3f5f\",\"gridcolor\":\"white\",\"linecolor\":\"white\",\"minorgridcolor\":\"white\",\"startlinecolor\":\"#2a3f5f\"},\"type\":\"carpet\"}],\"choropleth\":[{\"colorbar\":{\"outlinewidth\":0,\"ticks\":\"\"},\"type\":\"choropleth\"}],\"contour\":[{\"colorbar\":{\"outlinewidth\":0,\"ticks\":\"\"},\"colorscale\":[[0.0,\"#0d0887\"],[0.1111111111111111,\"#46039f\"],[0.2222222222222222,\"#7201a8\"],[0.3333333333333333,\"#9c179e\"],[0.4444444444444444,\"#bd3786\"],[0.5555555555555556,\"#d8576b\"],[0.6666666666666666,\"#ed7953\"],[0.7777777777777778,\"#fb9f3a\"],[0.8888888888888888,\"#fdca26\"],[1.0,\"#f0f921\"]],\"type\":\"contour\"}],\"contourcarpet\":[{\"colorbar\":{\"outlinewidth\":0,\"ticks\":\"\"},\"type\":\"contourcarpet\"}],\"heatmap\":[{\"colorbar\":{\"outlinewidth\":0,\"ticks\":\"\"},\"colorscale\":[[0.0,\"#0d0887\"],[0.1111111111111111,\"#46039f\"],[0.2222222222222222,\"#7201a8\"],[0.3333333333333333,\"#9c179e\"],[0.4444444444444444,\"#bd3786\"],[0.5555555555555556,\"#d8576b\"],[0.6666666666666666,\"#ed7953\"],[0.7777777777777778,\"#fb9f3a\"],[0.8888888888888888,\"#fdca26\"],[1.0,\"#f0f921\"]],\"type\":\"heatmap\"}],\"heatmapgl\":[{\"colorbar\":{\"outlinewidth\":0,\"ticks\":\"\"},\"colorscale\":[[0.0,\"#0d0887\"],[0.1111111111111111,\"#46039f\"],[0.2222222222222222,\"#7201a8\"],[0.3333333333333333,\"#9c179e\"],[0.4444444444444444,\"#bd3786\"],[0.5555555555555556,\"#d8576b\"],[0.6666666666666666,\"#ed7953\"],[0.7777777777777778,\"#fb9f3a\"],[0.8888888888888888,\"#fdca26\"],[1.0,\"#f0f921\"]],\"type\":\"heatmapgl\"}],\"histogram\":[{\"marker\":{\"pattern\":{\"fillmode\":\"overlay\",\"size\":10,\"solidity\":0.2}},\"type\":\"histogram\"}],\"histogram2d\":[{\"colorbar\":{\"outlinewidth\":0,\"ticks\":\"\"},\"colorscale\":[[0.0,\"#0d0887\"],[0.1111111111111111,\"#46039f\"],[0.2222222222222222,\"#7201a8\"],[0.3333333333333333,\"#9c179e\"],[0.4444444444444444,\"#bd3786\"],[0.5555555555555556,\"#d8576b\"],[0.6666666666666666,\"#ed7953\"],[0.7777777777777778,\"#fb9f3a\"],[0.8888888888888888,\"#fdca26\"],[1.0,\"#f0f921\"]],\"type\":\"histogram2d\"}],\"histogram2dcontour\":[{\"colorbar\":{\"outlinewidth\":0,\"ticks\":\"\"},\"colorscale\":[[0.0,\"#0d0887\"],[0.1111111111111111,\"#46039f\"],[0.2222222222222222,\"#7201a8\"],[0.3333333333333333,\"#9c179e\"],[0.4444444444444444,\"#bd3786\"],[0.5555555555555556,\"#d8576b\"],[0.6666666666666666,\"#ed7953\"],[0.7777777777777778,\"#fb9f3a\"],[0.8888888888888888,\"#fdca26\"],[1.0,\"#f0f921\"]],\"type\":\"histogram2dcontour\"}],\"mesh3d\":[{\"colorbar\":{\"outlinewidth\":0,\"ticks\":\"\"},\"type\":\"mesh3d\"}],\"parcoords\":[{\"line\":{\"colorbar\":{\"outlinewidth\":0,\"ticks\":\"\"}},\"type\":\"parcoords\"}],\"pie\":[{\"automargin\":true,\"type\":\"pie\"}],\"scatter\":[{\"marker\":{\"colorbar\":{\"outlinewidth\":0,\"ticks\":\"\"}},\"type\":\"scatter\"}],\"scatter3d\":[{\"line\":{\"colorbar\":{\"outlinewidth\":0,\"ticks\":\"\"}},\"marker\":{\"colorbar\":{\"outlinewidth\":0,\"ticks\":\"\"}},\"type\":\"scatter3d\"}],\"scattercarpet\":[{\"marker\":{\"colorbar\":{\"outlinewidth\":0,\"ticks\":\"\"}},\"type\":\"scattercarpet\"}],\"scattergeo\":[{\"marker\":{\"colorbar\":{\"outlinewidth\":0,\"ticks\":\"\"}},\"type\":\"scattergeo\"}],\"scattergl\":[{\"marker\":{\"colorbar\":{\"outlinewidth\":0,\"ticks\":\"\"}},\"type\":\"scattergl\"}],\"scattermapbox\":[{\"marker\":{\"colorbar\":{\"outlinewidth\":0,\"ticks\":\"\"}},\"type\":\"scattermapbox\"}],\"scatterpolar\":[{\"marker\":{\"colorbar\":{\"outlinewidth\":0,\"ticks\":\"\"}},\"type\":\"scatterpolar\"}],\"scatterpolargl\":[{\"marker\":{\"colorbar\":{\"outlinewidth\":0,\"ticks\":\"\"}},\"type\":\"scatterpolargl\"}],\"scatterternary\":[{\"marker\":{\"colorbar\":{\"outlinewidth\":0,\"ticks\":\"\"}},\"type\":\"scatterternary\"}],\"surface\":[{\"colorbar\":{\"outlinewidth\":0,\"ticks\":\"\"},\"colorscale\":[[0.0,\"#0d0887\"],[0.1111111111111111,\"#46039f\"],[0.2222222222222222,\"#7201a8\"],[0.3333333333333333,\"#9c179e\"],[0.4444444444444444,\"#bd3786\"],[0.5555555555555556,\"#d8576b\"],[0.6666666666666666,\"#ed7953\"],[0.7777777777777778,\"#fb9f3a\"],[0.8888888888888888,\"#fdca26\"],[1.0,\"#f0f921\"]],\"type\":\"surface\"}],\"table\":[{\"cells\":{\"fill\":{\"color\":\"#EBF0F8\"},\"line\":{\"color\":\"white\"}},\"header\":{\"fill\":{\"color\":\"#C8D4E3\"},\"line\":{\"color\":\"white\"}},\"type\":\"table\"}]},\"layout\":{\"annotationdefaults\":{\"arrowcolor\":\"#2a3f5f\",\"arrowhead\":0,\"arrowwidth\":1},\"autotypenumbers\":\"strict\",\"coloraxis\":{\"colorbar\":{\"outlinewidth\":0,\"ticks\":\"\"}},\"colorscale\":{\"diverging\":[[0,\"#8e0152\"],[0.1,\"#c51b7d\"],[0.2,\"#de77ae\"],[0.3,\"#f1b6da\"],[0.4,\"#fde0ef\"],[0.5,\"#f7f7f7\"],[0.6,\"#e6f5d0\"],[0.7,\"#b8e186\"],[0.8,\"#7fbc41\"],[0.9,\"#4d9221\"],[1,\"#276419\"]],\"sequential\":[[0.0,\"#0d0887\"],[0.1111111111111111,\"#46039f\"],[0.2222222222222222,\"#7201a8\"],[0.3333333333333333,\"#9c179e\"],[0.4444444444444444,\"#bd3786\"],[0.5555555555555556,\"#d8576b\"],[0.6666666666666666,\"#ed7953\"],[0.7777777777777778,\"#fb9f3a\"],[0.8888888888888888,\"#fdca26\"],[1.0,\"#f0f921\"]],\"sequentialminus\":[[0.0,\"#0d0887\"],[0.1111111111111111,\"#46039f\"],[0.2222222222222222,\"#7201a8\"],[0.3333333333333333,\"#9c179e\"],[0.4444444444444444,\"#bd3786\"],[0.5555555555555556,\"#d8576b\"],[0.6666666666666666,\"#ed7953\"],[0.7777777777777778,\"#fb9f3a\"],[0.8888888888888888,\"#fdca26\"],[1.0,\"#f0f921\"]]},\"colorway\":[\"#636efa\",\"#EF553B\",\"#00cc96\",\"#ab63fa\",\"#FFA15A\",\"#19d3f3\",\"#FF6692\",\"#B6E880\",\"#FF97FF\",\"#FECB52\"],\"font\":{\"color\":\"#2a3f5f\"},\"geo\":{\"bgcolor\":\"white\",\"lakecolor\":\"white\",\"landcolor\":\"#E5ECF6\",\"showlakes\":true,\"showland\":true,\"subunitcolor\":\"white\"},\"hoverlabel\":{\"align\":\"left\"},\"hovermode\":\"closest\",\"mapbox\":{\"style\":\"light\"},\"paper_bgcolor\":\"white\",\"plot_bgcolor\":\"#E5ECF6\",\"polar\":{\"angularaxis\":{\"gridcolor\":\"white\",\"linecolor\":\"white\",\"ticks\":\"\"},\"bgcolor\":\"#E5ECF6\",\"radialaxis\":{\"gridcolor\":\"white\",\"linecolor\":\"white\",\"ticks\":\"\"}},\"scene\":{\"xaxis\":{\"backgroundcolor\":\"#E5ECF6\",\"gridcolor\":\"white\",\"gridwidth\":2,\"linecolor\":\"white\",\"showbackground\":true,\"ticks\":\"\",\"zerolinecolor\":\"white\"},\"yaxis\":{\"backgroundcolor\":\"#E5ECF6\",\"gridcolor\":\"white\",\"gridwidth\":2,\"linecolor\":\"white\",\"showbackground\":true,\"ticks\":\"\",\"zerolinecolor\":\"white\"},\"zaxis\":{\"backgroundcolor\":\"#E5ECF6\",\"gridcolor\":\"white\",\"gridwidth\":2,\"linecolor\":\"white\",\"showbackground\":true,\"ticks\":\"\",\"zerolinecolor\":\"white\"}},\"shapedefaults\":{\"line\":{\"color\":\"#2a3f5f\"}},\"ternary\":{\"aaxis\":{\"gridcolor\":\"white\",\"linecolor\":\"white\",\"ticks\":\"\"},\"baxis\":{\"gridcolor\":\"white\",\"linecolor\":\"white\",\"ticks\":\"\"},\"bgcolor\":\"#E5ECF6\",\"caxis\":{\"gridcolor\":\"white\",\"linecolor\":\"white\",\"ticks\":\"\"}},\"title\":{\"x\":0.05},\"xaxis\":{\"automargin\":true,\"gridcolor\":\"white\",\"linecolor\":\"white\",\"ticks\":\"\",\"title\":{\"standoff\":15},\"zerolinecolor\":\"white\",\"zerolinewidth\":2},\"yaxis\":{\"automargin\":true,\"gridcolor\":\"white\",\"linecolor\":\"white\",\"ticks\":\"\",\"title\":{\"standoff\":15},\"zerolinecolor\":\"white\",\"zerolinewidth\":2}}},\"xaxis\":{\"anchor\":\"y\",\"domain\":[0.0,0.45],\"title\":{\"text\":\"max_depth\"},\"type\":\"log\"},\"yaxis\":{\"anchor\":\"x\",\"domain\":[0.0,1.0],\"title\":{\"text\":\"Objective Value\"}},\"xaxis2\":{\"anchor\":\"y2\",\"domain\":[0.55,1.0],\"title\":{\"text\":\"n_estimators\"}},\"yaxis2\":{\"anchor\":\"x2\",\"domain\":[0.0,1.0],\"matches\":\"y\",\"showticklabels\":false},\"title\":{\"text\":\"Slice Plot\"}},                        {\"responsive\": true}                    ).then(function(){\n",
              "                            \n",
              "var gd = document.getElementById('02f0e716-31e6-46cd-9cce-ad4c4f767d3e');\n",
              "var x = new MutationObserver(function (mutations, observer) {{\n",
              "        var display = window.getComputedStyle(gd).display;\n",
              "        if (!display || display === 'none') {{\n",
              "            console.log([gd, 'removed!']);\n",
              "            Plotly.purge(gd);\n",
              "            observer.disconnect();\n",
              "        }}\n",
              "}});\n",
              "\n",
              "// Listen for the removal of the full notebook cells\n",
              "var notebookContainer = gd.closest('#notebook-container');\n",
              "if (notebookContainer) {{\n",
              "    x.observe(notebookContainer, {childList: true});\n",
              "}}\n",
              "\n",
              "// Listen for the clearing of the current output cell\n",
              "var outputEl = gd.closest('.output');\n",
              "if (outputEl) {{\n",
              "    x.observe(outputEl, {childList: true});\n",
              "}}\n",
              "\n",
              "                        })                };                            </script>        </div>\n",
              "</body>\n",
              "</html>"
            ]
          },
          "metadata": {}
        }
      ]
    },
    {
      "cell_type": "markdown",
      "source": [
        "## 特徴量の重要度の評価"
      ],
      "metadata": {
        "id": "SL9jdk3UPzYz"
      }
    },
    {
      "cell_type": "markdown",
      "source": [
        "妥当性の検証を終え、クロスバリデーションとOptunaでより正確性が高かったモデルを使い、特徴量の重要度の評価を行います。\n",
        "特徴量の重要度の評価はScikit-learnのランダムフォレストモデルライブラリのfeature_importances()という関数を使います。\n"
      ],
      "metadata": {
        "id": "YJroG0CJPz--"
      }
    },
    {
      "cell_type": "code",
      "source": [
        "if accuracy_random_forest_op > accuracy_random_forest:\n",
        "  print(\"妥当性の検証方法でより正確だったのはOptunaです\")\n",
        "  feature_importances = rforest_model_post_optuna.feature_importances_\n",
        "else:\n",
        "  print(\"妥当性の検証方法でより正確だったのはCross Validationです\")\n",
        "  feature_importances = rforest_model_cv.feature_importances_\n",
        "\n",
        "feature_importances_dict = {}\n",
        "\n",
        "for i, importance in enumerate(feature_importances):\n",
        "  perc = importance * 100\n",
        "  feature_importances_dict[finalized_df.columns[i]] = perc # 一行目は出力行のため、考慮しない\n",
        "\n",
        "sorted_dict = {}\n",
        "sorted_keys = sorted(feature_importances_dict, key=feature_importances_dict.get)\n",
        "for w in sorted_keys:\n",
        "    sorted_dict[w] =  feature_importances_dict[w]\n",
        "  \n",
        "for keys in sorted_dict.keys():\n",
        "  print(f\"フィーチャー名：{keys:>12s}は出力データの結果に{sorted_dict[keys]:>7.2f}%関与しています\")"
      ],
      "metadata": {
        "colab": {
          "base_uri": "https://localhost:8080/"
        },
        "id": "qombCtB5P2mU",
        "outputId": "98964b5b-8aec-44f2-a2b1-f7afe7da4873"
      },
      "execution_count": 19,
      "outputs": [
        {
          "output_type": "stream",
          "name": "stdout",
          "text": [
            "妥当性の検証方法でより正確だったのはOptunaです\n",
            "フィーチャー名：       MCP-1は出力データの結果に   2.00%関与しています\n",
            "フィーチャー名：        IL-8は出力データの結果に   3.01%関与しています\n",
            "フィーチャー名：         CRPは出力データの結果に   3.52%関与しています\n",
            "フィーチャー名：     EOTAXINは出力データの結果に   5.93%関与しています\n",
            "フィーチャー名：   P/F-ratioは出力データの結果に   6.63%関与しています\n",
            "フィーチャー名：         LDHは出力データの結果に   7.22%関与しています\n",
            "フィーチャー名：BAL(neutro-%)は出力データの結果に   9.15%関与しています\n",
            "フィーチャー名：      GM-CSFは出力データの結果に  17.86%関与しています\n",
            "フィーチャー名：       MMP-1は出力データの結果に  21.69%関与しています\n",
            "フィーチャー名：        IL-6は出力データの結果に  22.99%関与しています\n"
          ]
        }
      ]
    },
    {
      "cell_type": "markdown",
      "source": [
        "##  特徴量の重要度の評価に基づきモデル再構築"
      ],
      "metadata": {
        "id": "TRY9f7vuP4eT"
      }
    },
    {
      "cell_type": "markdown",
      "source": [
        "特徴量設計は、モデルタイプやそのパラメータよりもモデルの品質に大きな影響を与えるという共通認識があります。特徴量選択が重要な問題である理由として、実際のパターンを隠してしまうほどの余分な特徴量で学習してしまうと、本来のパターンを見つけるのが難しくなります。この場合、モデルは不要な特徴量のノイズパターンを使用し始め、結果としてパフォーマンスの低下につながります。加え、特徴量の数を減らすと、一般的にモデルの学習（トレーニング）が大幅に速くなります。そして大抵の場合、結果として得られるモデルは単純で理解しやすいものとなります。常に単純なモデルになるように心がけ、ノイズを削除し、ロバストなモデル作成を心がける必要があります。詳しくはこちらを参照して下さい [[4](https://www.rapidminer.jp/wp-content/uploads/2020/05/%E6%A9%9F%E6%A2%B0%E5%AD%A6%E7%BF%92%E3%81%AE%E3%81%9F%E3%82%81%E3%81%AE%E7%89%B9%E5%BE%B4%E9%87%8F%E6%9C%80%E9%81%A9%E5%8C%96.pdf)]。\n",
        "\n",
        "今回はForward Selectionという考え方を応用し、特徴量の重要度の評価で最も正答率が高かった5個の属性を保持して再度モデルを作成します。"
      ],
      "metadata": {
        "id": "7XOqF-lkP5N9"
      }
    },
    {
      "cell_type": "code",
      "source": [
        "top_five_params = list(sorted_dict.keys())[-5:]\n",
        "print(f\"The top ten parameters are: {top_five_params}\")\n",
        "top_five_params.append('90day-mortality')\n",
        "\n",
        "# 最後に使用したPandasデータフレームをコピーを作成する\n",
        "finalized_df_c = finalized_df.copy()\n",
        "\n",
        "# 新しいデータフレームから重要因子以外を取り除く\n",
        "finalized_df_c = finalized_df_c.drop(columns=[col for col in finalized_df.columns if col not in top_five_params])\n",
        "\n",
        "# 行数と列数を変数として保管する\n",
        "NUM_ROWS, NUM_COLS = finalized_df_c.shape[0], finalized_df_c.shape[1]\n",
        "\n",
        "# Y (ラベル) ターゲットラベル\n",
        "Y_col = '90day-mortality'\n",
        "# X (フィーチャー) ターゲットラベル以外の全ての行\n",
        "X_cols = finalized_df_c.loc[:, finalized_df_c.columns != Y_col].columns\n",
        "\n",
        "X_train, X_val, y_train, y_val = \\\n",
        "train_test_split(finalized_df_c[X_cols], finalized_df_c[Y_col],test_size=0.2, random_state=42)\n",
        "\n",
        "print(\"X_train.shape = \", X_train.shape, \" \\t y_train.shape = \", y_train.shape)\n",
        "print(\"X_val.shape = \", X_val.shape, \" \\t y_val.shape = \", y_val.shape)\n",
        "\n",
        "if accuracy_random_forest_op > accuracy_random_forest:\n",
        "  study = optuna.create_study(direction='maximize')\n",
        "  study.optimize(objective, n_trials=100)\n",
        "\n",
        "  trial = study.best_trial\n",
        "  print('Accuracy: {}'.format(trial.value))\n",
        "\n",
        "  # チューニングしたハイパーパラメーターをフィット\n",
        "  rforest_model_forward_selection = ensemble.RandomForestClassifier(\n",
        "                                     max_depth = trial.params['max_depth'],\n",
        "                                     n_estimators = trial.params['n_estimators'],                                    \n",
        "                                     n_jobs=-1)\n",
        "\n",
        "else:\n",
        "  # cross validationを使い、階層や決定木の数をチューニングしてみる（ハイパーパラメーター）\n",
        "  # 注：過適合/過剰適合のバランスを見極めながらハイパーパラメーターチューニングを行う\n",
        "  best_accuracy = 0\n",
        "  best_depth = 1\n",
        "  best_num_trees = 42\n",
        "\n",
        "  for ntrees in range(50,450,100):  # 決定木50から350の間（ステップ数：100)\n",
        "      for d in range(1,20): # 階層1から20の間\n",
        "          rforest_model = ensemble.RandomForestClassifier(\n",
        "              n_estimators= ntrees,\n",
        "              criterion='entropy',\n",
        "              max_depth=d,\n",
        "              min_samples_split=2,\n",
        "              min_samples_leaf=1,\n",
        "              min_weight_fraction_leaf=0.0,\n",
        "              max_features='auto',\n",
        "              max_leaf_nodes=None,\n",
        "              min_impurity_decrease=0.0,\n",
        "              bootstrap=True,\n",
        "              oob_score=False,\n",
        "              n_jobs=-1,\n",
        "              random_state=0,\n",
        "              verbose=0,\n",
        "              warm_start=False,\n",
        "              class_weight='balanced'\n",
        "          )\n",
        "          cv_scores = cross_val_score( rforest_model, X_train, y_train, cv=5 ) # 5 はトレーニング・テストの割合が8割・2割ということを表す\n",
        "          average_cv_accuracy = cv_scores.mean()  # cvスコアの平均値cv=5はスコアを五つ出すため、その平均値を見る\n",
        "          if average_cv_accuracy >= best_accuracy: # cvスコアの平均値正確性が現在の最適正確性を上回った場合、現在のcvスコア平均値を出した決定木数・階層を最適とする\n",
        "              best_accuracy = average_cv_accuracy\n",
        "              best_depth = d\n",
        "              best_num_trees = ntrees\n",
        "\n",
        "  print()\n",
        "  print(f\"最適層: {best_depth}, 最適決定木数： {best_num_trees}, 最高予測精度：{best_accuracy}\")\n",
        "\n",
        "  # 上記で見つけた最適層・最適決定木数をもとにモデルの構築・モデルのトレーニング\n",
        "  rforest_model_forward_selection = ensemble.RandomForestClassifier(max_depth=best_depth, n_estimators=best_num_trees) # ensemble.RandomForestClassifierからRF解析モデルを引っ張ってくる\n",
        "\n",
        "# モデルを再度トレーニングする\n",
        "rforest_model_forward_selection.fit(X_train, y_train) \n",
        "\n",
        "# 再度トレーニングした後のモデルのパフォーマンス検証\n",
        "# テストデータにrforest_modelに.predict()関数を応用し、RFモデルがラベルを何個正確に予測出来たかを検証する\n",
        "y_pred_op = rforest_model_forward_selection.predict(X_val)\n",
        "\n",
        "#モデルを作成する段階でのモデルの識別精度\n",
        "trainaccuracy_random_forest = rforest_model_forward_selection.score(X_train, y_train)\n",
        "print('TrainAccuracy: {}'.format(trainaccuracy_random_forest))\n",
        "\n",
        "#作成したモデルに学習に使用していない評価用のデータセットを入力し精度を確認\n",
        "accuracy_random_forest = accuracy_score(y_val, y_pred_op)\n",
        "print('Accuracy: {}'.format(accuracy_random_forest))\n",
        "\n",
        "# 正確性の出力\n",
        "print(classification_report(y_val, y_pred_op))\n",
        "\n",
        "# フィーチャーの重要度を出力するコード\n",
        "feature_importances_opt = rforest_model_forward_selection.feature_importances_\n",
        "\n",
        "feature_importances_dict = {}\n",
        "for i, importance in enumerate(feature_importances_opt):\n",
        "  perc = importance * 100\n",
        "  feature_importances_dict[finalized_df_c.columns[i]] = perc\n",
        "\n",
        "sorted_dict = {}\n",
        "sorted_keys = sorted(feature_importances_dict, key=feature_importances_dict.get)\n",
        "for w in sorted_keys:\n",
        "    sorted_dict[w] =  feature_importances_dict[w]\n",
        "  \n",
        "for keys in sorted_dict.keys():\n",
        "  print(f\"フィーチャー名：{keys:>12s}は出力データの結果に{sorted_dict[keys]:>7.2f}%関与しています\")"
      ],
      "metadata": {
        "colab": {
          "base_uri": "https://localhost:8080/"
        },
        "id": "guulZzHQP-ef",
        "outputId": "a06004d4-2046-4fbb-f465-9000e8523373"
      },
      "execution_count": 21,
      "outputs": [
        {
          "output_type": "stream",
          "name": "stderr",
          "text": [
            "\u001b[32m[I 2022-09-20 02:42:13,285]\u001b[0m A new study created in memory with name: no-name-05ec5c48-948f-4164-be0c-5c9541f593ea\u001b[0m\n",
            "/usr/local/lib/python3.7/dist-packages/ipykernel_launcher.py:24: FutureWarning:\n",
            "\n",
            "suggest_loguniform has been deprecated in v3.0.0. This feature will be removed in v6.0.0. See https://github.com/optuna/optuna/releases/tag/v3.0.0. Use :func:`~optuna.trial.Trial.suggest_float` instead.\n",
            "\n",
            "\u001b[32m[I 2022-09-20 02:42:13,336]\u001b[0m Trial 0 finished with value: 0.6668421052631579 and parameters: {'n_estimators': 2, 'max_depth': 2.598264752573011}. Best is trial 0 with value: 0.6668421052631579.\u001b[0m\n",
            "/usr/local/lib/python3.7/dist-packages/ipykernel_launcher.py:24: FutureWarning:\n",
            "\n",
            "suggest_loguniform has been deprecated in v3.0.0. This feature will be removed in v6.0.0. See https://github.com/optuna/optuna/releases/tag/v3.0.0. Use :func:`~optuna.trial.Trial.suggest_float` instead.\n",
            "\n",
            "\u001b[32m[I 2022-09-20 02:42:13,419]\u001b[0m Trial 1 finished with value: 0.6057894736842105 and parameters: {'n_estimators': 11, 'max_depth': 2.7981806639177087}. Best is trial 0 with value: 0.6668421052631579.\u001b[0m\n"
          ]
        },
        {
          "output_type": "stream",
          "name": "stdout",
          "text": [
            "The top ten parameters are: ['LDH', 'BAL(neutro-%)', 'GM-CSF', 'MMP-1', 'IL-6']\n",
            "X_train.shape =  (113, 5)  \t y_train.shape =  (113,)\n",
            "X_val.shape =  (29, 5)  \t y_val.shape =  (29,)\n"
          ]
        },
        {
          "output_type": "stream",
          "name": "stderr",
          "text": [
            "/usr/local/lib/python3.7/dist-packages/ipykernel_launcher.py:24: FutureWarning:\n",
            "\n",
            "suggest_loguniform has been deprecated in v3.0.0. This feature will be removed in v6.0.0. See https://github.com/optuna/optuna/releases/tag/v3.0.0. Use :func:`~optuna.trial.Trial.suggest_float` instead.\n",
            "\n",
            "\u001b[32m[I 2022-09-20 02:42:13,549]\u001b[0m Trial 2 finished with value: 0.5847368421052632 and parameters: {'n_estimators': 20, 'max_depth': 6.782575705225644}. Best is trial 0 with value: 0.6668421052631579.\u001b[0m\n",
            "/usr/local/lib/python3.7/dist-packages/ipykernel_launcher.py:24: FutureWarning:\n",
            "\n",
            "suggest_loguniform has been deprecated in v3.0.0. This feature will be removed in v6.0.0. See https://github.com/optuna/optuna/releases/tag/v3.0.0. Use :func:`~optuna.trial.Trial.suggest_float` instead.\n",
            "\n",
            "\u001b[32m[I 2022-09-20 02:42:13,625]\u001b[0m Trial 3 finished with value: 0.5863157894736842 and parameters: {'n_estimators': 10, 'max_depth': 1.4936745382046714}. Best is trial 0 with value: 0.6668421052631579.\u001b[0m\n",
            "/usr/local/lib/python3.7/dist-packages/ipykernel_launcher.py:24: FutureWarning:\n",
            "\n",
            "suggest_loguniform has been deprecated in v3.0.0. This feature will be removed in v6.0.0. See https://github.com/optuna/optuna/releases/tag/v3.0.0. Use :func:`~optuna.trial.Trial.suggest_float` instead.\n",
            "\n",
            "\u001b[32m[I 2022-09-20 02:42:13,673]\u001b[0m Trial 4 finished with value: 0.6642105263157896 and parameters: {'n_estimators': 2, 'max_depth': 13.285300755154264}. Best is trial 0 with value: 0.6668421052631579.\u001b[0m\n",
            "/usr/local/lib/python3.7/dist-packages/ipykernel_launcher.py:24: FutureWarning:\n",
            "\n",
            "suggest_loguniform has been deprecated in v3.0.0. This feature will be removed in v6.0.0. See https://github.com/optuna/optuna/releases/tag/v3.0.0. Use :func:`~optuna.trial.Trial.suggest_float` instead.\n",
            "\n",
            "\u001b[32m[I 2022-09-20 02:42:13,748]\u001b[0m Trial 5 finished with value: 0.5563157894736843 and parameters: {'n_estimators': 9, 'max_depth': 12.224385568629708}. Best is trial 0 with value: 0.6668421052631579.\u001b[0m\n",
            "/usr/local/lib/python3.7/dist-packages/ipykernel_launcher.py:24: FutureWarning:\n",
            "\n",
            "suggest_loguniform has been deprecated in v3.0.0. This feature will be removed in v6.0.0. See https://github.com/optuna/optuna/releases/tag/v3.0.0. Use :func:`~optuna.trial.Trial.suggest_float` instead.\n",
            "\n",
            "\u001b[32m[I 2022-09-20 02:42:13,844]\u001b[0m Trial 6 finished with value: 0.6257894736842105 and parameters: {'n_estimators': 13, 'max_depth': 5.983115765009677}. Best is trial 0 with value: 0.6668421052631579.\u001b[0m\n",
            "/usr/local/lib/python3.7/dist-packages/ipykernel_launcher.py:24: FutureWarning:\n",
            "\n",
            "suggest_loguniform has been deprecated in v3.0.0. This feature will be removed in v6.0.0. See https://github.com/optuna/optuna/releases/tag/v3.0.0. Use :func:`~optuna.trial.Trial.suggest_float` instead.\n",
            "\n",
            "\u001b[32m[I 2022-09-20 02:42:13,925]\u001b[0m Trial 7 finished with value: 0.6463157894736842 and parameters: {'n_estimators': 7, 'max_depth': 14.71362581899472}. Best is trial 0 with value: 0.6668421052631579.\u001b[0m\n",
            "/usr/local/lib/python3.7/dist-packages/ipykernel_launcher.py:24: FutureWarning:\n",
            "\n",
            "suggest_loguniform has been deprecated in v3.0.0. This feature will be removed in v6.0.0. See https://github.com/optuna/optuna/releases/tag/v3.0.0. Use :func:`~optuna.trial.Trial.suggest_float` instead.\n",
            "\n",
            "\u001b[32m[I 2022-09-20 02:42:14,009]\u001b[0m Trial 8 finished with value: 0.6363157894736842 and parameters: {'n_estimators': 11, 'max_depth': 1.3749296040599392}. Best is trial 0 with value: 0.6668421052631579.\u001b[0m\n",
            "/usr/local/lib/python3.7/dist-packages/ipykernel_launcher.py:24: FutureWarning:\n",
            "\n",
            "suggest_loguniform has been deprecated in v3.0.0. This feature will be removed in v6.0.0. See https://github.com/optuna/optuna/releases/tag/v3.0.0. Use :func:`~optuna.trial.Trial.suggest_float` instead.\n",
            "\n",
            "\u001b[32m[I 2022-09-20 02:42:14,097]\u001b[0m Trial 9 finished with value: 0.6473684210526316 and parameters: {'n_estimators': 12, 'max_depth': 1.5223764019563366}. Best is trial 0 with value: 0.6668421052631579.\u001b[0m\n",
            "/usr/local/lib/python3.7/dist-packages/ipykernel_launcher.py:24: FutureWarning:\n",
            "\n",
            "suggest_loguniform has been deprecated in v3.0.0. This feature will be removed in v6.0.0. See https://github.com/optuna/optuna/releases/tag/v3.0.0. Use :func:`~optuna.trial.Trial.suggest_float` instead.\n",
            "\n",
            "\u001b[32m[I 2022-09-20 02:42:14,166]\u001b[0m Trial 10 finished with value: 0.6063157894736844 and parameters: {'n_estimators': 2, 'max_depth': 31.37823251921655}. Best is trial 0 with value: 0.6668421052631579.\u001b[0m\n",
            "/usr/local/lib/python3.7/dist-packages/ipykernel_launcher.py:24: FutureWarning:\n",
            "\n",
            "suggest_loguniform has been deprecated in v3.0.0. This feature will be removed in v6.0.0. See https://github.com/optuna/optuna/releases/tag/v3.0.0. Use :func:`~optuna.trial.Trial.suggest_float` instead.\n",
            "\n",
            "\u001b[32m[I 2022-09-20 02:42:14,223]\u001b[0m Trial 11 finished with value: 0.5947368421052632 and parameters: {'n_estimators': 2, 'max_depth': 3.2215695056077975}. Best is trial 0 with value: 0.6668421052631579.\u001b[0m\n",
            "/usr/local/lib/python3.7/dist-packages/ipykernel_launcher.py:24: FutureWarning:\n",
            "\n",
            "suggest_loguniform has been deprecated in v3.0.0. This feature will be removed in v6.0.0. See https://github.com/optuna/optuna/releases/tag/v3.0.0. Use :func:`~optuna.trial.Trial.suggest_float` instead.\n",
            "\n",
            "\u001b[32m[I 2022-09-20 02:42:14,292]\u001b[0m Trial 12 finished with value: 0.6463157894736842 and parameters: {'n_estimators': 5, 'max_depth': 14.496861014757606}. Best is trial 0 with value: 0.6668421052631579.\u001b[0m\n",
            "/usr/local/lib/python3.7/dist-packages/ipykernel_launcher.py:24: FutureWarning:\n",
            "\n",
            "suggest_loguniform has been deprecated in v3.0.0. This feature will be removed in v6.0.0. See https://github.com/optuna/optuna/releases/tag/v3.0.0. Use :func:`~optuna.trial.Trial.suggest_float` instead.\n",
            "\n",
            "\u001b[32m[I 2022-09-20 02:42:14,360]\u001b[0m Trial 13 finished with value: 0.6063157894736841 and parameters: {'n_estimators': 5, 'max_depth': 2.8472726868514786}. Best is trial 0 with value: 0.6668421052631579.\u001b[0m\n",
            "/usr/local/lib/python3.7/dist-packages/ipykernel_launcher.py:24: FutureWarning:\n",
            "\n",
            "suggest_loguniform has been deprecated in v3.0.0. This feature will be removed in v6.0.0. See https://github.com/optuna/optuna/releases/tag/v3.0.0. Use :func:`~optuna.trial.Trial.suggest_float` instead.\n",
            "\n",
            "\u001b[32m[I 2022-09-20 02:42:14,472]\u001b[0m Trial 14 finished with value: 0.6878947368421052 and parameters: {'n_estimators': 15, 'max_depth': 9.07649417996431}. Best is trial 14 with value: 0.6878947368421052.\u001b[0m\n",
            "/usr/local/lib/python3.7/dist-packages/ipykernel_launcher.py:24: FutureWarning:\n",
            "\n",
            "suggest_loguniform has been deprecated in v3.0.0. This feature will be removed in v6.0.0. See https://github.com/optuna/optuna/releases/tag/v3.0.0. Use :func:`~optuna.trial.Trial.suggest_float` instead.\n",
            "\n",
            "\u001b[32m[I 2022-09-20 02:42:14,593]\u001b[0m Trial 15 finished with value: 0.6063157894736841 and parameters: {'n_estimators': 16, 'max_depth': 4.458029123669151}. Best is trial 14 with value: 0.6878947368421052.\u001b[0m\n",
            "/usr/local/lib/python3.7/dist-packages/ipykernel_launcher.py:24: FutureWarning:\n",
            "\n",
            "suggest_loguniform has been deprecated in v3.0.0. This feature will be removed in v6.0.0. See https://github.com/optuna/optuna/releases/tag/v3.0.0. Use :func:`~optuna.trial.Trial.suggest_float` instead.\n",
            "\n",
            "\u001b[32m[I 2022-09-20 02:42:14,715]\u001b[0m Trial 16 finished with value: 0.6057894736842105 and parameters: {'n_estimators': 16, 'max_depth': 8.79088625612493}. Best is trial 14 with value: 0.6878947368421052.\u001b[0m\n",
            "/usr/local/lib/python3.7/dist-packages/ipykernel_launcher.py:24: FutureWarning:\n",
            "\n",
            "suggest_loguniform has been deprecated in v3.0.0. This feature will be removed in v6.0.0. See https://github.com/optuna/optuna/releases/tag/v3.0.0. Use :func:`~optuna.trial.Trial.suggest_float` instead.\n",
            "\n",
            "\u001b[32m[I 2022-09-20 02:42:14,841]\u001b[0m Trial 17 finished with value: 0.6468421052631579 and parameters: {'n_estimators': 16, 'max_depth': 26.661365798025546}. Best is trial 14 with value: 0.6878947368421052.\u001b[0m\n",
            "/usr/local/lib/python3.7/dist-packages/ipykernel_launcher.py:24: FutureWarning:\n",
            "\n",
            "suggest_loguniform has been deprecated in v3.0.0. This feature will be removed in v6.0.0. See https://github.com/optuna/optuna/releases/tag/v3.0.0. Use :func:`~optuna.trial.Trial.suggest_float` instead.\n",
            "\n",
            "\u001b[32m[I 2022-09-20 02:42:14,981]\u001b[0m Trial 18 finished with value: 0.6368421052631579 and parameters: {'n_estimators': 20, 'max_depth': 2.045242213082446}. Best is trial 14 with value: 0.6878947368421052.\u001b[0m\n",
            "/usr/local/lib/python3.7/dist-packages/ipykernel_launcher.py:24: FutureWarning:\n",
            "\n",
            "suggest_loguniform has been deprecated in v3.0.0. This feature will be removed in v6.0.0. See https://github.com/optuna/optuna/releases/tag/v3.0.0. Use :func:`~optuna.trial.Trial.suggest_float` instead.\n",
            "\n",
            "\u001b[32m[I 2022-09-20 02:42:15,099]\u001b[0m Trial 19 finished with value: 0.6168421052631579 and parameters: {'n_estimators': 14, 'max_depth': 4.302856403952811}. Best is trial 14 with value: 0.6878947368421052.\u001b[0m\n",
            "/usr/local/lib/python3.7/dist-packages/ipykernel_launcher.py:24: FutureWarning:\n",
            "\n",
            "suggest_loguniform has been deprecated in v3.0.0. This feature will be removed in v6.0.0. See https://github.com/optuna/optuna/releases/tag/v3.0.0. Use :func:`~optuna.trial.Trial.suggest_float` instead.\n",
            "\n",
            "\u001b[32m[I 2022-09-20 02:42:15,182]\u001b[0m Trial 20 finished with value: 0.6868421052631579 and parameters: {'n_estimators': 6, 'max_depth': 1.0274072366868487}. Best is trial 14 with value: 0.6878947368421052.\u001b[0m\n",
            "/usr/local/lib/python3.7/dist-packages/ipykernel_launcher.py:24: FutureWarning:\n",
            "\n",
            "suggest_loguniform has been deprecated in v3.0.0. This feature will be removed in v6.0.0. See https://github.com/optuna/optuna/releases/tag/v3.0.0. Use :func:`~optuna.trial.Trial.suggest_float` instead.\n",
            "\n",
            "\u001b[32m[I 2022-09-20 02:42:15,254]\u001b[0m Trial 21 finished with value: 0.6357894736842106 and parameters: {'n_estimators': 5, 'max_depth': 1.0923964213284993}. Best is trial 14 with value: 0.6878947368421052.\u001b[0m\n",
            "/usr/local/lib/python3.7/dist-packages/ipykernel_launcher.py:24: FutureWarning:\n",
            "\n",
            "suggest_loguniform has been deprecated in v3.0.0. This feature will be removed in v6.0.0. See https://github.com/optuna/optuna/releases/tag/v3.0.0. Use :func:`~optuna.trial.Trial.suggest_float` instead.\n",
            "\n",
            "\u001b[32m[I 2022-09-20 02:42:15,336]\u001b[0m Trial 22 finished with value: 0.6257894736842105 and parameters: {'n_estimators': 7, 'max_depth': 2.0752581146773825}. Best is trial 14 with value: 0.6878947368421052.\u001b[0m\n",
            "/usr/local/lib/python3.7/dist-packages/ipykernel_launcher.py:24: FutureWarning:\n",
            "\n",
            "suggest_loguniform has been deprecated in v3.0.0. This feature will be removed in v6.0.0. See https://github.com/optuna/optuna/releases/tag/v3.0.0. Use :func:`~optuna.trial.Trial.suggest_float` instead.\n",
            "\n",
            "\u001b[32m[I 2022-09-20 02:42:15,399]\u001b[0m Trial 23 finished with value: 0.5663157894736843 and parameters: {'n_estimators': 4, 'max_depth': 1.0152753022372645}. Best is trial 14 with value: 0.6878947368421052.\u001b[0m\n",
            "/usr/local/lib/python3.7/dist-packages/ipykernel_launcher.py:24: FutureWarning:\n",
            "\n",
            "suggest_loguniform has been deprecated in v3.0.0. This feature will be removed in v6.0.0. See https://github.com/optuna/optuna/releases/tag/v3.0.0. Use :func:`~optuna.trial.Trial.suggest_float` instead.\n",
            "\n",
            "\u001b[32m[I 2022-09-20 02:42:15,477]\u001b[0m Trial 24 finished with value: 0.5847368421052632 and parameters: {'n_estimators': 7, 'max_depth': 9.17088485730521}. Best is trial 14 with value: 0.6878947368421052.\u001b[0m\n",
            "/usr/local/lib/python3.7/dist-packages/ipykernel_launcher.py:24: FutureWarning:\n",
            "\n",
            "suggest_loguniform has been deprecated in v3.0.0. This feature will be removed in v6.0.0. See https://github.com/optuna/optuna/releases/tag/v3.0.0. Use :func:`~optuna.trial.Trial.suggest_float` instead.\n",
            "\n",
            "\u001b[32m[I 2022-09-20 02:42:15,562]\u001b[0m Trial 25 finished with value: 0.6273684210526317 and parameters: {'n_estimators': 9, 'max_depth': 2.0528265060126074}. Best is trial 14 with value: 0.6878947368421052.\u001b[0m\n",
            "/usr/local/lib/python3.7/dist-packages/ipykernel_launcher.py:24: FutureWarning:\n",
            "\n",
            "suggest_loguniform has been deprecated in v3.0.0. This feature will be removed in v6.0.0. See https://github.com/optuna/optuna/releases/tag/v3.0.0. Use :func:`~optuna.trial.Trial.suggest_float` instead.\n",
            "\n",
            "\u001b[32m[I 2022-09-20 02:42:15,694]\u001b[0m Trial 26 finished with value: 0.5652631578947368 and parameters: {'n_estimators': 18, 'max_depth': 4.115344870095987}. Best is trial 14 with value: 0.6878947368421052.\u001b[0m\n",
            "/usr/local/lib/python3.7/dist-packages/ipykernel_launcher.py:24: FutureWarning:\n",
            "\n",
            "suggest_loguniform has been deprecated in v3.0.0. This feature will be removed in v6.0.0. See https://github.com/optuna/optuna/releases/tag/v3.0.0. Use :func:`~optuna.trial.Trial.suggest_float` instead.\n",
            "\n",
            "\u001b[32m[I 2022-09-20 02:42:15,751]\u001b[0m Trial 27 finished with value: 0.5363157894736842 and parameters: {'n_estimators': 3, 'max_depth': 21.643471987806056}. Best is trial 14 with value: 0.6878947368421052.\u001b[0m\n",
            "/usr/local/lib/python3.7/dist-packages/ipykernel_launcher.py:24: FutureWarning:\n",
            "\n",
            "suggest_loguniform has been deprecated in v3.0.0. This feature will be removed in v6.0.0. See https://github.com/optuna/optuna/releases/tag/v3.0.0. Use :func:`~optuna.trial.Trial.suggest_float` instead.\n",
            "\n",
            "\u001b[32m[I 2022-09-20 02:42:15,857]\u001b[0m Trial 28 finished with value: 0.6663157894736841 and parameters: {'n_estimators': 14, 'max_depth': 7.368187499200997}. Best is trial 14 with value: 0.6878947368421052.\u001b[0m\n",
            "/usr/local/lib/python3.7/dist-packages/ipykernel_launcher.py:24: FutureWarning:\n",
            "\n",
            "suggest_loguniform has been deprecated in v3.0.0. This feature will be removed in v6.0.0. See https://github.com/optuna/optuna/releases/tag/v3.0.0. Use :func:`~optuna.trial.Trial.suggest_float` instead.\n",
            "\n",
            "\u001b[32m[I 2022-09-20 02:42:15,929]\u001b[0m Trial 29 finished with value: 0.5152631578947368 and parameters: {'n_estimators': 6, 'max_depth': 3.4018685325970996}. Best is trial 14 with value: 0.6878947368421052.\u001b[0m\n",
            "/usr/local/lib/python3.7/dist-packages/ipykernel_launcher.py:24: FutureWarning:\n",
            "\n",
            "suggest_loguniform has been deprecated in v3.0.0. This feature will be removed in v6.0.0. See https://github.com/optuna/optuna/releases/tag/v3.0.0. Use :func:`~optuna.trial.Trial.suggest_float` instead.\n",
            "\n",
            "\u001b[32m[I 2022-09-20 02:42:15,991]\u001b[0m Trial 30 finished with value: 0.6452631578947368 and parameters: {'n_estimators': 4, 'max_depth': 2.5068163006220794}. Best is trial 14 with value: 0.6878947368421052.\u001b[0m\n",
            "/usr/local/lib/python3.7/dist-packages/ipykernel_launcher.py:24: FutureWarning:\n",
            "\n",
            "suggest_loguniform has been deprecated in v3.0.0. This feature will be removed in v6.0.0. See https://github.com/optuna/optuna/releases/tag/v3.0.0. Use :func:`~optuna.trial.Trial.suggest_float` instead.\n",
            "\n",
            "\u001b[32m[I 2022-09-20 02:42:16,099]\u001b[0m Trial 31 finished with value: 0.5552631578947368 and parameters: {'n_estimators': 14, 'max_depth': 7.499102859496326}. Best is trial 14 with value: 0.6878947368421052.\u001b[0m\n",
            "/usr/local/lib/python3.7/dist-packages/ipykernel_launcher.py:24: FutureWarning:\n",
            "\n",
            "suggest_loguniform has been deprecated in v3.0.0. This feature will be removed in v6.0.0. See https://github.com/optuna/optuna/releases/tag/v3.0.0. Use :func:`~optuna.trial.Trial.suggest_float` instead.\n",
            "\n",
            "\u001b[32m[I 2022-09-20 02:42:16,222]\u001b[0m Trial 32 finished with value: 0.5952631578947368 and parameters: {'n_estimators': 15, 'max_depth': 10.177281166309564}. Best is trial 14 with value: 0.6878947368421052.\u001b[0m\n",
            "/usr/local/lib/python3.7/dist-packages/ipykernel_launcher.py:24: FutureWarning:\n",
            "\n",
            "suggest_loguniform has been deprecated in v3.0.0. This feature will be removed in v6.0.0. See https://github.com/optuna/optuna/releases/tag/v3.0.0. Use :func:`~optuna.trial.Trial.suggest_float` instead.\n",
            "\n",
            "\u001b[32m[I 2022-09-20 02:42:16,350]\u001b[0m Trial 33 finished with value: 0.5957894736842105 and parameters: {'n_estimators': 18, 'max_depth': 5.306395251370782}. Best is trial 14 with value: 0.6878947368421052.\u001b[0m\n",
            "/usr/local/lib/python3.7/dist-packages/ipykernel_launcher.py:24: FutureWarning:\n",
            "\n",
            "suggest_loguniform has been deprecated in v3.0.0. This feature will be removed in v6.0.0. See https://github.com/optuna/optuna/releases/tag/v3.0.0. Use :func:`~optuna.trial.Trial.suggest_float` instead.\n",
            "\n",
            "\u001b[32m[I 2022-09-20 02:42:16,468]\u001b[0m Trial 34 finished with value: 0.6368421052631579 and parameters: {'n_estimators': 12, 'max_depth': 5.634289962450389}. Best is trial 14 with value: 0.6878947368421052.\u001b[0m\n",
            "/usr/local/lib/python3.7/dist-packages/ipykernel_launcher.py:24: FutureWarning:\n",
            "\n",
            "suggest_loguniform has been deprecated in v3.0.0. This feature will be removed in v6.0.0. See https://github.com/optuna/optuna/releases/tag/v3.0.0. Use :func:`~optuna.trial.Trial.suggest_float` instead.\n",
            "\n",
            "\u001b[32m[I 2022-09-20 02:42:16,557]\u001b[0m Trial 35 finished with value: 0.5952631578947368 and parameters: {'n_estimators': 9, 'max_depth': 18.21365545101504}. Best is trial 14 with value: 0.6878947368421052.\u001b[0m\n",
            "/usr/local/lib/python3.7/dist-packages/ipykernel_launcher.py:24: FutureWarning:\n",
            "\n",
            "suggest_loguniform has been deprecated in v3.0.0. This feature will be removed in v6.0.0. See https://github.com/optuna/optuna/releases/tag/v3.0.0. Use :func:`~optuna.trial.Trial.suggest_float` instead.\n",
            "\n",
            "\u001b[32m[I 2022-09-20 02:42:16,681]\u001b[0m Trial 36 finished with value: 0.5752631578947367 and parameters: {'n_estimators': 17, 'max_depth': 6.774985687353225}. Best is trial 14 with value: 0.6878947368421052.\u001b[0m\n",
            "/usr/local/lib/python3.7/dist-packages/ipykernel_launcher.py:24: FutureWarning:\n",
            "\n",
            "suggest_loguniform has been deprecated in v3.0.0. This feature will be removed in v6.0.0. See https://github.com/optuna/optuna/releases/tag/v3.0.0. Use :func:`~optuna.trial.Trial.suggest_float` instead.\n",
            "\n",
            "\u001b[32m[I 2022-09-20 02:42:16,775]\u001b[0m Trial 37 finished with value: 0.6052631578947368 and parameters: {'n_estimators': 11, 'max_depth': 10.66006645344402}. Best is trial 14 with value: 0.6878947368421052.\u001b[0m\n",
            "/usr/local/lib/python3.7/dist-packages/ipykernel_launcher.py:24: FutureWarning:\n",
            "\n",
            "suggest_loguniform has been deprecated in v3.0.0. This feature will be removed in v6.0.0. See https://github.com/optuna/optuna/releases/tag/v3.0.0. Use :func:`~optuna.trial.Trial.suggest_float` instead.\n",
            "\n",
            "\u001b[32m[I 2022-09-20 02:42:16,878]\u001b[0m Trial 38 finished with value: 0.5752631578947368 and parameters: {'n_estimators': 13, 'max_depth': 7.453499616734152}. Best is trial 14 with value: 0.6878947368421052.\u001b[0m\n",
            "/usr/local/lib/python3.7/dist-packages/ipykernel_launcher.py:24: FutureWarning:\n",
            "\n",
            "suggest_loguniform has been deprecated in v3.0.0. This feature will be removed in v6.0.0. See https://github.com/optuna/optuna/releases/tag/v3.0.0. Use :func:`~optuna.trial.Trial.suggest_float` instead.\n",
            "\n",
            "\u001b[32m[I 2022-09-20 02:42:16,975]\u001b[0m Trial 39 finished with value: 0.5852631578947368 and parameters: {'n_estimators': 10, 'max_depth': 1.6466352259944004}. Best is trial 14 with value: 0.6878947368421052.\u001b[0m\n",
            "/usr/local/lib/python3.7/dist-packages/ipykernel_launcher.py:24: FutureWarning:\n",
            "\n",
            "suggest_loguniform has been deprecated in v3.0.0. This feature will be removed in v6.0.0. See https://github.com/optuna/optuna/releases/tag/v3.0.0. Use :func:`~optuna.trial.Trial.suggest_float` instead.\n",
            "\n",
            "\u001b[32m[I 2022-09-20 02:42:17,057]\u001b[0m Trial 40 finished with value: 0.6473684210526316 and parameters: {'n_estimators': 8, 'max_depth': 1.1957517750070497}. Best is trial 14 with value: 0.6878947368421052.\u001b[0m\n",
            "/usr/local/lib/python3.7/dist-packages/ipykernel_launcher.py:24: FutureWarning:\n",
            "\n",
            "suggest_loguniform has been deprecated in v3.0.0. This feature will be removed in v6.0.0. See https://github.com/optuna/optuna/releases/tag/v3.0.0. Use :func:`~optuna.trial.Trial.suggest_float` instead.\n",
            "\n",
            "\u001b[32m[I 2022-09-20 02:42:17,115]\u001b[0m Trial 41 finished with value: 0.6663157894736843 and parameters: {'n_estimators': 3, 'max_depth': 12.449771489151084}. Best is trial 14 with value: 0.6878947368421052.\u001b[0m\n",
            "/usr/local/lib/python3.7/dist-packages/ipykernel_launcher.py:24: FutureWarning:\n",
            "\n",
            "suggest_loguniform has been deprecated in v3.0.0. This feature will be removed in v6.0.0. See https://github.com/optuna/optuna/releases/tag/v3.0.0. Use :func:`~optuna.trial.Trial.suggest_float` instead.\n",
            "\n",
            "\u001b[32m[I 2022-09-20 02:42:17,175]\u001b[0m Trial 42 finished with value: 0.5757894736842105 and parameters: {'n_estimators': 3, 'max_depth': 11.633770880811042}. Best is trial 14 with value: 0.6878947368421052.\u001b[0m\n",
            "/usr/local/lib/python3.7/dist-packages/ipykernel_launcher.py:24: FutureWarning:\n",
            "\n",
            "suggest_loguniform has been deprecated in v3.0.0. This feature will be removed in v6.0.0. See https://github.com/optuna/optuna/releases/tag/v3.0.0. Use :func:`~optuna.trial.Trial.suggest_float` instead.\n",
            "\n",
            "\u001b[32m[I 2022-09-20 02:42:17,234]\u001b[0m Trial 43 finished with value: 0.5763157894736842 and parameters: {'n_estimators': 3, 'max_depth': 16.330970761088803}. Best is trial 14 with value: 0.6878947368421052.\u001b[0m\n",
            "/usr/local/lib/python3.7/dist-packages/ipykernel_launcher.py:24: FutureWarning:\n",
            "\n",
            "suggest_loguniform has been deprecated in v3.0.0. This feature will be removed in v6.0.0. See https://github.com/optuna/optuna/releases/tag/v3.0.0. Use :func:`~optuna.trial.Trial.suggest_float` instead.\n",
            "\n",
            "\u001b[32m[I 2022-09-20 02:42:17,291]\u001b[0m Trial 44 finished with value: 0.5852631578947369 and parameters: {'n_estimators': 2, 'max_depth': 8.55611878221276}. Best is trial 14 with value: 0.6878947368421052.\u001b[0m\n",
            "/usr/local/lib/python3.7/dist-packages/ipykernel_launcher.py:24: FutureWarning:\n",
            "\n",
            "suggest_loguniform has been deprecated in v3.0.0. This feature will be removed in v6.0.0. See https://github.com/optuna/optuna/releases/tag/v3.0.0. Use :func:`~optuna.trial.Trial.suggest_float` instead.\n",
            "\n",
            "\u001b[32m[I 2022-09-20 02:42:17,355]\u001b[0m Trial 45 finished with value: 0.6063157894736841 and parameters: {'n_estimators': 4, 'max_depth': 12.886531854388828}. Best is trial 14 with value: 0.6878947368421052.\u001b[0m\n",
            "/usr/local/lib/python3.7/dist-packages/ipykernel_launcher.py:24: FutureWarning:\n",
            "\n",
            "suggest_loguniform has been deprecated in v3.0.0. This feature will be removed in v6.0.0. See https://github.com/optuna/optuna/releases/tag/v3.0.0. Use :func:`~optuna.trial.Trial.suggest_float` instead.\n",
            "\n",
            "\u001b[32m[I 2022-09-20 02:42:17,427]\u001b[0m Trial 46 finished with value: 0.5663157894736843 and parameters: {'n_estimators': 6, 'max_depth': 5.132274494569048}. Best is trial 14 with value: 0.6878947368421052.\u001b[0m\n",
            "/usr/local/lib/python3.7/dist-packages/ipykernel_launcher.py:24: FutureWarning:\n",
            "\n",
            "suggest_loguniform has been deprecated in v3.0.0. This feature will be removed in v6.0.0. See https://github.com/optuna/optuna/releases/tag/v3.0.0. Use :func:`~optuna.trial.Trial.suggest_float` instead.\n",
            "\n",
            "\u001b[32m[I 2022-09-20 02:42:17,541]\u001b[0m Trial 47 finished with value: 0.6257894736842105 and parameters: {'n_estimators': 14, 'max_depth': 6.722907158068794}. Best is trial 14 with value: 0.6878947368421052.\u001b[0m\n",
            "/usr/local/lib/python3.7/dist-packages/ipykernel_launcher.py:24: FutureWarning:\n",
            "\n",
            "suggest_loguniform has been deprecated in v3.0.0. This feature will be removed in v6.0.0. See https://github.com/optuna/optuna/releases/tag/v3.0.0. Use :func:`~optuna.trial.Trial.suggest_float` instead.\n",
            "\n",
            "\u001b[32m[I 2022-09-20 02:42:17,598]\u001b[0m Trial 48 finished with value: 0.5852631578947368 and parameters: {'n_estimators': 2, 'max_depth': 3.7362405874310176}. Best is trial 14 with value: 0.6878947368421052.\u001b[0m\n",
            "/usr/local/lib/python3.7/dist-packages/ipykernel_launcher.py:24: FutureWarning:\n",
            "\n",
            "suggest_loguniform has been deprecated in v3.0.0. This feature will be removed in v6.0.0. See https://github.com/optuna/optuna/releases/tag/v3.0.0. Use :func:`~optuna.trial.Trial.suggest_float` instead.\n",
            "\n",
            "\u001b[32m[I 2022-09-20 02:42:17,710]\u001b[0m Trial 49 finished with value: 0.6352631578947369 and parameters: {'n_estimators': 15, 'max_depth': 2.6431137430271776}. Best is trial 14 with value: 0.6878947368421052.\u001b[0m\n",
            "/usr/local/lib/python3.7/dist-packages/ipykernel_launcher.py:24: FutureWarning:\n",
            "\n",
            "suggest_loguniform has been deprecated in v3.0.0. This feature will be removed in v6.0.0. See https://github.com/optuna/optuna/releases/tag/v3.0.0. Use :func:`~optuna.trial.Trial.suggest_float` instead.\n",
            "\n",
            "\u001b[32m[I 2022-09-20 02:42:17,813]\u001b[0m Trial 50 finished with value: 0.6347368421052633 and parameters: {'n_estimators': 12, 'max_depth': 19.010725031286785}. Best is trial 14 with value: 0.6878947368421052.\u001b[0m\n",
            "/usr/local/lib/python3.7/dist-packages/ipykernel_launcher.py:24: FutureWarning:\n",
            "\n",
            "suggest_loguniform has been deprecated in v3.0.0. This feature will be removed in v6.0.0. See https://github.com/optuna/optuna/releases/tag/v3.0.0. Use :func:`~optuna.trial.Trial.suggest_float` instead.\n",
            "\n",
            "\u001b[32m[I 2022-09-20 02:42:17,871]\u001b[0m Trial 51 finished with value: 0.5947368421052632 and parameters: {'n_estimators': 3, 'max_depth': 13.402453716263578}. Best is trial 14 with value: 0.6878947368421052.\u001b[0m\n",
            "/usr/local/lib/python3.7/dist-packages/ipykernel_launcher.py:24: FutureWarning:\n",
            "\n",
            "suggest_loguniform has been deprecated in v3.0.0. This feature will be removed in v6.0.0. See https://github.com/optuna/optuna/releases/tag/v3.0.0. Use :func:`~optuna.trial.Trial.suggest_float` instead.\n",
            "\n",
            "\u001b[32m[I 2022-09-20 02:42:17,927]\u001b[0m Trial 52 finished with value: 0.6163157894736843 and parameters: {'n_estimators': 2, 'max_depth': 9.72833151919239}. Best is trial 14 with value: 0.6878947368421052.\u001b[0m\n",
            "/usr/local/lib/python3.7/dist-packages/ipykernel_launcher.py:24: FutureWarning:\n",
            "\n",
            "suggest_loguniform has been deprecated in v3.0.0. This feature will be removed in v6.0.0. See https://github.com/optuna/optuna/releases/tag/v3.0.0. Use :func:`~optuna.trial.Trial.suggest_float` instead.\n",
            "\n",
            "\u001b[32m[I 2022-09-20 02:42:17,989]\u001b[0m Trial 53 finished with value: 0.5452631578947369 and parameters: {'n_estimators': 4, 'max_depth': 7.8311710797644}. Best is trial 14 with value: 0.6878947368421052.\u001b[0m\n",
            "/usr/local/lib/python3.7/dist-packages/ipykernel_launcher.py:24: FutureWarning:\n",
            "\n",
            "suggest_loguniform has been deprecated in v3.0.0. This feature will be removed in v6.0.0. See https://github.com/optuna/optuna/releases/tag/v3.0.0. Use :func:`~optuna.trial.Trial.suggest_float` instead.\n",
            "\n",
            "\u001b[32m[I 2022-09-20 02:42:18,058]\u001b[0m Trial 54 finished with value: 0.5242105263157895 and parameters: {'n_estimators': 5, 'max_depth': 15.73080765537754}. Best is trial 14 with value: 0.6878947368421052.\u001b[0m\n",
            "/usr/local/lib/python3.7/dist-packages/ipykernel_launcher.py:24: FutureWarning:\n",
            "\n",
            "suggest_loguniform has been deprecated in v3.0.0. This feature will be removed in v6.0.0. See https://github.com/optuna/optuna/releases/tag/v3.0.0. Use :func:`~optuna.trial.Trial.suggest_float` instead.\n",
            "\n",
            "\u001b[32m[I 2022-09-20 02:42:18,130]\u001b[0m Trial 55 finished with value: 0.6452631578947369 and parameters: {'n_estimators': 6, 'max_depth': 1.765947181358962}. Best is trial 14 with value: 0.6878947368421052.\u001b[0m\n",
            "/usr/local/lib/python3.7/dist-packages/ipykernel_launcher.py:24: FutureWarning:\n",
            "\n",
            "suggest_loguniform has been deprecated in v3.0.0. This feature will be removed in v6.0.0. See https://github.com/optuna/optuna/releases/tag/v3.0.0. Use :func:`~optuna.trial.Trial.suggest_float` instead.\n",
            "\n",
            "\u001b[32m[I 2022-09-20 02:42:18,194]\u001b[0m Trial 56 finished with value: 0.6463157894736842 and parameters: {'n_estimators': 2, 'max_depth': 1.3675560285559214}. Best is trial 14 with value: 0.6878947368421052.\u001b[0m\n",
            "/usr/local/lib/python3.7/dist-packages/ipykernel_launcher.py:24: FutureWarning:\n",
            "\n",
            "suggest_loguniform has been deprecated in v3.0.0. This feature will be removed in v6.0.0. See https://github.com/optuna/optuna/releases/tag/v3.0.0. Use :func:`~optuna.trial.Trial.suggest_float` instead.\n",
            "\n",
            "\u001b[32m[I 2022-09-20 02:42:18,254]\u001b[0m Trial 57 finished with value: 0.5857894736842104 and parameters: {'n_estimators': 3, 'max_depth': 12.448761741670134}. Best is trial 14 with value: 0.6878947368421052.\u001b[0m\n",
            "/usr/local/lib/python3.7/dist-packages/ipykernel_launcher.py:24: FutureWarning:\n",
            "\n",
            "suggest_loguniform has been deprecated in v3.0.0. This feature will be removed in v6.0.0. See https://github.com/optuna/optuna/releases/tag/v3.0.0. Use :func:`~optuna.trial.Trial.suggest_float` instead.\n",
            "\n",
            "\u001b[32m[I 2022-09-20 02:42:18,376]\u001b[0m Trial 58 finished with value: 0.6563157894736842 and parameters: {'n_estimators': 15, 'max_depth': 11.035983328192765}. Best is trial 14 with value: 0.6878947368421052.\u001b[0m\n",
            "/usr/local/lib/python3.7/dist-packages/ipykernel_launcher.py:24: FutureWarning:\n",
            "\n",
            "suggest_loguniform has been deprecated in v3.0.0. This feature will be removed in v6.0.0. See https://github.com/optuna/optuna/releases/tag/v3.0.0. Use :func:`~optuna.trial.Trial.suggest_float` instead.\n",
            "\n",
            "\u001b[32m[I 2022-09-20 02:42:18,482]\u001b[0m Trial 59 finished with value: 0.6263157894736843 and parameters: {'n_estimators': 13, 'max_depth': 8.54765041502622}. Best is trial 14 with value: 0.6878947368421052.\u001b[0m\n",
            "/usr/local/lib/python3.7/dist-packages/ipykernel_launcher.py:24: FutureWarning:\n",
            "\n",
            "suggest_loguniform has been deprecated in v3.0.0. This feature will be removed in v6.0.0. See https://github.com/optuna/optuna/releases/tag/v3.0.0. Use :func:`~optuna.trial.Trial.suggest_float` instead.\n",
            "\n",
            "\u001b[32m[I 2022-09-20 02:42:18,551]\u001b[0m Trial 60 finished with value: 0.5752631578947368 and parameters: {'n_estimators': 5, 'max_depth': 5.9665795795509196}. Best is trial 14 with value: 0.6878947368421052.\u001b[0m\n",
            "/usr/local/lib/python3.7/dist-packages/ipykernel_launcher.py:24: FutureWarning:\n",
            "\n",
            "suggest_loguniform has been deprecated in v3.0.0. This feature will be removed in v6.0.0. See https://github.com/optuna/optuna/releases/tag/v3.0.0. Use :func:`~optuna.trial.Trial.suggest_float` instead.\n",
            "\n",
            "\u001b[32m[I 2022-09-20 02:42:18,667]\u001b[0m Trial 61 finished with value: 0.5657894736842105 and parameters: {'n_estimators': 15, 'max_depth': 14.39009808000746}. Best is trial 14 with value: 0.6878947368421052.\u001b[0m\n",
            "/usr/local/lib/python3.7/dist-packages/ipykernel_launcher.py:24: FutureWarning:\n",
            "\n",
            "suggest_loguniform has been deprecated in v3.0.0. This feature will be removed in v6.0.0. See https://github.com/optuna/optuna/releases/tag/v3.0.0. Use :func:`~optuna.trial.Trial.suggest_float` instead.\n",
            "\n",
            "\u001b[32m[I 2022-09-20 02:42:18,785]\u001b[0m Trial 62 finished with value: 0.6157894736842106 and parameters: {'n_estimators': 17, 'max_depth': 10.771833596522159}. Best is trial 14 with value: 0.6878947368421052.\u001b[0m\n",
            "/usr/local/lib/python3.7/dist-packages/ipykernel_launcher.py:24: FutureWarning:\n",
            "\n",
            "suggest_loguniform has been deprecated in v3.0.0. This feature will be removed in v6.0.0. See https://github.com/optuna/optuna/releases/tag/v3.0.0. Use :func:`~optuna.trial.Trial.suggest_float` instead.\n",
            "\n",
            "\u001b[32m[I 2022-09-20 02:42:18,913]\u001b[0m Trial 63 finished with value: 0.5657894736842105 and parameters: {'n_estimators': 19, 'max_depth': 11.658879795626428}. Best is trial 14 with value: 0.6878947368421052.\u001b[0m\n",
            "/usr/local/lib/python3.7/dist-packages/ipykernel_launcher.py:24: FutureWarning:\n",
            "\n",
            "suggest_loguniform has been deprecated in v3.0.0. This feature will be removed in v6.0.0. See https://github.com/optuna/optuna/releases/tag/v3.0.0. Use :func:`~optuna.trial.Trial.suggest_float` instead.\n",
            "\n",
            "\u001b[32m[I 2022-09-20 02:42:19,033]\u001b[0m Trial 64 finished with value: 0.6157894736842106 and parameters: {'n_estimators': 16, 'max_depth': 24.62436896657301}. Best is trial 14 with value: 0.6878947368421052.\u001b[0m\n",
            "/usr/local/lib/python3.7/dist-packages/ipykernel_launcher.py:24: FutureWarning:\n",
            "\n",
            "suggest_loguniform has been deprecated in v3.0.0. This feature will be removed in v6.0.0. See https://github.com/optuna/optuna/releases/tag/v3.0.0. Use :func:`~optuna.trial.Trial.suggest_float` instead.\n",
            "\n",
            "\u001b[32m[I 2022-09-20 02:42:19,145]\u001b[0m Trial 65 finished with value: 0.6763157894736842 and parameters: {'n_estimators': 15, 'max_depth': 17.380151464597766}. Best is trial 14 with value: 0.6878947368421052.\u001b[0m\n",
            "/usr/local/lib/python3.7/dist-packages/ipykernel_launcher.py:24: FutureWarning:\n",
            "\n",
            "suggest_loguniform has been deprecated in v3.0.0. This feature will be removed in v6.0.0. See https://github.com/optuna/optuna/releases/tag/v3.0.0. Use :func:`~optuna.trial.Trial.suggest_float` instead.\n",
            "\n",
            "\u001b[32m[I 2022-09-20 02:42:19,267]\u001b[0m Trial 66 finished with value: 0.6052631578947368 and parameters: {'n_estimators': 14, 'max_depth': 17.567171323895305}. Best is trial 14 with value: 0.6878947368421052.\u001b[0m\n",
            "/usr/local/lib/python3.7/dist-packages/ipykernel_launcher.py:24: FutureWarning:\n",
            "\n",
            "suggest_loguniform has been deprecated in v3.0.0. This feature will be removed in v6.0.0. See https://github.com/optuna/optuna/releases/tag/v3.0.0. Use :func:`~optuna.trial.Trial.suggest_float` instead.\n",
            "\n",
            "\u001b[32m[I 2022-09-20 02:42:19,393]\u001b[0m Trial 67 finished with value: 0.6157894736842106 and parameters: {'n_estimators': 17, 'max_depth': 20.564787095410413}. Best is trial 14 with value: 0.6878947368421052.\u001b[0m\n",
            "/usr/local/lib/python3.7/dist-packages/ipykernel_launcher.py:24: FutureWarning:\n",
            "\n",
            "suggest_loguniform has been deprecated in v3.0.0. This feature will be removed in v6.0.0. See https://github.com/optuna/optuna/releases/tag/v3.0.0. Use :func:`~optuna.trial.Trial.suggest_float` instead.\n",
            "\n",
            "\u001b[32m[I 2022-09-20 02:42:19,457]\u001b[0m Trial 68 finished with value: 0.5657894736842105 and parameters: {'n_estimators': 4, 'max_depth': 23.99611987800579}. Best is trial 14 with value: 0.6878947368421052.\u001b[0m\n",
            "/usr/local/lib/python3.7/dist-packages/ipykernel_launcher.py:24: FutureWarning:\n",
            "\n",
            "suggest_loguniform has been deprecated in v3.0.0. This feature will be removed in v6.0.0. See https://github.com/optuna/optuna/releases/tag/v3.0.0. Use :func:`~optuna.trial.Trial.suggest_float` instead.\n",
            "\n",
            "\u001b[32m[I 2022-09-20 02:42:19,561]\u001b[0m Trial 69 finished with value: 0.6373684210526316 and parameters: {'n_estimators': 12, 'max_depth': 31.753494245812906}. Best is trial 14 with value: 0.6878947368421052.\u001b[0m\n",
            "/usr/local/lib/python3.7/dist-packages/ipykernel_launcher.py:24: FutureWarning:\n",
            "\n",
            "suggest_loguniform has been deprecated in v3.0.0. This feature will be removed in v6.0.0. See https://github.com/optuna/optuna/releases/tag/v3.0.0. Use :func:`~optuna.trial.Trial.suggest_float` instead.\n",
            "\n",
            "\u001b[32m[I 2022-09-20 02:42:19,683]\u001b[0m Trial 70 finished with value: 0.6163157894736843 and parameters: {'n_estimators': 16, 'max_depth': 4.636137306016215}. Best is trial 14 with value: 0.6878947368421052.\u001b[0m\n",
            "/usr/local/lib/python3.7/dist-packages/ipykernel_launcher.py:24: FutureWarning:\n",
            "\n",
            "suggest_loguniform has been deprecated in v3.0.0. This feature will be removed in v6.0.0. See https://github.com/optuna/optuna/releases/tag/v3.0.0. Use :func:`~optuna.trial.Trial.suggest_float` instead.\n",
            "\n",
            "\u001b[32m[I 2022-09-20 02:42:19,828]\u001b[0m Trial 71 finished with value: 0.5752631578947368 and parameters: {'n_estimators': 15, 'max_depth': 14.109809714441491}. Best is trial 14 with value: 0.6878947368421052.\u001b[0m\n",
            "/usr/local/lib/python3.7/dist-packages/ipykernel_launcher.py:24: FutureWarning:\n",
            "\n",
            "suggest_loguniform has been deprecated in v3.0.0. This feature will be removed in v6.0.0. See https://github.com/optuna/optuna/releases/tag/v3.0.0. Use :func:`~optuna.trial.Trial.suggest_float` instead.\n",
            "\n",
            "\u001b[32m[I 2022-09-20 02:42:19,937]\u001b[0m Trial 72 finished with value: 0.5763157894736842 and parameters: {'n_estimators': 13, 'max_depth': 9.851735817876552}. Best is trial 14 with value: 0.6878947368421052.\u001b[0m\n",
            "/usr/local/lib/python3.7/dist-packages/ipykernel_launcher.py:24: FutureWarning:\n",
            "\n",
            "suggest_loguniform has been deprecated in v3.0.0. This feature will be removed in v6.0.0. See https://github.com/optuna/optuna/releases/tag/v3.0.0. Use :func:`~optuna.trial.Trial.suggest_float` instead.\n",
            "\n",
            "\u001b[32m[I 2022-09-20 02:42:20,055]\u001b[0m Trial 73 finished with value: 0.6068421052631578 and parameters: {'n_estimators': 15, 'max_depth': 16.309056022977803}. Best is trial 14 with value: 0.6878947368421052.\u001b[0m\n",
            "/usr/local/lib/python3.7/dist-packages/ipykernel_launcher.py:24: FutureWarning:\n",
            "\n",
            "suggest_loguniform has been deprecated in v3.0.0. This feature will be removed in v6.0.0. See https://github.com/optuna/optuna/releases/tag/v3.0.0. Use :func:`~optuna.trial.Trial.suggest_float` instead.\n",
            "\n",
            "\u001b[32m[I 2022-09-20 02:42:20,149]\u001b[0m Trial 74 finished with value: 0.6152631578947367 and parameters: {'n_estimators': 10, 'max_depth': 11.29686037991754}. Best is trial 14 with value: 0.6878947368421052.\u001b[0m\n",
            "/usr/local/lib/python3.7/dist-packages/ipykernel_launcher.py:24: FutureWarning:\n",
            "\n",
            "suggest_loguniform has been deprecated in v3.0.0. This feature will be removed in v6.0.0. See https://github.com/optuna/optuna/releases/tag/v3.0.0. Use :func:`~optuna.trial.Trial.suggest_float` instead.\n",
            "\n",
            "\u001b[32m[I 2022-09-20 02:42:20,270]\u001b[0m Trial 75 finished with value: 0.6573684210526316 and parameters: {'n_estimators': 14, 'max_depth': 8.739885348176788}. Best is trial 14 with value: 0.6878947368421052.\u001b[0m\n",
            "/usr/local/lib/python3.7/dist-packages/ipykernel_launcher.py:24: FutureWarning:\n",
            "\n",
            "suggest_loguniform has been deprecated in v3.0.0. This feature will be removed in v6.0.0. See https://github.com/optuna/optuna/releases/tag/v3.0.0. Use :func:`~optuna.trial.Trial.suggest_float` instead.\n",
            "\n",
            "\u001b[32m[I 2022-09-20 02:42:20,386]\u001b[0m Trial 76 finished with value: 0.6157894736842106 and parameters: {'n_estimators': 14, 'max_depth': 6.562338127988066}. Best is trial 14 with value: 0.6878947368421052.\u001b[0m\n",
            "/usr/local/lib/python3.7/dist-packages/ipykernel_launcher.py:24: FutureWarning:\n",
            "\n",
            "suggest_loguniform has been deprecated in v3.0.0. This feature will be removed in v6.0.0. See https://github.com/optuna/optuna/releases/tag/v3.0.0. Use :func:`~optuna.trial.Trial.suggest_float` instead.\n",
            "\n",
            "\u001b[32m[I 2022-09-20 02:42:20,445]\u001b[0m Trial 77 finished with value: 0.6257894736842105 and parameters: {'n_estimators': 3, 'max_depth': 8.090471119429607}. Best is trial 14 with value: 0.6878947368421052.\u001b[0m\n",
            "/usr/local/lib/python3.7/dist-packages/ipykernel_launcher.py:24: FutureWarning:\n",
            "\n",
            "suggest_loguniform has been deprecated in v3.0.0. This feature will be removed in v6.0.0. See https://github.com/optuna/optuna/releases/tag/v3.0.0. Use :func:`~optuna.trial.Trial.suggest_float` instead.\n",
            "\n",
            "\u001b[32m[I 2022-09-20 02:42:20,549]\u001b[0m Trial 78 finished with value: 0.5947368421052632 and parameters: {'n_estimators': 13, 'max_depth': 9.327221591496928}. Best is trial 14 with value: 0.6878947368421052.\u001b[0m\n",
            "/usr/local/lib/python3.7/dist-packages/ipykernel_launcher.py:24: FutureWarning:\n",
            "\n",
            "suggest_loguniform has been deprecated in v3.0.0. This feature will be removed in v6.0.0. See https://github.com/optuna/optuna/releases/tag/v3.0.0. Use :func:`~optuna.trial.Trial.suggest_float` instead.\n",
            "\n",
            "\u001b[32m[I 2022-09-20 02:42:20,608]\u001b[0m Trial 79 finished with value: 0.6047368421052631 and parameters: {'n_estimators': 2, 'max_depth': 7.565390701230903}. Best is trial 14 with value: 0.6878947368421052.\u001b[0m\n",
            "/usr/local/lib/python3.7/dist-packages/ipykernel_launcher.py:24: FutureWarning:\n",
            "\n",
            "suggest_loguniform has been deprecated in v3.0.0. This feature will be removed in v6.0.0. See https://github.com/optuna/optuna/releases/tag/v3.0.0. Use :func:`~optuna.trial.Trial.suggest_float` instead.\n",
            "\n",
            "\u001b[32m[I 2022-09-20 02:42:20,719]\u001b[0m Trial 80 finished with value: 0.5842105263157895 and parameters: {'n_estimators': 14, 'max_depth': 12.537349239742172}. Best is trial 14 with value: 0.6878947368421052.\u001b[0m\n",
            "/usr/local/lib/python3.7/dist-packages/ipykernel_launcher.py:24: FutureWarning:\n",
            "\n",
            "suggest_loguniform has been deprecated in v3.0.0. This feature will be removed in v6.0.0. See https://github.com/optuna/optuna/releases/tag/v3.0.0. Use :func:`~optuna.trial.Trial.suggest_float` instead.\n",
            "\n",
            "\u001b[32m[I 2022-09-20 02:42:20,837]\u001b[0m Trial 81 finished with value: 0.6452631578947369 and parameters: {'n_estimators': 16, 'max_depth': 10.62532976394025}. Best is trial 14 with value: 0.6878947368421052.\u001b[0m\n",
            "/usr/local/lib/python3.7/dist-packages/ipykernel_launcher.py:24: FutureWarning:\n",
            "\n",
            "suggest_loguniform has been deprecated in v3.0.0. This feature will be removed in v6.0.0. See https://github.com/optuna/optuna/releases/tag/v3.0.0. Use :func:`~optuna.trial.Trial.suggest_float` instead.\n",
            "\n",
            "\u001b[32m[I 2022-09-20 02:42:20,915]\u001b[0m Trial 82 finished with value: 0.5663157894736843 and parameters: {'n_estimators': 8, 'max_depth': 9.17143329124823}. Best is trial 14 with value: 0.6878947368421052.\u001b[0m\n",
            "/usr/local/lib/python3.7/dist-packages/ipykernel_launcher.py:24: FutureWarning:\n",
            "\n",
            "suggest_loguniform has been deprecated in v3.0.0. This feature will be removed in v6.0.0. See https://github.com/optuna/optuna/releases/tag/v3.0.0. Use :func:`~optuna.trial.Trial.suggest_float` instead.\n",
            "\n",
            "\u001b[32m[I 2022-09-20 02:42:21,029]\u001b[0m Trial 83 finished with value: 0.6257894736842105 and parameters: {'n_estimators': 15, 'max_depth': 13.583048394212563}. Best is trial 14 with value: 0.6878947368421052.\u001b[0m\n",
            "/usr/local/lib/python3.7/dist-packages/ipykernel_launcher.py:24: FutureWarning:\n",
            "\n",
            "suggest_loguniform has been deprecated in v3.0.0. This feature will be removed in v6.0.0. See https://github.com/optuna/optuna/releases/tag/v3.0.0. Use :func:`~optuna.trial.Trial.suggest_float` instead.\n",
            "\n",
            "\u001b[32m[I 2022-09-20 02:42:21,149]\u001b[0m Trial 84 finished with value: 0.6463157894736842 and parameters: {'n_estimators': 16, 'max_depth': 2.3192508352307666}. Best is trial 14 with value: 0.6878947368421052.\u001b[0m\n",
            "/usr/local/lib/python3.7/dist-packages/ipykernel_launcher.py:24: FutureWarning:\n",
            "\n",
            "suggest_loguniform has been deprecated in v3.0.0. This feature will be removed in v6.0.0. See https://github.com/optuna/optuna/releases/tag/v3.0.0. Use :func:`~optuna.trial.Trial.suggest_float` instead.\n",
            "\n",
            "\u001b[32m[I 2022-09-20 02:42:21,292]\u001b[0m Trial 85 finished with value: 0.5852631578947368 and parameters: {'n_estimators': 18, 'max_depth': 6.36513350078238}. Best is trial 14 with value: 0.6878947368421052.\u001b[0m\n",
            "/usr/local/lib/python3.7/dist-packages/ipykernel_launcher.py:24: FutureWarning:\n",
            "\n",
            "suggest_loguniform has been deprecated in v3.0.0. This feature will be removed in v6.0.0. See https://github.com/optuna/optuna/releases/tag/v3.0.0. Use :func:`~optuna.trial.Trial.suggest_float` instead.\n",
            "\n",
            "\u001b[32m[I 2022-09-20 02:42:21,350]\u001b[0m Trial 86 finished with value: 0.6473684210526316 and parameters: {'n_estimators': 3, 'max_depth': 2.966913161196206}. Best is trial 14 with value: 0.6878947368421052.\u001b[0m\n",
            "/usr/local/lib/python3.7/dist-packages/ipykernel_launcher.py:24: FutureWarning:\n",
            "\n",
            "suggest_loguniform has been deprecated in v3.0.0. This feature will be removed in v6.0.0. See https://github.com/optuna/optuna/releases/tag/v3.0.0. Use :func:`~optuna.trial.Trial.suggest_float` instead.\n",
            "\n",
            "\u001b[32m[I 2022-09-20 02:42:21,461]\u001b[0m Trial 87 finished with value: 0.6668421052631579 and parameters: {'n_estimators': 14, 'max_depth': 15.770516201948574}. Best is trial 14 with value: 0.6878947368421052.\u001b[0m\n",
            "/usr/local/lib/python3.7/dist-packages/ipykernel_launcher.py:24: FutureWarning:\n",
            "\n",
            "suggest_loguniform has been deprecated in v3.0.0. This feature will be removed in v6.0.0. See https://github.com/optuna/optuna/releases/tag/v3.0.0. Use :func:`~optuna.trial.Trial.suggest_float` instead.\n",
            "\n",
            "\u001b[32m[I 2022-09-20 02:42:21,561]\u001b[0m Trial 88 finished with value: 0.6063157894736844 and parameters: {'n_estimators': 12, 'max_depth': 14.971338106082237}. Best is trial 14 with value: 0.6878947368421052.\u001b[0m\n",
            "/usr/local/lib/python3.7/dist-packages/ipykernel_launcher.py:24: FutureWarning:\n",
            "\n",
            "suggest_loguniform has been deprecated in v3.0.0. This feature will be removed in v6.0.0. See https://github.com/optuna/optuna/releases/tag/v3.0.0. Use :func:`~optuna.trial.Trial.suggest_float` instead.\n",
            "\n",
            "\u001b[32m[I 2022-09-20 02:42:21,650]\u001b[0m Trial 89 finished with value: 0.6473684210526316 and parameters: {'n_estimators': 10, 'max_depth': 19.953094489077294}. Best is trial 14 with value: 0.6878947368421052.\u001b[0m\n",
            "/usr/local/lib/python3.7/dist-packages/ipykernel_launcher.py:24: FutureWarning:\n",
            "\n",
            "suggest_loguniform has been deprecated in v3.0.0. This feature will be removed in v6.0.0. See https://github.com/optuna/optuna/releases/tag/v3.0.0. Use :func:`~optuna.trial.Trial.suggest_float` instead.\n",
            "\n",
            "\u001b[32m[I 2022-09-20 02:42:21,758]\u001b[0m Trial 90 finished with value: 0.5957894736842106 and parameters: {'n_estimators': 13, 'max_depth': 1.1959559169651004}. Best is trial 14 with value: 0.6878947368421052.\u001b[0m\n",
            "/usr/local/lib/python3.7/dist-packages/ipykernel_launcher.py:24: FutureWarning:\n",
            "\n",
            "suggest_loguniform has been deprecated in v3.0.0. This feature will be removed in v6.0.0. See https://github.com/optuna/optuna/releases/tag/v3.0.0. Use :func:`~optuna.trial.Trial.suggest_float` instead.\n",
            "\n",
            "\u001b[32m[I 2022-09-20 02:42:21,876]\u001b[0m Trial 91 finished with value: 0.6257894736842105 and parameters: {'n_estimators': 15, 'max_depth': 17.30892693218222}. Best is trial 14 with value: 0.6878947368421052.\u001b[0m\n",
            "/usr/local/lib/python3.7/dist-packages/ipykernel_launcher.py:24: FutureWarning:\n",
            "\n",
            "suggest_loguniform has been deprecated in v3.0.0. This feature will be removed in v6.0.0. See https://github.com/optuna/optuna/releases/tag/v3.0.0. Use :func:`~optuna.trial.Trial.suggest_float` instead.\n",
            "\n",
            "\u001b[32m[I 2022-09-20 02:42:21,988]\u001b[0m Trial 92 finished with value: 0.6468421052631579 and parameters: {'n_estimators': 14, 'max_depth': 7.236485842411882}. Best is trial 14 with value: 0.6878947368421052.\u001b[0m\n",
            "/usr/local/lib/python3.7/dist-packages/ipykernel_launcher.py:24: FutureWarning:\n",
            "\n",
            "suggest_loguniform has been deprecated in v3.0.0. This feature will be removed in v6.0.0. See https://github.com/optuna/optuna/releases/tag/v3.0.0. Use :func:`~optuna.trial.Trial.suggest_float` instead.\n",
            "\n",
            "\u001b[32m[I 2022-09-20 02:42:22,120]\u001b[0m Trial 93 finished with value: 0.5852631578947368 and parameters: {'n_estimators': 17, 'max_depth': 11.820644570386088}. Best is trial 14 with value: 0.6878947368421052.\u001b[0m\n",
            "/usr/local/lib/python3.7/dist-packages/ipykernel_launcher.py:24: FutureWarning:\n",
            "\n",
            "suggest_loguniform has been deprecated in v3.0.0. This feature will be removed in v6.0.0. See https://github.com/optuna/optuna/releases/tag/v3.0.0. Use :func:`~optuna.trial.Trial.suggest_float` instead.\n",
            "\n",
            "\u001b[32m[I 2022-09-20 02:42:22,173]\u001b[0m Trial 94 finished with value: 0.5457894736842106 and parameters: {'n_estimators': 2, 'max_depth': 8.456749901016098}. Best is trial 14 with value: 0.6878947368421052.\u001b[0m\n",
            "/usr/local/lib/python3.7/dist-packages/ipykernel_launcher.py:24: FutureWarning:\n",
            "\n",
            "suggest_loguniform has been deprecated in v3.0.0. This feature will be removed in v6.0.0. See https://github.com/optuna/optuna/releases/tag/v3.0.0. Use :func:`~optuna.trial.Trial.suggest_float` instead.\n",
            "\n",
            "\u001b[32m[I 2022-09-20 02:42:22,279]\u001b[0m Trial 95 finished with value: 0.6073684210526316 and parameters: {'n_estimators': 11, 'max_depth': 15.635742532430726}. Best is trial 14 with value: 0.6878947368421052.\u001b[0m\n",
            "/usr/local/lib/python3.7/dist-packages/ipykernel_launcher.py:24: FutureWarning:\n",
            "\n",
            "suggest_loguniform has been deprecated in v3.0.0. This feature will be removed in v6.0.0. See https://github.com/optuna/optuna/releases/tag/v3.0.0. Use :func:`~optuna.trial.Trial.suggest_float` instead.\n",
            "\n",
            "\u001b[32m[I 2022-09-20 02:42:22,394]\u001b[0m Trial 96 finished with value: 0.6873684210526316 and parameters: {'n_estimators': 14, 'max_depth': 10.448319762767857}. Best is trial 14 with value: 0.6878947368421052.\u001b[0m\n",
            "/usr/local/lib/python3.7/dist-packages/ipykernel_launcher.py:24: FutureWarning:\n",
            "\n",
            "suggest_loguniform has been deprecated in v3.0.0. This feature will be removed in v6.0.0. See https://github.com/optuna/optuna/releases/tag/v3.0.0. Use :func:`~optuna.trial.Trial.suggest_float` instead.\n",
            "\n",
            "\u001b[32m[I 2022-09-20 02:42:22,505]\u001b[0m Trial 97 finished with value: 0.6268421052631579 and parameters: {'n_estimators': 14, 'max_depth': 22.48725991702924}. Best is trial 14 with value: 0.6878947368421052.\u001b[0m\n",
            "/usr/local/lib/python3.7/dist-packages/ipykernel_launcher.py:24: FutureWarning:\n",
            "\n",
            "suggest_loguniform has been deprecated in v3.0.0. This feature will be removed in v6.0.0. See https://github.com/optuna/optuna/releases/tag/v3.0.0. Use :func:`~optuna.trial.Trial.suggest_float` instead.\n",
            "\n",
            "\u001b[32m[I 2022-09-20 02:42:22,568]\u001b[0m Trial 98 finished with value: 0.5852631578947368 and parameters: {'n_estimators': 4, 'max_depth': 10.171143276137698}. Best is trial 14 with value: 0.6878947368421052.\u001b[0m\n",
            "/usr/local/lib/python3.7/dist-packages/ipykernel_launcher.py:24: FutureWarning:\n",
            "\n",
            "suggest_loguniform has been deprecated in v3.0.0. This feature will be removed in v6.0.0. See https://github.com/optuna/optuna/releases/tag/v3.0.0. Use :func:`~optuna.trial.Trial.suggest_float` instead.\n",
            "\n",
            "\u001b[32m[I 2022-09-20 02:42:22,678]\u001b[0m Trial 99 finished with value: 0.5857894736842104 and parameters: {'n_estimators': 13, 'max_depth': 13.124562755783932}. Best is trial 14 with value: 0.6878947368421052.\u001b[0m\n"
          ]
        },
        {
          "output_type": "stream",
          "name": "stdout",
          "text": [
            "Accuracy: 0.6878947368421052\n",
            "TrainAccuracy: 0.9734513274336283\n",
            "Accuracy: 0.5517241379310345\n",
            "              precision    recall  f1-score   support\n",
            "\n",
            "         0.0       0.62      0.72      0.67        18\n",
            "         1.0       0.38      0.27      0.32        11\n",
            "\n",
            "    accuracy                           0.55        29\n",
            "   macro avg       0.50      0.50      0.49        29\n",
            "weighted avg       0.53      0.55      0.53        29\n",
            "\n",
            "フィーチャー名：      GM-CSFは出力データの結果に  17.68%関与しています\n",
            "フィーチャー名：        IL-6は出力データの結果に  17.86%関与しています\n",
            "フィーチャー名：         LDHは出力データの結果に  18.89%関与しています\n",
            "フィーチャー名：BAL(neutro-%)は出力データの結果に  19.36%関与しています\n",
            "フィーチャー名：       MMP-1は出力データの結果に  26.21%関与しています\n"
          ]
        }
      ]
    },
    {
      "cell_type": "markdown",
      "source": [
        "混同行列で予測結果を確認していきましょう。"
      ],
      "metadata": {
        "id": "6llkG1YFQCkt"
      }
    },
    {
      "cell_type": "code",
      "source": [
        "result = confusion_matrix(y_val, y_pred_op)\n",
        "print(\"Confusion Matrix:\")\n",
        "#confusion matrix\n",
        "labels = sorted(finalized_df_c['90day-mortality'].unique())\n",
        "ax = sns.heatmap(\n",
        "confusion_matrix(y_val, y_pred_op),\n",
        "annot=True,\n",
        "xticklabels=labels,\n",
        "yticklabels=labels\n",
        ")\n",
        "ax.set(xlabel='true label', ylabel='predicted label')"
      ],
      "metadata": {
        "colab": {
          "base_uri": "https://localhost:8080/",
          "height": 321
        },
        "id": "MPzMzoUeP-lX",
        "outputId": "6ccc920a-f6b0-4843-b721-678755d33116"
      },
      "execution_count": 22,
      "outputs": [
        {
          "output_type": "stream",
          "name": "stdout",
          "text": [
            "Confusion Matrix:\n"
          ]
        },
        {
          "output_type": "execute_result",
          "data": {
            "text/plain": [
              "[Text(30.5, 0.5, 'predicted label'), Text(0.5, 12.5, 'true label')]"
            ]
          },
          "metadata": {},
          "execution_count": 22
        },
        {
          "output_type": "display_data",
          "data": {
            "text/plain": [
              "<Figure size 432x288 with 2 Axes>"
            ],
            "image/png": "[encoded data removed]"
          },
          "metadata": {
            "needs_background": "light"
          }
        }
      ]
    },
    {
      "cell_type": "markdown",
      "source": [
        "## 学習モデルの保存"
      ],
      "metadata": {
        "id": "fKnMsr8TQGVe"
      }
    },
    {
      "cell_type": "markdown",
      "source": [
        "モデルは訓練中にも、訓練が終わったあとも保存できます。このことは、長い訓練時間を掛けなくても、やめたところから再開できるということを意味します。モデルが保存可能であることは、作ったモデルを他の人と共有できるということでもあります。\n",
        "\n",
        "保存方法としてはJoblibというSciPyのライブラリを使用します。JoblibはPythonのジョブをパイプライン処理するためのユーティリティを提供しています。NumPyデータ構造を効率的に利用するPythonオブジェクトの保存とロードを行うユーティリティを提供します。"
      ],
      "metadata": {
        "id": "g6xLU0oNQG6b"
      }
    },
    {
      "cell_type": "code",
      "source": [
        "# モデルを./outに保存\n",
        "filename = 'out/finalized_model_simplified.joblib'\n",
        "joblib.dump(rforest_model_forward_selection, filename)\n",
        "\n",
        "# モデルをGoogle Driveに保存\n",
        "!cp 'out/finalized_model_simplified.joblib' '/content/drive/MyDrive/shibaki_analysis'\n",
        "\n",
        "# モデルをGoogle Driveからロードしたい場合\n",
        "loaded_model_forward_selection = joblib.load(\"/content/drive/MyDrive/shibaki_analysis/finalized_model_simplified.joblib\")\n",
        "\n",
        "# テスト用データフレームから重要因子以外を取り除く\n",
        "X_test = X_test.drop(columns=[col for col in X_test.columns if col not in top_five_params])\n",
        "\n",
        "# 検証データにrforest_modelに.predict()関数を応用し、RFモデルがラベルを何個正確に予測出来たかを検証する\n",
        "y_pred_final = loaded_model_forward_selection.predict(X_test)\n",
        "\n",
        "#モデルを作成する段階でのモデルの識別精度\n",
        "trainaccuracy_random_forest_final = loaded_model_forward_selection.score(X_test, y_test)\n",
        "print('TrainAccuracy: {}'.format(trainaccuracy_random_forest_final))\n",
        "\n",
        "#作成したモデルに学習に使用していない評価用のデータセットを入力し精度を確認\n",
        "accuracy_random_forest_final = accuracy_score(y_test, y_pred_final)\n",
        "print('Accuracy: {}'.format(accuracy_random_forest_final))\n",
        "\n",
        "# 正確性の出力\n",
        "print(classification_report(y_test, y_pred_final))\n",
        "\n",
        "result = confusion_matrix(y_test, y_pred_final)\n",
        "print(\"Confusion Matrix:\")\n",
        "\n",
        "#confusion matrix\n",
        "labels = sorted(finalized_df_c['90day-mortality'].unique())\n",
        "ax = sns.heatmap(\n",
        "confusion_matrix(y_test, y_pred_final),\n",
        "annot=True,\n",
        "xticklabels=labels,\n",
        "yticklabels=labels\n",
        ")\n",
        "ax.set(xlabel='true label', ylabel='predicted label')"
      ],
      "metadata": {
        "colab": {
          "base_uri": "https://localhost:8080/",
          "height": 517
        },
        "id": "zc0l6wZVQJrO",
        "outputId": "2d2ba611-54ac-4538-d298-256377397195"
      },
      "execution_count": 23,
      "outputs": [
        {
          "output_type": "stream",
          "name": "stdout",
          "text": [
            "TrainAccuracy: 0.8888888888888888\n",
            "Accuracy: 0.8888888888888888\n",
            "              precision    recall  f1-score   support\n",
            "\n",
            "         0.0       0.88      1.00      0.94        15\n",
            "         1.0       1.00      0.33      0.50         3\n",
            "\n",
            "    accuracy                           0.89        18\n",
            "   macro avg       0.94      0.67      0.72        18\n",
            "weighted avg       0.90      0.89      0.86        18\n",
            "\n",
            "Confusion Matrix:\n"
          ]
        },
        {
          "output_type": "execute_result",
          "data": {
            "text/plain": [
              "[Text(30.5, 0.5, 'predicted label'), Text(0.5, 12.5, 'true label')]"
            ]
          },
          "metadata": {},
          "execution_count": 23
        },
        {
          "output_type": "display_data",
          "data": {
            "text/plain": [
              "<Figure size 432x288 with 2 Axes>"
            ],
            "image/png": "[encoded data removed]"
          },
          "metadata": {
            "needs_background": "light"
          }
        }
      ]
    },
    {
      "cell_type": "markdown",
      "source": [
        "## 終わりに"
      ],
      "metadata": {
        "id": "4rilDap8QLpU"
      }
    },
    {
      "cell_type": "markdown",
      "source": [
        "今研究では、和歌山医科大学の保有する、線維化を伴う間質性肺炎の急性増悪の多施設後ろ向き実態調査に登録された患者において急性増悪中に施行されたBAL液中のサイトカインやケモカインのデータを用いて、間質性肺炎の予後予測因子の抽出と予後予測に取り組みました。\n",
        "\n",
        "解析内容の要約は以下となります。\n",
        "1.   環境構築\n",
        "2.   データ前処理\n",
        "3.   RF解析モデル構築\n",
        "4.   妥当性の検証・ハイパーパラメーターチューニング\n",
        "5.   特徴量重要度の評価\n",
        "6.   特徴量重要の評価に基づきモデル再構築\n",
        "\n",
        "精度向上に向けて様々な手法を試してみましたが，今回のタスクにおいては，どの工夫が有効に働くか自明で無い場合がほとんどです．従って，試行錯誤を行いながら，その問題設定に適合するやり方を模索していく必要があります．\n",
        "\n",
        "さらなる取り組みとしては，例えば下記内容を検討する余地があります。\n",
        "\n",
        "\n",
        "* クラス不均衡データへの対応\n",
        "  - サンプリング\n",
        "      - 不均衡データセットからサンプリングを行い，クラス比率のバランスが取れたデータセットを作成．\n",
        "    - **Undersampling** : 大多数の正常サンプルを削減．\n",
        "    - **Oversampling**  : 少数の異常サンプルを水増し．  \n",
        "  - 損失関数の重み調整\n",
        "    - 正常サンプルを異常と誤分類した際のペナルティを小さく，異常サンプルを正常と誤分類した際のペナルティを大きくする．\n",
        "    - 例えば，サンプル数の存在比率の逆数を重みとして利用．\n",
        "  - 目的関数(損失関数)の変更\n",
        "    - 異常サンプルに対する予測スコアを向上させるような目的関数を導入．\n",
        "  - 異常検知\n",
        "    - 正常サンプルのデータ分布を仮定し，そこから十分に逸脱したサンプルを異常とみなす．\n",
        "\n",
        "* 前処理の工夫\n",
        "  - ラベルの追加\n",
        "    - 生存者・死者加えて，新たな目的関数を考慮する．\n",
        "  - ラベルの与え方の変更\n",
        "      * セグメント範囲内に正常以外のピークラベルが含まれる場合に優先的にそのラベルを付与する，等．\n",
        "\n",
        "* モデルの変更等\n",
        "  - ランダムフォレスト以外の機械学習モデルを導入する\n"
      ],
      "metadata": {
        "id": "nf5UES9wQLis"
      }
    }
  ]
}