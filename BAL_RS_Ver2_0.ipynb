{
  "nbformat": 4,
  "nbformat_minor": 0,
  "metadata": {
    "colab": {
      "name": "BAL_RS_Ver2.0",
      "provenance": [],
      "collapsed_sections": [],
      "authorship_tag": "ABX9TyN0m23qjdAhgyb+fDKXJ25V",
      "include_colab_link": true
    },
    "kernelspec": {
      "name": "python3",
      "display_name": "Python 3"
    },
    "language_info": {
      "name": "python"
    },
    "accelerator": "GPU"
  },
  "cells": [
    {
      "cell_type": "markdown",
      "metadata": {
        "id": "view-in-github",
        "colab_type": "text"
      },
      "source": [
        "<a href=\"https://colab.research.google.com/github/staniya/shibaki-RF-analysis/blob/main/BAL_RS_Ver2_0.ipynb\" target=\"_parent\"><img src=\"https://colab.research.google.com/assets/colab-badge.svg\" alt=\"Open In Colab\"/></a>"
      ]
    },
    {
      "cell_type": "markdown",
      "source": [
        "# 間質性肺炎の予後予測因子の抽出と予後予測のランダムフォレストモデル"
      ],
      "metadata": {
        "id": "CTHOUNH1uq_p"
      }
    },
    {
      "cell_type": "markdown",
      "source": [
        "**TODO: 柴木様**\n",
        "\n",
        "下記に加え、図表などで今回の解析内容の説明\n",
        "\n",
        "線維化を伴う間質性肺炎の急性増悪の多施設後ろ向き実態調査に付随した研究として、予後予測因子の抽出と予後予測の新規モデルを作成します。和歌山医科大学の保有する、線維化を伴う間質性肺炎の急性増悪の多施設後ろ向き実態調査に登録された患者において急性増悪中に施行されたBAL液中のサイトカインやケモカインのデータを用いて、間質性肺炎の予後予測因子の抽出と予後予測の新規モデルを作成します。\n",
        "\n",
        "今回の解析はは分類問題であるため、ランダムフォレスト分類器が使用されます。Scikit-learnライブラリから、RandomForestClassifierを持つアンサンブルパッケージが使用されます。ランダムフォレストは、平均化を使用して予測精度を向上させ、特定のデータセットのさまざまなサブサンプルに多数の決定木分類器を適合させることで過剰適合を制御するメタ推定量です。"
      ],
      "metadata": {
        "id": "1vu98ohVvxdE"
      }
    },
    {
      "cell_type": "markdown",
      "source": [
        "## 環境構築"
      ],
      "metadata": {
        "id": "tSsbBF5Jv-Bp"
      }
    },
    {
      "cell_type": "markdown",
      "source": [
        "本章では、下記のライブラリを利用します。"
      ],
      "metadata": {
        "id": "VOY7BGQywFZy"
      }
    },
    {
      "cell_type": "markdown",
      "source": [
        "*  Collections  \n",
        "*  Data Synthesizer\n",
        "*  Google Colab\n",
        "*  Joblib\n",
        "*  Matplotlib\n",
        "*  Numpy\n",
        "*  Optuna\n",
        "*  os\n",
        "*  Pandas\n",
        "*  Seaborn\n",
        "*  Scikit-learn\n",
        "*  sys\n",
        "*  TensorFlow\n"
      ],
      "metadata": {
        "id": "dKVIvrFCwLtH"
      }
    },
    {
      "cell_type": "markdown",
      "source": [
        "以下のセルを実行（Shift + Enter)して必要なライブラリをインストールして下さい。"
      ],
      "metadata": {
        "id": "3ZMH5Zwlx0V8"
      }
    },
    {
      "cell_type": "code",
      "source": [
        "!python -m pip install openpyxl==3.0\n",
        "!pip install -q DataSynthesizer\n",
        "!pip install optuna\n",
        "!apt-get install tree"
      ],
      "metadata": {
        "colab": {
          "base_uri": "https://localhost:8080/"
        },
        "id": "7Dylx1ljwTQ1",
        "outputId": "503c5bc3-e6f6-40cc-f3aa-61e6ffc21f49"
      },
      "execution_count": 1,
      "outputs": [
        {
          "output_type": "stream",
          "name": "stdout",
          "text": [
            "Requirement already satisfied: openpyxl==3.0 in /usr/local/lib/python3.7/dist-packages (3.0.0)\n",
            "Requirement already satisfied: et-xmlfile in /usr/local/lib/python3.7/dist-packages (from openpyxl==3.0) (1.1.0)\n",
            "Requirement already satisfied: jdcal in /usr/local/lib/python3.7/dist-packages (from openpyxl==3.0) (1.4.1)\n",
            "Requirement already satisfied: optuna in /usr/local/lib/python3.7/dist-packages (2.10.0)\n",
            "Requirement already satisfied: sqlalchemy>=1.1.0 in /usr/local/lib/python3.7/dist-packages (from optuna) (1.4.32)\n",
            "Requirement already satisfied: PyYAML in /usr/local/lib/python3.7/dist-packages (from optuna) (3.13)\n",
            "Requirement already satisfied: cliff in /usr/local/lib/python3.7/dist-packages (from optuna) (3.10.1)\n",
            "Requirement already satisfied: alembic in /usr/local/lib/python3.7/dist-packages (from optuna) (1.7.7)\n",
            "Requirement already satisfied: colorlog in /usr/local/lib/python3.7/dist-packages (from optuna) (6.6.0)\n",
            "Requirement already satisfied: cmaes>=0.8.2 in /usr/local/lib/python3.7/dist-packages (from optuna) (0.8.2)\n",
            "Requirement already satisfied: packaging>=20.0 in /usr/local/lib/python3.7/dist-packages (from optuna) (21.3)\n",
            "Requirement already satisfied: tqdm in /usr/local/lib/python3.7/dist-packages (from optuna) (4.63.0)\n",
            "Requirement already satisfied: scipy!=1.4.0 in /usr/local/lib/python3.7/dist-packages (from optuna) (1.4.1)\n",
            "Requirement already satisfied: numpy in /usr/local/lib/python3.7/dist-packages (from optuna) (1.21.5)\n",
            "Requirement already satisfied: pyparsing!=3.0.5,>=2.0.2 in /usr/local/lib/python3.7/dist-packages (from packaging>=20.0->optuna) (3.0.7)\n",
            "Requirement already satisfied: importlib-metadata in /usr/local/lib/python3.7/dist-packages (from sqlalchemy>=1.1.0->optuna) (4.11.3)\n",
            "Requirement already satisfied: greenlet!=0.4.17 in /usr/local/lib/python3.7/dist-packages (from sqlalchemy>=1.1.0->optuna) (1.1.2)\n",
            "Requirement already satisfied: importlib-resources in /usr/local/lib/python3.7/dist-packages (from alembic->optuna) (5.4.0)\n",
            "Requirement already satisfied: Mako in /usr/local/lib/python3.7/dist-packages (from alembic->optuna) (1.2.0)\n",
            "Requirement already satisfied: cmd2>=1.0.0 in /usr/local/lib/python3.7/dist-packages (from cliff->optuna) (2.4.0)\n",
            "Requirement already satisfied: stevedore>=2.0.1 in /usr/local/lib/python3.7/dist-packages (from cliff->optuna) (3.5.0)\n",
            "Requirement already satisfied: pbr!=2.1.0,>=2.0.0 in /usr/local/lib/python3.7/dist-packages (from cliff->optuna) (5.8.1)\n",
            "Requirement already satisfied: PrettyTable>=0.7.2 in /usr/local/lib/python3.7/dist-packages (from cliff->optuna) (3.2.0)\n",
            "Requirement already satisfied: autopage>=0.4.0 in /usr/local/lib/python3.7/dist-packages (from cliff->optuna) (0.5.0)\n",
            "Requirement already satisfied: wcwidth>=0.1.7 in /usr/local/lib/python3.7/dist-packages (from cmd2>=1.0.0->cliff->optuna) (0.2.5)\n",
            "Requirement already satisfied: pyperclip>=1.6 in /usr/local/lib/python3.7/dist-packages (from cmd2>=1.0.0->cliff->optuna) (1.8.2)\n",
            "Requirement already satisfied: attrs>=16.3.0 in /usr/local/lib/python3.7/dist-packages (from cmd2>=1.0.0->cliff->optuna) (21.4.0)\n",
            "Requirement already satisfied: typing-extensions in /usr/local/lib/python3.7/dist-packages (from cmd2>=1.0.0->cliff->optuna) (3.10.0.2)\n",
            "Requirement already satisfied: zipp>=0.5 in /usr/local/lib/python3.7/dist-packages (from importlib-metadata->sqlalchemy>=1.1.0->optuna) (3.7.0)\n",
            "Requirement already satisfied: MarkupSafe>=0.9.2 in /usr/local/lib/python3.7/dist-packages (from Mako->alembic->optuna) (2.0.1)\n",
            "Reading package lists... Done\n",
            "Building dependency tree       \n",
            "Reading state information... Done\n",
            "tree is already the newest version (1.7.0-5).\n",
            "0 upgraded, 0 newly installed, 0 to remove and 39 not upgraded.\n"
          ]
        }
      ]
    },
    {
      "cell_type": "markdown",
      "source": [
        "インストールが完了したら以下のセルを実行して，各ライブラリのインポート，及びバージョン確認を行って下さい."
      ],
      "metadata": {
        "id": "ewBmARaZyKfw"
      }
    },
    {
      "cell_type": "code",
      "execution_count": 2,
      "metadata": {
        "colab": {
          "base_uri": "https://localhost:8080/"
        },
        "id": "f0TJsNytuc4F",
        "outputId": "d20ed5c8-a92e-497f-94b3-6f3be0328fec"
      },
      "outputs": [
        {
          "output_type": "stream",
          "name": "stdout",
          "text": [
            "Data Synthesizer:  0.1.11\n",
            "Google Colab Python: \n",
            "Python 3.7.13\n",
            "\n",
            "Joblib:  1.1.0\n",
            "Matplotlib:  3.2.2\n",
            "Numpy:  1.21.5\n",
            "Optuna:  2.10.0\n",
            "pandas:  1.3.5\n",
            "Seaborn:  0.11.2\n",
            "Scikit-learn:  1.0.2\n",
            "TensorFlow:  2.8.0\n"
          ]
        }
      ],
      "source": [
        "from collections import OrderedDict\n",
        "\n",
        "import DataSynthesizer\n",
        "from DataSynthesizer.DataDescriber import DataDescriber\n",
        "from DataSynthesizer.DataGenerator import DataGenerator\n",
        "from DataSynthesizer.ModelInspector import ModelInspector\n",
        "from DataSynthesizer.lib.utils import read_json_file, display_bayesian_network\n",
        "\n",
        "from google.colab import drive\n",
        "import joblib\n",
        "import matplotlib as mpl\n",
        "import matplotlib.pyplot as plt\n",
        "%matplotlib inline\n",
        "import numpy as np\n",
        "import optuna\n",
        "import os\n",
        "import pandas as pd\n",
        "import seaborn as sns\n",
        "\n",
        "import sklearn\n",
        "from sklearn import tree\n",
        "from sklearn import ensemble\n",
        "from sklearn.impute import SimpleImputer\n",
        "from sklearn.metrics import accuracy_score, confusion_matrix, classification_report\n",
        "from sklearn.model_selection import train_test_split, cross_val_score\n",
        "\n",
        "import sys\n",
        "sys.path.append('models')\n",
        "\n",
        "import tensorflow as tf\n",
        "\n",
        "print(\"Data Synthesizer: \", DataSynthesizer.__version__)\n",
        "print(\"Google Colab Python: \")\n",
        "!python --version\n",
        "print(\"\\nJoblib: \", joblib.__version__)\n",
        "print(\"Matplotlib: \", mpl.__version__)\n",
        "print(\"Numpy: \", np.__version__)\n",
        "print(\"Optuna: \", optuna.__version__)\n",
        "print(\"pandas: \", pd.__version__)\n",
        "print(\"Seaborn: \", sns.__version__)\n",
        "print(\"Scikit-learn: \", sklearn.__version__)\n",
        "print(\"TensorFlow: \", tf.__version__)"
      ]
    },
    {
      "cell_type": "markdown",
      "source": [
        "## BAL研究について"
      ],
      "metadata": {
        "id": "H3Vq2J6xz-BX"
      }
    },
    {
      "cell_type": "markdown",
      "source": [
        "**TODO: 柴木様**\n",
        "\n",
        "BAL研究の説明及び図表をここに入れる"
      ],
      "metadata": {
        "id": "h3GNCoHRMT1m"
      }
    },
    {
      "cell_type": "markdown",
      "source": [
        "## 使用するデータセット"
      ],
      "metadata": {
        "id": "GJ2cjyia0SgH"
      }
    },
    {
      "cell_type": "markdown",
      "source": [
        "**TODO: 柴木様**\n",
        "\n",
        "データセットについての説明文"
      ],
      "metadata": {
        "id": "KHrb_zp00WOv"
      }
    },
    {
      "cell_type": "code",
      "source": [
        "from google.colab import drive\n",
        "drive.mount('/content/drive')\n",
        "!cp '/content/drive/MyDrive/shibaki analysis/AE-FILD BAL patient_data.xlsx' patient_data.xlsx"
      ],
      "metadata": {
        "colab": {
          "base_uri": "https://localhost:8080/"
        },
        "id": "Bw4vN16c0bLg",
        "outputId": "7283a8fd-05a4-465b-8549-8a130e9fb9fb"
      },
      "execution_count": 3,
      "outputs": [
        {
          "output_type": "stream",
          "name": "stdout",
          "text": [
            "Drive already mounted at /content/drive; to attempt to forcibly remount, call drive.mount(\"/content/drive\", force_remount=True).\n"
          ]
        }
      ]
    },
    {
      "cell_type": "markdown",
      "source": [
        "無事ダウンロードが完了すると， /content/driveフォルダがローカル環境にマウントされます。"
      ],
      "metadata": {
        "id": "13GjBppJ02aU"
      }
    },
    {
      "cell_type": "markdown",
      "source": [
        "## データ前処理"
      ],
      "metadata": {
        "id": "T_nwpw9JBnnr"
      }
    },
    {
      "cell_type": "markdown",
      "source": [
        "ダウンロードしたファイルを読み込み，機械学習モデルへの入力形式に変換するデータ前処理を以下の手順で行います。\n",
        "\n",
        "1. ヘルパーファンクションでデータフレームテキスト内の\"\\n\"をスペースに変換する関数を定義する\n",
        "2. 学習に不必要なデータコラムを除外する: \"No\"\n",
        "3. sklearnのSimpleImputerを導入し欠損値（NaN)補完を行う\n",
        "    - 補完方法は中央値で欠損値を埋める（[[1](https://scikit-learn.org/stable/modules/generated/sklearn.impute.SimpleImputer.html)]を参考）\n",
        "4. 検証用のデータをホールドアウト法に基づき先に取り分けておく\n",
        "5. 学習用のデータが不足しているためDataSynthesizerライブラリーを導入し模擬データを作成する\n",
        "    - ベイジアンネットワークを使用して合成データセットを作成する方法はこちらを参考して下さい [[2](https://www.scb.se/contentassets/ca21efb41fee47d293bbee5bf7be7fb3/using-bayesian-networks-to-create-synthetic-data.pdf)]"
      ],
      "metadata": {
        "id": "TIW-6ambBtZK"
      }
    },
    {
      "cell_type": "markdown",
      "source": [
        "まずは以下のセルを実行して、データ前処理クラスを定義します。\n",
        "全処理クラス内では、以下のメンバ関数を定義しています。\n",
        "\n",
        "* __init__() (コンストラクタ）: 変数の初期化，学習用とテスト用への分割ルール，利用するラベルの集約ルール\n",
        "* clean_header(): Pandasデータフレームのヘッダー内の\"\\n\"をスペースに変換する関数\n",
        "* convert_text_to_list(): Pandasデータフレームのヘッダーをリストに変換する関数\n",
        "* drop_columns(): 学習に不必要な項目をdrop()する関数\n",
        "* data_imputation(): sklearnのSimpleImputerを導入し欠損値（NaN)補完を行う関数\n",
        "* def remove_header_map(): Pandasデータフレームのヘッダー内にカテゴリカル変数が含まれる場合、数値と置き換える関数\n",
        "* def split(): 検証用のデータを分割する為の関数\n",
        "* def create_data_synthesis_network(): 模擬データを作成するためのベイジアンネットワークモデルの定義・学習を行う関数\n",
        "* def generate_synthetic_data(): 学習済のベイジアンネットワークモデルを使い模擬データを実際に作成する関数\n",
        "* def synthetic_data_wrapper(): 学習済のDataDescriberのモデルが存在するかを確認する関数\n",
        "* def main(): 上記全ての工程を一度に実行するためのメイン関数\n",
        "\n",
        "\n"
      ],
      "metadata": {
        "id": "rB_N0KCGjwu9"
      }
    },
    {
      "cell_type": "code",
      "source": [
        "# 出力ディレクトリーの作成\n",
        "!mkdir ./out\n",
        "\n",
        "# description_fileをグーグルドライブから引っ張ってくる\n",
        "!cp '/content/drive/MyDrive/shibaki analysis/description.json' ./out/description.json\n",
        "\n",
        "# synthetic_dataをグーグルドライブから引っ張ってくる\n",
        "!cp '/content/drive/MyDrive/shibaki analysis/synthetic_data.csv' ./out/synthetic_data.csv"
      ],
      "metadata": {
        "id": "WJJR0U5kPILs",
        "colab": {
          "base_uri": "https://localhost:8080/"
        },
        "outputId": "b01b3665-bb0a-49f8-ff68-e1570ca3d072"
      },
      "execution_count": 4,
      "outputs": [
        {
          "output_type": "stream",
          "name": "stdout",
          "text": [
            "mkdir: cannot create directory ‘./out’: File exists\n"
          ]
        }
      ]
    },
    {
      "cell_type": "code",
      "source": [
        "class BaseBALDatasetProcessor(object):\n",
        "    def __init__(\n",
        "        self,\n",
        "        dataset,\n",
        "        dataset_root,\n",
        "        dataframe_name,\n",
        "    ):\n",
        "        # 模擬データが元のデータの類似するように模擬データの作成設定をcorrelated_attribute_modeにする\n",
        "        self.mode = 'correlated_attribute_mode'\n",
        "        self.dataset = dataset\n",
        "        self.dataset_root = dataset_root\n",
        "        self.dataframe_name = dataframe_name\n",
        "\n",
        "        # Holdout法に基づき先に学習用のデータを分割したデータフレーム\n",
        "        self.augment_training_df = pd.DataFrame()\n",
        "\n",
        "        # 模擬データの構造を説明するための情報ファイル等の指定\n",
        "        if os.path.exists(f'./out/description.json') and os.path.exists(f'./out/synthetic_data.csv'):\n",
        "            self.description_file = f'./out/description.json'\n",
        "            self.synthetic_data = f'./out/synthetic_data.csv'\n",
        "\n",
        "        else:\n",
        "            self.output_dir = f'./out'\n",
        "            self.description_file = f'./out/description.json'\n",
        "            self.synthetic_data = f'./out/synthetic_data.csv'\n",
        "\n",
        "        # データセットをPandasのデータフレームとして読み込む\n",
        "        self.dataframe = pd.read_excel(self.dataset, engine='openpyxl')\n",
        "\n",
        "        # データセット内のカテゴリカル変数の数値をその数値が表すカテゴリーに置き換える必要がある際\n",
        "        self.columnname_dict = OrderedDict([\n",
        "            ('90day-mortality', {0.0: 'survival', 1.0: 'death'}),\n",
        "            ('sex', {0.0: 'male', 1.0: 'female'}),\n",
        "            ('smoking-status',\n",
        "             {0.0: 'Never',\n",
        "                   1.0: 'Ex(quit smoking over a year ago)',\n",
        "                   2.0: 'Current'}),\n",
        "            ('emphysema', {0.0: '-', 1.0: '+'}),\n",
        "            ('Baseline-ILD',\n",
        "             {0.0: 'UIP',\n",
        "                   1.0: 'probable UIP',\n",
        "                   2.0: 'Indeterminate for UIP',\n",
        "                   3.0: 'Alternative diagnosis'}),\n",
        "            ('Collagen-disease', {0.0: '-', 1.0: '+'}),\n",
        "            ('IPAF', {0.0: '-', 1.0: '+'})])\n",
        "\n",
        "    def clean_header(\n",
        "        self,\n",
        "        text\n",
        "    ):\n",
        "        \"\"\"\n",
        "        Pandasデータフレームのヘッダー内の\"\\n\"をスペースに変換する関数\n",
        "        \"\"\"\n",
        "        text = text.strip()\n",
        "        text = text.replace(\" \", \"-\")\n",
        "        text_n_newline = text.replace(\"\\n\", \" \")\n",
        "        return text_n_newline\n",
        "\n",
        "    def convert_text_to_list(self):\n",
        "        \"\"\"\n",
        "        Pandasデータフレームのヘッダーをリストに変換する関数\n",
        "        \"\"\"\n",
        "        df_header_list = self.dataframe.columns.values.tolist()\n",
        "        df_header_list_cleaned = [self.clean_header(x) for x in df_header_list]\n",
        "        self.dataframe.columns = df_header_list_cleaned\n",
        "\n",
        "    def drop_columns(\n",
        "        self,\n",
        "        col_names=[\"No\"]\n",
        "    ):\n",
        "        \"\"\"\n",
        "        学習に不必要な項目をdrop()する関数\n",
        "        \"\"\"\n",
        "        self.dataframe = self.dataframe.drop(columns=col_names)\n",
        "\n",
        "    def data_imputation(\n",
        "        self,\n",
        "        null_val='NaN',\n",
        "        strategy='median'\n",
        "    ):\n",
        "        \"\"\"\n",
        "        sklearnのSimpleImputerを導入し欠損値（NaN)補完を行う関数\n",
        "        \"\"\"\n",
        "        if null_val == 'NaN':\n",
        "            nan_attr = np.NaN\n",
        "        else:\n",
        "            print(\"Declare valid null data value for variable null_val\")\n",
        "        # データフレーム内の\"NaN\"をnumpyのNaNと置き換える)\n",
        "        self.dataframe.replace(null_val, nan_attr, inplace=True)\n",
        "        # sklearnのSimpleImputerを使い、np.NaNをnull値として認識させる。\n",
        "        # 加、strategy=\"median\"はnp.NaNをその行のNaNを中央値と置き換えるための指定\n",
        "        imp = SimpleImputer(missing_values=nan_attr, strategy=strategy)\n",
        "        df_idf = pd.DataFrame(imp.fit_transform(self.dataframe))\n",
        "        # SimpleImputerは数値しか作成できない為、元のデータセットの行名を新しいデータセットに加るコード\n",
        "        df_idf.columns = self.dataframe.columns\n",
        "        self.dataframe = df_idf\n",
        "\n",
        "    def remove_header_map(\n",
        "        self,\n",
        "        text\n",
        "    ):\n",
        "        \"\"\"\n",
        "        Pandasデータフレームのヘッダー内にカテゴリカル変数が含まれる場合、数値と置き換える関数\n",
        "        \"\"\"\n",
        "        for key in self.columnname_dict.keys():\n",
        "            if key in text:\n",
        "                text = key\n",
        "        return text\n",
        "\n",
        "    def split (\n",
        "      self,\n",
        "      # Y (ラベル) ターゲットラベル\n",
        "      Y_col = '90day-mortality',\n",
        "      # テスト用データの割合\n",
        "      ts = 0.20,\n",
        "      # 検証用でデータの割合\n",
        "      vs = 0.40,\n",
        "      # ランダムステート \n",
        "      rs = 42\n",
        "    ):\n",
        "      \"\"\"\n",
        "      学習用・テスト用・検証用に分割するための関数\n",
        "      \"\"\"\n",
        "      # ヘッダーコラムのテキストを記号と置き換える必要がある場合\n",
        "      df_header_list = self.dataframe.columns.values.tolist()\n",
        "      df_header_list_cleaned = [self.remove_header_map(\n",
        "          x) for x in self.columnname_dict]\n",
        "      for column in self.dataframe:\n",
        "          for header in df_header_list_cleaned:\n",
        "              if header in column:\n",
        "                  self.dataframe.rename(\n",
        "                      columns={column: header}, inplace=True)\n",
        "                  \n",
        "      # X (フィーチャー) ターゲットラベル以外の全ての行\n",
        "      X_cols = self.dataframe.loc[:, self.dataframe.columns != Y_col].columns\n",
        "\n",
        "      # テストデータ分割\n",
        "      X_train, X_test, y_train, y_test = \\\n",
        "      train_test_split(\n",
        "          self.dataframe[X_cols], \n",
        "          self.dataframe[Y_col],\n",
        "          test_size=ts, \n",
        "          random_state=rs, \n",
        "          stratify=self.dataframe[Y_col]\n",
        "          )\n",
        "      \n",
        "      # 学習用・検証用データ分割\n",
        "      X_train, self.X_val, y_train, self.y_val = \\\n",
        "      train_test_split(\n",
        "          X_train, \n",
        "          y_train,\n",
        "          test_size=vs, \n",
        "          random_state=rs,\n",
        "          stratify=y_train\n",
        "          )\n",
        "      \n",
        "      # 検証用データからIDをドロップする\n",
        "      self.X_val = self.X_val.drop(columns=['ID'])\n",
        "      \n",
        "      # 学習用のデータをデータフレームに付け加える\n",
        "      X_temp_df = pd.concat([X_train, X_test], axis=0)\n",
        "      y_temp_df = pd.concat([y_train, y_test], axis=0)\n",
        "      self.augment_training_df = pd.concat([X_temp_df, y_temp_df], axis=1)\n",
        "\n",
        "    def create_data_synthesis_network(\n",
        "        self,\n",
        "        # データの要素を識別できるように、IDをデータのキーとして認識する\n",
        "        candidate_keys={'ID': True},\n",
        "        categorical_attr_index=9,\n",
        "        categorical_attr_incl=['ID', 'age', 'Brinkman-Index'],\n",
        "\n",
        "        # ベイジアンネットワークパラメーター指定\n",
        "        # ドメインサイズがこのしきい値よりも小さい場合、属性はカテゴリーに分類されます。\n",
        "        # 今回のデータでは一番多いカテゴリー要素が4だったので、閾値を4と指定する\n",
        "        threshold_value=4,\n",
        "\n",
        "        # 差分プライバシーのパラメーター。 これは、入力データセットの行を削除しても、exp（epsilon）の乗法差以上に同じ出力を取得する確率が変わらないことを大まかに意味します。\n",
        "        # イプシロン値を増やすことで学習モデルのノイズを減らせます。 差分プライバシーをオフにするにはepsilon = 0を設定します。\n",
        "        epsilon=1,\n",
        "\n",
        "        # ベイジアンネットワーク内の親ノードの最大数、つまり、有向グラフでの入力エッジの最大数。\n",
        "        degree_of_bayesian_network=2\n",
        "    ):\n",
        "        \"\"\"\n",
        "        模擬データを作成するためのベイジアンネットワークモデルの定義・学習を行う関数\n",
        "        \"\"\"\n",
        "        # PandasのデータフレームをDataSynthesizerが応用できるようにcsvに変換する\n",
        "        self.augment_training_df.to_csv(self.dataframe_name + '.csv', index=False)\n",
        "\n",
        "        # データフレーム内の0−9行の内age以外の行はカテゴリカルなため、模擬データを作成出来るようにカテゴリかルアトリビュートとして認識する\n",
        "        categorical_attributes = {}\n",
        "\n",
        "        for columns in list(self.augment_training_df.columns[:categorical_attr_index]):\n",
        "            if columns not in categorical_attr_incl:\n",
        "                categorical_attributes[columns] = True\n",
        "\n",
        "        # DataDescriberをインスタンス化する\n",
        "        describer = DataDescriber(category_threshold=threshold_value)\n",
        "\n",
        "        if self.mode == 'correlated_attribute_mode':\n",
        "            # データセットの統計を計算する\n",
        "            describer.describe_dataset_in_correlated_attribute_mode(dataset_file='./' + self.dataframe_name + '.csv',\n",
        "                                                                    epsilon=epsilon,\n",
        "                                                                    k=degree_of_bayesian_network,\n",
        "                                                                    attribute_to_is_categorical=categorical_attributes,\n",
        "                                                                    attribute_to_is_candidate_key=candidate_keys)\n",
        "        else:\n",
        "            print(\"The model does not currently suport this mode type for computation\")\n",
        "\n",
        "        # データセットの統計を上で定義した出力ファイルに保存する\n",
        "        # その後に作成されたベイズネットワークを出力する\n",
        "        describer.save_dataset_description_to_file(self.description_file)\n",
        "        display_bayesian_network(describer.bayesian_network)\n",
        "        return describer\n",
        "\n",
        "    def generate_synthetic_data(\n",
        "        self,\n",
        "        # 合成データセットで生成される症例数\n",
        "        num_tuples_to_generate=50\n",
        "    ):\n",
        "        \"\"\"\n",
        "        学習済のベイジアンネットワークモデルを使い模擬データを実際に作成する関数\n",
        "        \"\"\"\n",
        "        # 実際に模擬データを作成するコード\n",
        "        generator = DataGenerator()\n",
        "\n",
        "        # ベイズモデルの応用（模擬データの作成）\n",
        "        # description_fileとして定義してあるJSONファイルにベイズモデルが学習したカテゴリカルアトリビュートの特徴が保存される\n",
        "        # num_tuples_to_generateは生成される症例数\n",
        "        generator.generate_dataset_in_correlated_attribute_mode(\n",
        "            num_tuples_to_generate, self.description_file)\n",
        "\n",
        "        # 作成した模擬データをsynthetic_dataとして定義したcsvファイルに保存する\n",
        "        generator.save_synthetic_data(self.synthetic_data)\n",
        "\n",
        "        # pandasのデータフレームとして模擬データを読み込む\n",
        "        synthetic_df = pd.read_csv(self.synthetic_data)\n",
        "\n",
        "        return synthetic_df, generator\n",
        "\n",
        "    def synthetic_data_wrapper(\n",
        "        self\n",
        "    ):\n",
        "        \"\"\"\n",
        "        学習済のDataDescriberのモデルが存在するかを確認する関数\n",
        "        \"\"\"\n",
        "        # 事前に学習済のDataDescriberが存在するかを確認する\n",
        "        if os.path.exists(self.synthetic_data) and \\\n",
        "                os.stat(self.synthetic_data).st_size != 0:\n",
        "            # pandasのデータフレームとして模擬データを読み込む\n",
        "            synthetic_df = pd.read_csv(self.synthetic_data)\n",
        "\n",
        "        else:\n",
        "            describer = self.create_data_synthesis_network()\n",
        "            synthetic_df, generator = self.generate_synthetic_data()\n",
        "\n",
        "        # 新しく作成した模擬データは上記で作成したsynthetic_df内にあるため、self.augment_training_dfにデータを足す\n",
        "        self.augment_training_df = pd.concat([self.augment_training_df, synthetic_df])\n",
        "        return self.augment_training_df, self.X_val, self.y_val\n",
        "\n",
        "    def main(\n",
        "        self\n",
        "    ):\n",
        "        \"\"\"\n",
        "        上記全ての工程を一度に実行するためのメイン関数\n",
        "        \"\"\"\n",
        "        self.convert_text_to_list()\n",
        "        self.drop_columns(col_names=[\"No\"])\n",
        "        self.data_imputation(null_val='NaN', strategy='median')\n",
        "        self.split(Y_col = '90day-mortality', ts = 0.30, rs = 42)\n",
        "        return self.synthetic_data_wrapper()\n"
      ],
      "metadata": {
        "id": "Cg_8K1fpjwJX"
      },
      "execution_count": 5,
      "outputs": []
    },
    {
      "cell_type": "markdown",
      "source": [
        "データ保存先のrootディレクトリ(dataset_root)を指定し， 上記のクラスを使用してデータの前処理を行う。前処理済のデータはdataframe_nameで指定した名前でPandasのデータフレーム形式で所定の場所に保存されます。\n",
        "\n",
        "加え、クラスで先に検証用のデータをとり分けて置く"
      ],
      "metadata": {
        "id": "4UKKr7DVDMNG"
      }
    },
    {
      "cell_type": "code",
      "source": [
        "dataset = 'patient_data.xlsx'\n",
        "dataset_root = './'\n",
        "dataframe_name = 'AE_FILD_df'\n",
        "post_processed_data_frame, X_val, y_val = BaseBALDatasetProcessor(dataset, dataset_root, dataframe_name).main()\n",
        "print(post_processed_data_frame['90day-mortality'].value_counts())"
      ],
      "metadata": {
        "colab": {
          "base_uri": "https://localhost:8080/"
        },
        "id": "zKrG2bzSCKoq",
        "outputId": "ab09b2dd-95d1-4ab1-f4c5-4b3c9c10ab51"
      },
      "execution_count": 6,
      "outputs": [
        {
          "output_type": "stream",
          "name": "stdout",
          "text": [
            "0.0    58\n",
            "1.0    35\n",
            "Name: 90day-mortality, dtype: int64\n"
          ]
        }
      ]
    },
    {
      "cell_type": "markdown",
      "source": [
        "検証用のデータのラベルの割合を見てみる"
      ],
      "metadata": {
        "id": "SoGHRqQABZDS"
      }
    },
    {
      "cell_type": "code",
      "source": [
        "print(y_val.value_counts())"
      ],
      "metadata": {
        "colab": {
          "base_uri": "https://localhost:8080/"
        },
        "id": "Q7ji0-yt7zzX",
        "outputId": "a854a830-deb4-4a62-a409-2c2d39a1e648"
      },
      "execution_count": 7,
      "outputs": [
        {
          "output_type": "stream",
          "name": "stdout",
          "text": [
            "0.0    14\n",
            "1.0     3\n",
            "Name: 90day-mortality, dtype: int64\n"
          ]
        }
      ]
    },
    {
      "cell_type": "markdown",
      "source": [
        "保存先の./outディレクトリに以下のファイルが保存されていることを確認する。\n",
        "* 模擬データを作成するためのベイジアンネットワークモデルを保管するdescription.jsonファイル\n",
        "* 学習済のベイジアンネットワークモデルを使い作成した模擬データを保管するsynthetic_data.csv\n"
      ],
      "metadata": {
        "id": "ouGphNQqYugC"
      }
    },
    {
      "cell_type": "code",
      "source": [
        "!tree ./out"
      ],
      "metadata": {
        "id": "-EuqubzNZdBR",
        "colab": {
          "base_uri": "https://localhost:8080/"
        },
        "outputId": "174e6bf9-a0c5-49ab-f958-21c768c70d9b"
      },
      "execution_count": 8,
      "outputs": [
        {
          "output_type": "stream",
          "name": "stdout",
          "text": [
            "./out\n",
            "├── description.json\n",
            "├── finalized_model.joblib\n",
            "└── synthetic_data.csv\n",
            "\n",
            "0 directories, 3 files\n"
          ]
        }
      ]
    },
    {
      "cell_type": "markdown",
      "source": [
        "## RF解析モデル\n"
      ],
      "metadata": {
        "id": "dbboFo1YaCNb"
      }
    },
    {
      "cell_type": "markdown",
      "source": [
        "学習モデルを構築する為の学習アルゴリズムには、ランダムフォレストを使用します。\n",
        "まずデータセット分割を行います。\n",
        "教示あり学習には主に交差検証とホールドアウト法がありますが今回はシンプルにホールドアウト法を使ってモデル構築を行います。\n",
        "ホールドアウト法：学習用と評価用にデータセットに分けてから、学習用でモデルを作成してから、評価用のデータでうまく予測する事ができるか確認していきます。\n",
        "X_allにフィーチャー、y_allにラベルと分割し、さらにX_allとy_allを学習用と評価用に分割しました。\n",
        "評価用を30％、学習用を70%と指定しました。\n",
        "加え、ラベルのインデックスは、\n",
        "*   0: 間質性肺炎感染90日後の生存者\n",
        "*   1: 間質性肺炎感染90日後の死者\n",
        "\n",
        "となっています。\n",
        "\n",
        "分割方法についてですが# Scikit-learnのtrain_test_split()を使い自動的にデータセットを学習用と評価用に分割します。test_sizeを0.3にして学習用を30%、訓練用を70%といったように分割できます。加え、random_stateを42にして実験の再現性を向上させます\n"
      ],
      "metadata": {
        "id": "BI-hAB57qTPM"
      }
    },
    {
      "cell_type": "code",
      "source": [
        "#IDを削除\n",
        "finalized_df = post_processed_data_frame.drop(labels=['ID'], axis=1)\n",
        "\n",
        "# 行数と列数を変数として保管する\n",
        "NUM_ROWS, NUM_COLS = finalized_df.shape[0], finalized_df.shape[1]\n",
        "\n",
        "# Y (ラベル) ターゲットラベル\n",
        "Y_col = '90day-mortality'\n",
        "# X (フィーチャー) ターゲットラベル以外の全ての行\n",
        "X_cols = finalized_df.loc[:, finalized_df.columns != Y_col].columns\n",
        "\n",
        "X_train, X_test, y_train, y_test = \\\n",
        "train_test_split(finalized_df[X_cols], finalized_df[Y_col],test_size=0.3, random_state=42)\n",
        "\n",
        "X_train_op, X_test_op, y_train_op, y_test_op = X_train.copy(), X_test.copy(), y_train.copy(), y_test.copy()\n",
        "\n",
        "print(\"X_train.shape = \", X_train.shape, \" \\t y_train.shape = \", y_train.shape)\n",
        "print(\"X_test.shape = \", X_test.shape, \" \\t y_test.shape = \", y_test.shape)\n"
      ],
      "metadata": {
        "id": "HnHiazrGZ84Z",
        "colab": {
          "base_uri": "https://localhost:8080/"
        },
        "outputId": "90174d60-2921-41fd-e7fd-dbaac3b42161"
      },
      "execution_count": 9,
      "outputs": [
        {
          "output_type": "stream",
          "name": "stdout",
          "text": [
            "X_train.shape =  (65, 61)  \t y_train.shape =  (65,)\n",
            "X_test.shape =  (28, 61)  \t y_test.shape =  (28,)\n"
          ]
        }
      ]
    },
    {
      "cell_type": "markdown",
      "source": [
        "学習用データセットに含まれている各ラベル毎のサンプル数をカウントしてみます．"
      ],
      "metadata": {
        "id": "5yApgRKStkBs"
      }
    },
    {
      "cell_type": "code",
      "source": [
        "uniq_train, counts_train = np.unique(y_train, return_counts=True)\n",
        "print(\"y_train count each labels: \", dict(zip(uniq_train, counts_train)))"
      ],
      "metadata": {
        "id": "yt-b-tG-ttOA",
        "colab": {
          "base_uri": "https://localhost:8080/"
        },
        "outputId": "e0f67f94-944c-4345-d6bf-8a8ed0eab9ca"
      },
      "execution_count": 10,
      "outputs": [
        {
          "output_type": "stream",
          "name": "stdout",
          "text": [
            "y_train count each labels:  {0.0: 38, 1.0: 27}\n"
          ]
        }
      ]
    },
    {
      "cell_type": "markdown",
      "source": [
        "評価用データについても同様にラベル毎のサンプル数をカウントします．"
      ],
      "metadata": {
        "id": "hfSdFRaqtwYU"
      }
    },
    {
      "cell_type": "code",
      "source": [
        "uniq_test, counts_test = np.unique(y_test, return_counts=True)\n",
        "print(\"y_test count each labels: \", dict(zip(uniq_test, counts_test)))"
      ],
      "metadata": {
        "id": "YheI_1OpuWK3",
        "colab": {
          "base_uri": "https://localhost:8080/"
        },
        "outputId": "2892e998-9939-4fe2-ed48-aa41d7c7f12e"
      },
      "execution_count": 11,
      "outputs": [
        {
          "output_type": "stream",
          "name": "stdout",
          "text": [
            "y_test count each labels:  {0.0: 20, 1.0: 8}\n"
          ]
        }
      ]
    },
    {
      "cell_type": "markdown",
      "source": [
        "### モデル構築から予測精度の確認"
      ],
      "metadata": {
        "id": "wQIsoppg-nul"
      }
    },
    {
      "cell_type": "markdown",
      "source": [
        "学習したデータに対してとても良い精度を出すモデルであっても、予測が必要な新たなデータに対する精度が非常に低い、いわゆる「過学習」という状態になることが良くあります。こうならないように、汎用的に良い精度になるモデルを作成するためには、妥当性の検証が必要になります。\n",
        "妥当性の検証としては方法を二通り行います：\n",
        "* クロスバリデーション\n",
        "* Optuna\n",
        "\n"
      ],
      "metadata": {
        "id": "JKkBrwE0-tgj"
      }
    },
    {
      "cell_type": "markdown",
      "source": [
        "#### クロスバリデーション"
      ],
      "metadata": {
        "id": "LZrYNlVBcDJ5"
      }
    },
    {
      "cell_type": "markdown",
      "source": [
        "クロスバリデーションを使った最終モデル選択までの手順：\n",
        "1. 使うモデルの候補を上げる：RandomForestClassifier --> ランダムフォレストのパラメーターは、初期値として作成する決定木を42、最大の深さを1にしてみます。)\n",
        "\n",
        "2. それぞれのモデルでクロスバリデーションを行い、感度や特異度などの精度を算出する (決定木を50, 150, 250, 350; 最大の深さを1から20でランダムフォレストモデルを定義する) \n",
        "\n",
        "3. クロスバリデーションの結果、テストデータでの精度が一番高そうなモデルを選択\n"
      ],
      "metadata": {
        "id": "ZE3N6p_WA04B"
      }
    },
    {
      "cell_type": "code",
      "source": [
        "# cross validationを使い、階層や決定木の数をチューニングしてみる（ハイパーパラメーター）\n",
        "# 注：過適合/過剰適合のバランスを見極めながらハイパーパラメーターチューニングを行う\n",
        "best_accuracy = 0\n",
        "best_depth = 1\n",
        "best_num_trees = 42\n",
        "\n",
        "for ntrees in range(50,450,100):  # 決定木50から350の間（ステップ数：100)\n",
        "    for d in range(1,20): # 階層1から20の間\n",
        "        rforest_model = ensemble.RandomForestClassifier(max_depth=d, \n",
        "                                                        n_estimators=ntrees)\n",
        "        cv_scores = cross_val_score( rforest_model, X_train, y_train, cv=5 ) # 5 はトレーニング・テストの割合が8割・2割ということを表す\n",
        "        average_cv_accuracy = cv_scores.mean()  # cvスコアの平均値cv=5はスコアを五つ出すため、その平均値を見る\n",
        "        if average_cv_accuracy >= best_accuracy: # cvスコアの平均値正確性が現在の最適正確性を上回った場合、現在のcvスコア平均値を出した決定木数・階層を最適とする\n",
        "            best_accuracy = average_cv_accuracy\n",
        "            best_depth = d\n",
        "            best_num_trees = ntrees\n",
        "        print(f\"階層: {d:2d} 決定木: {ntrees:3d} cv スコア平均値: {average_cv_accuracy:7.4f}\")\n",
        "\n",
        "print()\n",
        "print(f\"最適層: {best_depth}, 最適決定木数： {best_num_trees}, 最高予測精度：{best_accuracy}\")\n",
        "\n",
        "# 上記で見つけた最適層・最適決定木数をもとにモデルの構築・モデルのトレーニング\n",
        "rforest_model_cv = ensemble.RandomForestClassifier(max_depth=best_depth, n_estimators=best_num_trees) # ensemble.RandomForestClassifierからRF解析モデルを引っ張ってくる\n",
        "\n",
        "# モデルを再度トレーニングする\n",
        "rforest_model_cv.fit(X_train, y_train) # .fit()がトレーニングデータを使い、モデルをトレーニングしろというコマンド\n",
        "\n",
        "# 再度トレーニングした後のモデルのパフォーマンス検証\n",
        "# テストデータにrforest_modelに.predict()関数を応用し、RFモデルがラベルを何個正確に予測出来たかを検証する\n",
        "y_pred = rforest_model_cv.predict(X_test)\n",
        "\n",
        "#モデルを作成する段階でのモデルの識別精度\n",
        "trainaccuracy_random_forest = rforest_model_cv.score(X_train, y_train)\n",
        "print('TrainAccuracy: {}'.format(trainaccuracy_random_forest))\n",
        "\n",
        "#作成したモデルに学習に使用していない評価用のデータセットを入力し精度を確認\n",
        "accuracy_random_forest = accuracy_score(y_test, y_pred)\n",
        "print('Accuracy: {}'.format(accuracy_random_forest))\n",
        "\n",
        "# 正確性の出力\n",
        "print(classification_report(y_test, y_pred))"
      ],
      "metadata": {
        "id": "oFUCossjbmh9",
        "colab": {
          "base_uri": "https://localhost:8080/"
        },
        "outputId": "d0a6ea94-f32a-4944-e41d-32f7bb3c1d7d"
      },
      "execution_count": 12,
      "outputs": [
        {
          "output_type": "stream",
          "name": "stdout",
          "text": [
            "階層:  1 決定木:  50 cv スコア平均値:  0.7077\n",
            "階層:  2 決定木:  50 cv スコア平均値:  0.6769\n",
            "階層:  3 決定木:  50 cv スコア平均値:  0.7385\n",
            "階層:  4 決定木:  50 cv スコア平均値:  0.7231\n",
            "階層:  5 決定木:  50 cv スコア平均値:  0.6923\n",
            "階層:  6 決定木:  50 cv スコア平均値:  0.6308\n",
            "階層:  7 決定木:  50 cv スコア平均値:  0.6615\n",
            "階層:  8 決定木:  50 cv スコア平均値:  0.6769\n",
            "階層:  9 決定木:  50 cv スコア平均値:  0.6923\n",
            "階層: 10 決定木:  50 cv スコア平均値:  0.7231\n",
            "階層: 11 決定木:  50 cv スコア平均値:  0.6154\n",
            "階層: 12 決定木:  50 cv スコア平均値:  0.6308\n",
            "階層: 13 決定木:  50 cv スコア平均値:  0.6154\n",
            "階層: 14 決定木:  50 cv スコア平均値:  0.6308\n",
            "階層: 15 決定木:  50 cv スコア平均値:  0.6923\n",
            "階層: 16 決定木:  50 cv スコア平均値:  0.6923\n",
            "階層: 17 決定木:  50 cv スコア平均値:  0.6923\n",
            "階層: 18 決定木:  50 cv スコア平均値:  0.7385\n",
            "階層: 19 決定木:  50 cv スコア平均値:  0.6769\n",
            "階層:  1 決定木: 150 cv スコア平均値:  0.6462\n",
            "階層:  2 決定木: 150 cv スコア平均値:  0.6769\n",
            "階層:  3 決定木: 150 cv スコア平均値:  0.6923\n",
            "階層:  4 決定木: 150 cv スコア平均値:  0.6769\n",
            "階層:  5 決定木: 150 cv スコア平均値:  0.6769\n",
            "階層:  6 決定木: 150 cv スコア平均値:  0.7231\n",
            "階層:  7 決定木: 150 cv スコア平均値:  0.6769\n",
            "階層:  8 決定木: 150 cv スコア平均値:  0.6769\n",
            "階層:  9 決定木: 150 cv スコア平均値:  0.7231\n",
            "階層: 10 決定木: 150 cv スコア平均値:  0.7077\n",
            "階層: 11 決定木: 150 cv スコア平均値:  0.6923\n",
            "階層: 12 決定木: 150 cv スコア平均値:  0.7077\n",
            "階層: 13 決定木: 150 cv スコア平均値:  0.6769\n",
            "階層: 14 決定木: 150 cv スコア平均値:  0.7077\n",
            "階層: 15 決定木: 150 cv スコア平均値:  0.6923\n",
            "階層: 16 決定木: 150 cv スコア平均値:  0.6923\n",
            "階層: 17 決定木: 150 cv スコア平均値:  0.7077\n",
            "階層: 18 決定木: 150 cv スコア平均値:  0.6923\n",
            "階層: 19 決定木: 150 cv スコア平均値:  0.7077\n",
            "階層:  1 決定木: 250 cv スコア平均値:  0.6615\n",
            "階層:  2 決定木: 250 cv スコア平均値:  0.6923\n",
            "階層:  3 決定木: 250 cv スコア平均値:  0.7385\n",
            "階層:  4 決定木: 250 cv スコア平均値:  0.7077\n",
            "階層:  5 決定木: 250 cv スコア平均値:  0.6769\n",
            "階層:  6 決定木: 250 cv スコア平均値:  0.6923\n",
            "階層:  7 決定木: 250 cv スコア平均値:  0.7077\n",
            "階層:  8 決定木: 250 cv スコア平均値:  0.7231\n",
            "階層:  9 決定木: 250 cv スコア平均値:  0.7231\n",
            "階層: 10 決定木: 250 cv スコア平均値:  0.6923\n",
            "階層: 11 決定木: 250 cv スコア平均値:  0.7231\n",
            "階層: 12 決定木: 250 cv スコア平均値:  0.6923\n",
            "階層: 13 決定木: 250 cv スコア平均値:  0.6923\n",
            "階層: 14 決定木: 250 cv スコア平均値:  0.7385\n",
            "階層: 15 決定木: 250 cv スコア平均値:  0.6769\n",
            "階層: 16 決定木: 250 cv スコア平均値:  0.7231\n",
            "階層: 17 決定木: 250 cv スコア平均値:  0.7077\n",
            "階層: 18 決定木: 250 cv スコア平均値:  0.7538\n",
            "階層: 19 決定木: 250 cv スコア平均値:  0.7231\n",
            "階層:  1 決定木: 350 cv スコア平均値:  0.7077\n",
            "階層:  2 決定木: 350 cv スコア平均値:  0.6769\n",
            "階層:  3 決定木: 350 cv スコア平均値:  0.6923\n",
            "階層:  4 決定木: 350 cv スコア平均値:  0.6769\n",
            "階層:  5 決定木: 350 cv スコア平均値:  0.7231\n",
            "階層:  6 決定木: 350 cv スコア平均値:  0.6923\n",
            "階層:  7 決定木: 350 cv スコア平均値:  0.6923\n",
            "階層:  8 決定木: 350 cv スコア平均値:  0.6923\n",
            "階層:  9 決定木: 350 cv スコア平均値:  0.6923\n",
            "階層: 10 決定木: 350 cv スコア平均値:  0.7077\n",
            "階層: 11 決定木: 350 cv スコア平均値:  0.7077\n",
            "階層: 12 決定木: 350 cv スコア平均値:  0.6769\n",
            "階層: 13 決定木: 350 cv スコア平均値:  0.7231\n",
            "階層: 14 決定木: 350 cv スコア平均値:  0.7077\n",
            "階層: 15 決定木: 350 cv スコア平均値:  0.6923\n",
            "階層: 16 決定木: 350 cv スコア平均値:  0.6923\n",
            "階層: 17 決定木: 350 cv スコア平均値:  0.6769\n",
            "階層: 18 決定木: 350 cv スコア平均値:  0.6769\n",
            "階層: 19 決定木: 350 cv スコア平均値:  0.7077\n",
            "\n",
            "最適層: 18, 最適決定木数： 250, 最高予測精度：0.7538461538461538\n",
            "TrainAccuracy: 1.0\n",
            "Accuracy: 0.7857142857142857\n",
            "              precision    recall  f1-score   support\n",
            "\n",
            "         0.0       0.89      0.80      0.84        20\n",
            "         1.0       0.60      0.75      0.67         8\n",
            "\n",
            "    accuracy                           0.79        28\n",
            "   macro avg       0.74      0.78      0.75        28\n",
            "weighted avg       0.81      0.79      0.79        28\n",
            "\n"
          ]
        }
      ]
    },
    {
      "cell_type": "markdown",
      "source": [
        "* 適合率(specificity, precision)とは、positiveと分類したデータ(TP + FP)の中で実際にpositiveだったデータ(TP)数の割合であり、この値が高いほど性能が良く、間違った分類が少ないということを意味します。\n",
        "\n",
        "* 再現率(sensitivity, recall)では、取りこぼし無くpositiveなデータを正しくpositiveと推測できているかどうかの指標となります。この値が高いほど性能がよく、間違ったpositiveの判断が少ないということであり、別の言い方をすると本来positiveと推測すべき全てのデータを、うまく推測できたかどうかを示します。\n",
        "\n",
        "* F-MeasureはF値またはF尺度と呼ばれており、適合率と再現率の調和平均を示します。高ければ高いほど、適合率と再現率ともに高くなり、バランスを示す事ができます。\n",
        "\n",
        "また，クラスごとのスコアの下に，複数の平均スコアが表示されていますが，それぞれの意味は以下の通りです．\n",
        "\n",
        "* マイクロ平均 (micro avg) : 各クラスを区別せずに，混同行列全体からスコアを算出．計算結果はいずれも正解率と一致\n",
        "* マクロ平均 (macro avg) : クラスごとに算出されたスコアの単純平均\n",
        "* 重み付き平均 (weighted avg) : クラスごとに算出されたスコアをサンプル数の比率で重み付けした加重平均"
      ],
      "metadata": {
        "id": "DE-qSfrf3osc"
      }
    },
    {
      "cell_type": "markdown",
      "source": [
        "予測結果を確認していきましょう。\n",
        "\n",
        "混同行列とよばれる，予測の分類結果をまとめた表を作成します．行方向（表側）を正解ラベル，列方向（表頭）を予測ラベルとして，各項目では以下の集計値を求めています．\n",
        "\n",
        "* 左上 : 実際に生存者であるサンプルが，生存者と予測された数\n",
        "* 右上 : 実際に生存者であるサンプルが、死者と予測された数\n",
        "* 左下 : 実際に死者であるサンプルが，生存者と予測された数\n",
        "* 右下 : 実際に死者であるサンプルが，死者と予測された数"
      ],
      "metadata": {
        "id": "B21f8H6d4KXV"
      }
    },
    {
      "cell_type": "code",
      "source": [
        "result = confusion_matrix(y_test, y_pred)\n",
        "print(\"Confusion Matrix:\")\n",
        "#confusion matrix\n",
        "labels = sorted(finalized_df['90day-mortality'].unique())\n",
        "ax = sns.heatmap(\n",
        "confusion_matrix(y_test, y_pred),\n",
        "annot=True,\n",
        "xticklabels=labels,\n",
        "yticklabels=labels\n",
        ")\n",
        "ax.set(xlabel='true label', ylabel='predicted label')"
      ],
      "metadata": {
        "id": "Z3UaS57-3qLO",
        "colab": {
          "base_uri": "https://localhost:8080/",
          "height": 324
        },
        "outputId": "fb59f681-78c4-481b-e294-9737244b7359"
      },
      "execution_count": 13,
      "outputs": [
        {
          "output_type": "stream",
          "name": "stdout",
          "text": [
            "Confusion Matrix:\n"
          ]
        },
        {
          "output_type": "execute_result",
          "data": {
            "text/plain": [
              "[Text(30.5, 0.5, 'predicted label'), Text(0.5, 12.5, 'true label')]"
            ]
          },
          "metadata": {},
          "execution_count": 13
        },
        {
          "output_type": "display_data",
          "data": {
            "text/plain": [
              "<Figure size 432x288 with 2 Axes>"
            ],
            "image/png": "[encoded data removed]"
          },
          "metadata": {
            "needs_background": "light"
          }
        }
      ]
    },
    {
      "cell_type": "markdown",
      "source": [
        "サンプル数が多い生存者に対する予測スコアは高い値を示す一方で，サンプル数の少ない死者に対しては，スコアが低くなる傾向があります．今回のデータセットのように，サンプルが占めるクラスの割合が極端に偏っている不均衡データでは，こうした傾向が観測されることが知られています．\n"
      ],
      "metadata": {
        "id": "7m9htP6vZY0Y"
      }
    },
    {
      "cell_type": "markdown",
      "source": [
        "#### Optuna"
      ],
      "metadata": {
        "id": "bTPHnf-wcVW2"
      }
    },
    {
      "cell_type": "markdown",
      "source": [
        "OptunaとはPreferred Networks社が出しているハイパーパラメータ自動化ツールです。Tree-structured Parzen Estimator というベイズ最適化アルゴリズムの一種を用いていて有望そうなハイパーパレメーターを正確に特定できます。\n",
        "objective()というOptunaの目的関数を設定する関数でRandomForestClassifierのパラメーターを設定しています。\n",
        "RandomForestClassifier()のパラメーターについて：\n",
        "1.   criterion - 評価基準 (ジニ係数またはエントロピー)\n",
        "2.   bootstrap - 決定木構築の際にブートストラップサンプルを使用するかどうか\n",
        "3.   max_depth - 先のn_estimatorsで指定した決定木／回帰木の深さの指定\n",
        "4.   max_features - 個々の決定木に、どれくらいの特徴量を使用するかを、表します\n",
        "5.   max_leaf_nodes - 決定木をベスト・ファーストの方法で成長させる\n",
        "6.   n_estimators - ベースとして利用する決定木／回帰木の数\n",
        "7.   min_samples_split - 子ノードを分割するために必要なサンプルの最小数\n",
        "8.   min_samples_leaf - リーフノードにある必要があるサンプルの最小数\n",
        "\n",
        "詳しくはこちらを参照して下さい [[3](https://scikit-learn.org/stable/modules/generated/sklearn.ensemble.RandomForestClassifier.html)]。\n",
        "\n",
        "\n"
      ],
      "metadata": {
        "id": "s2Zv_9Gv8IKG"
      }
    },
    {
      "cell_type": "code",
      "source": [
        "def objective(trial):\n",
        "  criterion = trial.suggest_categorical('criterion', ['gini', 'entropy'])\n",
        "  bootstrap = trial.suggest_categorical('bootstrap',['True','False'])\n",
        "  max_depth = trial.suggest_int('max_depth', 1, 1000)\n",
        "  max_features = trial.suggest_categorical('max_features', ['auto', 'sqrt','log2'])\n",
        "  max_leaf_nodes = trial.suggest_int('max_leaf_nodes', 1,1000)\n",
        "  n_estimators =  trial.suggest_int('n_estimators', 1, 1000)\n",
        "  min_samples_split = trial.suggest_int('min_samples_split',2,5)\n",
        "  min_samples_leaf = trial.suggest_int('min_samples_leaf',1,10)\n",
        "\n",
        "  regr = ensemble.RandomForestClassifier(\n",
        "      bootstrap = bootstrap, criterion = criterion,\n",
        "      max_depth = max_depth, max_features = max_features,\n",
        "      max_leaf_nodes = max_leaf_nodes,n_estimators = n_estimators,\n",
        "      min_samples_split = min_samples_split,min_samples_leaf = min_samples_leaf,\n",
        "      n_jobs=2)\n",
        "\n",
        "  score = cross_val_score(regr, X_train_op, y_train_op, cv=5, scoring=\"r2\")\n",
        "  r2_mean = score.mean()\n",
        "  return r2_mean\n",
        "\n",
        "study = optuna.create_study(direction='maximize')\n",
        "study.optimize(objective, n_trials=50)\n",
        "\n",
        "trial = study.best_trial\n",
        "print('Accuracy: {}'.format(trial.value))\n",
        "\n",
        "# チューニングしたハイパーパラメーターをフィット\n",
        "rforest_model_post_optuna = ensemble.RandomForestClassifier(bootstrap = study.best_params['bootstrap'], criterion = study.best_params['criterion'],\n",
        "                                     max_depth = study.best_params['max_depth'], max_features = study.best_params['max_features'],\n",
        "                                     max_leaf_nodes = study.best_params['max_leaf_nodes'],n_estimators = study.best_params['n_estimators'],\n",
        "                                     min_samples_split = study.best_params['min_samples_split'],min_samples_leaf = study.best_params['min_samples_leaf'],                                     \n",
        "                                     n_jobs=2)\n",
        "\n",
        "# モデルを再度トレーニングする\n",
        "rforest_model_post_optuna.fit(X_train_op, y_train_op) \n",
        "\n",
        "# 再度トレーニングした後のモデルのパフォーマンス検証\n",
        "# テストデータにrforest_modelに.predict()関数を応用し、RFモデルがラベルを何個正確に予測出来たかを検証する\n",
        "y_pred_op = rforest_model_post_optuna.predict(X_test_op)\n",
        "\n",
        "#モデルを作成する段階でのモデルの識別精度\n",
        "trainaccuracy_random_forest_op = rforest_model_post_optuna.score(X_train_op, y_train_op)\n",
        "print('TrainAccuracy: {}'.format(trainaccuracy_random_forest_op))\n",
        "\n",
        "#作成したモデルに学習に使用していない評価用のデータセットを入力し精度を確認\n",
        "accuracy_random_forest_op = accuracy_score(y_test_op, y_pred_op)\n",
        "print('Accuracy: {}'.format(accuracy_random_forest_op))\n",
        "\n",
        "# 正確性の出力\n",
        "print(classification_report(y_test_op, y_pred_op))\n"
      ],
      "metadata": {
        "id": "o4bdvDsKcXlW",
        "colab": {
          "base_uri": "https://localhost:8080/"
        },
        "outputId": "f475986a-894a-49f2-dbab-901e40edb42d"
      },
      "execution_count": 14,
      "outputs": [
        {
          "output_type": "stream",
          "name": "stderr",
          "text": [
            "\u001b[32m[I 2022-04-13 04:29:42,257]\u001b[0m A new study created in memory with name: no-name-a8819589-a0aa-4651-8546-3ddfd93d53bb\u001b[0m\n",
            "\u001b[32m[I 2022-04-13 04:29:48,515]\u001b[0m Trial 0 finished with value: -0.278333333333333 and parameters: {'criterion': 'gini', 'bootstrap': 'False', 'max_depth': 695, 'max_features': 'sqrt', 'max_leaf_nodes': 46, 'n_estimators': 519, 'min_samples_split': 5, 'min_samples_leaf': 10}. Best is trial 0 with value: -0.278333333333333.\u001b[0m\n",
            "\u001b[32m[I 2022-04-13 04:29:55,934]\u001b[0m Trial 1 finished with value: -0.278333333333333 and parameters: {'criterion': 'entropy', 'bootstrap': 'False', 'max_depth': 646, 'max_features': 'sqrt', 'max_leaf_nodes': 115, 'n_estimators': 715, 'min_samples_split': 3, 'min_samples_leaf': 1}. Best is trial 0 with value: -0.278333333333333.\u001b[0m\n",
            "\u001b[32m[I 2022-04-13 04:30:04,228]\u001b[0m Trial 2 finished with value: -0.278333333333333 and parameters: {'criterion': 'gini', 'bootstrap': 'False', 'max_depth': 829, 'max_features': 'log2', 'max_leaf_nodes': 698, 'n_estimators': 786, 'min_samples_split': 4, 'min_samples_leaf': 5}. Best is trial 0 with value: -0.278333333333333.\u001b[0m\n",
            "\u001b[32m[I 2022-04-13 04:30:09,074]\u001b[0m Trial 3 finished with value: -0.28142857142857114 and parameters: {'criterion': 'gini', 'bootstrap': 'True', 'max_depth': 361, 'max_features': 'auto', 'max_leaf_nodes': 845, 'n_estimators': 485, 'min_samples_split': 3, 'min_samples_leaf': 7}. Best is trial 0 with value: -0.278333333333333.\u001b[0m\n",
            "\u001b[32m[I 2022-04-13 04:30:14,970]\u001b[0m Trial 4 finished with value: -0.4640476190476187 and parameters: {'criterion': 'entropy', 'bootstrap': 'True', 'max_depth': 180, 'max_features': 'sqrt', 'max_leaf_nodes': 465, 'n_estimators': 562, 'min_samples_split': 4, 'min_samples_leaf': 3}. Best is trial 0 with value: -0.278333333333333.\u001b[0m\n",
            "\u001b[32m[I 2022-04-13 04:30:16,197]\u001b[0m Trial 5 finished with value: -0.3371428571428568 and parameters: {'criterion': 'gini', 'bootstrap': 'True', 'max_depth': 97, 'max_features': 'auto', 'max_leaf_nodes': 395, 'n_estimators': 61, 'min_samples_split': 2, 'min_samples_leaf': 4}. Best is trial 0 with value: -0.278333333333333.\u001b[0m\n",
            "\u001b[32m[I 2022-04-13 04:30:25,483]\u001b[0m Trial 6 finished with value: -0.3402380952380949 and parameters: {'criterion': 'gini', 'bootstrap': 'True', 'max_depth': 765, 'max_features': 'log2', 'max_leaf_nodes': 14, 'n_estimators': 987, 'min_samples_split': 5, 'min_samples_leaf': 4}. Best is trial 0 with value: -0.278333333333333.\u001b[0m\n",
            "\u001b[32m[I 2022-04-13 04:30:30,697]\u001b[0m Trial 7 finished with value: -0.3402380952380949 and parameters: {'criterion': 'gini', 'bootstrap': 'True', 'max_depth': 76, 'max_features': 'log2', 'max_leaf_nodes': 132, 'n_estimators': 518, 'min_samples_split': 2, 'min_samples_leaf': 5}. Best is trial 0 with value: -0.278333333333333.\u001b[0m\n",
            "\u001b[32m[I 2022-04-13 04:30:33,718]\u001b[0m Trial 8 finished with value: -0.278333333333333 and parameters: {'criterion': 'entropy', 'bootstrap': 'False', 'max_depth': 897, 'max_features': 'log2', 'max_leaf_nodes': 990, 'n_estimators': 269, 'min_samples_split': 3, 'min_samples_leaf': 7}. Best is trial 0 with value: -0.278333333333333.\u001b[0m\n",
            "\u001b[32m[I 2022-04-13 04:30:37,599]\u001b[0m Trial 9 finished with value: -0.5290476190476188 and parameters: {'criterion': 'entropy', 'bootstrap': 'True', 'max_depth': 464, 'max_features': 'auto', 'max_leaf_nodes': 123, 'n_estimators': 386, 'min_samples_split': 2, 'min_samples_leaf': 2}. Best is trial 0 with value: -0.278333333333333.\u001b[0m\n",
            "\u001b[32m[I 2022-04-13 04:30:39,836]\u001b[0m Trial 10 finished with value: -0.278333333333333 and parameters: {'criterion': 'gini', 'bootstrap': 'False', 'max_depth': 991, 'max_features': 'sqrt', 'max_leaf_nodes': 327, 'n_estimators': 148, 'min_samples_split': 5, 'min_samples_leaf': 10}. Best is trial 0 with value: -0.278333333333333.\u001b[0m\n",
            "\u001b[32m[I 2022-04-13 04:30:46,904]\u001b[0m Trial 11 finished with value: -0.278333333333333 and parameters: {'criterion': 'entropy', 'bootstrap': 'False', 'max_depth': 621, 'max_features': 'sqrt', 'max_leaf_nodes': 266, 'n_estimators': 729, 'min_samples_split': 4, 'min_samples_leaf': 10}. Best is trial 0 with value: -0.278333333333333.\u001b[0m\n",
            "\u001b[32m[I 2022-04-13 04:30:54,066]\u001b[0m Trial 12 finished with value: -0.3402380952380949 and parameters: {'criterion': 'entropy', 'bootstrap': 'False', 'max_depth': 646, 'max_features': 'sqrt', 'max_leaf_nodes': 19, 'n_estimators': 713, 'min_samples_split': 3, 'min_samples_leaf': 1}. Best is trial 0 with value: -0.278333333333333.\u001b[0m\n",
            "\u001b[32m[I 2022-04-13 04:31:02,849]\u001b[0m Trial 13 finished with value: -0.278333333333333 and parameters: {'criterion': 'entropy', 'bootstrap': 'False', 'max_depth': 671, 'max_features': 'sqrt', 'max_leaf_nodes': 229, 'n_estimators': 897, 'min_samples_split': 5, 'min_samples_leaf': 8}. Best is trial 0 with value: -0.278333333333333.\u001b[0m\n",
            "\u001b[32m[I 2022-04-13 04:31:09,199]\u001b[0m Trial 14 finished with value: -0.278333333333333 and parameters: {'criterion': 'entropy', 'bootstrap': 'False', 'max_depth': 474, 'max_features': 'sqrt', 'max_leaf_nodes': 636, 'n_estimators': 630, 'min_samples_split': 4, 'min_samples_leaf': 8}. Best is trial 0 with value: -0.278333333333333.\u001b[0m\n",
            "\u001b[32m[I 2022-04-13 04:31:13,048]\u001b[0m Trial 15 finished with value: -0.15452380952380923 and parameters: {'criterion': 'gini', 'bootstrap': 'False', 'max_depth': 316, 'max_features': 'sqrt', 'max_leaf_nodes': 123, 'n_estimators': 385, 'min_samples_split': 3, 'min_samples_leaf': 1}. Best is trial 15 with value: -0.15452380952380923.\u001b[0m\n",
            "\u001b[32m[I 2022-04-13 04:31:16,634]\u001b[0m Trial 16 finished with value: -0.3402380952380949 and parameters: {'criterion': 'gini', 'bootstrap': 'False', 'max_depth': 291, 'max_features': 'sqrt', 'max_leaf_nodes': 534, 'n_estimators': 343, 'min_samples_split': 5, 'min_samples_leaf': 9}. Best is trial 15 with value: -0.15452380952380923.\u001b[0m\n",
            "\u001b[32m[I 2022-04-13 04:31:19,521]\u001b[0m Trial 17 finished with value: -0.4021428571428568 and parameters: {'criterion': 'gini', 'bootstrap': 'False', 'max_depth': 299, 'max_features': 'sqrt', 'max_leaf_nodes': 208, 'n_estimators': 250, 'min_samples_split': 4, 'min_samples_leaf': 6}. Best is trial 15 with value: -0.15452380952380923.\u001b[0m\n",
            "\u001b[32m[I 2022-04-13 04:31:23,831]\u001b[0m Trial 18 finished with value: -0.21333333333333301 and parameters: {'criterion': 'gini', 'bootstrap': 'False', 'max_depth': 516, 'max_features': 'sqrt', 'max_leaf_nodes': 369, 'n_estimators': 416, 'min_samples_split': 3, 'min_samples_leaf': 3}. Best is trial 15 with value: -0.15452380952380923.\u001b[0m\n",
            "\u001b[32m[I 2022-04-13 04:31:28,105]\u001b[0m Trial 19 finished with value: -0.3402380952380949 and parameters: {'criterion': 'gini', 'bootstrap': 'False', 'max_depth': 411, 'max_features': 'auto', 'max_leaf_nodes': 365, 'n_estimators': 412, 'min_samples_split': 3, 'min_samples_leaf': 2}. Best is trial 15 with value: -0.15452380952380923.\u001b[0m\n",
            "\u001b[32m[I 2022-04-13 04:31:30,320]\u001b[0m Trial 20 finished with value: -0.278333333333333 and parameters: {'criterion': 'gini', 'bootstrap': 'False', 'max_depth': 546, 'max_features': 'sqrt', 'max_leaf_nodes': 530, 'n_estimators': 189, 'min_samples_split': 2, 'min_samples_leaf': 3}. Best is trial 15 with value: -0.15452380952380923.\u001b[0m\n",
            "\u001b[32m[I 2022-04-13 04:31:34,519]\u001b[0m Trial 21 finished with value: -0.2164285714285711 and parameters: {'criterion': 'gini', 'bootstrap': 'False', 'max_depth': 553, 'max_features': 'sqrt', 'max_leaf_nodes': 8, 'n_estimators': 430, 'min_samples_split': 3, 'min_samples_leaf': 1}. Best is trial 15 with value: -0.15452380952380923.\u001b[0m\n",
            "\u001b[32m[I 2022-04-13 04:31:38,120]\u001b[0m Trial 22 finished with value: -0.1514285714285711 and parameters: {'criterion': 'gini', 'bootstrap': 'False', 'max_depth': 556, 'max_features': 'sqrt', 'max_leaf_nodes': 170, 'n_estimators': 343, 'min_samples_split': 3, 'min_samples_leaf': 1}. Best is trial 22 with value: -0.1514285714285711.\u001b[0m\n",
            "\u001b[32m[I 2022-04-13 04:31:41,578]\u001b[0m Trial 23 finished with value: -0.343333333333333 and parameters: {'criterion': 'gini', 'bootstrap': 'False', 'max_depth': 183, 'max_features': 'sqrt', 'max_leaf_nodes': 292, 'n_estimators': 311, 'min_samples_split': 3, 'min_samples_leaf': 2}. Best is trial 22 with value: -0.1514285714285711.\u001b[0m\n",
            "\u001b[32m[I 2022-04-13 04:31:42,447]\u001b[0m Trial 24 finished with value: -0.40833333333333305 and parameters: {'criterion': 'gini', 'bootstrap': 'False', 'max_depth': 351, 'max_features': 'sqrt', 'max_leaf_nodes': 186, 'n_estimators': 21, 'min_samples_split': 3, 'min_samples_leaf': 3}. Best is trial 22 with value: -0.1514285714285711.\u001b[0m\n",
            "\u001b[32m[I 2022-04-13 04:31:44,868]\u001b[0m Trial 25 finished with value: -0.1514285714285711 and parameters: {'criterion': 'gini', 'bootstrap': 'False', 'max_depth': 236, 'max_features': 'sqrt', 'max_leaf_nodes': 417, 'n_estimators': 175, 'min_samples_split': 2, 'min_samples_leaf': 2}. Best is trial 22 with value: -0.1514285714285711.\u001b[0m\n",
            "\u001b[32m[I 2022-04-13 04:31:46,378]\u001b[0m Trial 26 finished with value: -0.3464285714285712 and parameters: {'criterion': 'gini', 'bootstrap': 'False', 'max_depth': 211, 'max_features': 'sqrt', 'max_leaf_nodes': 462, 'n_estimators': 93, 'min_samples_split': 2, 'min_samples_leaf': 1}. Best is trial 22 with value: -0.1514285714285711.\u001b[0m\n",
            "\u001b[32m[I 2022-04-13 04:31:48,807]\u001b[0m Trial 27 finished with value: -0.27833333333333304 and parameters: {'criterion': 'gini', 'bootstrap': 'False', 'max_depth': 12, 'max_features': 'sqrt', 'max_leaf_nodes': 137, 'n_estimators': 201, 'min_samples_split': 2, 'min_samples_leaf': 2}. Best is trial 22 with value: -0.1514285714285711.\u001b[0m\n",
            "\u001b[32m[I 2022-04-13 04:31:50,634]\u001b[0m Trial 28 finished with value: -0.343333333333333 and parameters: {'criterion': 'gini', 'bootstrap': 'False', 'max_depth': 253, 'max_features': 'log2', 'max_leaf_nodes': 745, 'n_estimators': 130, 'min_samples_split': 2, 'min_samples_leaf': 1}. Best is trial 22 with value: -0.1514285714285711.\u001b[0m\n",
            "\u001b[32m[I 2022-04-13 04:31:53,990]\u001b[0m Trial 29 finished with value: -0.40833333333333305 and parameters: {'criterion': 'gini', 'bootstrap': 'False', 'max_depth': 397, 'max_features': 'auto', 'max_leaf_nodes': 81, 'n_estimators': 316, 'min_samples_split': 2, 'min_samples_leaf': 4}. Best is trial 22 with value: -0.1514285714285711.\u001b[0m\n",
            "\u001b[32m[I 2022-04-13 04:31:59,917]\u001b[0m Trial 30 finished with value: -0.3402380952380949 and parameters: {'criterion': 'gini', 'bootstrap': 'False', 'max_depth': 746, 'max_features': 'sqrt', 'max_leaf_nodes': 192, 'n_estimators': 584, 'min_samples_split': 4, 'min_samples_leaf': 2}. Best is trial 22 with value: -0.1514285714285711.\u001b[0m\n",
            "\u001b[32m[I 2022-04-13 04:32:04,486]\u001b[0m Trial 31 finished with value: -0.2752380952380949 and parameters: {'criterion': 'gini', 'bootstrap': 'False', 'max_depth': 558, 'max_features': 'sqrt', 'max_leaf_nodes': 404, 'n_estimators': 454, 'min_samples_split': 3, 'min_samples_leaf': 3}. Best is trial 22 with value: -0.1514285714285711.\u001b[0m\n",
            "\u001b[32m[I 2022-04-13 04:32:08,372]\u001b[0m Trial 32 finished with value: -0.08952380952380923 and parameters: {'criterion': 'gini', 'bootstrap': 'False', 'max_depth': 445, 'max_features': 'sqrt', 'max_leaf_nodes': 303, 'n_estimators': 368, 'min_samples_split': 3, 'min_samples_leaf': 1}. Best is trial 32 with value: -0.08952380952380923.\u001b[0m\n",
            "\u001b[32m[I 2022-04-13 04:32:11,161]\u001b[0m Trial 33 finished with value: -0.2164285714285711 and parameters: {'criterion': 'gini', 'bootstrap': 'False', 'max_depth': 422, 'max_features': 'sqrt', 'max_leaf_nodes': 280, 'n_estimators': 229, 'min_samples_split': 3, 'min_samples_leaf': 1}. Best is trial 32 with value: -0.08952380952380923.\u001b[0m\n",
            "\u001b[32m[I 2022-04-13 04:32:14,976]\u001b[0m Trial 34 finished with value: -0.027619047619047342 and parameters: {'criterion': 'gini', 'bootstrap': 'False', 'max_depth': 311, 'max_features': 'sqrt', 'max_leaf_nodes': 85, 'n_estimators': 345, 'min_samples_split': 3, 'min_samples_leaf': 1}. Best is trial 34 with value: -0.027619047619047342.\u001b[0m\n",
            "\u001b[32m[I 2022-04-13 04:32:18,854]\u001b[0m Trial 35 finished with value: -0.1514285714285711 and parameters: {'criterion': 'gini', 'bootstrap': 'False', 'max_depth': 105, 'max_features': 'sqrt', 'max_leaf_nodes': 615, 'n_estimators': 285, 'min_samples_split': 3, 'min_samples_leaf': 2}. Best is trial 34 with value: -0.027619047619047342.\u001b[0m\n",
            "\u001b[32m[I 2022-04-13 04:32:21,957]\u001b[0m Trial 36 finished with value: -0.4640476190476187 and parameters: {'criterion': 'gini', 'bootstrap': 'True', 'max_depth': 132, 'max_features': 'sqrt', 'max_leaf_nodes': 607, 'n_estimators': 270, 'min_samples_split': 4, 'min_samples_leaf': 2}. Best is trial 34 with value: -0.027619047619047342.\u001b[0m\n",
            "\u001b[32m[I 2022-04-13 04:32:26,681]\u001b[0m Trial 37 finished with value: -0.278333333333333 and parameters: {'criterion': 'gini', 'bootstrap': 'False', 'max_depth': 247, 'max_features': 'log2', 'max_leaf_nodes': 438, 'n_estimators': 481, 'min_samples_split': 2, 'min_samples_leaf': 1}. Best is trial 34 with value: -0.027619047619047342.\u001b[0m\n",
            "\u001b[32m[I 2022-04-13 04:32:29,151]\u001b[0m Trial 38 finished with value: -0.2164285714285711 and parameters: {'criterion': 'gini', 'bootstrap': 'True', 'max_depth': 14, 'max_features': 'auto', 'max_leaf_nodes': 595, 'n_estimators': 179, 'min_samples_split': 3, 'min_samples_leaf': 4}. Best is trial 34 with value: -0.027619047619047342.\u001b[0m\n",
            "\u001b[32m[I 2022-04-13 04:32:29,781]\u001b[0m Trial 39 finished with value: -0.4764285714285711 and parameters: {'criterion': 'gini', 'bootstrap': 'False', 'max_depth': 148, 'max_features': 'sqrt', 'max_leaf_nodes': 806, 'n_estimators': 3, 'min_samples_split': 2, 'min_samples_leaf': 2}. Best is trial 34 with value: -0.027619047619047342.\u001b[0m\n",
            "\u001b[32m[I 2022-04-13 04:32:33,588]\u001b[0m Trial 40 finished with value: -0.3402380952380949 and parameters: {'criterion': 'gini', 'bootstrap': 'True', 'max_depth': 619, 'max_features': 'log2', 'max_leaf_nodes': 51, 'n_estimators': 354, 'min_samples_split': 3, 'min_samples_leaf': 5}. Best is trial 34 with value: -0.027619047619047342.\u001b[0m\n",
            "\u001b[32m[I 2022-04-13 04:32:37,044]\u001b[0m Trial 41 finished with value: -0.21333333333333301 and parameters: {'criterion': 'gini', 'bootstrap': 'False', 'max_depth': 71, 'max_features': 'sqrt', 'max_leaf_nodes': 693, 'n_estimators': 297, 'min_samples_split': 3, 'min_samples_leaf': 2}. Best is trial 34 with value: -0.027619047619047342.\u001b[0m\n",
            "\u001b[32m[I 2022-04-13 04:32:41,004]\u001b[0m Trial 42 finished with value: -0.278333333333333 and parameters: {'criterion': 'gini', 'bootstrap': 'False', 'max_depth': 353, 'max_features': 'sqrt', 'max_leaf_nodes': 336, 'n_estimators': 365, 'min_samples_split': 3, 'min_samples_leaf': 1}. Best is trial 34 with value: -0.027619047619047342.\u001b[0m\n",
            "\u001b[32m[I 2022-04-13 04:32:46,645]\u001b[0m Trial 43 finished with value: -0.15452380952380923 and parameters: {'criterion': 'gini', 'bootstrap': 'False', 'max_depth': 254, 'max_features': 'sqrt', 'max_leaf_nodes': 509, 'n_estimators': 523, 'min_samples_split': 4, 'min_samples_leaf': 1}. Best is trial 34 with value: -0.027619047619047342.\u001b[0m\n",
            "\u001b[32m[I 2022-04-13 04:32:48,381]\u001b[0m Trial 44 finished with value: -0.14833333333333304 and parameters: {'criterion': 'gini', 'bootstrap': 'False', 'max_depth': 453, 'max_features': 'sqrt', 'max_leaf_nodes': 78, 'n_estimators': 126, 'min_samples_split': 3, 'min_samples_leaf': 3}. Best is trial 34 with value: -0.027619047619047342.\u001b[0m\n",
            "\u001b[32m[I 2022-04-13 04:32:50,102]\u001b[0m Trial 45 finished with value: -0.5290476190476188 and parameters: {'criterion': 'entropy', 'bootstrap': 'False', 'max_depth': 456, 'max_features': 'sqrt', 'max_leaf_nodes': 67, 'n_estimators': 124, 'min_samples_split': 3, 'min_samples_leaf': 3}. Best is trial 34 with value: -0.027619047619047342.\u001b[0m\n",
            "\u001b[32m[I 2022-04-13 04:32:51,305]\u001b[0m Trial 46 finished with value: -0.4671428571428568 and parameters: {'criterion': 'gini', 'bootstrap': 'True', 'max_depth': 578, 'max_features': 'auto', 'max_leaf_nodes': 231, 'n_estimators': 50, 'min_samples_split': 4, 'min_samples_leaf': 3}. Best is trial 34 with value: -0.027619047619047342.\u001b[0m\n",
            "\u001b[32m[I 2022-04-13 04:32:53,168]\u001b[0m Trial 47 finished with value: -0.343333333333333 and parameters: {'criterion': 'gini', 'bootstrap': 'False', 'max_depth': 106, 'max_features': 'sqrt', 'max_leaf_nodes': 968, 'n_estimators': 90, 'min_samples_split': 2, 'min_samples_leaf': 4}. Best is trial 34 with value: -0.027619047619047342.\u001b[0m\n",
            "\u001b[32m[I 2022-04-13 04:32:56,079]\u001b[0m Trial 48 finished with value: -0.3990476190476187 and parameters: {'criterion': 'entropy', 'bootstrap': 'False', 'max_depth': 381, 'max_features': 'sqrt', 'max_leaf_nodes': 435, 'n_estimators': 234, 'min_samples_split': 3, 'min_samples_leaf': 2}. Best is trial 34 with value: -0.027619047619047342.\u001b[0m\n",
            "\u001b[32m[I 2022-04-13 04:32:58,443]\u001b[0m Trial 49 finished with value: -0.40523809523809484 and parameters: {'criterion': 'gini', 'bootstrap': 'False', 'max_depth': 214, 'max_features': 'log2', 'max_leaf_nodes': 92, 'n_estimators': 158, 'min_samples_split': 3, 'min_samples_leaf': 2}. Best is trial 34 with value: -0.027619047619047342.\u001b[0m\n"
          ]
        },
        {
          "output_type": "stream",
          "name": "stdout",
          "text": [
            "Accuracy: -0.027619047619047342\n",
            "TrainAccuracy: 1.0\n",
            "Accuracy: 0.7142857142857143\n",
            "              precision    recall  f1-score   support\n",
            "\n",
            "         0.0       0.83      0.75      0.79        20\n",
            "         1.0       0.50      0.62      0.56         8\n",
            "\n",
            "    accuracy                           0.71        28\n",
            "   macro avg       0.67      0.69      0.67        28\n",
            "weighted avg       0.74      0.71      0.72        28\n",
            "\n"
          ]
        }
      ]
    },
    {
      "cell_type": "markdown",
      "source": [
        "最適化の履歴をplot_optimization_history()メソッドを使い確認してみましょう。\n",
        "縦軸が目的変数、横軸が最適化のトライアル数になってます。オレンジの折れ線が最良の目的変数の値となっており、何回目のトライアルでベストパラメータが出たのかわかりやすくなってます。"
      ],
      "metadata": {
        "id": "Nz5P7pvYc8Oa"
      }
    },
    {
      "cell_type": "code",
      "source": [
        "optuna.visualization.plot_optimization_history(study)"
      ],
      "metadata": {
        "id": "WZbFkzSodF-A",
        "colab": {
          "base_uri": "https://localhost:8080/",
          "height": 542
        },
        "outputId": "cb67e28c-9311-4d88-c638-9a23dd1ca48b"
      },
      "execution_count": 15,
      "outputs": [
        {
          "output_type": "display_data",
          "data": {
            "text/html": [
              "<html>\n",
              "<head><meta charset=\"utf-8\" /></head>\n",
              "<body>\n",
              "    <div>            <script src=\"https://cdnjs.cloudflare.com/ajax/libs/mathjax/2.7.5/MathJax.js?config=TeX-AMS-MML_SVG\"></script><script type=\"text/javascript\">if (window.MathJax) {MathJax.Hub.Config({SVG: {font: \"STIX-Web\"}});}</script>                <script type=\"text/javascript\">window.PlotlyConfig = {MathJaxConfig: 'local'};</script>\n",
              "        <script src=\"https://cdn.plot.ly/plotly-2.8.3.min.js\"></script>                <div id=\"855e5cd9-36a0-4b97-ab53-c3348c198965\" class=\"plotly-graph-div\" style=\"height:525px; width:100%;\"></div>            <script type=\"text/javascript\">                                    window.PLOTLYENV=window.PLOTLYENV || {};                                    if (document.getElementById(\"855e5cd9-36a0-4b97-ab53-c3348c198965\")) {                    Plotly.newPlot(                        \"855e5cd9-36a0-4b97-ab53-c3348c198965\",                        [{\"mode\":\"markers\",\"name\":\"Objective Value\",\"x\":[0,1,2,3,4,5,6,7,8,9,10,11,12,13,14,15,16,17,18,19,20,21,22,23,24,25,26,27,28,29,30,31,32,33,34,35,36,37,38,39,40,41,42,43,44,45,46,47,48,49],\"y\":[-0.278333333333333,-0.278333333333333,-0.278333333333333,-0.28142857142857114,-0.4640476190476187,-0.3371428571428568,-0.3402380952380949,-0.3402380952380949,-0.278333333333333,-0.5290476190476188,-0.278333333333333,-0.278333333333333,-0.3402380952380949,-0.278333333333333,-0.278333333333333,-0.15452380952380923,-0.3402380952380949,-0.4021428571428568,-0.21333333333333301,-0.3402380952380949,-0.278333333333333,-0.2164285714285711,-0.1514285714285711,-0.343333333333333,-0.40833333333333305,-0.1514285714285711,-0.3464285714285712,-0.27833333333333304,-0.343333333333333,-0.40833333333333305,-0.3402380952380949,-0.2752380952380949,-0.08952380952380923,-0.2164285714285711,-0.027619047619047342,-0.1514285714285711,-0.4640476190476187,-0.278333333333333,-0.2164285714285711,-0.4764285714285711,-0.3402380952380949,-0.21333333333333301,-0.278333333333333,-0.15452380952380923,-0.14833333333333304,-0.5290476190476188,-0.4671428571428568,-0.343333333333333,-0.3990476190476187,-0.40523809523809484],\"type\":\"scatter\"},{\"name\":\"Best Value\",\"x\":[0,1,2,3,4,5,6,7,8,9,10,11,12,13,14,15,16,17,18,19,20,21,22,23,24,25,26,27,28,29,30,31,32,33,34,35,36,37,38,39,40,41,42,43,44,45,46,47,48,49],\"y\":[-0.278333333333333,-0.278333333333333,-0.278333333333333,-0.278333333333333,-0.278333333333333,-0.278333333333333,-0.278333333333333,-0.278333333333333,-0.278333333333333,-0.278333333333333,-0.278333333333333,-0.278333333333333,-0.278333333333333,-0.278333333333333,-0.278333333333333,-0.15452380952380923,-0.15452380952380923,-0.15452380952380923,-0.15452380952380923,-0.15452380952380923,-0.15452380952380923,-0.15452380952380923,-0.1514285714285711,-0.1514285714285711,-0.1514285714285711,-0.1514285714285711,-0.1514285714285711,-0.1514285714285711,-0.1514285714285711,-0.1514285714285711,-0.1514285714285711,-0.1514285714285711,-0.08952380952380923,-0.08952380952380923,-0.027619047619047342,-0.027619047619047342,-0.027619047619047342,-0.027619047619047342,-0.027619047619047342,-0.027619047619047342,-0.027619047619047342,-0.027619047619047342,-0.027619047619047342,-0.027619047619047342,-0.027619047619047342,-0.027619047619047342,-0.027619047619047342,-0.027619047619047342,-0.027619047619047342,-0.027619047619047342],\"type\":\"scatter\"}],                        {\"title\":{\"text\":\"Optimization History Plot\"},\"xaxis\":{\"title\":{\"text\":\"#Trials\"}},\"yaxis\":{\"title\":{\"text\":\"Objective Value\"}},\"template\":{\"data\":{\"bar\":[{\"error_x\":{\"color\":\"#2a3f5f\"},\"error_y\":{\"color\":\"#2a3f5f\"},\"marker\":{\"line\":{\"color\":\"#E5ECF6\",\"width\":0.5},\"pattern\":{\"fillmode\":\"overlay\",\"size\":10,\"solidity\":0.2}},\"type\":\"bar\"}],\"barpolar\":[{\"marker\":{\"line\":{\"color\":\"#E5ECF6\",\"width\":0.5},\"pattern\":{\"fillmode\":\"overlay\",\"size\":10,\"solidity\":0.2}},\"type\":\"barpolar\"}],\"carpet\":[{\"aaxis\":{\"endlinecolor\":\"#2a3f5f\",\"gridcolor\":\"white\",\"linecolor\":\"white\",\"minorgridcolor\":\"white\",\"startlinecolor\":\"#2a3f5f\"},\"baxis\":{\"endlinecolor\":\"#2a3f5f\",\"gridcolor\":\"white\",\"linecolor\":\"white\",\"minorgridcolor\":\"white\",\"startlinecolor\":\"#2a3f5f\"},\"type\":\"carpet\"}],\"choropleth\":[{\"colorbar\":{\"outlinewidth\":0,\"ticks\":\"\"},\"type\":\"choropleth\"}],\"contour\":[{\"colorbar\":{\"outlinewidth\":0,\"ticks\":\"\"},\"colorscale\":[[0.0,\"#0d0887\"],[0.1111111111111111,\"#46039f\"],[0.2222222222222222,\"#7201a8\"],[0.3333333333333333,\"#9c179e\"],[0.4444444444444444,\"#bd3786\"],[0.5555555555555556,\"#d8576b\"],[0.6666666666666666,\"#ed7953\"],[0.7777777777777778,\"#fb9f3a\"],[0.8888888888888888,\"#fdca26\"],[1.0,\"#f0f921\"]],\"type\":\"contour\"}],\"contourcarpet\":[{\"colorbar\":{\"outlinewidth\":0,\"ticks\":\"\"},\"type\":\"contourcarpet\"}],\"heatmap\":[{\"colorbar\":{\"outlinewidth\":0,\"ticks\":\"\"},\"colorscale\":[[0.0,\"#0d0887\"],[0.1111111111111111,\"#46039f\"],[0.2222222222222222,\"#7201a8\"],[0.3333333333333333,\"#9c179e\"],[0.4444444444444444,\"#bd3786\"],[0.5555555555555556,\"#d8576b\"],[0.6666666666666666,\"#ed7953\"],[0.7777777777777778,\"#fb9f3a\"],[0.8888888888888888,\"#fdca26\"],[1.0,\"#f0f921\"]],\"type\":\"heatmap\"}],\"heatmapgl\":[{\"colorbar\":{\"outlinewidth\":0,\"ticks\":\"\"},\"colorscale\":[[0.0,\"#0d0887\"],[0.1111111111111111,\"#46039f\"],[0.2222222222222222,\"#7201a8\"],[0.3333333333333333,\"#9c179e\"],[0.4444444444444444,\"#bd3786\"],[0.5555555555555556,\"#d8576b\"],[0.6666666666666666,\"#ed7953\"],[0.7777777777777778,\"#fb9f3a\"],[0.8888888888888888,\"#fdca26\"],[1.0,\"#f0f921\"]],\"type\":\"heatmapgl\"}],\"histogram\":[{\"marker\":{\"pattern\":{\"fillmode\":\"overlay\",\"size\":10,\"solidity\":0.2}},\"type\":\"histogram\"}],\"histogram2d\":[{\"colorbar\":{\"outlinewidth\":0,\"ticks\":\"\"},\"colorscale\":[[0.0,\"#0d0887\"],[0.1111111111111111,\"#46039f\"],[0.2222222222222222,\"#7201a8\"],[0.3333333333333333,\"#9c179e\"],[0.4444444444444444,\"#bd3786\"],[0.5555555555555556,\"#d8576b\"],[0.6666666666666666,\"#ed7953\"],[0.7777777777777778,\"#fb9f3a\"],[0.8888888888888888,\"#fdca26\"],[1.0,\"#f0f921\"]],\"type\":\"histogram2d\"}],\"histogram2dcontour\":[{\"colorbar\":{\"outlinewidth\":0,\"ticks\":\"\"},\"colorscale\":[[0.0,\"#0d0887\"],[0.1111111111111111,\"#46039f\"],[0.2222222222222222,\"#7201a8\"],[0.3333333333333333,\"#9c179e\"],[0.4444444444444444,\"#bd3786\"],[0.5555555555555556,\"#d8576b\"],[0.6666666666666666,\"#ed7953\"],[0.7777777777777778,\"#fb9f3a\"],[0.8888888888888888,\"#fdca26\"],[1.0,\"#f0f921\"]],\"type\":\"histogram2dcontour\"}],\"mesh3d\":[{\"colorbar\":{\"outlinewidth\":0,\"ticks\":\"\"},\"type\":\"mesh3d\"}],\"parcoords\":[{\"line\":{\"colorbar\":{\"outlinewidth\":0,\"ticks\":\"\"}},\"type\":\"parcoords\"}],\"pie\":[{\"automargin\":true,\"type\":\"pie\"}],\"scatter\":[{\"marker\":{\"colorbar\":{\"outlinewidth\":0,\"ticks\":\"\"}},\"type\":\"scatter\"}],\"scatter3d\":[{\"line\":{\"colorbar\":{\"outlinewidth\":0,\"ticks\":\"\"}},\"marker\":{\"colorbar\":{\"outlinewidth\":0,\"ticks\":\"\"}},\"type\":\"scatter3d\"}],\"scattercarpet\":[{\"marker\":{\"colorbar\":{\"outlinewidth\":0,\"ticks\":\"\"}},\"type\":\"scattercarpet\"}],\"scattergeo\":[{\"marker\":{\"colorbar\":{\"outlinewidth\":0,\"ticks\":\"\"}},\"type\":\"scattergeo\"}],\"scattergl\":[{\"marker\":{\"colorbar\":{\"outlinewidth\":0,\"ticks\":\"\"}},\"type\":\"scattergl\"}],\"scattermapbox\":[{\"marker\":{\"colorbar\":{\"outlinewidth\":0,\"ticks\":\"\"}},\"type\":\"scattermapbox\"}],\"scatterpolar\":[{\"marker\":{\"colorbar\":{\"outlinewidth\":0,\"ticks\":\"\"}},\"type\":\"scatterpolar\"}],\"scatterpolargl\":[{\"marker\":{\"colorbar\":{\"outlinewidth\":0,\"ticks\":\"\"}},\"type\":\"scatterpolargl\"}],\"scatterternary\":[{\"marker\":{\"colorbar\":{\"outlinewidth\":0,\"ticks\":\"\"}},\"type\":\"scatterternary\"}],\"surface\":[{\"colorbar\":{\"outlinewidth\":0,\"ticks\":\"\"},\"colorscale\":[[0.0,\"#0d0887\"],[0.1111111111111111,\"#46039f\"],[0.2222222222222222,\"#7201a8\"],[0.3333333333333333,\"#9c179e\"],[0.4444444444444444,\"#bd3786\"],[0.5555555555555556,\"#d8576b\"],[0.6666666666666666,\"#ed7953\"],[0.7777777777777778,\"#fb9f3a\"],[0.8888888888888888,\"#fdca26\"],[1.0,\"#f0f921\"]],\"type\":\"surface\"}],\"table\":[{\"cells\":{\"fill\":{\"color\":\"#EBF0F8\"},\"line\":{\"color\":\"white\"}},\"header\":{\"fill\":{\"color\":\"#C8D4E3\"},\"line\":{\"color\":\"white\"}},\"type\":\"table\"}]},\"layout\":{\"annotationdefaults\":{\"arrowcolor\":\"#2a3f5f\",\"arrowhead\":0,\"arrowwidth\":1},\"autotypenumbers\":\"strict\",\"coloraxis\":{\"colorbar\":{\"outlinewidth\":0,\"ticks\":\"\"}},\"colorscale\":{\"diverging\":[[0,\"#8e0152\"],[0.1,\"#c51b7d\"],[0.2,\"#de77ae\"],[0.3,\"#f1b6da\"],[0.4,\"#fde0ef\"],[0.5,\"#f7f7f7\"],[0.6,\"#e6f5d0\"],[0.7,\"#b8e186\"],[0.8,\"#7fbc41\"],[0.9,\"#4d9221\"],[1,\"#276419\"]],\"sequential\":[[0.0,\"#0d0887\"],[0.1111111111111111,\"#46039f\"],[0.2222222222222222,\"#7201a8\"],[0.3333333333333333,\"#9c179e\"],[0.4444444444444444,\"#bd3786\"],[0.5555555555555556,\"#d8576b\"],[0.6666666666666666,\"#ed7953\"],[0.7777777777777778,\"#fb9f3a\"],[0.8888888888888888,\"#fdca26\"],[1.0,\"#f0f921\"]],\"sequentialminus\":[[0.0,\"#0d0887\"],[0.1111111111111111,\"#46039f\"],[0.2222222222222222,\"#7201a8\"],[0.3333333333333333,\"#9c179e\"],[0.4444444444444444,\"#bd3786\"],[0.5555555555555556,\"#d8576b\"],[0.6666666666666666,\"#ed7953\"],[0.7777777777777778,\"#fb9f3a\"],[0.8888888888888888,\"#fdca26\"],[1.0,\"#f0f921\"]]},\"colorway\":[\"#636efa\",\"#EF553B\",\"#00cc96\",\"#ab63fa\",\"#FFA15A\",\"#19d3f3\",\"#FF6692\",\"#B6E880\",\"#FF97FF\",\"#FECB52\"],\"font\":{\"color\":\"#2a3f5f\"},\"geo\":{\"bgcolor\":\"white\",\"lakecolor\":\"white\",\"landcolor\":\"#E5ECF6\",\"showlakes\":true,\"showland\":true,\"subunitcolor\":\"white\"},\"hoverlabel\":{\"align\":\"left\"},\"hovermode\":\"closest\",\"mapbox\":{\"style\":\"light\"},\"paper_bgcolor\":\"white\",\"plot_bgcolor\":\"#E5ECF6\",\"polar\":{\"angularaxis\":{\"gridcolor\":\"white\",\"linecolor\":\"white\",\"ticks\":\"\"},\"bgcolor\":\"#E5ECF6\",\"radialaxis\":{\"gridcolor\":\"white\",\"linecolor\":\"white\",\"ticks\":\"\"}},\"scene\":{\"xaxis\":{\"backgroundcolor\":\"#E5ECF6\",\"gridcolor\":\"white\",\"gridwidth\":2,\"linecolor\":\"white\",\"showbackground\":true,\"ticks\":\"\",\"zerolinecolor\":\"white\"},\"yaxis\":{\"backgroundcolor\":\"#E5ECF6\",\"gridcolor\":\"white\",\"gridwidth\":2,\"linecolor\":\"white\",\"showbackground\":true,\"ticks\":\"\",\"zerolinecolor\":\"white\"},\"zaxis\":{\"backgroundcolor\":\"#E5ECF6\",\"gridcolor\":\"white\",\"gridwidth\":2,\"linecolor\":\"white\",\"showbackground\":true,\"ticks\":\"\",\"zerolinecolor\":\"white\"}},\"shapedefaults\":{\"line\":{\"color\":\"#2a3f5f\"}},\"ternary\":{\"aaxis\":{\"gridcolor\":\"white\",\"linecolor\":\"white\",\"ticks\":\"\"},\"baxis\":{\"gridcolor\":\"white\",\"linecolor\":\"white\",\"ticks\":\"\"},\"bgcolor\":\"#E5ECF6\",\"caxis\":{\"gridcolor\":\"white\",\"linecolor\":\"white\",\"ticks\":\"\"}},\"title\":{\"x\":0.05},\"xaxis\":{\"automargin\":true,\"gridcolor\":\"white\",\"linecolor\":\"white\",\"ticks\":\"\",\"title\":{\"standoff\":15},\"zerolinecolor\":\"white\",\"zerolinewidth\":2},\"yaxis\":{\"automargin\":true,\"gridcolor\":\"white\",\"linecolor\":\"white\",\"ticks\":\"\",\"title\":{\"standoff\":15},\"zerolinecolor\":\"white\",\"zerolinewidth\":2}}}},                        {\"responsive\": true}                    ).then(function(){\n",
              "                            \n",
              "var gd = document.getElementById('855e5cd9-36a0-4b97-ab53-c3348c198965');\n",
              "var x = new MutationObserver(function (mutations, observer) {{\n",
              "        var display = window.getComputedStyle(gd).display;\n",
              "        if (!display || display === 'none') {{\n",
              "            console.log([gd, 'removed!']);\n",
              "            Plotly.purge(gd);\n",
              "            observer.disconnect();\n",
              "        }}\n",
              "}});\n",
              "\n",
              "// Listen for the removal of the full notebook cells\n",
              "var notebookContainer = gd.closest('#notebook-container');\n",
              "if (notebookContainer) {{\n",
              "    x.observe(notebookContainer, {childList: true});\n",
              "}}\n",
              "\n",
              "// Listen for the clearing of the current output cell\n",
              "var outputEl = gd.closest('.output');\n",
              "if (outputEl) {{\n",
              "    x.observe(outputEl, {childList: true});\n",
              "}}\n",
              "\n",
              "                        })                };                            </script>        </div>\n",
              "</body>\n",
              "</html>"
            ]
          },
          "metadata": {}
        }
      ]
    },
    {
      "cell_type": "markdown",
      "source": [
        "グラフをみてみると61回目のトライアルでベストパラメーターが出たのがわかりやくなっています。"
      ],
      "metadata": {
        "id": "RzcLsFL8HEg_"
      }
    },
    {
      "cell_type": "markdown",
      "source": [
        "## 特徴量の重要度の評価"
      ],
      "metadata": {
        "id": "TQSbk2_iIW9j"
      }
    },
    {
      "cell_type": "markdown",
      "source": [
        "妥当性の検証を終え、クロスバリデーションとOptunaでより正確性が高かったモデルを使い、特徴量の重要度の評価を行います。\n",
        "特徴量の重要度の評価はScikit-learnのランダムフォレストモデルライブラリのfeature_importances()という関数を使います。\n"
      ],
      "metadata": {
        "id": "CJSXajwpdRfK"
      }
    },
    {
      "cell_type": "code",
      "source": [
        "if accuracy_random_forest_op > accuracy_random_forest:\n",
        "  print(\"妥当性の検証方法でより正確だったのはOptunaです\")\n",
        "  feature_importances = rforest_model_post_optuna.feature_importances_\n",
        "else:\n",
        "  print(\"妥当性の検証方法でより正確だったのはCross Validationです\")\n",
        "  feature_importances = rforest_model_cv.feature_importances_\n",
        "\n",
        "feature_importances_dict = {}\n",
        "for i, importance in enumerate(feature_importances):\n",
        "  perc = importance * 100\n",
        "  feature_importances_dict[finalized_df.columns[i+1]] = perc # 一行目は出力行のため、考慮しない\n",
        "\n",
        "sorted_dict = {}\n",
        "sorted_keys = sorted(feature_importances_dict, key=feature_importances_dict.get)\n",
        "for w in sorted_keys:\n",
        "    sorted_dict[w] =  feature_importances_dict[w]\n",
        "  \n",
        "for keys in sorted_dict.keys():\n",
        "  print(f\"フィーチャー名：{keys:>12s}は出力データの結果に{sorted_dict[keys]:>7.2f}%関与しています\")"
      ],
      "metadata": {
        "id": "0kObwlht9ssY",
        "colab": {
          "base_uri": "https://localhost:8080/"
        },
        "outputId": "8436eb89-1557-480a-f892-43c8f9285294"
      },
      "execution_count": 16,
      "outputs": [
        {
          "output_type": "stream",
          "name": "stdout",
          "text": [
            "妥当性の検証方法でより正確だったのはCross Validationです\n",
            "フィーチャー名：       IL-13は出力データの結果に   0.00%関与しています\n",
            "フィーチャー名：      IL-1RAは出力データの結果に   0.00%関与しています\n",
            "フィーチャー名：       IL-1bは出力データの結果に   0.00%関与しています\n",
            "フィーチャー名：        IL-3は出力データの結果に   0.00%関与しています\n",
            "フィーチャー名：        IL-4は出力データの結果に   0.00%関与しています\n",
            "フィーチャー名：        VEGFは出力データの結果に   0.00%関与しています\n",
            "フィーチャー名：         ageは出力データの結果に   0.13%関与しています\n",
            "フィーチャー名：   P/F-ratioは出力データの結果に   0.19%関与しています\n",
            "フィーチャー名：Baseline-ILDは出力データの結果に   0.30%関与しています\n",
            "フィーチャー名：        IPAFは出力データの結果に   0.34%関与しています\n",
            "フィーチャー名：90day-mortalityは出力データの結果に   0.37%関与しています\n",
            "フィーチャー名：Collagen-diseaseは出力データの結果に   0.58%関与しています\n",
            "フィーチャー名：       G-CSFは出力データの結果に   0.69%関与しています\n",
            "フィーチャー名：Brinkman-Indexは出力データの結果に   0.82%関与しています\n",
            "フィーチャー名：      MIP-1aは出力データの結果に   0.96%関与しています\n",
            "フィーチャー名：    BAL(M-%)は出力データの結果に   1.01%関与しています\n",
            "フィーチャー名：smoking-statusは出力データの結果に   1.03%関与しています\n",
            "フィーチャー名：      IL-36βは出力データの結果に   1.12%関与しています\n",
            "フィーチャー名：     EOTAXINは出力データの結果に   1.22%関与しています\n",
            "フィーチャー名：  BAL(CD4/8)は出力データの結果に   1.24%関与しています\n",
            "フィーチャー名：       TGFB3は出力データの結果に   1.26%関与しています\n",
            "フィーチャー名：      MIP-1bは出力データの結果に   1.29%関与しています\n",
            "フィーチャー名：  BAL(Eos-%)は出力データの結果に   1.31%関与しています\n",
            "フィーチャー名：        IL-8は出力データの結果に   1.32%関与しています\n",
            "フィーチャー名：      sCD40Lは出力データの結果に   1.36%関与しています\n",
            "フィーチャー名：    IL-12P40は出力データの結果に   1.45%関与しています\n",
            "フィーチャー名：       TGFB1は出力データの結果に   1.46%関与しています\n",
            "フィーチャー名：        IL-5は出力データの結果に   1.48%関与しています\n",
            "フィーチャー名：         MDCは出力データの結果に   1.50%関与しています\n",
            "フィーチャー名：       MCP-1は出力データの結果に   1.53%関与しています\n",
            "フィーチャー名： FRACTALKINEは出力データの結果に   1.55%関与しています\n",
            "フィーチャー名：      Flt-3Lは出力データの結果に   1.57%関与しています\n",
            "フィーチャー名：        TNFbは出力データの結果に   1.66%関与しています\n",
            "フィーチャー名：       MMP-1は出力データの結果に   1.67%関与しています\n",
            "フィーチャー名：       TGFB2は出力データの結果に   1.72%関与しています\n",
            "フィーチャー名：        KL-6は出力データの結果に   1.72%関与しています\n",
            "フィーチャー名：BAL(Lymph-%)は出力データの結果に   1.77%関与しています\n",
            "フィーチャー名：       IL-10は出力データの結果に   1.80%関与しています\n",
            "フィーチャー名：        IL-9は出力データの結果に   1.93%関与しています\n",
            "フィーチャー名：       IL-1aは出力データの結果に   1.94%関与しています\n",
            "フィーチャー名：   emphysemaは出力データの結果に   1.94%関与しています\n",
            "フィーチャー名：      GM-CSFは出力データの結果に   1.99%関与しています\n",
            "フィーチャー名：       IFN-gは出力データの結果に   2.04%関与しています\n",
            "フィーチャー名：       IL-17は出力データの結果に   2.09%関与しています\n",
            "フィーチャー名：       IP-10は出力データの結果に   2.11%関与しています\n",
            "フィーチャー名：         GROは出力データの結果に   2.13%関与しています\n",
            "フィーチャー名：    IL-12P70は出力データの結果に   2.21%関与しています\n",
            "フィーチャー名：        TNFaは出力データの結果に   2.25%関与しています\n",
            "フィーチャー名：       FGF-2は出力データの結果に   2.37%関与しています\n",
            "フィーチャー名：       TGF-aは出力データの結果に   2.43%関与しています\n",
            "フィーチャー名：       MMP-7は出力データの結果に   2.54%関与しています\n",
            "フィーチャー名：        IL-6は出力データの結果に   2.64%関与しています\n",
            "フィーチャー名：        IL-2は出力データの結果に   2.65%関与しています\n",
            "フィーチャー名：         LDHは出力データの結果に   2.66%関与しています\n",
            "フィーチャー名：         CRPは出力データの結果に   2.76%関与しています\n",
            "フィーチャー名：BAL(neutro-%)は出力データの結果に   2.81%関与しています\n",
            "フィーチャー名：        IL-7は出力データの結果に   2.95%関与しています\n",
            "フィーチャー名：      IFN-a2は出力データの結果に   3.03%関与しています\n",
            "フィーチャー名：         EGFは出力データの結果に   3.15%関与しています\n",
            "フィーチャー名：       MCP-3は出力データの結果に   5.75%関与しています\n",
            "フィーチャー名：       IL-15は出力データの結果に   6.19%関与しています\n"
          ]
        }
      ]
    },
    {
      "cell_type": "markdown",
      "source": [
        "##  特徴量の重要度の評価に基づきモデル再構築"
      ],
      "metadata": {
        "id": "oSzY43HdJjcR"
      }
    },
    {
      "cell_type": "markdown",
      "source": [
        "特徴量設計は、モデルタイプやそのパラメータよりもモデルの品質に大きな影響を与えるという共通認識があります。特徴量選択が重要な問題である理由として、実際のパターンを隠してしまうほどの余分な特徴量で学習してしまうと、本来のパターンを見つけるのが難しくなります。この場合、モデルは不要な特徴量のノイズパターンを使用し始め、結果としてパフォーマンスの低下につながります。加え、特徴量の数を減らすと、一般的にモデルの学習（トレーニング）が大幅に速くなります。そして大抵の場合、結果として得られるモデルは単純で理解しやすいものとなります。常に単純なモデルになるように心がけ、ノイズを削除し、ロバストなモデル作成を心がける必要があります。詳しくはこちらを参照して下さい [[4](https://www.rapidminer.jp/wp-content/uploads/2020/05/%E6%A9%9F%E6%A2%B0%E5%AD%A6%E7%BF%92%E3%81%AE%E3%81%9F%E3%82%81%E3%81%AE%E7%89%B9%E5%BE%B4%E9%87%8F%E6%9C%80%E9%81%A9%E5%8C%96.pdf)]。\n",
        "\n",
        "今回はForward Selectionという考え方を応用し、特徴量の重要度の評価で最も正答率が高かった10個の属性を保持して再度モデルを作成します。"
      ],
      "metadata": {
        "id": "QCqhOn89d4da"
      }
    },
    {
      "cell_type": "code",
      "source": [
        "top_ten_params = list(sorted_dict.keys())[-10:]\n",
        "top_ten_params.append('90day-mortality')\n",
        "print(f\"The top ten parameters are: {top_ten_params}\")\n",
        "\n",
        "# 最後に使用したPandasデータフレームをコピーを作成する\n",
        "finalized_df_c = finalized_df.copy()\n",
        "\n",
        "# 新しいデータフレームから重要因子以外を取り除く\n",
        "finalized_df_c = finalized_df_c.drop(columns=[col for col in finalized_df.columns if col not in top_ten_params])\n",
        "\n",
        "# 行数と列数を変数として保管する\n",
        "NUM_ROWS, NUM_COLS = finalized_df_c.shape[0], finalized_df_c.shape[1]\n",
        "\n",
        "# Y (ラベル) ターゲットラベル\n",
        "Y_col = '90day-mortality'\n",
        "# X (フィーチャー) ターゲットラベル以外の全ての行\n",
        "X_cols = finalized_df_c.loc[:, finalized_df_c.columns != Y_col].columns\n",
        "\n",
        "X_train, X_test, y_train, y_test = \\\n",
        "train_test_split(finalized_df_c[X_cols], finalized_df_c[Y_col],test_size=0.2, random_state=42)\n",
        "\n",
        "print(\"X_train.shape = \", X_train.shape, \" \\t y_train.shape = \", y_train.shape)\n",
        "print(\"X_test.shape = \", X_test.shape, \" \\t y_test.shape = \", y_test.shape)\n",
        "\n",
        "study = optuna.create_study(direction='maximize')\n",
        "study.optimize(objective, n_trials=50)\n",
        "\n",
        "trial = study.best_trial\n",
        "print('Accuracy: {}'.format(trial.value))\n",
        "\n",
        "# チューニングしたハイパーパラメーターをフィット\n",
        "rforest_model_post_optuna_opt = ensemble.RandomForestClassifier(bootstrap = study.best_params['bootstrap'], criterion = study.best_params['criterion'],\n",
        "                                     max_depth = study.best_params['max_depth'], max_features = study.best_params['max_features'],\n",
        "                                     max_leaf_nodes = study.best_params['max_leaf_nodes'],n_estimators = study.best_params['n_estimators'],\n",
        "                                     min_samples_split = study.best_params['min_samples_split'],min_samples_leaf = study.best_params['min_samples_leaf'],                                     \n",
        "                                     n_jobs=2)\n",
        "\n",
        "# モデルを再度トレーニングする\n",
        "rforest_model_post_optuna_opt.fit(X_train, y_train) \n",
        "\n",
        "# 再度トレーニングした後のモデルのパフォーマンス検証\n",
        "# テストデータにrforest_modelに.predict()関数を応用し、RFモデルがラベルを何個正確に予測出来たかを検証する\n",
        "y_pred_op = rforest_model_post_optuna_opt.predict(X_test)\n",
        "\n",
        "#モデルを作成する段階でのモデルの識別精度\n",
        "trainaccuracy_random_forest = rforest_model_post_optuna_opt.score(X_train, y_train)\n",
        "print('TrainAccuracy: {}'.format(trainaccuracy_random_forest))\n",
        "\n",
        "#作成したモデルに学習に使用していない評価用のデータセットを入力し精度を確認\n",
        "accuracy_random_forest = accuracy_score(y_test, y_pred_op)\n",
        "print('Accuracy: {}'.format(accuracy_random_forest))\n",
        "\n",
        "# 正確性の出力\n",
        "print(classification_report(y_test, y_pred_op))\n",
        "\n",
        "# フィーチャーの重要度を出力するコード\n",
        "feature_importances_opt = rforest_model_post_optuna_opt.feature_importances_\n",
        "\n",
        "feature_importances_dict = {}\n",
        "for i, importance in enumerate(feature_importances_opt):\n",
        "  perc = importance * 100\n",
        "  feature_importances_dict[finalized_df_c.columns[i+1]] = perc\n",
        "\n",
        "sorted_dict = {}\n",
        "sorted_keys = sorted(feature_importances_dict, key=feature_importances_dict.get)\n",
        "for w in sorted_keys:\n",
        "    sorted_dict[w] =  feature_importances_dict[w]\n",
        "  \n",
        "for keys in sorted_dict.keys():\n",
        "  print(f\"フィーチャー名：{keys:>12s}は出力データの結果に{sorted_dict[keys]:>7.2f}%関与しています\")"
      ],
      "metadata": {
        "id": "U0bu0FLieIiN",
        "colab": {
          "base_uri": "https://localhost:8080/"
        },
        "outputId": "a4d6ccbe-1b93-444a-c23b-4400656de269"
      },
      "execution_count": 17,
      "outputs": [
        {
          "output_type": "stream",
          "name": "stderr",
          "text": [
            "\u001b[32m[I 2022-04-13 04:32:59,534]\u001b[0m A new study created in memory with name: no-name-a3768183-2743-4bf5-b9ad-6afc4bbfba76\u001b[0m\n"
          ]
        },
        {
          "output_type": "stream",
          "name": "stdout",
          "text": [
            "The top ten parameters are: ['IL-6', 'IL-2', 'LDH', 'CRP', 'BAL(neutro-%)', 'IL-7', 'IFN-a2', 'EGF', 'MCP-3', 'IL-15', '90day-mortality']\n",
            "X_train.shape =  (74, 10)  \t y_train.shape =  (74,)\n",
            "X_test.shape =  (19, 10)  \t y_test.shape =  (19,)\n"
          ]
        },
        {
          "output_type": "stream",
          "name": "stderr",
          "text": [
            "\u001b[32m[I 2022-04-13 04:33:00,348]\u001b[0m Trial 0 finished with value: -0.4671428571428568 and parameters: {'criterion': 'gini', 'bootstrap': 'True', 'max_depth': 689, 'max_features': 'sqrt', 'max_leaf_nodes': 630, 'n_estimators': 13, 'min_samples_split': 3, 'min_samples_leaf': 4}. Best is trial 0 with value: -0.4671428571428568.\u001b[0m\n",
            "\u001b[32m[I 2022-04-13 04:33:02,230]\u001b[0m Trial 1 finished with value: -0.2164285714285712 and parameters: {'criterion': 'gini', 'bootstrap': 'False', 'max_depth': 502, 'max_features': 'auto', 'max_leaf_nodes': 643, 'n_estimators': 132, 'min_samples_split': 3, 'min_samples_leaf': 2}. Best is trial 1 with value: -0.2164285714285712.\u001b[0m\n",
            "\u001b[32m[I 2022-04-13 04:33:08,106]\u001b[0m Trial 2 finished with value: -0.2752380952380949 and parameters: {'criterion': 'entropy', 'bootstrap': 'False', 'max_depth': 195, 'max_features': 'sqrt', 'max_leaf_nodes': 117, 'n_estimators': 567, 'min_samples_split': 4, 'min_samples_leaf': 3}. Best is trial 1 with value: -0.2164285714285712.\u001b[0m\n",
            "\u001b[32m[I 2022-04-13 04:33:13,244]\u001b[0m Trial 3 finished with value: -0.278333333333333 and parameters: {'criterion': 'gini', 'bootstrap': 'False', 'max_depth': 322, 'max_features': 'sqrt', 'max_leaf_nodes': 396, 'n_estimators': 479, 'min_samples_split': 4, 'min_samples_leaf': 7}. Best is trial 1 with value: -0.2164285714285712.\u001b[0m\n",
            "\u001b[32m[I 2022-04-13 04:33:17,200]\u001b[0m Trial 4 finished with value: -0.4640476190476187 and parameters: {'criterion': 'gini', 'bootstrap': 'False', 'max_depth': 322, 'max_features': 'auto', 'max_leaf_nodes': 343, 'n_estimators': 386, 'min_samples_split': 5, 'min_samples_leaf': 5}. Best is trial 1 with value: -0.2164285714285712.\u001b[0m\n",
            "\u001b[32m[I 2022-04-13 04:33:25,081]\u001b[0m Trial 5 finished with value: -0.278333333333333 and parameters: {'criterion': 'gini', 'bootstrap': 'False', 'max_depth': 54, 'max_features': 'auto', 'max_leaf_nodes': 569, 'n_estimators': 803, 'min_samples_split': 4, 'min_samples_leaf': 10}. Best is trial 1 with value: -0.2164285714285712.\u001b[0m\n",
            "\u001b[32m[I 2022-04-13 04:33:28,545]\u001b[0m Trial 6 finished with value: -0.278333333333333 and parameters: {'criterion': 'gini', 'bootstrap': 'True', 'max_depth': 496, 'max_features': 'log2', 'max_leaf_nodes': 395, 'n_estimators': 319, 'min_samples_split': 3, 'min_samples_leaf': 2}. Best is trial 1 with value: -0.2164285714285712.\u001b[0m\n",
            "\u001b[32m[I 2022-04-13 04:33:34,998]\u001b[0m Trial 7 finished with value: -0.4021428571428568 and parameters: {'criterion': 'gini', 'bootstrap': 'True', 'max_depth': 286, 'max_features': 'auto', 'max_leaf_nodes': 983, 'n_estimators': 648, 'min_samples_split': 5, 'min_samples_leaf': 4}. Best is trial 1 with value: -0.2164285714285712.\u001b[0m\n",
            "\u001b[32m[I 2022-04-13 04:33:36,082]\u001b[0m Trial 8 finished with value: -0.4021428571428568 and parameters: {'criterion': 'gini', 'bootstrap': 'True', 'max_depth': 600, 'max_features': 'sqrt', 'max_leaf_nodes': 334, 'n_estimators': 37, 'min_samples_split': 2, 'min_samples_leaf': 10}. Best is trial 1 with value: -0.2164285714285712.\u001b[0m\n",
            "\u001b[32m[I 2022-04-13 04:33:39,246]\u001b[0m Trial 9 finished with value: -0.3402380952380949 and parameters: {'criterion': 'gini', 'bootstrap': 'False', 'max_depth': 821, 'max_features': 'log2', 'max_leaf_nodes': 936, 'n_estimators': 275, 'min_samples_split': 2, 'min_samples_leaf': 7}. Best is trial 1 with value: -0.2164285714285712.\u001b[0m\n",
            "\u001b[32m[I 2022-04-13 04:33:48,338]\u001b[0m Trial 10 finished with value: -0.3402380952380949 and parameters: {'criterion': 'entropy', 'bootstrap': 'False', 'max_depth': 943, 'max_features': 'auto', 'max_leaf_nodes': 758, 'n_estimators': 975, 'min_samples_split': 3, 'min_samples_leaf': 1}. Best is trial 1 with value: -0.2164285714285712.\u001b[0m\n",
            "\u001b[32m[I 2022-04-13 04:33:54,695]\u001b[0m Trial 11 finished with value: -0.3402380952380949 and parameters: {'criterion': 'entropy', 'bootstrap': 'False', 'max_depth': 72, 'max_features': 'sqrt', 'max_leaf_nodes': 27, 'n_estimators': 634, 'min_samples_split': 4, 'min_samples_leaf': 3}. Best is trial 1 with value: -0.2164285714285712.\u001b[0m\n",
            "\u001b[32m[I 2022-04-13 04:33:57,297]\u001b[0m Trial 12 finished with value: -0.5259523809523806 and parameters: {'criterion': 'entropy', 'bootstrap': 'False', 'max_depth': 466, 'max_features': 'auto', 'max_leaf_nodes': 42, 'n_estimators': 183, 'min_samples_split': 3, 'min_samples_leaf': 1}. Best is trial 1 with value: -0.2164285714285712.\u001b[0m\n",
            "\u001b[32m[I 2022-04-13 04:34:03,400]\u001b[0m Trial 13 finished with value: -0.3402380952380949 and parameters: {'criterion': 'entropy', 'bootstrap': 'False', 'max_depth': 194, 'max_features': 'sqrt', 'max_leaf_nodes': 217, 'n_estimators': 605, 'min_samples_split': 4, 'min_samples_leaf': 3}. Best is trial 1 with value: -0.2164285714285712.\u001b[0m\n",
            "\u001b[32m[I 2022-04-13 04:34:05,766]\u001b[0m Trial 14 finished with value: -0.4671428571428568 and parameters: {'criterion': 'entropy', 'bootstrap': 'False', 'max_depth': 419, 'max_features': 'log2', 'max_leaf_nodes': 748, 'n_estimators': 174, 'min_samples_split': 2, 'min_samples_leaf': 6}. Best is trial 1 with value: -0.2164285714285712.\u001b[0m\n",
            "\u001b[32m[I 2022-04-13 04:34:13,381]\u001b[0m Trial 15 finished with value: -0.3402380952380949 and parameters: {'criterion': 'entropy', 'bootstrap': 'False', 'max_depth': 668, 'max_features': 'sqrt', 'max_leaf_nodes': 186, 'n_estimators': 805, 'min_samples_split': 5, 'min_samples_leaf': 2}. Best is trial 1 with value: -0.2164285714285712.\u001b[0m\n",
            "\u001b[32m[I 2022-04-13 04:34:18,670]\u001b[0m Trial 16 finished with value: -0.2752380952380949 and parameters: {'criterion': 'entropy', 'bootstrap': 'False', 'max_depth': 173, 'max_features': 'auto', 'max_leaf_nodes': 714, 'n_estimators': 490, 'min_samples_split': 3, 'min_samples_leaf': 3}. Best is trial 1 with value: -0.2164285714285712.\u001b[0m\n",
            "\u001b[32m[I 2022-04-13 04:34:23,542]\u001b[0m Trial 17 finished with value: -0.4021428571428568 and parameters: {'criterion': 'entropy', 'bootstrap': 'False', 'max_depth': 591, 'max_features': 'auto', 'max_leaf_nodes': 806, 'n_estimators': 439, 'min_samples_split': 3, 'min_samples_leaf': 5}. Best is trial 1 with value: -0.2164285714285712.\u001b[0m\n",
            "\u001b[32m[I 2022-04-13 04:34:30,668]\u001b[0m Trial 18 finished with value: -0.21333333333333301 and parameters: {'criterion': 'gini', 'bootstrap': 'True', 'max_depth': 193, 'max_features': 'sqrt', 'max_leaf_nodes': 514, 'n_estimators': 740, 'min_samples_split': 4, 'min_samples_leaf': 2}. Best is trial 18 with value: -0.21333333333333301.\u001b[0m\n",
            "\u001b[32m[I 2022-04-13 04:34:37,612]\u001b[0m Trial 19 finished with value: -0.278333333333333 and parameters: {'criterion': 'gini', 'bootstrap': 'True', 'max_depth': 395, 'max_features': 'log2', 'max_leaf_nodes': 502, 'n_estimators': 765, 'min_samples_split': 4, 'min_samples_leaf': 1}. Best is trial 18 with value: -0.21333333333333301.\u001b[0m\n",
            "\u001b[32m[I 2022-04-13 04:34:46,756]\u001b[0m Trial 20 finished with value: -0.278333333333333 and parameters: {'criterion': 'gini', 'bootstrap': 'True', 'max_depth': 745, 'max_features': 'sqrt', 'max_leaf_nodes': 595, 'n_estimators': 984, 'min_samples_split': 2, 'min_samples_leaf': 8}. Best is trial 18 with value: -0.21333333333333301.\u001b[0m\n",
            "\u001b[32m[I 2022-04-13 04:34:52,599]\u001b[0m Trial 21 finished with value: -0.4021428571428568 and parameters: {'criterion': 'gini', 'bootstrap': 'True', 'max_depth': 166, 'max_features': 'sqrt', 'max_leaf_nodes': 474, 'n_estimators': 566, 'min_samples_split': 4, 'min_samples_leaf': 2}. Best is trial 18 with value: -0.21333333333333301.\u001b[0m\n",
            "\u001b[32m[I 2022-04-13 04:34:59,550]\u001b[0m Trial 22 finished with value: -0.278333333333333 and parameters: {'criterion': 'gini', 'bootstrap': 'True', 'max_depth': 14, 'max_features': 'sqrt', 'max_leaf_nodes': 164, 'n_estimators': 749, 'min_samples_split': 4, 'min_samples_leaf': 4}. Best is trial 18 with value: -0.21333333333333301.\u001b[0m\n",
            "\u001b[32m[I 2022-04-13 04:35:07,763]\u001b[0m Trial 23 finished with value: -0.4021428571428568 and parameters: {'criterion': 'entropy', 'bootstrap': 'True', 'max_depth': 242, 'max_features': 'sqrt', 'max_leaf_nodes': 668, 'n_estimators': 894, 'min_samples_split': 5, 'min_samples_leaf': 2}. Best is trial 18 with value: -0.21333333333333301.\u001b[0m\n",
            "\u001b[32m[I 2022-04-13 04:35:09,607]\u001b[0m Trial 24 finished with value: -0.4021428571428568 and parameters: {'criterion': 'gini', 'bootstrap': 'False', 'max_depth': 142, 'max_features': 'auto', 'max_leaf_nodes': 855, 'n_estimators': 114, 'min_samples_split': 3, 'min_samples_leaf': 3}. Best is trial 18 with value: -0.21333333333333301.\u001b[0m\n",
            "\u001b[32m[I 2022-04-13 04:35:16,221]\u001b[0m Trial 25 finished with value: -0.2164285714285711 and parameters: {'criterion': 'gini', 'bootstrap': 'False', 'max_depth': 585, 'max_features': 'sqrt', 'max_leaf_nodes': 514, 'n_estimators': 684, 'min_samples_split': 4, 'min_samples_leaf': 1}. Best is trial 18 with value: -0.21333333333333301.\u001b[0m\n",
            "\u001b[32m[I 2022-04-13 04:35:22,628]\u001b[0m Trial 26 finished with value: -0.278333333333333 and parameters: {'criterion': 'gini', 'bootstrap': 'True', 'max_depth': 574, 'max_features': 'sqrt', 'max_leaf_nodes': 556, 'n_estimators': 661, 'min_samples_split': 4, 'min_samples_leaf': 1}. Best is trial 18 with value: -0.21333333333333301.\u001b[0m\n",
            "\u001b[32m[I 2022-04-13 04:35:29,473]\u001b[0m Trial 27 finished with value: -0.2164285714285711 and parameters: {'criterion': 'gini', 'bootstrap': 'False', 'max_depth': 860, 'max_features': 'auto', 'max_leaf_nodes': 479, 'n_estimators': 730, 'min_samples_split': 5, 'min_samples_leaf': 2}. Best is trial 18 with value: -0.21333333333333301.\u001b[0m\n",
            "\u001b[32m[I 2022-04-13 04:35:37,491]\u001b[0m Trial 28 finished with value: -0.2164285714285711 and parameters: {'criterion': 'gini', 'bootstrap': 'True', 'max_depth': 915, 'max_features': 'sqrt', 'max_leaf_nodes': 479, 'n_estimators': 874, 'min_samples_split': 5, 'min_samples_leaf': 1}. Best is trial 18 with value: -0.21333333333333301.\u001b[0m\n",
            "\u001b[32m[I 2022-04-13 04:35:45,604]\u001b[0m Trial 29 finished with value: -0.3402380952380949 and parameters: {'criterion': 'gini', 'bootstrap': 'True', 'max_depth': 961, 'max_features': 'log2', 'max_leaf_nodes': 427, 'n_estimators': 887, 'min_samples_split': 5, 'min_samples_leaf': 4}. Best is trial 18 with value: -0.21333333333333301.\u001b[0m\n",
            "\u001b[32m[I 2022-04-13 04:35:52,656]\u001b[0m Trial 30 finished with value: -0.3402380952380949 and parameters: {'criterion': 'gini', 'bootstrap': 'False', 'max_depth': 827, 'max_features': 'sqrt', 'max_leaf_nodes': 328, 'n_estimators': 716, 'min_samples_split': 5, 'min_samples_leaf': 4}. Best is trial 18 with value: -0.21333333333333301.\u001b[0m\n",
            "\u001b[32m[I 2022-04-13 04:36:00,874]\u001b[0m Trial 31 finished with value: -0.278333333333333 and parameters: {'criterion': 'gini', 'bootstrap': 'True', 'max_depth': 896, 'max_features': 'sqrt', 'max_leaf_nodes': 507, 'n_estimators': 877, 'min_samples_split': 5, 'min_samples_leaf': 1}. Best is trial 18 with value: -0.21333333333333301.\u001b[0m\n",
            "\u001b[32m[I 2022-04-13 04:36:07,788]\u001b[0m Trial 32 finished with value: -0.278333333333333 and parameters: {'criterion': 'gini', 'bootstrap': 'True', 'max_depth': 814, 'max_features': 'sqrt', 'max_leaf_nodes': 259, 'n_estimators': 697, 'min_samples_split': 5, 'min_samples_leaf': 2}. Best is trial 18 with value: -0.21333333333333301.\u001b[0m\n",
            "\u001b[32m[I 2022-04-13 04:36:15,858]\u001b[0m Trial 33 finished with value: -0.15452380952380923 and parameters: {'criterion': 'gini', 'bootstrap': 'True', 'max_depth': 998, 'max_features': 'sqrt', 'max_leaf_nodes': 631, 'n_estimators': 840, 'min_samples_split': 5, 'min_samples_leaf': 1}. Best is trial 33 with value: -0.15452380952380923.\u001b[0m\n",
            "\u001b[32m[I 2022-04-13 04:36:23,932]\u001b[0m Trial 34 finished with value: -0.278333333333333 and parameters: {'criterion': 'gini', 'bootstrap': 'True', 'max_depth': 986, 'max_features': 'sqrt', 'max_leaf_nodes': 635, 'n_estimators': 839, 'min_samples_split': 5, 'min_samples_leaf': 2}. Best is trial 33 with value: -0.15452380952380923.\u001b[0m\n",
            "\u001b[32m[I 2022-04-13 04:36:29,882]\u001b[0m Trial 35 finished with value: -0.278333333333333 and parameters: {'criterion': 'gini', 'bootstrap': 'True', 'max_depth': 717, 'max_features': 'sqrt', 'max_leaf_nodes': 683, 'n_estimators': 564, 'min_samples_split': 4, 'min_samples_leaf': 1}. Best is trial 33 with value: -0.15452380952380923.\u001b[0m\n",
            "\u001b[32m[I 2022-04-13 04:36:38,433]\u001b[0m Trial 36 finished with value: -0.3402380952380949 and parameters: {'criterion': 'gini', 'bootstrap': 'False', 'max_depth': 885, 'max_features': 'auto', 'max_leaf_nodes': 551, 'n_estimators': 932, 'min_samples_split': 4, 'min_samples_leaf': 3}. Best is trial 33 with value: -0.15452380952380923.\u001b[0m\n",
            "\u001b[32m[I 2022-04-13 04:36:45,365]\u001b[0m Trial 37 finished with value: -0.2164285714285711 and parameters: {'criterion': 'gini', 'bootstrap': 'False', 'max_depth': 762, 'max_features': 'sqrt', 'max_leaf_nodes': 611, 'n_estimators': 766, 'min_samples_split': 5, 'min_samples_leaf': 2}. Best is trial 33 with value: -0.15452380952380923.\u001b[0m\n",
            "\u001b[32m[I 2022-04-13 04:36:53,120]\u001b[0m Trial 38 finished with value: -0.278333333333333 and parameters: {'criterion': 'gini', 'bootstrap': 'True', 'max_depth': 907, 'max_features': 'auto', 'max_leaf_nodes': 442, 'n_estimators': 860, 'min_samples_split': 5, 'min_samples_leaf': 5}. Best is trial 33 with value: -0.15452380952380923.\u001b[0m\n",
            "\u001b[32m[I 2022-04-13 04:37:00,414]\u001b[0m Trial 39 finished with value: -0.2164285714285711 and parameters: {'criterion': 'gini', 'bootstrap': 'True', 'max_depth': 759, 'max_features': 'sqrt', 'max_leaf_nodes': 588, 'n_estimators': 797, 'min_samples_split': 5, 'min_samples_leaf': 9}. Best is trial 33 with value: -0.15452380952380923.\u001b[0m\n",
            "\u001b[32m[I 2022-04-13 04:37:07,125]\u001b[0m Trial 40 finished with value: -0.4021428571428568 and parameters: {'criterion': 'gini', 'bootstrap': 'False', 'max_depth': 992, 'max_features': 'auto', 'max_leaf_nodes': 394, 'n_estimators': 704, 'min_samples_split': 4, 'min_samples_leaf': 2}. Best is trial 33 with value: -0.15452380952380923.\u001b[0m\n",
            "\u001b[32m[I 2022-04-13 04:37:14,376]\u001b[0m Trial 41 finished with value: -0.3402380952380949 and parameters: {'criterion': 'gini', 'bootstrap': 'False', 'max_depth': 649, 'max_features': 'sqrt', 'max_leaf_nodes': 532, 'n_estimators': 758, 'min_samples_split': 5, 'min_samples_leaf': 1}. Best is trial 33 with value: -0.15452380952380923.\u001b[0m\n",
            "\u001b[32m[I 2022-04-13 04:37:23,375]\u001b[0m Trial 42 finished with value: -0.2164285714285711 and parameters: {'criterion': 'gini', 'bootstrap': 'True', 'max_depth': 840, 'max_features': 'sqrt', 'max_leaf_nodes': 611, 'n_estimators': 922, 'min_samples_split': 5, 'min_samples_leaf': 2}. Best is trial 33 with value: -0.15452380952380923.\u001b[0m\n",
            "\u001b[32m[I 2022-04-13 04:37:32,524]\u001b[0m Trial 43 finished with value: -0.3402380952380949 and parameters: {'criterion': 'gini', 'bootstrap': 'True', 'max_depth': 853, 'max_features': 'sqrt', 'max_leaf_nodes': 438, 'n_estimators': 932, 'min_samples_split': 5, 'min_samples_leaf': 3}. Best is trial 33 with value: -0.15452380952380923.\u001b[0m\n",
            "\u001b[32m[I 2022-04-13 04:37:40,440]\u001b[0m Trial 44 finished with value: -0.278333333333333 and parameters: {'criterion': 'gini', 'bootstrap': 'True', 'max_depth': 925, 'max_features': 'sqrt', 'max_leaf_nodes': 381, 'n_estimators': 826, 'min_samples_split': 4, 'min_samples_leaf': 1}. Best is trial 33 with value: -0.15452380952380923.\u001b[0m\n",
            "\u001b[32m[I 2022-04-13 04:37:48,161]\u001b[0m Trial 45 finished with value: -0.3402380952380949 and parameters: {'criterion': 'gini', 'bootstrap': 'True', 'max_depth': 769, 'max_features': 'sqrt', 'max_leaf_nodes': 601, 'n_estimators': 796, 'min_samples_split': 5, 'min_samples_leaf': 9}. Best is trial 33 with value: -0.15452380952380923.\u001b[0m\n",
            "\u001b[32m[I 2022-04-13 04:37:54,657]\u001b[0m Trial 46 finished with value: -0.278333333333333 and parameters: {'criterion': 'gini', 'bootstrap': 'True', 'max_depth': 330, 'max_features': 'log2', 'max_leaf_nodes': 297, 'n_estimators': 663, 'min_samples_split': 4, 'min_samples_leaf': 1}. Best is trial 33 with value: -0.15452380952380923.\u001b[0m\n",
            "\u001b[32m[I 2022-04-13 04:38:00,490]\u001b[0m Trial 47 finished with value: -0.3402380952380949 and parameters: {'criterion': 'gini', 'bootstrap': 'False', 'max_depth': 511, 'max_features': 'sqrt', 'max_leaf_nodes': 659, 'n_estimators': 600, 'min_samples_split': 5, 'min_samples_leaf': 7}. Best is trial 33 with value: -0.15452380952380923.\u001b[0m\n",
            "\u001b[32m[I 2022-04-13 04:38:07,272]\u001b[0m Trial 48 finished with value: -0.278333333333333 and parameters: {'criterion': 'gini', 'bootstrap': 'True', 'max_depth': 946, 'max_features': 'auto', 'max_leaf_nodes': 461, 'n_estimators': 703, 'min_samples_split': 4, 'min_samples_leaf': 1}. Best is trial 33 with value: -0.15452380952380923.\u001b[0m\n",
            "\u001b[32m[I 2022-04-13 04:38:15,402]\u001b[0m Trial 49 finished with value: -0.278333333333333 and parameters: {'criterion': 'gini', 'bootstrap': 'True', 'max_depth': 550, 'max_features': 'sqrt', 'max_leaf_nodes': 713, 'n_estimators': 938, 'min_samples_split': 5, 'min_samples_leaf': 9}. Best is trial 33 with value: -0.15452380952380923.\u001b[0m\n"
          ]
        },
        {
          "output_type": "stream",
          "name": "stdout",
          "text": [
            "Accuracy: -0.15452380952380923\n",
            "TrainAccuracy: 1.0\n",
            "Accuracy: 0.7894736842105263\n",
            "              precision    recall  f1-score   support\n",
            "\n",
            "         0.0       0.83      0.83      0.83        12\n",
            "         1.0       0.71      0.71      0.71         7\n",
            "\n",
            "    accuracy                           0.79        19\n",
            "   macro avg       0.77      0.77      0.77        19\n",
            "weighted avg       0.79      0.79      0.79        19\n",
            "\n",
            "フィーチャー名：        IL-6は出力データの結果に   0.00%関与しています\n",
            "フィーチャー名：90day-mortalityは出力データの結果に   7.37%関与しています\n",
            "フィーチャー名：        IL-2は出力データの結果に   8.57%関与しています\n",
            "フィーチャー名：BAL(neutro-%)は出力データの結果に   8.61%関与しています\n",
            "フィーチャー名：       MCP-3は出力データの結果に   9.13%関与しています\n",
            "フィーチャー名：       IL-15は出力データの結果に  11.71%関与しています\n",
            "フィーチャー名：         EGFは出力データの結果に  12.54%関与しています\n",
            "フィーチャー名：        IL-7は出力データの結果に  12.85%関与しています\n",
            "フィーチャー名：      IFN-a2は出力データの結果に  14.09%関与しています\n",
            "フィーチャー名：         CRPは出力データの結果に  15.13%関与しています\n"
          ]
        }
      ]
    },
    {
      "cell_type": "markdown",
      "source": [
        "混同行列で予測結果を確認していきましょう。"
      ],
      "metadata": {
        "id": "PGyEBEKkHRuM"
      }
    },
    {
      "cell_type": "code",
      "source": [
        "result = confusion_matrix(y_test, y_pred_op)\n",
        "print(\"Confusion Matrix:\")\n",
        "#confusion matrix\n",
        "labels = sorted(finalized_df_c['90day-mortality'].unique())\n",
        "ax = sns.heatmap(\n",
        "confusion_matrix(y_test, y_pred_op),\n",
        "annot=True,\n",
        "xticklabels=labels,\n",
        "yticklabels=labels\n",
        ")\n",
        "ax.set(xlabel='true label', ylabel='predicted label')"
      ],
      "metadata": {
        "id": "bm2eeNDBHS_R",
        "colab": {
          "base_uri": "https://localhost:8080/",
          "height": 324
        },
        "outputId": "bad01a20-0dc0-428f-ca2b-574ba98889ac"
      },
      "execution_count": 18,
      "outputs": [
        {
          "output_type": "stream",
          "name": "stdout",
          "text": [
            "Confusion Matrix:\n"
          ]
        },
        {
          "output_type": "execute_result",
          "data": {
            "text/plain": [
              "[Text(30.5, 0.5, 'predicted label'), Text(0.5, 12.5, 'true label')]"
            ]
          },
          "metadata": {},
          "execution_count": 18
        },
        {
          "output_type": "display_data",
          "data": {
            "text/plain": [
              "<Figure size 432x288 with 2 Axes>"
            ],
            "image/png": "[encoded data removed]"
          },
          "metadata": {
            "needs_background": "light"
          }
        }
      ]
    },
    {
      "cell_type": "markdown",
      "source": [
        "**TODO: 柴木様**\n",
        "\n",
        "解析を終え、結果についての発表・及びその重要度の説明"
      ],
      "metadata": {
        "id": "aWg4ynNXR1Gx"
      }
    },
    {
      "cell_type": "markdown",
      "source": [
        "## 学習モデルの保存"
      ],
      "metadata": {
        "id": "Tp56SPweJceL"
      }
    },
    {
      "cell_type": "markdown",
      "source": [
        "モデルは訓練中にも、訓練が終わったあとも保存できます。このことは、長い訓練時間を掛けなくても、やめたところから再開できるということを意味します。モデルが保存可能であることは、あなたが作ったモデルを他の人と共有できるということでもあります。\n",
        "\n",
        "保存方法としてはJoblibというSciPyのライブラリを使用します。JoblibはPythonのジョブをパイプライン処理するためのユーティリティを提供しています。NumPyデータ構造を効率的に利用するPythonオブジェクトの保存とロードを行うユーティリティを提供します。"
      ],
      "metadata": {
        "id": "V-DJFRFEI9as"
      }
    },
    {
      "cell_type": "code",
      "source": [
        "# モデルを./outに保存\n",
        "filename = 'out/finalized_model.joblib'\n",
        "joblib.dump(rforest_model_post_optuna_opt, filename)\n",
        "\n",
        "# モデルをGoogle Driveに保存\n",
        "!cp 'out/finalized_model.joblib' '/content/drive/MyDrive/shibaki analysis/'\n",
        "\n",
        "# モデルをGoogle Driveからロードしたい場合\n",
        "loaded_model_optuna_rf = joblib.load(\"/content/drive/MyDrive/shibaki analysis/finalized_model.joblib\")\n",
        "\n",
        "# 検証用データフレームから重要因子以外を取り除く\n",
        "X_val = X_val.drop(columns=[col for col in X_val.columns if col not in top_ten_params])\n",
        "\n",
        "# 検証データにrforest_modelに.predict()関数を応用し、RFモデルがラベルを何個正確に予測出来たかを検証する\n",
        "y_pred_final = loaded_model_optuna_rf.predict(X_val)\n",
        "\n",
        "#モデルを作成する段階でのモデルの識別精度\n",
        "trainaccuracy_random_forest_final = loaded_model_optuna_rf.score(X_val, y_val)\n",
        "print('TrainAccuracy: {}'.format(trainaccuracy_random_forest_final))\n",
        "\n",
        "#作成したモデルに学習に使用していない評価用のデータセットを入力し精度を確認\n",
        "accuracy_random_forest_final = accuracy_score(y_val, y_pred_final)\n",
        "print('Accuracy: {}'.format(accuracy_random_forest_final))\n",
        "\n",
        "# 正確性の出力\n",
        "print(classification_report(y_val, y_pred_final))\n",
        "\n",
        "result = confusion_matrix(y_val, y_pred_final)\n",
        "print(\"Confusion Matrix:\")\n",
        "#confusion matrix\n",
        "labels = sorted(finalized_df_c['90day-mortality'].unique())\n",
        "ax = sns.heatmap(\n",
        "confusion_matrix(y_val, y_pred_final),\n",
        "annot=True,\n",
        "xticklabels=labels,\n",
        "yticklabels=labels\n",
        ")\n",
        "ax.set(xlabel='true label', ylabel='predicted label')"
      ],
      "metadata": {
        "id": "L3nOSHEkIkaZ",
        "colab": {
          "base_uri": "https://localhost:8080/",
          "height": 521
        },
        "outputId": "eec4288a-eac3-46b0-9024-f7eed1a8907b"
      },
      "execution_count": 21,
      "outputs": [
        {
          "output_type": "stream",
          "name": "stdout",
          "text": [
            "TrainAccuracy: 0.7058823529411765\n",
            "Accuracy: 0.7058823529411765\n",
            "              precision    recall  f1-score   support\n",
            "\n",
            "         0.0       0.80      0.86      0.83        14\n",
            "         1.0       0.00      0.00      0.00         3\n",
            "\n",
            "    accuracy                           0.71        17\n",
            "   macro avg       0.40      0.43      0.41        17\n",
            "weighted avg       0.66      0.71      0.68        17\n",
            "\n",
            "Confusion Matrix:\n"
          ]
        },
        {
          "output_type": "execute_result",
          "data": {
            "text/plain": [
              "[Text(30.5, 0.5, 'predicted label'), Text(0.5, 12.5, 'true label')]"
            ]
          },
          "metadata": {},
          "execution_count": 21
        },
        {
          "output_type": "display_data",
          "data": {
            "text/plain": [
              "<Figure size 432x288 with 2 Axes>"
            ],
            "image/png": "[encoded data removed]"
          },
          "metadata": {
            "needs_background": "light"
          }
        }
      ]
    },
    {
      "cell_type": "markdown",
      "source": [
        "## 終わりに"
      ],
      "metadata": {
        "id": "DZkWrIMjRIaT"
      }
    },
    {
      "cell_type": "markdown",
      "source": [
        "今研究では、和歌山医科大学の保有する、線維化を伴う間質性肺炎の急性増悪の多施設後ろ向き実態調査に登録された患者において急性増悪中に施行されたBAL液中のサイトカインやケモカインのデータを用いて、間質性肺炎の予後予測因子の抽出と予後予測に取り組みました。\n",
        "\n",
        "解析内容の要約は以下となります。\n",
        "1.   環境構築\n",
        "2.   データ前処理\n",
        "3.   RF解析モデル構築\n",
        "4.   妥当性の検証・ハイパーパラメーターチューニング\n",
        "5.   特徴量重要度の評価\n",
        "6.   特徴量重要の評価に基づきモデル再構築\n",
        "\n",
        "精度向上に向けて様々な手法を試してみましたが，今回のタスクにおいては，どの工夫が有効に働くか自明で無い場合がほとんどです．従って，試行錯誤を行いながら，その問題設定に適合するやり方を模索していく必要があります．\n",
        "\n",
        "さらなる取り組みとしては，例えば下記内容を検討する余地があります。\n",
        "\n",
        "\n",
        "* クラス不均衡データへの対応\n",
        "  - サンプリング\n",
        "      - 不均衡データセットからサンプリングを行い，クラス比率のバランスが取れたデータセットを作成．\n",
        "    - **Undersampling** : 大多数の正常サンプルを削減．\n",
        "    - **Oversampling**  : 少数の異常サンプルを水増し．  \n",
        "  - 損失関数の重み調整\n",
        "    - 正常サンプルを異常と誤分類した際のペナルティを小さく，異常サンプルを正常と誤分類した際のペナルティを大きくする．\n",
        "    - 例えば，サンプル数の存在比率の逆数を重みとして利用．\n",
        "  - 目的関数(損失関数)の変更\n",
        "    - 異常サンプルに対する予測スコアを向上させるような目的関数を導入．\n",
        "  - 異常検知\n",
        "    - 正常サンプルのデータ分布を仮定し，そこから十分に逸脱したサンプルを異常とみなす．\n",
        "\n",
        "* 前処理の工夫\n",
        "  - ラベルの追加\n",
        "    - 生存者・死者加えて，新たな目的関数を考慮する．\n",
        "  - ラベルの与え方の変更\n",
        "      * セグメント範囲内に正常以外のピークラベルが含まれる場合に優先的にそのラベルを付与する，等．\n",
        "\n",
        "* モデルの変更等\n",
        "  - ランダムフォレスト以外の機械学習モデルを導入する\n"
      ],
      "metadata": {
        "id": "pUphjw9xClpF"
      }
    },
    {
      "cell_type": "markdown",
      "source": [
        "## 参考文献"
      ],
      "metadata": {
        "id": "_3R_5a-Bfkc4"
      }
    },
    {
      "cell_type": "markdown",
      "source": [
        "**TODO: 柴木様**\n",
        "\n"
      ],
      "metadata": {
        "id": "0ZY3i9f1fsqa"
      }
    }
  ]
}