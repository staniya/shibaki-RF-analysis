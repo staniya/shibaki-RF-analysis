{
  "nbformat": 4,
  "nbformat_minor": 0,
  "metadata": {
    "colab": {
      "name": "BAL_RS_Ver2.0",
      "provenance": [],
      "collapsed_sections": [],
      "authorship_tag": "ABX9TyMF2PHqH3UdozjWmnQ1jSJn",
      "include_colab_link": true
    },
    "kernelspec": {
      "name": "python3",
      "display_name": "Python 3"
    },
    "language_info": {
      "name": "python"
    },
    "accelerator": "GPU"
  },
  "cells": [
    {
      "cell_type": "markdown",
      "metadata": {
        "id": "view-in-github",
        "colab_type": "text"
      },
      "source": [
        "<a href=\"https://colab.research.google.com/github/staniya/shibaki-RF-analysis/blob/main/BAL_RS_Ver2_0.ipynb\" target=\"_parent\"><img src=\"https://colab.research.google.com/assets/colab-badge.svg\" alt=\"Open In Colab\"/></a>"
      ]
    },
    {
      "cell_type": "markdown",
      "source": [
        "# 間質性肺炎の予後予測因子の抽出と予後予測のランダムフォレストモデル"
      ],
      "metadata": {
        "id": "CTHOUNH1uq_p"
      }
    },
    {
      "cell_type": "markdown",
      "source": [
        "**TODO: 柴木様**\n",
        "\n",
        "下記に加え、図表などで今回の解析内容の説明\n",
        "\n",
        "線維化を伴う間質性肺炎の急性増悪の多施設後ろ向き実態調査に付随した研究として、予後予測因子の抽出と予後予測の新規モデルを作成します。和歌山医科大学の保有する、線維化を伴う間質性肺炎の急性増悪の多施設後ろ向き実態調査に登録された患者において急性増悪中に施行されたBAL液中のサイトカインやケモカインのデータを用いて、間質性肺炎の予後予測因子の抽出と予後予測の新規モデルを作成します。\n",
        "\n",
        "今回の解析は分類問題であるため、ランダムフォレスト分類器が使用されます。Scikit-learnライブラリから、RandomForestClassifierを持つアンサンブルパッケージが使用されます。ランダムフォレストは、平均化を使用して予測精度を向上させ、特定のデータセットのさまざまなサブサンプルに多数の決定木分類器を適合させることで過剰適合を制御するメタ推定量です。"
      ],
      "metadata": {
        "id": "1vu98ohVvxdE"
      }
    },
    {
      "cell_type": "markdown",
      "source": [
        "## 環境構築"
      ],
      "metadata": {
        "id": "tSsbBF5Jv-Bp"
      }
    },
    {
      "cell_type": "markdown",
      "source": [
        "本章では、下記のライブラリを利用します。"
      ],
      "metadata": {
        "id": "VOY7BGQywFZy"
      }
    },
    {
      "cell_type": "markdown",
      "source": [
        "*  Collections  \n",
        "*  Data Synthesizer\n",
        "*  Google Colab\n",
        "*  Joblib\n",
        "*  Matplotlib\n",
        "*  Numpy\n",
        "*  Optuna\n",
        "*  os\n",
        "*  Pandas\n",
        "*  Seaborn\n",
        "*  Scikit-learn\n",
        "*  sys\n",
        "*  TensorFlow\n"
      ],
      "metadata": {
        "id": "dKVIvrFCwLtH"
      }
    },
    {
      "cell_type": "markdown",
      "source": [
        "以下のセルを実行（Shift + Enter)して必要なライブラリをインストールして下さい。"
      ],
      "metadata": {
        "id": "3ZMH5Zwlx0V8"
      }
    },
    {
      "cell_type": "code",
      "source": [
        "!python -m pip install openpyxl==3.0\n",
        "!pip install -q DataSynthesizer\n",
        "!pip install optuna\n",
        "!apt-get install tree"
      ],
      "metadata": {
        "colab": {
          "base_uri": "https://localhost:8080/"
        },
        "id": "7Dylx1ljwTQ1",
        "outputId": "e7234a90-b868-4ea7-d1ae-cab6326cb020"
      },
      "execution_count": 1,
      "outputs": [
        {
          "output_type": "stream",
          "name": "stdout",
          "text": [
            "Collecting openpyxl==3.0\n",
            "  Downloading openpyxl-3.0.0.tar.gz (172 kB)\n",
            "\u001b[?25l\r\u001b[K     |██                              | 10 kB 17.3 MB/s eta 0:00:01\r\u001b[K     |███▉                            | 20 kB 13.8 MB/s eta 0:00:01\r\u001b[K     |█████▊                          | 30 kB 10.1 MB/s eta 0:00:01\r\u001b[K     |███████▋                        | 40 kB 8.6 MB/s eta 0:00:01\r\u001b[K     |█████████▌                      | 51 kB 4.7 MB/s eta 0:00:01\r\u001b[K     |███████████▍                    | 61 kB 5.5 MB/s eta 0:00:01\r\u001b[K     |█████████████▎                  | 71 kB 5.8 MB/s eta 0:00:01\r\u001b[K     |███████████████▏                | 81 kB 5.9 MB/s eta 0:00:01\r\u001b[K     |█████████████████               | 92 kB 6.5 MB/s eta 0:00:01\r\u001b[K     |███████████████████             | 102 kB 5.6 MB/s eta 0:00:01\r\u001b[K     |████████████████████▉           | 112 kB 5.6 MB/s eta 0:00:01\r\u001b[K     |██████████████████████▊         | 122 kB 5.6 MB/s eta 0:00:01\r\u001b[K     |████████████████████████▋       | 133 kB 5.6 MB/s eta 0:00:01\r\u001b[K     |██████████████████████████▌     | 143 kB 5.6 MB/s eta 0:00:01\r\u001b[K     |████████████████████████████▌   | 153 kB 5.6 MB/s eta 0:00:01\r\u001b[K     |██████████████████████████████▍ | 163 kB 5.6 MB/s eta 0:00:01\r\u001b[K     |████████████████████████████████| 172 kB 5.6 MB/s \n",
            "\u001b[?25hCollecting jdcal\n",
            "  Downloading jdcal-1.4.1-py2.py3-none-any.whl (9.5 kB)\n",
            "Requirement already satisfied: et_xmlfile in /usr/local/lib/python3.7/dist-packages (from openpyxl==3.0) (1.1.0)\n",
            "Building wheels for collected packages: openpyxl\n",
            "  Building wheel for openpyxl (setup.py) ... \u001b[?25l\u001b[?25hdone\n",
            "  Created wheel for openpyxl: filename=openpyxl-3.0.0-py2.py3-none-any.whl size=241207 sha256=3aa9bbf58b58c2a79d5ebd9c369c81e16d862d6ba7fa281900d60a310529a710\n",
            "  Stored in directory: /root/.cache/pip/wheels/c7/64/ff/ce98f6e1d2701ae8e216c875da62feed2839ac8a3cae0ab8af\n",
            "Successfully built openpyxl\n",
            "Installing collected packages: jdcal, openpyxl\n",
            "  Attempting uninstall: openpyxl\n",
            "    Found existing installation: openpyxl 3.0.9\n",
            "    Uninstalling openpyxl-3.0.9:\n",
            "      Successfully uninstalled openpyxl-3.0.9\n",
            "Successfully installed jdcal-1.4.1 openpyxl-3.0.0\n",
            "Collecting optuna\n",
            "  Downloading optuna-2.10.0-py3-none-any.whl (308 kB)\n",
            "\u001b[K     |████████████████████████████████| 308 kB 5.3 MB/s \n",
            "\u001b[?25hRequirement already satisfied: scipy!=1.4.0 in /usr/local/lib/python3.7/dist-packages (from optuna) (1.4.1)\n",
            "Collecting colorlog\n",
            "  Downloading colorlog-6.6.0-py2.py3-none-any.whl (11 kB)\n",
            "Requirement already satisfied: PyYAML in /usr/local/lib/python3.7/dist-packages (from optuna) (3.13)\n",
            "Collecting cmaes>=0.8.2\n",
            "  Downloading cmaes-0.8.2-py3-none-any.whl (15 kB)\n",
            "Collecting alembic\n",
            "  Downloading alembic-1.7.7-py3-none-any.whl (210 kB)\n",
            "\u001b[K     |████████████████████████████████| 210 kB 31.9 MB/s \n",
            "\u001b[?25hRequirement already satisfied: sqlalchemy>=1.1.0 in /usr/local/lib/python3.7/dist-packages (from optuna) (1.4.35)\n",
            "Requirement already satisfied: packaging>=20.0 in /usr/local/lib/python3.7/dist-packages (from optuna) (21.3)\n",
            "Requirement already satisfied: numpy in /usr/local/lib/python3.7/dist-packages (from optuna) (1.21.5)\n",
            "Collecting cliff\n",
            "  Downloading cliff-3.10.1-py3-none-any.whl (81 kB)\n",
            "\u001b[K     |████████████████████████████████| 81 kB 4.7 MB/s \n",
            "\u001b[?25hRequirement already satisfied: tqdm in /usr/local/lib/python3.7/dist-packages (from optuna) (4.64.0)\n",
            "Requirement already satisfied: pyparsing!=3.0.5,>=2.0.2 in /usr/local/lib/python3.7/dist-packages (from packaging>=20.0->optuna) (3.0.8)\n",
            "Requirement already satisfied: greenlet!=0.4.17 in /usr/local/lib/python3.7/dist-packages (from sqlalchemy>=1.1.0->optuna) (1.1.2)\n",
            "Requirement already satisfied: importlib-metadata in /usr/local/lib/python3.7/dist-packages (from sqlalchemy>=1.1.0->optuna) (4.11.3)\n",
            "Requirement already satisfied: importlib-resources in /usr/local/lib/python3.7/dist-packages (from alembic->optuna) (5.6.0)\n",
            "Collecting Mako\n",
            "  Downloading Mako-1.2.0-py3-none-any.whl (78 kB)\n",
            "\u001b[K     |████████████████████████████████| 78 kB 6.2 MB/s \n",
            "\u001b[?25hCollecting stevedore>=2.0.1\n",
            "  Downloading stevedore-3.5.0-py3-none-any.whl (49 kB)\n",
            "\u001b[K     |████████████████████████████████| 49 kB 4.7 MB/s \n",
            "\u001b[?25hRequirement already satisfied: PrettyTable>=0.7.2 in /usr/local/lib/python3.7/dist-packages (from cliff->optuna) (3.2.0)\n",
            "Collecting pbr!=2.1.0,>=2.0.0\n",
            "  Downloading pbr-5.8.1-py2.py3-none-any.whl (113 kB)\n",
            "\u001b[K     |████████████████████████████████| 113 kB 40.5 MB/s \n",
            "\u001b[?25hCollecting cmd2>=1.0.0\n",
            "  Downloading cmd2-2.4.1-py3-none-any.whl (146 kB)\n",
            "\u001b[K     |████████████████████████████████| 146 kB 39.9 MB/s \n",
            "\u001b[?25hCollecting autopage>=0.4.0\n",
            "  Downloading autopage-0.5.0-py3-none-any.whl (29 kB)\n",
            "Requirement already satisfied: wcwidth>=0.1.7 in /usr/local/lib/python3.7/dist-packages (from cmd2>=1.0.0->cliff->optuna) (0.2.5)\n",
            "Requirement already satisfied: typing-extensions in /usr/local/lib/python3.7/dist-packages (from cmd2>=1.0.0->cliff->optuna) (4.1.1)\n",
            "Collecting pyperclip>=1.6\n",
            "  Downloading pyperclip-1.8.2.tar.gz (20 kB)\n",
            "Requirement already satisfied: attrs>=16.3.0 in /usr/local/lib/python3.7/dist-packages (from cmd2>=1.0.0->cliff->optuna) (21.4.0)\n",
            "Requirement already satisfied: zipp>=0.5 in /usr/local/lib/python3.7/dist-packages (from importlib-metadata->sqlalchemy>=1.1.0->optuna) (3.8.0)\n",
            "Requirement already satisfied: MarkupSafe>=0.9.2 in /usr/local/lib/python3.7/dist-packages (from Mako->alembic->optuna) (2.0.1)\n",
            "Building wheels for collected packages: pyperclip\n",
            "  Building wheel for pyperclip (setup.py) ... \u001b[?25l\u001b[?25hdone\n",
            "  Created wheel for pyperclip: filename=pyperclip-1.8.2-py3-none-any.whl size=11137 sha256=b10e570bba8e9bf7eed5c465cc19fc04b4dcd5d7450a1e572e4a8ee0e195a371\n",
            "  Stored in directory: /root/.cache/pip/wheels/9f/18/84/8f69f8b08169c7bae2dde6bd7daf0c19fca8c8e500ee620a28\n",
            "Successfully built pyperclip\n",
            "Installing collected packages: pyperclip, pbr, stevedore, Mako, cmd2, autopage, colorlog, cmaes, cliff, alembic, optuna\n",
            "Successfully installed Mako-1.2.0 alembic-1.7.7 autopage-0.5.0 cliff-3.10.1 cmaes-0.8.2 cmd2-2.4.1 colorlog-6.6.0 optuna-2.10.0 pbr-5.8.1 pyperclip-1.8.2 stevedore-3.5.0\n",
            "Reading package lists... Done\n",
            "Building dependency tree       \n",
            "Reading state information... Done\n",
            "The following NEW packages will be installed:\n",
            "  tree\n",
            "0 upgraded, 1 newly installed, 0 to remove and 39 not upgraded.\n",
            "Need to get 40.7 kB of archives.\n",
            "After this operation, 105 kB of additional disk space will be used.\n",
            "Get:1 http://archive.ubuntu.com/ubuntu bionic/universe amd64 tree amd64 1.7.0-5 [40.7 kB]\n",
            "Fetched 40.7 kB in 0s (228 kB/s)\n",
            "Selecting previously unselected package tree.\n",
            "(Reading database ... 155455 files and directories currently installed.)\n",
            "Preparing to unpack .../tree_1.7.0-5_amd64.deb ...\n",
            "Unpacking tree (1.7.0-5) ...\n",
            "Setting up tree (1.7.0-5) ...\n",
            "Processing triggers for man-db (2.8.3-2ubuntu0.1) ...\n"
          ]
        }
      ]
    },
    {
      "cell_type": "markdown",
      "source": [
        "インストールが完了したら以下のセルを実行して，各ライブラリのインポート，及びバージョン確認を行って下さい."
      ],
      "metadata": {
        "id": "ewBmARaZyKfw"
      }
    },
    {
      "cell_type": "code",
      "execution_count": 2,
      "metadata": {
        "colab": {
          "base_uri": "https://localhost:8080/"
        },
        "id": "f0TJsNytuc4F",
        "outputId": "430d482a-647e-4d55-bfc6-116bd460a175"
      },
      "outputs": [
        {
          "output_type": "stream",
          "name": "stdout",
          "text": [
            "Data Synthesizer:  0.1.11\n",
            "Google Colab Python: \n",
            "Python 3.7.13\n",
            "\n",
            "Joblib:  1.1.0\n",
            "Matplotlib:  3.2.2\n",
            "Numpy:  1.21.5\n",
            "Optuna:  2.10.0\n",
            "pandas:  1.3.5\n",
            "Seaborn:  0.11.2\n",
            "Scikit-learn:  1.0.2\n",
            "TensorFlow:  2.8.0\n"
          ]
        }
      ],
      "source": [
        "from collections import OrderedDict\n",
        "\n",
        "import DataSynthesizer\n",
        "from DataSynthesizer.DataDescriber import DataDescriber\n",
        "from DataSynthesizer.DataGenerator import DataGenerator\n",
        "from DataSynthesizer.ModelInspector import ModelInspector\n",
        "from DataSynthesizer.lib.utils import read_json_file, display_bayesian_network\n",
        "\n",
        "from google.colab import drive\n",
        "import joblib\n",
        "import matplotlib as mpl\n",
        "import matplotlib.pyplot as plt\n",
        "%matplotlib inline\n",
        "import numpy as np\n",
        "import optuna\n",
        "import os\n",
        "import pandas as pd\n",
        "import seaborn as sns\n",
        "\n",
        "import sklearn\n",
        "from sklearn import tree\n",
        "from sklearn import ensemble\n",
        "from sklearn.impute import SimpleImputer\n",
        "from sklearn.metrics import accuracy_score, confusion_matrix, classification_report\n",
        "from sklearn.model_selection import train_test_split, cross_val_score\n",
        "\n",
        "import sys\n",
        "sys.path.append('models')\n",
        "\n",
        "import tensorflow as tf\n",
        "\n",
        "print(\"Data Synthesizer: \", DataSynthesizer.__version__)\n",
        "print(\"Google Colab Python: \")\n",
        "!python --version\n",
        "print(\"\\nJoblib: \", joblib.__version__)\n",
        "print(\"Matplotlib: \", mpl.__version__)\n",
        "print(\"Numpy: \", np.__version__)\n",
        "print(\"Optuna: \", optuna.__version__)\n",
        "print(\"pandas: \", pd.__version__)\n",
        "print(\"Seaborn: \", sns.__version__)\n",
        "print(\"Scikit-learn: \", sklearn.__version__)\n",
        "print(\"TensorFlow: \", tf.__version__)"
      ]
    },
    {
      "cell_type": "markdown",
      "source": [
        "## BAL研究について"
      ],
      "metadata": {
        "id": "H3Vq2J6xz-BX"
      }
    },
    {
      "cell_type": "markdown",
      "source": [
        "**TODO: 柴木様**\n",
        "\n",
        "BAL研究の説明及び図表をここに入れる"
      ],
      "metadata": {
        "id": "h3GNCoHRMT1m"
      }
    },
    {
      "cell_type": "markdown",
      "source": [
        "## 使用するデータセット"
      ],
      "metadata": {
        "id": "GJ2cjyia0SgH"
      }
    },
    {
      "cell_type": "markdown",
      "source": [
        "**TODO: 柴木様**\n",
        "\n",
        "データセットについての説明文"
      ],
      "metadata": {
        "id": "KHrb_zp00WOv"
      }
    },
    {
      "cell_type": "code",
      "source": [
        "from google.colab import drive\n",
        "drive.mount('/content/drive')\n",
        "!cp '/content/drive/MyDrive/shibaki analysis/AE-FILD BAL patient_data.xlsx' patient_data.xlsx"
      ],
      "metadata": {
        "colab": {
          "base_uri": "https://localhost:8080/"
        },
        "id": "Bw4vN16c0bLg",
        "outputId": "1509800b-ca23-4340-ae29-bcecd5e97574"
      },
      "execution_count": 3,
      "outputs": [
        {
          "output_type": "stream",
          "name": "stdout",
          "text": [
            "Mounted at /content/drive\n"
          ]
        }
      ]
    },
    {
      "cell_type": "markdown",
      "source": [
        "無事ダウンロードが完了すると， /content/driveフォルダがローカル環境にマウントされます。"
      ],
      "metadata": {
        "id": "13GjBppJ02aU"
      }
    },
    {
      "cell_type": "markdown",
      "source": [
        "## データ前処理"
      ],
      "metadata": {
        "id": "T_nwpw9JBnnr"
      }
    },
    {
      "cell_type": "markdown",
      "source": [
        "ダウンロードしたファイルを読み込み，機械学習モデルへの入力形式に変換するデータ前処理を以下の手順で行います。\n",
        "\n",
        "1. ヘルパーファンクションでデータフレームテキスト内の\"\\n\"をスペースに変換する関数を定義する\n",
        "2. 学習に不必要なデータコラムを除外する: \"No\"\n",
        "3. sklearnのSimpleImputerを導入し欠損値（NaN)補完を行う\n",
        "    - 補完方法は中央値で欠損値を埋める（[[1](https://scikit-learn.org/stable/modules/generated/sklearn.impute.SimpleImputer.html)]を参考）\n",
        "4. テスト用のデータをホールドアウト法に基づき先に取り分けておく\n",
        "5. 学習用のデータが不足しているためDataSynthesizerライブラリーを導入し模擬データを作成する\n",
        "    - ベイジアンネットワークを使用して合成データセットを作成する方法はこちらを参考して下さい [[2](https://www.scb.se/contentassets/ca21efb41fee47d293bbee5bf7be7fb3/using-bayesian-networks-to-create-synthetic-data.pdf)]"
      ],
      "metadata": {
        "id": "TIW-6ambBtZK"
      }
    },
    {
      "cell_type": "markdown",
      "source": [
        "まずは以下のセルを実行して、データ前処理クラスを定義します。\n",
        "全処理クラス内では、以下のメンバ関数を定義しています。\n",
        "\n",
        "* __init__() (コンストラクタ）: 変数の初期化，学習用とテスト用への分割ルール，利用するラベルの集約ルール\n",
        "* clean_header(): Pandasデータフレームのヘッダー内の\"\\n\"をスペースに変換する関数\n",
        "* convert_text_to_list(): Pandasデータフレームのヘッダーをリストに変換する関数\n",
        "* drop_columns(): 学習に不必要な項目をdrop()する関数\n",
        "* data_imputation(): sklearnのSimpleImputerを導入し欠損値（NaN)補完を行う関数\n",
        "* def remove_header_map(): Pandasデータフレームのヘッダー内にカテゴリカル変数が含まれる場合、数値と置き換える関数\n",
        "* def split(): テスト用のデータを分割する為の関数\n",
        "* def create_data_synthesis_network(): 模擬データを作成するためのベイジアンネットワークモデルの定義・学習を行う関数\n",
        "* def generate_synthetic_data(): 学習済のベイジアンネットワークモデルを使い模擬データを実際に作成する関数\n",
        "* def synthetic_data_wrapper(): 学習済のDataDescriberのモデルが存在するかを確認する関数\n",
        "* def main(): 上記全ての工程を一度に実行するためのメイン関数\n",
        "\n",
        "\n"
      ],
      "metadata": {
        "id": "rB_N0KCGjwu9"
      }
    },
    {
      "cell_type": "code",
      "source": [
        "# 出力ディレクトリーの作成\n",
        "!mkdir ./out\n",
        "\n",
        "# description_fileをグーグルドライブから引っ張ってくる\n",
        "!cp '/content/drive/MyDrive/shibaki analysis/description.json' ./out/description.json\n",
        "\n",
        "# synthetic_dataをグーグルドライブから引っ張ってくる\n",
        "!cp '/content/drive/MyDrive/shibaki analysis/synthetic_data.csv' ./out/synthetic_data.csv"
      ],
      "metadata": {
        "id": "WJJR0U5kPILs",
        "colab": {
          "base_uri": "https://localhost:8080/"
        },
        "outputId": "6cfe6da0-922f-4d7e-b9f0-3ac8300cca31"
      },
      "execution_count": 4,
      "outputs": [
        {
          "output_type": "stream",
          "name": "stdout",
          "text": [
            "cp: cannot stat '/content/drive/MyDrive/shibaki analysis/description.json': No such file or directory\n",
            "cp: cannot stat '/content/drive/MyDrive/shibaki analysis/synthetic_data.csv': No such file or directory\n"
          ]
        }
      ]
    },
    {
      "cell_type": "code",
      "source": [
        "class BaseBALDatasetProcessor(object):\n",
        "    def __init__(\n",
        "        self,\n",
        "        dataset,\n",
        "        dataset_root,\n",
        "        dataframe_name,\n",
        "    ):\n",
        "        # 模擬データが元のデータの類似するように模擬データの作成設定をcorrelated_attribute_modeにする\n",
        "        self.mode = 'correlated_attribute_mode'\n",
        "        self.dataset = dataset\n",
        "        self.dataset_root = dataset_root\n",
        "        self.dataframe_name = dataframe_name\n",
        "\n",
        "        # Holdout法に基づき先に学習用のデータを分割したデータフレーム\n",
        "        self.augment_training_df = pd.DataFrame()\n",
        "\n",
        "        # 模擬データの構造を説明するための情報ファイル等の指定\n",
        "        if os.path.exists(f'./out/description.json') and os.path.exists(f'./out/synthetic_data.csv'):\n",
        "            self.description_file = f'./out/description.json'\n",
        "            self.synthetic_data = f'./out/synthetic_data.csv'\n",
        "\n",
        "        else:\n",
        "            self.output_dir = f'./out'\n",
        "            self.description_file = f'./out/description.json'\n",
        "            self.synthetic_data = f'./out/synthetic_data.csv'\n",
        "\n",
        "        # データセットをPandasのデータフレームとして読み込む\n",
        "        self.dataframe = pd.read_excel(self.dataset, engine='openpyxl')\n",
        "\n",
        "        # データセット内のカテゴリカル変数の数値をその数値が表すカテゴリーに置き換える必要がある際\n",
        "        self.columnname_dict = OrderedDict([\n",
        "            ('90day-mortality', {0.0: 'survival', 1.0: 'death'}),\n",
        "            ('sex', {0.0: 'male', 1.0: 'female'}),\n",
        "            ('smoking-status',\n",
        "             {0.0: 'Never',\n",
        "                   1.0: 'Ex(quit smoking over a year ago)',\n",
        "                   2.0: 'Current'}),\n",
        "            ('emphysema', {0.0: '-', 1.0: '+'}),\n",
        "            ('Baseline-ILD',\n",
        "             {0.0: 'UIP',\n",
        "                   1.0: 'probable UIP',\n",
        "                   2.0: 'Indeterminate for UIP',\n",
        "                   3.0: 'Alternative diagnosis'}),\n",
        "            ('Collagen-disease', {0.0: '-', 1.0: '+'}),\n",
        "            ('IPAF', {0.0: '-', 1.0: '+'})])\n",
        "\n",
        "    def clean_header(\n",
        "        self,\n",
        "        text\n",
        "    ):\n",
        "        \"\"\"\n",
        "        Pandasデータフレームのヘッダー内の\"\\n\"をスペースに変換する関数\n",
        "        \"\"\"\n",
        "        text = text.strip()\n",
        "        text = text.replace(\" \", \"-\")\n",
        "        text_n_newline = text.replace(\"\\n\", \" \")\n",
        "        return text_n_newline\n",
        "\n",
        "    def convert_text_to_list(self):\n",
        "        \"\"\"\n",
        "        Pandasデータフレームのヘッダーをリストに変換する関数\n",
        "        \"\"\"\n",
        "        df_header_list = self.dataframe.columns.values.tolist()\n",
        "        df_header_list_cleaned = [self.clean_header(x) for x in df_header_list]\n",
        "        self.dataframe.columns = df_header_list_cleaned\n",
        "\n",
        "    def drop_columns(\n",
        "        self,\n",
        "        col_names=[\"No\"]\n",
        "    ):\n",
        "        \"\"\"\n",
        "        学習に不必要な項目をdrop()する関数\n",
        "        \"\"\"\n",
        "        self.dataframe = self.dataframe.drop(columns=col_names)\n",
        "\n",
        "    def data_imputation(\n",
        "        self,\n",
        "        null_val='NaN',\n",
        "        strategy='median'\n",
        "    ):\n",
        "        \"\"\"\n",
        "        sklearnのSimpleImputerを導入し欠損値（NaN)補完を行う関数\n",
        "        \"\"\"\n",
        "        if null_val == 'NaN':\n",
        "            nan_attr = np.NaN\n",
        "        else:\n",
        "            print(\"Declare valid null data value for variable null_val\")\n",
        "        # データフレーム内の\"NaN\"をnumpyのNaNと置き換える)\n",
        "        self.dataframe.replace(null_val, nan_attr, inplace=True)\n",
        "        # sklearnのSimpleImputerを使い、np.NaNをnull値として認識させる。\n",
        "        # 加、strategy=\"median\"はnp.NaNをその行のNaNを中央値と置き換えるための指定\n",
        "        imp = SimpleImputer(missing_values=nan_attr, strategy=strategy)\n",
        "        df_idf = pd.DataFrame(imp.fit_transform(self.dataframe))\n",
        "        # SimpleImputerは数値しか作成できない為、元のデータセットの行名を新しいデータセットに加るコード\n",
        "        df_idf.columns = self.dataframe.columns\n",
        "        self.dataframe = df_idf\n",
        "\n",
        "    def remove_header_map(\n",
        "        self,\n",
        "        text\n",
        "    ):\n",
        "        \"\"\"\n",
        "        Pandasデータフレームのヘッダー内にカテゴリカル変数が含まれる場合、数値と置き換える関数\n",
        "        \"\"\"\n",
        "        for key in self.columnname_dict.keys():\n",
        "            if key in text:\n",
        "                text = key\n",
        "        return text\n",
        "\n",
        "    def split (\n",
        "      self,\n",
        "      # Y (ラベル) ターゲットラベル\n",
        "      Y_col = '90day-mortality',\n",
        "      # テスト用データの割合\n",
        "      ts = 0.20,\n",
        "      # 検証用でデータの割合\n",
        "      vs = 0.40,\n",
        "      # ランダムステート \n",
        "      rs = 42\n",
        "    ):\n",
        "      \"\"\"\n",
        "      学習用・テスト用・検証用に分割するための関数\n",
        "      \"\"\"\n",
        "      # ヘッダーコラムのテキストを記号と置き換える必要がある場合\n",
        "      df_header_list = self.dataframe.columns.values.tolist()\n",
        "      df_header_list_cleaned = [self.remove_header_map(\n",
        "          x) for x in self.columnname_dict]\n",
        "      for column in self.dataframe:\n",
        "          for header in df_header_list_cleaned:\n",
        "              if header in column:\n",
        "                  self.dataframe.rename(\n",
        "                      columns={column: header}, inplace=True)\n",
        "                  \n",
        "      # X (フィーチャー) ターゲットラベル以外の全ての行\n",
        "      X_cols = self.dataframe.loc[:, self.dataframe.columns != Y_col].columns\n",
        "\n",
        "      # テストデータ分割（初期の分割ではtrainに学習用・検証用データが含まれ, testにテストデータが含まれる)\n",
        "      X_train, self.X_test, y_train, self.y_test = \\\n",
        "      train_test_split(\n",
        "          self.dataframe[X_cols], \n",
        "          self.dataframe[Y_col],\n",
        "          test_size=ts, \n",
        "          random_state=rs, \n",
        "          stratify=self.dataframe[Y_col]\n",
        "          )\n",
        "      \n",
        "      # 学習用・検証用データ分割\n",
        "      X_train, X_val, y_train, y_val = \\\n",
        "      train_test_split(\n",
        "          X_train, \n",
        "          y_train,\n",
        "          test_size=vs, \n",
        "          random_state=rs,\n",
        "          stratify=y_train\n",
        "          )\n",
        "      \n",
        "      # テスト用データからIDをドロップする\n",
        "      self.X_test = self.X_test.drop(columns=['ID'])\n",
        "      \n",
        "      # 学習用のデータをデータフレームに付け加える\n",
        "      X_temp_df = pd.concat([X_train, X_val], axis=0)\n",
        "      y_temp_df = pd.concat([y_train, y_val], axis=0)\n",
        "      self.augment_training_df = pd.concat([X_temp_df, y_temp_df], axis=1)\n",
        "\n",
        "    def create_data_synthesis_network(\n",
        "        self,\n",
        "        # データの要素を識別できるように、IDをデータのキーとして認識する\n",
        "        candidate_keys={'ID': True},\n",
        "        categorical_attr_index=9,\n",
        "        categorical_attr_incl=['ID', 'age', 'Brinkman-Index'],\n",
        "\n",
        "        # ベイジアンネットワークパラメーター指定\n",
        "        # ドメインサイズがこのしきい値よりも小さい場合、属性はカテゴリーに分類されます。\n",
        "        # 今回のデータでは一番多いカテゴリー要素が4だったので、閾値を4と指定する\n",
        "        threshold_value=4,\n",
        "\n",
        "        # 差分プライバシーのパラメーター。 これは、入力データセットの行を削除しても、exp（epsilon）の乗法差以上に同じ出力を取得する確率が変わらないことを大まかに意味します。\n",
        "        # イプシロン値を増やすことで学習モデルのノイズを減らせます。 差分プライバシーをオフにするにはepsilon = 0を設定します。\n",
        "        epsilon=1,\n",
        "\n",
        "        # ベイジアンネットワーク内の親ノードの最大数、つまり、有向グラフでの入力エッジの最大数。\n",
        "        degree_of_bayesian_network=2\n",
        "    ):\n",
        "        \"\"\"\n",
        "        模擬データを作成するためのベイジアンネットワークモデルの定義・学習を行う関数\n",
        "        \"\"\"\n",
        "        # PandasのデータフレームをDataSynthesizerが応用できるようにcsvに変換する\n",
        "        self.augment_training_df.to_csv(self.dataframe_name + '.csv', index=False)\n",
        "\n",
        "        # データフレーム内の0−9行の内age以外の行はカテゴリカルなため、模擬データを作成出来るようにカテゴリかルアトリビュートとして認識する\n",
        "        categorical_attributes = {}\n",
        "\n",
        "        for columns in list(self.augment_training_df.columns[:categorical_attr_index]):\n",
        "            if columns not in categorical_attr_incl:\n",
        "                categorical_attributes[columns] = True\n",
        "\n",
        "        # DataDescriberをインスタンス化する\n",
        "        describer = DataDescriber(category_threshold=threshold_value)\n",
        "\n",
        "        if self.mode == 'correlated_attribute_mode':\n",
        "            # データセットの統計を計算する\n",
        "            describer.describe_dataset_in_correlated_attribute_mode(dataset_file='./' + self.dataframe_name + '.csv',\n",
        "                                                                    epsilon=epsilon,\n",
        "                                                                    k=degree_of_bayesian_network,\n",
        "                                                                    attribute_to_is_categorical=categorical_attributes,\n",
        "                                                                    attribute_to_is_candidate_key=candidate_keys)\n",
        "        else:\n",
        "            print(\"The model does not currently suport this mode type for computation\")\n",
        "\n",
        "        # データセットの統計を上で定義した出力ファイルに保存する\n",
        "        # その後に作成されたベイズネットワークを出力する\n",
        "        describer.save_dataset_description_to_file(self.description_file)\n",
        "        display_bayesian_network(describer.bayesian_network)\n",
        "        return describer\n",
        "\n",
        "    def generate_synthetic_data(\n",
        "        self,\n",
        "        # 合成データセットで生成される症例数\n",
        "        num_tuples_to_generate=50\n",
        "    ):\n",
        "        \"\"\"\n",
        "        学習済のベイジアンネットワークモデルを使い模擬データを実際に作成する関数\n",
        "        \"\"\"\n",
        "        # 実際に模擬データを作成するコード\n",
        "        generator = DataGenerator()\n",
        "\n",
        "        # ベイズモデルの応用（模擬データの作成）\n",
        "        # description_fileとして定義してあるJSONファイルにベイズモデルが学習したカテゴリカルアトリビュートの特徴が保存される\n",
        "        # num_tuples_to_generateは生成される症例数\n",
        "        generator.generate_dataset_in_correlated_attribute_mode(\n",
        "            num_tuples_to_generate, self.description_file)\n",
        "\n",
        "        # 作成した模擬データをsynthetic_dataとして定義したcsvファイルに保存する\n",
        "        generator.save_synthetic_data(self.synthetic_data)\n",
        "\n",
        "        # pandasのデータフレームとして模擬データを読み込む\n",
        "        synthetic_df = pd.read_csv(self.synthetic_data)\n",
        "\n",
        "        return synthetic_df, generator\n",
        "\n",
        "    def synthetic_data_wrapper(\n",
        "        self\n",
        "    ):\n",
        "        \"\"\"\n",
        "        学習済のDataDescriberのモデルが存在するかを確認する関数\n",
        "        \"\"\"\n",
        "        # 事前に学習済のDataDescriberが存在するかを確認する\n",
        "        if os.path.exists(self.synthetic_data) and \\\n",
        "                os.stat(self.synthetic_data).st_size != 0:\n",
        "            # pandasのデータフレームとして模擬データを読み込む\n",
        "            synthetic_df = pd.read_csv(self.synthetic_data)\n",
        "\n",
        "        else:\n",
        "            describer = self.create_data_synthesis_network()\n",
        "            synthetic_df, generator = self.generate_synthetic_data()\n",
        "\n",
        "        # 新しく作成した模擬データは上記で作成したsynthetic_df内にあるため、self.augment_training_dfにデータを足す\n",
        "        self.augment_training_df = pd.concat([self.augment_training_df, synthetic_df])\n",
        "        # テスト用のデータを学習済のモデルで測るため、テストデータも模擬データフレームと加え出力する\n",
        "        return self.augment_training_df, self.X_test, self.y_test\n",
        "\n",
        "    def main(\n",
        "        self\n",
        "    ):\n",
        "        \"\"\"\n",
        "        上記全ての工程を一度に実行するためのメイン関数\n",
        "        \"\"\"\n",
        "        self.convert_text_to_list()\n",
        "        self.drop_columns(col_names=[\"No\"])\n",
        "        self.data_imputation(null_val='NaN', strategy='median')\n",
        "        self.split(Y_col = '90day-mortality', ts = 0.30, rs = 42)\n",
        "        return self.synthetic_data_wrapper()\n"
      ],
      "metadata": {
        "id": "Cg_8K1fpjwJX"
      },
      "execution_count": 5,
      "outputs": []
    },
    {
      "cell_type": "markdown",
      "source": [
        "データ保存先のrootディレクトリ(dataset_root)を指定し， 上記のクラスを使用してデータの前処理を行う。前処理済のデータはdataframe_nameで指定した名前でPandasのデータフレーム形式で所定の場所に保存されます。\n",
        "\n",
        "加え、クラスで先にテスト用のデータをとり分けて置く"
      ],
      "metadata": {
        "id": "4UKKr7DVDMNG"
      }
    },
    {
      "cell_type": "code",
      "source": [
        "dataset = 'patient_data.xlsx'\n",
        "dataset_root = './'\n",
        "dataframe_name = 'AE_FILD_df'\n",
        "post_processed_data_frame, X_test, y_test = BaseBALDatasetProcessor(dataset, dataset_root, dataframe_name).main()\n",
        "print(post_processed_data_frame['90day-mortality'].value_counts())"
      ],
      "metadata": {
        "colab": {
          "base_uri": "https://localhost:8080/"
        },
        "id": "zKrG2bzSCKoq",
        "outputId": "e0c3e2ad-2ad8-43ad-fb97-a38a025320ed"
      },
      "execution_count": 6,
      "outputs": [
        {
          "output_type": "stream",
          "name": "stdout",
          "text": [
            "================ Constructing Bayesian Network (BN) ================\n",
            "Adding ROOT MIP-1a\n",
            "Adding attribute IL-10\n",
            "Adding attribute IL-9\n",
            "Adding attribute MDC\n",
            "Adding attribute GRO\n",
            "Adding attribute EOTAXIN\n",
            "Adding attribute sCD40L\n",
            "Adding attribute TGF-a\n",
            "Adding attribute MIP-1b\n",
            "Adding attribute IL-36β\n",
            "Adding attribute TGFB2\n",
            "Adding attribute IL-4\n",
            "Adding attribute FRACTALKINE\n",
            "Adding attribute MCP-3\n",
            "Adding attribute TNFa\n",
            "Adding attribute Brinkman-Index\n",
            "Adding attribute emphysema\n",
            "Adding attribute sex\n",
            "Adding attribute IL-6\n",
            "Adding attribute IL-2\n",
            "Adding attribute IL-8\n",
            "Adding attribute 90day-mortality\n",
            "Adding attribute IL-1b\n",
            "Adding attribute EGF\n",
            "Adding attribute IL-1RA\n",
            "Adding attribute IPAF\n",
            "Adding attribute IL-12P40\n",
            "Adding attribute P/F-ratio\n",
            "Adding attribute TNFb\n",
            "Adding attribute G-CSF\n",
            "Adding attribute MMP-7\n",
            "Adding attribute BAL(Lymph-%)\n",
            "Adding attribute IL-1a\n",
            "Adding attribute TGFB3\n",
            "Adding attribute IFN-a2\n",
            "Adding attribute age\n",
            "Adding attribute IL-12P70\n",
            "Adding attribute IFN-g\n",
            "Adding attribute IL-13\n",
            "Adding attribute MCP-1\n",
            "Adding attribute IL-15\n",
            "Adding attribute BAL(M-%)\n",
            "Adding attribute MMP-1\n",
            "Adding attribute IL-17\n",
            "Adding attribute Baseline-ILD\n",
            "Adding attribute GM-CSF\n",
            "Adding attribute IL-3\n",
            "Adding attribute LDH\n",
            "Adding attribute Collagen-disease\n",
            "Adding attribute BAL(Eos-%)\n",
            "Adding attribute BAL(CD4/8)\n",
            "Adding attribute Flt-3L\n",
            "Adding attribute TGFB1\n",
            "Adding attribute VEGF\n",
            "Adding attribute smoking-status\n",
            "Adding attribute BAL(neutro-%)\n",
            "Adding attribute CRP\n",
            "Adding attribute IL-7\n",
            "Adding attribute FGF-2\n",
            "Adding attribute IL-5\n",
            "Adding attribute IP-10\n",
            "========================== BN constructed ==========================\n",
            "Constructed Bayesian network:\n",
            "    IL-10            has parents ['MIP-1a'].\n",
            "    IL-9             has parents ['IL-10', 'MIP-1a'].\n",
            "    MDC              has parents ['IL-9', 'IL-10'].\n",
            "    GRO              has parents ['IL-10', 'MIP-1a'].\n",
            "    EOTAXIN          has parents ['GRO', 'IL-10'].\n",
            "    sCD40L           has parents ['MDC', 'IL-10'].\n",
            "    TGF-a            has parents ['MDC', 'IL-9'].\n",
            "    MIP-1b           has parents ['TGF-a', 'MIP-1a'].\n",
            "    IL-36β           has parents ['GRO', 'MIP-1a'].\n",
            "    TGFB2            has parents ['TGF-a', 'IL-9'].\n",
            "    IL-4             has parents ['MIP-1b', 'MDC'].\n",
            "    FRACTALKINE      has parents ['IL-36β', 'sCD40L'].\n",
            "    MCP-3            has parents ['IL-9', 'IL-10'].\n",
            "    TNFa             has parents ['TGFB2', 'MDC'].\n",
            "    Brinkman-Index   has parents ['MDC', 'IL-9'].\n",
            "    emphysema        has parents ['MCP-3', 'IL-4'].\n",
            "    sex              has parents ['FRACTALKINE', 'IL-4'].\n",
            "    IL-6             has parents ['TNFa', 'IL-36β'].\n",
            "    IL-2             has parents ['MCP-3', 'TGF-a'].\n",
            "    IL-8             has parents ['IL-4', 'MIP-1b'].\n",
            "    90day-mortality  has parents ['TGFB2', 'IL-10'].\n",
            "    IL-1b            has parents ['TGFB2', 'IL-10'].\n",
            "    EGF              has parents ['sex', 'EOTAXIN'].\n",
            "    IL-1RA           has parents ['sex', 'TNFa'].\n",
            "    IPAF             has parents ['emphysema', 'MDC'].\n",
            "    IL-12P40         has parents ['IL-36β', 'GRO'].\n",
            "    P/F-ratio        has parents ['IL-2', 'sex'].\n",
            "    TNFb             has parents ['TGF-a', 'IL-9'].\n",
            "    G-CSF            has parents ['IL-12P40', 'TGFB2'].\n",
            "    MMP-7            has parents ['IL-8', 'Brinkman-Index'].\n",
            "    BAL(Lymph-%)     has parents ['P/F-ratio', 'IL-8'].\n",
            "    IL-1a            has parents ['P/F-ratio', 'TGF-a'].\n",
            "    TGFB3            has parents ['IL-1RA', 'TNFa'].\n",
            "    IFN-a2           has parents ['IL-1a', 'GRO'].\n",
            "    age              has parents ['P/F-ratio', 'IL-36β'].\n",
            "    IL-12P70         has parents ['IPAF', 'TGF-a'].\n",
            "    IFN-g            has parents ['IL-1RA', 'TNFa'].\n",
            "    IL-13            has parents ['IPAF', 'IL-9'].\n",
            "    MCP-1            has parents ['G-CSF', 'IL-2'].\n",
            "    IL-15            has parents ['IL-1RA', 'EOTAXIN'].\n",
            "    BAL(M-%)         has parents ['TNFb', 'MDC'].\n",
            "    MMP-1            has parents ['IL-15', 'EOTAXIN'].\n",
            "    IL-17            has parents ['Brinkman-Index', 'MCP-3'].\n",
            "    Baseline-ILD     has parents ['BAL(Lymph-%)', 'MIP-1a'].\n",
            "    GM-CSF           has parents ['BAL(Lymph-%)', 'sex'].\n",
            "    IL-3             has parents ['IPAF', 'MIP-1a'].\n",
            "    LDH              has parents ['GM-CSF', 'IL-12P70'].\n",
            "    Collagen-disease has parents ['P/F-ratio', '90day-mortality'].\n",
            "    BAL(Eos-%)       has parents ['BAL(Lymph-%)', 'IPAF'].\n",
            "    BAL(CD4/8)       has parents ['Baseline-ILD', 'MMP-1'].\n",
            "    Flt-3L           has parents ['EGF', 'IL-1b'].\n",
            "    TGFB1            has parents ['BAL(M-%)', 'IFN-g'].\n",
            "    VEGF             has parents ['IL-17', 'IL-12P70'].\n",
            "    smoking-status   has parents ['IL-1a', 'IPAF'].\n",
            "    BAL(neutro-%)    has parents ['VEGF', 'sCD40L'].\n",
            "    CRP              has parents ['BAL(M-%)', 'MMP-7'].\n",
            "    IL-7             has parents ['BAL(Eos-%)', '90day-mortality'].\n",
            "    FGF-2            has parents ['MMP-1', 'G-CSF'].\n",
            "    IL-5             has parents ['Collagen-disease', 'Baseline-ILD'].\n",
            "    IP-10            has parents ['BAL(Eos-%)', 'TGF-a'].\n",
            "0.0    52\n",
            "1.0    40\n",
            "Name: 90day-mortality, dtype: int64\n"
          ]
        }
      ]
    },
    {
      "cell_type": "markdown",
      "source": [
        "テスト用のデータのラベルの割合を見てみる"
      ],
      "metadata": {
        "id": "SoGHRqQABZDS"
      }
    },
    {
      "cell_type": "code",
      "source": [
        "print(y_test.value_counts())"
      ],
      "metadata": {
        "colab": {
          "base_uri": "https://localhost:8080/"
        },
        "id": "Q7ji0-yt7zzX",
        "outputId": "e5c2fe13-300e-494e-b1dc-d95b5c52cbaf"
      },
      "execution_count": 7,
      "outputs": [
        {
          "output_type": "stream",
          "name": "stdout",
          "text": [
            "0.0    15\n",
            "1.0     3\n",
            "Name: 90day-mortality, dtype: int64\n"
          ]
        }
      ]
    },
    {
      "cell_type": "markdown",
      "source": [
        "保存先の./outディレクトリに以下のファイルが保存されていることを確認する。\n",
        "* 模擬データを作成するためのベイジアンネットワークモデルを保管するdescription.jsonファイル\n",
        "* 学習済のベイジアンネットワークモデルを使い作成した模擬データを保管するsynthetic_data.csv\n"
      ],
      "metadata": {
        "id": "ouGphNQqYugC"
      }
    },
    {
      "cell_type": "code",
      "source": [
        "!tree ./out"
      ],
      "metadata": {
        "id": "-EuqubzNZdBR",
        "colab": {
          "base_uri": "https://localhost:8080/"
        },
        "outputId": "c0ab24ed-1ccc-488d-e65f-f9b8fafc6bb8"
      },
      "execution_count": 8,
      "outputs": [
        {
          "output_type": "stream",
          "name": "stdout",
          "text": [
            "./out\n",
            "├── description.json\n",
            "└── synthetic_data.csv\n",
            "\n",
            "0 directories, 2 files\n"
          ]
        }
      ]
    },
    {
      "cell_type": "markdown",
      "source": [
        "## RF解析モデル\n"
      ],
      "metadata": {
        "id": "dbboFo1YaCNb"
      }
    },
    {
      "cell_type": "markdown",
      "source": [
        "学習モデルを構築する為の学習アルゴリズムには、ランダムフォレストを使用します。\n",
        "まずデータセット分割を行います。\n",
        "教示あり学習には主に交差検証とホールドアウト法がありますが今回はシンプルにホールドアウト法を使ってモデル構築を行います。\n",
        "ホールドアウト法：学習用と評価用にデータセットに分けてから、学習用でモデルを作成してから、評価用のデータでうまく予測する事ができるか確認していきます。\n",
        "X_allにフィーチャー、y_allにラベルと分割し、さらにX_allとy_allを学習用と評価用に分割しました。\n",
        "評価用を30％、学習用を70%と指定しました。\n",
        "加え、ラベルのインデックスは、\n",
        "*   0: 間質性肺炎感染90日後の生存者\n",
        "*   1: 間質性肺炎感染90日後の死者\n",
        "\n",
        "となっています。\n",
        "\n",
        "分割方法についてですが# Scikit-learnのtrain_test_split()を使い自動的にデータセットを学習用と評価用に分割します。test_sizeを0.3にして学習用を30%、訓練用を70%といったように分割できます。加え、random_stateを42にして実験の再現性を向上させます\n"
      ],
      "metadata": {
        "id": "BI-hAB57qTPM"
      }
    },
    {
      "cell_type": "code",
      "source": [
        "#IDを削除\n",
        "finalized_df = post_processed_data_frame.drop(labels=['ID'], axis=1)\n",
        "\n",
        "# 行数と列数を変数として保管する\n",
        "NUM_ROWS, NUM_COLS = finalized_df.shape[0], finalized_df.shape[1]\n",
        "\n",
        "# Y (ラベル) ターゲットラベル\n",
        "Y_col = '90day-mortality'\n",
        "# X (フィーチャー) ターゲットラベル以外の全ての行\n",
        "X_cols = finalized_df.loc[:, finalized_df.columns != Y_col].columns\n",
        "\n",
        "X_train, X_val, y_train, y_val = \\\n",
        "train_test_split(finalized_df[X_cols], finalized_df[Y_col],test_size=0.3, random_state=42)\n",
        "\n",
        "X_train_op, X_val_op, y_train_op, y_val_op = X_train.copy(), X_val.copy(), y_train.copy(), y_val.copy()\n",
        "\n",
        "print(\"X_train.shape = \", X_train.shape, \" \\t y_train.shape = \", y_train.shape)\n",
        "print(\"X_val.shape = \", X_val.shape, \" \\t y_val.shape = \", y_val.shape)\n"
      ],
      "metadata": {
        "id": "HnHiazrGZ84Z",
        "colab": {
          "base_uri": "https://localhost:8080/"
        },
        "outputId": "69fca0fe-3241-4c00-91b2-bd13a6a75e3a"
      },
      "execution_count": 9,
      "outputs": [
        {
          "output_type": "stream",
          "name": "stdout",
          "text": [
            "X_train.shape =  (64, 61)  \t y_train.shape =  (64,)\n",
            "X_val.shape =  (28, 61)  \t y_val.shape =  (28,)\n"
          ]
        }
      ]
    },
    {
      "cell_type": "markdown",
      "source": [
        "学習用データセットに含まれている各ラベル毎のサンプル数をカウントしてみます．"
      ],
      "metadata": {
        "id": "5yApgRKStkBs"
      }
    },
    {
      "cell_type": "code",
      "source": [
        "uniq_train, counts_train = np.unique(y_train, return_counts=True)\n",
        "print(\"y_train count each labels: \", dict(zip(uniq_train, counts_train)))"
      ],
      "metadata": {
        "id": "yt-b-tG-ttOA",
        "colab": {
          "base_uri": "https://localhost:8080/"
        },
        "outputId": "778a2b37-6ee1-452e-97e0-5694753b5ba3"
      },
      "execution_count": 10,
      "outputs": [
        {
          "output_type": "stream",
          "name": "stdout",
          "text": [
            "y_train count each labels:  {0.0: 36, 1.0: 28}\n"
          ]
        }
      ]
    },
    {
      "cell_type": "markdown",
      "source": [
        "評価用データについても同様にラベル毎のサンプル数をカウントします．"
      ],
      "metadata": {
        "id": "hfSdFRaqtwYU"
      }
    },
    {
      "cell_type": "code",
      "source": [
        "uniq_test, counts_test = np.unique(y_val, return_counts=True)\n",
        "print(\"y_val count each labels: \", dict(zip(uniq_test, counts_test)))"
      ],
      "metadata": {
        "id": "YheI_1OpuWK3",
        "colab": {
          "base_uri": "https://localhost:8080/"
        },
        "outputId": "0d75e1a4-1051-466d-ef75-d183e6ed9097"
      },
      "execution_count": 11,
      "outputs": [
        {
          "output_type": "stream",
          "name": "stdout",
          "text": [
            "y_val count each labels:  {0.0: 16, 1.0: 12}\n"
          ]
        }
      ]
    },
    {
      "cell_type": "markdown",
      "source": [
        "### モデル構築から予測精度の確認"
      ],
      "metadata": {
        "id": "wQIsoppg-nul"
      }
    },
    {
      "cell_type": "markdown",
      "source": [
        "学習したデータに対してとても良い精度を出すモデルであっても、予測が必要な新たなデータに対する精度が非常に低い、いわゆる「過学習」という状態になることが良くあります。こうならないように、汎用的に良い精度になるモデルを作成するためには、妥当性の検証が必要になります。\n",
        "妥当性の検証としては方法を二通り行います：\n",
        "* クロスバリデーション\n",
        "* Optuna\n",
        "\n"
      ],
      "metadata": {
        "id": "JKkBrwE0-tgj"
      }
    },
    {
      "cell_type": "markdown",
      "source": [
        "#### クロスバリデーション"
      ],
      "metadata": {
        "id": "LZrYNlVBcDJ5"
      }
    },
    {
      "cell_type": "markdown",
      "source": [
        "クロスバリデーションを使った最終モデル選択までの手順：\n",
        "1. 使うモデルの候補を上げる：RandomForestClassifier --> ランダムフォレストのパラメーターは、初期値として作成する決定木を42、最大の深さを1にしてみます。)\n",
        "\n",
        "2. それぞれのモデルでクロスバリデーションを行い、感度や特異度などの精度を算出する (決定木を50, 150, 250, 350; 最大の深さを1から20でランダムフォレストモデルを定義する) \n",
        "\n",
        "3. クロスバリデーションの結果、テストデータでの精度が一番高そうなモデルを選択\n"
      ],
      "metadata": {
        "id": "ZE3N6p_WA04B"
      }
    },
    {
      "cell_type": "code",
      "source": [
        "# cross validationを使い、階層や決定木の数をチューニングしてみる（ハイパーパラメーター）\n",
        "# 注：過適合/過剰適合のバランスを見極めながらハイパーパラメーターチューニングを行う\n",
        "best_accuracy = 0\n",
        "best_depth = 1\n",
        "best_num_trees = 42\n",
        "\n",
        "for ntrees in range(50,450,100):  # 決定木50から350の間（ステップ数：100)\n",
        "    for d in range(1,20): # 階層1から20の間\n",
        "        rforest_model = ensemble.RandomForestClassifier(max_depth=d, \n",
        "                                                        n_estimators=ntrees)\n",
        "        cv_scores = cross_val_score( rforest_model, X_train, y_train, cv=5 ) # 5 はトレーニング・テストの割合が8割・2割ということを表す\n",
        "        average_cv_accuracy = cv_scores.mean()  # cvスコアの平均値cv=5はスコアを五つ出すため、その平均値を見る\n",
        "        if average_cv_accuracy >= best_accuracy: # cvスコアの平均値正確性が現在の最適正確性を上回った場合、現在のcvスコア平均値を出した決定木数・階層を最適とする\n",
        "            best_accuracy = average_cv_accuracy\n",
        "            best_depth = d\n",
        "            best_num_trees = ntrees\n",
        "        print(f\"階層: {d:2d} 決定木: {ntrees:3d} cv スコア平均値: {average_cv_accuracy:7.4f}\")\n",
        "\n",
        "print()\n",
        "print(f\"最適層: {best_depth}, 最適決定木数： {best_num_trees}, 最高予測精度：{best_accuracy}\")\n",
        "\n",
        "# 上記で見つけた最適層・最適決定木数をもとにモデルの構築・モデルのトレーニング\n",
        "rforest_model_cv = ensemble.RandomForestClassifier(max_depth=best_depth, n_estimators=best_num_trees) # ensemble.RandomForestClassifierからRF解析モデルを引っ張ってくる\n",
        "\n",
        "# モデルを再度トレーニングする\n",
        "rforest_model_cv.fit(X_train, y_train) # .fit()がトレーニングデータを使い、モデルをトレーニングしろというコマンド\n",
        "\n",
        "# 再度トレーニングした後のモデルのパフォーマンス検証\n",
        "# テストデータにrforest_modelに.predict()関数を応用し、RFモデルがラベルを何個正確に予測出来たかを検証する\n",
        "y_pred = rforest_model_cv.predict(X_val)\n",
        "\n",
        "#モデルを作成する段階でのモデルの識別精度\n",
        "trainaccuracy_random_forest = rforest_model_cv.score(X_train, y_train)\n",
        "print('TrainAccuracy: {}'.format(trainaccuracy_random_forest))\n",
        "\n",
        "#作成したモデルに学習に使用していない評価用のデータセットを入力し精度を確認\n",
        "accuracy_random_forest = accuracy_score(y_val, y_pred)\n",
        "print('Accuracy: {}'.format(accuracy_random_forest))\n",
        "\n",
        "# 正確性の出力\n",
        "print(classification_report(y_val, y_pred))"
      ],
      "metadata": {
        "id": "oFUCossjbmh9",
        "colab": {
          "base_uri": "https://localhost:8080/"
        },
        "outputId": "a2e7823d-da4e-40cf-e654-a295304bfa07"
      },
      "execution_count": 12,
      "outputs": [
        {
          "output_type": "stream",
          "name": "stdout",
          "text": [
            "階層:  1 決定木:  50 cv スコア平均値:  0.6410\n",
            "階層:  2 決定木:  50 cv スコア平均値:  0.6423\n",
            "階層:  3 決定木:  50 cv スコア平均値:  0.6103\n",
            "階層:  4 決定木:  50 cv スコア平均値:  0.5949\n",
            "階層:  5 決定木:  50 cv スコア平均値:  0.5782\n",
            "階層:  6 決定木:  50 cv スコア平均値:  0.5782\n",
            "階層:  7 決定木:  50 cv スコア平均値:  0.5308\n",
            "階層:  8 決定木:  50 cv スコア平均値:  0.5615\n",
            "階層:  9 決定木:  50 cv スコア平均値:  0.5949\n",
            "階層: 10 決定木:  50 cv スコア平均値:  0.5923\n",
            "階層: 11 決定木:  50 cv スコア平均値:  0.5308\n",
            "階層: 12 決定木:  50 cv スコア平均値:  0.5167\n",
            "階層: 13 決定木:  50 cv スコア平均値:  0.6064\n",
            "階層: 14 決定木:  50 cv スコア平均値:  0.5462\n",
            "階層: 15 決定木:  50 cv スコア平均値:  0.6564\n",
            "階層: 16 決定木:  50 cv スコア平均値:  0.6256\n",
            "階層: 17 決定木:  50 cv スコア平均値:  0.5949\n",
            "階層: 18 決定木:  50 cv スコア平均値:  0.5308\n",
            "階層: 19 決定木:  50 cv スコア平均値:  0.5487\n",
            "階層:  1 決定木: 150 cv スコア平均値:  0.6397\n",
            "階層:  2 決定木: 150 cv スコア平均値:  0.5795\n",
            "階層:  3 決定木: 150 cv スコア平均値:  0.5936\n",
            "階層:  4 決定木: 150 cv スコア平均値:  0.5923\n",
            "階層:  5 決定木: 150 cv スコア平均値:  0.5923\n",
            "階層:  6 決定木: 150 cv スコア平均値:  0.5936\n",
            "階層:  7 決定木: 150 cv スコア平均値:  0.5782\n",
            "階層:  8 決定木: 150 cv スコア平均値:  0.5782\n",
            "階層:  9 決定木: 150 cv スコア平均値:  0.6397\n",
            "階層: 10 決定木: 150 cv スコア平均値:  0.6244\n",
            "階層: 11 決定木: 150 cv スコア平均値:  0.6718\n",
            "階層: 12 決定木: 150 cv スコア平均値:  0.6115\n",
            "階層: 13 決定木: 150 cv スコア平均値:  0.5628\n",
            "階層: 14 決定木: 150 cv スコア平均値:  0.6872\n",
            "階層: 15 決定木: 150 cv スコア平均値:  0.6103\n",
            "階層: 16 決定木: 150 cv スコア平均値:  0.5782\n",
            "階層: 17 決定木: 150 cv スコア平均値:  0.5936\n",
            "階層: 18 決定木: 150 cv スコア平均値:  0.6103\n",
            "階層: 19 決定木: 150 cv スコア平均値:  0.5949\n",
            "階層:  1 決定木: 250 cv スコア平均値:  0.5782\n",
            "階層:  2 決定木: 250 cv スコア平均値:  0.6564\n",
            "階層:  3 決定木: 250 cv スコア平均値:  0.6731\n",
            "階層:  4 決定木: 250 cv スコア平均値:  0.5795\n",
            "階層:  5 決定木: 250 cv スコア平均値:  0.6103\n",
            "階層:  6 決定木: 250 cv スコア平均値:  0.6410\n",
            "階層:  7 決定木: 250 cv スコア平均値:  0.6718\n",
            "階層:  8 決定木: 250 cv スコア平均値:  0.5949\n",
            "階層:  9 決定木: 250 cv スコア平均値:  0.6244\n",
            "階層: 10 決定木: 250 cv スコア平均値:  0.5923\n",
            "階層: 11 決定木: 250 cv スコア平均値:  0.6244\n",
            "階層: 12 決定木: 250 cv スコア平均値:  0.5936\n",
            "階層: 13 決定木: 250 cv スコア平均値:  0.6577\n",
            "階層: 14 決定木: 250 cv スコア平均値:  0.5628\n",
            "階層: 15 決定木: 250 cv スコア平均値:  0.6423\n",
            "階層: 16 決定木: 250 cv スコア平均値:  0.6090\n",
            "階層: 17 決定木: 250 cv スコア平均値:  0.6244\n",
            "階層: 18 決定木: 250 cv スコア平均値:  0.6244\n",
            "階層: 19 決定木: 250 cv スコア平均値:  0.6103\n",
            "階層:  1 決定木: 350 cv スコア平均値:  0.6423\n",
            "階層:  2 決定木: 350 cv スコア平均値:  0.6244\n",
            "階層:  3 決定木: 350 cv スコア平均値:  0.5949\n",
            "階層:  4 決定木: 350 cv スコア平均値:  0.5949\n",
            "階層:  5 決定木: 350 cv スコア平均値:  0.6256\n",
            "階層:  6 決定木: 350 cv スコア平均値:  0.6256\n",
            "階層:  7 決定木: 350 cv スコア平均値:  0.6244\n",
            "階層:  8 決定木: 350 cv スコア平均値:  0.6244\n",
            "階層:  9 決定木: 350 cv スコア平均値:  0.6090\n",
            "階層: 10 決定木: 350 cv スコア平均値:  0.6090\n",
            "階層: 11 決定木: 350 cv スコア平均値:  0.6244\n",
            "階層: 12 決定木: 350 cv スコア平均値:  0.6564\n",
            "階層: 13 決定木: 350 cv スコア平均値:  0.6256\n",
            "階層: 14 決定木: 350 cv スコア平均値:  0.5936\n",
            "階層: 15 決定木: 350 cv スコア平均値:  0.6090\n",
            "階層: 16 決定木: 350 cv スコア平均値:  0.5936\n",
            "階層: 17 決定木: 350 cv スコア平均値:  0.5782\n",
            "階層: 18 決定木: 350 cv スコア平均値:  0.6256\n",
            "階層: 19 決定木: 350 cv スコア平均値:  0.6090\n",
            "\n",
            "最適層: 14, 最適決定木数： 150, 最高予測精度：0.6871794871794872\n",
            "TrainAccuracy: 1.0\n",
            "Accuracy: 0.6785714285714286\n",
            "              precision    recall  f1-score   support\n",
            "\n",
            "         0.0       0.67      0.88      0.76        16\n",
            "         1.0       0.71      0.42      0.53        12\n",
            "\n",
            "    accuracy                           0.68        28\n",
            "   macro avg       0.69      0.65      0.64        28\n",
            "weighted avg       0.69      0.68      0.66        28\n",
            "\n"
          ]
        }
      ]
    },
    {
      "cell_type": "markdown",
      "source": [
        "* 適合率(specificity, precision)とは、positiveと分類したデータ(TP + FP)の中で実際にpositiveだったデータ(TP)数の割合であり、この値が高いほど性能が良く、間違った分類が少ないということを意味します。\n",
        "\n",
        "* 再現率(sensitivity, recall)では、取りこぼし無くpositiveなデータを正しくpositiveと推測できているかどうかの指標となります。この値が高いほど性能がよく、間違ったpositiveの判断が少ないということであり、別の言い方をすると本来positiveと推測すべき全てのデータを、うまく推測できたかどうかを示します。\n",
        "\n",
        "* F-MeasureはF値またはF尺度と呼ばれており、適合率と再現率の調和平均を示します。高ければ高いほど、適合率と再現率ともに高くなり、バランスを示す事ができます。\n",
        "\n",
        "また，クラスごとのスコアの下に，複数の平均スコアが表示されていますが，それぞれの意味は以下の通りです．\n",
        "\n",
        "* マイクロ平均 (micro avg) : 各クラスを区別せずに，混同行列全体からスコアを算出．計算結果はいずれも正解率と一致\n",
        "* マクロ平均 (macro avg) : クラスごとに算出されたスコアの単純平均\n",
        "* 重み付き平均 (weighted avg) : クラスごとに算出されたスコアをサンプル数の比率で重み付けした加重平均"
      ],
      "metadata": {
        "id": "DE-qSfrf3osc"
      }
    },
    {
      "cell_type": "markdown",
      "source": [
        "予測結果を確認していきましょう。\n",
        "\n",
        "混同行列とよばれる，予測の分類結果をまとめた表を作成します．行方向（表側）を正解ラベル，列方向（表頭）を予測ラベルとして，各項目では以下の集計値を求めています．\n",
        "\n",
        "* 左上 : 実際に生存者であるサンプルが，生存者と予測された数\n",
        "* 右上 : 実際に生存者であるサンプルが、死者と予測された数\n",
        "* 左下 : 実際に死者であるサンプルが，生存者と予測された数\n",
        "* 右下 : 実際に死者であるサンプルが，死者と予測された数"
      ],
      "metadata": {
        "id": "B21f8H6d4KXV"
      }
    },
    {
      "cell_type": "code",
      "source": [
        "result = confusion_matrix(y_val, y_pred)\n",
        "print(\"Confusion Matrix:\")\n",
        "#confusion matrix\n",
        "labels = sorted(finalized_df['90day-mortality'].unique())\n",
        "ax = sns.heatmap(\n",
        "confusion_matrix(y_val, y_pred),\n",
        "annot=True,\n",
        "xticklabels=labels,\n",
        "yticklabels=labels\n",
        ")\n",
        "ax.set(xlabel='true label', ylabel='predicted label')"
      ],
      "metadata": {
        "id": "Z3UaS57-3qLO",
        "colab": {
          "base_uri": "https://localhost:8080/",
          "height": 324
        },
        "outputId": "94e34a10-d692-44a4-c9e9-96f36954c2e8"
      },
      "execution_count": 13,
      "outputs": [
        {
          "output_type": "stream",
          "name": "stdout",
          "text": [
            "Confusion Matrix:\n"
          ]
        },
        {
          "output_type": "execute_result",
          "data": {
            "text/plain": [
              "[Text(30.5, 0.5, 'predicted label'), Text(0.5, 12.5, 'true label')]"
            ]
          },
          "metadata": {},
          "execution_count": 13
        },
        {
          "output_type": "display_data",
          "data": {
            "text/plain": [
              "<Figure size 432x288 with 2 Axes>"
            ],
            "image/png": "[encoded data removed]"
          },
          "metadata": {
            "needs_background": "light"
          }
        }
      ]
    },
    {
      "cell_type": "markdown",
      "source": [
        "サンプル数が多い生存者に対する予測スコアは高い値を示す一方で，サンプル数の少ない死者に対しては，スコアが低くなる傾向があります．今回のデータセットのように，サンプルが占めるクラスの割合が極端に偏っている不均衡データでは，こうした傾向が観測されることが知られています．\n"
      ],
      "metadata": {
        "id": "7m9htP6vZY0Y"
      }
    },
    {
      "cell_type": "markdown",
      "source": [
        "#### Optuna"
      ],
      "metadata": {
        "id": "bTPHnf-wcVW2"
      }
    },
    {
      "cell_type": "markdown",
      "source": [
        "OptunaとはPreferred Networks社が出しているハイパーパラメータ自動化ツールです。Tree-structured Parzen Estimator というベイズ最適化アルゴリズムの一種を用いていて有望そうなハイパーパレメーターを正確に特定できます。\n",
        "objective()というOptunaの目的関数を設定する関数でRandomForestClassifierのパラメーターを設定しています。\n",
        "RandomForestClassifier()のパラメーターについて：\n",
        "1.   criterion - 評価基準 (ジニ係数またはエントロピー)\n",
        "2.   bootstrap - 決定木構築の際にブートストラップサンプルを使用するかどうか\n",
        "3.   max_depth - 先のn_estimatorsで指定した決定木／回帰木の深さの指定\n",
        "4.   max_features - 個々の決定木に、どれくらいの特徴量を使用するかを、表します\n",
        "5.   max_leaf_nodes - 決定木をベスト・ファーストの方法で成長させる\n",
        "6.   n_estimators - ベースとして利用する決定木／回帰木の数\n",
        "7.   min_samples_split - 子ノードを分割するために必要なサンプルの最小数\n",
        "8.   min_samples_leaf - リーフノードにある必要があるサンプルの最小数\n",
        "\n",
        "詳しくはこちらを参照して下さい [[3](https://scikit-learn.org/stable/modules/generated/sklearn.ensemble.RandomForestClassifier.html)]。\n",
        "\n",
        "\n"
      ],
      "metadata": {
        "id": "s2Zv_9Gv8IKG"
      }
    },
    {
      "cell_type": "code",
      "source": [
        "def objective(trial):\n",
        "  criterion = trial.suggest_categorical('criterion', ['gini', 'entropy'])\n",
        "  bootstrap = trial.suggest_categorical('bootstrap',['True','False'])\n",
        "  max_depth = trial.suggest_int('max_depth', 1, 1000)\n",
        "  max_features = trial.suggest_categorical('max_features', ['auto', 'sqrt','log2'])\n",
        "  max_leaf_nodes = trial.suggest_int('max_leaf_nodes', 1,1000)\n",
        "  n_estimators =  trial.suggest_int('n_estimators', 1, 1000)\n",
        "  min_samples_split = trial.suggest_int('min_samples_split',2,5)\n",
        "  min_samples_leaf = trial.suggest_int('min_samples_leaf',1,10)\n",
        "\n",
        "  regr = ensemble.RandomForestClassifier(\n",
        "      bootstrap = bootstrap, criterion = criterion,\n",
        "      max_depth = max_depth, max_features = max_features,\n",
        "      max_leaf_nodes = max_leaf_nodes,n_estimators = n_estimators,\n",
        "      min_samples_split = min_samples_split,min_samples_leaf = min_samples_leaf,\n",
        "      n_jobs=2)\n",
        "\n",
        "  score = cross_val_score(regr, X_train_op, y_train_op, cv=5, scoring=\"r2\")\n",
        "  r2_mean = score.mean()\n",
        "  return r2_mean\n",
        "\n",
        "study = optuna.create_study(direction='maximize')\n",
        "study.optimize(objective, n_trials=50)\n",
        "\n",
        "trial = study.best_trial\n",
        "print('Accuracy: {}'.format(trial.value))\n",
        "\n",
        "# チューニングしたハイパーパラメーターをフィット\n",
        "rforest_model_post_optuna = ensemble.RandomForestClassifier(bootstrap = study.best_params['bootstrap'], criterion = study.best_params['criterion'],\n",
        "                                     max_depth = study.best_params['max_depth'], max_features = study.best_params['max_features'],\n",
        "                                     max_leaf_nodes = study.best_params['max_leaf_nodes'],n_estimators = study.best_params['n_estimators'],\n",
        "                                     min_samples_split = study.best_params['min_samples_split'],min_samples_leaf = study.best_params['min_samples_leaf'],                                     \n",
        "                                     n_jobs=2)\n",
        "\n",
        "# モデルを再度トレーニングする\n",
        "rforest_model_post_optuna.fit(X_train_op, y_train_op) \n",
        "\n",
        "# 再度トレーニングした後のモデルのパフォーマンス検証\n",
        "# テストデータにrforest_modelに.predict()関数を応用し、RFモデルがラベルを何個正確に予測出来たかを検証する\n",
        "y_pred_op = rforest_model_post_optuna.predict(X_val_op)\n",
        "\n",
        "#モデルを作成する段階でのモデルの識別精度\n",
        "trainaccuracy_random_forest_op = rforest_model_post_optuna.score(X_train_op, y_train_op)\n",
        "print('TrainAccuracy: {}'.format(trainaccuracy_random_forest_op))\n",
        "\n",
        "#作成したモデルに学習に使用していない評価用のデータセットを入力し精度を確認\n",
        "accuracy_random_forest_op = accuracy_score(y_val_op, y_pred_op)\n",
        "print('Accuracy: {}'.format(accuracy_random_forest_op))\n",
        "\n",
        "# 正確性の出力\n",
        "print(classification_report(y_val_op, y_pred_op))\n"
      ],
      "metadata": {
        "id": "o4bdvDsKcXlW",
        "colab": {
          "base_uri": "https://localhost:8080/"
        },
        "outputId": "94a11d0b-42a6-4235-a12e-561677c8cf09"
      },
      "execution_count": 14,
      "outputs": [
        {
          "output_type": "stream",
          "name": "stderr",
          "text": [
            "\u001b[32m[I 2022-04-17 04:31:30,649]\u001b[0m A new study created in memory with name: no-name-344febe5-e1d9-4c7d-8f65-f63c99729fcc\u001b[0m\n",
            "\u001b[32m[I 2022-04-17 04:31:37,800]\u001b[0m Trial 0 finished with value: -0.4690476190476189 and parameters: {'criterion': 'entropy', 'bootstrap': 'False', 'max_depth': 182, 'max_features': 'sqrt', 'max_leaf_nodes': 192, 'n_estimators': 458, 'min_samples_split': 2, 'min_samples_leaf': 5}. Best is trial 0 with value: -0.4690476190476189.\u001b[0m\n",
            "\u001b[32m[I 2022-04-17 04:31:46,993]\u001b[0m Trial 1 finished with value: -0.2766666666666665 and parameters: {'criterion': 'gini', 'bootstrap': 'True', 'max_depth': 397, 'max_features': 'sqrt', 'max_leaf_nodes': 594, 'n_estimators': 754, 'min_samples_split': 5, 'min_samples_leaf': 4}. Best is trial 1 with value: -0.2766666666666665.\u001b[0m\n",
            "\u001b[32m[I 2022-04-17 04:31:53,970]\u001b[0m Trial 2 finished with value: -0.4138095238095237 and parameters: {'criterion': 'gini', 'bootstrap': 'True', 'max_depth': 423, 'max_features': 'sqrt', 'max_leaf_nodes': 519, 'n_estimators': 565, 'min_samples_split': 4, 'min_samples_leaf': 3}. Best is trial 1 with value: -0.2766666666666665.\u001b[0m\n",
            "\u001b[32m[I 2022-04-17 04:32:03,332]\u001b[0m Trial 3 finished with value: -0.3385714285714284 and parameters: {'criterion': 'gini', 'bootstrap': 'True', 'max_depth': 116, 'max_features': 'auto', 'max_leaf_nodes': 301, 'n_estimators': 781, 'min_samples_split': 5, 'min_samples_leaf': 6}. Best is trial 1 with value: -0.2766666666666665.\u001b[0m\n",
            "\u001b[32m[I 2022-04-17 04:32:11,500]\u001b[0m Trial 4 finished with value: -0.3385714285714284 and parameters: {'criterion': 'gini', 'bootstrap': 'True', 'max_depth': 216, 'max_features': 'log2', 'max_leaf_nodes': 92, 'n_estimators': 701, 'min_samples_split': 3, 'min_samples_leaf': 10}. Best is trial 1 with value: -0.2766666666666665.\u001b[0m\n",
            "\u001b[32m[I 2022-04-17 04:32:18,153]\u001b[0m Trial 5 finished with value: -0.4004761904761903 and parameters: {'criterion': 'entropy', 'bootstrap': 'True', 'max_depth': 159, 'max_features': 'log2', 'max_leaf_nodes': 862, 'n_estimators': 548, 'min_samples_split': 3, 'min_samples_leaf': 9}. Best is trial 1 with value: -0.2766666666666665.\u001b[0m\n",
            "\u001b[32m[I 2022-04-17 04:32:25,393]\u001b[0m Trial 6 finished with value: -0.47571428571428565 and parameters: {'criterion': 'gini', 'bootstrap': 'False', 'max_depth': 123, 'max_features': 'sqrt', 'max_leaf_nodes': 353, 'n_estimators': 618, 'min_samples_split': 2, 'min_samples_leaf': 6}. Best is trial 1 with value: -0.2766666666666665.\u001b[0m\n",
            "\u001b[32m[I 2022-04-17 04:32:29,656]\u001b[0m Trial 7 finished with value: -0.4138095238095237 and parameters: {'criterion': 'gini', 'bootstrap': 'True', 'max_depth': 752, 'max_features': 'auto', 'max_leaf_nodes': 853, 'n_estimators': 337, 'min_samples_split': 4, 'min_samples_leaf': 2}. Best is trial 1 with value: -0.2766666666666665.\u001b[0m\n",
            "\u001b[32m[I 2022-04-17 04:32:36,758]\u001b[0m Trial 8 finished with value: -0.4071428571428569 and parameters: {'criterion': 'gini', 'bootstrap': 'True', 'max_depth': 498, 'max_features': 'sqrt', 'max_leaf_nodes': 588, 'n_estimators': 597, 'min_samples_split': 5, 'min_samples_leaf': 7}. Best is trial 1 with value: -0.2766666666666665.\u001b[0m\n",
            "\u001b[32m[I 2022-04-17 04:32:37,376]\u001b[0m Trial 9 finished with value: -0.6578571428571427 and parameters: {'criterion': 'entropy', 'bootstrap': 'False', 'max_depth': 704, 'max_features': 'auto', 'max_leaf_nodes': 409, 'n_estimators': 2, 'min_samples_split': 3, 'min_samples_leaf': 5}. Best is trial 1 with value: -0.2766666666666665.\u001b[0m\n",
            "\u001b[32m[I 2022-04-17 04:32:48,953]\u001b[0m Trial 10 finished with value: -0.5376190476190474 and parameters: {'criterion': 'entropy', 'bootstrap': 'False', 'max_depth': 971, 'max_features': 'sqrt', 'max_leaf_nodes': 669, 'n_estimators': 991, 'min_samples_split': 5, 'min_samples_leaf': 1}. Best is trial 1 with value: -0.2766666666666665.\u001b[0m\n",
            "\u001b[32m[I 2022-04-17 04:32:59,256]\u001b[0m Trial 11 finished with value: -0.6061904761904761 and parameters: {'criterion': 'gini', 'bootstrap': 'True', 'max_depth': 356, 'max_features': 'auto', 'max_leaf_nodes': 318, 'n_estimators': 877, 'min_samples_split': 5, 'min_samples_leaf': 4}. Best is trial 1 with value: -0.2766666666666665.\u001b[0m\n",
            "\u001b[32m[I 2022-04-17 04:33:09,044]\u001b[0m Trial 12 finished with value: -0.34523809523809507 and parameters: {'criterion': 'gini', 'bootstrap': 'True', 'max_depth': 12, 'max_features': 'auto', 'max_leaf_nodes': 698, 'n_estimators': 803, 'min_samples_split': 4, 'min_samples_leaf': 7}. Best is trial 1 with value: -0.2766666666666665.\u001b[0m\n",
            "\u001b[32m[I 2022-04-17 04:33:18,577]\u001b[0m Trial 13 finished with value: -0.586190476190476 and parameters: {'criterion': 'gini', 'bootstrap': 'True', 'max_depth': 325, 'max_features': 'auto', 'max_leaf_nodes': 218, 'n_estimators': 792, 'min_samples_split': 5, 'min_samples_leaf': 8}. Best is trial 1 with value: -0.2766666666666665.\u001b[0m\n",
            "\u001b[32m[I 2022-04-17 04:33:29,839]\u001b[0m Trial 14 finished with value: -0.5309523809523807 and parameters: {'criterion': 'gini', 'bootstrap': 'True', 'max_depth': 673, 'max_features': 'log2', 'max_leaf_nodes': 28, 'n_estimators': 991, 'min_samples_split': 5, 'min_samples_leaf': 4}. Best is trial 1 with value: -0.2766666666666665.\u001b[0m\n",
            "\u001b[32m[I 2022-04-17 04:33:34,848]\u001b[0m Trial 15 finished with value: -0.5376190476190474 and parameters: {'criterion': 'gini', 'bootstrap': 'True', 'max_depth': 15, 'max_features': 'sqrt', 'max_leaf_nodes': 987, 'n_estimators': 367, 'min_samples_split': 4, 'min_samples_leaf': 3}. Best is trial 1 with value: -0.2766666666666665.\u001b[0m\n",
            "\u001b[32m[I 2022-04-17 04:33:43,662]\u001b[0m Trial 16 finished with value: -0.4071428571428569 and parameters: {'criterion': 'gini', 'bootstrap': 'True', 'max_depth': 586, 'max_features': 'auto', 'max_leaf_nodes': 429, 'n_estimators': 728, 'min_samples_split': 5, 'min_samples_leaf': 6}. Best is trial 1 with value: -0.2766666666666665.\u001b[0m\n",
            "\u001b[32m[I 2022-04-17 04:33:46,776]\u001b[0m Trial 17 finished with value: -0.4004761904761903 and parameters: {'criterion': 'gini', 'bootstrap': 'True', 'max_depth': 273, 'max_features': 'sqrt', 'max_leaf_nodes': 544, 'n_estimators': 212, 'min_samples_split': 4, 'min_samples_leaf': 4}. Best is trial 1 with value: -0.2766666666666665.\u001b[0m\n",
            "\u001b[32m[I 2022-04-17 04:33:56,784]\u001b[0m Trial 18 finished with value: -0.5242857142857142 and parameters: {'criterion': 'entropy', 'bootstrap': 'False', 'max_depth': 859, 'max_features': 'auto', 'max_leaf_nodes': 238, 'n_estimators': 855, 'min_samples_split': 5, 'min_samples_leaf': 7}. Best is trial 1 with value: -0.2766666666666665.\u001b[0m\n",
            "\u001b[32m[I 2022-04-17 04:34:04,927]\u001b[0m Trial 19 finished with value: -0.34523809523809507 and parameters: {'criterion': 'gini', 'bootstrap': 'True', 'max_depth': 451, 'max_features': 'log2', 'max_leaf_nodes': 687, 'n_estimators': 688, 'min_samples_split': 4, 'min_samples_leaf': 1}. Best is trial 1 with value: -0.2766666666666665.\u001b[0m\n",
            "\u001b[32m[I 2022-04-17 04:34:15,261]\u001b[0m Trial 20 finished with value: -0.3519047619047618 and parameters: {'criterion': 'gini', 'bootstrap': 'True', 'max_depth': 572, 'max_features': 'sqrt', 'max_leaf_nodes': 438, 'n_estimators': 906, 'min_samples_split': 5, 'min_samples_leaf': 3}. Best is trial 1 with value: -0.2766666666666665.\u001b[0m\n",
            "\u001b[32m[I 2022-04-17 04:34:23,636]\u001b[0m Trial 21 finished with value: -0.5242857142857142 and parameters: {'criterion': 'gini', 'bootstrap': 'True', 'max_depth': 127, 'max_features': 'log2', 'max_leaf_nodes': 20, 'n_estimators': 701, 'min_samples_split': 3, 'min_samples_leaf': 10}. Best is trial 1 with value: -0.2766666666666665.\u001b[0m\n",
            "\u001b[32m[I 2022-04-17 04:34:32,597]\u001b[0m Trial 22 finished with value: -0.4004761904761903 and parameters: {'criterion': 'gini', 'bootstrap': 'True', 'max_depth': 247, 'max_features': 'log2', 'max_leaf_nodes': 126, 'n_estimators': 753, 'min_samples_split': 3, 'min_samples_leaf': 10}. Best is trial 1 with value: -0.2766666666666665.\u001b[0m\n",
            "\u001b[32m[I 2022-04-17 04:34:38,424]\u001b[0m Trial 23 finished with value: -0.586190476190476 and parameters: {'criterion': 'gini', 'bootstrap': 'True', 'max_depth': 365, 'max_features': 'log2', 'max_leaf_nodes': 106, 'n_estimators': 460, 'min_samples_split': 2, 'min_samples_leaf': 9}. Best is trial 1 with value: -0.2766666666666665.\u001b[0m\n",
            "\u001b[32m[I 2022-04-17 04:34:46,247]\u001b[0m Trial 24 finished with value: -0.5376190476190474 and parameters: {'criterion': 'gini', 'bootstrap': 'True', 'max_depth': 247, 'max_features': 'log2', 'max_leaf_nodes': 291, 'n_estimators': 659, 'min_samples_split': 3, 'min_samples_leaf': 8}. Best is trial 1 with value: -0.2766666666666665.\u001b[0m\n",
            "\u001b[32m[I 2022-04-17 04:34:56,610]\u001b[0m Trial 25 finished with value: -0.4071428571428569 and parameters: {'criterion': 'gini', 'bootstrap': 'True', 'max_depth': 67, 'max_features': 'auto', 'max_leaf_nodes': 128, 'n_estimators': 905, 'min_samples_split': 4, 'min_samples_leaf': 6}. Best is trial 1 with value: -0.2766666666666665.\u001b[0m\n",
            "\u001b[32m[I 2022-04-17 04:35:06,111]\u001b[0m Trial 26 finished with value: -0.34523809523809507 and parameters: {'criterion': 'entropy', 'bootstrap': 'False', 'max_depth': 207, 'max_features': 'log2', 'max_leaf_nodes': 615, 'n_estimators': 791, 'min_samples_split': 3, 'min_samples_leaf': 5}. Best is trial 1 with value: -0.2766666666666665.\u001b[0m\n",
            "\u001b[32m[I 2022-04-17 04:35:13,338]\u001b[0m Trial 27 finished with value: -0.46238095238095217 and parameters: {'criterion': 'gini', 'bootstrap': 'True', 'max_depth': 307, 'max_features': 'sqrt', 'max_leaf_nodes': 765, 'n_estimators': 640, 'min_samples_split': 2, 'min_samples_leaf': 9}. Best is trial 1 with value: -0.2766666666666665.\u001b[0m\n",
            "\u001b[32m[I 2022-04-17 04:35:19,571]\u001b[0m Trial 28 finished with value: -0.5376190476190474 and parameters: {'criterion': 'gini', 'bootstrap': 'True', 'max_depth': 411, 'max_features': 'auto', 'max_leaf_nodes': 353, 'n_estimators': 517, 'min_samples_split': 4, 'min_samples_leaf': 2}. Best is trial 1 with value: -0.2766666666666665.\u001b[0m\n",
            "\u001b[32m[I 2022-04-17 04:35:29,371]\u001b[0m Trial 29 finished with value: -0.4690476190476189 and parameters: {'criterion': 'entropy', 'bootstrap': 'False', 'max_depth': 191, 'max_features': 'log2', 'max_leaf_nodes': 174, 'n_estimators': 835, 'min_samples_split': 2, 'min_samples_leaf': 8}. Best is trial 1 with value: -0.2766666666666665.\u001b[0m\n",
            "\u001b[32m[I 2022-04-17 04:35:34,617]\u001b[0m Trial 30 finished with value: -0.5995238095238093 and parameters: {'criterion': 'gini', 'bootstrap': 'True', 'max_depth': 108, 'max_features': 'sqrt', 'max_leaf_nodes': 82, 'n_estimators': 396, 'min_samples_split': 5, 'min_samples_leaf': 4}. Best is trial 1 with value: -0.2766666666666665.\u001b[0m\n",
            "\u001b[32m[I 2022-04-17 04:35:43,835]\u001b[0m Trial 31 finished with value: -0.47571428571428565 and parameters: {'criterion': 'entropy', 'bootstrap': 'False', 'max_depth': 237, 'max_features': 'log2', 'max_leaf_nodes': 608, 'n_estimators': 761, 'min_samples_split': 3, 'min_samples_leaf': 5}. Best is trial 1 with value: -0.2766666666666665.\u001b[0m\n",
            "\u001b[32m[I 2022-04-17 04:35:51,633]\u001b[0m Trial 32 finished with value: -0.5376190476190474 and parameters: {'criterion': 'gini', 'bootstrap': 'True', 'max_depth': 472, 'max_features': 'log2', 'max_leaf_nodes': 735, 'n_estimators': 664, 'min_samples_split': 4, 'min_samples_leaf': 1}. Best is trial 1 with value: -0.2766666666666665.\u001b[0m\n",
            "\u001b[32m[I 2022-04-17 04:36:01,296]\u001b[0m Trial 33 finished with value: -0.4690476190476189 and parameters: {'criterion': 'gini', 'bootstrap': 'True', 'max_depth': 15, 'max_features': 'auto', 'max_leaf_nodes': 486, 'n_estimators': 820, 'min_samples_split': 4, 'min_samples_leaf': 7}. Best is trial 1 with value: -0.2766666666666665.\u001b[0m\n",
            "\u001b[32m[I 2022-04-17 04:36:12,225]\u001b[0m Trial 34 finished with value: -0.34523809523809507 and parameters: {'criterion': 'gini', 'bootstrap': 'True', 'max_depth': 68, 'max_features': 'auto', 'max_leaf_nodes': 813, 'n_estimators': 951, 'min_samples_split': 5, 'min_samples_leaf': 7}. Best is trial 1 with value: -0.2766666666666665.\u001b[0m\n",
            "\u001b[32m[I 2022-04-17 04:36:23,029]\u001b[0m Trial 35 finished with value: -0.46238095238095217 and parameters: {'criterion': 'gini', 'bootstrap': 'True', 'max_depth': 80, 'max_features': 'auto', 'max_leaf_nodes': 847, 'n_estimators': 942, 'min_samples_split': 5, 'min_samples_leaf': 6}. Best is trial 1 with value: -0.2766666666666665.\u001b[0m\n",
            "\u001b[32m[I 2022-04-17 04:36:30,112]\u001b[0m Trial 36 finished with value: -0.6547619047619045 and parameters: {'criterion': 'gini', 'bootstrap': 'True', 'max_depth': 441, 'max_features': 'log2', 'max_leaf_nodes': 530, 'n_estimators': 587, 'min_samples_split': 4, 'min_samples_leaf': 2}. Best is trial 1 with value: -0.2766666666666665.\u001b[0m\n",
            "\u001b[32m[I 2022-04-17 04:36:36,724]\u001b[0m Trial 37 finished with value: -0.4690476190476188 and parameters: {'criterion': 'entropy', 'bootstrap': 'False', 'max_depth': 168, 'max_features': 'log2', 'max_leaf_nodes': 598, 'n_estimators': 533, 'min_samples_split': 3, 'min_samples_leaf': 5}. Best is trial 1 with value: -0.2766666666666665.\u001b[0m\n",
            "\u001b[32m[I 2022-04-17 04:36:45,602]\u001b[0m Trial 38 finished with value: -0.6614285714285713 and parameters: {'criterion': 'entropy', 'bootstrap': 'False', 'max_depth': 202, 'max_features': 'sqrt', 'max_leaf_nodes': 484, 'n_estimators': 722, 'min_samples_split': 3, 'min_samples_leaf': 3}. Best is trial 1 with value: -0.2766666666666665.\u001b[0m\n",
            "\u001b[32m[I 2022-04-17 04:36:53,521]\u001b[0m Trial 39 finished with value: -0.5309523809523807 and parameters: {'criterion': 'gini', 'bootstrap': 'True', 'max_depth': 403, 'max_features': 'log2', 'max_leaf_nodes': 666, 'n_estimators': 680, 'min_samples_split': 5, 'min_samples_leaf': 2}. Best is trial 1 with value: -0.2766666666666665.\u001b[0m\n",
            "\u001b[32m[I 2022-04-17 04:37:00,394]\u001b[0m Trial 40 finished with value: -0.5928571428571427 and parameters: {'criterion': 'gini', 'bootstrap': 'True', 'max_depth': 544, 'max_features': 'sqrt', 'max_leaf_nodes': 286, 'n_estimators': 570, 'min_samples_split': 4, 'min_samples_leaf': 1}. Best is trial 1 with value: -0.2766666666666665.\u001b[0m\n",
            "\u001b[32m[I 2022-04-17 04:37:11,349]\u001b[0m Trial 41 finished with value: -0.47571428571428565 and parameters: {'criterion': 'entropy', 'bootstrap': 'False', 'max_depth': 150, 'max_features': 'auto', 'max_leaf_nodes': 937, 'n_estimators': 928, 'min_samples_split': 3, 'min_samples_leaf': 5}. Best is trial 1 with value: -0.2766666666666665.\u001b[0m\n",
            "\u001b[32m[I 2022-04-17 04:37:20,731]\u001b[0m Trial 42 finished with value: -0.5376190476190474 and parameters: {'criterion': 'entropy', 'bootstrap': 'False', 'max_depth': 78, 'max_features': 'auto', 'max_leaf_nodes': 790, 'n_estimators': 784, 'min_samples_split': 5, 'min_samples_leaf': 6}. Best is trial 1 with value: -0.2766666666666665.\u001b[0m\n",
            "\u001b[32m[I 2022-04-17 04:37:28,079]\u001b[0m Trial 43 finished with value: -0.46238095238095217 and parameters: {'criterion': 'gini', 'bootstrap': 'True', 'max_depth': 312, 'max_features': 'auto', 'max_leaf_nodes': 732, 'n_estimators': 630, 'min_samples_split': 4, 'min_samples_leaf': 9}. Best is trial 1 with value: -0.2766666666666665.\u001b[0m\n",
            "\u001b[32m[I 2022-04-17 04:37:38,113]\u001b[0m Trial 44 finished with value: -0.4004761904761903 and parameters: {'criterion': 'gini', 'bootstrap': 'True', 'max_depth': 367, 'max_features': 'auto', 'max_leaf_nodes': 831, 'n_estimators': 868, 'min_samples_split': 5, 'min_samples_leaf': 8}. Best is trial 1 with value: -0.2766666666666665.\u001b[0m\n",
            "\u001b[32m[I 2022-04-17 04:37:49,675]\u001b[0m Trial 45 finished with value: -0.4071428571428569 and parameters: {'criterion': 'entropy', 'bootstrap': 'False', 'max_depth': 206, 'max_features': 'log2', 'max_leaf_nodes': 373, 'n_estimators': 989, 'min_samples_split': 3, 'min_samples_leaf': 5}. Best is trial 1 with value: -0.2766666666666665.\u001b[0m\n",
            "\u001b[32m[I 2022-04-17 04:37:53,110]\u001b[0m Trial 46 finished with value: -0.5442857142857142 and parameters: {'criterion': 'entropy', 'bootstrap': 'False', 'max_depth': 55, 'max_features': 'sqrt', 'max_leaf_nodes': 913, 'n_estimators': 262, 'min_samples_split': 5, 'min_samples_leaf': 4}. Best is trial 1 with value: -0.2766666666666665.\u001b[0m\n",
            "\u001b[32m[I 2022-04-17 04:37:53,993]\u001b[0m Trial 47 finished with value: -0.40404761904761893 and parameters: {'criterion': 'entropy', 'bootstrap': 'False', 'max_depth': 513, 'max_features': 'log2', 'max_leaf_nodes': 619, 'n_estimators': 20, 'min_samples_split': 3, 'min_samples_leaf': 3}. Best is trial 1 with value: -0.2766666666666665.\u001b[0m\n",
            "\u001b[32m[I 2022-04-17 04:38:02,815]\u001b[0m Trial 48 finished with value: -0.34523809523809507 and parameters: {'criterion': 'gini', 'bootstrap': 'True', 'max_depth': 641, 'max_features': 'auto', 'max_leaf_nodes': 677, 'n_estimators': 739, 'min_samples_split': 4, 'min_samples_leaf': 7}. Best is trial 1 with value: -0.2766666666666665.\u001b[0m\n",
            "\u001b[32m[I 2022-04-17 04:38:11,895]\u001b[0m Trial 49 finished with value: -0.34523809523809507 and parameters: {'criterion': 'gini', 'bootstrap': 'True', 'max_depth': 649, 'max_features': 'sqrt', 'max_leaf_nodes': 553, 'n_estimators': 752, 'min_samples_split': 2, 'min_samples_leaf': 4}. Best is trial 1 with value: -0.2766666666666665.\u001b[0m\n"
          ]
        },
        {
          "output_type": "stream",
          "name": "stdout",
          "text": [
            "Accuracy: -0.2766666666666665\n",
            "TrainAccuracy: 0.953125\n",
            "Accuracy: 0.8571428571428571\n",
            "              precision    recall  f1-score   support\n",
            "\n",
            "         0.0       0.88      0.88      0.88        16\n",
            "         1.0       0.83      0.83      0.83        12\n",
            "\n",
            "    accuracy                           0.86        28\n",
            "   macro avg       0.85      0.85      0.85        28\n",
            "weighted avg       0.86      0.86      0.86        28\n",
            "\n"
          ]
        }
      ]
    },
    {
      "cell_type": "markdown",
      "source": [
        "最適化の履歴をplot_optimization_history()メソッドを使い確認してみましょう。\n",
        "縦軸が目的変数、横軸が最適化のトライアル数になってます。オレンジの折れ線が最良の目的変数の値となっており、何回目のトライアルでベストパラメータが出たのかわかりやすくなってます。"
      ],
      "metadata": {
        "id": "Nz5P7pvYc8Oa"
      }
    },
    {
      "cell_type": "code",
      "source": [
        "optuna.visualization.plot_optimization_history(study)"
      ],
      "metadata": {
        "id": "WZbFkzSodF-A",
        "colab": {
          "base_uri": "https://localhost:8080/",
          "height": 542
        },
        "outputId": "66fa37a1-81b4-4034-8491-552a664f751f"
      },
      "execution_count": 15,
      "outputs": [
        {
          "output_type": "display_data",
          "data": {
            "text/html": [
              "<html>\n",
              "<head><meta charset=\"utf-8\" /></head>\n",
              "<body>\n",
              "    <div>            <script src=\"https://cdnjs.cloudflare.com/ajax/libs/mathjax/2.7.5/MathJax.js?config=TeX-AMS-MML_SVG\"></script><script type=\"text/javascript\">if (window.MathJax) {MathJax.Hub.Config({SVG: {font: \"STIX-Web\"}});}</script>                <script type=\"text/javascript\">window.PlotlyConfig = {MathJaxConfig: 'local'};</script>\n",
              "        <script src=\"https://cdn.plot.ly/plotly-2.8.3.min.js\"></script>                <div id=\"347c9fca-68ff-4437-8d2f-eba5d3746e78\" class=\"plotly-graph-div\" style=\"height:525px; width:100%;\"></div>            <script type=\"text/javascript\">                                    window.PLOTLYENV=window.PLOTLYENV || {};                                    if (document.getElementById(\"347c9fca-68ff-4437-8d2f-eba5d3746e78\")) {                    Plotly.newPlot(                        \"347c9fca-68ff-4437-8d2f-eba5d3746e78\",                        [{\"mode\":\"markers\",\"name\":\"Objective Value\",\"x\":[0,1,2,3,4,5,6,7,8,9,10,11,12,13,14,15,16,17,18,19,20,21,22,23,24,25,26,27,28,29,30,31,32,33,34,35,36,37,38,39,40,41,42,43,44,45,46,47,48,49],\"y\":[-0.4690476190476189,-0.2766666666666665,-0.4138095238095237,-0.3385714285714284,-0.3385714285714284,-0.4004761904761903,-0.47571428571428565,-0.4138095238095237,-0.4071428571428569,-0.6578571428571427,-0.5376190476190474,-0.6061904761904761,-0.34523809523809507,-0.586190476190476,-0.5309523809523807,-0.5376190476190474,-0.4071428571428569,-0.4004761904761903,-0.5242857142857142,-0.34523809523809507,-0.3519047619047618,-0.5242857142857142,-0.4004761904761903,-0.586190476190476,-0.5376190476190474,-0.4071428571428569,-0.34523809523809507,-0.46238095238095217,-0.5376190476190474,-0.4690476190476189,-0.5995238095238093,-0.47571428571428565,-0.5376190476190474,-0.4690476190476189,-0.34523809523809507,-0.46238095238095217,-0.6547619047619045,-0.4690476190476188,-0.6614285714285713,-0.5309523809523807,-0.5928571428571427,-0.47571428571428565,-0.5376190476190474,-0.46238095238095217,-0.4004761904761903,-0.4071428571428569,-0.5442857142857142,-0.40404761904761893,-0.34523809523809507,-0.34523809523809507],\"type\":\"scatter\"},{\"name\":\"Best Value\",\"x\":[0,1,2,3,4,5,6,7,8,9,10,11,12,13,14,15,16,17,18,19,20,21,22,23,24,25,26,27,28,29,30,31,32,33,34,35,36,37,38,39,40,41,42,43,44,45,46,47,48,49],\"y\":[-0.4690476190476189,-0.2766666666666665,-0.2766666666666665,-0.2766666666666665,-0.2766666666666665,-0.2766666666666665,-0.2766666666666665,-0.2766666666666665,-0.2766666666666665,-0.2766666666666665,-0.2766666666666665,-0.2766666666666665,-0.2766666666666665,-0.2766666666666665,-0.2766666666666665,-0.2766666666666665,-0.2766666666666665,-0.2766666666666665,-0.2766666666666665,-0.2766666666666665,-0.2766666666666665,-0.2766666666666665,-0.2766666666666665,-0.2766666666666665,-0.2766666666666665,-0.2766666666666665,-0.2766666666666665,-0.2766666666666665,-0.2766666666666665,-0.2766666666666665,-0.2766666666666665,-0.2766666666666665,-0.2766666666666665,-0.2766666666666665,-0.2766666666666665,-0.2766666666666665,-0.2766666666666665,-0.2766666666666665,-0.2766666666666665,-0.2766666666666665,-0.2766666666666665,-0.2766666666666665,-0.2766666666666665,-0.2766666666666665,-0.2766666666666665,-0.2766666666666665,-0.2766666666666665,-0.2766666666666665,-0.2766666666666665,-0.2766666666666665],\"type\":\"scatter\"}],                        {\"title\":{\"text\":\"Optimization History Plot\"},\"xaxis\":{\"title\":{\"text\":\"#Trials\"}},\"yaxis\":{\"title\":{\"text\":\"Objective Value\"}},\"template\":{\"data\":{\"bar\":[{\"error_x\":{\"color\":\"#2a3f5f\"},\"error_y\":{\"color\":\"#2a3f5f\"},\"marker\":{\"line\":{\"color\":\"#E5ECF6\",\"width\":0.5},\"pattern\":{\"fillmode\":\"overlay\",\"size\":10,\"solidity\":0.2}},\"type\":\"bar\"}],\"barpolar\":[{\"marker\":{\"line\":{\"color\":\"#E5ECF6\",\"width\":0.5},\"pattern\":{\"fillmode\":\"overlay\",\"size\":10,\"solidity\":0.2}},\"type\":\"barpolar\"}],\"carpet\":[{\"aaxis\":{\"endlinecolor\":\"#2a3f5f\",\"gridcolor\":\"white\",\"linecolor\":\"white\",\"minorgridcolor\":\"white\",\"startlinecolor\":\"#2a3f5f\"},\"baxis\":{\"endlinecolor\":\"#2a3f5f\",\"gridcolor\":\"white\",\"linecolor\":\"white\",\"minorgridcolor\":\"white\",\"startlinecolor\":\"#2a3f5f\"},\"type\":\"carpet\"}],\"choropleth\":[{\"colorbar\":{\"outlinewidth\":0,\"ticks\":\"\"},\"type\":\"choropleth\"}],\"contour\":[{\"colorbar\":{\"outlinewidth\":0,\"ticks\":\"\"},\"colorscale\":[[0.0,\"#0d0887\"],[0.1111111111111111,\"#46039f\"],[0.2222222222222222,\"#7201a8\"],[0.3333333333333333,\"#9c179e\"],[0.4444444444444444,\"#bd3786\"],[0.5555555555555556,\"#d8576b\"],[0.6666666666666666,\"#ed7953\"],[0.7777777777777778,\"#fb9f3a\"],[0.8888888888888888,\"#fdca26\"],[1.0,\"#f0f921\"]],\"type\":\"contour\"}],\"contourcarpet\":[{\"colorbar\":{\"outlinewidth\":0,\"ticks\":\"\"},\"type\":\"contourcarpet\"}],\"heatmap\":[{\"colorbar\":{\"outlinewidth\":0,\"ticks\":\"\"},\"colorscale\":[[0.0,\"#0d0887\"],[0.1111111111111111,\"#46039f\"],[0.2222222222222222,\"#7201a8\"],[0.3333333333333333,\"#9c179e\"],[0.4444444444444444,\"#bd3786\"],[0.5555555555555556,\"#d8576b\"],[0.6666666666666666,\"#ed7953\"],[0.7777777777777778,\"#fb9f3a\"],[0.8888888888888888,\"#fdca26\"],[1.0,\"#f0f921\"]],\"type\":\"heatmap\"}],\"heatmapgl\":[{\"colorbar\":{\"outlinewidth\":0,\"ticks\":\"\"},\"colorscale\":[[0.0,\"#0d0887\"],[0.1111111111111111,\"#46039f\"],[0.2222222222222222,\"#7201a8\"],[0.3333333333333333,\"#9c179e\"],[0.4444444444444444,\"#bd3786\"],[0.5555555555555556,\"#d8576b\"],[0.6666666666666666,\"#ed7953\"],[0.7777777777777778,\"#fb9f3a\"],[0.8888888888888888,\"#fdca26\"],[1.0,\"#f0f921\"]],\"type\":\"heatmapgl\"}],\"histogram\":[{\"marker\":{\"pattern\":{\"fillmode\":\"overlay\",\"size\":10,\"solidity\":0.2}},\"type\":\"histogram\"}],\"histogram2d\":[{\"colorbar\":{\"outlinewidth\":0,\"ticks\":\"\"},\"colorscale\":[[0.0,\"#0d0887\"],[0.1111111111111111,\"#46039f\"],[0.2222222222222222,\"#7201a8\"],[0.3333333333333333,\"#9c179e\"],[0.4444444444444444,\"#bd3786\"],[0.5555555555555556,\"#d8576b\"],[0.6666666666666666,\"#ed7953\"],[0.7777777777777778,\"#fb9f3a\"],[0.8888888888888888,\"#fdca26\"],[1.0,\"#f0f921\"]],\"type\":\"histogram2d\"}],\"histogram2dcontour\":[{\"colorbar\":{\"outlinewidth\":0,\"ticks\":\"\"},\"colorscale\":[[0.0,\"#0d0887\"],[0.1111111111111111,\"#46039f\"],[0.2222222222222222,\"#7201a8\"],[0.3333333333333333,\"#9c179e\"],[0.4444444444444444,\"#bd3786\"],[0.5555555555555556,\"#d8576b\"],[0.6666666666666666,\"#ed7953\"],[0.7777777777777778,\"#fb9f3a\"],[0.8888888888888888,\"#fdca26\"],[1.0,\"#f0f921\"]],\"type\":\"histogram2dcontour\"}],\"mesh3d\":[{\"colorbar\":{\"outlinewidth\":0,\"ticks\":\"\"},\"type\":\"mesh3d\"}],\"parcoords\":[{\"line\":{\"colorbar\":{\"outlinewidth\":0,\"ticks\":\"\"}},\"type\":\"parcoords\"}],\"pie\":[{\"automargin\":true,\"type\":\"pie\"}],\"scatter\":[{\"marker\":{\"colorbar\":{\"outlinewidth\":0,\"ticks\":\"\"}},\"type\":\"scatter\"}],\"scatter3d\":[{\"line\":{\"colorbar\":{\"outlinewidth\":0,\"ticks\":\"\"}},\"marker\":{\"colorbar\":{\"outlinewidth\":0,\"ticks\":\"\"}},\"type\":\"scatter3d\"}],\"scattercarpet\":[{\"marker\":{\"colorbar\":{\"outlinewidth\":0,\"ticks\":\"\"}},\"type\":\"scattercarpet\"}],\"scattergeo\":[{\"marker\":{\"colorbar\":{\"outlinewidth\":0,\"ticks\":\"\"}},\"type\":\"scattergeo\"}],\"scattergl\":[{\"marker\":{\"colorbar\":{\"outlinewidth\":0,\"ticks\":\"\"}},\"type\":\"scattergl\"}],\"scattermapbox\":[{\"marker\":{\"colorbar\":{\"outlinewidth\":0,\"ticks\":\"\"}},\"type\":\"scattermapbox\"}],\"scatterpolar\":[{\"marker\":{\"colorbar\":{\"outlinewidth\":0,\"ticks\":\"\"}},\"type\":\"scatterpolar\"}],\"scatterpolargl\":[{\"marker\":{\"colorbar\":{\"outlinewidth\":0,\"ticks\":\"\"}},\"type\":\"scatterpolargl\"}],\"scatterternary\":[{\"marker\":{\"colorbar\":{\"outlinewidth\":0,\"ticks\":\"\"}},\"type\":\"scatterternary\"}],\"surface\":[{\"colorbar\":{\"outlinewidth\":0,\"ticks\":\"\"},\"colorscale\":[[0.0,\"#0d0887\"],[0.1111111111111111,\"#46039f\"],[0.2222222222222222,\"#7201a8\"],[0.3333333333333333,\"#9c179e\"],[0.4444444444444444,\"#bd3786\"],[0.5555555555555556,\"#d8576b\"],[0.6666666666666666,\"#ed7953\"],[0.7777777777777778,\"#fb9f3a\"],[0.8888888888888888,\"#fdca26\"],[1.0,\"#f0f921\"]],\"type\":\"surface\"}],\"table\":[{\"cells\":{\"fill\":{\"color\":\"#EBF0F8\"},\"line\":{\"color\":\"white\"}},\"header\":{\"fill\":{\"color\":\"#C8D4E3\"},\"line\":{\"color\":\"white\"}},\"type\":\"table\"}]},\"layout\":{\"annotationdefaults\":{\"arrowcolor\":\"#2a3f5f\",\"arrowhead\":0,\"arrowwidth\":1},\"autotypenumbers\":\"strict\",\"coloraxis\":{\"colorbar\":{\"outlinewidth\":0,\"ticks\":\"\"}},\"colorscale\":{\"diverging\":[[0,\"#8e0152\"],[0.1,\"#c51b7d\"],[0.2,\"#de77ae\"],[0.3,\"#f1b6da\"],[0.4,\"#fde0ef\"],[0.5,\"#f7f7f7\"],[0.6,\"#e6f5d0\"],[0.7,\"#b8e186\"],[0.8,\"#7fbc41\"],[0.9,\"#4d9221\"],[1,\"#276419\"]],\"sequential\":[[0.0,\"#0d0887\"],[0.1111111111111111,\"#46039f\"],[0.2222222222222222,\"#7201a8\"],[0.3333333333333333,\"#9c179e\"],[0.4444444444444444,\"#bd3786\"],[0.5555555555555556,\"#d8576b\"],[0.6666666666666666,\"#ed7953\"],[0.7777777777777778,\"#fb9f3a\"],[0.8888888888888888,\"#fdca26\"],[1.0,\"#f0f921\"]],\"sequentialminus\":[[0.0,\"#0d0887\"],[0.1111111111111111,\"#46039f\"],[0.2222222222222222,\"#7201a8\"],[0.3333333333333333,\"#9c179e\"],[0.4444444444444444,\"#bd3786\"],[0.5555555555555556,\"#d8576b\"],[0.6666666666666666,\"#ed7953\"],[0.7777777777777778,\"#fb9f3a\"],[0.8888888888888888,\"#fdca26\"],[1.0,\"#f0f921\"]]},\"colorway\":[\"#636efa\",\"#EF553B\",\"#00cc96\",\"#ab63fa\",\"#FFA15A\",\"#19d3f3\",\"#FF6692\",\"#B6E880\",\"#FF97FF\",\"#FECB52\"],\"font\":{\"color\":\"#2a3f5f\"},\"geo\":{\"bgcolor\":\"white\",\"lakecolor\":\"white\",\"landcolor\":\"#E5ECF6\",\"showlakes\":true,\"showland\":true,\"subunitcolor\":\"white\"},\"hoverlabel\":{\"align\":\"left\"},\"hovermode\":\"closest\",\"mapbox\":{\"style\":\"light\"},\"paper_bgcolor\":\"white\",\"plot_bgcolor\":\"#E5ECF6\",\"polar\":{\"angularaxis\":{\"gridcolor\":\"white\",\"linecolor\":\"white\",\"ticks\":\"\"},\"bgcolor\":\"#E5ECF6\",\"radialaxis\":{\"gridcolor\":\"white\",\"linecolor\":\"white\",\"ticks\":\"\"}},\"scene\":{\"xaxis\":{\"backgroundcolor\":\"#E5ECF6\",\"gridcolor\":\"white\",\"gridwidth\":2,\"linecolor\":\"white\",\"showbackground\":true,\"ticks\":\"\",\"zerolinecolor\":\"white\"},\"yaxis\":{\"backgroundcolor\":\"#E5ECF6\",\"gridcolor\":\"white\",\"gridwidth\":2,\"linecolor\":\"white\",\"showbackground\":true,\"ticks\":\"\",\"zerolinecolor\":\"white\"},\"zaxis\":{\"backgroundcolor\":\"#E5ECF6\",\"gridcolor\":\"white\",\"gridwidth\":2,\"linecolor\":\"white\",\"showbackground\":true,\"ticks\":\"\",\"zerolinecolor\":\"white\"}},\"shapedefaults\":{\"line\":{\"color\":\"#2a3f5f\"}},\"ternary\":{\"aaxis\":{\"gridcolor\":\"white\",\"linecolor\":\"white\",\"ticks\":\"\"},\"baxis\":{\"gridcolor\":\"white\",\"linecolor\":\"white\",\"ticks\":\"\"},\"bgcolor\":\"#E5ECF6\",\"caxis\":{\"gridcolor\":\"white\",\"linecolor\":\"white\",\"ticks\":\"\"}},\"title\":{\"x\":0.05},\"xaxis\":{\"automargin\":true,\"gridcolor\":\"white\",\"linecolor\":\"white\",\"ticks\":\"\",\"title\":{\"standoff\":15},\"zerolinecolor\":\"white\",\"zerolinewidth\":2},\"yaxis\":{\"automargin\":true,\"gridcolor\":\"white\",\"linecolor\":\"white\",\"ticks\":\"\",\"title\":{\"standoff\":15},\"zerolinecolor\":\"white\",\"zerolinewidth\":2}}}},                        {\"responsive\": true}                    ).then(function(){\n",
              "                            \n",
              "var gd = document.getElementById('347c9fca-68ff-4437-8d2f-eba5d3746e78');\n",
              "var x = new MutationObserver(function (mutations, observer) {{\n",
              "        var display = window.getComputedStyle(gd).display;\n",
              "        if (!display || display === 'none') {{\n",
              "            console.log([gd, 'removed!']);\n",
              "            Plotly.purge(gd);\n",
              "            observer.disconnect();\n",
              "        }}\n",
              "}});\n",
              "\n",
              "// Listen for the removal of the full notebook cells\n",
              "var notebookContainer = gd.closest('#notebook-container');\n",
              "if (notebookContainer) {{\n",
              "    x.observe(notebookContainer, {childList: true});\n",
              "}}\n",
              "\n",
              "// Listen for the clearing of the current output cell\n",
              "var outputEl = gd.closest('.output');\n",
              "if (outputEl) {{\n",
              "    x.observe(outputEl, {childList: true});\n",
              "}}\n",
              "\n",
              "                        })                };                            </script>        </div>\n",
              "</body>\n",
              "</html>"
            ]
          },
          "metadata": {}
        }
      ]
    },
    {
      "cell_type": "markdown",
      "source": [
        "グラフをみてみると61回目のトライアルでベストパラメーターが出たのがわかりやくなっています。"
      ],
      "metadata": {
        "id": "RzcLsFL8HEg_"
      }
    },
    {
      "cell_type": "code",
      "source": [
        "optuna.visualization.plot_slice(study)"
      ],
      "metadata": {
        "colab": {
          "base_uri": "https://localhost:8080/",
          "height": 562
        },
        "id": "W-kunFyEsHIH",
        "outputId": "2de23e41-c44b-4b67-fc87-303c8ab15df0"
      },
      "execution_count": 16,
      "outputs": [
        {
          "output_type": "display_data",
          "data": {
            "text/html": [
              "<html>\n",
              "<head><meta charset=\"utf-8\" /></head>\n",
              "<body>\n",
              "    <div>            <script src=\"https://cdnjs.cloudflare.com/ajax/libs/mathjax/2.7.5/MathJax.js?config=TeX-AMS-MML_SVG\"></script><script type=\"text/javascript\">if (window.MathJax) {MathJax.Hub.Config({SVG: {font: \"STIX-Web\"}});}</script>                <script type=\"text/javascript\">window.PlotlyConfig = {MathJaxConfig: 'local'};</script>\n",
              "        <script src=\"https://cdn.plot.ly/plotly-2.8.3.min.js\"></script>                <div id=\"6edc4fae-ffb5-4db4-86ed-49f8484e49b0\" class=\"plotly-graph-div\" style=\"height:525px; width:2400px;\"></div>            <script type=\"text/javascript\">                                    window.PLOTLYENV=window.PLOTLYENV || {};                                    if (document.getElementById(\"6edc4fae-ffb5-4db4-86ed-49f8484e49b0\")) {                    Plotly.newPlot(                        \"6edc4fae-ffb5-4db4-86ed-49f8484e49b0\",                        [{\"marker\":{\"color\":[0,1,2,3,4,5,6,7,8,9,10,11,12,13,14,15,16,17,18,19,20,21,22,23,24,25,26,27,28,29,30,31,32,33,34,35,36,37,38,39,40,41,42,43,44,45,46,47,48,49],\"colorbar\":{\"title\":{\"text\":\"#Trials\"},\"x\":1.0,\"xpad\":40},\"colorscale\":[[0.0,\"rgb(247,251,255)\"],[0.125,\"rgb(222,235,247)\"],[0.25,\"rgb(198,219,239)\"],[0.375,\"rgb(158,202,225)\"],[0.5,\"rgb(107,174,214)\"],[0.625,\"rgb(66,146,198)\"],[0.75,\"rgb(33,113,181)\"],[0.875,\"rgb(8,81,156)\"],[1.0,\"rgb(8,48,107)\"]],\"line\":{\"color\":\"Grey\",\"width\":0.5},\"showscale\":true},\"mode\":\"markers\",\"showlegend\":false,\"x\":[\"False\",\"True\",\"True\",\"True\",\"True\",\"True\",\"False\",\"True\",\"True\",\"False\",\"False\",\"True\",\"True\",\"True\",\"True\",\"True\",\"True\",\"True\",\"False\",\"True\",\"True\",\"True\",\"True\",\"True\",\"True\",\"True\",\"False\",\"True\",\"True\",\"False\",\"True\",\"False\",\"True\",\"True\",\"True\",\"True\",\"True\",\"False\",\"False\",\"True\",\"True\",\"False\",\"False\",\"True\",\"True\",\"False\",\"False\",\"False\",\"True\",\"True\"],\"y\":[-0.4690476190476189,-0.2766666666666665,-0.4138095238095237,-0.3385714285714284,-0.3385714285714284,-0.4004761904761903,-0.47571428571428565,-0.4138095238095237,-0.4071428571428569,-0.6578571428571427,-0.5376190476190474,-0.6061904761904761,-0.34523809523809507,-0.586190476190476,-0.5309523809523807,-0.5376190476190474,-0.4071428571428569,-0.4004761904761903,-0.5242857142857142,-0.34523809523809507,-0.3519047619047618,-0.5242857142857142,-0.4004761904761903,-0.586190476190476,-0.5376190476190474,-0.4071428571428569,-0.34523809523809507,-0.46238095238095217,-0.5376190476190474,-0.4690476190476189,-0.5995238095238093,-0.47571428571428565,-0.5376190476190474,-0.4690476190476189,-0.34523809523809507,-0.46238095238095217,-0.6547619047619045,-0.4690476190476188,-0.6614285714285713,-0.5309523809523807,-0.5928571428571427,-0.47571428571428565,-0.5376190476190474,-0.46238095238095217,-0.4004761904761903,-0.4071428571428569,-0.5442857142857142,-0.40404761904761893,-0.34523809523809507,-0.34523809523809507],\"type\":\"scatter\",\"xaxis\":\"x\",\"yaxis\":\"y\"},{\"marker\":{\"color\":[0,1,2,3,4,5,6,7,8,9,10,11,12,13,14,15,16,17,18,19,20,21,22,23,24,25,26,27,28,29,30,31,32,33,34,35,36,37,38,39,40,41,42,43,44,45,46,47,48,49],\"colorbar\":{\"title\":{\"text\":\"#Trials\"},\"x\":1.0,\"xpad\":40},\"colorscale\":[[0.0,\"rgb(247,251,255)\"],[0.125,\"rgb(222,235,247)\"],[0.25,\"rgb(198,219,239)\"],[0.375,\"rgb(158,202,225)\"],[0.5,\"rgb(107,174,214)\"],[0.625,\"rgb(66,146,198)\"],[0.75,\"rgb(33,113,181)\"],[0.875,\"rgb(8,81,156)\"],[1.0,\"rgb(8,48,107)\"]],\"line\":{\"color\":\"Grey\",\"width\":0.5},\"showscale\":false},\"mode\":\"markers\",\"showlegend\":false,\"x\":[\"entropy\",\"gini\",\"gini\",\"gini\",\"gini\",\"entropy\",\"gini\",\"gini\",\"gini\",\"entropy\",\"entropy\",\"gini\",\"gini\",\"gini\",\"gini\",\"gini\",\"gini\",\"gini\",\"entropy\",\"gini\",\"gini\",\"gini\",\"gini\",\"gini\",\"gini\",\"gini\",\"entropy\",\"gini\",\"gini\",\"entropy\",\"gini\",\"entropy\",\"gini\",\"gini\",\"gini\",\"gini\",\"gini\",\"entropy\",\"entropy\",\"gini\",\"gini\",\"entropy\",\"entropy\",\"gini\",\"gini\",\"entropy\",\"entropy\",\"entropy\",\"gini\",\"gini\"],\"y\":[-0.4690476190476189,-0.2766666666666665,-0.4138095238095237,-0.3385714285714284,-0.3385714285714284,-0.4004761904761903,-0.47571428571428565,-0.4138095238095237,-0.4071428571428569,-0.6578571428571427,-0.5376190476190474,-0.6061904761904761,-0.34523809523809507,-0.586190476190476,-0.5309523809523807,-0.5376190476190474,-0.4071428571428569,-0.4004761904761903,-0.5242857142857142,-0.34523809523809507,-0.3519047619047618,-0.5242857142857142,-0.4004761904761903,-0.586190476190476,-0.5376190476190474,-0.4071428571428569,-0.34523809523809507,-0.46238095238095217,-0.5376190476190474,-0.4690476190476189,-0.5995238095238093,-0.47571428571428565,-0.5376190476190474,-0.4690476190476189,-0.34523809523809507,-0.46238095238095217,-0.6547619047619045,-0.4690476190476188,-0.6614285714285713,-0.5309523809523807,-0.5928571428571427,-0.47571428571428565,-0.5376190476190474,-0.46238095238095217,-0.4004761904761903,-0.4071428571428569,-0.5442857142857142,-0.40404761904761893,-0.34523809523809507,-0.34523809523809507],\"type\":\"scatter\",\"xaxis\":\"x2\",\"yaxis\":\"y2\"},{\"marker\":{\"color\":[0,1,2,3,4,5,6,7,8,9,10,11,12,13,14,15,16,17,18,19,20,21,22,23,24,25,26,27,28,29,30,31,32,33,34,35,36,37,38,39,40,41,42,43,44,45,46,47,48,49],\"colorbar\":{\"title\":{\"text\":\"#Trials\"},\"x\":1.0,\"xpad\":40},\"colorscale\":[[0.0,\"rgb(247,251,255)\"],[0.125,\"rgb(222,235,247)\"],[0.25,\"rgb(198,219,239)\"],[0.375,\"rgb(158,202,225)\"],[0.5,\"rgb(107,174,214)\"],[0.625,\"rgb(66,146,198)\"],[0.75,\"rgb(33,113,181)\"],[0.875,\"rgb(8,81,156)\"],[1.0,\"rgb(8,48,107)\"]],\"line\":{\"color\":\"Grey\",\"width\":0.5},\"showscale\":false},\"mode\":\"markers\",\"showlegend\":false,\"x\":[182,397,423,116,216,159,123,752,498,704,971,356,12,325,673,15,586,273,859,451,572,127,247,365,247,67,207,307,411,191,108,237,472,15,68,80,441,168,202,403,544,150,78,312,367,206,55,513,641,649],\"y\":[-0.4690476190476189,-0.2766666666666665,-0.4138095238095237,-0.3385714285714284,-0.3385714285714284,-0.4004761904761903,-0.47571428571428565,-0.4138095238095237,-0.4071428571428569,-0.6578571428571427,-0.5376190476190474,-0.6061904761904761,-0.34523809523809507,-0.586190476190476,-0.5309523809523807,-0.5376190476190474,-0.4071428571428569,-0.4004761904761903,-0.5242857142857142,-0.34523809523809507,-0.3519047619047618,-0.5242857142857142,-0.4004761904761903,-0.586190476190476,-0.5376190476190474,-0.4071428571428569,-0.34523809523809507,-0.46238095238095217,-0.5376190476190474,-0.4690476190476189,-0.5995238095238093,-0.47571428571428565,-0.5376190476190474,-0.4690476190476189,-0.34523809523809507,-0.46238095238095217,-0.6547619047619045,-0.4690476190476188,-0.6614285714285713,-0.5309523809523807,-0.5928571428571427,-0.47571428571428565,-0.5376190476190474,-0.46238095238095217,-0.4004761904761903,-0.4071428571428569,-0.5442857142857142,-0.40404761904761893,-0.34523809523809507,-0.34523809523809507],\"type\":\"scatter\",\"xaxis\":\"x3\",\"yaxis\":\"y3\"},{\"marker\":{\"color\":[0,1,2,3,4,5,6,7,8,9,10,11,12,13,14,15,16,17,18,19,20,21,22,23,24,25,26,27,28,29,30,31,32,33,34,35,36,37,38,39,40,41,42,43,44,45,46,47,48,49],\"colorbar\":{\"title\":{\"text\":\"#Trials\"},\"x\":1.0,\"xpad\":40},\"colorscale\":[[0.0,\"rgb(247,251,255)\"],[0.125,\"rgb(222,235,247)\"],[0.25,\"rgb(198,219,239)\"],[0.375,\"rgb(158,202,225)\"],[0.5,\"rgb(107,174,214)\"],[0.625,\"rgb(66,146,198)\"],[0.75,\"rgb(33,113,181)\"],[0.875,\"rgb(8,81,156)\"],[1.0,\"rgb(8,48,107)\"]],\"line\":{\"color\":\"Grey\",\"width\":0.5},\"showscale\":false},\"mode\":\"markers\",\"showlegend\":false,\"x\":[\"sqrt\",\"sqrt\",\"sqrt\",\"auto\",\"log2\",\"log2\",\"sqrt\",\"auto\",\"sqrt\",\"auto\",\"sqrt\",\"auto\",\"auto\",\"auto\",\"log2\",\"sqrt\",\"auto\",\"sqrt\",\"auto\",\"log2\",\"sqrt\",\"log2\",\"log2\",\"log2\",\"log2\",\"auto\",\"log2\",\"sqrt\",\"auto\",\"log2\",\"sqrt\",\"log2\",\"log2\",\"auto\",\"auto\",\"auto\",\"log2\",\"log2\",\"sqrt\",\"log2\",\"sqrt\",\"auto\",\"auto\",\"auto\",\"auto\",\"log2\",\"sqrt\",\"log2\",\"auto\",\"sqrt\"],\"y\":[-0.4690476190476189,-0.2766666666666665,-0.4138095238095237,-0.3385714285714284,-0.3385714285714284,-0.4004761904761903,-0.47571428571428565,-0.4138095238095237,-0.4071428571428569,-0.6578571428571427,-0.5376190476190474,-0.6061904761904761,-0.34523809523809507,-0.586190476190476,-0.5309523809523807,-0.5376190476190474,-0.4071428571428569,-0.4004761904761903,-0.5242857142857142,-0.34523809523809507,-0.3519047619047618,-0.5242857142857142,-0.4004761904761903,-0.586190476190476,-0.5376190476190474,-0.4071428571428569,-0.34523809523809507,-0.46238095238095217,-0.5376190476190474,-0.4690476190476189,-0.5995238095238093,-0.47571428571428565,-0.5376190476190474,-0.4690476190476189,-0.34523809523809507,-0.46238095238095217,-0.6547619047619045,-0.4690476190476188,-0.6614285714285713,-0.5309523809523807,-0.5928571428571427,-0.47571428571428565,-0.5376190476190474,-0.46238095238095217,-0.4004761904761903,-0.4071428571428569,-0.5442857142857142,-0.40404761904761893,-0.34523809523809507,-0.34523809523809507],\"type\":\"scatter\",\"xaxis\":\"x4\",\"yaxis\":\"y4\"},{\"marker\":{\"color\":[0,1,2,3,4,5,6,7,8,9,10,11,12,13,14,15,16,17,18,19,20,21,22,23,24,25,26,27,28,29,30,31,32,33,34,35,36,37,38,39,40,41,42,43,44,45,46,47,48,49],\"colorbar\":{\"title\":{\"text\":\"#Trials\"},\"x\":1.0,\"xpad\":40},\"colorscale\":[[0.0,\"rgb(247,251,255)\"],[0.125,\"rgb(222,235,247)\"],[0.25,\"rgb(198,219,239)\"],[0.375,\"rgb(158,202,225)\"],[0.5,\"rgb(107,174,214)\"],[0.625,\"rgb(66,146,198)\"],[0.75,\"rgb(33,113,181)\"],[0.875,\"rgb(8,81,156)\"],[1.0,\"rgb(8,48,107)\"]],\"line\":{\"color\":\"Grey\",\"width\":0.5},\"showscale\":false},\"mode\":\"markers\",\"showlegend\":false,\"x\":[192,594,519,301,92,862,353,853,588,409,669,318,698,218,28,987,429,544,238,687,438,20,126,106,291,128,615,765,353,174,82,608,735,486,813,847,530,598,484,666,286,937,790,732,831,373,913,619,677,553],\"y\":[-0.4690476190476189,-0.2766666666666665,-0.4138095238095237,-0.3385714285714284,-0.3385714285714284,-0.4004761904761903,-0.47571428571428565,-0.4138095238095237,-0.4071428571428569,-0.6578571428571427,-0.5376190476190474,-0.6061904761904761,-0.34523809523809507,-0.586190476190476,-0.5309523809523807,-0.5376190476190474,-0.4071428571428569,-0.4004761904761903,-0.5242857142857142,-0.34523809523809507,-0.3519047619047618,-0.5242857142857142,-0.4004761904761903,-0.586190476190476,-0.5376190476190474,-0.4071428571428569,-0.34523809523809507,-0.46238095238095217,-0.5376190476190474,-0.4690476190476189,-0.5995238095238093,-0.47571428571428565,-0.5376190476190474,-0.4690476190476189,-0.34523809523809507,-0.46238095238095217,-0.6547619047619045,-0.4690476190476188,-0.6614285714285713,-0.5309523809523807,-0.5928571428571427,-0.47571428571428565,-0.5376190476190474,-0.46238095238095217,-0.4004761904761903,-0.4071428571428569,-0.5442857142857142,-0.40404761904761893,-0.34523809523809507,-0.34523809523809507],\"type\":\"scatter\",\"xaxis\":\"x5\",\"yaxis\":\"y5\"},{\"marker\":{\"color\":[0,1,2,3,4,5,6,7,8,9,10,11,12,13,14,15,16,17,18,19,20,21,22,23,24,25,26,27,28,29,30,31,32,33,34,35,36,37,38,39,40,41,42,43,44,45,46,47,48,49],\"colorbar\":{\"title\":{\"text\":\"#Trials\"},\"x\":1.0,\"xpad\":40},\"colorscale\":[[0.0,\"rgb(247,251,255)\"],[0.125,\"rgb(222,235,247)\"],[0.25,\"rgb(198,219,239)\"],[0.375,\"rgb(158,202,225)\"],[0.5,\"rgb(107,174,214)\"],[0.625,\"rgb(66,146,198)\"],[0.75,\"rgb(33,113,181)\"],[0.875,\"rgb(8,81,156)\"],[1.0,\"rgb(8,48,107)\"]],\"line\":{\"color\":\"Grey\",\"width\":0.5},\"showscale\":false},\"mode\":\"markers\",\"showlegend\":false,\"x\":[5,4,3,6,10,9,6,2,7,5,1,4,7,8,4,3,6,4,7,1,3,10,10,9,8,6,5,9,2,8,4,5,1,7,7,6,2,5,3,2,1,5,6,9,8,5,4,3,7,4],\"y\":[-0.4690476190476189,-0.2766666666666665,-0.4138095238095237,-0.3385714285714284,-0.3385714285714284,-0.4004761904761903,-0.47571428571428565,-0.4138095238095237,-0.4071428571428569,-0.6578571428571427,-0.5376190476190474,-0.6061904761904761,-0.34523809523809507,-0.586190476190476,-0.5309523809523807,-0.5376190476190474,-0.4071428571428569,-0.4004761904761903,-0.5242857142857142,-0.34523809523809507,-0.3519047619047618,-0.5242857142857142,-0.4004761904761903,-0.586190476190476,-0.5376190476190474,-0.4071428571428569,-0.34523809523809507,-0.46238095238095217,-0.5376190476190474,-0.4690476190476189,-0.5995238095238093,-0.47571428571428565,-0.5376190476190474,-0.4690476190476189,-0.34523809523809507,-0.46238095238095217,-0.6547619047619045,-0.4690476190476188,-0.6614285714285713,-0.5309523809523807,-0.5928571428571427,-0.47571428571428565,-0.5376190476190474,-0.46238095238095217,-0.4004761904761903,-0.4071428571428569,-0.5442857142857142,-0.40404761904761893,-0.34523809523809507,-0.34523809523809507],\"type\":\"scatter\",\"xaxis\":\"x6\",\"yaxis\":\"y6\"},{\"marker\":{\"color\":[0,1,2,3,4,5,6,7,8,9,10,11,12,13,14,15,16,17,18,19,20,21,22,23,24,25,26,27,28,29,30,31,32,33,34,35,36,37,38,39,40,41,42,43,44,45,46,47,48,49],\"colorbar\":{\"title\":{\"text\":\"#Trials\"},\"x\":1.0,\"xpad\":40},\"colorscale\":[[0.0,\"rgb(247,251,255)\"],[0.125,\"rgb(222,235,247)\"],[0.25,\"rgb(198,219,239)\"],[0.375,\"rgb(158,202,225)\"],[0.5,\"rgb(107,174,214)\"],[0.625,\"rgb(66,146,198)\"],[0.75,\"rgb(33,113,181)\"],[0.875,\"rgb(8,81,156)\"],[1.0,\"rgb(8,48,107)\"]],\"line\":{\"color\":\"Grey\",\"width\":0.5},\"showscale\":false},\"mode\":\"markers\",\"showlegend\":false,\"x\":[2,5,4,5,3,3,2,4,5,3,5,5,4,5,5,4,5,4,5,4,5,3,3,2,3,4,3,2,4,2,5,3,4,4,5,5,4,3,3,5,4,3,5,4,5,3,5,3,4,2],\"y\":[-0.4690476190476189,-0.2766666666666665,-0.4138095238095237,-0.3385714285714284,-0.3385714285714284,-0.4004761904761903,-0.47571428571428565,-0.4138095238095237,-0.4071428571428569,-0.6578571428571427,-0.5376190476190474,-0.6061904761904761,-0.34523809523809507,-0.586190476190476,-0.5309523809523807,-0.5376190476190474,-0.4071428571428569,-0.4004761904761903,-0.5242857142857142,-0.34523809523809507,-0.3519047619047618,-0.5242857142857142,-0.4004761904761903,-0.586190476190476,-0.5376190476190474,-0.4071428571428569,-0.34523809523809507,-0.46238095238095217,-0.5376190476190474,-0.4690476190476189,-0.5995238095238093,-0.47571428571428565,-0.5376190476190474,-0.4690476190476189,-0.34523809523809507,-0.46238095238095217,-0.6547619047619045,-0.4690476190476188,-0.6614285714285713,-0.5309523809523807,-0.5928571428571427,-0.47571428571428565,-0.5376190476190474,-0.46238095238095217,-0.4004761904761903,-0.4071428571428569,-0.5442857142857142,-0.40404761904761893,-0.34523809523809507,-0.34523809523809507],\"type\":\"scatter\",\"xaxis\":\"x7\",\"yaxis\":\"y7\"},{\"marker\":{\"color\":[0,1,2,3,4,5,6,7,8,9,10,11,12,13,14,15,16,17,18,19,20,21,22,23,24,25,26,27,28,29,30,31,32,33,34,35,36,37,38,39,40,41,42,43,44,45,46,47,48,49],\"colorbar\":{\"title\":{\"text\":\"#Trials\"},\"x\":1.0,\"xpad\":40},\"colorscale\":[[0.0,\"rgb(247,251,255)\"],[0.125,\"rgb(222,235,247)\"],[0.25,\"rgb(198,219,239)\"],[0.375,\"rgb(158,202,225)\"],[0.5,\"rgb(107,174,214)\"],[0.625,\"rgb(66,146,198)\"],[0.75,\"rgb(33,113,181)\"],[0.875,\"rgb(8,81,156)\"],[1.0,\"rgb(8,48,107)\"]],\"line\":{\"color\":\"Grey\",\"width\":0.5},\"showscale\":false},\"mode\":\"markers\",\"showlegend\":false,\"x\":[458,754,565,781,701,548,618,337,597,2,991,877,803,792,991,367,728,212,855,688,906,701,753,460,659,905,791,640,517,835,396,761,664,820,951,942,587,533,722,680,570,928,784,630,868,989,262,20,739,752],\"y\":[-0.4690476190476189,-0.2766666666666665,-0.4138095238095237,-0.3385714285714284,-0.3385714285714284,-0.4004761904761903,-0.47571428571428565,-0.4138095238095237,-0.4071428571428569,-0.6578571428571427,-0.5376190476190474,-0.6061904761904761,-0.34523809523809507,-0.586190476190476,-0.5309523809523807,-0.5376190476190474,-0.4071428571428569,-0.4004761904761903,-0.5242857142857142,-0.34523809523809507,-0.3519047619047618,-0.5242857142857142,-0.4004761904761903,-0.586190476190476,-0.5376190476190474,-0.4071428571428569,-0.34523809523809507,-0.46238095238095217,-0.5376190476190474,-0.4690476190476189,-0.5995238095238093,-0.47571428571428565,-0.5376190476190474,-0.4690476190476189,-0.34523809523809507,-0.46238095238095217,-0.6547619047619045,-0.4690476190476188,-0.6614285714285713,-0.5309523809523807,-0.5928571428571427,-0.47571428571428565,-0.5376190476190474,-0.46238095238095217,-0.4004761904761903,-0.4071428571428569,-0.5442857142857142,-0.40404761904761893,-0.34523809523809507,-0.34523809523809507],\"type\":\"scatter\",\"xaxis\":\"x8\",\"yaxis\":\"y8\"}],                        {\"template\":{\"data\":{\"bar\":[{\"error_x\":{\"color\":\"#2a3f5f\"},\"error_y\":{\"color\":\"#2a3f5f\"},\"marker\":{\"line\":{\"color\":\"#E5ECF6\",\"width\":0.5},\"pattern\":{\"fillmode\":\"overlay\",\"size\":10,\"solidity\":0.2}},\"type\":\"bar\"}],\"barpolar\":[{\"marker\":{\"line\":{\"color\":\"#E5ECF6\",\"width\":0.5},\"pattern\":{\"fillmode\":\"overlay\",\"size\":10,\"solidity\":0.2}},\"type\":\"barpolar\"}],\"carpet\":[{\"aaxis\":{\"endlinecolor\":\"#2a3f5f\",\"gridcolor\":\"white\",\"linecolor\":\"white\",\"minorgridcolor\":\"white\",\"startlinecolor\":\"#2a3f5f\"},\"baxis\":{\"endlinecolor\":\"#2a3f5f\",\"gridcolor\":\"white\",\"linecolor\":\"white\",\"minorgridcolor\":\"white\",\"startlinecolor\":\"#2a3f5f\"},\"type\":\"carpet\"}],\"choropleth\":[{\"colorbar\":{\"outlinewidth\":0,\"ticks\":\"\"},\"type\":\"choropleth\"}],\"contour\":[{\"colorbar\":{\"outlinewidth\":0,\"ticks\":\"\"},\"colorscale\":[[0.0,\"#0d0887\"],[0.1111111111111111,\"#46039f\"],[0.2222222222222222,\"#7201a8\"],[0.3333333333333333,\"#9c179e\"],[0.4444444444444444,\"#bd3786\"],[0.5555555555555556,\"#d8576b\"],[0.6666666666666666,\"#ed7953\"],[0.7777777777777778,\"#fb9f3a\"],[0.8888888888888888,\"#fdca26\"],[1.0,\"#f0f921\"]],\"type\":\"contour\"}],\"contourcarpet\":[{\"colorbar\":{\"outlinewidth\":0,\"ticks\":\"\"},\"type\":\"contourcarpet\"}],\"heatmap\":[{\"colorbar\":{\"outlinewidth\":0,\"ticks\":\"\"},\"colorscale\":[[0.0,\"#0d0887\"],[0.1111111111111111,\"#46039f\"],[0.2222222222222222,\"#7201a8\"],[0.3333333333333333,\"#9c179e\"],[0.4444444444444444,\"#bd3786\"],[0.5555555555555556,\"#d8576b\"],[0.6666666666666666,\"#ed7953\"],[0.7777777777777778,\"#fb9f3a\"],[0.8888888888888888,\"#fdca26\"],[1.0,\"#f0f921\"]],\"type\":\"heatmap\"}],\"heatmapgl\":[{\"colorbar\":{\"outlinewidth\":0,\"ticks\":\"\"},\"colorscale\":[[0.0,\"#0d0887\"],[0.1111111111111111,\"#46039f\"],[0.2222222222222222,\"#7201a8\"],[0.3333333333333333,\"#9c179e\"],[0.4444444444444444,\"#bd3786\"],[0.5555555555555556,\"#d8576b\"],[0.6666666666666666,\"#ed7953\"],[0.7777777777777778,\"#fb9f3a\"],[0.8888888888888888,\"#fdca26\"],[1.0,\"#f0f921\"]],\"type\":\"heatmapgl\"}],\"histogram\":[{\"marker\":{\"pattern\":{\"fillmode\":\"overlay\",\"size\":10,\"solidity\":0.2}},\"type\":\"histogram\"}],\"histogram2d\":[{\"colorbar\":{\"outlinewidth\":0,\"ticks\":\"\"},\"colorscale\":[[0.0,\"#0d0887\"],[0.1111111111111111,\"#46039f\"],[0.2222222222222222,\"#7201a8\"],[0.3333333333333333,\"#9c179e\"],[0.4444444444444444,\"#bd3786\"],[0.5555555555555556,\"#d8576b\"],[0.6666666666666666,\"#ed7953\"],[0.7777777777777778,\"#fb9f3a\"],[0.8888888888888888,\"#fdca26\"],[1.0,\"#f0f921\"]],\"type\":\"histogram2d\"}],\"histogram2dcontour\":[{\"colorbar\":{\"outlinewidth\":0,\"ticks\":\"\"},\"colorscale\":[[0.0,\"#0d0887\"],[0.1111111111111111,\"#46039f\"],[0.2222222222222222,\"#7201a8\"],[0.3333333333333333,\"#9c179e\"],[0.4444444444444444,\"#bd3786\"],[0.5555555555555556,\"#d8576b\"],[0.6666666666666666,\"#ed7953\"],[0.7777777777777778,\"#fb9f3a\"],[0.8888888888888888,\"#fdca26\"],[1.0,\"#f0f921\"]],\"type\":\"histogram2dcontour\"}],\"mesh3d\":[{\"colorbar\":{\"outlinewidth\":0,\"ticks\":\"\"},\"type\":\"mesh3d\"}],\"parcoords\":[{\"line\":{\"colorbar\":{\"outlinewidth\":0,\"ticks\":\"\"}},\"type\":\"parcoords\"}],\"pie\":[{\"automargin\":true,\"type\":\"pie\"}],\"scatter\":[{\"marker\":{\"colorbar\":{\"outlinewidth\":0,\"ticks\":\"\"}},\"type\":\"scatter\"}],\"scatter3d\":[{\"line\":{\"colorbar\":{\"outlinewidth\":0,\"ticks\":\"\"}},\"marker\":{\"colorbar\":{\"outlinewidth\":0,\"ticks\":\"\"}},\"type\":\"scatter3d\"}],\"scattercarpet\":[{\"marker\":{\"colorbar\":{\"outlinewidth\":0,\"ticks\":\"\"}},\"type\":\"scattercarpet\"}],\"scattergeo\":[{\"marker\":{\"colorbar\":{\"outlinewidth\":0,\"ticks\":\"\"}},\"type\":\"scattergeo\"}],\"scattergl\":[{\"marker\":{\"colorbar\":{\"outlinewidth\":0,\"ticks\":\"\"}},\"type\":\"scattergl\"}],\"scattermapbox\":[{\"marker\":{\"colorbar\":{\"outlinewidth\":0,\"ticks\":\"\"}},\"type\":\"scattermapbox\"}],\"scatterpolar\":[{\"marker\":{\"colorbar\":{\"outlinewidth\":0,\"ticks\":\"\"}},\"type\":\"scatterpolar\"}],\"scatterpolargl\":[{\"marker\":{\"colorbar\":{\"outlinewidth\":0,\"ticks\":\"\"}},\"type\":\"scatterpolargl\"}],\"scatterternary\":[{\"marker\":{\"colorbar\":{\"outlinewidth\":0,\"ticks\":\"\"}},\"type\":\"scatterternary\"}],\"surface\":[{\"colorbar\":{\"outlinewidth\":0,\"ticks\":\"\"},\"colorscale\":[[0.0,\"#0d0887\"],[0.1111111111111111,\"#46039f\"],[0.2222222222222222,\"#7201a8\"],[0.3333333333333333,\"#9c179e\"],[0.4444444444444444,\"#bd3786\"],[0.5555555555555556,\"#d8576b\"],[0.6666666666666666,\"#ed7953\"],[0.7777777777777778,\"#fb9f3a\"],[0.8888888888888888,\"#fdca26\"],[1.0,\"#f0f921\"]],\"type\":\"surface\"}],\"table\":[{\"cells\":{\"fill\":{\"color\":\"#EBF0F8\"},\"line\":{\"color\":\"white\"}},\"header\":{\"fill\":{\"color\":\"#C8D4E3\"},\"line\":{\"color\":\"white\"}},\"type\":\"table\"}]},\"layout\":{\"annotationdefaults\":{\"arrowcolor\":\"#2a3f5f\",\"arrowhead\":0,\"arrowwidth\":1},\"autotypenumbers\":\"strict\",\"coloraxis\":{\"colorbar\":{\"outlinewidth\":0,\"ticks\":\"\"}},\"colorscale\":{\"diverging\":[[0,\"#8e0152\"],[0.1,\"#c51b7d\"],[0.2,\"#de77ae\"],[0.3,\"#f1b6da\"],[0.4,\"#fde0ef\"],[0.5,\"#f7f7f7\"],[0.6,\"#e6f5d0\"],[0.7,\"#b8e186\"],[0.8,\"#7fbc41\"],[0.9,\"#4d9221\"],[1,\"#276419\"]],\"sequential\":[[0.0,\"#0d0887\"],[0.1111111111111111,\"#46039f\"],[0.2222222222222222,\"#7201a8\"],[0.3333333333333333,\"#9c179e\"],[0.4444444444444444,\"#bd3786\"],[0.5555555555555556,\"#d8576b\"],[0.6666666666666666,\"#ed7953\"],[0.7777777777777778,\"#fb9f3a\"],[0.8888888888888888,\"#fdca26\"],[1.0,\"#f0f921\"]],\"sequentialminus\":[[0.0,\"#0d0887\"],[0.1111111111111111,\"#46039f\"],[0.2222222222222222,\"#7201a8\"],[0.3333333333333333,\"#9c179e\"],[0.4444444444444444,\"#bd3786\"],[0.5555555555555556,\"#d8576b\"],[0.6666666666666666,\"#ed7953\"],[0.7777777777777778,\"#fb9f3a\"],[0.8888888888888888,\"#fdca26\"],[1.0,\"#f0f921\"]]},\"colorway\":[\"#636efa\",\"#EF553B\",\"#00cc96\",\"#ab63fa\",\"#FFA15A\",\"#19d3f3\",\"#FF6692\",\"#B6E880\",\"#FF97FF\",\"#FECB52\"],\"font\":{\"color\":\"#2a3f5f\"},\"geo\":{\"bgcolor\":\"white\",\"lakecolor\":\"white\",\"landcolor\":\"#E5ECF6\",\"showlakes\":true,\"showland\":true,\"subunitcolor\":\"white\"},\"hoverlabel\":{\"align\":\"left\"},\"hovermode\":\"closest\",\"mapbox\":{\"style\":\"light\"},\"paper_bgcolor\":\"white\",\"plot_bgcolor\":\"#E5ECF6\",\"polar\":{\"angularaxis\":{\"gridcolor\":\"white\",\"linecolor\":\"white\",\"ticks\":\"\"},\"bgcolor\":\"#E5ECF6\",\"radialaxis\":{\"gridcolor\":\"white\",\"linecolor\":\"white\",\"ticks\":\"\"}},\"scene\":{\"xaxis\":{\"backgroundcolor\":\"#E5ECF6\",\"gridcolor\":\"white\",\"gridwidth\":2,\"linecolor\":\"white\",\"showbackground\":true,\"ticks\":\"\",\"zerolinecolor\":\"white\"},\"yaxis\":{\"backgroundcolor\":\"#E5ECF6\",\"gridcolor\":\"white\",\"gridwidth\":2,\"linecolor\":\"white\",\"showbackground\":true,\"ticks\":\"\",\"zerolinecolor\":\"white\"},\"zaxis\":{\"backgroundcolor\":\"#E5ECF6\",\"gridcolor\":\"white\",\"gridwidth\":2,\"linecolor\":\"white\",\"showbackground\":true,\"ticks\":\"\",\"zerolinecolor\":\"white\"}},\"shapedefaults\":{\"line\":{\"color\":\"#2a3f5f\"}},\"ternary\":{\"aaxis\":{\"gridcolor\":\"white\",\"linecolor\":\"white\",\"ticks\":\"\"},\"baxis\":{\"gridcolor\":\"white\",\"linecolor\":\"white\",\"ticks\":\"\"},\"bgcolor\":\"#E5ECF6\",\"caxis\":{\"gridcolor\":\"white\",\"linecolor\":\"white\",\"ticks\":\"\"}},\"title\":{\"x\":0.05},\"xaxis\":{\"automargin\":true,\"gridcolor\":\"white\",\"linecolor\":\"white\",\"ticks\":\"\",\"title\":{\"standoff\":15},\"zerolinecolor\":\"white\",\"zerolinewidth\":2},\"yaxis\":{\"automargin\":true,\"gridcolor\":\"white\",\"linecolor\":\"white\",\"ticks\":\"\",\"title\":{\"standoff\":15},\"zerolinecolor\":\"white\",\"zerolinewidth\":2}}},\"xaxis\":{\"anchor\":\"y\",\"domain\":[0.0,0.103125],\"title\":{\"text\":\"bootstrap\"}},\"yaxis\":{\"anchor\":\"x\",\"domain\":[0.0,1.0],\"title\":{\"text\":\"Objective Value\"}},\"xaxis2\":{\"anchor\":\"y2\",\"domain\":[0.128125,0.23124999999999998],\"title\":{\"text\":\"criterion\"}},\"yaxis2\":{\"anchor\":\"x2\",\"domain\":[0.0,1.0],\"matches\":\"y\",\"showticklabels\":false},\"xaxis3\":{\"anchor\":\"y3\",\"domain\":[0.25625,0.359375],\"title\":{\"text\":\"max_depth\"}},\"yaxis3\":{\"anchor\":\"x3\",\"domain\":[0.0,1.0],\"matches\":\"y\",\"showticklabels\":false},\"xaxis4\":{\"anchor\":\"y4\",\"domain\":[0.38437499999999997,0.48749999999999993],\"title\":{\"text\":\"max_features\"}},\"yaxis4\":{\"anchor\":\"x4\",\"domain\":[0.0,1.0],\"matches\":\"y\",\"showticklabels\":false},\"xaxis5\":{\"anchor\":\"y5\",\"domain\":[0.5125,0.615625],\"title\":{\"text\":\"max_leaf_nodes\"}},\"yaxis5\":{\"anchor\":\"x5\",\"domain\":[0.0,1.0],\"matches\":\"y\",\"showticklabels\":false},\"xaxis6\":{\"anchor\":\"y6\",\"domain\":[0.640625,0.74375],\"title\":{\"text\":\"min_samples_leaf\"}},\"yaxis6\":{\"anchor\":\"x6\",\"domain\":[0.0,1.0],\"matches\":\"y\",\"showticklabels\":false},\"xaxis7\":{\"anchor\":\"y7\",\"domain\":[0.76875,0.8718750000000001],\"title\":{\"text\":\"min_samples_split\"}},\"yaxis7\":{\"anchor\":\"x7\",\"domain\":[0.0,1.0],\"matches\":\"y\",\"showticklabels\":false},\"xaxis8\":{\"anchor\":\"y8\",\"domain\":[0.8968750000000001,1.0],\"title\":{\"text\":\"n_estimators\"}},\"yaxis8\":{\"anchor\":\"x8\",\"domain\":[0.0,1.0],\"matches\":\"y\",\"showticklabels\":false},\"title\":{\"text\":\"Slice Plot\"},\"width\":2400},                        {\"responsive\": true}                    ).then(function(){\n",
              "                            \n",
              "var gd = document.getElementById('6edc4fae-ffb5-4db4-86ed-49f8484e49b0');\n",
              "var x = new MutationObserver(function (mutations, observer) {{\n",
              "        var display = window.getComputedStyle(gd).display;\n",
              "        if (!display || display === 'none') {{\n",
              "            console.log([gd, 'removed!']);\n",
              "            Plotly.purge(gd);\n",
              "            observer.disconnect();\n",
              "        }}\n",
              "}});\n",
              "\n",
              "// Listen for the removal of the full notebook cells\n",
              "var notebookContainer = gd.closest('#notebook-container');\n",
              "if (notebookContainer) {{\n",
              "    x.observe(notebookContainer, {childList: true});\n",
              "}}\n",
              "\n",
              "// Listen for the clearing of the current output cell\n",
              "var outputEl = gd.closest('.output');\n",
              "if (outputEl) {{\n",
              "    x.observe(outputEl, {childList: true});\n",
              "}}\n",
              "\n",
              "                        })                };                            </script>        </div>\n",
              "</body>\n",
              "</html>"
            ]
          },
          "metadata": {}
        }
      ]
    },
    {
      "cell_type": "markdown",
      "source": [
        "## 特徴量の重要度の評価"
      ],
      "metadata": {
        "id": "TQSbk2_iIW9j"
      }
    },
    {
      "cell_type": "markdown",
      "source": [
        "妥当性の検証を終え、クロスバリデーションとOptunaでより正確性が高かったモデルを使い、特徴量の重要度の評価を行います。\n",
        "特徴量の重要度の評価はScikit-learnのランダムフォレストモデルライブラリのfeature_importances()という関数を使います。\n"
      ],
      "metadata": {
        "id": "CJSXajwpdRfK"
      }
    },
    {
      "cell_type": "code",
      "source": [
        "if accuracy_random_forest_op > accuracy_random_forest:\n",
        "  print(\"妥当性の検証方法でより正確だったのはOptunaです\")\n",
        "  feature_importances = rforest_model_post_optuna.feature_importances_\n",
        "else:\n",
        "  print(\"妥当性の検証方法でより正確だったのはCross Validationです\")\n",
        "  feature_importances = rforest_model_cv.feature_importances_\n",
        "\n",
        "feature_importances_dict = {}\n",
        "\n",
        "for i, importance in enumerate(feature_importances):\n",
        "  perc = importance * 100\n",
        "  feature_importances_dict[finalized_df.columns[i]] = perc # 一行目は出力行のため、考慮しない\n",
        "\n",
        "sorted_dict = {}\n",
        "sorted_keys = sorted(feature_importances_dict, key=feature_importances_dict.get)\n",
        "for w in sorted_keys:\n",
        "    sorted_dict[w] =  feature_importances_dict[w]\n",
        "  \n",
        "for keys in sorted_dict.keys():\n",
        "  print(f\"フィーチャー名：{keys:>12s}は出力データの結果に{sorted_dict[keys]:>7.2f}%関与しています\")"
      ],
      "metadata": {
        "id": "0kObwlht9ssY",
        "colab": {
          "base_uri": "https://localhost:8080/"
        },
        "outputId": "868c45d7-1648-4db5-d485-1eecce5a2d88"
      },
      "execution_count": 17,
      "outputs": [
        {
          "output_type": "stream",
          "name": "stdout",
          "text": [
            "妥当性の検証方法でより正確だったのはOptunaです\n",
            "フィーチャー名：    IL-12P70は出力データの結果に   0.00%関与しています\n",
            "フィーチャー名：       IL-17は出力データの結果に   0.00%関与しています\n",
            "フィーチャー名：        IL-9は出力データの結果に   0.00%関与しています\n",
            "フィーチャー名：        IL-2は出力データの結果に   0.00%関与しています\n",
            "フィーチャー名：        IL-3は出力データの結果に   0.00%関与しています\n",
            "フィーチャー名：        TNFbは出力データの結果に   0.00%関与しています\n",
            "フィーチャー名：   emphysemaは出力データの結果に   0.11%関与しています\n",
            "フィーチャー名：        IPAFは出力データの結果に   0.14%関与しています\n",
            "フィーチャー名：smoking-statusは出力データの結果に   0.23%関与しています\n",
            "フィーチャー名：       TGF-aは出力データの結果に   0.24%関与しています\n",
            "フィーチャー名：Baseline-ILDは出力データの結果に   0.51%関与しています\n",
            "フィーチャー名：      IL-36βは出力データの結果に   0.70%関与しています\n",
            "フィーチャー名：    IL-12P40は出力データの結果に   0.84%関与しています\n",
            "フィーチャー名：         ageは出力データの結果に   0.91%関与しています\n",
            "フィーチャー名：        VEGFは出力データの結果に   0.98%関与しています\n",
            "フィーチャー名：         GROは出力データの結果に   1.04%関与しています\n",
            "フィーチャー名：       IL-15は出力データの結果に   1.10%関与しています\n",
            "フィーチャー名：      Flt-3Lは出力データの結果に   1.14%関与しています\n",
            "フィーチャー名：        IL-6は出力データの結果に   1.14%関与しています\n",
            "フィーチャー名：      IFN-a2は出力データの結果に   1.16%関与しています\n",
            "フィーチャー名：       IP-10は出力データの結果に   1.19%関与しています\n",
            "フィーチャー名：       TGFB1は出力データの結果に   1.22%関与しています\n",
            "フィーチャー名：         sexは出力データの結果に   1.25%関与しています\n",
            "フィーチャー名：        TNFaは出力データの結果に   1.25%関与しています\n",
            "フィーチャー名：        IL-7は出力データの結果に   1.27%関与しています\n",
            "フィーチャー名：Brinkman-Indexは出力データの結果に   1.41%関与しています\n",
            "フィーチャー名：  BAL(CD4/8)は出力データの結果に   1.42%関与しています\n",
            "フィーチャー名：      MIP-1aは出力データの結果に   1.43%関与しています\n",
            "フィーチャー名：       FGF-2は出力データの結果に   1.46%関与しています\n",
            "フィーチャー名：    BAL(M-%)は出力データの結果に   1.47%関与しています\n",
            "フィーチャー名：  BAL(Eos-%)は出力データの結果に   1.47%関与しています\n",
            "フィーチャー名：       IFN-gは出力データの結果に   1.52%関与しています\n",
            "フィーチャー名：BAL(neutro-%)は出力データの結果に   1.58%関与しています\n",
            "フィーチャー名：       IL-1bは出力データの結果に   1.60%関与しています\n",
            "フィーチャー名：         MDCは出力データの結果に   1.66%関与しています\n",
            "フィーチャー名：      IL-1RAは出力データの結果に   1.66%関与しています\n",
            "フィーチャー名：     EOTAXINは出力データの結果に   1.70%関与しています\n",
            "フィーチャー名：       IL-10は出力データの結果に   1.71%関与しています\n",
            "フィーチャー名：   P/F-ratioは出力データの結果に   1.73%関与しています\n",
            "フィーチャー名：       TGFB2は出力データの結果に   1.75%関与しています\n",
            "フィーチャー名：       G-CSFは出力データの結果に   1.75%関与しています\n",
            "フィーチャー名：Collagen-diseaseは出力データの結果に   1.79%関与しています\n",
            "フィーチャー名：       MCP-3は出力データの結果に   1.82%関与しています\n",
            "フィーチャー名： FRACTALKINEは出力データの結果に   1.88%関与しています\n",
            "フィーチャー名：        KL-6は出力データの結果に   1.99%関与しています\n",
            "フィーチャー名：         CRPは出力データの結果に   2.03%関与しています\n",
            "フィーチャー名：       IL-1aは出力データの結果に   2.11%関与しています\n",
            "フィーチャー名：        IL-4は出力データの結果に   2.37%関与しています\n",
            "フィーチャー名：       MMP-7は出力データの結果に   2.41%関与しています\n",
            "フィーチャー名：        IL-8は出力データの結果に   2.52%関与しています\n",
            "フィーチャー名：       TGFB3は出力データの結果に   2.73%関与しています\n",
            "フィーチャー名：         EGFは出力データの結果に   2.76%関与しています\n",
            "フィーチャー名：      sCD40Lは出力データの結果に   2.76%関与しています\n",
            "フィーチャー名：      MIP-1bは出力データの結果に   2.86%関与しています\n",
            "フィーチャー名：      GM-CSFは出力データの結果に   3.12%関与しています\n",
            "フィーチャー名：BAL(Lymph-%)は出力データの結果に   3.43%関与しています\n",
            "フィーチャー名：        IL-5は出力データの結果に   3.53%関与しています\n",
            "フィーチャー名：       IL-13は出力データの結果に   3.57%関与しています\n",
            "フィーチャー名：       MCP-1は出力データの結果に   4.21%関与しています\n",
            "フィーチャー名：       MMP-1は出力データの結果に   4.47%関与しています\n",
            "フィーチャー名：         LDHは出力データの結果に   5.94%関与しています\n"
          ]
        }
      ]
    },
    {
      "cell_type": "markdown",
      "source": [
        "##  特徴量の重要度の評価に基づきモデル再構築"
      ],
      "metadata": {
        "id": "oSzY43HdJjcR"
      }
    },
    {
      "cell_type": "markdown",
      "source": [
        "特徴量設計は、モデルタイプやそのパラメータよりもモデルの品質に大きな影響を与えるという共通認識があります。特徴量選択が重要な問題である理由として、実際のパターンを隠してしまうほどの余分な特徴量で学習してしまうと、本来のパターンを見つけるのが難しくなります。この場合、モデルは不要な特徴量のノイズパターンを使用し始め、結果としてパフォーマンスの低下につながります。加え、特徴量の数を減らすと、一般的にモデルの学習（トレーニング）が大幅に速くなります。そして大抵の場合、結果として得られるモデルは単純で理解しやすいものとなります。常に単純なモデルになるように心がけ、ノイズを削除し、ロバストなモデル作成を心がける必要があります。詳しくはこちらを参照して下さい [[4](https://www.rapidminer.jp/wp-content/uploads/2020/05/%E6%A9%9F%E6%A2%B0%E5%AD%A6%E7%BF%92%E3%81%AE%E3%81%9F%E3%82%81%E3%81%AE%E7%89%B9%E5%BE%B4%E9%87%8F%E6%9C%80%E9%81%A9%E5%8C%96.pdf)]。\n",
        "\n",
        "今回はForward Selectionという考え方を応用し、特徴量の重要度の評価で最も正答率が高かった10個の属性を保持して再度モデルを作成します。"
      ],
      "metadata": {
        "id": "QCqhOn89d4da"
      }
    },
    {
      "cell_type": "code",
      "source": [
        "top_ten_params = list(sorted_dict.keys())[-10:]\n",
        "top_ten_params.append('90day-mortality')\n",
        "print(f\"The top ten parameters are: {top_ten_params}\")\n",
        "\n",
        "# 最後に使用したPandasデータフレームをコピーを作成する\n",
        "finalized_df_c = finalized_df.copy()\n",
        "\n",
        "# 新しいデータフレームから重要因子以外を取り除く\n",
        "finalized_df_c = finalized_df_c.drop(columns=[col for col in finalized_df.columns if col not in top_ten_params])\n",
        "\n",
        "# 行数と列数を変数として保管する\n",
        "NUM_ROWS, NUM_COLS = finalized_df_c.shape[0], finalized_df_c.shape[1]\n",
        "\n",
        "# Y (ラベル) ターゲットラベル\n",
        "Y_col = '90day-mortality'\n",
        "# X (フィーチャー) ターゲットラベル以外の全ての行\n",
        "X_cols = finalized_df_c.loc[:, finalized_df_c.columns != Y_col].columns\n",
        "\n",
        "X_train, X_val, y_train, y_val = \\\n",
        "train_test_split(finalized_df_c[X_cols], finalized_df_c[Y_col],test_size=0.2, random_state=42)\n",
        "\n",
        "print(\"X_train.shape = \", X_train.shape, \" \\t y_train.shape = \", y_train.shape)\n",
        "print(\"X_val.shape = \", X_val.shape, \" \\t y_val.shape = \", y_val.shape)\n",
        "\n",
        "study = optuna.create_study(direction='maximize')\n",
        "study.optimize(objective, n_trials=50)\n",
        "\n",
        "trial = study.best_trial\n",
        "print('Accuracy: {}'.format(trial.value))\n",
        "\n",
        "# チューニングしたハイパーパラメーターをフィット\n",
        "rforest_model_post_optuna_opt = ensemble.RandomForestClassifier(bootstrap = study.best_params['bootstrap'], criterion = study.best_params['criterion'],\n",
        "                                     max_depth = study.best_params['max_depth'], max_features = study.best_params['max_features'],\n",
        "                                     max_leaf_nodes = study.best_params['max_leaf_nodes'],n_estimators = study.best_params['n_estimators'],\n",
        "                                     min_samples_split = study.best_params['min_samples_split'],min_samples_leaf = study.best_params['min_samples_leaf'],                                     \n",
        "                                     n_jobs=2)\n",
        "\n",
        "# モデルを再度トレーニングする\n",
        "rforest_model_post_optuna_opt.fit(X_train, y_train) \n",
        "\n",
        "# 再度トレーニングした後のモデルのパフォーマンス検証\n",
        "# テストデータにrforest_modelに.predict()関数を応用し、RFモデルがラベルを何個正確に予測出来たかを検証する\n",
        "y_pred_op = rforest_model_post_optuna_opt.predict(X_val)\n",
        "\n",
        "#モデルを作成する段階でのモデルの識別精度\n",
        "trainaccuracy_random_forest = rforest_model_post_optuna_opt.score(X_train, y_train)\n",
        "print('TrainAccuracy: {}'.format(trainaccuracy_random_forest))\n",
        "\n",
        "#作成したモデルに学習に使用していない評価用のデータセットを入力し精度を確認\n",
        "accuracy_random_forest = accuracy_score(y_val, y_pred_op)\n",
        "print('Accuracy: {}'.format(accuracy_random_forest))\n",
        "\n",
        "# 正確性の出力\n",
        "print(classification_report(y_val, y_pred_op))\n",
        "\n",
        "# フィーチャーの重要度を出力するコード\n",
        "feature_importances_opt = rforest_model_post_optuna_opt.feature_importances_\n",
        "\n",
        "feature_importances_dict = {}\n",
        "for i, importance in enumerate(feature_importances_opt):\n",
        "  perc = importance * 100\n",
        "  feature_importances_dict[finalized_df.columns[i]] = perc\n",
        "\n",
        "sorted_dict = {}\n",
        "sorted_keys = sorted(feature_importances_dict, key=feature_importances_dict.get)\n",
        "for w in sorted_keys:\n",
        "    sorted_dict[w] =  feature_importances_dict[w]\n",
        "  \n",
        "for keys in sorted_dict.keys():\n",
        "  print(f\"フィーチャー名：{keys:>12s}は出力データの結果に{sorted_dict[keys]:>7.2f}%関与しています\")"
      ],
      "metadata": {
        "id": "U0bu0FLieIiN",
        "colab": {
          "base_uri": "https://localhost:8080/"
        },
        "outputId": "d4aec914-7a07-45f0-fff0-9e9a4f93ceb8"
      },
      "execution_count": 18,
      "outputs": [
        {
          "output_type": "stream",
          "name": "stderr",
          "text": [
            "\u001b[32m[I 2022-04-17 04:38:15,264]\u001b[0m A new study created in memory with name: no-name-5b5b1adc-e800-4b3b-adb0-598bb2aadda9\u001b[0m\n"
          ]
        },
        {
          "output_type": "stream",
          "name": "stdout",
          "text": [
            "The top ten parameters are: ['EGF', 'sCD40L', 'MIP-1b', 'GM-CSF', 'BAL(Lymph-%)', 'IL-5', 'IL-13', 'MCP-1', 'MMP-1', 'LDH', '90day-mortality']\n",
            "X_train.shape =  (73, 10)  \t y_train.shape =  (73,)\n",
            "X_val.shape =  (19, 10)  \t y_val.shape =  (19,)\n"
          ]
        },
        {
          "output_type": "stream",
          "name": "stderr",
          "text": [
            "\u001b[32m[I 2022-04-17 04:38:22,882]\u001b[0m Trial 0 finished with value: -0.5376190476190474 and parameters: {'criterion': 'entropy', 'bootstrap': 'True', 'max_depth': 415, 'max_features': 'auto', 'max_leaf_nodes': 278, 'n_estimators': 653, 'min_samples_split': 2, 'min_samples_leaf': 9}. Best is trial 0 with value: -0.5376190476190474.\u001b[0m\n",
            "\u001b[32m[I 2022-04-17 04:38:28,052]\u001b[0m Trial 1 finished with value: -0.5995238095238093 and parameters: {'criterion': 'gini', 'bootstrap': 'False', 'max_depth': 824, 'max_features': 'sqrt', 'max_leaf_nodes': 120, 'n_estimators': 393, 'min_samples_split': 3, 'min_samples_leaf': 2}. Best is trial 0 with value: -0.5376190476190474.\u001b[0m\n",
            "\u001b[32m[I 2022-04-17 04:38:36,810]\u001b[0m Trial 2 finished with value: -0.4071428571428569 and parameters: {'criterion': 'gini', 'bootstrap': 'True', 'max_depth': 142, 'max_features': 'auto', 'max_leaf_nodes': 895, 'n_estimators': 732, 'min_samples_split': 3, 'min_samples_leaf': 4}. Best is trial 2 with value: -0.4071428571428569.\u001b[0m\n",
            "\u001b[32m[I 2022-04-17 04:38:44,551]\u001b[0m Trial 3 finished with value: -0.46238095238095217 and parameters: {'criterion': 'gini', 'bootstrap': 'False', 'max_depth': 510, 'max_features': 'auto', 'max_leaf_nodes': 851, 'n_estimators': 665, 'min_samples_split': 5, 'min_samples_leaf': 7}. Best is trial 2 with value: -0.4071428571428569.\u001b[0m\n",
            "\u001b[32m[I 2022-04-17 04:38:56,043]\u001b[0m Trial 4 finished with value: -0.6614285714285713 and parameters: {'criterion': 'entropy', 'bootstrap': 'False', 'max_depth': 72, 'max_features': 'sqrt', 'max_leaf_nodes': 608, 'n_estimators': 998, 'min_samples_split': 5, 'min_samples_leaf': 1}. Best is trial 2 with value: -0.4071428571428569.\u001b[0m\n",
            "\u001b[32m[I 2022-04-17 04:39:06,803]\u001b[0m Trial 5 finished with value: -0.4004761904761903 and parameters: {'criterion': 'entropy', 'bootstrap': 'False', 'max_depth': 463, 'max_features': 'auto', 'max_leaf_nodes': 625, 'n_estimators': 928, 'min_samples_split': 5, 'min_samples_leaf': 10}. Best is trial 5 with value: -0.4004761904761903.\u001b[0m\n",
            "\u001b[32m[I 2022-04-17 04:39:11,000]\u001b[0m Trial 6 finished with value: -0.3385714285714284 and parameters: {'criterion': 'gini', 'bootstrap': 'True', 'max_depth': 559, 'max_features': 'log2', 'max_leaf_nodes': 44, 'n_estimators': 337, 'min_samples_split': 3, 'min_samples_leaf': 9}. Best is trial 6 with value: -0.3385714285714284.\u001b[0m\n",
            "\u001b[32m[I 2022-04-17 04:39:16,283]\u001b[0m Trial 7 finished with value: -0.4690476190476189 and parameters: {'criterion': 'gini', 'bootstrap': 'True', 'max_depth': 474, 'max_features': 'log2', 'max_leaf_nodes': 65, 'n_estimators': 399, 'min_samples_split': 3, 'min_samples_leaf': 4}. Best is trial 6 with value: -0.3385714285714284.\u001b[0m\n",
            "\u001b[32m[I 2022-04-17 04:39:23,524]\u001b[0m Trial 8 finished with value: -0.7919047619047618 and parameters: {'criterion': 'entropy', 'bootstrap': 'False', 'max_depth': 834, 'max_features': 'auto', 'max_leaf_nodes': 114, 'n_estimators': 587, 'min_samples_split': 2, 'min_samples_leaf': 1}. Best is trial 6 with value: -0.3385714285714284.\u001b[0m\n",
            "\u001b[32m[I 2022-04-17 04:39:33,238]\u001b[0m Trial 9 finished with value: -0.47571428571428565 and parameters: {'criterion': 'entropy', 'bootstrap': 'False', 'max_depth': 636, 'max_features': 'auto', 'max_leaf_nodes': 592, 'n_estimators': 806, 'min_samples_split': 4, 'min_samples_leaf': 3}. Best is trial 6 with value: -0.3385714285714284.\u001b[0m\n",
            "\u001b[32m[I 2022-04-17 04:39:34,401]\u001b[0m Trial 10 finished with value: -0.3385714285714284 and parameters: {'criterion': 'gini', 'bootstrap': 'True', 'max_depth': 964, 'max_features': 'log2', 'max_leaf_nodes': 397, 'n_estimators': 44, 'min_samples_split': 4, 'min_samples_leaf': 7}. Best is trial 6 with value: -0.3385714285714284.\u001b[0m\n",
            "\u001b[32m[I 2022-04-17 04:39:35,786]\u001b[0m Trial 11 finished with value: -0.5442857142857142 and parameters: {'criterion': 'gini', 'bootstrap': 'True', 'max_depth': 1000, 'max_features': 'log2', 'max_leaf_nodes': 383, 'n_estimators': 54, 'min_samples_split': 4, 'min_samples_leaf': 7}. Best is trial 6 with value: -0.3385714285714284.\u001b[0m\n",
            "\u001b[32m[I 2022-04-17 04:39:36,917]\u001b[0m Trial 12 finished with value: -0.34880952380952374 and parameters: {'criterion': 'gini', 'bootstrap': 'True', 'max_depth': 252, 'max_features': 'log2', 'max_leaf_nodes': 295, 'n_estimators': 34, 'min_samples_split': 4, 'min_samples_leaf': 8}. Best is trial 6 with value: -0.3385714285714284.\u001b[0m\n",
            "\u001b[32m[I 2022-04-17 04:39:40,367]\u001b[0m Trial 13 finished with value: -0.46238095238095217 and parameters: {'criterion': 'gini', 'bootstrap': 'True', 'max_depth': 725, 'max_features': 'log2', 'max_leaf_nodes': 418, 'n_estimators': 227, 'min_samples_split': 3, 'min_samples_leaf': 6}. Best is trial 6 with value: -0.3385714285714284.\u001b[0m\n",
            "\u001b[32m[I 2022-04-17 04:39:43,535]\u001b[0m Trial 14 finished with value: -0.5995238095238093 and parameters: {'criterion': 'gini', 'bootstrap': 'True', 'max_depth': 925, 'max_features': 'log2', 'max_leaf_nodes': 9, 'n_estimators': 228, 'min_samples_split': 4, 'min_samples_leaf': 10}. Best is trial 6 with value: -0.3385714285714284.\u001b[0m\n",
            "\u001b[32m[I 2022-04-17 04:39:46,474]\u001b[0m Trial 15 finished with value: -0.26999999999999985 and parameters: {'criterion': 'gini', 'bootstrap': 'True', 'max_depth': 640, 'max_features': 'log2', 'max_leaf_nodes': 214, 'n_estimators': 205, 'min_samples_split': 2, 'min_samples_leaf': 8}. Best is trial 15 with value: -0.26999999999999985.\u001b[0m\n",
            "\u001b[32m[I 2022-04-17 04:39:49,867]\u001b[0m Trial 16 finished with value: -0.46238095238095217 and parameters: {'criterion': 'gini', 'bootstrap': 'True', 'max_depth': 673, 'max_features': 'log2', 'max_leaf_nodes': 233, 'n_estimators': 242, 'min_samples_split': 2, 'min_samples_leaf': 9}. Best is trial 15 with value: -0.26999999999999985.\u001b[0m\n",
            "\u001b[32m[I 2022-04-17 04:39:55,566]\u001b[0m Trial 17 finished with value: -0.5309523809523807 and parameters: {'criterion': 'gini', 'bootstrap': 'True', 'max_depth': 567, 'max_features': 'log2', 'max_leaf_nodes': 182, 'n_estimators': 437, 'min_samples_split': 2, 'min_samples_leaf': 8}. Best is trial 15 with value: -0.26999999999999985.\u001b[0m\n",
            "\u001b[32m[I 2022-04-17 04:39:59,556]\u001b[0m Trial 18 finished with value: -0.5995238095238093 and parameters: {'criterion': 'gini', 'bootstrap': 'True', 'max_depth': 354, 'max_features': 'sqrt', 'max_leaf_nodes': 2, 'n_estimators': 313, 'min_samples_split': 2, 'min_samples_leaf': 5}. Best is trial 15 with value: -0.26999999999999985.\u001b[0m\n",
            "\u001b[32m[I 2022-04-17 04:40:01,622]\u001b[0m Trial 19 finished with value: -0.4004761904761903 and parameters: {'criterion': 'gini', 'bootstrap': 'True', 'max_depth': 298, 'max_features': 'log2', 'max_leaf_nodes': 152, 'n_estimators': 129, 'min_samples_split': 3, 'min_samples_leaf': 9}. Best is trial 15 with value: -0.26999999999999985.\u001b[0m\n",
            "\u001b[32m[I 2022-04-17 04:40:08,392]\u001b[0m Trial 20 finished with value: -0.4071428571428569 and parameters: {'criterion': 'gini', 'bootstrap': 'True', 'max_depth': 749, 'max_features': 'log2', 'max_leaf_nodes': 767, 'n_estimators': 541, 'min_samples_split': 2, 'min_samples_leaf': 6}. Best is trial 15 with value: -0.26999999999999985.\u001b[0m\n",
            "\u001b[32m[I 2022-04-17 04:40:10,495]\u001b[0m Trial 21 finished with value: -0.5309523809523807 and parameters: {'criterion': 'gini', 'bootstrap': 'True', 'max_depth': 586, 'max_features': 'log2', 'max_leaf_nodes': 388, 'n_estimators': 131, 'min_samples_split': 4, 'min_samples_leaf': 7}. Best is trial 15 with value: -0.26999999999999985.\u001b[0m\n",
            "\u001b[32m[I 2022-04-17 04:40:12,670]\u001b[0m Trial 22 finished with value: -0.47571428571428565 and parameters: {'criterion': 'gini', 'bootstrap': 'True', 'max_depth': 883, 'max_features': 'log2', 'max_leaf_nodes': 500, 'n_estimators': 134, 'min_samples_split': 3, 'min_samples_leaf': 8}. Best is trial 15 with value: -0.26999999999999985.\u001b[0m\n",
            "\u001b[32m[I 2022-04-17 04:40:13,303]\u001b[0m Trial 23 finished with value: -0.5211904761904762 and parameters: {'criterion': 'gini', 'bootstrap': 'True', 'max_depth': 755, 'max_features': 'log2', 'max_leaf_nodes': 317, 'n_estimators': 3, 'min_samples_split': 4, 'min_samples_leaf': 8}. Best is trial 15 with value: -0.26999999999999985.\u001b[0m\n",
            "\u001b[32m[I 2022-04-17 04:40:17,316]\u001b[0m Trial 24 finished with value: -0.46238095238095217 and parameters: {'criterion': 'gini', 'bootstrap': 'True', 'max_depth': 979, 'max_features': 'log2', 'max_leaf_nodes': 213, 'n_estimators': 307, 'min_samples_split': 3, 'min_samples_leaf': 10}. Best is trial 15 with value: -0.26999999999999985.\u001b[0m\n",
            "\u001b[32m[I 2022-04-17 04:40:21,454]\u001b[0m Trial 25 finished with value: -0.5309523809523807 and parameters: {'criterion': 'gini', 'bootstrap': 'True', 'max_depth': 553, 'max_features': 'sqrt', 'max_leaf_nodes': 991, 'n_estimators': 322, 'min_samples_split': 4, 'min_samples_leaf': 7}. Best is trial 15 with value: -0.26999999999999985.\u001b[0m\n",
            "\u001b[32m[I 2022-04-17 04:40:23,844]\u001b[0m Trial 26 finished with value: -0.4071428571428569 and parameters: {'criterion': 'entropy', 'bootstrap': 'True', 'max_depth': 678, 'max_features': 'log2', 'max_leaf_nodes': 496, 'n_estimators': 142, 'min_samples_split': 3, 'min_samples_leaf': 9}. Best is trial 15 with value: -0.26999999999999985.\u001b[0m\n",
            "\u001b[32m[I 2022-04-17 04:40:30,040]\u001b[0m Trial 27 finished with value: -0.34523809523809507 and parameters: {'criterion': 'gini', 'bootstrap': 'True', 'max_depth': 405, 'max_features': 'log2', 'max_leaf_nodes': 62, 'n_estimators': 492, 'min_samples_split': 2, 'min_samples_leaf': 5}. Best is trial 15 with value: -0.26999999999999985.\u001b[0m\n",
            "\u001b[32m[I 2022-04-17 04:40:32,872]\u001b[0m Trial 28 finished with value: -0.5309523809523807 and parameters: {'criterion': 'gini', 'bootstrap': 'True', 'max_depth': 788, 'max_features': 'log2', 'max_leaf_nodes': 339, 'n_estimators': 199, 'min_samples_split': 5, 'min_samples_leaf': 6}. Best is trial 15 with value: -0.26999999999999985.\u001b[0m\n",
            "\u001b[32m[I 2022-04-17 04:40:37,508]\u001b[0m Trial 29 finished with value: -0.5309523809523807 and parameters: {'criterion': 'entropy', 'bootstrap': 'True', 'max_depth': 235, 'max_features': 'sqrt', 'max_leaf_nodes': 253, 'n_estimators': 342, 'min_samples_split': 2, 'min_samples_leaf': 9}. Best is trial 15 with value: -0.26999999999999985.\u001b[0m\n",
            "\u001b[32m[I 2022-04-17 04:40:39,114]\u001b[0m Trial 30 finished with value: -0.586190476190476 and parameters: {'criterion': 'gini', 'bootstrap': 'True', 'max_depth': 392, 'max_features': 'log2', 'max_leaf_nodes': 439, 'n_estimators': 71, 'min_samples_split': 3, 'min_samples_leaf': 8}. Best is trial 15 with value: -0.26999999999999985.\u001b[0m\n",
            "\u001b[32m[I 2022-04-17 04:40:45,083]\u001b[0m Trial 31 finished with value: -0.4071428571428569 and parameters: {'criterion': 'gini', 'bootstrap': 'True', 'max_depth': 423, 'max_features': 'log2', 'max_leaf_nodes': 82, 'n_estimators': 470, 'min_samples_split': 2, 'min_samples_leaf': 5}. Best is trial 15 with value: -0.26999999999999985.\u001b[0m\n",
            "\u001b[32m[I 2022-04-17 04:40:51,522]\u001b[0m Trial 32 finished with value: -0.2833333333333332 and parameters: {'criterion': 'gini', 'bootstrap': 'True', 'max_depth': 357, 'max_features': 'log2', 'max_leaf_nodes': 148, 'n_estimators': 529, 'min_samples_split': 2, 'min_samples_leaf': 5}. Best is trial 15 with value: -0.26999999999999985.\u001b[0m\n",
            "\u001b[32m[I 2022-04-17 04:40:58,803]\u001b[0m Trial 33 finished with value: -0.4071428571428569 and parameters: {'criterion': 'gini', 'bootstrap': 'True', 'max_depth': 320, 'max_features': 'log2', 'max_leaf_nodes': 171, 'n_estimators': 595, 'min_samples_split': 2, 'min_samples_leaf': 4}. Best is trial 15 with value: -0.26999999999999985.\u001b[0m\n",
            "\u001b[32m[I 2022-04-17 04:41:03,958]\u001b[0m Trial 34 finished with value: -0.4690476190476189 and parameters: {'criterion': 'gini', 'bootstrap': 'False', 'max_depth': 220, 'max_features': 'log2', 'max_leaf_nodes': 130, 'n_estimators': 394, 'min_samples_split': 2, 'min_samples_leaf': 7}. Best is trial 15 with value: -0.26999999999999985.\u001b[0m\n",
            "\u001b[32m[I 2022-04-17 04:41:12,589]\u001b[0m Trial 35 finished with value: -0.4004761904761903 and parameters: {'criterion': 'gini', 'bootstrap': 'True', 'max_depth': 164, 'max_features': 'sqrt', 'max_leaf_nodes': 263, 'n_estimators': 711, 'min_samples_split': 3, 'min_samples_leaf': 6}. Best is trial 15 with value: -0.26999999999999985.\u001b[0m\n",
            "\u001b[32m[I 2022-04-17 04:41:16,339]\u001b[0m Trial 36 finished with value: -0.47571428571428565 and parameters: {'criterion': 'gini', 'bootstrap': 'False', 'max_depth': 38, 'max_features': 'auto', 'max_leaf_nodes': 48, 'n_estimators': 276, 'min_samples_split': 2, 'min_samples_leaf': 3}. Best is trial 15 with value: -0.26999999999999985.\u001b[0m\n",
            "\u001b[32m[I 2022-04-17 04:41:19,147]\u001b[0m Trial 37 finished with value: -0.2766666666666665 and parameters: {'criterion': 'entropy', 'bootstrap': 'True', 'max_depth': 512, 'max_features': 'log2', 'max_leaf_nodes': 203, 'n_estimators': 184, 'min_samples_split': 5, 'min_samples_leaf': 7}. Best is trial 15 with value: -0.26999999999999985.\u001b[0m\n",
            "\u001b[32m[I 2022-04-17 04:41:24,130]\u001b[0m Trial 38 finished with value: -0.3385714285714284 and parameters: {'criterion': 'entropy', 'bootstrap': 'True', 'max_depth': 472, 'max_features': 'auto', 'max_leaf_nodes': 204, 'n_estimators': 369, 'min_samples_split': 5, 'min_samples_leaf': 10}. Best is trial 15 with value: -0.26999999999999985.\u001b[0m\n",
            "\u001b[32m[I 2022-04-17 04:41:26,718]\u001b[0m Trial 39 finished with value: -0.2766666666666665 and parameters: {'criterion': 'entropy', 'bootstrap': 'False', 'max_depth': 504, 'max_features': 'auto', 'max_leaf_nodes': 218, 'n_estimators': 188, 'min_samples_split': 5, 'min_samples_leaf': 10}. Best is trial 15 with value: -0.26999999999999985.\u001b[0m\n",
            "\u001b[32m[I 2022-04-17 04:41:29,477]\u001b[0m Trial 40 finished with value: -0.5995238095238093 and parameters: {'criterion': 'entropy', 'bootstrap': 'False', 'max_depth': 528, 'max_features': 'auto', 'max_leaf_nodes': 337, 'n_estimators': 168, 'min_samples_split': 5, 'min_samples_leaf': 3}. Best is trial 15 with value: -0.26999999999999985.\u001b[0m\n",
            "\u001b[32m[I 2022-04-17 04:41:36,299]\u001b[0m Trial 41 finished with value: -0.46238095238095217 and parameters: {'criterion': 'entropy', 'bootstrap': 'False', 'max_depth': 480, 'max_features': 'auto', 'max_leaf_nodes': 197, 'n_estimators': 556, 'min_samples_split': 5, 'min_samples_leaf': 10}. Best is trial 15 with value: -0.26999999999999985.\u001b[0m\n",
            "\u001b[32m[I 2022-04-17 04:41:41,423]\u001b[0m Trial 42 finished with value: -0.586190476190476 and parameters: {'criterion': 'entropy', 'bootstrap': 'False', 'max_depth': 449, 'max_features': 'auto', 'max_leaf_nodes': 110, 'n_estimators': 379, 'min_samples_split': 5, 'min_samples_leaf': 10}. Best is trial 15 with value: -0.26999999999999985.\u001b[0m\n",
            "\u001b[32m[I 2022-04-17 04:41:47,273]\u001b[0m Trial 43 finished with value: -0.4690476190476189 and parameters: {'criterion': 'entropy', 'bootstrap': 'False', 'max_depth': 624, 'max_features': 'auto', 'max_leaf_nodes': 238, 'n_estimators': 450, 'min_samples_split': 5, 'min_samples_leaf': 10}. Best is trial 15 with value: -0.26999999999999985.\u001b[0m\n",
            "\u001b[32m[I 2022-04-17 04:41:48,659]\u001b[0m Trial 44 finished with value: -0.5242857142857142 and parameters: {'criterion': 'entropy', 'bootstrap': 'False', 'max_depth': 515, 'max_features': 'log2', 'max_leaf_nodes': 691, 'n_estimators': 61, 'min_samples_split': 5, 'min_samples_leaf': 7}. Best is trial 15 with value: -0.26999999999999985.\u001b[0m\n",
            "\u001b[32m[I 2022-04-17 04:41:51,452]\u001b[0m Trial 45 finished with value: -0.5242857142857142 and parameters: {'criterion': 'entropy', 'bootstrap': 'False', 'max_depth': 631, 'max_features': 'auto', 'max_leaf_nodes': 107, 'n_estimators': 176, 'min_samples_split': 5, 'min_samples_leaf': 9}. Best is trial 15 with value: -0.26999999999999985.\u001b[0m\n",
            "\u001b[32m[I 2022-04-17 04:41:54,943]\u001b[0m Trial 46 finished with value: -0.4690476190476189 and parameters: {'criterion': 'entropy', 'bootstrap': 'True', 'max_depth': 589, 'max_features': 'log2', 'max_leaf_nodes': 37, 'n_estimators': 268, 'min_samples_split': 3, 'min_samples_leaf': 8}. Best is trial 15 with value: -0.26999999999999985.\u001b[0m\n",
            "\u001b[32m[I 2022-04-17 04:42:04,659]\u001b[0m Trial 47 finished with value: -0.3385714285714284 and parameters: {'criterion': 'entropy', 'bootstrap': 'False', 'max_depth': 690, 'max_features': 'log2', 'max_leaf_nodes': 149, 'n_estimators': 835, 'min_samples_split': 4, 'min_samples_leaf': 9}. Best is trial 15 with value: -0.26999999999999985.\u001b[0m\n",
            "\u001b[32m[I 2022-04-17 04:42:12,417]\u001b[0m Trial 48 finished with value: -0.5995238095238093 and parameters: {'criterion': 'entropy', 'bootstrap': 'True', 'max_depth': 366, 'max_features': 'auto', 'max_leaf_nodes': 208, 'n_estimators': 655, 'min_samples_split': 5, 'min_samples_leaf': 5}. Best is trial 15 with value: -0.26999999999999985.\u001b[0m\n",
            "\u001b[32m[I 2022-04-17 04:42:14,223]\u001b[0m Trial 49 finished with value: -0.5242857142857142 and parameters: {'criterion': 'entropy', 'bootstrap': 'True', 'max_depth': 522, 'max_features': 'sqrt', 'max_leaf_nodes': 109, 'n_estimators': 99, 'min_samples_split': 2, 'min_samples_leaf': 8}. Best is trial 15 with value: -0.26999999999999985.\u001b[0m\n"
          ]
        },
        {
          "output_type": "stream",
          "name": "stdout",
          "text": [
            "Accuracy: -0.26999999999999985\n",
            "TrainAccuracy: 0.8767123287671232\n",
            "Accuracy: 0.8421052631578947\n",
            "              precision    recall  f1-score   support\n",
            "\n",
            "         0.0       0.83      0.91      0.87        11\n",
            "         1.0       0.86      0.75      0.80         8\n",
            "\n",
            "    accuracy                           0.84        19\n",
            "   macro avg       0.85      0.83      0.83        19\n",
            "weighted avg       0.84      0.84      0.84        19\n",
            "\n",
            "フィーチャー名：   emphysemaは出力データの結果に   5.80%関与しています\n",
            "フィーチャー名：         ageは出力データの結果に   7.75%関与しています\n",
            "フィーチャー名：         LDHは出力データの結果に   8.35%関与しています\n",
            "フィーチャー名：Collagen-diseaseは出力データの結果に   8.36%関与しています\n",
            "フィーチャー名：   P/F-ratioは出力データの結果に   9.05%関与しています\n",
            "フィーチャー名：Brinkman-Indexは出力データの結果に   9.45%関与しています\n",
            "フィーチャー名：Baseline-ILDは出力データの結果に  11.17%関与しています\n",
            "フィーチャー名：         sexは出力データの結果に  12.07%関与しています\n",
            "フィーチャー名：        IPAFは出力データの結果に  12.52%関与しています\n",
            "フィーチャー名：smoking-statusは出力データの結果に  15.48%関与しています\n"
          ]
        }
      ]
    },
    {
      "cell_type": "markdown",
      "source": [
        "混同行列で予測結果を確認していきましょう。"
      ],
      "metadata": {
        "id": "PGyEBEKkHRuM"
      }
    },
    {
      "cell_type": "code",
      "source": [
        "result = confusion_matrix(y_val, y_pred_op)\n",
        "print(\"Confusion Matrix:\")\n",
        "#confusion matrix\n",
        "labels = sorted(finalized_df_c['90day-mortality'].unique())\n",
        "ax = sns.heatmap(\n",
        "confusion_matrix(y_val, y_pred_op),\n",
        "annot=True,\n",
        "xticklabels=labels,\n",
        "yticklabels=labels\n",
        ")\n",
        "ax.set(xlabel='true label', ylabel='predicted label')"
      ],
      "metadata": {
        "id": "bm2eeNDBHS_R",
        "colab": {
          "base_uri": "https://localhost:8080/",
          "height": 324
        },
        "outputId": "093890c2-d25f-4bfb-eb3d-3a596369ceef"
      },
      "execution_count": 19,
      "outputs": [
        {
          "output_type": "stream",
          "name": "stdout",
          "text": [
            "Confusion Matrix:\n"
          ]
        },
        {
          "output_type": "execute_result",
          "data": {
            "text/plain": [
              "[Text(30.5, 0.5, 'predicted label'), Text(0.5, 12.5, 'true label')]"
            ]
          },
          "metadata": {},
          "execution_count": 19
        },
        {
          "output_type": "display_data",
          "data": {
            "text/plain": [
              "<Figure size 432x288 with 2 Axes>"
            ],
            "image/png": "[encoded data removed]"
          },
          "metadata": {
            "needs_background": "light"
          }
        }
      ]
    },
    {
      "cell_type": "markdown",
      "source": [
        "**TODO: 柴木様**\n",
        "\n",
        "解析を終え、結果についての発表・及びその重要度の説明"
      ],
      "metadata": {
        "id": "aWg4ynNXR1Gx"
      }
    },
    {
      "cell_type": "markdown",
      "source": [
        "## 学習モデルの保存"
      ],
      "metadata": {
        "id": "Tp56SPweJceL"
      }
    },
    {
      "cell_type": "markdown",
      "source": [
        "モデルは訓練中にも、訓練が終わったあとも保存できます。このことは、長い訓練時間を掛けなくても、やめたところから再開できるということを意味します。モデルが保存可能であることは、あなたが作ったモデルを他の人と共有できるということでもあります。\n",
        "\n",
        "保存方法としてはJoblibというSciPyのライブラリを使用します。JoblibはPythonのジョブをパイプライン処理するためのユーティリティを提供しています。NumPyデータ構造を効率的に利用するPythonオブジェクトの保存とロードを行うユーティリティを提供します。"
      ],
      "metadata": {
        "id": "V-DJFRFEI9as"
      }
    },
    {
      "cell_type": "code",
      "source": [
        "# モデルを./outに保存\n",
        "filename = 'out/finalized_model.joblib'\n",
        "joblib.dump(rforest_model_post_optuna_opt, filename)\n",
        "\n",
        "# モデルをGoogle Driveに保存\n",
        "!cp 'out/finalized_model.joblib' '/content/drive/MyDrive/shibaki analysis/'\n",
        "\n",
        "# モデルをGoogle Driveからロードしたい場合\n",
        "loaded_model_optuna_rf = joblib.load(\"/content/drive/MyDrive/shibaki analysis/finalized_model.joblib\")\n",
        "\n",
        "# テスト用データフレームから重要因子以外を取り除く\n",
        "X_test = X_test.drop(columns=[col for col in X_test.columns if col not in top_ten_params])\n",
        "\n",
        "# 検証データにrforest_modelに.predict()関数を応用し、RFモデルがラベルを何個正確に予測出来たかを検証する\n",
        "y_pred_final = loaded_model_optuna_rf.predict(X_test)\n",
        "\n",
        "#モデルを作成する段階でのモデルの識別精度\n",
        "trainaccuracy_random_forest_final = loaded_model_optuna_rf.score(X_test, y_test)\n",
        "print('TrainAccuracy: {}'.format(trainaccuracy_random_forest_final))\n",
        "\n",
        "#作成したモデルに学習に使用していない評価用のデータセットを入力し精度を確認\n",
        "accuracy_random_forest_final = accuracy_score(y_test, y_pred_final)\n",
        "print('Accuracy: {}'.format(accuracy_random_forest_final))\n",
        "\n",
        "# 正確性の出力\n",
        "print(classification_report(y_test, y_pred_final))\n",
        "\n",
        "result = confusion_matrix(y_test, y_pred_final)\n",
        "print(\"Confusion Matrix:\")\n",
        "#confusion matrix\n",
        "labels = sorted(finalized_df_c['90day-mortality'].unique())\n",
        "ax = sns.heatmap(\n",
        "confusion_matrix(y_test, y_pred_final),\n",
        "annot=True,\n",
        "xticklabels=labels,\n",
        "yticklabels=labels\n",
        ")\n",
        "ax.set(xlabel='true label', ylabel='predicted label')"
      ],
      "metadata": {
        "id": "L3nOSHEkIkaZ",
        "colab": {
          "base_uri": "https://localhost:8080/",
          "height": 739
        },
        "outputId": "8bc3083b-0df9-456b-f572-c56446d75a88"
      },
      "execution_count": 20,
      "outputs": [
        {
          "output_type": "stream",
          "name": "stdout",
          "text": [
            "TrainAccuracy: 0.8333333333333334\n",
            "Accuracy: 0.8333333333333334\n",
            "              precision    recall  f1-score   support\n",
            "\n",
            "         0.0       0.83      1.00      0.91        15\n",
            "         1.0       0.00      0.00      0.00         3\n",
            "\n",
            "    accuracy                           0.83        18\n",
            "   macro avg       0.42      0.50      0.45        18\n",
            "weighted avg       0.69      0.83      0.76        18\n",
            "\n",
            "Confusion Matrix:\n"
          ]
        },
        {
          "output_type": "stream",
          "name": "stderr",
          "text": [
            "/usr/local/lib/python3.7/dist-packages/sklearn/metrics/_classification.py:1318: UndefinedMetricWarning:\n",
            "\n",
            "Precision and F-score are ill-defined and being set to 0.0 in labels with no predicted samples. Use `zero_division` parameter to control this behavior.\n",
            "\n",
            "/usr/local/lib/python3.7/dist-packages/sklearn/metrics/_classification.py:1318: UndefinedMetricWarning:\n",
            "\n",
            "Precision and F-score are ill-defined and being set to 0.0 in labels with no predicted samples. Use `zero_division` parameter to control this behavior.\n",
            "\n",
            "/usr/local/lib/python3.7/dist-packages/sklearn/metrics/_classification.py:1318: UndefinedMetricWarning:\n",
            "\n",
            "Precision and F-score are ill-defined and being set to 0.0 in labels with no predicted samples. Use `zero_division` parameter to control this behavior.\n",
            "\n"
          ]
        },
        {
          "output_type": "execute_result",
          "data": {
            "text/plain": [
              "[Text(30.5, 0.5, 'predicted label'), Text(0.5, 12.5, 'true label')]"
            ]
          },
          "metadata": {},
          "execution_count": 20
        },
        {
          "output_type": "display_data",
          "data": {
            "text/plain": [
              "<Figure size 432x288 with 2 Axes>"
            ],
            "image/png": "[encoded data removed]"
          },
          "metadata": {
            "needs_background": "light"
          }
        }
      ]
    },
    {
      "cell_type": "markdown",
      "source": [
        "## 終わりに"
      ],
      "metadata": {
        "id": "DZkWrIMjRIaT"
      }
    },
    {
      "cell_type": "markdown",
      "source": [
        "今研究では、和歌山医科大学の保有する、線維化を伴う間質性肺炎の急性増悪の多施設後ろ向き実態調査に登録された患者において急性増悪中に施行されたBAL液中のサイトカインやケモカインのデータを用いて、間質性肺炎の予後予測因子の抽出と予後予測に取り組みました。\n",
        "\n",
        "解析内容の要約は以下となります。\n",
        "1.   環境構築\n",
        "2.   データ前処理\n",
        "3.   RF解析モデル構築\n",
        "4.   妥当性の検証・ハイパーパラメーターチューニング\n",
        "5.   特徴量重要度の評価\n",
        "6.   特徴量重要の評価に基づきモデル再構築\n",
        "\n",
        "精度向上に向けて様々な手法を試してみましたが，今回のタスクにおいては，どの工夫が有効に働くか自明で無い場合がほとんどです．従って，試行錯誤を行いながら，その問題設定に適合するやり方を模索していく必要があります．\n",
        "\n",
        "さらなる取り組みとしては，例えば下記内容を検討する余地があります。\n",
        "\n",
        "\n",
        "* クラス不均衡データへの対応\n",
        "  - サンプリング\n",
        "      - 不均衡データセットからサンプリングを行い，クラス比率のバランスが取れたデータセットを作成．\n",
        "    - **Undersampling** : 大多数の正常サンプルを削減．\n",
        "    - **Oversampling**  : 少数の異常サンプルを水増し．  \n",
        "  - 損失関数の重み調整\n",
        "    - 正常サンプルを異常と誤分類した際のペナルティを小さく，異常サンプルを正常と誤分類した際のペナルティを大きくする．\n",
        "    - 例えば，サンプル数の存在比率の逆数を重みとして利用．\n",
        "  - 目的関数(損失関数)の変更\n",
        "    - 異常サンプルに対する予測スコアを向上させるような目的関数を導入．\n",
        "  - 異常検知\n",
        "    - 正常サンプルのデータ分布を仮定し，そこから十分に逸脱したサンプルを異常とみなす．\n",
        "\n",
        "* 前処理の工夫\n",
        "  - ラベルの追加\n",
        "    - 生存者・死者加えて，新たな目的関数を考慮する．\n",
        "  - ラベルの与え方の変更\n",
        "      * セグメント範囲内に正常以外のピークラベルが含まれる場合に優先的にそのラベルを付与する，等．\n",
        "\n",
        "* モデルの変更等\n",
        "  - ランダムフォレスト以外の機械学習モデルを導入する\n"
      ],
      "metadata": {
        "id": "pUphjw9xClpF"
      }
    },
    {
      "cell_type": "markdown",
      "source": [
        "## 参考文献"
      ],
      "metadata": {
        "id": "_3R_5a-Bfkc4"
      }
    },
    {
      "cell_type": "markdown",
      "source": [
        "**TODO: 柴木様**\n",
        "\n"
      ],
      "metadata": {
        "id": "0ZY3i9f1fsqa"
      }
    }
  ]
}