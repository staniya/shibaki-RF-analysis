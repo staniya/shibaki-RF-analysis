{
  "nbformat": 4,
  "nbformat_minor": 0,
  "metadata": {
    "colab": {
      "name": "BAL_RS_Ver2.0",
      "provenance": [],
      "collapsed_sections": [],
      "authorship_tag": "ABX9TyNfRUWM4UDPWud9gVj5Yj2j",
      "include_colab_link": true
    },
    "kernelspec": {
      "name": "python3",
      "display_name": "Python 3"
    },
    "language_info": {
      "name": "python"
    }
  },
  "cells": [
    {
      "cell_type": "markdown",
      "metadata": {
        "id": "view-in-github",
        "colab_type": "text"
      },
      "source": [
        "<a href=\"https://colab.research.google.com/github/staniya/shibaki-RF-analysis/blob/main/BAL_RS_Ver2_0.ipynb\" target=\"_parent\"><img src=\"https://colab.research.google.com/assets/colab-badge.svg\" alt=\"Open In Colab\"/></a>"
      ]
    },
    {
      "cell_type": "markdown",
      "source": [
        "# RFモデルを使ったBALデータの解析"
      ],
      "metadata": {
        "id": "CTHOUNH1uq_p"
      }
    },
    {
      "cell_type": "markdown",
      "source": [
        "**TODO: 柴木様**\n",
        "\n",
        "今回の解析内容についての説明文\n",
        "（下記でBAL研究内容について説明するためここでは深層学習についての説明を入れる)"
      ],
      "metadata": {
        "id": "1vu98ohVvxdE"
      }
    },
    {
      "cell_type": "markdown",
      "source": [
        "## 環境構築"
      ],
      "metadata": {
        "id": "tSsbBF5Jv-Bp"
      }
    },
    {
      "cell_type": "markdown",
      "source": [
        "本章では、下記のライブラリを利用します。"
      ],
      "metadata": {
        "id": "VOY7BGQywFZy"
      }
    },
    {
      "cell_type": "markdown",
      "source": [
        "*  Collections  \n",
        "*  Data Synthesizer\n",
        "*  Google Colab\n",
        "*  Joblib\n",
        "*  Matplotlib\n",
        "*  Numpy\n",
        "*  Optuna\n",
        "*  os\n",
        "*  Pandas\n",
        "*  Seaborn\n",
        "*  Scikit-learn\n",
        "*  sys\n",
        "*  TensorFlow\n"
      ],
      "metadata": {
        "id": "dKVIvrFCwLtH"
      }
    },
    {
      "cell_type": "markdown",
      "source": [
        "以下のセルを実行（Shift + Enter)して必要なライブラリをインストールして下さい。"
      ],
      "metadata": {
        "id": "3ZMH5Zwlx0V8"
      }
    },
    {
      "cell_type": "code",
      "source": [
        "!python -m pip install openpyxl==3.0\n",
        "!pip install -q DataSynthesizer\n",
        "!pip install optuna\n",
        "!apt-get install tree"
      ],
      "metadata": {
        "colab": {
          "base_uri": "https://localhost:8080/"
        },
        "id": "7Dylx1ljwTQ1",
        "outputId": "13473830-d7b7-4c53-8c49-fd093430e317"
      },
      "execution_count": 1,
      "outputs": [
        {
          "output_type": "stream",
          "name": "stdout",
          "text": [
            "Collecting openpyxl==3.0\n",
            "  Downloading openpyxl-3.0.0.tar.gz (172 kB)\n",
            "\u001b[?25l\r\u001b[K     |██                              | 10 kB 22.1 MB/s eta 0:00:01\r\u001b[K     |███▉                            | 20 kB 25.7 MB/s eta 0:00:01\r\u001b[K     |█████▊                          | 30 kB 21.2 MB/s eta 0:00:01\r\u001b[K     |███████▋                        | 40 kB 14.0 MB/s eta 0:00:01\r\u001b[K     |█████████▌                      | 51 kB 13.6 MB/s eta 0:00:01\r\u001b[K     |███████████▍                    | 61 kB 15.4 MB/s eta 0:00:01\r\u001b[K     |█████████████▎                  | 71 kB 14.3 MB/s eta 0:00:01\r\u001b[K     |███████████████▏                | 81 kB 15.6 MB/s eta 0:00:01\r\u001b[K     |█████████████████               | 92 kB 17.2 MB/s eta 0:00:01\r\u001b[K     |███████████████████             | 102 kB 17.4 MB/s eta 0:00:01\r\u001b[K     |████████████████████▉           | 112 kB 17.4 MB/s eta 0:00:01\r\u001b[K     |██████████████████████▊         | 122 kB 17.4 MB/s eta 0:00:01\r\u001b[K     |████████████████████████▋       | 133 kB 17.4 MB/s eta 0:00:01\r\u001b[K     |██████████████████████████▌     | 143 kB 17.4 MB/s eta 0:00:01\r\u001b[K     |████████████████████████████▌   | 153 kB 17.4 MB/s eta 0:00:01\r\u001b[K     |██████████████████████████████▍ | 163 kB 17.4 MB/s eta 0:00:01\r\u001b[K     |████████████████████████████████| 172 kB 17.4 MB/s \n",
            "\u001b[?25hCollecting jdcal\n",
            "  Downloading jdcal-1.4.1-py2.py3-none-any.whl (9.5 kB)\n",
            "Requirement already satisfied: et_xmlfile in /usr/local/lib/python3.7/dist-packages (from openpyxl==3.0) (1.1.0)\n",
            "Building wheels for collected packages: openpyxl\n",
            "  Building wheel for openpyxl (setup.py) ... \u001b[?25l\u001b[?25hdone\n",
            "  Created wheel for openpyxl: filename=openpyxl-3.0.0-py2.py3-none-any.whl size=241207 sha256=b8e31a5083416c842236b50f478771e623288bfdea756035006dddb3787354de\n",
            "  Stored in directory: /root/.cache/pip/wheels/c7/64/ff/ce98f6e1d2701ae8e216c875da62feed2839ac8a3cae0ab8af\n",
            "Successfully built openpyxl\n",
            "Installing collected packages: jdcal, openpyxl\n",
            "  Attempting uninstall: openpyxl\n",
            "    Found existing installation: openpyxl 3.0.9\n",
            "    Uninstalling openpyxl-3.0.9:\n",
            "      Successfully uninstalled openpyxl-3.0.9\n",
            "Successfully installed jdcal-1.4.1 openpyxl-3.0.0\n",
            "Collecting optuna\n",
            "  Downloading optuna-2.10.0-py3-none-any.whl (308 kB)\n",
            "\u001b[K     |████████████████████████████████| 308 kB 10.1 MB/s \n",
            "\u001b[?25hCollecting alembic\n",
            "  Downloading alembic-1.7.7-py3-none-any.whl (210 kB)\n",
            "\u001b[K     |████████████████████████████████| 210 kB 36.2 MB/s \n",
            "\u001b[?25hCollecting cliff\n",
            "  Downloading cliff-3.10.1-py3-none-any.whl (81 kB)\n",
            "\u001b[K     |████████████████████████████████| 81 kB 4.8 MB/s \n",
            "\u001b[?25hRequirement already satisfied: scipy!=1.4.0 in /usr/local/lib/python3.7/dist-packages (from optuna) (1.4.1)\n",
            "Requirement already satisfied: PyYAML in /usr/local/lib/python3.7/dist-packages (from optuna) (3.13)\n",
            "Requirement already satisfied: packaging>=20.0 in /usr/local/lib/python3.7/dist-packages (from optuna) (21.3)\n",
            "Requirement already satisfied: tqdm in /usr/local/lib/python3.7/dist-packages (from optuna) (4.63.0)\n",
            "Requirement already satisfied: numpy in /usr/local/lib/python3.7/dist-packages (from optuna) (1.21.5)\n",
            "Collecting cmaes>=0.8.2\n",
            "  Downloading cmaes-0.8.2-py3-none-any.whl (15 kB)\n",
            "Collecting colorlog\n",
            "  Downloading colorlog-6.6.0-py2.py3-none-any.whl (11 kB)\n",
            "Requirement already satisfied: sqlalchemy>=1.1.0 in /usr/local/lib/python3.7/dist-packages (from optuna) (1.4.32)\n",
            "Requirement already satisfied: pyparsing!=3.0.5,>=2.0.2 in /usr/local/lib/python3.7/dist-packages (from packaging>=20.0->optuna) (3.0.7)\n",
            "Requirement already satisfied: greenlet!=0.4.17 in /usr/local/lib/python3.7/dist-packages (from sqlalchemy>=1.1.0->optuna) (1.1.2)\n",
            "Requirement already satisfied: importlib-metadata in /usr/local/lib/python3.7/dist-packages (from sqlalchemy>=1.1.0->optuna) (4.11.2)\n",
            "Requirement already satisfied: importlib-resources in /usr/local/lib/python3.7/dist-packages (from alembic->optuna) (5.4.0)\n",
            "Collecting Mako\n",
            "  Downloading Mako-1.2.0-py3-none-any.whl (78 kB)\n",
            "\u001b[K     |████████████████████████████████| 78 kB 3.3 MB/s \n",
            "\u001b[?25hCollecting stevedore>=2.0.1\n",
            "  Downloading stevedore-3.5.0-py3-none-any.whl (49 kB)\n",
            "\u001b[K     |████████████████████████████████| 49 kB 2.7 MB/s \n",
            "\u001b[?25hCollecting cmd2>=1.0.0\n",
            "  Downloading cmd2-2.4.0-py3-none-any.whl (150 kB)\n",
            "\u001b[K     |████████████████████████████████| 150 kB 12.4 MB/s \n",
            "\u001b[?25hCollecting autopage>=0.4.0\n",
            "  Downloading autopage-0.5.0-py3-none-any.whl (29 kB)\n",
            "Collecting pbr!=2.1.0,>=2.0.0\n",
            "  Downloading pbr-5.8.1-py2.py3-none-any.whl (113 kB)\n",
            "\u001b[K     |████████████████████████████████| 113 kB 42.1 MB/s \n",
            "\u001b[?25hRequirement already satisfied: PrettyTable>=0.7.2 in /usr/local/lib/python3.7/dist-packages (from cliff->optuna) (3.2.0)\n",
            "Requirement already satisfied: typing-extensions in /usr/local/lib/python3.7/dist-packages (from cmd2>=1.0.0->cliff->optuna) (3.10.0.2)\n",
            "Requirement already satisfied: wcwidth>=0.1.7 in /usr/local/lib/python3.7/dist-packages (from cmd2>=1.0.0->cliff->optuna) (0.2.5)\n",
            "Collecting pyperclip>=1.6\n",
            "  Downloading pyperclip-1.8.2.tar.gz (20 kB)\n",
            "Requirement already satisfied: attrs>=16.3.0 in /usr/local/lib/python3.7/dist-packages (from cmd2>=1.0.0->cliff->optuna) (21.4.0)\n",
            "Requirement already satisfied: zipp>=0.5 in /usr/local/lib/python3.7/dist-packages (from importlib-metadata->sqlalchemy>=1.1.0->optuna) (3.7.0)\n",
            "Requirement already satisfied: MarkupSafe>=0.9.2 in /usr/local/lib/python3.7/dist-packages (from Mako->alembic->optuna) (2.0.1)\n",
            "Building wheels for collected packages: pyperclip\n",
            "  Building wheel for pyperclip (setup.py) ... \u001b[?25l\u001b[?25hdone\n",
            "  Created wheel for pyperclip: filename=pyperclip-1.8.2-py3-none-any.whl size=11137 sha256=30a07cdf44a82c19840ad0c93a817f63f7fa90d2be6632279b6c8df3e2b0682f\n",
            "  Stored in directory: /root/.cache/pip/wheels/9f/18/84/8f69f8b08169c7bae2dde6bd7daf0c19fca8c8e500ee620a28\n",
            "Successfully built pyperclip\n",
            "Installing collected packages: pyperclip, pbr, stevedore, Mako, cmd2, autopage, colorlog, cmaes, cliff, alembic, optuna\n",
            "Successfully installed Mako-1.2.0 alembic-1.7.7 autopage-0.5.0 cliff-3.10.1 cmaes-0.8.2 cmd2-2.4.0 colorlog-6.6.0 optuna-2.10.0 pbr-5.8.1 pyperclip-1.8.2 stevedore-3.5.0\n",
            "Reading package lists... Done\n",
            "Building dependency tree       \n",
            "Reading state information... Done\n",
            "The following NEW packages will be installed:\n",
            "  tree\n",
            "0 upgraded, 1 newly installed, 0 to remove and 39 not upgraded.\n",
            "Need to get 40.7 kB of archives.\n",
            "After this operation, 105 kB of additional disk space will be used.\n",
            "Get:1 http://archive.ubuntu.com/ubuntu bionic/universe amd64 tree amd64 1.7.0-5 [40.7 kB]\n",
            "Fetched 40.7 kB in 0s (174 kB/s)\n",
            "Selecting previously unselected package tree.\n",
            "(Reading database ... 155335 files and directories currently installed.)\n",
            "Preparing to unpack .../tree_1.7.0-5_amd64.deb ...\n",
            "Unpacking tree (1.7.0-5) ...\n",
            "Setting up tree (1.7.0-5) ...\n",
            "Processing triggers for man-db (2.8.3-2ubuntu0.1) ...\n"
          ]
        }
      ]
    },
    {
      "cell_type": "markdown",
      "source": [
        "インストールが完了したら以下のセルを実行して，各ライブラリのインポート，及びバージョン確認を行って下さい."
      ],
      "metadata": {
        "id": "ewBmARaZyKfw"
      }
    },
    {
      "cell_type": "code",
      "execution_count": 27,
      "metadata": {
        "colab": {
          "base_uri": "https://localhost:8080/"
        },
        "id": "f0TJsNytuc4F",
        "outputId": "4b4cceb8-b59b-4fcd-82f4-cb1342a21b2d"
      },
      "outputs": [
        {
          "output_type": "stream",
          "name": "stdout",
          "text": [
            "Data Synthesizer:  0.1.10\n",
            "Google Colab Python: \n",
            "Python 3.7.12\n",
            "\n",
            "Joblib:  1.1.0\n",
            "Matplotlib:  3.2.2\n",
            "Numpy:  1.21.5\n",
            "Optuna:  2.10.0\n",
            "pandas:  1.3.5\n",
            "Seaborn:  0.11.2\n",
            "Scikit-learn:  1.0.2\n",
            "TensorFlow:  2.8.0\n"
          ]
        }
      ],
      "source": [
        "from collections import OrderedDict\n",
        "\n",
        "import DataSynthesizer\n",
        "from DataSynthesizer.DataDescriber import DataDescriber\n",
        "from DataSynthesizer.DataGenerator import DataGenerator\n",
        "from DataSynthesizer.ModelInspector import ModelInspector\n",
        "from DataSynthesizer.lib.utils import read_json_file, display_bayesian_network\n",
        "\n",
        "from google.colab import drive\n",
        "import joblib\n",
        "import matplotlib as mpl\n",
        "import matplotlib.pyplot as plt\n",
        "%matplotlib inline\n",
        "import numpy as np\n",
        "import optuna\n",
        "import os\n",
        "import pandas as pd\n",
        "import seaborn as sns\n",
        "\n",
        "import sklearn\n",
        "from sklearn import tree\n",
        "from sklearn import ensemble\n",
        "from sklearn.impute import SimpleImputer\n",
        "from sklearn.metrics import accuracy_score, confusion_matrix, classification_report\n",
        "from sklearn.model_selection import train_test_split, cross_val_score\n",
        "\n",
        "import sys\n",
        "sys.path.append('models')\n",
        "\n",
        "import tensorflow as tf\n",
        "\n",
        "print(\"Data Synthesizer: \", DataSynthesizer.__version__)\n",
        "print(\"Google Colab Python: \")\n",
        "!python --version\n",
        "print(\"\\nJoblib: \", joblib.__version__)\n",
        "print(\"Matplotlib: \", mpl.__version__)\n",
        "print(\"Numpy: \", np.__version__)\n",
        "print(\"Optuna: \", optuna.__version__)\n",
        "print(\"pandas: \", pd.__version__)\n",
        "print(\"Seaborn: \", sns.__version__)\n",
        "print(\"Scikit-learn: \", sklearn.__version__)\n",
        "print(\"TensorFlow: \", tf.__version__)"
      ]
    },
    {
      "cell_type": "markdown",
      "source": [
        "## BAL研究について"
      ],
      "metadata": {
        "id": "H3Vq2J6xz-BX"
      }
    },
    {
      "cell_type": "markdown",
      "source": [
        "**TODO: 柴木様**\n",
        "\n",
        "BAL研究の説明及び図表をここに入れる"
      ],
      "metadata": {
        "id": "h3GNCoHRMT1m"
      }
    },
    {
      "cell_type": "markdown",
      "source": [
        "## 使用するデータセット"
      ],
      "metadata": {
        "id": "GJ2cjyia0SgH"
      }
    },
    {
      "cell_type": "markdown",
      "source": [
        "**TODO: 柴木様**\n",
        "\n",
        "データセットについての説明文"
      ],
      "metadata": {
        "id": "KHrb_zp00WOv"
      }
    },
    {
      "cell_type": "code",
      "source": [
        "from google.colab import drive\n",
        "drive.mount('/content/drive')\n",
        "!cp '/content/drive/MyDrive/shibaki analysis/AE-FILD BAL patient_data.xlsx' patient_data.xlsx"
      ],
      "metadata": {
        "colab": {
          "base_uri": "https://localhost:8080/"
        },
        "id": "Bw4vN16c0bLg",
        "outputId": "ca517362-9e43-43f8-e712-5619ad1dfad1"
      },
      "execution_count": 3,
      "outputs": [
        {
          "output_type": "stream",
          "name": "stdout",
          "text": [
            "Mounted at /content/drive\n"
          ]
        }
      ]
    },
    {
      "cell_type": "markdown",
      "source": [
        "無事ダウンロードが完了すると， /content/driveフォルダがローカル環境にマウントされます。"
      ],
      "metadata": {
        "id": "13GjBppJ02aU"
      }
    },
    {
      "cell_type": "markdown",
      "source": [
        "## データ前処理"
      ],
      "metadata": {
        "id": "T_nwpw9JBnnr"
      }
    },
    {
      "cell_type": "markdown",
      "source": [
        "ダウンロードしたファイルを読み込み，機械学習モデルへの入力形式に変換するデータ前処理を以下の手順で行います。\n",
        "\n",
        "1. ヘルパーファンクションでデータフレームテキスト内の\"\\n\"をスペースに変換する関数を定義する\n",
        "2. 学習に不必要なデータコラムを除外する: \"No\"\n",
        "3. sklearnのSimpleImputerを導入し欠損値（NaN)補完を行う\n",
        "    - 補完方法は中央値で欠損値を埋める（[[1](https://scikit-learn.org/stable/modules/generated/sklearn.impute.SimpleImputer.html)]を参考）\n",
        "4. 学習用のデータが不足しているためDataSynthesizerライブラリーを導入し模擬データを作成する\n",
        "    - ベイジアンネットワークを使用して合成データセットを作成する方法はこちらを参考して下さい [[2](https://www.scb.se/contentassets/ca21efb41fee47d293bbee5bf7be7fb3/using-bayesian-networks-to-create-synthetic-data.pdf)]"
      ],
      "metadata": {
        "id": "TIW-6ambBtZK"
      }
    },
    {
      "cell_type": "markdown",
      "source": [
        "まずは以下のセルを実行して、データ前処理クラスを定義します。\n",
        "全処理クラス内では、以下のメンバ関数を定義しています。\n",
        "\n",
        "* __init__() (コンストラクタ）: 変数の初期化，学習用とテスト用への分割ルール，利用するラベルの集約ルール\n",
        "* clean_header(): Pandasデータフレームのヘッダー内の\"\\n\"をスペースに変換する関数\n",
        "* convert_text_to_list(): Pandasデータフレームのヘッダーをリストに変換する関数\n",
        "* drop_columns(): 学習に不必要な項目をdrop()する関数\n",
        "* data_imputation(): sklearnのSimpleImputerを導入し欠損値（NaN)補完を行う関数\n",
        "* def remove_header_map(): Pandasデータフレームのヘッダー内にカテゴリカル変数が含まれる場合、数値と置き換える関数\n",
        "* def create_data_synthesis_network(): 模擬データを作成するためのベイジアンネットワークモデルの定義・学習を行う関数\n",
        "* def generate_synthetic_data(): 学習済のベイジアンネットワークモデルを使い模擬データを実際に作成する関数\n",
        "* def synthetic_data_wrapper(): 学習済のDataDescriberのモデルが存在するかを確認する関数\n",
        "* def main(): 上記全ての工程を一度に実行するためのメイン関数\n",
        "\n",
        "\n"
      ],
      "metadata": {
        "id": "rB_N0KCGjwu9"
      }
    },
    {
      "cell_type": "code",
      "source": [
        "# 出力ディレクトリーの作成\n",
        "!mkdir ./out\n",
        "\n",
        "# description_fileをグーグルドライブから引っ張ってくる\n",
        "!cp '/content/drive/MyDrive/shibaki analysis/description.json' ./out/description.json\n",
        "\n",
        "# synthetic_dataをグーグルドライブから引っ張ってくる\n",
        "!cp '/content/drive/MyDrive/shibaki analysis/synthetic_data.csv' ./out/synthetic_data.csv"
      ],
      "metadata": {
        "id": "WJJR0U5kPILs"
      },
      "execution_count": 4,
      "outputs": []
    },
    {
      "cell_type": "code",
      "source": [
        "class BaseBALDatasetProcessor(object):\n",
        "    def __init__(\n",
        "        self,\n",
        "        dataset,\n",
        "        dataset_root,\n",
        "        dataframe_name,\n",
        "    ):\n",
        "        # 模擬データが元のデータの類似するように模擬データの作成設定をcorrelated_attribute_modeにする\n",
        "        self.mode = 'correlated_attribute_mode'\n",
        "        self.dataset = dataset\n",
        "        self.dataset_root = dataset_root\n",
        "        self.dataframe_name = dataframe_name\n",
        "\n",
        "        # 模擬データの構造を説明するための情報ファイル等の指定\n",
        "        if os.path.exists(f'./out/description.json') and os.path.exists(f'./out/synthetic_data.csv'):\n",
        "            self.description_file = f'./out/description.json'\n",
        "            self.synthetic_data = f'./out/synthetic_data.csv'\n",
        "\n",
        "        else:\n",
        "            self.output_dir = f'./out'\n",
        "            self.description_file = f'./out/description.json'\n",
        "            self.synthetic_data = f'./out/synthetic_data.csv'\n",
        "\n",
        "        # データセットをPandasのデータフレームとして読み込む\n",
        "        self.dataframe = pd.read_excel(self.dataset, engine='openpyxl')\n",
        "\n",
        "        # データセット内のカテゴリカル変数の数値をその数値が表すカテゴリーに置き換える必要がある際\n",
        "        self.columnname_dict = OrderedDict([\n",
        "            ('90day-mortality', {0.0: 'survival', 1.0: 'death'}),\n",
        "            ('sex', {0.0: 'male', 1.0: 'female'}),\n",
        "            ('smoking-status',\n",
        "             {0.0: 'Never',\n",
        "                   1.0: 'Ex(quit smoking over a year ago)',\n",
        "                   2.0: 'Current'}),\n",
        "            ('emphysema', {0.0: '-', 1.0: '+'}),\n",
        "            ('Baseline-ILD',\n",
        "             {0.0: 'UIP',\n",
        "                   1.0: 'probable UIP',\n",
        "                   2.0: 'Indeterminate for UIP',\n",
        "                   3.0: 'Alternative diagnosis'}),\n",
        "            ('Collagen-disease', {0.0: '-', 1.0: '+'}),\n",
        "            ('IPAF', {0.0: '-', 1.0: '+'})])\n",
        "\n",
        "    def clean_header(\n",
        "        self,\n",
        "        text\n",
        "    ):\n",
        "        \"\"\"\n",
        "        Pandasデータフレームのヘッダー内の\"\\n\"をスペースに変換する関数\n",
        "        \"\"\"\n",
        "        text = text.strip()\n",
        "        text = text.replace(\" \", \"-\")\n",
        "        text_n_newline = text.replace(\"\\n\", \" \")\n",
        "        return text_n_newline\n",
        "\n",
        "    def convert_text_to_list(self):\n",
        "        \"\"\"\n",
        "        Pandasデータフレームのヘッダーをリストに変換する関数\n",
        "        \"\"\"\n",
        "        df_header_list = self.dataframe.columns.values.tolist()\n",
        "        df_header_list_cleaned = [self.clean_header(x) for x in df_header_list]\n",
        "        self.dataframe.columns = df_header_list_cleaned\n",
        "\n",
        "    def drop_columns(\n",
        "        self,\n",
        "        col_names=[\"No\"]\n",
        "    ):\n",
        "        \"\"\"\n",
        "        学習に不必要な項目をdrop()する関数\n",
        "        \"\"\"\n",
        "        self.dataframe = self.dataframe.drop(columns=col_names)\n",
        "\n",
        "    def data_imputation(\n",
        "        self,\n",
        "        null_val='NaN',\n",
        "        strategy='median'\n",
        "    ):\n",
        "        \"\"\"\n",
        "        sklearnのSimpleImputerを導入し欠損値（NaN)補完を行う関数\n",
        "        \"\"\"\n",
        "        if null_val == 'NaN':\n",
        "            nan_attr = np.NaN\n",
        "        else:\n",
        "            print(\"Declare valid null data value for variable null_val\")\n",
        "        # データフレーム内の\"NaN\"をnumpyのNaNと置き換える)\n",
        "        self.dataframe.replace(null_val, nan_attr, inplace=True)\n",
        "        # sklearnのSimpleImputerを使い、np.NaNをnull値として認識させる。\n",
        "        # 加、strategy=\"median\"はnp.NaNをその行のNaNを中央値と置き換えるための指定\n",
        "        imp = SimpleImputer(missing_values=nan_attr, strategy=strategy)\n",
        "        df_idf = pd.DataFrame(imp.fit_transform(self.dataframe))\n",
        "        # SimpleImputerは数値しか作成できない為、元のデータセットの行名を新しいデータセットに加るコード\n",
        "        df_idf.columns = self.dataframe.columns\n",
        "        self.dataframe = df_idf\n",
        "\n",
        "    def remove_header_map(\n",
        "        self,\n",
        "        text\n",
        "    ):\n",
        "        \"\"\"\n",
        "        Pandasデータフレームのヘッダー内にカテゴリカル変数が含まれる場合、数値と置き換える関数\n",
        "        \"\"\"\n",
        "        for key in self.columnname_dict.keys():\n",
        "            if key in text:\n",
        "                text = key\n",
        "        return text\n",
        "\n",
        "    def create_data_synthesis_network(\n",
        "        self,\n",
        "        # データの要素を識別できるように、IDをデータのキーとして認識する\n",
        "        candidate_keys={'ID': True},\n",
        "        categorical_attr_index=9,\n",
        "        categorical_attr_incl=['ID', 'age', 'Brinkman-Index'],\n",
        "\n",
        "        # ベイジアンネットワークパラメーター指定\n",
        "        # ドメインサイズがこのしきい値よりも小さい場合、属性はカテゴリーに分類されます。\n",
        "        # 今回のデータでは一番多いカテゴリー要素が4だったので、閾値を4と指定する\n",
        "        threshold_value=4,\n",
        "\n",
        "        # 差分プライバシーのパラメーター。 これは、入力データセットの行を削除しても、exp（epsilon）の乗法差以上に同じ出力を取得する確率が変わらないことを大まかに意味します。\n",
        "        # イプシロン値を増やすことで学習モデルのノイズを減らせます。 差分プライバシーをオフにするにはepsilon = 0を設定します。\n",
        "        epsilon=1,\n",
        "\n",
        "        # ベイジアンネットワーク内の親ノードの最大数、つまり、有向グラフでの入力エッジの最大数。\n",
        "        degree_of_bayesian_network=2\n",
        "    ):\n",
        "        \"\"\"\n",
        "        模擬データを作成するためのベイジアンネットワークモデルの定義・学習を行う関数\n",
        "        \"\"\"\n",
        "        # PandasのデータフレームをDataSynthesizerが応用できるようにcsvに変換する\n",
        "        self.dataframe.to_csv(self.dataframe_name + '.csv', index=False)\n",
        "\n",
        "        # データフレーム内の0−9行の内age以外の行はカテゴリカルなため、模擬データを作成出来るようにカテゴリかルアトリビュートとして認識する\n",
        "        categorical_attributes = {}\n",
        "\n",
        "        for columns in list(self.dataframe.columns[:categorical_attr_index]):\n",
        "            if columns not in categorical_attr_incl:\n",
        "                categorical_attributes[columns] = True\n",
        "\n",
        "        # DataDescriberをインスタンス化する\n",
        "        describer = DataDescriber(category_threshold=threshold_value)\n",
        "\n",
        "        if self.mode == 'correlated_attribute_mode':\n",
        "            # データセットの統計を計算する\n",
        "            describer.describe_dataset_in_correlated_attribute_mode(dataset_file='./' + self.dataframe_name + '.csv',\n",
        "                                                                    epsilon=epsilon,\n",
        "                                                                    k=degree_of_bayesian_network,\n",
        "                                                                    attribute_to_is_categorical=categorical_attributes,\n",
        "                                                                    attribute_to_is_candidate_key=candidate_keys)\n",
        "        else:\n",
        "            print(\"The model does not currently suport this mode type for computation\")\n",
        "\n",
        "        # データセットの統計を上で定義した出力ファイルに保存する\n",
        "        # その後に作成されたベイズネットワークを出力する\n",
        "        describer.save_dataset_description_to_file(self.description_file)\n",
        "        display_bayesian_network(describer.bayesian_network)\n",
        "        return describer\n",
        "\n",
        "    def generate_synthetic_data(\n",
        "        self,\n",
        "        # 合成データセットで生成される症例数\n",
        "        num_tuples_to_generate=50\n",
        "    ):\n",
        "        \"\"\"\n",
        "        学習済のベイジアンネットワークモデルを使い模擬データを実際に作成する関数\n",
        "        \"\"\"\n",
        "        # 実際に模擬データを作成するコード\n",
        "        generator = DataGenerator()\n",
        "\n",
        "        # ベイズモデルの応用（模擬データの作成）\n",
        "        # description_fileとして定義してあるJSONファイルにベイズモデルが学習したカテゴリカルアトリビュートの特徴が保存される\n",
        "        # num_tuples_to_generateは生成される症例数\n",
        "        generator.generate_dataset_in_correlated_attribute_mode(\n",
        "            num_tuples_to_generate, self.description_file)\n",
        "\n",
        "        # 作成した模擬データをsynthetic_dataとして定義したcsvファイルに保存する\n",
        "        generator.save_synthetic_data(self.synthetic_data)\n",
        "\n",
        "        # pandasのデータフレームとして模擬データを読み込む\n",
        "        synthetic_df = pd.read_csv(self.synthetic_data)\n",
        "\n",
        "        return synthetic_df, generator\n",
        "\n",
        "    def synthetic_data_wrapper(\n",
        "        self\n",
        "    ):\n",
        "        \"\"\"\n",
        "        学習済のDataDescriberのモデルが存在するかを確認する関数\n",
        "        \"\"\"\n",
        "        # ヘッダーコラムのテキストを記号と置き換える必要がある場合\n",
        "        df_header_list = self.dataframe.columns.values.tolist()\n",
        "        df_header_list_cleaned = [self.remove_header_map(\n",
        "            x) for x in self.columnname_dict]\n",
        "        for column in self.dataframe:\n",
        "            for header in df_header_list_cleaned:\n",
        "                if header in column:\n",
        "                    self.dataframe.rename(\n",
        "                        columns={column: header}, inplace=True)\n",
        "\n",
        "        # 事前に学習済のDataDescriberが存在するかを確認する\n",
        "        if os.path.exists(self.synthetic_data) and \\\n",
        "                os.stat(self.synthetic_data).st_size != 0:\n",
        "            # pandasのデータフレームとして模擬データを読み込む\n",
        "            synthetic_df = pd.read_csv(self.synthetic_data)\n",
        "\n",
        "        else:\n",
        "            describer = self.create_data_synthesis_network()\n",
        "            synthetic_df, generator = self.generate_synthetic_data()\n",
        "\n",
        "        # 新しく作成した模擬データは上記で作成したsynthetic_df内にあるため、self.dataframeにデータを足す\n",
        "        self.dataframe = pd.concat([self.dataframe, synthetic_df])\n",
        "        return self.dataframe\n",
        "\n",
        "    def main(\n",
        "        self\n",
        "    ):\n",
        "        \"\"\"\n",
        "        上記全ての工程を一度に実行するためのメイン関数\n",
        "        \"\"\"\n",
        "        self.convert_text_to_list()\n",
        "        self.drop_columns(col_names=[\"No\"])\n",
        "        self.data_imputation(null_val='NaN', strategy='median')\n",
        "        return self.synthetic_data_wrapper()\n"
      ],
      "metadata": {
        "id": "Cg_8K1fpjwJX"
      },
      "execution_count": 5,
      "outputs": []
    },
    {
      "cell_type": "markdown",
      "source": [
        "データ保存先のrootディレクトリ(dataset_root)を指定し， 上記のクラスを使用してデータの前処理を行う。前処理済のデータはdataframe_nameで指定した名前でPandasのデータフレーム形式で所定の場所に保存されます。"
      ],
      "metadata": {
        "id": "4UKKr7DVDMNG"
      }
    },
    {
      "cell_type": "code",
      "source": [
        "dataset = 'patient_data.xlsx'\n",
        "dataset_root = './'\n",
        "dataframe_name = 'AE_FILD_df'\n",
        "post_processed_data_frame = BaseBALDatasetProcessor(dataset, dataset_root, dataframe_name).main()\n",
        "post_processed_data_frame.head()"
      ],
      "metadata": {
        "colab": {
          "base_uri": "https://localhost:8080/",
          "height": 317
        },
        "id": "zKrG2bzSCKoq",
        "outputId": "6509f6f3-8356-4d87-8d38-c5a484601d21"
      },
      "execution_count": 6,
      "outputs": [
        {
          "output_type": "execute_result",
          "data": {
            "text/plain": [
              "          ID  90day-mortality  sex   age  smoking-status  Brinkman-Index  \\\n",
              "0   558277.0              0.0  0.0  78.0             1.0          1600.0   \n",
              "1  1848827.0              0.0  1.0  72.0             0.0             0.0   \n",
              "2  1902349.0              0.0  0.0  86.0             0.0             0.0   \n",
              "3  3165531.0              0.0  0.0  58.0             1.0           500.0   \n",
              "4  3253683.0              0.0  0.0  76.0             1.0           800.0   \n",
              "\n",
              "   emphysema  Baseline-ILD  Collagen-disease  IPAF  ...  IL-7        IL-8  \\\n",
              "0        0.0           1.0               0.0   0.0  ...   3.2  313.439925   \n",
              "1        0.0           2.0               0.0   0.0  ...   3.2  325.398968   \n",
              "2        0.0           2.0               0.0   0.0  ...   3.2   35.723941   \n",
              "3        0.0           2.0               0.0   0.0  ...   3.2   87.506323   \n",
              "4        0.0           3.0               0.0   0.0  ...   3.2  179.661551   \n",
              "\n",
              "          IP-10        MCP-1     MIP-1a      MIP-1b       TNFa  TNFb  VEGF  \\\n",
              "0   2160.940947  1009.878650  28.906316   30.940577   4.483265   3.2   3.2   \n",
              "1  15647.940247  1943.663852  25.105166   25.342591  24.074274   3.2   3.2   \n",
              "2   2807.826476   243.983235   5.912140   23.698467   8.748703   3.2   3.2   \n",
              "3   3908.900383   637.958551   3.518690   14.870714   3.792897   3.2   3.2   \n",
              "4   2575.467315  3495.474916  31.821785  100.036875  21.233261   3.2   3.2   \n",
              "\n",
              "     IL-36β  \n",
              "0  4.221958  \n",
              "1  2.000000  \n",
              "2  2.000000  \n",
              "3  2.000000  \n",
              "4  2.000000  \n",
              "\n",
              "[5 rows x 63 columns]"
            ],
            "text/html": [
              "\n",
              "  <div id=\"df-185e7b08-238d-41d4-a775-ff736379706d\">\n",
              "    <div class=\"colab-df-container\">\n",
              "      <div>\n",
              "<style scoped>\n",
              "    .dataframe tbody tr th:only-of-type {\n",
              "        vertical-align: middle;\n",
              "    }\n",
              "\n",
              "    .dataframe tbody tr th {\n",
              "        vertical-align: top;\n",
              "    }\n",
              "\n",
              "    .dataframe thead th {\n",
              "        text-align: right;\n",
              "    }\n",
              "</style>\n",
              "<table border=\"1\" class=\"dataframe\">\n",
              "  <thead>\n",
              "    <tr style=\"text-align: right;\">\n",
              "      <th></th>\n",
              "      <th>ID</th>\n",
              "      <th>90day-mortality</th>\n",
              "      <th>sex</th>\n",
              "      <th>age</th>\n",
              "      <th>smoking-status</th>\n",
              "      <th>Brinkman-Index</th>\n",
              "      <th>emphysema</th>\n",
              "      <th>Baseline-ILD</th>\n",
              "      <th>Collagen-disease</th>\n",
              "      <th>IPAF</th>\n",
              "      <th>...</th>\n",
              "      <th>IL-7</th>\n",
              "      <th>IL-8</th>\n",
              "      <th>IP-10</th>\n",
              "      <th>MCP-1</th>\n",
              "      <th>MIP-1a</th>\n",
              "      <th>MIP-1b</th>\n",
              "      <th>TNFa</th>\n",
              "      <th>TNFb</th>\n",
              "      <th>VEGF</th>\n",
              "      <th>IL-36β</th>\n",
              "    </tr>\n",
              "  </thead>\n",
              "  <tbody>\n",
              "    <tr>\n",
              "      <th>0</th>\n",
              "      <td>558277.0</td>\n",
              "      <td>0.0</td>\n",
              "      <td>0.0</td>\n",
              "      <td>78.0</td>\n",
              "      <td>1.0</td>\n",
              "      <td>1600.0</td>\n",
              "      <td>0.0</td>\n",
              "      <td>1.0</td>\n",
              "      <td>0.0</td>\n",
              "      <td>0.0</td>\n",
              "      <td>...</td>\n",
              "      <td>3.2</td>\n",
              "      <td>313.439925</td>\n",
              "      <td>2160.940947</td>\n",
              "      <td>1009.878650</td>\n",
              "      <td>28.906316</td>\n",
              "      <td>30.940577</td>\n",
              "      <td>4.483265</td>\n",
              "      <td>3.2</td>\n",
              "      <td>3.2</td>\n",
              "      <td>4.221958</td>\n",
              "    </tr>\n",
              "    <tr>\n",
              "      <th>1</th>\n",
              "      <td>1848827.0</td>\n",
              "      <td>0.0</td>\n",
              "      <td>1.0</td>\n",
              "      <td>72.0</td>\n",
              "      <td>0.0</td>\n",
              "      <td>0.0</td>\n",
              "      <td>0.0</td>\n",
              "      <td>2.0</td>\n",
              "      <td>0.0</td>\n",
              "      <td>0.0</td>\n",
              "      <td>...</td>\n",
              "      <td>3.2</td>\n",
              "      <td>325.398968</td>\n",
              "      <td>15647.940247</td>\n",
              "      <td>1943.663852</td>\n",
              "      <td>25.105166</td>\n",
              "      <td>25.342591</td>\n",
              "      <td>24.074274</td>\n",
              "      <td>3.2</td>\n",
              "      <td>3.2</td>\n",
              "      <td>2.000000</td>\n",
              "    </tr>\n",
              "    <tr>\n",
              "      <th>2</th>\n",
              "      <td>1902349.0</td>\n",
              "      <td>0.0</td>\n",
              "      <td>0.0</td>\n",
              "      <td>86.0</td>\n",
              "      <td>0.0</td>\n",
              "      <td>0.0</td>\n",
              "      <td>0.0</td>\n",
              "      <td>2.0</td>\n",
              "      <td>0.0</td>\n",
              "      <td>0.0</td>\n",
              "      <td>...</td>\n",
              "      <td>3.2</td>\n",
              "      <td>35.723941</td>\n",
              "      <td>2807.826476</td>\n",
              "      <td>243.983235</td>\n",
              "      <td>5.912140</td>\n",
              "      <td>23.698467</td>\n",
              "      <td>8.748703</td>\n",
              "      <td>3.2</td>\n",
              "      <td>3.2</td>\n",
              "      <td>2.000000</td>\n",
              "    </tr>\n",
              "    <tr>\n",
              "      <th>3</th>\n",
              "      <td>3165531.0</td>\n",
              "      <td>0.0</td>\n",
              "      <td>0.0</td>\n",
              "      <td>58.0</td>\n",
              "      <td>1.0</td>\n",
              "      <td>500.0</td>\n",
              "      <td>0.0</td>\n",
              "      <td>2.0</td>\n",
              "      <td>0.0</td>\n",
              "      <td>0.0</td>\n",
              "      <td>...</td>\n",
              "      <td>3.2</td>\n",
              "      <td>87.506323</td>\n",
              "      <td>3908.900383</td>\n",
              "      <td>637.958551</td>\n",
              "      <td>3.518690</td>\n",
              "      <td>14.870714</td>\n",
              "      <td>3.792897</td>\n",
              "      <td>3.2</td>\n",
              "      <td>3.2</td>\n",
              "      <td>2.000000</td>\n",
              "    </tr>\n",
              "    <tr>\n",
              "      <th>4</th>\n",
              "      <td>3253683.0</td>\n",
              "      <td>0.0</td>\n",
              "      <td>0.0</td>\n",
              "      <td>76.0</td>\n",
              "      <td>1.0</td>\n",
              "      <td>800.0</td>\n",
              "      <td>0.0</td>\n",
              "      <td>3.0</td>\n",
              "      <td>0.0</td>\n",
              "      <td>0.0</td>\n",
              "      <td>...</td>\n",
              "      <td>3.2</td>\n",
              "      <td>179.661551</td>\n",
              "      <td>2575.467315</td>\n",
              "      <td>3495.474916</td>\n",
              "      <td>31.821785</td>\n",
              "      <td>100.036875</td>\n",
              "      <td>21.233261</td>\n",
              "      <td>3.2</td>\n",
              "      <td>3.2</td>\n",
              "      <td>2.000000</td>\n",
              "    </tr>\n",
              "  </tbody>\n",
              "</table>\n",
              "<p>5 rows × 63 columns</p>\n",
              "</div>\n",
              "      <button class=\"colab-df-convert\" onclick=\"convertToInteractive('df-185e7b08-238d-41d4-a775-ff736379706d')\"\n",
              "              title=\"Convert this dataframe to an interactive table.\"\n",
              "              style=\"display:none;\">\n",
              "        \n",
              "  <svg xmlns=\"http://www.w3.org/2000/svg\" height=\"24px\"viewBox=\"0 0 24 24\"\n",
              "       width=\"24px\">\n",
              "    <path d=\"M0 0h24v24H0V0z\" fill=\"none\"/>\n",
              "    <path d=\"M18.56 5.44l.94 2.06.94-2.06 2.06-.94-2.06-.94-.94-2.06-.94 2.06-2.06.94zm-11 1L8.5 8.5l.94-2.06 2.06-.94-2.06-.94L8.5 2.5l-.94 2.06-2.06.94zm10 10l.94 2.06.94-2.06 2.06-.94-2.06-.94-.94-2.06-.94 2.06-2.06.94z\"/><path d=\"M17.41 7.96l-1.37-1.37c-.4-.4-.92-.59-1.43-.59-.52 0-1.04.2-1.43.59L10.3 9.45l-7.72 7.72c-.78.78-.78 2.05 0 2.83L4 21.41c.39.39.9.59 1.41.59.51 0 1.02-.2 1.41-.59l7.78-7.78 2.81-2.81c.8-.78.8-2.07 0-2.86zM5.41 20L4 18.59l7.72-7.72 1.47 1.35L5.41 20z\"/>\n",
              "  </svg>\n",
              "      </button>\n",
              "      \n",
              "  <style>\n",
              "    .colab-df-container {\n",
              "      display:flex;\n",
              "      flex-wrap:wrap;\n",
              "      gap: 12px;\n",
              "    }\n",
              "\n",
              "    .colab-df-convert {\n",
              "      background-color: #E8F0FE;\n",
              "      border: none;\n",
              "      border-radius: 50%;\n",
              "      cursor: pointer;\n",
              "      display: none;\n",
              "      fill: #1967D2;\n",
              "      height: 32px;\n",
              "      padding: 0 0 0 0;\n",
              "      width: 32px;\n",
              "    }\n",
              "\n",
              "    .colab-df-convert:hover {\n",
              "      background-color: #E2EBFA;\n",
              "      box-shadow: 0px 1px 2px rgba(60, 64, 67, 0.3), 0px 1px 3px 1px rgba(60, 64, 67, 0.15);\n",
              "      fill: #174EA6;\n",
              "    }\n",
              "\n",
              "    [theme=dark] .colab-df-convert {\n",
              "      background-color: #3B4455;\n",
              "      fill: #D2E3FC;\n",
              "    }\n",
              "\n",
              "    [theme=dark] .colab-df-convert:hover {\n",
              "      background-color: #434B5C;\n",
              "      box-shadow: 0px 1px 3px 1px rgba(0, 0, 0, 0.15);\n",
              "      filter: drop-shadow(0px 1px 2px rgba(0, 0, 0, 0.3));\n",
              "      fill: #FFFFFF;\n",
              "    }\n",
              "  </style>\n",
              "\n",
              "      <script>\n",
              "        const buttonEl =\n",
              "          document.querySelector('#df-185e7b08-238d-41d4-a775-ff736379706d button.colab-df-convert');\n",
              "        buttonEl.style.display =\n",
              "          google.colab.kernel.accessAllowed ? 'block' : 'none';\n",
              "\n",
              "        async function convertToInteractive(key) {\n",
              "          const element = document.querySelector('#df-185e7b08-238d-41d4-a775-ff736379706d');\n",
              "          const dataTable =\n",
              "            await google.colab.kernel.invokeFunction('convertToInteractive',\n",
              "                                                     [key], {});\n",
              "          if (!dataTable) return;\n",
              "\n",
              "          const docLinkHtml = 'Like what you see? Visit the ' +\n",
              "            '<a target=\"_blank\" href=https://colab.research.google.com/notebooks/data_table.ipynb>data table notebook</a>'\n",
              "            + ' to learn more about interactive tables.';\n",
              "          element.innerHTML = '';\n",
              "          dataTable['output_type'] = 'display_data';\n",
              "          await google.colab.output.renderOutput(dataTable, element);\n",
              "          const docLink = document.createElement('div');\n",
              "          docLink.innerHTML = docLinkHtml;\n",
              "          element.appendChild(docLink);\n",
              "        }\n",
              "      </script>\n",
              "    </div>\n",
              "  </div>\n",
              "  "
            ]
          },
          "metadata": {},
          "execution_count": 6
        }
      ]
    },
    {
      "cell_type": "markdown",
      "source": [
        "保存先の./outディレクトリに以下のファイルが保存されていることを確認する。\n",
        "* 模擬データを作成するためのベイジアンネットワークモデルを保管するdescription.jsonファイル\n",
        "* 学習済のベイジアンネットワークモデルを使い作成した模擬データを保管するsynthetic_data.csv\n"
      ],
      "metadata": {
        "id": "ouGphNQqYugC"
      }
    },
    {
      "cell_type": "code",
      "source": [
        "!tree ./out"
      ],
      "metadata": {
        "colab": {
          "base_uri": "https://localhost:8080/"
        },
        "id": "-EuqubzNZdBR",
        "outputId": "4a9c9163-3429-4db4-b202-43d7687bcd06"
      },
      "execution_count": 7,
      "outputs": [
        {
          "output_type": "stream",
          "name": "stdout",
          "text": [
            "./out\n",
            "├── description.json\n",
            "└── synthetic_data.csv\n",
            "\n",
            "0 directories, 2 files\n"
          ]
        }
      ]
    },
    {
      "cell_type": "markdown",
      "source": [
        "## RF解析モデル\n"
      ],
      "metadata": {
        "id": "dbboFo1YaCNb"
      }
    },
    {
      "cell_type": "markdown",
      "source": [
        "学習モデルを構築する為の学習アルゴリズムには、ランダムフォレストを使用します。\n",
        "まずデータセット分割を行います。\n",
        "教示あり学習には主に交差検証とホールドアウト法がありますが今回はシンプルにホールドアウト法を使ってモデル構築を行います。\n",
        "ホールドアウト法：学習用と評価用にデータセットに分けてから、学習用でモデルを作成してから、評価用のデータでうまく予測する事ができるか確認していきます。\n",
        "X_allにフィーチャー、y_allにラベルと分割し、さらにX_allとy_allを学習用と評価用に分割しました。\n",
        "評価用を30％、学習用を70%と指定しました。\n",
        "加え、ラベルのインデックスは、\n",
        "*   0: 生存\n",
        "*   1: 死亡\n",
        "\n",
        "となっています。\n",
        "\n",
        "分割方法についてですが# Scikit-learnのtrain_test_split()を使い自動的にデータセットを学習用と評価用に分割します。test_sizeを0.3にして学習用を30%、訓練用を70%といったように分割できます。加え、random_stateを42にして実験の再現性を向上させます\n"
      ],
      "metadata": {
        "id": "BI-hAB57qTPM"
      }
    },
    {
      "cell_type": "code",
      "source": [
        "#IDを削除\n",
        "finalized_df = post_processed_data_frame.drop(labels=['ID'], axis=1)\n",
        "\n",
        "# 行数と列数を変数として保管する\n",
        "NUM_ROWS, NUM_COLS = finalized_df.shape[0], finalized_df.shape[1]\n",
        "\n",
        "# Y (ラベル) ターゲットラベル\n",
        "Y_col = '90day-mortality'\n",
        "# X (フィーチャー) ターゲットラベル以外の全ての行\n",
        "X_cols = finalized_df.loc[:, finalized_df.columns != Y_col].columns\n",
        "\n",
        "X_train, X_test, y_train, y_test = \\\n",
        "train_test_split(finalized_df[X_cols], finalized_df[Y_col],test_size=0.2, random_state=42)\n",
        "\n",
        "X_train_op, X_test_op, y_train_op, y_test_op = X_train.copy(), X_test.copy(), y_train.copy(), y_test.copy()\n",
        "\n",
        "print(\"X_train.shape = \", X_train.shape, \" \\t y_train.shape = \", y_train.shape)\n",
        "print(\"X_test.shape = \", X_test.shape, \" \\t y_test.shape = \", y_test.shape)\n"
      ],
      "metadata": {
        "colab": {
          "base_uri": "https://localhost:8080/"
        },
        "id": "HnHiazrGZ84Z",
        "outputId": "4bbb636a-3526-4e1a-899d-7cbb01391353"
      },
      "execution_count": 8,
      "outputs": [
        {
          "output_type": "stream",
          "name": "stdout",
          "text": [
            "X_train.shape =  (88, 61)  \t y_train.shape =  (88,)\n",
            "X_test.shape =  (22, 61)  \t y_test.shape =  (22,)\n"
          ]
        }
      ]
    },
    {
      "cell_type": "markdown",
      "source": [
        "学習用データセットに含まれている各ラベル毎のサンプル数をカウントしてみます．"
      ],
      "metadata": {
        "id": "5yApgRKStkBs"
      }
    },
    {
      "cell_type": "code",
      "source": [
        "uniq_train, counts_train = np.unique(y_train, return_counts=True)\n",
        "print(\"y_train count each labels: \", dict(zip(uniq_train, counts_train)))"
      ],
      "metadata": {
        "colab": {
          "base_uri": "https://localhost:8080/"
        },
        "id": "yt-b-tG-ttOA",
        "outputId": "fc019148-74b6-4f27-89b9-1acc24eae4a6"
      },
      "execution_count": 9,
      "outputs": [
        {
          "output_type": "stream",
          "name": "stdout",
          "text": [
            "y_train count each labels:  {0.0: 59, 1.0: 29}\n"
          ]
        }
      ]
    },
    {
      "cell_type": "markdown",
      "source": [
        "評価用データについても同様にラベル毎のサンプル数をカウントします．"
      ],
      "metadata": {
        "id": "hfSdFRaqtwYU"
      }
    },
    {
      "cell_type": "code",
      "source": [
        "uniq_test, counts_test = np.unique(y_test, return_counts=True)\n",
        "print(\"y_test count each labels: \", dict(zip(uniq_test, counts_test)))"
      ],
      "metadata": {
        "colab": {
          "base_uri": "https://localhost:8080/"
        },
        "id": "YheI_1OpuWK3",
        "outputId": "2273a19c-185a-430c-dc24-d8d0376e7b8f"
      },
      "execution_count": 10,
      "outputs": [
        {
          "output_type": "stream",
          "name": "stdout",
          "text": [
            "y_test count each labels:  {0.0: 13, 1.0: 9}\n"
          ]
        }
      ]
    },
    {
      "cell_type": "markdown",
      "source": [
        "### モデル構築から予測精度の確認"
      ],
      "metadata": {
        "id": "wQIsoppg-nul"
      }
    },
    {
      "cell_type": "markdown",
      "source": [
        "学習したデータに対してとても良い精度を出すモデルであっても、予測が必要な新たなデータに対する精度が非常に低い、いわゆる「過学習」という状態になることが良くあります。こうならないように、汎用的に良い精度になるモデルを作成するためには、妥当性の検証が必要になります。\n",
        "妥当性の検証としては方法を二通り行います：\n",
        "* クロスバリデーション\n",
        "* Optuna\n",
        "\n"
      ],
      "metadata": {
        "id": "JKkBrwE0-tgj"
      }
    },
    {
      "cell_type": "markdown",
      "source": [
        "#### クロスバリデーション"
      ],
      "metadata": {
        "id": "LZrYNlVBcDJ5"
      }
    },
    {
      "cell_type": "markdown",
      "source": [
        "クロスバリデーションを使った最終モデル選択までの手順：\n",
        "1. 使うモデルの候補を上げる：RandomForestClassifier --> ランダムフォレストのパラメーターは、初期値として作成する決定木を42、最大の深さを1にしてみます。)\n",
        "\n",
        "2. それぞれのモデルでクロスバリデーションを行い、感度や特異度などの精度を算出する (決定木を50, 150, 250, 350; 最大の深さを1から20でランダムフォレストモデルを定義する) \n",
        "\n",
        "3. クロスバリデーションの結果、テストデータでの精度が一番高そうなモデルを選択\n"
      ],
      "metadata": {
        "id": "ZE3N6p_WA04B"
      }
    },
    {
      "cell_type": "code",
      "source": [
        "# cross validationを使い、階層や決定木の数をチューニングしてみる（ハイパーパラメーター）\n",
        "# 注：過適合/過剰適合のバランスを見極めながらハイパーパラメーターチューニングを行う\n",
        "best_accuracy = 0\n",
        "best_depth = 1\n",
        "best_num_trees = 42\n",
        "\n",
        "for ntrees in range(50,450,100):  # 決定木50から350の間（ステップ数：100)\n",
        "    for d in range(1,20): # 階層1から20の間\n",
        "        rforest_model = ensemble.RandomForestClassifier(max_depth=d, \n",
        "                                                        n_estimators=ntrees)\n",
        "        cv_scores = cross_val_score( rforest_model, X_train, y_train, cv=5 ) # 5 はトレーニング・テストの割合が8割・2割ということを表す\n",
        "        average_cv_accuracy = cv_scores.mean()  # cvスコアの平均値cv=5はスコアを五つ出すため、その平均値を見る\n",
        "        if average_cv_accuracy >= best_accuracy: # cvスコアの平均値正確性が現在の最適正確性を上回った場合、現在のcvスコア平均値を出した決定木数・階層を最適とする\n",
        "            best_accuracy = average_cv_accuracy\n",
        "            best_depth = d\n",
        "            best_num_trees = ntrees\n",
        "\n",
        "# 上記で見つけた最適層・最適決定木数をもとにモデルの構築・モデルのトレーニング\n",
        "rforest_model_cv = ensemble.RandomForestClassifier(max_depth=best_depth, n_estimators=best_num_trees) # ensemble.RandomForestClassifierからRF解析モデルを引っ張ってくる\n",
        "\n",
        "# モデルを再度トレーニングする\n",
        "rforest_model_cv.fit(X_train, y_train) # .fit()がトレーニングデータを使い、モデルをトレーニングしろというコマンド\n",
        "\n",
        "# 再度トレーニングした後のモデルのパフォーマンス検証\n",
        "# テストデータにrforest_modelに.predict()関数を応用し、RFモデルがラベルを何個正確に予測出来たかを検証する\n",
        "y_pred = rforest_model_cv.predict(X_test)\n",
        "\n",
        "#モデルを作成する段階でのモデルの識別精度\n",
        "trainaccuracy_random_forest = rforest_model_cv.score(X_train, y_train)\n",
        "print('TrainAccuracy: {}'.format(trainaccuracy_random_forest))\n",
        "\n",
        "#作成したモデルに学習に使用していない評価用のデータセットを入力し精度を確認\n",
        "accuracy_random_forest = accuracy_score(y_test, y_pred)\n",
        "print('Accuracy: {}'.format(accuracy_random_forest))\n",
        "\n",
        "# 正確性の出力\n",
        "print(classification_report(y_test, y_pred))"
      ],
      "metadata": {
        "colab": {
          "base_uri": "https://localhost:8080/"
        },
        "id": "oFUCossjbmh9",
        "outputId": "24b2d289-1268-4964-c845-72d22252640a"
      },
      "execution_count": 11,
      "outputs": [
        {
          "output_type": "stream",
          "name": "stdout",
          "text": [
            "TrainAccuracy: 1.0\n",
            "Accuracy: 0.6818181818181818\n",
            "              precision    recall  f1-score   support\n",
            "\n",
            "         0.0       0.69      0.85      0.76        13\n",
            "         1.0       0.67      0.44      0.53         9\n",
            "\n",
            "    accuracy                           0.68        22\n",
            "   macro avg       0.68      0.65      0.65        22\n",
            "weighted avg       0.68      0.68      0.67        22\n",
            "\n"
          ]
        }
      ]
    },
    {
      "cell_type": "markdown",
      "source": [
        "適合率(specificity, precision)とは、positiveと分類したデータ(TP + FP)の中で実際にpositiveだったデータ(TP)数の割合であり、この値が高いほど性能が良く、間違った分類が少ないということを意味します。\n",
        "\n",
        "再現率(sensitivity, recall)では、取りこぼし無くpositiveなデータを正しくpositiveと推測できているかどうかの指標となります。この値が高いほど性能がよく、間違ったpositiveの判断が少ないということであり、別の言い方をすると本来positiveと推測すべき全てのデータを、うまく推測できたかどうかを示します。\n",
        "\n",
        "F-MeasureはF値またはF尺度と呼ばれており、適合率と再現率の調和平均を示します。高ければ高いほど、適合率と再現率ともに高くなり、バランスを示す事ができます。"
      ],
      "metadata": {
        "id": "DE-qSfrf3osc"
      }
    },
    {
      "cell_type": "markdown",
      "source": [
        "コンフュージョンマトリックスで確認してみます。\n",
        "\n"
      ],
      "metadata": {
        "id": "B21f8H6d4KXV"
      }
    },
    {
      "cell_type": "code",
      "source": [
        "mat = confusion_matrix(y_test, y_pred)\n",
        "sns.heatmap(mat, square=True, annot=True, cbar=False, fmt='d', cmap='RdPu')\n",
        "plt.xlabel('predicted class')\n",
        "plt.ylabel('true value')"
      ],
      "metadata": {
        "colab": {
          "base_uri": "https://localhost:8080/",
          "height": 303
        },
        "id": "Z3UaS57-3qLO",
        "outputId": "8db4b195-c4e7-4793-b600-56e8a388dc76"
      },
      "execution_count": 12,
      "outputs": [
        {
          "output_type": "execute_result",
          "data": {
            "text/plain": [
              "Text(89.18, 0.5, 'true value')"
            ]
          },
          "metadata": {},
          "execution_count": 12
        },
        {
          "output_type": "display_data",
          "data": {
            "text/plain": [
              "<Figure size 432x288 with 1 Axes>"
            ],
            "image/png": "[encoded data removed]"
          },
          "metadata": {
            "needs_background": "light"
          }
        }
      ]
    },
    {
      "cell_type": "markdown",
      "source": [
        "#### Optuna"
      ],
      "metadata": {
        "id": "bTPHnf-wcVW2"
      }
    },
    {
      "cell_type": "markdown",
      "source": [
        "OptunaとはPreferred Networks社が出しているハイパーパラメータ自動化ツールです。Tree-structured Parzen Estimator というベイズ最適化アルゴリズムの一種を用いていて有望そうなハイパーパレメーターを正確に特定できます。\n",
        "objective()というOptunaの目的関数を設定する関数でRandomForestClassifierのパラメーターを設定しています。\n",
        "RandomForestClassifier()のパラメーターについて：\n",
        "1.   criterion - 評価基準 (ジニ係数またはエントロピー)\n",
        "2.   bootstrap - 決定木構築の際にブートストラップサンプルを使用するかどうか\n",
        "3.   max_depth - 先のn_estimatorsで指定した決定木／回帰木の深さの指定\n",
        "4.   max_features - 個々の決定木に、どれくらいの特徴量を使用するかを、表します\n",
        "5.   max_leaf_nodes - 決定木をベスト・ファーストの方法で成長させる\n",
        "6.   n_estimators - ベースとして利用する決定木／回帰木の数\n",
        "7.   min_samples_split - 子ノードを分割するために必要なサンプルの最小数\n",
        "8.   min_samples_leaf - リーフノードにある必要があるサンプルの最小数\n",
        "\n",
        "詳しくはこちらを参照して下さい [[3](https://scikit-learn.org/stable/modules/generated/sklearn.ensemble.RandomForestClassifier.html)]。\n",
        "\n",
        "\n"
      ],
      "metadata": {
        "id": "s2Zv_9Gv8IKG"
      }
    },
    {
      "cell_type": "code",
      "source": [
        "def objective(trial):\n",
        "  criterion = trial.suggest_categorical('criterion', ['gini', 'entropy'])\n",
        "  bootstrap = trial.suggest_categorical('bootstrap',['True','False'])\n",
        "  max_depth = trial.suggest_int('max_depth', 1, 1000)\n",
        "  max_features = trial.suggest_categorical('max_features', ['auto', 'sqrt','log2'])\n",
        "  max_leaf_nodes = trial.suggest_int('max_leaf_nodes', 1,1000)\n",
        "  n_estimators =  trial.suggest_int('n_estimators', 1, 1000)\n",
        "  min_samples_split = trial.suggest_int('min_samples_split',2,5)\n",
        "  min_samples_leaf = trial.suggest_int('min_samples_leaf',1,10)\n",
        "\n",
        "  regr = ensemble.RandomForestClassifier(\n",
        "      bootstrap = bootstrap, criterion = criterion,\n",
        "      max_depth = max_depth, max_features = max_features,\n",
        "      max_leaf_nodes = max_leaf_nodes,n_estimators = n_estimators,\n",
        "      min_samples_split = min_samples_split,min_samples_leaf = min_samples_leaf,\n",
        "      n_jobs=2)\n",
        "\n",
        "  score = cross_val_score(regr, X_train_op, y_train_op, cv=5, scoring=\"r2\")\n",
        "  r2_mean = score.mean()\n",
        "  return r2_mean\n",
        "\n",
        "study = optuna.create_study(direction='maximize')\n",
        "study.optimize(objective, n_trials=100)\n",
        "\n",
        "trial = study.best_trial\n",
        "print('Accuracy: {}'.format(trial.value))\n",
        "\n",
        "# チューニングしたハイパーパラメーターをフィット\n",
        "rforest_model_post_optuna = ensemble.RandomForestClassifier(bootstrap = study.best_params['bootstrap'], criterion = study.best_params['criterion'],\n",
        "                                     max_depth = study.best_params['max_depth'], max_features = study.best_params['max_features'],\n",
        "                                     max_leaf_nodes = study.best_params['max_leaf_nodes'],n_estimators = study.best_params['n_estimators'],\n",
        "                                     min_samples_split = study.best_params['min_samples_split'],min_samples_leaf = study.best_params['min_samples_leaf'],                                     \n",
        "                                     n_jobs=2)\n",
        "\n",
        "# モデルを再度トレーニングする\n",
        "rforest_model_post_optuna.fit(X_train_op, y_train_op) \n",
        "\n",
        "# 再度トレーニングした後のモデルのパフォーマンス検証\n",
        "# テストデータにrforest_modelに.predict()関数を応用し、RFモデルがラベルを何個正確に予測出来たかを検証する\n",
        "y_pred_op = rforest_model_post_optuna.predict(X_test_op)\n",
        "\n",
        "#モデルを作成する段階でのモデルの識別精度\n",
        "trainaccuracy_random_forest_op = rforest_model_post_optuna.score(X_train_op, y_train_op)\n",
        "print('TrainAccuracy: {}'.format(trainaccuracy_random_forest_op))\n",
        "\n",
        "#作成したモデルに学習に使用していない評価用のデータセットを入力し精度を確認\n",
        "accuracy_random_forest_op = accuracy_score(y_test_op, y_pred_op)\n",
        "print('Accuracy: {}'.format(accuracy_random_forest_op))\n",
        "\n",
        "# 正確性の出力\n",
        "print(classification_report(y_test_op, y_pred_op))\n"
      ],
      "metadata": {
        "colab": {
          "base_uri": "https://localhost:8080/"
        },
        "id": "o4bdvDsKcXlW",
        "outputId": "cd1f5b06-bd50-4c72-b339-d885cf9f4a53"
      },
      "execution_count": 13,
      "outputs": [
        {
          "output_type": "stream",
          "name": "stderr",
          "text": [
            "\u001b[32m[I 2022-03-19 16:38:34,108]\u001b[0m A new study created in memory with name: no-name-1a4574d7-1627-42c6-a7c6-20955206a29f\u001b[0m\n",
            "\u001b[32m[I 2022-03-19 16:38:39,616]\u001b[0m Trial 0 finished with value: -0.08787878787878786 and parameters: {'criterion': 'gini', 'bootstrap': 'True', 'max_depth': 30, 'max_features': 'auto', 'max_leaf_nodes': 480, 'n_estimators': 399, 'min_samples_split': 3, 'min_samples_leaf': 9}. Best is trial 0 with value: -0.08787878787878786.\u001b[0m\n",
            "\u001b[32m[I 2022-03-19 16:38:48,588]\u001b[0m Trial 1 finished with value: 0.013636363636363646 and parameters: {'criterion': 'gini', 'bootstrap': 'True', 'max_depth': 226, 'max_features': 'auto', 'max_leaf_nodes': 458, 'n_estimators': 886, 'min_samples_split': 2, 'min_samples_leaf': 5}. Best is trial 1 with value: 0.013636363636363646.\u001b[0m\n",
            "\u001b[32m[I 2022-03-19 16:38:54,348]\u001b[0m Trial 2 finished with value: -0.1445454545454545 and parameters: {'criterion': 'entropy', 'bootstrap': 'False', 'max_depth': 647, 'max_features': 'auto', 'max_leaf_nodes': 816, 'n_estimators': 517, 'min_samples_split': 5, 'min_samples_leaf': 10}. Best is trial 1 with value: 0.013636363636363646.\u001b[0m\n",
            "\u001b[32m[I 2022-03-19 16:39:01,040]\u001b[0m Trial 3 finished with value: -0.13121212121212122 and parameters: {'criterion': 'entropy', 'bootstrap': 'False', 'max_depth': 890, 'max_features': 'log2', 'max_leaf_nodes': 69, 'n_estimators': 546, 'min_samples_split': 4, 'min_samples_leaf': 5}. Best is trial 1 with value: 0.013636363636363646.\u001b[0m\n",
            "\u001b[32m[I 2022-03-19 16:39:09,565]\u001b[0m Trial 4 finished with value: -0.1893939393939394 and parameters: {'criterion': 'entropy', 'bootstrap': 'False', 'max_depth': 634, 'max_features': 'auto', 'max_leaf_nodes': 613, 'n_estimators': 791, 'min_samples_split': 5, 'min_samples_leaf': 3}. Best is trial 1 with value: 0.013636363636363646.\u001b[0m\n",
            "\u001b[32m[I 2022-03-19 16:39:17,729]\u001b[0m Trial 5 finished with value: -0.18272727272727277 and parameters: {'criterion': 'entropy', 'bootstrap': 'True', 'max_depth': 490, 'max_features': 'log2', 'max_leaf_nodes': 966, 'n_estimators': 779, 'min_samples_split': 3, 'min_samples_leaf': 1}. Best is trial 1 with value: 0.013636363636363646.\u001b[0m\n",
            "\u001b[32m[I 2022-03-19 16:39:19,001]\u001b[0m Trial 6 finished with value: -0.17454545454545453 and parameters: {'criterion': 'gini', 'bootstrap': 'True', 'max_depth': 653, 'max_features': 'sqrt', 'max_leaf_nodes': 646, 'n_estimators': 39, 'min_samples_split': 5, 'min_samples_leaf': 6}. Best is trial 1 with value: 0.013636363636363646.\u001b[0m\n",
            "\u001b[32m[I 2022-03-19 16:39:23,320]\u001b[0m Trial 7 finished with value: -0.1893939393939394 and parameters: {'criterion': 'entropy', 'bootstrap': 'False', 'max_depth': 287, 'max_features': 'sqrt', 'max_leaf_nodes': 355, 'n_estimators': 359, 'min_samples_split': 5, 'min_samples_leaf': 1}. Best is trial 1 with value: 0.013636363636363646.\u001b[0m\n",
            "\u001b[32m[I 2022-03-19 16:39:27,324]\u001b[0m Trial 8 finished with value: -0.13787878787878788 and parameters: {'criterion': 'entropy', 'bootstrap': 'True', 'max_depth': 257, 'max_features': 'auto', 'max_leaf_nodes': 53, 'n_estimators': 334, 'min_samples_split': 5, 'min_samples_leaf': 8}. Best is trial 1 with value: 0.013636363636363646.\u001b[0m\n",
            "\u001b[32m[I 2022-03-19 16:39:32,998]\u001b[0m Trial 9 finished with value: -0.24454545454545454 and parameters: {'criterion': 'gini', 'bootstrap': 'False', 'max_depth': 978, 'max_features': 'auto', 'max_leaf_nodes': 336, 'n_estimators': 489, 'min_samples_split': 2, 'min_samples_leaf': 10}. Best is trial 1 with value: 0.013636363636363646.\u001b[0m\n",
            "\u001b[32m[I 2022-03-19 16:39:43,001]\u001b[0m Trial 10 finished with value: -0.08636363636363635 and parameters: {'criterion': 'gini', 'bootstrap': 'True', 'max_depth': 16, 'max_features': 'sqrt', 'max_leaf_nodes': 272, 'n_estimators': 956, 'min_samples_split': 2, 'min_samples_leaf': 6}. Best is trial 1 with value: 0.013636363636363646.\u001b[0m\n",
            "\u001b[32m[I 2022-03-19 16:39:53,269]\u001b[0m Trial 11 finished with value: -0.09303030303030299 and parameters: {'criterion': 'gini', 'bootstrap': 'True', 'max_depth': 14, 'max_features': 'sqrt', 'max_leaf_nodes': 229, 'n_estimators': 997, 'min_samples_split': 2, 'min_samples_leaf': 6}. Best is trial 1 with value: 0.013636363636363646.\u001b[0m\n",
            "\u001b[32m[I 2022-03-19 16:40:03,314]\u001b[0m Trial 12 finished with value: -0.13636363636363635 and parameters: {'criterion': 'gini', 'bootstrap': 'True', 'max_depth': 200, 'max_features': 'sqrt', 'max_leaf_nodes': 241, 'n_estimators': 959, 'min_samples_split': 2, 'min_samples_leaf': 4}. Best is trial 1 with value: 0.013636363636363646.\u001b[0m\n",
            "\u001b[32m[I 2022-03-19 16:40:11,550]\u001b[0m Trial 13 finished with value: -0.036363636363636355 and parameters: {'criterion': 'gini', 'bootstrap': 'True', 'max_depth': 157, 'max_features': 'sqrt', 'max_leaf_nodes': 495, 'n_estimators': 805, 'min_samples_split': 3, 'min_samples_leaf': 7}. Best is trial 1 with value: 0.013636363636363646.\u001b[0m\n",
            "\u001b[32m[I 2022-03-19 16:40:19,092]\u001b[0m Trial 14 finished with value: -0.19454545454545452 and parameters: {'criterion': 'gini', 'bootstrap': 'True', 'max_depth': 379, 'max_features': 'log2', 'max_leaf_nodes': 492, 'n_estimators': 725, 'min_samples_split': 3, 'min_samples_leaf': 8}. Best is trial 1 with value: 0.013636363636363646.\u001b[0m\n",
            "\u001b[32m[I 2022-03-19 16:40:26,488]\u001b[0m Trial 15 finished with value: -0.19606060606060605 and parameters: {'criterion': 'gini', 'bootstrap': 'True', 'max_depth': 163, 'max_features': 'sqrt', 'max_leaf_nodes': 667, 'n_estimators': 669, 'min_samples_split': 4, 'min_samples_leaf': 7}. Best is trial 1 with value: 0.013636363636363646.\u001b[0m\n",
            "\u001b[32m[I 2022-03-19 16:40:35,366]\u001b[0m Trial 16 finished with value: -0.036363636363636355 and parameters: {'criterion': 'gini', 'bootstrap': 'True', 'max_depth': 419, 'max_features': 'auto', 'max_leaf_nodes': 439, 'n_estimators': 854, 'min_samples_split': 3, 'min_samples_leaf': 3}. Best is trial 1 with value: 0.013636363636363646.\u001b[0m\n",
            "\u001b[32m[I 2022-03-19 16:40:44,167]\u001b[0m Trial 17 finished with value: -0.143030303030303 and parameters: {'criterion': 'gini', 'bootstrap': 'True', 'max_depth': 426, 'max_features': 'auto', 'max_leaf_nodes': 751, 'n_estimators': 866, 'min_samples_split': 4, 'min_samples_leaf': 3}. Best is trial 1 with value: 0.013636363636363646.\u001b[0m\n",
            "\u001b[32m[I 2022-03-19 16:40:51,002]\u001b[0m Trial 18 finished with value: -0.13787878787878788 and parameters: {'criterion': 'gini', 'bootstrap': 'True', 'max_depth': 112, 'max_features': 'sqrt', 'max_leaf_nodes': 558, 'n_estimators': 631, 'min_samples_split': 2, 'min_samples_leaf': 5}. Best is trial 1 with value: 0.013636363636363646.\u001b[0m\n",
            "\u001b[32m[I 2022-03-19 16:40:53,618]\u001b[0m Trial 19 finished with value: -0.13787878787878788 and parameters: {'criterion': 'gini', 'bootstrap': 'True', 'max_depth': 346, 'max_features': 'auto', 'max_leaf_nodes': 361, 'n_estimators': 152, 'min_samples_split': 3, 'min_samples_leaf': 3}. Best is trial 1 with value: 0.013636363636363646.\u001b[0m\n",
            "\u001b[32m[I 2022-03-19 16:41:02,519]\u001b[0m Trial 20 finished with value: -0.08787878787878786 and parameters: {'criterion': 'gini', 'bootstrap': 'True', 'max_depth': 559, 'max_features': 'auto', 'max_leaf_nodes': 154, 'n_estimators': 875, 'min_samples_split': 2, 'min_samples_leaf': 2}. Best is trial 1 with value: 0.013636363636363646.\u001b[0m\n",
            "\u001b[32m[I 2022-03-19 16:41:11,185]\u001b[0m Trial 21 finished with value: -0.13787878787878788 and parameters: {'criterion': 'gini', 'bootstrap': 'True', 'max_depth': 259, 'max_features': 'auto', 'max_leaf_nodes': 445, 'n_estimators': 850, 'min_samples_split': 3, 'min_samples_leaf': 4}. Best is trial 1 with value: 0.013636363636363646.\u001b[0m\n",
            "\u001b[32m[I 2022-03-19 16:41:18,177]\u001b[0m Trial 22 finished with value: -0.08787878787878786 and parameters: {'criterion': 'gini', 'bootstrap': 'True', 'max_depth': 157, 'max_features': 'auto', 'max_leaf_nodes': 422, 'n_estimators': 647, 'min_samples_split': 3, 'min_samples_leaf': 7}. Best is trial 1 with value: 0.013636363636363646.\u001b[0m\n",
            "\u001b[32m[I 2022-03-19 16:41:26,908]\u001b[0m Trial 23 finished with value: -0.08636363636363635 and parameters: {'criterion': 'gini', 'bootstrap': 'True', 'max_depth': 474, 'max_features': 'log2', 'max_leaf_nodes': 556, 'n_estimators': 893, 'min_samples_split': 4, 'min_samples_leaf': 4}. Best is trial 1 with value: 0.013636363636363646.\u001b[0m\n",
            "\u001b[32m[I 2022-03-19 16:41:34,734]\u001b[0m Trial 24 finished with value: -0.1445454545454545 and parameters: {'criterion': 'gini', 'bootstrap': 'True', 'max_depth': 341, 'max_features': 'auto', 'max_leaf_nodes': 726, 'n_estimators': 775, 'min_samples_split': 3, 'min_samples_leaf': 7}. Best is trial 1 with value: 0.013636363636363646.\u001b[0m\n",
            "\u001b[32m[I 2022-03-19 16:41:42,102]\u001b[0m Trial 25 finished with value: -0.19454545454545452 and parameters: {'criterion': 'gini', 'bootstrap': 'True', 'max_depth': 98, 'max_features': 'sqrt', 'max_leaf_nodes': 527, 'n_estimators': 686, 'min_samples_split': 3, 'min_samples_leaf': 5}. Best is trial 1 with value: 0.013636363636363646.\u001b[0m\n",
            "\u001b[32m[I 2022-03-19 16:41:54,167]\u001b[0m Trial 26 finished with value: 0.018787878787878777 and parameters: {'criterion': 'gini', 'bootstrap': 'False', 'max_depth': 775, 'max_features': 'auto', 'max_leaf_nodes': 415, 'n_estimators': 922, 'min_samples_split': 2, 'min_samples_leaf': 2}. Best is trial 26 with value: 0.018787878787878777.\u001b[0m\n",
            "\u001b[32m[I 2022-03-19 16:42:14,404]\u001b[0m Trial 27 finished with value: -0.031212121212121226 and parameters: {'criterion': 'gini', 'bootstrap': 'False', 'max_depth': 794, 'max_features': 'auto', 'max_leaf_nodes': 407, 'n_estimators': 922, 'min_samples_split': 2, 'min_samples_leaf': 2}. Best is trial 26 with value: 0.018787878787878777.\u001b[0m\n",
            "\u001b[32m[I 2022-03-19 16:42:28,800]\u001b[0m Trial 28 finished with value: -0.037878787878787866 and parameters: {'criterion': 'gini', 'bootstrap': 'False', 'max_depth': 791, 'max_features': 'auto', 'max_leaf_nodes': 161, 'n_estimators': 930, 'min_samples_split': 2, 'min_samples_leaf': 2}. Best is trial 26 with value: 0.018787878787878777.\u001b[0m\n",
            "\u001b[32m[I 2022-03-19 16:42:40,473]\u001b[0m Trial 29 finished with value: -0.031212121212121226 and parameters: {'criterion': 'gini', 'bootstrap': 'False', 'max_depth': 757, 'max_features': 'auto', 'max_leaf_nodes': 307, 'n_estimators': 995, 'min_samples_split': 2, 'min_samples_leaf': 2}. Best is trial 26 with value: 0.018787878787878777.\u001b[0m\n",
            "\u001b[32m[I 2022-03-19 16:42:50,666]\u001b[0m Trial 30 finished with value: -0.037878787878787866 and parameters: {'criterion': 'gini', 'bootstrap': 'False', 'max_depth': 708, 'max_features': 'auto', 'max_leaf_nodes': 306, 'n_estimators': 977, 'min_samples_split': 2, 'min_samples_leaf': 1}. Best is trial 26 with value: 0.018787878787878777.\u001b[0m\n",
            "\u001b[32m[I 2022-03-19 16:43:02,638]\u001b[0m Trial 31 finished with value: -0.18787878787878787 and parameters: {'criterion': 'gini', 'bootstrap': 'False', 'max_depth': 803, 'max_features': 'auto', 'max_leaf_nodes': 393, 'n_estimators': 927, 'min_samples_split': 2, 'min_samples_leaf': 2}. Best is trial 26 with value: 0.018787878787878777.\u001b[0m\n",
            "\u001b[32m[I 2022-03-19 16:43:16,907]\u001b[0m Trial 32 finished with value: -0.1393939393939394 and parameters: {'criterion': 'gini', 'bootstrap': 'False', 'max_depth': 802, 'max_features': 'auto', 'max_leaf_nodes': 185, 'n_estimators': 999, 'min_samples_split': 2, 'min_samples_leaf': 2}. Best is trial 26 with value: 0.018787878787878777.\u001b[0m\n",
            "\u001b[32m[I 2022-03-19 16:43:23,362]\u001b[0m Trial 33 finished with value: -0.13787878787878788 and parameters: {'criterion': 'gini', 'bootstrap': 'False', 'max_depth': 953, 'max_features': 'auto', 'max_leaf_nodes': 310, 'n_estimators': 568, 'min_samples_split': 2, 'min_samples_leaf': 1}. Best is trial 26 with value: 0.018787878787878777.\u001b[0m\n",
            "\u001b[32m[I 2022-03-19 16:43:31,370]\u001b[0m Trial 34 finished with value: -0.13787878787878788 and parameters: {'criterion': 'entropy', 'bootstrap': 'False', 'max_depth': 904, 'max_features': 'auto', 'max_leaf_nodes': 395, 'n_estimators': 733, 'min_samples_split': 2, 'min_samples_leaf': 2}. Best is trial 26 with value: 0.018787878787878777.\u001b[0m\n",
            "\u001b[32m[I 2022-03-19 16:43:40,142]\u001b[0m Trial 35 finished with value: -0.18272727272727277 and parameters: {'criterion': 'entropy', 'bootstrap': 'False', 'max_depth': 734, 'max_features': 'auto', 'max_leaf_nodes': 600, 'n_estimators': 823, 'min_samples_split': 2, 'min_samples_leaf': 3}. Best is trial 26 with value: 0.018787878787878777.\u001b[0m\n",
            "\u001b[32m[I 2022-03-19 16:43:49,336]\u001b[0m Trial 36 finished with value: 0.020303030303030288 and parameters: {'criterion': 'gini', 'bootstrap': 'False', 'max_depth': 857, 'max_features': 'log2', 'max_leaf_nodes': 961, 'n_estimators': 911, 'min_samples_split': 2, 'min_samples_leaf': 4}. Best is trial 36 with value: 0.020303030303030288.\u001b[0m\n",
            "\u001b[32m[I 2022-03-19 16:43:57,245]\u001b[0m Trial 37 finished with value: -0.13636363636363635 and parameters: {'criterion': 'entropy', 'bootstrap': 'False', 'max_depth': 562, 'max_features': 'log2', 'max_leaf_nodes': 952, 'n_estimators': 759, 'min_samples_split': 2, 'min_samples_leaf': 4}. Best is trial 36 with value: 0.020303030303030288.\u001b[0m\n",
            "\u001b[32m[I 2022-03-19 16:44:00,398]\u001b[0m Trial 38 finished with value: -0.13787878787878788 and parameters: {'criterion': 'gini', 'bootstrap': 'False', 'max_depth': 874, 'max_features': 'log2', 'max_leaf_nodes': 867, 'n_estimators': 234, 'min_samples_split': 2, 'min_samples_leaf': 5}. Best is trial 36 with value: 0.020303030303030288.\u001b[0m\n",
            "\u001b[32m[I 2022-03-19 16:44:06,031]\u001b[0m Trial 39 finished with value: 0.07030303030303028 and parameters: {'criterion': 'entropy', 'bootstrap': 'False', 'max_depth': 673, 'max_features': 'log2', 'max_leaf_nodes': 881, 'n_estimators': 488, 'min_samples_split': 2, 'min_samples_leaf': 4}. Best is trial 39 with value: 0.07030303030303028.\u001b[0m\n",
            "\u001b[32m[I 2022-03-19 16:44:10,074]\u001b[0m Trial 40 finished with value: -0.19454545454545452 and parameters: {'criterion': 'entropy', 'bootstrap': 'False', 'max_depth': 596, 'max_features': 'log2', 'max_leaf_nodes': 890, 'n_estimators': 380, 'min_samples_split': 2, 'min_samples_leaf': 5}. Best is trial 39 with value: 0.07030303030303028.\u001b[0m\n",
            "\u001b[32m[I 2022-03-19 16:44:15,569]\u001b[0m Trial 41 finished with value: -0.18787878787878787 and parameters: {'criterion': 'entropy', 'bootstrap': 'False', 'max_depth': 701, 'max_features': 'log2', 'max_leaf_nodes': 993, 'n_estimators': 478, 'min_samples_split': 2, 'min_samples_leaf': 4}. Best is trial 39 with value: 0.07030303030303028.\u001b[0m\n",
            "\u001b[32m[I 2022-03-19 16:44:22,040]\u001b[0m Trial 42 finished with value: -0.08272727272727276 and parameters: {'criterion': 'entropy', 'bootstrap': 'False', 'max_depth': 878, 'max_features': 'log2', 'max_leaf_nodes': 818, 'n_estimators': 429, 'min_samples_split': 2, 'min_samples_leaf': 4}. Best is trial 39 with value: 0.07030303030303028.\u001b[0m\n",
            "\u001b[32m[I 2022-03-19 16:44:28,831]\u001b[0m Trial 43 finished with value: -0.031212121212121226 and parameters: {'criterion': 'entropy', 'bootstrap': 'False', 'max_depth': 654, 'max_features': 'log2', 'max_leaf_nodes': 898, 'n_estimators': 579, 'min_samples_split': 2, 'min_samples_leaf': 3}. Best is trial 39 with value: 0.07030303030303028.\u001b[0m\n",
            "\u001b[32m[I 2022-03-19 16:44:35,475]\u001b[0m Trial 44 finished with value: -0.02969696969696971 and parameters: {'criterion': 'entropy', 'bootstrap': 'False', 'max_depth': 649, 'max_features': 'log2', 'max_leaf_nodes': 922, 'n_estimators': 585, 'min_samples_split': 2, 'min_samples_leaf': 3}. Best is trial 39 with value: 0.07030303030303028.\u001b[0m\n",
            "\u001b[32m[I 2022-03-19 16:44:39,239]\u001b[0m Trial 45 finished with value: -0.13121212121212122 and parameters: {'criterion': 'entropy', 'bootstrap': 'False', 'max_depth': 841, 'max_features': 'log2', 'max_leaf_nodes': 930, 'n_estimators': 300, 'min_samples_split': 2, 'min_samples_leaf': 5}. Best is trial 39 with value: 0.07030303030303028.\u001b[0m\n",
            "\u001b[32m[I 2022-03-19 16:44:44,426]\u001b[0m Trial 46 finished with value: -0.29454545454545455 and parameters: {'criterion': 'entropy', 'bootstrap': 'False', 'max_depth': 655, 'max_features': 'log2', 'max_leaf_nodes': 831, 'n_estimators': 458, 'min_samples_split': 2, 'min_samples_leaf': 6}. Best is trial 39 with value: 0.07030303030303028.\u001b[0m\n",
            "\u001b[32m[I 2022-03-19 16:44:50,717]\u001b[0m Trial 47 finished with value: -0.13424242424242427 and parameters: {'criterion': 'entropy', 'bootstrap': 'False', 'max_depth': 527, 'max_features': 'log2', 'max_leaf_nodes': 743, 'n_estimators': 533, 'min_samples_split': 3, 'min_samples_leaf': 3}. Best is trial 39 with value: 0.07030303030303028.\u001b[0m\n",
            "\u001b[32m[I 2022-03-19 16:44:54,553]\u001b[0m Trial 48 finished with value: -0.24454545454545454 and parameters: {'criterion': 'entropy', 'bootstrap': 'False', 'max_depth': 609, 'max_features': 'log2', 'max_leaf_nodes': 10, 'n_estimators': 303, 'min_samples_split': 2, 'min_samples_leaf': 4}. Best is trial 39 with value: 0.07030303030303028.\u001b[0m\n",
            "\u001b[32m[I 2022-03-19 16:45:03,097]\u001b[0m Trial 49 finished with value: -0.09454545454545452 and parameters: {'criterion': 'entropy', 'bootstrap': 'False', 'max_depth': 1000, 'max_features': 'log2', 'max_leaf_nodes': 788, 'n_estimators': 820, 'min_samples_split': 3, 'min_samples_leaf': 6}. Best is trial 39 with value: 0.07030303030303028.\u001b[0m\n",
            "\u001b[32m[I 2022-03-19 16:45:10,683]\u001b[0m Trial 50 finished with value: -0.143030303030303 and parameters: {'criterion': 'entropy', 'bootstrap': 'False', 'max_depth': 669, 'max_features': 'log2', 'max_leaf_nodes': 991, 'n_estimators': 698, 'min_samples_split': 4, 'min_samples_leaf': 3}. Best is trial 39 with value: 0.07030303030303028.\u001b[0m\n",
            "\u001b[32m[I 2022-03-19 16:45:17,298]\u001b[0m Trial 51 finished with value: -0.08787878787878786 and parameters: {'criterion': 'entropy', 'bootstrap': 'False', 'max_depth': 746, 'max_features': 'log2', 'max_leaf_nodes': 904, 'n_estimators': 591, 'min_samples_split': 2, 'min_samples_leaf': 3}. Best is trial 39 with value: 0.07030303030303028.\u001b[0m\n",
            "\u001b[32m[I 2022-03-19 16:45:26,192]\u001b[0m Trial 52 finished with value: -0.29757575757575755 and parameters: {'criterion': 'gini', 'bootstrap': 'False', 'max_depth': 755, 'max_features': 'log2', 'max_leaf_nodes': 255, 'n_estimators': 898, 'min_samples_split': 2, 'min_samples_leaf': 4}. Best is trial 39 with value: 0.07030303030303028.\u001b[0m\n",
            "\u001b[32m[I 2022-03-19 16:45:36,259]\u001b[0m Trial 53 finished with value: -0.08787878787878786 and parameters: {'criterion': 'gini', 'bootstrap': 'False', 'max_depth': 934, 'max_features': 'auto', 'max_leaf_nodes': 463, 'n_estimators': 942, 'min_samples_split': 2, 'min_samples_leaf': 1}. Best is trial 39 with value: 0.07030303030303028.\u001b[0m\n",
            "\u001b[32m[I 2022-03-19 16:45:42,958]\u001b[0m Trial 54 finished with value: -0.143030303030303 and parameters: {'criterion': 'entropy', 'bootstrap': 'False', 'max_depth': 690, 'max_features': 'log2', 'max_leaf_nodes': 861, 'n_estimators': 592, 'min_samples_split': 5, 'min_samples_leaf': 3}. Best is trial 39 with value: 0.07030303030303028.\u001b[0m\n",
            "\u001b[32m[I 2022-03-19 16:45:52,531]\u001b[0m Trial 55 finished with value: -0.1393939393939394 and parameters: {'criterion': 'gini', 'bootstrap': 'False', 'max_depth': 830, 'max_features': 'auto', 'max_leaf_nodes': 527, 'n_estimators': 922, 'min_samples_split': 2, 'min_samples_leaf': 2}. Best is trial 39 with value: 0.07030303030303028.\u001b[0m\n",
            "\u001b[32m[I 2022-03-19 16:46:00,989]\u001b[0m Trial 56 finished with value: -0.036363636363636355 and parameters: {'criterion': 'gini', 'bootstrap': 'False', 'max_depth': 850, 'max_features': 'auto', 'max_leaf_nodes': 607, 'n_estimators': 829, 'min_samples_split': 2, 'min_samples_leaf': 5}. Best is trial 39 with value: 0.07030303030303028.\u001b[0m\n",
            "\u001b[32m[I 2022-03-19 16:46:05,805]\u001b[0m Trial 57 finished with value: -0.037878787878787866 and parameters: {'criterion': 'entropy', 'bootstrap': 'False', 'max_depth': 627, 'max_features': 'log2', 'max_leaf_nodes': 943, 'n_estimators': 412, 'min_samples_split': 2, 'min_samples_leaf': 4}. Best is trial 39 with value: 0.07030303030303028.\u001b[0m\n",
            "\u001b[32m[I 2022-03-19 16:46:11,372]\u001b[0m Trial 58 finished with value: -0.29454545454545455 and parameters: {'criterion': 'entropy', 'bootstrap': 'False', 'max_depth': 455, 'max_features': 'log2', 'max_leaf_nodes': 690, 'n_estimators': 509, 'min_samples_split': 3, 'min_samples_leaf': 10}. Best is trial 39 with value: 0.07030303030303028.\u001b[0m\n",
            "\u001b[32m[I 2022-03-19 16:46:13,333]\u001b[0m Trial 59 finished with value: -0.19454545454545452 and parameters: {'criterion': 'gini', 'bootstrap': 'False', 'max_depth': 913, 'max_features': 'sqrt', 'max_leaf_nodes': 383, 'n_estimators': 103, 'min_samples_split': 2, 'min_samples_leaf': 9}. Best is trial 39 with value: 0.07030303030303028.\u001b[0m\n",
            "\u001b[32m[I 2022-03-19 16:46:22,498]\u001b[0m Trial 60 finished with value: -0.0893939393939394 and parameters: {'criterion': 'gini', 'bootstrap': 'True', 'max_depth': 778, 'max_features': 'auto', 'max_leaf_nodes': 477, 'n_estimators': 879, 'min_samples_split': 2, 'min_samples_leaf': 1}. Best is trial 39 with value: 0.07030303030303028.\u001b[0m\n",
            "\u001b[32m[I 2022-03-19 16:46:29,427]\u001b[0m Trial 61 finished with value: -0.03272727272727276 and parameters: {'criterion': 'entropy', 'bootstrap': 'False', 'max_depth': 720, 'max_features': 'log2', 'max_leaf_nodes': 926, 'n_estimators': 619, 'min_samples_split': 2, 'min_samples_leaf': 3}. Best is trial 39 with value: 0.07030303030303028.\u001b[0m\n",
            "\u001b[32m[I 2022-03-19 16:46:39,840]\u001b[0m Trial 62 finished with value: -0.031212121212121226 and parameters: {'criterion': 'entropy', 'bootstrap': 'False', 'max_depth': 583, 'max_features': 'log2', 'max_leaf_nodes': 336, 'n_estimators': 970, 'min_samples_split': 2, 'min_samples_leaf': 3}. Best is trial 39 with value: 0.07030303030303028.\u001b[0m\n",
            "\u001b[32m[I 2022-03-19 16:46:49,952]\u001b[0m Trial 63 finished with value: -0.08787878787878786 and parameters: {'criterion': 'gini', 'bootstrap': 'False', 'max_depth': 521, 'max_features': 'log2', 'max_leaf_nodes': 345, 'n_estimators': 962, 'min_samples_split': 2, 'min_samples_leaf': 2}. Best is trial 39 with value: 0.07030303030303028.\u001b[0m\n",
            "\u001b[32m[I 2022-03-19 16:46:55,234]\u001b[0m Trial 64 finished with value: -0.08787878787878786 and parameters: {'criterion': 'entropy', 'bootstrap': 'False', 'max_depth': 566, 'max_features': 'log2', 'max_leaf_nodes': 786, 'n_estimators': 454, 'min_samples_split': 2, 'min_samples_leaf': 3}. Best is trial 39 with value: 0.07030303030303028.\u001b[0m\n",
            "\u001b[32m[I 2022-03-19 16:47:04,419]\u001b[0m Trial 65 finished with value: -0.13787878787878788 and parameters: {'criterion': 'gini', 'bootstrap': 'False', 'max_depth': 589, 'max_features': 'auto', 'max_leaf_nodes': 431, 'n_estimators': 904, 'min_samples_split': 3, 'min_samples_leaf': 2}. Best is trial 39 with value: 0.07030303030303028.\u001b[0m\n",
            "\u001b[32m[I 2022-03-19 16:47:12,418]\u001b[0m Trial 66 finished with value: -0.08787878787878786 and parameters: {'criterion': 'gini', 'bootstrap': 'True', 'max_depth': 645, 'max_features': 'sqrt', 'max_leaf_nodes': 966, 'n_estimators': 779, 'min_samples_split': 2, 'min_samples_leaf': 4}. Best is trial 39 with value: 0.07030303030303028.\u001b[0m\n",
            "\u001b[32m[I 2022-03-19 16:47:23,013]\u001b[0m Trial 67 finished with value: -0.08121212121212122 and parameters: {'criterion': 'gini', 'bootstrap': 'False', 'max_depth': 677, 'max_features': 'auto', 'max_leaf_nodes': 876, 'n_estimators': 1000, 'min_samples_split': 2, 'min_samples_leaf': 4}. Best is trial 39 with value: 0.07030303030303028.\u001b[0m\n",
            "\u001b[32m[I 2022-03-19 16:47:31,928]\u001b[0m Trial 68 finished with value: -0.13787878787878788 and parameters: {'criterion': 'gini', 'bootstrap': 'True', 'max_depth': 778, 'max_features': 'auto', 'max_leaf_nodes': 285, 'n_estimators': 863, 'min_samples_split': 2, 'min_samples_leaf': 2}. Best is trial 39 with value: 0.07030303030303028.\u001b[0m\n",
            "\u001b[32m[I 2022-03-19 16:47:42,135]\u001b[0m Trial 69 finished with value: -0.031212121212121226 and parameters: {'criterion': 'entropy', 'bootstrap': 'False', 'max_depth': 55, 'max_features': 'log2', 'max_leaf_nodes': 524, 'n_estimators': 963, 'min_samples_split': 5, 'min_samples_leaf': 3}. Best is trial 39 with value: 0.07030303030303028.\u001b[0m\n",
            "\u001b[32m[I 2022-03-19 16:47:48,583]\u001b[0m Trial 70 finished with value: -0.193030303030303 and parameters: {'criterion': 'gini', 'bootstrap': 'False', 'max_depth': 756, 'max_features': 'auto', 'max_leaf_nodes': 836, 'n_estimators': 544, 'min_samples_split': 3, 'min_samples_leaf': 5}. Best is trial 39 with value: 0.07030303030303028.\u001b[0m\n",
            "\u001b[32m[I 2022-03-19 16:47:58,864]\u001b[0m Trial 71 finished with value: -0.13272727272727275 and parameters: {'criterion': 'entropy', 'bootstrap': 'False', 'max_depth': 625, 'max_features': 'log2', 'max_leaf_nodes': 213, 'n_estimators': 971, 'min_samples_split': 2, 'min_samples_leaf': 3}. Best is trial 39 with value: 0.07030303030303028.\u001b[0m\n",
            "\u001b[32m[I 2022-03-19 16:48:08,680]\u001b[0m Trial 72 finished with value: -0.043030303030302995 and parameters: {'criterion': 'gini', 'bootstrap': 'False', 'max_depth': 298, 'max_features': 'auto', 'max_leaf_nodes': 404, 'n_estimators': 922, 'min_samples_split': 5, 'min_samples_leaf': 2}. Best is trial 39 with value: 0.07030303030303028.\u001b[0m\n",
            "\u001b[32m[I 2022-03-19 16:48:17,364]\u001b[0m Trial 73 finished with value: -0.08787878787878786 and parameters: {'criterion': 'gini', 'bootstrap': 'False', 'max_depth': 823, 'max_features': 'auto', 'max_leaf_nodes': 460, 'n_estimators': 845, 'min_samples_split': 2, 'min_samples_leaf': 1}. Best is trial 39 with value: 0.07030303030303028.\u001b[0m\n",
            "\u001b[32m[I 2022-03-19 16:48:27,429]\u001b[0m Trial 74 finished with value: -0.031212121212121226 and parameters: {'criterion': 'gini', 'bootstrap': 'False', 'max_depth': 858, 'max_features': 'auto', 'max_leaf_nodes': 302, 'n_estimators': 947, 'min_samples_split': 2, 'min_samples_leaf': 2}. Best is trial 39 with value: 0.07030303030303028.\u001b[0m\n",
            "\u001b[32m[I 2022-03-19 16:48:37,481]\u001b[0m Trial 75 finished with value: -0.02969696969696971 and parameters: {'criterion': 'gini', 'bootstrap': 'False', 'max_depth': 91, 'max_features': 'auto', 'max_leaf_nodes': 301, 'n_estimators': 952, 'min_samples_split': 4, 'min_samples_leaf': 2}. Best is trial 39 with value: 0.07030303030303028.\u001b[0m\n",
            "\u001b[32m[I 2022-03-19 16:48:46,781]\u001b[0m Trial 76 finished with value: 0.012121212121212133 and parameters: {'criterion': 'gini', 'bootstrap': 'True', 'max_depth': 192, 'max_features': 'auto', 'max_leaf_nodes': 100, 'n_estimators': 901, 'min_samples_split': 4, 'min_samples_leaf': 1}. Best is trial 39 with value: 0.07030303030303028.\u001b[0m\n",
            "\u001b[32m[I 2022-03-19 16:48:55,336]\u001b[0m Trial 77 finished with value: -0.031212121212121226 and parameters: {'criterion': 'gini', 'bootstrap': 'True', 'max_depth': 195, 'max_features': 'auto', 'max_leaf_nodes': 112, 'n_estimators': 800, 'min_samples_split': 4, 'min_samples_leaf': 1}. Best is trial 39 with value: 0.07030303030303028.\u001b[0m\n",
            "\u001b[32m[I 2022-03-19 16:49:04,241]\u001b[0m Trial 78 finished with value: -0.08787878787878786 and parameters: {'criterion': 'gini', 'bootstrap': 'True', 'max_depth': 119, 'max_features': 'auto', 'max_leaf_nodes': 137, 'n_estimators': 893, 'min_samples_split': 4, 'min_samples_leaf': 1}. Best is trial 39 with value: 0.07030303030303028.\u001b[0m\n",
            "\u001b[32m[I 2022-03-19 16:49:12,094]\u001b[0m Trial 79 finished with value: -0.0893939393939394 and parameters: {'criterion': 'gini', 'bootstrap': 'True', 'max_depth': 41, 'max_features': 'auto', 'max_leaf_nodes': 86, 'n_estimators': 745, 'min_samples_split': 4, 'min_samples_leaf': 2}. Best is trial 39 with value: 0.07030303030303028.\u001b[0m\n",
            "\u001b[32m[I 2022-03-19 16:49:20,854]\u001b[0m Trial 80 finished with value: -0.08787878787878786 and parameters: {'criterion': 'gini', 'bootstrap': 'True', 'max_depth': 209, 'max_features': 'auto', 'max_leaf_nodes': 106, 'n_estimators': 841, 'min_samples_split': 4, 'min_samples_leaf': 1}. Best is trial 39 with value: 0.07030303030303028.\u001b[0m\n",
            "\u001b[32m[I 2022-03-19 16:49:29,433]\u001b[0m Trial 81 finished with value: 0.012121212121212133 and parameters: {'criterion': 'gini', 'bootstrap': 'True', 'max_depth': 203, 'max_features': 'auto', 'max_leaf_nodes': 26, 'n_estimators': 813, 'min_samples_split': 4, 'min_samples_leaf': 1}. Best is trial 39 with value: 0.07030303030303028.\u001b[0m\n",
            "\u001b[32m[I 2022-03-19 16:49:38,604]\u001b[0m Trial 82 finished with value: 0.012121212121212133 and parameters: {'criterion': 'gini', 'bootstrap': 'True', 'max_depth': 77, 'max_features': 'auto', 'max_leaf_nodes': 23, 'n_estimators': 879, 'min_samples_split': 4, 'min_samples_leaf': 1}. Best is trial 39 with value: 0.07030303030303028.\u001b[0m\n",
            "\u001b[32m[I 2022-03-19 16:49:47,778]\u001b[0m Trial 83 finished with value: -0.08787878787878786 and parameters: {'criterion': 'gini', 'bootstrap': 'True', 'max_depth': 231, 'max_features': 'auto', 'max_leaf_nodes': 21, 'n_estimators': 870, 'min_samples_split': 4, 'min_samples_leaf': 1}. Best is trial 39 with value: 0.07030303030303028.\u001b[0m\n",
            "\u001b[32m[I 2022-03-19 16:49:56,158]\u001b[0m Trial 84 finished with value: 0.013636363636363646 and parameters: {'criterion': 'gini', 'bootstrap': 'True', 'max_depth': 66, 'max_features': 'auto', 'max_leaf_nodes': 27, 'n_estimators': 805, 'min_samples_split': 4, 'min_samples_leaf': 1}. Best is trial 39 with value: 0.07030303030303028.\u001b[0m\n",
            "\u001b[32m[I 2022-03-19 16:50:04,635]\u001b[0m Trial 85 finished with value: -0.08636363636363635 and parameters: {'criterion': 'gini', 'bootstrap': 'True', 'max_depth': 87, 'max_features': 'auto', 'max_leaf_nodes': 54, 'n_estimators': 808, 'min_samples_split': 4, 'min_samples_leaf': 1}. Best is trial 39 with value: 0.07030303030303028.\u001b[0m\n",
            "\u001b[32m[I 2022-03-19 16:50:12,817]\u001b[0m Trial 86 finished with value: -0.037878787878787866 and parameters: {'criterion': 'gini', 'bootstrap': 'True', 'max_depth': 7, 'max_features': 'auto', 'max_leaf_nodes': 60, 'n_estimators': 783, 'min_samples_split': 4, 'min_samples_leaf': 1}. Best is trial 39 with value: 0.07030303030303028.\u001b[0m\n",
            "\u001b[32m[I 2022-03-19 16:50:20,460]\u001b[0m Trial 87 finished with value: 0.06878787878787877 and parameters: {'criterion': 'gini', 'bootstrap': 'True', 'max_depth': 135, 'max_features': 'auto', 'max_leaf_nodes': 25, 'n_estimators': 718, 'min_samples_split': 4, 'min_samples_leaf': 1}. Best is trial 39 with value: 0.07030303030303028.\u001b[0m\n",
            "\u001b[32m[I 2022-03-19 16:50:28,164]\u001b[0m Trial 88 finished with value: 0.018787878787878777 and parameters: {'criterion': 'gini', 'bootstrap': 'True', 'max_depth': 133, 'max_features': 'auto', 'max_leaf_nodes': 19, 'n_estimators': 724, 'min_samples_split': 4, 'min_samples_leaf': 1}. Best is trial 39 with value: 0.07030303030303028.\u001b[0m\n",
            "\u001b[32m[I 2022-03-19 16:50:35,886]\u001b[0m Trial 89 finished with value: -0.08787878787878786 and parameters: {'criterion': 'gini', 'bootstrap': 'True', 'max_depth': 131, 'max_features': 'auto', 'max_leaf_nodes': 33, 'n_estimators': 714, 'min_samples_split': 4, 'min_samples_leaf': 1}. Best is trial 39 with value: 0.07030303030303028.\u001b[0m\n",
            "\u001b[32m[I 2022-03-19 16:50:43,738]\u001b[0m Trial 90 finished with value: -0.1812121212121212 and parameters: {'criterion': 'gini', 'bootstrap': 'True', 'max_depth': 151, 'max_features': 'auto', 'max_leaf_nodes': 3, 'n_estimators': 759, 'min_samples_split': 4, 'min_samples_leaf': 1}. Best is trial 39 with value: 0.07030303030303028.\u001b[0m\n",
            "\u001b[32m[I 2022-03-19 16:50:51,090]\u001b[0m Trial 91 finished with value: -0.08272727272727276 and parameters: {'criterion': 'gini', 'bootstrap': 'True', 'max_depth': 71, 'max_features': 'auto', 'max_leaf_nodes': 44, 'n_estimators': 677, 'min_samples_split': 4, 'min_samples_leaf': 1}. Best is trial 39 with value: 0.07030303030303028.\u001b[0m\n",
            "\u001b[32m[I 2022-03-19 16:51:00,362]\u001b[0m Trial 92 finished with value: 0.018787878787878777 and parameters: {'criterion': 'gini', 'bootstrap': 'True', 'max_depth': 176, 'max_features': 'auto', 'max_leaf_nodes': 69, 'n_estimators': 904, 'min_samples_split': 4, 'min_samples_leaf': 1}. Best is trial 39 with value: 0.07030303030303028.\u001b[0m\n",
            "\u001b[32m[I 2022-03-19 16:51:09,438]\u001b[0m Trial 93 finished with value: -0.031212121212121226 and parameters: {'criterion': 'gini', 'bootstrap': 'True', 'max_depth': 171, 'max_features': 'auto', 'max_leaf_nodes': 75, 'n_estimators': 903, 'min_samples_split': 4, 'min_samples_leaf': 1}. Best is trial 39 with value: 0.07030303030303028.\u001b[0m\n",
            "\u001b[32m[I 2022-03-19 16:51:17,106]\u001b[0m Trial 94 finished with value: -0.08787878787878786 and parameters: {'criterion': 'gini', 'bootstrap': 'True', 'max_depth': 280, 'max_features': 'auto', 'max_leaf_nodes': 135, 'n_estimators': 712, 'min_samples_split': 4, 'min_samples_leaf': 1}. Best is trial 39 with value: 0.07030303030303028.\u001b[0m\n",
            "\u001b[32m[I 2022-03-19 16:51:25,721]\u001b[0m Trial 95 finished with value: 0.013636363636363646 and parameters: {'criterion': 'gini', 'bootstrap': 'True', 'max_depth': 144, 'max_features': 'auto', 'max_leaf_nodes': 41, 'n_estimators': 829, 'min_samples_split': 4, 'min_samples_leaf': 1}. Best is trial 39 with value: 0.07030303030303028.\u001b[0m\n",
            "\u001b[32m[I 2022-03-19 16:51:34,667]\u001b[0m Trial 96 finished with value: -0.0893939393939394 and parameters: {'criterion': 'gini', 'bootstrap': 'True', 'max_depth': 138, 'max_features': 'auto', 'max_leaf_nodes': 108, 'n_estimators': 843, 'min_samples_split': 4, 'min_samples_leaf': 1}. Best is trial 39 with value: 0.07030303030303028.\u001b[0m\n",
            "\u001b[32m[I 2022-03-19 16:51:44,067]\u001b[0m Trial 97 finished with value: -0.08787878787878786 and parameters: {'criterion': 'gini', 'bootstrap': 'True', 'max_depth': 224, 'max_features': 'sqrt', 'max_leaf_nodes': 84, 'n_estimators': 915, 'min_samples_split': 4, 'min_samples_leaf': 2}. Best is trial 39 with value: 0.07030303030303028.\u001b[0m\n",
            "\u001b[32m[I 2022-03-19 16:51:51,848]\u001b[0m Trial 98 finished with value: -0.5445454545454546 and parameters: {'criterion': 'gini', 'bootstrap': 'True', 'max_depth': 176, 'max_features': 'auto', 'max_leaf_nodes': 2, 'n_estimators': 748, 'min_samples_split': 4, 'min_samples_leaf': 6}. Best is trial 39 with value: 0.07030303030303028.\u001b[0m\n",
            "\u001b[32m[I 2022-03-19 16:52:00,927]\u001b[0m Trial 99 finished with value: -0.1445454545454545 and parameters: {'criterion': 'gini', 'bootstrap': 'True', 'max_depth': 22, 'max_features': 'auto', 'max_leaf_nodes': 180, 'n_estimators': 879, 'min_samples_split': 4, 'min_samples_leaf': 8}. Best is trial 39 with value: 0.07030303030303028.\u001b[0m\n"
          ]
        },
        {
          "output_type": "stream",
          "name": "stdout",
          "text": [
            "Accuracy: 0.07030303030303028\n",
            "TrainAccuracy: 0.9318181818181818\n",
            "Accuracy: 0.5909090909090909\n",
            "              precision    recall  f1-score   support\n",
            "\n",
            "         0.0       0.62      0.77      0.69        13\n",
            "         1.0       0.50      0.33      0.40         9\n",
            "\n",
            "    accuracy                           0.59        22\n",
            "   macro avg       0.56      0.55      0.54        22\n",
            "weighted avg       0.57      0.59      0.57        22\n",
            "\n"
          ]
        }
      ]
    },
    {
      "cell_type": "markdown",
      "source": [
        "最適化の履歴をplot_optimization_history()メソッドを使い確認してみましょう。\n",
        "縦軸が目的変数、横軸が最適化のトライアル数になってます。オレンジの折れ線が最良の目的変数の値となっており、何回目のトライアルでベストパラメータが出たのかわかりやすくなってます。"
      ],
      "metadata": {
        "id": "Nz5P7pvYc8Oa"
      }
    },
    {
      "cell_type": "code",
      "source": [
        "optuna.visualization.plot_optimization_history(study)"
      ],
      "metadata": {
        "colab": {
          "base_uri": "https://localhost:8080/",
          "height": 542
        },
        "id": "WZbFkzSodF-A",
        "outputId": "0976676a-8a63-49fe-ab94-fae9eb7edd6c"
      },
      "execution_count": 14,
      "outputs": [
        {
          "output_type": "display_data",
          "data": {
            "text/html": [
              "<html>\n",
              "<head><meta charset=\"utf-8\" /></head>\n",
              "<body>\n",
              "    <div>            <script src=\"https://cdnjs.cloudflare.com/ajax/libs/mathjax/2.7.5/MathJax.js?config=TeX-AMS-MML_SVG\"></script><script type=\"text/javascript\">if (window.MathJax) {MathJax.Hub.Config({SVG: {font: \"STIX-Web\"}});}</script>                <script type=\"text/javascript\">window.PlotlyConfig = {MathJaxConfig: 'local'};</script>\n",
              "        <script src=\"https://cdn.plot.ly/plotly-2.8.3.min.js\"></script>                <div id=\"81e42e32-9984-4e4d-b8dc-9845224d01f2\" class=\"plotly-graph-div\" style=\"height:525px; width:100%;\"></div>            <script type=\"text/javascript\">                                    window.PLOTLYENV=window.PLOTLYENV || {};                                    if (document.getElementById(\"81e42e32-9984-4e4d-b8dc-9845224d01f2\")) {                    Plotly.newPlot(                        \"81e42e32-9984-4e4d-b8dc-9845224d01f2\",                        [{\"mode\":\"markers\",\"name\":\"Objective Value\",\"x\":[0,1,2,3,4,5,6,7,8,9,10,11,12,13,14,15,16,17,18,19,20,21,22,23,24,25,26,27,28,29,30,31,32,33,34,35,36,37,38,39,40,41,42,43,44,45,46,47,48,49,50,51,52,53,54,55,56,57,58,59,60,61,62,63,64,65,66,67,68,69,70,71,72,73,74,75,76,77,78,79,80,81,82,83,84,85,86,87,88,89,90,91,92,93,94,95,96,97,98,99],\"y\":[-0.08787878787878786,0.013636363636363646,-0.1445454545454545,-0.13121212121212122,-0.1893939393939394,-0.18272727272727277,-0.17454545454545453,-0.1893939393939394,-0.13787878787878788,-0.24454545454545454,-0.08636363636363635,-0.09303030303030299,-0.13636363636363635,-0.036363636363636355,-0.19454545454545452,-0.19606060606060605,-0.036363636363636355,-0.143030303030303,-0.13787878787878788,-0.13787878787878788,-0.08787878787878786,-0.13787878787878788,-0.08787878787878786,-0.08636363636363635,-0.1445454545454545,-0.19454545454545452,0.018787878787878777,-0.031212121212121226,-0.037878787878787866,-0.031212121212121226,-0.037878787878787866,-0.18787878787878787,-0.1393939393939394,-0.13787878787878788,-0.13787878787878788,-0.18272727272727277,0.020303030303030288,-0.13636363636363635,-0.13787878787878788,0.07030303030303028,-0.19454545454545452,-0.18787878787878787,-0.08272727272727276,-0.031212121212121226,-0.02969696969696971,-0.13121212121212122,-0.29454545454545455,-0.13424242424242427,-0.24454545454545454,-0.09454545454545452,-0.143030303030303,-0.08787878787878786,-0.29757575757575755,-0.08787878787878786,-0.143030303030303,-0.1393939393939394,-0.036363636363636355,-0.037878787878787866,-0.29454545454545455,-0.19454545454545452,-0.0893939393939394,-0.03272727272727276,-0.031212121212121226,-0.08787878787878786,-0.08787878787878786,-0.13787878787878788,-0.08787878787878786,-0.08121212121212122,-0.13787878787878788,-0.031212121212121226,-0.193030303030303,-0.13272727272727275,-0.043030303030302995,-0.08787878787878786,-0.031212121212121226,-0.02969696969696971,0.012121212121212133,-0.031212121212121226,-0.08787878787878786,-0.0893939393939394,-0.08787878787878786,0.012121212121212133,0.012121212121212133,-0.08787878787878786,0.013636363636363646,-0.08636363636363635,-0.037878787878787866,0.06878787878787877,0.018787878787878777,-0.08787878787878786,-0.1812121212121212,-0.08272727272727276,0.018787878787878777,-0.031212121212121226,-0.08787878787878786,0.013636363636363646,-0.0893939393939394,-0.08787878787878786,-0.5445454545454546,-0.1445454545454545],\"type\":\"scatter\"},{\"name\":\"Best Value\",\"x\":[0,1,2,3,4,5,6,7,8,9,10,11,12,13,14,15,16,17,18,19,20,21,22,23,24,25,26,27,28,29,30,31,32,33,34,35,36,37,38,39,40,41,42,43,44,45,46,47,48,49,50,51,52,53,54,55,56,57,58,59,60,61,62,63,64,65,66,67,68,69,70,71,72,73,74,75,76,77,78,79,80,81,82,83,84,85,86,87,88,89,90,91,92,93,94,95,96,97,98,99],\"y\":[-0.08787878787878786,0.013636363636363646,0.013636363636363646,0.013636363636363646,0.013636363636363646,0.013636363636363646,0.013636363636363646,0.013636363636363646,0.013636363636363646,0.013636363636363646,0.013636363636363646,0.013636363636363646,0.013636363636363646,0.013636363636363646,0.013636363636363646,0.013636363636363646,0.013636363636363646,0.013636363636363646,0.013636363636363646,0.013636363636363646,0.013636363636363646,0.013636363636363646,0.013636363636363646,0.013636363636363646,0.013636363636363646,0.013636363636363646,0.018787878787878777,0.018787878787878777,0.018787878787878777,0.018787878787878777,0.018787878787878777,0.018787878787878777,0.018787878787878777,0.018787878787878777,0.018787878787878777,0.018787878787878777,0.020303030303030288,0.020303030303030288,0.020303030303030288,0.07030303030303028,0.07030303030303028,0.07030303030303028,0.07030303030303028,0.07030303030303028,0.07030303030303028,0.07030303030303028,0.07030303030303028,0.07030303030303028,0.07030303030303028,0.07030303030303028,0.07030303030303028,0.07030303030303028,0.07030303030303028,0.07030303030303028,0.07030303030303028,0.07030303030303028,0.07030303030303028,0.07030303030303028,0.07030303030303028,0.07030303030303028,0.07030303030303028,0.07030303030303028,0.07030303030303028,0.07030303030303028,0.07030303030303028,0.07030303030303028,0.07030303030303028,0.07030303030303028,0.07030303030303028,0.07030303030303028,0.07030303030303028,0.07030303030303028,0.07030303030303028,0.07030303030303028,0.07030303030303028,0.07030303030303028,0.07030303030303028,0.07030303030303028,0.07030303030303028,0.07030303030303028,0.07030303030303028,0.07030303030303028,0.07030303030303028,0.07030303030303028,0.07030303030303028,0.07030303030303028,0.07030303030303028,0.07030303030303028,0.07030303030303028,0.07030303030303028,0.07030303030303028,0.07030303030303028,0.07030303030303028,0.07030303030303028,0.07030303030303028,0.07030303030303028,0.07030303030303028,0.07030303030303028,0.07030303030303028,0.07030303030303028],\"type\":\"scatter\"}],                        {\"title\":{\"text\":\"Optimization History Plot\"},\"xaxis\":{\"title\":{\"text\":\"#Trials\"}},\"yaxis\":{\"title\":{\"text\":\"Objective Value\"}},\"template\":{\"data\":{\"bar\":[{\"error_x\":{\"color\":\"#2a3f5f\"},\"error_y\":{\"color\":\"#2a3f5f\"},\"marker\":{\"line\":{\"color\":\"#E5ECF6\",\"width\":0.5},\"pattern\":{\"fillmode\":\"overlay\",\"size\":10,\"solidity\":0.2}},\"type\":\"bar\"}],\"barpolar\":[{\"marker\":{\"line\":{\"color\":\"#E5ECF6\",\"width\":0.5},\"pattern\":{\"fillmode\":\"overlay\",\"size\":10,\"solidity\":0.2}},\"type\":\"barpolar\"}],\"carpet\":[{\"aaxis\":{\"endlinecolor\":\"#2a3f5f\",\"gridcolor\":\"white\",\"linecolor\":\"white\",\"minorgridcolor\":\"white\",\"startlinecolor\":\"#2a3f5f\"},\"baxis\":{\"endlinecolor\":\"#2a3f5f\",\"gridcolor\":\"white\",\"linecolor\":\"white\",\"minorgridcolor\":\"white\",\"startlinecolor\":\"#2a3f5f\"},\"type\":\"carpet\"}],\"choropleth\":[{\"colorbar\":{\"outlinewidth\":0,\"ticks\":\"\"},\"type\":\"choropleth\"}],\"contour\":[{\"colorbar\":{\"outlinewidth\":0,\"ticks\":\"\"},\"colorscale\":[[0.0,\"#0d0887\"],[0.1111111111111111,\"#46039f\"],[0.2222222222222222,\"#7201a8\"],[0.3333333333333333,\"#9c179e\"],[0.4444444444444444,\"#bd3786\"],[0.5555555555555556,\"#d8576b\"],[0.6666666666666666,\"#ed7953\"],[0.7777777777777778,\"#fb9f3a\"],[0.8888888888888888,\"#fdca26\"],[1.0,\"#f0f921\"]],\"type\":\"contour\"}],\"contourcarpet\":[{\"colorbar\":{\"outlinewidth\":0,\"ticks\":\"\"},\"type\":\"contourcarpet\"}],\"heatmap\":[{\"colorbar\":{\"outlinewidth\":0,\"ticks\":\"\"},\"colorscale\":[[0.0,\"#0d0887\"],[0.1111111111111111,\"#46039f\"],[0.2222222222222222,\"#7201a8\"],[0.3333333333333333,\"#9c179e\"],[0.4444444444444444,\"#bd3786\"],[0.5555555555555556,\"#d8576b\"],[0.6666666666666666,\"#ed7953\"],[0.7777777777777778,\"#fb9f3a\"],[0.8888888888888888,\"#fdca26\"],[1.0,\"#f0f921\"]],\"type\":\"heatmap\"}],\"heatmapgl\":[{\"colorbar\":{\"outlinewidth\":0,\"ticks\":\"\"},\"colorscale\":[[0.0,\"#0d0887\"],[0.1111111111111111,\"#46039f\"],[0.2222222222222222,\"#7201a8\"],[0.3333333333333333,\"#9c179e\"],[0.4444444444444444,\"#bd3786\"],[0.5555555555555556,\"#d8576b\"],[0.6666666666666666,\"#ed7953\"],[0.7777777777777778,\"#fb9f3a\"],[0.8888888888888888,\"#fdca26\"],[1.0,\"#f0f921\"]],\"type\":\"heatmapgl\"}],\"histogram\":[{\"marker\":{\"pattern\":{\"fillmode\":\"overlay\",\"size\":10,\"solidity\":0.2}},\"type\":\"histogram\"}],\"histogram2d\":[{\"colorbar\":{\"outlinewidth\":0,\"ticks\":\"\"},\"colorscale\":[[0.0,\"#0d0887\"],[0.1111111111111111,\"#46039f\"],[0.2222222222222222,\"#7201a8\"],[0.3333333333333333,\"#9c179e\"],[0.4444444444444444,\"#bd3786\"],[0.5555555555555556,\"#d8576b\"],[0.6666666666666666,\"#ed7953\"],[0.7777777777777778,\"#fb9f3a\"],[0.8888888888888888,\"#fdca26\"],[1.0,\"#f0f921\"]],\"type\":\"histogram2d\"}],\"histogram2dcontour\":[{\"colorbar\":{\"outlinewidth\":0,\"ticks\":\"\"},\"colorscale\":[[0.0,\"#0d0887\"],[0.1111111111111111,\"#46039f\"],[0.2222222222222222,\"#7201a8\"],[0.3333333333333333,\"#9c179e\"],[0.4444444444444444,\"#bd3786\"],[0.5555555555555556,\"#d8576b\"],[0.6666666666666666,\"#ed7953\"],[0.7777777777777778,\"#fb9f3a\"],[0.8888888888888888,\"#fdca26\"],[1.0,\"#f0f921\"]],\"type\":\"histogram2dcontour\"}],\"mesh3d\":[{\"colorbar\":{\"outlinewidth\":0,\"ticks\":\"\"},\"type\":\"mesh3d\"}],\"parcoords\":[{\"line\":{\"colorbar\":{\"outlinewidth\":0,\"ticks\":\"\"}},\"type\":\"parcoords\"}],\"pie\":[{\"automargin\":true,\"type\":\"pie\"}],\"scatter\":[{\"marker\":{\"colorbar\":{\"outlinewidth\":0,\"ticks\":\"\"}},\"type\":\"scatter\"}],\"scatter3d\":[{\"line\":{\"colorbar\":{\"outlinewidth\":0,\"ticks\":\"\"}},\"marker\":{\"colorbar\":{\"outlinewidth\":0,\"ticks\":\"\"}},\"type\":\"scatter3d\"}],\"scattercarpet\":[{\"marker\":{\"colorbar\":{\"outlinewidth\":0,\"ticks\":\"\"}},\"type\":\"scattercarpet\"}],\"scattergeo\":[{\"marker\":{\"colorbar\":{\"outlinewidth\":0,\"ticks\":\"\"}},\"type\":\"scattergeo\"}],\"scattergl\":[{\"marker\":{\"colorbar\":{\"outlinewidth\":0,\"ticks\":\"\"}},\"type\":\"scattergl\"}],\"scattermapbox\":[{\"marker\":{\"colorbar\":{\"outlinewidth\":0,\"ticks\":\"\"}},\"type\":\"scattermapbox\"}],\"scatterpolar\":[{\"marker\":{\"colorbar\":{\"outlinewidth\":0,\"ticks\":\"\"}},\"type\":\"scatterpolar\"}],\"scatterpolargl\":[{\"marker\":{\"colorbar\":{\"outlinewidth\":0,\"ticks\":\"\"}},\"type\":\"scatterpolargl\"}],\"scatterternary\":[{\"marker\":{\"colorbar\":{\"outlinewidth\":0,\"ticks\":\"\"}},\"type\":\"scatterternary\"}],\"surface\":[{\"colorbar\":{\"outlinewidth\":0,\"ticks\":\"\"},\"colorscale\":[[0.0,\"#0d0887\"],[0.1111111111111111,\"#46039f\"],[0.2222222222222222,\"#7201a8\"],[0.3333333333333333,\"#9c179e\"],[0.4444444444444444,\"#bd3786\"],[0.5555555555555556,\"#d8576b\"],[0.6666666666666666,\"#ed7953\"],[0.7777777777777778,\"#fb9f3a\"],[0.8888888888888888,\"#fdca26\"],[1.0,\"#f0f921\"]],\"type\":\"surface\"}],\"table\":[{\"cells\":{\"fill\":{\"color\":\"#EBF0F8\"},\"line\":{\"color\":\"white\"}},\"header\":{\"fill\":{\"color\":\"#C8D4E3\"},\"line\":{\"color\":\"white\"}},\"type\":\"table\"}]},\"layout\":{\"annotationdefaults\":{\"arrowcolor\":\"#2a3f5f\",\"arrowhead\":0,\"arrowwidth\":1},\"autotypenumbers\":\"strict\",\"coloraxis\":{\"colorbar\":{\"outlinewidth\":0,\"ticks\":\"\"}},\"colorscale\":{\"diverging\":[[0,\"#8e0152\"],[0.1,\"#c51b7d\"],[0.2,\"#de77ae\"],[0.3,\"#f1b6da\"],[0.4,\"#fde0ef\"],[0.5,\"#f7f7f7\"],[0.6,\"#e6f5d0\"],[0.7,\"#b8e186\"],[0.8,\"#7fbc41\"],[0.9,\"#4d9221\"],[1,\"#276419\"]],\"sequential\":[[0.0,\"#0d0887\"],[0.1111111111111111,\"#46039f\"],[0.2222222222222222,\"#7201a8\"],[0.3333333333333333,\"#9c179e\"],[0.4444444444444444,\"#bd3786\"],[0.5555555555555556,\"#d8576b\"],[0.6666666666666666,\"#ed7953\"],[0.7777777777777778,\"#fb9f3a\"],[0.8888888888888888,\"#fdca26\"],[1.0,\"#f0f921\"]],\"sequentialminus\":[[0.0,\"#0d0887\"],[0.1111111111111111,\"#46039f\"],[0.2222222222222222,\"#7201a8\"],[0.3333333333333333,\"#9c179e\"],[0.4444444444444444,\"#bd3786\"],[0.5555555555555556,\"#d8576b\"],[0.6666666666666666,\"#ed7953\"],[0.7777777777777778,\"#fb9f3a\"],[0.8888888888888888,\"#fdca26\"],[1.0,\"#f0f921\"]]},\"colorway\":[\"#636efa\",\"#EF553B\",\"#00cc96\",\"#ab63fa\",\"#FFA15A\",\"#19d3f3\",\"#FF6692\",\"#B6E880\",\"#FF97FF\",\"#FECB52\"],\"font\":{\"color\":\"#2a3f5f\"},\"geo\":{\"bgcolor\":\"white\",\"lakecolor\":\"white\",\"landcolor\":\"#E5ECF6\",\"showlakes\":true,\"showland\":true,\"subunitcolor\":\"white\"},\"hoverlabel\":{\"align\":\"left\"},\"hovermode\":\"closest\",\"mapbox\":{\"style\":\"light\"},\"paper_bgcolor\":\"white\",\"plot_bgcolor\":\"#E5ECF6\",\"polar\":{\"angularaxis\":{\"gridcolor\":\"white\",\"linecolor\":\"white\",\"ticks\":\"\"},\"bgcolor\":\"#E5ECF6\",\"radialaxis\":{\"gridcolor\":\"white\",\"linecolor\":\"white\",\"ticks\":\"\"}},\"scene\":{\"xaxis\":{\"backgroundcolor\":\"#E5ECF6\",\"gridcolor\":\"white\",\"gridwidth\":2,\"linecolor\":\"white\",\"showbackground\":true,\"ticks\":\"\",\"zerolinecolor\":\"white\"},\"yaxis\":{\"backgroundcolor\":\"#E5ECF6\",\"gridcolor\":\"white\",\"gridwidth\":2,\"linecolor\":\"white\",\"showbackground\":true,\"ticks\":\"\",\"zerolinecolor\":\"white\"},\"zaxis\":{\"backgroundcolor\":\"#E5ECF6\",\"gridcolor\":\"white\",\"gridwidth\":2,\"linecolor\":\"white\",\"showbackground\":true,\"ticks\":\"\",\"zerolinecolor\":\"white\"}},\"shapedefaults\":{\"line\":{\"color\":\"#2a3f5f\"}},\"ternary\":{\"aaxis\":{\"gridcolor\":\"white\",\"linecolor\":\"white\",\"ticks\":\"\"},\"baxis\":{\"gridcolor\":\"white\",\"linecolor\":\"white\",\"ticks\":\"\"},\"bgcolor\":\"#E5ECF6\",\"caxis\":{\"gridcolor\":\"white\",\"linecolor\":\"white\",\"ticks\":\"\"}},\"title\":{\"x\":0.05},\"xaxis\":{\"automargin\":true,\"gridcolor\":\"white\",\"linecolor\":\"white\",\"ticks\":\"\",\"title\":{\"standoff\":15},\"zerolinecolor\":\"white\",\"zerolinewidth\":2},\"yaxis\":{\"automargin\":true,\"gridcolor\":\"white\",\"linecolor\":\"white\",\"ticks\":\"\",\"title\":{\"standoff\":15},\"zerolinecolor\":\"white\",\"zerolinewidth\":2}}}},                        {\"responsive\": true}                    ).then(function(){\n",
              "                            \n",
              "var gd = document.getElementById('81e42e32-9984-4e4d-b8dc-9845224d01f2');\n",
              "var x = new MutationObserver(function (mutations, observer) {{\n",
              "        var display = window.getComputedStyle(gd).display;\n",
              "        if (!display || display === 'none') {{\n",
              "            console.log([gd, 'removed!']);\n",
              "            Plotly.purge(gd);\n",
              "            observer.disconnect();\n",
              "        }}\n",
              "}});\n",
              "\n",
              "// Listen for the removal of the full notebook cells\n",
              "var notebookContainer = gd.closest('#notebook-container');\n",
              "if (notebookContainer) {{\n",
              "    x.observe(notebookContainer, {childList: true});\n",
              "}}\n",
              "\n",
              "// Listen for the clearing of the current output cell\n",
              "var outputEl = gd.closest('.output');\n",
              "if (outputEl) {{\n",
              "    x.observe(outputEl, {childList: true});\n",
              "}}\n",
              "\n",
              "                        })                };                            </script>        </div>\n",
              "</body>\n",
              "</html>"
            ]
          },
          "metadata": {}
        }
      ]
    },
    {
      "cell_type": "markdown",
      "source": [
        "グラフをみてみると61回目のトライアルでベストパラメーターが出たのがわかりやくなっています。"
      ],
      "metadata": {
        "id": "RzcLsFL8HEg_"
      }
    },
    {
      "cell_type": "markdown",
      "source": [
        "## 特徴量の重要度の評価"
      ],
      "metadata": {
        "id": "TQSbk2_iIW9j"
      }
    },
    {
      "cell_type": "markdown",
      "source": [
        "妥当性の検証を終え、クロスバリデーションとOptunaでより正確性が高かったモデルを使い、特徴量の重要度の評価を行います。\n",
        "特徴量の重要度の評価はScikit-learnのランダムフォレストモデルライブラリのfeature_importances()という関数を使います。\n"
      ],
      "metadata": {
        "id": "CJSXajwpdRfK"
      }
    },
    {
      "cell_type": "code",
      "source": [
        "if accuracy_random_forest_op > accuracy_random_forest:\n",
        "  feature_importances = rforest_model_post_optuna.feature_importances_\n",
        "else:\n",
        "  feature_importances = rforest_model_cv.feature_importances_\n",
        "\n",
        "feature_importances_dict = {}\n",
        "for i, importance in enumerate(feature_importances):\n",
        "  perc = importance * 100\n",
        "  feature_importances_dict[finalized_df.columns[i+1]] = perc # 一行目は出力行のため、考慮しない\n",
        "\n",
        "sorted_dict = {}\n",
        "sorted_keys = sorted(feature_importances_dict, key=feature_importances_dict.get)\n",
        "for w in sorted_keys:\n",
        "    sorted_dict[w] =  feature_importances_dict[w]\n",
        "  \n",
        "for keys in sorted_dict.keys():\n",
        "  print(f\"フィーチャー名：{keys:>12s}は出力データの結果に{sorted_dict[keys]:>7.2f}%関与しています\")"
      ],
      "metadata": {
        "id": "0kObwlht9ssY",
        "colab": {
          "base_uri": "https://localhost:8080/"
        },
        "outputId": "52940483-8074-4093-f8f2-5af725d6f89b"
      },
      "execution_count": 22,
      "outputs": [
        {
          "output_type": "stream",
          "name": "stdout",
          "text": [
            "フィーチャー名：    IL-12P70は出力データの結果に   0.00%関与しています\n",
            "フィーチャー名：       IL-17は出力データの結果に   0.00%関与しています\n",
            "フィーチャー名：        IL-9は出力データの結果に   0.00%関与しています\n",
            "フィーチャー名：        IL-2は出力データの結果に   0.00%関与しています\n",
            "フィーチャー名：        IL-3は出力データの結果に   0.00%関与しています\n",
            "フィーチャー名：        TNFbは出力データの結果に   0.00%関与しています\n",
            "フィーチャー名：         sexは出力データの結果に   0.06%関与しています\n",
            "フィーチャー名：        IPAFは出力データの結果に   0.11%関与しています\n",
            "フィーチャー名：Collagen-diseaseは出力データの結果に   0.20%関与しています\n",
            "フィーチャー名：       TGF-aは出力データの結果に   0.24%関与しています\n",
            "フィーチャー名：   emphysemaは出力データの結果に   0.25%関与しています\n",
            "フィーチャー名：      IL-36βは出力データの結果に   0.31%関与しています\n",
            "フィーチャー名：        IL-7は出力データの結果に   0.58%関与しています\n",
            "フィーチャー名：Baseline-ILDは出力データの結果に   0.65%関与しています\n",
            "フィーチャー名：smoking-statusは出力データの結果に   0.94%関与しています\n",
            "フィーチャー名：         ageは出力データの結果に   1.12%関与しています\n",
            "フィーチャー名：        IL-8は出力データの結果に   1.13%関与しています\n",
            "フィーチャー名：BAL(Lymph-%)は出力データの結果に   1.17%関与しています\n",
            "フィーチャー名：       IL-1bは出力データの結果に   1.17%関与しています\n",
            "フィーチャー名：       MCP-3は出力データの結果に   1.22%関与しています\n",
            "フィーチャー名：       IL-15は出力データの結果に   1.25%関与しています\n",
            "フィーチャー名：       TGFB2は出力データの結果に   1.31%関与しています\n",
            "フィーチャー名：       IL-1aは出力データの結果に   1.34%関与しています\n",
            "フィーチャー名：      IFN-a2は出力データの結果に   1.41%関与しています\n",
            "フィーチャー名：       IP-10は出力データの結果に   1.41%関与しています\n",
            "フィーチャー名：       IFN-gは出力データの結果に   1.42%関与しています\n",
            "フィーチャー名：        VEGFは出力データの結果に   1.45%関与しています\n",
            "フィーチャー名：      MIP-1aは出力データの結果に   1.45%関与しています\n",
            "フィーチャー名：      Flt-3Lは出力データの結果に   1.46%関与しています\n",
            "フィーチャー名：        IL-5は出力データの結果に   1.49%関与しています\n",
            "フィーチャー名：       MCP-1は出力データの結果に   1.50%関与しています\n",
            "フィーチャー名：       TGFB1は出力データの結果に   1.50%関与しています\n",
            "フィーチャー名：      MIP-1bは出力データの結果に   1.52%関与しています\n",
            "フィーチャー名：       FGF-2は出力データの結果に   1.61%関与しています\n",
            "フィーチャー名：    IL-12P40は出力データの結果に   1.61%関与しています\n",
            "フィーチャー名：Brinkman-Indexは出力データの結果に   1.61%関与しています\n",
            "フィーチャー名：         EGFは出力データの結果に   1.64%関与しています\n",
            "フィーチャー名：      GM-CSFは出力データの結果に   1.65%関与しています\n",
            "フィーチャー名：         CRPは出力データの結果に   1.65%関与しています\n",
            "フィーチャー名：  BAL(Eos-%)は出力データの結果に   1.69%関与しています\n",
            "フィーチャー名：      IL-1RAは出力データの結果に   1.73%関与しています\n",
            "フィーチャー名：    BAL(M-%)は出力データの結果に   1.88%関与しています\n",
            "フィーチャー名：       TGFB3は出力データの結果に   1.91%関与しています\n",
            "フィーチャー名：       G-CSFは出力データの結果に   1.95%関与しています\n",
            "フィーチャー名：        TNFaは出力データの結果に   2.00%関与しています\n",
            "フィーチャー名：  BAL(CD4/8)は出力データの結果に   2.05%関与しています\n",
            "フィーチャー名：     EOTAXINは出力データの結果に   2.13%関与しています\n",
            "フィーチャー名：        IL-4は出力データの結果に   2.18%関与しています\n",
            "フィーチャー名：       MMP-7は出力データの結果に   2.20%関与しています\n",
            "フィーチャー名：         MDCは出力データの結果に   2.20%関与しています\n",
            "フィーチャー名：      sCD40Lは出力データの結果に   2.48%関与しています\n",
            "フィーチャー名：        IL-6は出力データの結果に   3.17%関与しています\n",
            "フィーチャー名： FRACTALKINEは出力データの結果に   3.18%関与しています\n",
            "フィーチャー名：   P/F-ratioは出力データの結果に   3.27%関与しています\n",
            "フィーチャー名：         LDHは出力データの結果に   3.35%関与しています\n",
            "フィーチャー名：         GROは出力データの結果に   3.57%関与しています\n",
            "フィーチャー名：       IL-10は出力データの結果に   3.62%関与しています\n",
            "フィーチャー名：        KL-6は出力データの結果に   3.63%関与しています\n",
            "フィーチャー名：BAL(neutro-%)は出力データの結果に   3.81%関与しています\n",
            "フィーチャー名：       IL-13は出力データの結果に   4.79%関与しています\n",
            "フィーチャー名：       MMP-1は出力データの結果に   5.78%関与しています\n"
          ]
        }
      ]
    },
    {
      "cell_type": "markdown",
      "source": [
        "##  特徴量の重要度の評価に基づきモデル再構築"
      ],
      "metadata": {
        "id": "oSzY43HdJjcR"
      }
    },
    {
      "cell_type": "markdown",
      "source": [
        "特徴量設計は、モデルタイプやそのパラメータよりもモデルの品質に大きな影響を与えるという共通認識があります。特徴量選択が重要な問題である理由として、実際のパターンを隠してしまうほどの余分な特徴量で学習してしまうと、本来のパターンを見つけるのが難しくなります。この場合、モデルは不要な特徴量のノイズパターンを使用し始め、結果としてパフォーマンスの低下につながります。加え、特徴量の数を減らすと、一般的にモデルの学習（トレーニング）が大幅に速くなります。そして大抵の場合、結果として得られるモデルは単純で理解しやすいものとなります。常に単純なモデルになるように心がけ、ノイズを削除し、ロバストなモデル作成を心がける必要があります。詳しくはこちらを参照して下さい [[4](https://www.rapidminer.jp/wp-content/uploads/2020/05/%E6%A9%9F%E6%A2%B0%E5%AD%A6%E7%BF%92%E3%81%AE%E3%81%9F%E3%82%81%E3%81%AE%E7%89%B9%E5%BE%B4%E9%87%8F%E6%9C%80%E9%81%A9%E5%8C%96.pdf)]。\n",
        "\n",
        "今回はForward Selectionという考え方を応用し、特徴量の重要度の評価で最も正答率が高かった10個の属性を保持して再度モデルを作成します。"
      ],
      "metadata": {
        "id": "QCqhOn89d4da"
      }
    },
    {
      "cell_type": "code",
      "source": [
        "top_ten_params = list(sorted_dict.keys())[-10:]\n",
        "top_ten_params.append('90day-mortality')\n",
        "print(top_ten_params)\n",
        "\n",
        "# 最後に使用したPandasデータフレームをコピーを作成する\n",
        "finalized_df_c = finalized_df.copy()\n",
        "\n",
        "# 新しいデータフレームから重要因子以外を取り除く\n",
        "finalized_df_c = finalized_df_c.drop(columns=[col for col in finalized_df.columns if col not in top_ten_params])\n",
        "\n",
        "# 行数と列数を変数として保管する\n",
        "NUM_ROWS, NUM_COLS = finalized_df_c.shape[0], finalized_df_c.shape[1]\n",
        "\n",
        "# Y (ラベル) ターゲットラベル\n",
        "Y_col = '90day-mortality'\n",
        "# X (フィーチャー) ターゲットラベル以外の全ての行\n",
        "X_cols = finalized_df_c.loc[:, finalized_df_c.columns != Y_col].columns\n",
        "\n",
        "X_train, X_test, y_train, y_test = \\\n",
        "train_test_split(finalized_df_c[X_cols], finalized_df_c[Y_col],test_size=0.2, random_state=42)\n",
        "\n",
        "X_train_op, X_test_op, y_train_op, y_test_op = X_train.copy(), X_test.copy(), y_train.copy(), y_test.copy()\n",
        "\n",
        "print(\"X_train.shape = \", X_train.shape, \" \\t y_train.shape = \", y_train.shape)\n",
        "print(\"X_test.shape = \", X_test.shape, \" \\t y_test.shape = \", y_test.shape)\n",
        "\n",
        "study = optuna.create_study(direction='maximize')\n",
        "study.optimize(objective, n_trials=100)\n",
        "\n",
        "trial = study.best_trial\n",
        "print('Accuracy: {}'.format(trial.value))\n",
        "\n",
        "# チューニングしたハイパーパラメーターをフィット\n",
        "rforest_model_post_optuna_opt = ensemble.RandomForestClassifier(bootstrap = study.best_params['bootstrap'], criterion = study.best_params['criterion'],\n",
        "                                     max_depth = study.best_params['max_depth'], max_features = study.best_params['max_features'],\n",
        "                                     max_leaf_nodes = study.best_params['max_leaf_nodes'],n_estimators = study.best_params['n_estimators'],\n",
        "                                     min_samples_split = study.best_params['min_samples_split'],min_samples_leaf = study.best_params['min_samples_leaf'],                                     \n",
        "                                     n_jobs=2)\n",
        "\n",
        "# モデルを再度トレーニングする\n",
        "rforest_model_post_optuna_opt.fit(X_train_op, y_train_op) \n",
        "\n",
        "# 再度トレーニングした後のモデルのパフォーマンス検証\n",
        "# テストデータにrforest_modelに.predict()関数を応用し、RFモデルがラベルを何個正確に予測出来たかを検証する\n",
        "y_pred_op = rforest_model_post_optuna_opt.predict(X_test_op)\n",
        "\n",
        "#モデルを作成する段階でのモデルの識別精度\n",
        "trainaccuracy_random_forest = rforest_model_post_optuna_opt.score(X_train_op, y_train_op)\n",
        "print('TrainAccuracy: {}'.format(trainaccuracy_random_forest))\n",
        "\n",
        "#作成したモデルに学習に使用していない評価用のデータセットを入力し精度を確認\n",
        "accuracy_random_forest = accuracy_score(y_test_op, y_pred_op)\n",
        "print('Accuracy: {}'.format(accuracy_random_forest))\n",
        "\n",
        "# 正確性の出力\n",
        "print(classification_report(y_test_op, y_pred_op))\n",
        "\n",
        "# フィーチャーの重要度を出力するコード\n",
        "feature_importances_opt = rforest_model_post_optuna_opt.feature_importances_\n",
        "\n",
        "feature_importances_dict = {}\n",
        "for i, importance in enumerate(feature_importances_opt):\n",
        "  perc = importance * 100\n",
        "  feature_importances_dict[finalized_df_c.columns[i+1]] = perc\n",
        "\n",
        "sorted_dict = {}\n",
        "sorted_keys = sorted(feature_importances_dict, key=feature_importances_dict.get)\n",
        "for w in sorted_keys:\n",
        "    sorted_dict[w] =  feature_importances_dict[w]\n",
        "  \n",
        "for keys in sorted_dict.keys():\n",
        "  print(f\"フィーチャー名：{keys:>12s}は出力データの結果に{sorted_dict[keys]:>7.2f}%関与しています\")"
      ],
      "metadata": {
        "colab": {
          "base_uri": "https://localhost:8080/"
        },
        "id": "U0bu0FLieIiN",
        "outputId": "c768eaee-e076-4af4-91b7-cd2c39b87eb5"
      },
      "execution_count": 23,
      "outputs": [
        {
          "output_type": "stream",
          "name": "stderr",
          "text": [
            "\u001b[32m[I 2022-03-19 17:01:51,524]\u001b[0m A new study created in memory with name: no-name-05ae5702-784e-4ec9-8841-152162066b0c\u001b[0m\n"
          ]
        },
        {
          "output_type": "stream",
          "name": "stdout",
          "text": [
            "['IL-6', 'FRACTALKINE', 'P/F-ratio', 'LDH', 'GRO', 'IL-10', 'KL-6', 'BAL(neutro-%)', 'IL-13', 'MMP-1', '90day-mortality']\n",
            "X_train.shape =  (88, 10)  \t y_train.shape =  (88,)\n",
            "X_test.shape =  (22, 10)  \t y_test.shape =  (22,)\n"
          ]
        },
        {
          "output_type": "stream",
          "name": "stderr",
          "text": [
            "\u001b[32m[I 2022-03-19 17:01:54,942]\u001b[0m Trial 0 finished with value: 0.11212121212121214 and parameters: {'criterion': 'entropy', 'bootstrap': 'False', 'max_depth': 898, 'max_features': 'sqrt', 'max_leaf_nodes': 628, 'n_estimators': 150, 'min_samples_split': 2, 'min_samples_leaf': 9}. Best is trial 0 with value: 0.11212121212121214.\u001b[0m\n",
            "\u001b[32m[I 2022-03-19 17:01:58,768]\u001b[0m Trial 1 finished with value: 0.11212121212121214 and parameters: {'criterion': 'entropy', 'bootstrap': 'False', 'max_depth': 702, 'max_features': 'sqrt', 'max_leaf_nodes': 256, 'n_estimators': 322, 'min_samples_split': 2, 'min_samples_leaf': 6}. Best is trial 0 with value: 0.11212121212121214.\u001b[0m\n",
            "\u001b[32m[I 2022-03-19 17:02:09,135]\u001b[0m Trial 2 finished with value: 0.06878787878787877 and parameters: {'criterion': 'gini', 'bootstrap': 'True', 'max_depth': 912, 'max_features': 'sqrt', 'max_leaf_nodes': 606, 'n_estimators': 981, 'min_samples_split': 4, 'min_samples_leaf': 2}. Best is trial 0 with value: 0.11212121212121214.\u001b[0m\n",
            "\u001b[32m[I 2022-03-19 17:02:18,913]\u001b[0m Trial 3 finished with value: 0.06212121212121213 and parameters: {'criterion': 'entropy', 'bootstrap': 'False', 'max_depth': 275, 'max_features': 'log2', 'max_leaf_nodes': 400, 'n_estimators': 936, 'min_samples_split': 5, 'min_samples_leaf': 6}. Best is trial 0 with value: 0.11212121212121214.\u001b[0m\n",
            "\u001b[32m[I 2022-03-19 17:02:28,723]\u001b[0m Trial 4 finished with value: 0.012121212121212133 and parameters: {'criterion': 'gini', 'bootstrap': 'True', 'max_depth': 115, 'max_features': 'log2', 'max_leaf_nodes': 251, 'n_estimators': 938, 'min_samples_split': 5, 'min_samples_leaf': 2}. Best is trial 0 with value: 0.11212121212121214.\u001b[0m\n",
            "\u001b[32m[I 2022-03-19 17:02:37,526]\u001b[0m Trial 5 finished with value: 0.012121212121212133 and parameters: {'criterion': 'gini', 'bootstrap': 'False', 'max_depth': 78, 'max_features': 'auto', 'max_leaf_nodes': 548, 'n_estimators': 870, 'min_samples_split': 3, 'min_samples_leaf': 10}. Best is trial 0 with value: 0.11212121212121214.\u001b[0m\n",
            "\u001b[32m[I 2022-03-19 17:02:42,228]\u001b[0m Trial 6 finished with value: 0.012121212121212133 and parameters: {'criterion': 'gini', 'bootstrap': 'True', 'max_depth': 164, 'max_features': 'log2', 'max_leaf_nodes': 884, 'n_estimators': 426, 'min_samples_split': 2, 'min_samples_leaf': 4}. Best is trial 0 with value: 0.11212121212121214.\u001b[0m\n",
            "\u001b[32m[I 2022-03-19 17:02:49,822]\u001b[0m Trial 7 finished with value: 0.012121212121212133 and parameters: {'criterion': 'entropy', 'bootstrap': 'True', 'max_depth': 907, 'max_features': 'sqrt', 'max_leaf_nodes': 234, 'n_estimators': 737, 'min_samples_split': 3, 'min_samples_leaf': 7}. Best is trial 0 with value: 0.11212121212121214.\u001b[0m\n",
            "\u001b[32m[I 2022-03-19 17:02:57,664]\u001b[0m Trial 8 finished with value: 0.11878787878787878 and parameters: {'criterion': 'entropy', 'bootstrap': 'True', 'max_depth': 244, 'max_features': 'sqrt', 'max_leaf_nodes': 626, 'n_estimators': 752, 'min_samples_split': 2, 'min_samples_leaf': 3}. Best is trial 8 with value: 0.11878787878787878.\u001b[0m\n",
            "\u001b[32m[I 2022-03-19 17:03:07,552]\u001b[0m Trial 9 finished with value: 0.06212121212121213 and parameters: {'criterion': 'gini', 'bootstrap': 'False', 'max_depth': 707, 'max_features': 'log2', 'max_leaf_nodes': 977, 'n_estimators': 955, 'min_samples_split': 5, 'min_samples_leaf': 5}. Best is trial 8 with value: 0.11878787878787878.\u001b[0m\n",
            "\u001b[32m[I 2022-03-19 17:03:14,373]\u001b[0m Trial 10 finished with value: 0.16878787878787876 and parameters: {'criterion': 'entropy', 'bootstrap': 'True', 'max_depth': 420, 'max_features': 'auto', 'max_leaf_nodes': 27, 'n_estimators': 644, 'min_samples_split': 3, 'min_samples_leaf': 1}. Best is trial 10 with value: 0.16878787878787876.\u001b[0m\n",
            "\u001b[32m[I 2022-03-19 17:03:21,053]\u001b[0m Trial 11 finished with value: 0.16878787878787876 and parameters: {'criterion': 'entropy', 'bootstrap': 'True', 'max_depth': 382, 'max_features': 'auto', 'max_leaf_nodes': 7, 'n_estimators': 636, 'min_samples_split': 3, 'min_samples_leaf': 1}. Best is trial 10 with value: 0.16878787878787876.\u001b[0m\n",
            "\u001b[32m[I 2022-03-19 17:03:29,867]\u001b[0m Trial 12 finished with value: -0.08787878787878786 and parameters: {'criterion': 'entropy', 'bootstrap': 'True', 'max_depth': 420, 'max_features': 'auto', 'max_leaf_nodes': 2, 'n_estimators': 604, 'min_samples_split': 3, 'min_samples_leaf': 1}. Best is trial 10 with value: 0.16878787878787876.\u001b[0m\n",
            "\u001b[32m[I 2022-03-19 17:03:38,534]\u001b[0m Trial 13 finished with value: 0.06212121212121213 and parameters: {'criterion': 'entropy', 'bootstrap': 'True', 'max_depth': 466, 'max_features': 'auto', 'max_leaf_nodes': 8, 'n_estimators': 570, 'min_samples_split': 4, 'min_samples_leaf': 1}. Best is trial 10 with value: 0.16878787878787876.\u001b[0m\n",
            "\u001b[32m[I 2022-03-19 17:03:46,248]\u001b[0m Trial 14 finished with value: 0.06212121212121213 and parameters: {'criterion': 'entropy', 'bootstrap': 'True', 'max_depth': 595, 'max_features': 'auto', 'max_leaf_nodes': 125, 'n_estimators': 728, 'min_samples_split': 4, 'min_samples_leaf': 3}. Best is trial 10 with value: 0.16878787878787876.\u001b[0m\n",
            "\u001b[32m[I 2022-03-19 17:03:51,024]\u001b[0m Trial 15 finished with value: 0.11878787878787878 and parameters: {'criterion': 'entropy', 'bootstrap': 'True', 'max_depth': 349, 'max_features': 'auto', 'max_leaf_nodes': 380, 'n_estimators': 413, 'min_samples_split': 3, 'min_samples_leaf': 1}. Best is trial 10 with value: 0.16878787878787876.\u001b[0m\n",
            "\u001b[32m[I 2022-03-19 17:03:57,810]\u001b[0m Trial 16 finished with value: 0.11212121212121214 and parameters: {'criterion': 'entropy', 'bootstrap': 'True', 'max_depth': 583, 'max_features': 'auto', 'max_leaf_nodes': 114, 'n_estimators': 624, 'min_samples_split': 3, 'min_samples_leaf': 4}. Best is trial 10 with value: 0.16878787878787876.\u001b[0m\n",
            "\u001b[32m[I 2022-03-19 17:04:01,109]\u001b[0m Trial 17 finished with value: 0.06212121212121213 and parameters: {'criterion': 'entropy', 'bootstrap': 'True', 'max_depth': 15, 'max_features': 'auto', 'max_leaf_nodes': 769, 'n_estimators': 267, 'min_samples_split': 4, 'min_samples_leaf': 8}. Best is trial 10 with value: 0.16878787878787876.\u001b[0m\n",
            "\u001b[32m[I 2022-03-19 17:04:06,658]\u001b[0m Trial 18 finished with value: 0.11212121212121214 and parameters: {'criterion': 'entropy', 'bootstrap': 'True', 'max_depth': 368, 'max_features': 'auto', 'max_leaf_nodes': 121, 'n_estimators': 487, 'min_samples_split': 3, 'min_samples_leaf': 3}. Best is trial 10 with value: 0.16878787878787876.\u001b[0m\n",
            "\u001b[32m[I 2022-03-19 17:04:07,941]\u001b[0m Trial 19 finished with value: -0.08272727272727276 and parameters: {'criterion': 'entropy', 'bootstrap': 'True', 'max_depth': 555, 'max_features': 'auto', 'max_leaf_nodes': 389, 'n_estimators': 42, 'min_samples_split': 4, 'min_samples_leaf': 2}. Best is trial 10 with value: 0.16878787878787876.\u001b[0m\n",
            "\u001b[32m[I 2022-03-19 17:04:16,495]\u001b[0m Trial 20 finished with value: 0.06212121212121213 and parameters: {'criterion': 'entropy', 'bootstrap': 'True', 'max_depth': 716, 'max_features': 'auto', 'max_leaf_nodes': 184, 'n_estimators': 823, 'min_samples_split': 2, 'min_samples_leaf': 4}. Best is trial 10 with value: 0.16878787878787876.\u001b[0m\n",
            "\u001b[32m[I 2022-03-19 17:04:20,703]\u001b[0m Trial 21 finished with value: 0.11212121212121214 and parameters: {'criterion': 'entropy', 'bootstrap': 'True', 'max_depth': 329, 'max_features': 'auto', 'max_leaf_nodes': 374, 'n_estimators': 388, 'min_samples_split': 3, 'min_samples_leaf': 1}. Best is trial 10 with value: 0.16878787878787876.\u001b[0m\n",
            "\u001b[32m[I 2022-03-19 17:04:27,131]\u001b[0m Trial 22 finished with value: 0.11878787878787878 and parameters: {'criterion': 'entropy', 'bootstrap': 'True', 'max_depth': 214, 'max_features': 'auto', 'max_leaf_nodes': 54, 'n_estimators': 545, 'min_samples_split': 3, 'min_samples_leaf': 1}. Best is trial 10 with value: 0.16878787878787876.\u001b[0m\n",
            "\u001b[32m[I 2022-03-19 17:04:34,512]\u001b[0m Trial 23 finished with value: 0.11878787878787878 and parameters: {'criterion': 'entropy', 'bootstrap': 'True', 'max_depth': 382, 'max_features': 'auto', 'max_leaf_nodes': 326, 'n_estimators': 681, 'min_samples_split': 3, 'min_samples_leaf': 2}. Best is trial 10 with value: 0.16878787878787876.\u001b[0m\n",
            "\u001b[32m[I 2022-03-19 17:04:39,908]\u001b[0m Trial 24 finished with value: 0.06878787878787877 and parameters: {'criterion': 'entropy', 'bootstrap': 'True', 'max_depth': 479, 'max_features': 'auto', 'max_leaf_nodes': 473, 'n_estimators': 482, 'min_samples_split': 3, 'min_samples_leaf': 1}. Best is trial 10 with value: 0.16878787878787876.\u001b[0m\n",
            "\u001b[32m[I 2022-03-19 17:04:46,229]\u001b[0m Trial 25 finished with value: 0.16878787878787876 and parameters: {'criterion': 'entropy', 'bootstrap': 'True', 'max_depth': 212, 'max_features': 'auto', 'max_leaf_nodes': 61, 'n_estimators': 543, 'min_samples_split': 4, 'min_samples_leaf': 3}. Best is trial 10 with value: 0.16878787878787876.\u001b[0m\n",
            "\u001b[32m[I 2022-03-19 17:04:54,501]\u001b[0m Trial 26 finished with value: 0.012121212121212133 and parameters: {'criterion': 'gini', 'bootstrap': 'False', 'max_depth': 283, 'max_features': 'auto', 'max_leaf_nodes': 78, 'n_estimators': 812, 'min_samples_split': 4, 'min_samples_leaf': 3}. Best is trial 10 with value: 0.16878787878787876.\u001b[0m\n",
            "\u001b[32m[I 2022-03-19 17:05:01,989]\u001b[0m Trial 27 finished with value: 0.06878787878787877 and parameters: {'criterion': 'entropy', 'bootstrap': 'True', 'max_depth': 192, 'max_features': 'auto', 'max_leaf_nodes': 178, 'n_estimators': 673, 'min_samples_split': 4, 'min_samples_leaf': 2}. Best is trial 10 with value: 0.16878787878787876.\u001b[0m\n",
            "\u001b[32m[I 2022-03-19 17:05:08,106]\u001b[0m Trial 28 finished with value: 0.06212121212121213 and parameters: {'criterion': 'entropy', 'bootstrap': 'True', 'max_depth': 455, 'max_features': 'auto', 'max_leaf_nodes': 10, 'n_estimators': 527, 'min_samples_split': 4, 'min_samples_leaf': 5}. Best is trial 10 with value: 0.16878787878787876.\u001b[0m\n",
            "\u001b[32m[I 2022-03-19 17:05:12,050]\u001b[0m Trial 29 finished with value: -0.037878787878787866 and parameters: {'criterion': 'entropy', 'bootstrap': 'False', 'max_depth': 983, 'max_features': 'log2', 'max_leaf_nodes': 741, 'n_estimators': 228, 'min_samples_split': 2, 'min_samples_leaf': 3}. Best is trial 10 with value: 0.16878787878787876.\u001b[0m\n",
            "\u001b[32m[I 2022-03-19 17:05:21,484]\u001b[0m Trial 30 finished with value: 0.11878787878787878 and parameters: {'criterion': 'entropy', 'bootstrap': 'True', 'max_depth': 518, 'max_features': 'sqrt', 'max_leaf_nodes': 165, 'n_estimators': 645, 'min_samples_split': 5, 'min_samples_leaf': 2}. Best is trial 10 with value: 0.16878787878787876.\u001b[0m\n",
            "\u001b[32m[I 2022-03-19 17:05:26,134]\u001b[0m Trial 31 finished with value: 0.11878787878787878 and parameters: {'criterion': 'entropy', 'bootstrap': 'True', 'max_depth': 323, 'max_features': 'auto', 'max_leaf_nodes': 63, 'n_estimators': 406, 'min_samples_split': 3, 'min_samples_leaf': 1}. Best is trial 10 with value: 0.16878787878787876.\u001b[0m\n",
            "\u001b[32m[I 2022-03-19 17:05:30,233]\u001b[0m Trial 32 finished with value: 0.06878787878787877 and parameters: {'criterion': 'entropy', 'bootstrap': 'True', 'max_depth': 398, 'max_features': 'auto', 'max_leaf_nodes': 299, 'n_estimators': 344, 'min_samples_split': 3, 'min_samples_leaf': 1}. Best is trial 10 with value: 0.16878787878787876.\u001b[0m\n",
            "\u001b[32m[I 2022-03-19 17:05:37,279]\u001b[0m Trial 33 finished with value: 0.11878787878787878 and parameters: {'criterion': 'entropy', 'bootstrap': 'True', 'max_depth': 644, 'max_features': 'sqrt', 'max_leaf_nodes': 162, 'n_estimators': 649, 'min_samples_split': 5, 'min_samples_leaf': 2}. Best is trial 10 with value: 0.16878787878787876.\u001b[0m\n",
            "\u001b[32m[I 2022-03-19 17:05:43,831]\u001b[0m Trial 34 finished with value: 0.012121212121212133 and parameters: {'criterion': 'entropy', 'bootstrap': 'False', 'max_depth': 786, 'max_features': 'sqrt', 'max_leaf_nodes': 202, 'n_estimators': 591, 'min_samples_split': 5, 'min_samples_leaf': 2}. Best is trial 10 with value: 0.16878787878787876.\u001b[0m\n",
            "\u001b[32m[I 2022-03-19 17:05:51,255]\u001b[0m Trial 35 finished with value: 0.11878787878787878 and parameters: {'criterion': 'entropy', 'bootstrap': 'True', 'max_depth': 630, 'max_features': 'sqrt', 'max_leaf_nodes': 73, 'n_estimators': 692, 'min_samples_split': 5, 'min_samples_leaf': 4}. Best is trial 10 with value: 0.16878787878787876.\u001b[0m\n",
            "\u001b[32m[I 2022-03-19 17:05:59,489]\u001b[0m Trial 36 finished with value: 0.06212121212121213 and parameters: {'criterion': 'gini', 'bootstrap': 'True', 'max_depth': 797, 'max_features': 'sqrt', 'max_leaf_nodes': 69, 'n_estimators': 792, 'min_samples_split': 5, 'min_samples_leaf': 5}. Best is trial 10 with value: 0.16878787878787876.\u001b[0m\n",
            "\u001b[32m[I 2022-03-19 17:06:08,462]\u001b[0m Trial 37 finished with value: 0.16878787878787876 and parameters: {'criterion': 'entropy', 'bootstrap': 'False', 'max_depth': 145, 'max_features': 'sqrt', 'max_leaf_nodes': 285, 'n_estimators': 861, 'min_samples_split': 4, 'min_samples_leaf': 2}. Best is trial 10 with value: 0.16878787878787876.\u001b[0m\n",
            "\u001b[32m[I 2022-03-19 17:06:17,370]\u001b[0m Trial 38 finished with value: 0.012121212121212133 and parameters: {'criterion': 'gini', 'bootstrap': 'False', 'max_depth': 107, 'max_features': 'log2', 'max_leaf_nodes': 290, 'n_estimators': 896, 'min_samples_split': 4, 'min_samples_leaf': 7}. Best is trial 10 with value: 0.16878787878787876.\u001b[0m\n",
            "\u001b[32m[I 2022-03-19 17:06:27,659]\u001b[0m Trial 39 finished with value: 0.06212121212121213 and parameters: {'criterion': 'entropy', 'bootstrap': 'False', 'max_depth': 146, 'max_features': 'sqrt', 'max_leaf_nodes': 244, 'n_estimators': 993, 'min_samples_split': 4, 'min_samples_leaf': 3}. Best is trial 10 with value: 0.16878787878787876.\u001b[0m\n",
            "\u001b[32m[I 2022-03-19 17:06:36,704]\u001b[0m Trial 40 finished with value: 0.012121212121212133 and parameters: {'criterion': 'gini', 'bootstrap': 'False', 'max_depth': 31, 'max_features': 'sqrt', 'max_leaf_nodes': 508, 'n_estimators': 882, 'min_samples_split': 4, 'min_samples_leaf': 2}. Best is trial 10 with value: 0.16878787878787876.\u001b[0m\n",
            "\u001b[32m[I 2022-03-19 17:06:44,440]\u001b[0m Trial 41 finished with value: 0.16878787878787876 and parameters: {'criterion': 'entropy', 'bootstrap': 'False', 'max_depth': 271, 'max_features': 'auto', 'max_leaf_nodes': 332, 'n_estimators': 712, 'min_samples_split': 3, 'min_samples_leaf': 2}. Best is trial 10 with value: 0.16878787878787876.\u001b[0m\n",
            "\u001b[32m[I 2022-03-19 17:06:52,397]\u001b[0m Trial 42 finished with value: 0.012121212121212133 and parameters: {'criterion': 'entropy', 'bootstrap': 'False', 'max_depth': 272, 'max_features': 'auto', 'max_leaf_nodes': 225, 'n_estimators': 782, 'min_samples_split': 3, 'min_samples_leaf': 10}. Best is trial 10 with value: 0.16878787878787876.\u001b[0m\n",
            "\u001b[32m[I 2022-03-19 17:07:00,133]\u001b[0m Trial 43 finished with value: 0.11878787878787878 and parameters: {'criterion': 'entropy', 'bootstrap': 'False', 'max_depth': 230, 'max_features': 'log2', 'max_leaf_nodes': 325, 'n_estimators': 714, 'min_samples_split': 2, 'min_samples_leaf': 2}. Best is trial 10 with value: 0.16878787878787876.\u001b[0m\n",
            "\u001b[32m[I 2022-03-19 17:07:06,253]\u001b[0m Trial 44 finished with value: 0.06878787878787877 and parameters: {'criterion': 'entropy', 'bootstrap': 'False', 'max_depth': 288, 'max_features': 'auto', 'max_leaf_nodes': 470, 'n_estimators': 456, 'min_samples_split': 3, 'min_samples_leaf': 1}. Best is trial 10 with value: 0.16878787878787876.\u001b[0m\n",
            "\u001b[32m[I 2022-03-19 17:07:15,175]\u001b[0m Trial 45 finished with value: 0.11878787878787878 and parameters: {'criterion': 'entropy', 'bootstrap': 'False', 'max_depth': 161, 'max_features': 'auto', 'max_leaf_nodes': 561, 'n_estimators': 848, 'min_samples_split': 4, 'min_samples_leaf': 3}. Best is trial 10 with value: 0.16878787878787876.\u001b[0m\n",
            "\u001b[32m[I 2022-03-19 17:07:28,016]\u001b[0m Trial 46 finished with value: 0.11212121212121214 and parameters: {'criterion': 'entropy', 'bootstrap': 'False', 'max_depth': 426, 'max_features': 'auto', 'max_leaf_nodes': 131, 'n_estimators': 748, 'min_samples_split': 3, 'min_samples_leaf': 4}. Best is trial 10 with value: 0.16878787878787876.\u001b[0m\n",
            "\u001b[32m[I 2022-03-19 17:07:34,551]\u001b[0m Trial 47 finished with value: 0.06878787878787877 and parameters: {'criterion': 'entropy', 'bootstrap': 'False', 'max_depth': 134, 'max_features': 'sqrt', 'max_leaf_nodes': 8, 'n_estimators': 580, 'min_samples_split': 4, 'min_samples_leaf': 2}. Best is trial 10 with value: 0.16878787878787876.\u001b[0m\n",
            "\u001b[32m[I 2022-03-19 17:07:44,192]\u001b[0m Trial 48 finished with value: 0.06212121212121213 and parameters: {'criterion': 'entropy', 'bootstrap': 'False', 'max_depth': 67, 'max_features': 'auto', 'max_leaf_nodes': 277, 'n_estimators': 913, 'min_samples_split': 2, 'min_samples_leaf': 6}. Best is trial 10 with value: 0.16878787878787876.\u001b[0m\n",
            "\u001b[32m[I 2022-03-19 17:07:53,433]\u001b[0m Trial 49 finished with value: 0.11212121212121214 and parameters: {'criterion': 'gini', 'bootstrap': 'False', 'max_depth': 256, 'max_features': 'log2', 'max_leaf_nodes': 421, 'n_estimators': 546, 'min_samples_split': 3, 'min_samples_leaf': 1}. Best is trial 10 with value: 0.16878787878787876.\u001b[0m\n",
            "\u001b[32m[I 2022-03-19 17:08:01,493]\u001b[0m Trial 50 finished with value: 0.11878787878787878 and parameters: {'criterion': 'entropy', 'bootstrap': 'False', 'max_depth': 320, 'max_features': 'auto', 'max_leaf_nodes': 111, 'n_estimators': 763, 'min_samples_split': 3, 'min_samples_leaf': 3}. Best is trial 10 with value: 0.16878787878787876.\u001b[0m\n",
            "\u001b[32m[I 2022-03-19 17:08:10,237]\u001b[0m Trial 51 finished with value: 0.06878787878787877 and parameters: {'criterion': 'entropy', 'bootstrap': 'False', 'max_depth': 185, 'max_features': 'auto', 'max_leaf_nodes': 598, 'n_estimators': 824, 'min_samples_split': 4, 'min_samples_leaf': 3}. Best is trial 10 with value: 0.16878787878787876.\u001b[0m\n",
            "\u001b[32m[I 2022-03-19 17:08:17,640]\u001b[0m Trial 52 finished with value: 0.16878787878787876 and parameters: {'criterion': 'entropy', 'bootstrap': 'True', 'max_depth': 389, 'max_features': 'auto', 'max_leaf_nodes': 337, 'n_estimators': 668, 'min_samples_split': 3, 'min_samples_leaf': 2}. Best is trial 10 with value: 0.16878787878787876.\u001b[0m\n",
            "\u001b[32m[I 2022-03-19 17:08:24,272]\u001b[0m Trial 53 finished with value: 0.012121212121212133 and parameters: {'criterion': 'entropy', 'bootstrap': 'True', 'max_depth': 524, 'max_features': 'auto', 'max_leaf_nodes': 346, 'n_estimators': 613, 'min_samples_split': 3, 'min_samples_leaf': 9}. Best is trial 10 with value: 0.16878787878787876.\u001b[0m\n",
            "\u001b[32m[I 2022-03-19 17:08:30,050]\u001b[0m Trial 54 finished with value: 0.012121212121212133 and parameters: {'criterion': 'entropy', 'bootstrap': 'True', 'max_depth': 424, 'max_features': 'auto', 'max_leaf_nodes': 426, 'n_estimators': 513, 'min_samples_split': 3, 'min_samples_leaf': 1}. Best is trial 10 with value: 0.16878787878787876.\u001b[0m\n",
            "\u001b[32m[I 2022-03-19 17:08:37,627]\u001b[0m Trial 55 finished with value: 0.11878787878787878 and parameters: {'criterion': 'entropy', 'bootstrap': 'True', 'max_depth': 381, 'max_features': 'auto', 'max_leaf_nodes': 212, 'n_estimators': 702, 'min_samples_split': 3, 'min_samples_leaf': 2}. Best is trial 10 with value: 0.16878787878787876.\u001b[0m\n",
            "\u001b[32m[I 2022-03-19 17:08:44,571]\u001b[0m Trial 56 finished with value: 0.16878787878787876 and parameters: {'criterion': 'entropy', 'bootstrap': 'True', 'max_depth': 305, 'max_features': 'auto', 'max_leaf_nodes': 22, 'n_estimators': 646, 'min_samples_split': 3, 'min_samples_leaf': 1}. Best is trial 10 with value: 0.16878787878787876.\u001b[0m\n",
            "\u001b[32m[I 2022-03-19 17:08:51,396]\u001b[0m Trial 57 finished with value: 0.11878787878787878 and parameters: {'criterion': 'entropy', 'bootstrap': 'True', 'max_depth': 228, 'max_features': 'auto', 'max_leaf_nodes': 37, 'n_estimators': 620, 'min_samples_split': 4, 'min_samples_leaf': 1}. Best is trial 10 with value: 0.16878787878787876.\u001b[0m\n",
            "\u001b[32m[I 2022-03-19 17:09:01,397]\u001b[0m Trial 58 finished with value: 0.16878787878787876 and parameters: {'criterion': 'entropy', 'bootstrap': 'True', 'max_depth': 302, 'max_features': 'auto', 'max_leaf_nodes': 702, 'n_estimators': 953, 'min_samples_split': 3, 'min_samples_leaf': 2}. Best is trial 10 with value: 0.16878787878787876.\u001b[0m\n",
            "\u001b[32m[I 2022-03-19 17:09:11,240]\u001b[0m Trial 59 finished with value: 0.11878787878787878 and parameters: {'criterion': 'entropy', 'bootstrap': 'True', 'max_depth': 104, 'max_features': 'sqrt', 'max_leaf_nodes': 767, 'n_estimators': 943, 'min_samples_split': 4, 'min_samples_leaf': 3}. Best is trial 10 with value: 0.16878787878787876.\u001b[0m\n",
            "\u001b[32m[I 2022-03-19 17:09:17,143]\u001b[0m Trial 60 finished with value: 0.06878787878787877 and parameters: {'criterion': 'entropy', 'bootstrap': 'True', 'max_depth': 337, 'max_features': 'auto', 'max_leaf_nodes': 845, 'n_estimators': 451, 'min_samples_split': 3, 'min_samples_leaf': 1}. Best is trial 10 with value: 0.16878787878787876.\u001b[0m\n",
            "\u001b[32m[I 2022-03-19 17:09:24,226]\u001b[0m Trial 61 finished with value: 0.06878787878787877 and parameters: {'criterion': 'entropy', 'bootstrap': 'True', 'max_depth': 302, 'max_features': 'auto', 'max_leaf_nodes': 683, 'n_estimators': 653, 'min_samples_split': 3, 'min_samples_leaf': 2}. Best is trial 10 with value: 0.16878787878787876.\u001b[0m\n",
            "\u001b[32m[I 2022-03-19 17:09:34,483]\u001b[0m Trial 62 finished with value: 0.06878787878787877 and parameters: {'criterion': 'entropy', 'bootstrap': 'True', 'max_depth': 195, 'max_features': 'auto', 'max_leaf_nodes': 678, 'n_estimators': 974, 'min_samples_split': 3, 'min_samples_leaf': 2}. Best is trial 10 with value: 0.16878787878787876.\u001b[0m\n",
            "\u001b[32m[I 2022-03-19 17:09:43,362]\u001b[0m Trial 63 finished with value: 0.06878787878787877 and parameters: {'criterion': 'entropy', 'bootstrap': 'True', 'max_depth': 252, 'max_features': 'auto', 'max_leaf_nodes': 96, 'n_estimators': 859, 'min_samples_split': 3, 'min_samples_leaf': 2}. Best is trial 10 with value: 0.16878787878787876.\u001b[0m\n",
            "\u001b[32m[I 2022-03-19 17:09:49,733]\u001b[0m Trial 64 finished with value: 0.11878787878787878 and parameters: {'criterion': 'entropy', 'bootstrap': 'True', 'max_depth': 348, 'max_features': 'auto', 'max_leaf_nodes': 153, 'n_estimators': 555, 'min_samples_split': 3, 'min_samples_leaf': 1}. Best is trial 10 with value: 0.16878787878787876.\u001b[0m\n",
            "\u001b[32m[I 2022-03-19 17:09:59,417]\u001b[0m Trial 65 finished with value: 0.11878787878787878 and parameters: {'criterion': 'entropy', 'bootstrap': 'True', 'max_depth': 477, 'max_features': 'auto', 'max_leaf_nodes': 42, 'n_estimators': 921, 'min_samples_split': 3, 'min_samples_leaf': 1}. Best is trial 10 with value: 0.16878787878787876.\u001b[0m\n",
            "\u001b[32m[I 2022-03-19 17:10:06,818]\u001b[0m Trial 66 finished with value: 0.11878787878787878 and parameters: {'criterion': 'entropy', 'bootstrap': 'True', 'max_depth': 402, 'max_features': 'auto', 'max_leaf_nodes': 962, 'n_estimators': 668, 'min_samples_split': 2, 'min_samples_leaf': 1}. Best is trial 10 with value: 0.16878787878787876.\u001b[0m\n",
            "\u001b[32m[I 2022-03-19 17:10:14,475]\u001b[0m Trial 67 finished with value: 0.11212121212121214 and parameters: {'criterion': 'gini', 'bootstrap': 'True', 'max_depth': 299, 'max_features': 'auto', 'max_leaf_nodes': 371, 'n_estimators': 729, 'min_samples_split': 3, 'min_samples_leaf': 3}. Best is trial 10 with value: 0.16878787878787876.\u001b[0m\n",
            "\u001b[32m[I 2022-03-19 17:10:22,565]\u001b[0m Trial 68 finished with value: 0.11878787878787878 and parameters: {'criterion': 'entropy', 'bootstrap': 'True', 'max_depth': 454, 'max_features': 'log2', 'max_leaf_nodes': 262, 'n_estimators': 781, 'min_samples_split': 3, 'min_samples_leaf': 2}. Best is trial 10 with value: 0.16878787878787876.\u001b[0m\n",
            "\u001b[32m[I 2022-03-19 17:10:29,199]\u001b[0m Trial 69 finished with value: 0.11878787878787878 and parameters: {'criterion': 'entropy', 'bootstrap': 'True', 'max_depth': 364, 'max_features': 'auto', 'max_leaf_nodes': 37, 'n_estimators': 597, 'min_samples_split': 4, 'min_samples_leaf': 1}. Best is trial 10 with value: 0.16878787878787876.\u001b[0m\n",
            "\u001b[32m[I 2022-03-19 17:10:36,090]\u001b[0m Trial 70 finished with value: 0.11878787878787878 and parameters: {'criterion': 'entropy', 'bootstrap': 'True', 'max_depth': 209, 'max_features': 'sqrt', 'max_leaf_nodes': 132, 'n_estimators': 633, 'min_samples_split': 4, 'min_samples_leaf': 1}. Best is trial 10 with value: 0.16878787878787876.\u001b[0m\n",
            "\u001b[32m[I 2022-03-19 17:10:43,613]\u001b[0m Trial 71 finished with value: 0.06878787878787877 and parameters: {'criterion': 'entropy', 'bootstrap': 'True', 'max_depth': 432, 'max_features': 'auto', 'max_leaf_nodes': 11, 'n_estimators': 691, 'min_samples_split': 3, 'min_samples_leaf': 2}. Best is trial 10 with value: 0.16878787878787876.\u001b[0m\n",
            "\u001b[32m[I 2022-03-19 17:10:50,027]\u001b[0m Trial 72 finished with value: 0.11878787878787878 and parameters: {'criterion': 'entropy', 'bootstrap': 'True', 'max_depth': 255, 'max_features': 'auto', 'max_leaf_nodes': 99, 'n_estimators': 564, 'min_samples_split': 3, 'min_samples_leaf': 2}. Best is trial 10 with value: 0.16878787878787876.\u001b[0m\n",
            "\u001b[32m[I 2022-03-19 17:10:51,452]\u001b[0m Trial 73 finished with value: 0.017272727272727238 and parameters: {'criterion': 'entropy', 'bootstrap': 'True', 'max_depth': 368, 'max_features': 'auto', 'max_leaf_nodes': 319, 'n_estimators': 63, 'min_samples_split': 3, 'min_samples_leaf': 1}. Best is trial 10 with value: 0.16878787878787876.\u001b[0m\n",
            "\u001b[32m[I 2022-03-19 17:10:59,154]\u001b[0m Trial 74 finished with value: 0.06878787878787877 and parameters: {'criterion': 'entropy', 'bootstrap': 'True', 'max_depth': 307, 'max_features': 'auto', 'max_leaf_nodes': 455, 'n_estimators': 724, 'min_samples_split': 3, 'min_samples_leaf': 2}. Best is trial 10 with value: 0.16878787878787876.\u001b[0m\n",
            "\u001b[32m[I 2022-03-19 17:11:05,143]\u001b[0m Trial 75 finished with value: 0.11878787878787878 and parameters: {'criterion': 'entropy', 'bootstrap': 'True', 'max_depth': 396, 'max_features': 'auto', 'max_leaf_nodes': 499, 'n_estimators': 521, 'min_samples_split': 3, 'min_samples_leaf': 3}. Best is trial 10 with value: 0.16878787878787876.\u001b[0m\n",
            "\u001b[32m[I 2022-03-19 17:11:14,889]\u001b[0m Trial 76 finished with value: 0.06212121212121213 and parameters: {'criterion': 'entropy', 'bootstrap': 'True', 'max_depth': 173, 'max_features': 'auto', 'max_leaf_nodes': 78, 'n_estimators': 486, 'min_samples_split': 2, 'min_samples_leaf': 2}. Best is trial 10 with value: 0.16878787878787876.\u001b[0m\n",
            "/usr/local/lib/python3.7/dist-packages/sklearn/model_selection/_validation.py:372: FitFailedWarning:\n",
            "\n",
            "\n",
            "5 fits failed out of a total of 5.\n",
            "The score on these train-test partitions for these parameters will be set to nan.\n",
            "If these failures are not expected, you can try to debug them by setting error_score='raise'.\n",
            "\n",
            "Below are more details about the failures:\n",
            "--------------------------------------------------------------------------------\n",
            "5 fits failed with the following error:\n",
            "joblib.externals.loky.process_executor._RemoteTraceback: \n",
            "\"\"\"\n",
            "Traceback (most recent call last):\n",
            "  File \"/usr/local/lib/python3.7/dist-packages/joblib/externals/loky/process_executor.py\", line 436, in _process_worker\n",
            "    r = call_item()\n",
            "  File \"/usr/local/lib/python3.7/dist-packages/joblib/externals/loky/process_executor.py\", line 288, in __call__\n",
            "    return self.fn(*self.args, **self.kwargs)\n",
            "  File \"/usr/local/lib/python3.7/dist-packages/joblib/_parallel_backends.py\", line 595, in __call__\n",
            "    return self.func(*args, **kwargs)\n",
            "  File \"/usr/local/lib/python3.7/dist-packages/joblib/parallel.py\", line 263, in __call__\n",
            "    for func, args, kwargs in self.items]\n",
            "  File \"/usr/local/lib/python3.7/dist-packages/joblib/parallel.py\", line 263, in <listcomp>\n",
            "    for func, args, kwargs in self.items]\n",
            "  File \"/usr/local/lib/python3.7/dist-packages/sklearn/utils/fixes.py\", line 216, in __call__\n",
            "    return self.function(*args, **kwargs)\n",
            "  File \"/usr/local/lib/python3.7/dist-packages/sklearn/ensemble/_forest.py\", line 185, in _parallel_build_trees\n",
            "    tree.fit(X, y, sample_weight=curr_sample_weight, check_input=False)\n",
            "  File \"/usr/local/lib/python3.7/dist-packages/sklearn/tree/_classes.py\", line 942, in fit\n",
            "    X_idx_sorted=X_idx_sorted,\n",
            "  File \"/usr/local/lib/python3.7/dist-packages/sklearn/tree/_classes.py\", line 316, in fit\n",
            "    max_leaf_nodes\n",
            "ValueError: max_leaf_nodes 1 must be either None or larger than 1\n",
            "\"\"\"\n",
            "\n",
            "The above exception was the direct cause of the following exception:\n",
            "\n",
            "Traceback (most recent call last):\n",
            "  File \"/usr/local/lib/python3.7/dist-packages/sklearn/model_selection/_validation.py\", line 680, in _fit_and_score\n",
            "    estimator.fit(X_train, y_train, **fit_params)\n",
            "  File \"/usr/local/lib/python3.7/dist-packages/sklearn/ensemble/_forest.py\", line 467, in fit\n",
            "    for i, t in enumerate(trees)\n",
            "  File \"/usr/local/lib/python3.7/dist-packages/joblib/parallel.py\", line 1056, in __call__\n",
            "    self.retrieve()\n",
            "  File \"/usr/local/lib/python3.7/dist-packages/joblib/parallel.py\", line 935, in retrieve\n",
            "    self._output.extend(job.get(timeout=self.timeout))\n",
            "  File \"/usr/local/lib/python3.7/dist-packages/joblib/_parallel_backends.py\", line 542, in wrap_future_result\n",
            "    return future.result(timeout=timeout)\n",
            "  File \"/usr/lib/python3.7/concurrent/futures/_base.py\", line 435, in result\n",
            "    return self.__get_result()\n",
            "  File \"/usr/lib/python3.7/concurrent/futures/_base.py\", line 384, in __get_result\n",
            "    raise self._exception\n",
            "ValueError: max_leaf_nodes 1 must be either None or larger than 1\n",
            "\n",
            "\n",
            "\u001b[33m[W 2022-03-19 17:11:20,819]\u001b[0m Trial 77 failed, because the objective function returned nan.\u001b[0m\n",
            "/usr/local/lib/python3.7/dist-packages/sklearn/model_selection/_validation.py:372: FitFailedWarning:\n",
            "\n",
            "\n",
            "5 fits failed out of a total of 5.\n",
            "The score on these train-test partitions for these parameters will be set to nan.\n",
            "If these failures are not expected, you can try to debug them by setting error_score='raise'.\n",
            "\n",
            "Below are more details about the failures:\n",
            "--------------------------------------------------------------------------------\n",
            "5 fits failed with the following error:\n",
            "joblib.externals.loky.process_executor._RemoteTraceback: \n",
            "\"\"\"\n",
            "Traceback (most recent call last):\n",
            "  File \"/usr/local/lib/python3.7/dist-packages/joblib/externals/loky/process_executor.py\", line 436, in _process_worker\n",
            "    r = call_item()\n",
            "  File \"/usr/local/lib/python3.7/dist-packages/joblib/externals/loky/process_executor.py\", line 288, in __call__\n",
            "    return self.fn(*self.args, **self.kwargs)\n",
            "  File \"/usr/local/lib/python3.7/dist-packages/joblib/_parallel_backends.py\", line 595, in __call__\n",
            "    return self.func(*args, **kwargs)\n",
            "  File \"/usr/local/lib/python3.7/dist-packages/joblib/parallel.py\", line 263, in __call__\n",
            "    for func, args, kwargs in self.items]\n",
            "  File \"/usr/local/lib/python3.7/dist-packages/joblib/parallel.py\", line 263, in <listcomp>\n",
            "    for func, args, kwargs in self.items]\n",
            "  File \"/usr/local/lib/python3.7/dist-packages/sklearn/utils/fixes.py\", line 216, in __call__\n",
            "    return self.function(*args, **kwargs)\n",
            "  File \"/usr/local/lib/python3.7/dist-packages/sklearn/ensemble/_forest.py\", line 185, in _parallel_build_trees\n",
            "    tree.fit(X, y, sample_weight=curr_sample_weight, check_input=False)\n",
            "  File \"/usr/local/lib/python3.7/dist-packages/sklearn/tree/_classes.py\", line 942, in fit\n",
            "    X_idx_sorted=X_idx_sorted,\n",
            "  File \"/usr/local/lib/python3.7/dist-packages/sklearn/tree/_classes.py\", line 316, in fit\n",
            "    max_leaf_nodes\n",
            "ValueError: max_leaf_nodes 1 must be either None or larger than 1\n",
            "\"\"\"\n",
            "\n",
            "The above exception was the direct cause of the following exception:\n",
            "\n",
            "Traceback (most recent call last):\n",
            "  File \"/usr/local/lib/python3.7/dist-packages/sklearn/model_selection/_validation.py\", line 680, in _fit_and_score\n",
            "    estimator.fit(X_train, y_train, **fit_params)\n",
            "  File \"/usr/local/lib/python3.7/dist-packages/sklearn/ensemble/_forest.py\", line 467, in fit\n",
            "    for i, t in enumerate(trees)\n",
            "  File \"/usr/local/lib/python3.7/dist-packages/joblib/parallel.py\", line 1056, in __call__\n",
            "    self.retrieve()\n",
            "  File \"/usr/local/lib/python3.7/dist-packages/joblib/parallel.py\", line 935, in retrieve\n",
            "    self._output.extend(job.get(timeout=self.timeout))\n",
            "  File \"/usr/local/lib/python3.7/dist-packages/joblib/_parallel_backends.py\", line 542, in wrap_future_result\n",
            "    return future.result(timeout=timeout)\n",
            "  File \"/usr/lib/python3.7/concurrent/futures/_base.py\", line 435, in result\n",
            "    return self.__get_result()\n",
            "  File \"/usr/lib/python3.7/concurrent/futures/_base.py\", line 384, in __get_result\n",
            "    raise self._exception\n",
            "ValueError: max_leaf_nodes 1 must be either None or larger than 1\n",
            "\n",
            "\n",
            "\u001b[33m[W 2022-03-19 17:11:27,396]\u001b[0m Trial 78 failed, because the objective function returned nan.\u001b[0m\n",
            "\u001b[32m[I 2022-03-19 17:11:35,707]\u001b[0m Trial 79 finished with value: 0.06878787878787877 and parameters: {'criterion': 'entropy', 'bootstrap': 'False', 'max_depth': 495, 'max_features': 'sqrt', 'max_leaf_nodes': 39, 'n_estimators': 667, 'min_samples_split': 3, 'min_samples_leaf': 1}. Best is trial 10 with value: 0.16878787878787876.\u001b[0m\n",
            "\u001b[32m[I 2022-03-19 17:11:43,999]\u001b[0m Trial 80 finished with value: 0.06212121212121213 and parameters: {'criterion': 'entropy', 'bootstrap': 'True', 'max_depth': 274, 'max_features': 'auto', 'max_leaf_nodes': 198, 'n_estimators': 805, 'min_samples_split': 4, 'min_samples_leaf': 4}. Best is trial 10 with value: 0.16878787878787876.\u001b[0m\n",
            "\u001b[32m[I 2022-03-19 17:11:57,330]\u001b[0m Trial 81 finished with value: 0.06212121212121213 and parameters: {'criterion': 'gini', 'bootstrap': 'False', 'max_depth': 67, 'max_features': 'auto', 'max_leaf_nodes': 361, 'n_estimators': 963, 'min_samples_split': 3, 'min_samples_leaf': 3}. Best is trial 10 with value: 0.16878787878787876.\u001b[0m\n",
            "\u001b[32m[I 2022-03-19 17:12:05,554]\u001b[0m Trial 82 finished with value: 0.012121212121212133 and parameters: {'criterion': 'entropy', 'bootstrap': 'True', 'max_depth': 541, 'max_features': 'log2', 'max_leaf_nodes': 141, 'n_estimators': 759, 'min_samples_split': 3, 'min_samples_leaf': 7}. Best is trial 10 with value: 0.16878787878787876.\u001b[0m\n",
            "\u001b[32m[I 2022-03-19 17:12:12,635]\u001b[0m Trial 83 finished with value: 0.16878787878787876 and parameters: {'criterion': 'entropy', 'bootstrap': 'True', 'max_depth': 358, 'max_features': 'auto', 'max_leaf_nodes': 26, 'n_estimators': 591, 'min_samples_split': 4, 'min_samples_leaf': 1}. Best is trial 10 with value: 0.16878787878787876.\u001b[0m\n",
            "\u001b[32m[I 2022-03-19 17:12:21,140]\u001b[0m Trial 84 finished with value: 0.16878787878787876 and parameters: {'criterion': 'entropy', 'bootstrap': 'True', 'max_depth': 341, 'max_features': 'auto', 'max_leaf_nodes': 9, 'n_estimators': 591, 'min_samples_split': 4, 'min_samples_leaf': 1}. Best is trial 10 with value: 0.16878787878787876.\u001b[0m\n",
            "\u001b[32m[I 2022-03-19 17:12:28,334]\u001b[0m Trial 85 finished with value: 0.11878787878787878 and parameters: {'criterion': 'entropy', 'bootstrap': 'True', 'max_depth': 448, 'max_features': 'auto', 'max_leaf_nodes': 78, 'n_estimators': 628, 'min_samples_split': 4, 'min_samples_leaf': 2}. Best is trial 10 with value: 0.16878787878787876.\u001b[0m\n",
            "\u001b[32m[I 2022-03-19 17:12:37,364]\u001b[0m Trial 86 finished with value: 0.11878787878787878 and parameters: {'criterion': 'entropy', 'bootstrap': 'True', 'max_depth': 334, 'max_features': 'auto', 'max_leaf_nodes': 7, 'n_estimators': 644, 'min_samples_split': 4, 'min_samples_leaf': 1}. Best is trial 10 with value: 0.16878787878787876.\u001b[0m\n",
            "\u001b[32m[I 2022-03-19 17:12:48,503]\u001b[0m Trial 87 finished with value: 0.16878787878787876 and parameters: {'criterion': 'entropy', 'bootstrap': 'True', 'max_depth': 230, 'max_features': 'auto', 'max_leaf_nodes': 95, 'n_estimators': 843, 'min_samples_split': 4, 'min_samples_leaf': 2}. Best is trial 10 with value: 0.16878787878787876.\u001b[0m\n",
            "\u001b[32m[I 2022-03-19 17:13:02,243]\u001b[0m Trial 88 finished with value: 0.06212121212121213 and parameters: {'criterion': 'entropy', 'bootstrap': 'False', 'max_depth': 224, 'max_features': 'auto', 'max_leaf_nodes': 57, 'n_estimators': 900, 'min_samples_split': 3, 'min_samples_leaf': 2}. Best is trial 10 with value: 0.16878787878787876.\u001b[0m\n",
            "\u001b[32m[I 2022-03-19 17:13:13,425]\u001b[0m Trial 89 finished with value: 0.11878787878787878 and parameters: {'criterion': 'entropy', 'bootstrap': 'True', 'max_depth': 404, 'max_features': 'sqrt', 'max_leaf_nodes': 416, 'n_estimators': 606, 'min_samples_split': 4, 'min_samples_leaf': 1}. Best is trial 10 with value: 0.16878787878787876.\u001b[0m\n",
            "\u001b[32m[I 2022-03-19 17:13:24,921]\u001b[0m Trial 90 finished with value: 0.06878787878787877 and parameters: {'criterion': 'entropy', 'bootstrap': 'True', 'max_depth': 126, 'max_features': 'auto', 'max_leaf_nodes': 179, 'n_estimators': 866, 'min_samples_split': 4, 'min_samples_leaf': 2}. Best is trial 10 with value: 0.16878787878787876.\u001b[0m\n",
            "\u001b[32m[I 2022-03-19 17:13:35,625]\u001b[0m Trial 91 finished with value: 0.16878787878787876 and parameters: {'criterion': 'gini', 'bootstrap': 'False', 'max_depth': 272, 'max_features': 'auto', 'max_leaf_nodes': 104, 'n_estimators': 845, 'min_samples_split': 4, 'min_samples_leaf': 1}. Best is trial 10 with value: 0.16878787878787876.\u001b[0m\n",
            "\u001b[32m[I 2022-03-19 17:13:43,055]\u001b[0m Trial 92 finished with value: 0.11878787878787878 and parameters: {'criterion': 'gini', 'bootstrap': 'False', 'max_depth': 278, 'max_features': 'auto', 'max_leaf_nodes': 231, 'n_estimators': 705, 'min_samples_split': 3, 'min_samples_leaf': 1}. Best is trial 10 with value: 0.16878787878787876.\u001b[0m\n",
            "\u001b[32m[I 2022-03-19 17:13:49,425]\u001b[0m Trial 93 finished with value: 0.11878787878787878 and parameters: {'criterion': 'gini', 'bootstrap': 'True', 'max_depth': 317, 'max_features': 'auto', 'max_leaf_nodes': 94, 'n_estimators': 577, 'min_samples_split': 4, 'min_samples_leaf': 1}. Best is trial 10 with value: 0.16878787878787876.\u001b[0m\n",
            "\u001b[32m[I 2022-03-19 17:13:57,961]\u001b[0m Trial 94 finished with value: 0.11878787878787878 and parameters: {'criterion': 'gini', 'bootstrap': 'False', 'max_depth': 157, 'max_features': 'auto', 'max_leaf_nodes': 25, 'n_estimators': 842, 'min_samples_split': 4, 'min_samples_leaf': 1}. Best is trial 10 with value: 0.16878787878787876.\u001b[0m\n",
            "\u001b[32m[I 2022-03-19 17:14:04,040]\u001b[0m Trial 95 finished with value: 0.11878787878787878 and parameters: {'criterion': 'entropy', 'bootstrap': 'True', 'max_depth': 236, 'max_features': 'auto', 'max_leaf_nodes': 55, 'n_estimators': 532, 'min_samples_split': 4, 'min_samples_leaf': 2}. Best is trial 10 with value: 0.16878787878787876.\u001b[0m\n",
            "\u001b[32m[I 2022-03-19 17:14:14,126]\u001b[0m Trial 96 finished with value: 0.06212121212121213 and parameters: {'criterion': 'gini', 'bootstrap': 'False', 'max_depth': 206, 'max_features': 'auto', 'max_leaf_nodes': 122, 'n_estimators': 997, 'min_samples_split': 4, 'min_samples_leaf': 3}. Best is trial 10 with value: 0.16878787878787876.\u001b[0m\n",
            "\u001b[32m[I 2022-03-19 17:14:20,535]\u001b[0m Trial 97 finished with value: 0.06212121212121213 and parameters: {'criterion': 'entropy', 'bootstrap': 'True', 'max_depth': 358, 'max_features': 'auto', 'max_leaf_nodes': 26, 'n_estimators': 588, 'min_samples_split': 4, 'min_samples_leaf': 5}. Best is trial 10 with value: 0.16878787878787876.\u001b[0m\n",
            "/usr/local/lib/python3.7/dist-packages/sklearn/model_selection/_validation.py:372: FitFailedWarning:\n",
            "\n",
            "\n",
            "5 fits failed out of a total of 5.\n",
            "The score on these train-test partitions for these parameters will be set to nan.\n",
            "If these failures are not expected, you can try to debug them by setting error_score='raise'.\n",
            "\n",
            "Below are more details about the failures:\n",
            "--------------------------------------------------------------------------------\n",
            "5 fits failed with the following error:\n",
            "joblib.externals.loky.process_executor._RemoteTraceback: \n",
            "\"\"\"\n",
            "Traceback (most recent call last):\n",
            "  File \"/usr/local/lib/python3.7/dist-packages/joblib/externals/loky/process_executor.py\", line 436, in _process_worker\n",
            "    r = call_item()\n",
            "  File \"/usr/local/lib/python3.7/dist-packages/joblib/externals/loky/process_executor.py\", line 288, in __call__\n",
            "    return self.fn(*self.args, **self.kwargs)\n",
            "  File \"/usr/local/lib/python3.7/dist-packages/joblib/_parallel_backends.py\", line 595, in __call__\n",
            "    return self.func(*args, **kwargs)\n",
            "  File \"/usr/local/lib/python3.7/dist-packages/joblib/parallel.py\", line 263, in __call__\n",
            "    for func, args, kwargs in self.items]\n",
            "  File \"/usr/local/lib/python3.7/dist-packages/joblib/parallel.py\", line 263, in <listcomp>\n",
            "    for func, args, kwargs in self.items]\n",
            "  File \"/usr/local/lib/python3.7/dist-packages/sklearn/utils/fixes.py\", line 216, in __call__\n",
            "    return self.function(*args, **kwargs)\n",
            "  File \"/usr/local/lib/python3.7/dist-packages/sklearn/ensemble/_forest.py\", line 185, in _parallel_build_trees\n",
            "    tree.fit(X, y, sample_weight=curr_sample_weight, check_input=False)\n",
            "  File \"/usr/local/lib/python3.7/dist-packages/sklearn/tree/_classes.py\", line 942, in fit\n",
            "    X_idx_sorted=X_idx_sorted,\n",
            "  File \"/usr/local/lib/python3.7/dist-packages/sklearn/tree/_classes.py\", line 316, in fit\n",
            "    max_leaf_nodes\n",
            "ValueError: max_leaf_nodes 1 must be either None or larger than 1\n",
            "\"\"\"\n",
            "\n",
            "The above exception was the direct cause of the following exception:\n",
            "\n",
            "Traceback (most recent call last):\n",
            "  File \"/usr/local/lib/python3.7/dist-packages/sklearn/model_selection/_validation.py\", line 680, in _fit_and_score\n",
            "    estimator.fit(X_train, y_train, **fit_params)\n",
            "  File \"/usr/local/lib/python3.7/dist-packages/sklearn/ensemble/_forest.py\", line 467, in fit\n",
            "    for i, t in enumerate(trees)\n",
            "  File \"/usr/local/lib/python3.7/dist-packages/joblib/parallel.py\", line 1056, in __call__\n",
            "    self.retrieve()\n",
            "  File \"/usr/local/lib/python3.7/dist-packages/joblib/parallel.py\", line 935, in retrieve\n",
            "    self._output.extend(job.get(timeout=self.timeout))\n",
            "  File \"/usr/local/lib/python3.7/dist-packages/joblib/_parallel_backends.py\", line 542, in wrap_future_result\n",
            "    return future.result(timeout=timeout)\n",
            "  File \"/usr/lib/python3.7/concurrent/futures/_base.py\", line 435, in result\n",
            "    return self.__get_result()\n",
            "  File \"/usr/lib/python3.7/concurrent/futures/_base.py\", line 384, in __get_result\n",
            "    raise self._exception\n",
            "ValueError: max_leaf_nodes 1 must be either None or larger than 1\n",
            "\n",
            "\n",
            "\u001b[33m[W 2022-03-19 17:14:25,653]\u001b[0m Trial 98 failed, because the objective function returned nan.\u001b[0m\n",
            "\u001b[32m[I 2022-03-19 17:14:33,807]\u001b[0m Trial 99 finished with value: -0.037878787878787866 and parameters: {'criterion': 'entropy', 'bootstrap': 'True', 'max_depth': 375, 'max_features': 'auto', 'max_leaf_nodes': 2, 'n_estimators': 678, 'min_samples_split': 3, 'min_samples_leaf': 1}. Best is trial 10 with value: 0.16878787878787876.\u001b[0m\n"
          ]
        },
        {
          "output_type": "stream",
          "name": "stdout",
          "text": [
            "Accuracy: 0.16878787878787876\n",
            "TrainAccuracy: 1.0\n",
            "Accuracy: 0.5909090909090909\n",
            "              precision    recall  f1-score   support\n",
            "\n",
            "         0.0       0.62      0.77      0.69        13\n",
            "         1.0       0.50      0.33      0.40         9\n",
            "\n",
            "    accuracy                           0.59        22\n",
            "   macro avg       0.56      0.55      0.54        22\n",
            "weighted avg       0.57      0.59      0.57        22\n",
            "\n",
            "フィーチャー名：         LDHは出力データの結果に   7.89%関与しています\n",
            "フィーチャー名：        IL-6は出力データの結果に   8.46%関与しています\n",
            "フィーチャー名：   P/F-ratioは出力データの結果に   8.52%関与しています\n",
            "フィーチャー名：        KL-6は出力データの結果に   8.83%関与しています\n",
            "フィーチャー名：BAL(neutro-%)は出力データの結果に   8.85%関与しています\n",
            "フィーチャー名： FRACTALKINEは出力データの結果に   9.22%関与しています\n",
            "フィーチャー名：         GROは出力データの結果に  10.46%関与しています\n",
            "フィーチャー名：       IL-13は出力データの結果に  11.06%関与しています\n",
            "フィーチャー名：       IL-10は出力データの結果に  11.46%関与しています\n",
            "フィーチャー名：       MMP-1は出力データの結果に  15.26%関与しています\n"
          ]
        }
      ]
    },
    {
      "cell_type": "markdown",
      "source": [
        "## 学習モデルの保存"
      ],
      "metadata": {
        "id": "Tp56SPweJceL"
      }
    },
    {
      "cell_type": "markdown",
      "source": [
        "モデルは訓練中にも、訓練が終わったあとも保存できます。このことは、長い訓練時間を掛けなくても、やめたところから再開できるということを意味します。モデルが保存可能であることは、あなたが作ったモデルを他の人と共有できるということでもあります。\n",
        "\n",
        "保存方法としてはJoblibというSciPyのライブラリを使用します。JoblibはPythonのジョブをパイプライン処理するためのユーティリティを提供しています。NumPyデータ構造を効率的に利用するPythonオブジェクトの保存とロードを行うユーティリティを提供します。"
      ],
      "metadata": {
        "id": "V-DJFRFEI9as"
      }
    },
    {
      "cell_type": "code",
      "source": [
        "# モデルを./outに保存\n",
        "filename = 'out/finalized_model.sav'\n",
        "joblib.dump(rforest_model_post_optuna_opt, filename)\n",
        "\n",
        "# モデルをGoogle Driveに保存\n",
        "with open (filename, 'w') as f:\n",
        "  f.write(filename)"
      ],
      "metadata": {
        "id": "L3nOSHEkIkaZ"
      },
      "execution_count": 28,
      "outputs": []
    },
    {
      "cell_type": "markdown",
      "source": [
        "**TODO: 柴木様**\n",
        "\n",
        "本研究ではBALデータセットを利用して90日後の"
      ],
      "metadata": {
        "id": "zCudZbiICYd8"
      }
    }
  ]
}