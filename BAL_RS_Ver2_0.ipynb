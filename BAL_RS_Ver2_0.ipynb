{
  "nbformat": 4,
  "nbformat_minor": 0,
  "metadata": {
    "colab": {
      "name": "BAL_RS_Ver2.0",
      "provenance": [],
      "collapsed_sections": [],
      "authorship_tag": "ABX9TyNOZBSeX/fRCw/ekk/hTom3",
      "include_colab_link": true
    },
    "kernelspec": {
      "name": "python3",
      "display_name": "Python 3"
    },
    "language_info": {
      "name": "python"
    },
    "accelerator": "GPU"
  },
  "cells": [
    {
      "cell_type": "markdown",
      "metadata": {
        "id": "view-in-github",
        "colab_type": "text"
      },
      "source": [
        "<a href=\"https://colab.research.google.com/github/staniya/shibaki-RF-analysis/blob/main/BAL_RS_Ver2_0.ipynb\" target=\"_parent\"><img src=\"https://colab.research.google.com/assets/colab-badge.svg\" alt=\"Open In Colab\"/></a>"
      ]
    },
    {
      "cell_type": "markdown",
      "source": [
        "# 間質性肺炎の予後予測因子の抽出と予後予測のランダムフォレストモデル"
      ],
      "metadata": {
        "id": "CTHOUNH1uq_p"
      }
    },
    {
      "cell_type": "markdown",
      "source": [
        "**TODO: 柴木様**\n",
        "\n",
        "下記に加え、図表などで今回の解析内容の説明\n",
        "\n",
        "線維化を伴う間質性肺炎の急性増悪の多施設後ろ向き実態調査に付随した研究として、予後予測因子の抽出と予後予測の新規モデルを作成します。和歌山医科大学の保有する、線維化を伴う間質性肺炎の急性増悪の多施設後ろ向き実態調査に登録された患者において急性増悪中に施行されたBAL液中のサイトカインやケモカインのデータを用いて、間質性肺炎の予後予測因子の抽出と予後予測の新規モデルを作成します。\n",
        "\n",
        "今回の解析はは分類問題であるため、ランダムフォレスト分類器が使用されます。Scikit-learnライブラリから、RandomForestClassifierを持つアンサンブルパッケージが使用されます。ランダムフォレストは、平均化を使用して予測精度を向上させ、特定のデータセットのさまざまなサブサンプルに多数の決定木分類器を適合させることで過剰適合を制御するメタ推定量です。"
      ],
      "metadata": {
        "id": "1vu98ohVvxdE"
      }
    },
    {
      "cell_type": "markdown",
      "source": [
        "## 環境構築"
      ],
      "metadata": {
        "id": "tSsbBF5Jv-Bp"
      }
    },
    {
      "cell_type": "markdown",
      "source": [
        "本章では、下記のライブラリを利用します。"
      ],
      "metadata": {
        "id": "VOY7BGQywFZy"
      }
    },
    {
      "cell_type": "markdown",
      "source": [
        "*  Collections  \n",
        "*  Data Synthesizer\n",
        "*  Google Colab\n",
        "*  Joblib\n",
        "*  Matplotlib\n",
        "*  Numpy\n",
        "*  Optuna\n",
        "*  os\n",
        "*  Pandas\n",
        "*  Seaborn\n",
        "*  Scikit-learn\n",
        "*  sys\n",
        "*  TensorFlow\n"
      ],
      "metadata": {
        "id": "dKVIvrFCwLtH"
      }
    },
    {
      "cell_type": "markdown",
      "source": [
        "以下のセルを実行（Shift + Enter)して必要なライブラリをインストールして下さい。"
      ],
      "metadata": {
        "id": "3ZMH5Zwlx0V8"
      }
    },
    {
      "cell_type": "code",
      "source": [
        "!python -m pip install openpyxl==3.0\n",
        "!pip install -q DataSynthesizer\n",
        "!pip install optuna\n",
        "!apt-get install tree"
      ],
      "metadata": {
        "colab": {
          "base_uri": "https://localhost:8080/"
        },
        "id": "7Dylx1ljwTQ1",
        "outputId": "ff3b6700-db1a-4550-e7d0-c3dba00062b8"
      },
      "execution_count": 1,
      "outputs": [
        {
          "output_type": "stream",
          "name": "stdout",
          "text": [
            "Collecting openpyxl==3.0\n",
            "  Downloading openpyxl-3.0.0.tar.gz (172 kB)\n",
            "\u001b[?25l\r\u001b[K     |██                              | 10 kB 22.7 MB/s eta 0:00:01\r\u001b[K     |███▉                            | 20 kB 10.8 MB/s eta 0:00:01\r\u001b[K     |█████▊                          | 30 kB 8.7 MB/s eta 0:00:01\r\u001b[K     |███████▋                        | 40 kB 6.9 MB/s eta 0:00:01\r\u001b[K     |█████████▌                      | 51 kB 3.7 MB/s eta 0:00:01\r\u001b[K     |███████████▍                    | 61 kB 4.4 MB/s eta 0:00:01\r\u001b[K     |█████████████▎                  | 71 kB 4.4 MB/s eta 0:00:01\r\u001b[K     |███████████████▏                | 81 kB 4.1 MB/s eta 0:00:01\r\u001b[K     |█████████████████               | 92 kB 4.6 MB/s eta 0:00:01\r\u001b[K     |███████████████████             | 102 kB 4.4 MB/s eta 0:00:01\r\u001b[K     |████████████████████▉           | 112 kB 4.4 MB/s eta 0:00:01\r\u001b[K     |██████████████████████▊         | 122 kB 4.4 MB/s eta 0:00:01\r\u001b[K     |████████████████████████▋       | 133 kB 4.4 MB/s eta 0:00:01\r\u001b[K     |██████████████████████████▌     | 143 kB 4.4 MB/s eta 0:00:01\r\u001b[K     |████████████████████████████▌   | 153 kB 4.4 MB/s eta 0:00:01\r\u001b[K     |██████████████████████████████▍ | 163 kB 4.4 MB/s eta 0:00:01\r\u001b[K     |████████████████████████████████| 172 kB 4.4 MB/s \n",
            "\u001b[?25hCollecting jdcal\n",
            "  Downloading jdcal-1.4.1-py2.py3-none-any.whl (9.5 kB)\n",
            "Requirement already satisfied: et_xmlfile in /usr/local/lib/python3.7/dist-packages (from openpyxl==3.0) (1.1.0)\n",
            "Building wheels for collected packages: openpyxl\n",
            "  Building wheel for openpyxl (setup.py) ... \u001b[?25l\u001b[?25hdone\n",
            "  Created wheel for openpyxl: filename=openpyxl-3.0.0-py2.py3-none-any.whl size=241207 sha256=aff3bb1e5bfc54f15afe98e5299df0fb0a5473cf37273df8bd34f04c0f6705ec\n",
            "  Stored in directory: /root/.cache/pip/wheels/c7/64/ff/ce98f6e1d2701ae8e216c875da62feed2839ac8a3cae0ab8af\n",
            "Successfully built openpyxl\n",
            "Installing collected packages: jdcal, openpyxl\n",
            "  Attempting uninstall: openpyxl\n",
            "    Found existing installation: openpyxl 3.0.9\n",
            "    Uninstalling openpyxl-3.0.9:\n",
            "      Successfully uninstalled openpyxl-3.0.9\n",
            "Successfully installed jdcal-1.4.1 openpyxl-3.0.0\n",
            "Collecting optuna\n",
            "  Downloading optuna-2.10.0-py3-none-any.whl (308 kB)\n",
            "\u001b[K     |████████████████████████████████| 308 kB 4.1 MB/s \n",
            "\u001b[?25hCollecting colorlog\n",
            "  Downloading colorlog-6.6.0-py2.py3-none-any.whl (11 kB)\n",
            "Requirement already satisfied: tqdm in /usr/local/lib/python3.7/dist-packages (from optuna) (4.63.0)\n",
            "Collecting cmaes>=0.8.2\n",
            "  Downloading cmaes-0.8.2-py3-none-any.whl (15 kB)\n",
            "Collecting alembic\n",
            "  Downloading alembic-1.7.7-py3-none-any.whl (210 kB)\n",
            "\u001b[K     |████████████████████████████████| 210 kB 40.0 MB/s \n",
            "\u001b[?25hRequirement already satisfied: scipy!=1.4.0 in /usr/local/lib/python3.7/dist-packages (from optuna) (1.4.1)\n",
            "Requirement already satisfied: packaging>=20.0 in /usr/local/lib/python3.7/dist-packages (from optuna) (21.3)\n",
            "Requirement already satisfied: sqlalchemy>=1.1.0 in /usr/local/lib/python3.7/dist-packages (from optuna) (1.4.32)\n",
            "Collecting cliff\n",
            "  Downloading cliff-3.10.1-py3-none-any.whl (81 kB)\n",
            "\u001b[K     |████████████████████████████████| 81 kB 3.3 MB/s \n",
            "\u001b[?25hRequirement already satisfied: numpy in /usr/local/lib/python3.7/dist-packages (from optuna) (1.21.5)\n",
            "Requirement already satisfied: PyYAML in /usr/local/lib/python3.7/dist-packages (from optuna) (3.13)\n",
            "Requirement already satisfied: pyparsing!=3.0.5,>=2.0.2 in /usr/local/lib/python3.7/dist-packages (from packaging>=20.0->optuna) (3.0.7)\n",
            "Requirement already satisfied: greenlet!=0.4.17 in /usr/local/lib/python3.7/dist-packages (from sqlalchemy>=1.1.0->optuna) (1.1.2)\n",
            "Requirement already satisfied: importlib-metadata in /usr/local/lib/python3.7/dist-packages (from sqlalchemy>=1.1.0->optuna) (4.11.2)\n",
            "Requirement already satisfied: importlib-resources in /usr/local/lib/python3.7/dist-packages (from alembic->optuna) (5.4.0)\n",
            "Collecting Mako\n",
            "  Downloading Mako-1.2.0-py3-none-any.whl (78 kB)\n",
            "\u001b[K     |████████████████████████████████| 78 kB 5.5 MB/s \n",
            "\u001b[?25hCollecting cmd2>=1.0.0\n",
            "  Downloading cmd2-2.4.0-py3-none-any.whl (150 kB)\n",
            "\u001b[K     |████████████████████████████████| 150 kB 31.7 MB/s \n",
            "\u001b[?25hRequirement already satisfied: PrettyTable>=0.7.2 in /usr/local/lib/python3.7/dist-packages (from cliff->optuna) (3.2.0)\n",
            "Collecting autopage>=0.4.0\n",
            "  Downloading autopage-0.5.0-py3-none-any.whl (29 kB)\n",
            "Collecting pbr!=2.1.0,>=2.0.0\n",
            "  Downloading pbr-5.8.1-py2.py3-none-any.whl (113 kB)\n",
            "\u001b[K     |████████████████████████████████| 113 kB 40.0 MB/s \n",
            "\u001b[?25hCollecting stevedore>=2.0.1\n",
            "  Downloading stevedore-3.5.0-py3-none-any.whl (49 kB)\n",
            "\u001b[K     |████████████████████████████████| 49 kB 5.1 MB/s \n",
            "\u001b[?25hRequirement already satisfied: wcwidth>=0.1.7 in /usr/local/lib/python3.7/dist-packages (from cmd2>=1.0.0->cliff->optuna) (0.2.5)\n",
            "Requirement already satisfied: typing-extensions in /usr/local/lib/python3.7/dist-packages (from cmd2>=1.0.0->cliff->optuna) (3.10.0.2)\n",
            "Requirement already satisfied: attrs>=16.3.0 in /usr/local/lib/python3.7/dist-packages (from cmd2>=1.0.0->cliff->optuna) (21.4.0)\n",
            "Collecting pyperclip>=1.6\n",
            "  Downloading pyperclip-1.8.2.tar.gz (20 kB)\n",
            "Requirement already satisfied: zipp>=0.5 in /usr/local/lib/python3.7/dist-packages (from importlib-metadata->sqlalchemy>=1.1.0->optuna) (3.7.0)\n",
            "Requirement already satisfied: MarkupSafe>=0.9.2 in /usr/local/lib/python3.7/dist-packages (from Mako->alembic->optuna) (2.0.1)\n",
            "Building wheels for collected packages: pyperclip\n",
            "  Building wheel for pyperclip (setup.py) ... \u001b[?25l\u001b[?25hdone\n",
            "  Created wheel for pyperclip: filename=pyperclip-1.8.2-py3-none-any.whl size=11137 sha256=0d6877e88a1f693fa9793b29b7d80057b429175ec20aeb394d1a871f652ee195\n",
            "  Stored in directory: /root/.cache/pip/wheels/9f/18/84/8f69f8b08169c7bae2dde6bd7daf0c19fca8c8e500ee620a28\n",
            "Successfully built pyperclip\n",
            "Installing collected packages: pyperclip, pbr, stevedore, Mako, cmd2, autopage, colorlog, cmaes, cliff, alembic, optuna\n",
            "Successfully installed Mako-1.2.0 alembic-1.7.7 autopage-0.5.0 cliff-3.10.1 cmaes-0.8.2 cmd2-2.4.0 colorlog-6.6.0 optuna-2.10.0 pbr-5.8.1 pyperclip-1.8.2 stevedore-3.5.0\n",
            "Reading package lists... Done\n",
            "Building dependency tree       \n",
            "Reading state information... Done\n",
            "The following NEW packages will be installed:\n",
            "  tree\n",
            "0 upgraded, 1 newly installed, 0 to remove and 39 not upgraded.\n",
            "Need to get 40.7 kB of archives.\n",
            "After this operation, 105 kB of additional disk space will be used.\n",
            "Get:1 http://archive.ubuntu.com/ubuntu bionic/universe amd64 tree amd64 1.7.0-5 [40.7 kB]\n",
            "Fetched 40.7 kB in 1s (50.6 kB/s)\n",
            "Selecting previously unselected package tree.\n",
            "(Reading database ... 155335 files and directories currently installed.)\n",
            "Preparing to unpack .../tree_1.7.0-5_amd64.deb ...\n",
            "Unpacking tree (1.7.0-5) ...\n",
            "Setting up tree (1.7.0-5) ...\n",
            "Processing triggers for man-db (2.8.3-2ubuntu0.1) ...\n"
          ]
        }
      ]
    },
    {
      "cell_type": "markdown",
      "source": [
        "インストールが完了したら以下のセルを実行して，各ライブラリのインポート，及びバージョン確認を行って下さい."
      ],
      "metadata": {
        "id": "ewBmARaZyKfw"
      }
    },
    {
      "cell_type": "code",
      "execution_count": 2,
      "metadata": {
        "colab": {
          "base_uri": "https://localhost:8080/"
        },
        "id": "f0TJsNytuc4F",
        "outputId": "d3633e5c-4cd1-4132-db88-b3375460bcbe"
      },
      "outputs": [
        {
          "output_type": "stream",
          "name": "stdout",
          "text": [
            "Data Synthesizer:  0.1.10\n",
            "Google Colab Python: \n",
            "Python 3.7.12\n",
            "\n",
            "Joblib:  1.1.0\n",
            "Matplotlib:  3.2.2\n",
            "Numpy:  1.21.5\n",
            "Optuna:  2.10.0\n",
            "pandas:  1.3.5\n",
            "Seaborn:  0.11.2\n",
            "Scikit-learn:  1.0.2\n",
            "TensorFlow:  2.8.0\n"
          ]
        }
      ],
      "source": [
        "from collections import OrderedDict\n",
        "\n",
        "import DataSynthesizer\n",
        "from DataSynthesizer.DataDescriber import DataDescriber\n",
        "from DataSynthesizer.DataGenerator import DataGenerator\n",
        "from DataSynthesizer.ModelInspector import ModelInspector\n",
        "from DataSynthesizer.lib.utils import read_json_file, display_bayesian_network\n",
        "\n",
        "from google.colab import drive\n",
        "import joblib\n",
        "import matplotlib as mpl\n",
        "import matplotlib.pyplot as plt\n",
        "%matplotlib inline\n",
        "import numpy as np\n",
        "import optuna\n",
        "import os\n",
        "import pandas as pd\n",
        "import seaborn as sns\n",
        "\n",
        "import sklearn\n",
        "from sklearn import tree\n",
        "from sklearn import ensemble\n",
        "from sklearn.impute import SimpleImputer\n",
        "from sklearn.metrics import accuracy_score, confusion_matrix, classification_report\n",
        "from sklearn.model_selection import train_test_split, cross_val_score\n",
        "\n",
        "import sys\n",
        "sys.path.append('models')\n",
        "\n",
        "import tensorflow as tf\n",
        "\n",
        "print(\"Data Synthesizer: \", DataSynthesizer.__version__)\n",
        "print(\"Google Colab Python: \")\n",
        "!python --version\n",
        "print(\"\\nJoblib: \", joblib.__version__)\n",
        "print(\"Matplotlib: \", mpl.__version__)\n",
        "print(\"Numpy: \", np.__version__)\n",
        "print(\"Optuna: \", optuna.__version__)\n",
        "print(\"pandas: \", pd.__version__)\n",
        "print(\"Seaborn: \", sns.__version__)\n",
        "print(\"Scikit-learn: \", sklearn.__version__)\n",
        "print(\"TensorFlow: \", tf.__version__)"
      ]
    },
    {
      "cell_type": "markdown",
      "source": [
        "## BAL研究について"
      ],
      "metadata": {
        "id": "H3Vq2J6xz-BX"
      }
    },
    {
      "cell_type": "markdown",
      "source": [
        "**TODO: 柴木様**\n",
        "\n",
        "BAL研究の説明及び図表をここに入れる"
      ],
      "metadata": {
        "id": "h3GNCoHRMT1m"
      }
    },
    {
      "cell_type": "markdown",
      "source": [
        "## 使用するデータセット"
      ],
      "metadata": {
        "id": "GJ2cjyia0SgH"
      }
    },
    {
      "cell_type": "markdown",
      "source": [
        "**TODO: 柴木様**\n",
        "\n",
        "データセットについての説明文"
      ],
      "metadata": {
        "id": "KHrb_zp00WOv"
      }
    },
    {
      "cell_type": "code",
      "source": [
        "from google.colab import drive\n",
        "drive.mount('/content/drive')\n",
        "!cp '/content/drive/MyDrive/shibaki analysis/AE-FILD BAL patient_data.xlsx' patient_data.xlsx"
      ],
      "metadata": {
        "colab": {
          "base_uri": "https://localhost:8080/"
        },
        "id": "Bw4vN16c0bLg",
        "outputId": "8b2426c6-1144-4f0a-f4e7-16395200c2f0"
      },
      "execution_count": 3,
      "outputs": [
        {
          "output_type": "stream",
          "name": "stdout",
          "text": [
            "Mounted at /content/drive\n"
          ]
        }
      ]
    },
    {
      "cell_type": "markdown",
      "source": [
        "無事ダウンロードが完了すると， /content/driveフォルダがローカル環境にマウントされます。"
      ],
      "metadata": {
        "id": "13GjBppJ02aU"
      }
    },
    {
      "cell_type": "markdown",
      "source": [
        "## データ前処理"
      ],
      "metadata": {
        "id": "T_nwpw9JBnnr"
      }
    },
    {
      "cell_type": "markdown",
      "source": [
        "ダウンロードしたファイルを読み込み，機械学習モデルへの入力形式に変換するデータ前処理を以下の手順で行います。\n",
        "\n",
        "1. ヘルパーファンクションでデータフレームテキスト内の\"\\n\"をスペースに変換する関数を定義する\n",
        "2. 学習に不必要なデータコラムを除外する: \"No\"\n",
        "3. sklearnのSimpleImputerを導入し欠損値（NaN)補完を行う\n",
        "    - 補完方法は中央値で欠損値を埋める（[[1](https://scikit-learn.org/stable/modules/generated/sklearn.impute.SimpleImputer.html)]を参考）\n",
        "4. 学習用のデータが不足しているためDataSynthesizerライブラリーを導入し模擬データを作成する\n",
        "    - ベイジアンネットワークを使用して合成データセットを作成する方法はこちらを参考して下さい [[2](https://www.scb.se/contentassets/ca21efb41fee47d293bbee5bf7be7fb3/using-bayesian-networks-to-create-synthetic-data.pdf)]"
      ],
      "metadata": {
        "id": "TIW-6ambBtZK"
      }
    },
    {
      "cell_type": "markdown",
      "source": [
        "まずは以下のセルを実行して、データ前処理クラスを定義します。\n",
        "全処理クラス内では、以下のメンバ関数を定義しています。\n",
        "\n",
        "* __init__() (コンストラクタ）: 変数の初期化，学習用とテスト用への分割ルール，利用するラベルの集約ルール\n",
        "* clean_header(): Pandasデータフレームのヘッダー内の\"\\n\"をスペースに変換する関数\n",
        "* convert_text_to_list(): Pandasデータフレームのヘッダーをリストに変換する関数\n",
        "* drop_columns(): 学習に不必要な項目をdrop()する関数\n",
        "* data_imputation(): sklearnのSimpleImputerを導入し欠損値（NaN)補完を行う関数\n",
        "* def remove_header_map(): Pandasデータフレームのヘッダー内にカテゴリカル変数が含まれる場合、数値と置き換える関数\n",
        "* def create_data_synthesis_network(): 模擬データを作成するためのベイジアンネットワークモデルの定義・学習を行う関数\n",
        "* def generate_synthetic_data(): 学習済のベイジアンネットワークモデルを使い模擬データを実際に作成する関数\n",
        "* def synthetic_data_wrapper(): 学習済のDataDescriberのモデルが存在するかを確認する関数\n",
        "* def main(): 上記全ての工程を一度に実行するためのメイン関数\n",
        "\n",
        "\n"
      ],
      "metadata": {
        "id": "rB_N0KCGjwu9"
      }
    },
    {
      "cell_type": "code",
      "source": [
        "# 出力ディレクトリーの作成\n",
        "!mkdir ./out\n",
        "\n",
        "# description_fileをグーグルドライブから引っ張ってくる\n",
        "!cp '/content/drive/MyDrive/shibaki analysis/description.json' ./out/description.json\n",
        "\n",
        "# synthetic_dataをグーグルドライブから引っ張ってくる\n",
        "!cp '/content/drive/MyDrive/shibaki analysis/synthetic_data.csv' ./out/synthetic_data.csv"
      ],
      "metadata": {
        "id": "WJJR0U5kPILs"
      },
      "execution_count": 4,
      "outputs": []
    },
    {
      "cell_type": "code",
      "source": [
        "class BaseBALDatasetProcessor(object):\n",
        "    def __init__(\n",
        "        self,\n",
        "        dataset,\n",
        "        dataset_root,\n",
        "        dataframe_name,\n",
        "    ):\n",
        "        # 模擬データが元のデータの類似するように模擬データの作成設定をcorrelated_attribute_modeにする\n",
        "        self.mode = 'correlated_attribute_mode'\n",
        "        self.dataset = dataset\n",
        "        self.dataset_root = dataset_root\n",
        "        self.dataframe_name = dataframe_name\n",
        "\n",
        "        # 模擬データの構造を説明するための情報ファイル等の指定\n",
        "        if os.path.exists(f'./out/description.json') and os.path.exists(f'./out/synthetic_data.csv'):\n",
        "            self.description_file = f'./out/description.json'\n",
        "            self.synthetic_data = f'./out/synthetic_data.csv'\n",
        "\n",
        "        else:\n",
        "            self.output_dir = f'./out'\n",
        "            self.description_file = f'./out/description.json'\n",
        "            self.synthetic_data = f'./out/synthetic_data.csv'\n",
        "\n",
        "        # データセットをPandasのデータフレームとして読み込む\n",
        "        self.dataframe = pd.read_excel(self.dataset, engine='openpyxl')\n",
        "\n",
        "        # データセット内のカテゴリカル変数の数値をその数値が表すカテゴリーに置き換える必要がある際\n",
        "        self.columnname_dict = OrderedDict([\n",
        "            ('90day-mortality', {0.0: 'survival', 1.0: 'death'}),\n",
        "            ('sex', {0.0: 'male', 1.0: 'female'}),\n",
        "            ('smoking-status',\n",
        "             {0.0: 'Never',\n",
        "                   1.0: 'Ex(quit smoking over a year ago)',\n",
        "                   2.0: 'Current'}),\n",
        "            ('emphysema', {0.0: '-', 1.0: '+'}),\n",
        "            ('Baseline-ILD',\n",
        "             {0.0: 'UIP',\n",
        "                   1.0: 'probable UIP',\n",
        "                   2.0: 'Indeterminate for UIP',\n",
        "                   3.0: 'Alternative diagnosis'}),\n",
        "            ('Collagen-disease', {0.0: '-', 1.0: '+'}),\n",
        "            ('IPAF', {0.0: '-', 1.0: '+'})])\n",
        "\n",
        "    def clean_header(\n",
        "        self,\n",
        "        text\n",
        "    ):\n",
        "        \"\"\"\n",
        "        Pandasデータフレームのヘッダー内の\"\\n\"をスペースに変換する関数\n",
        "        \"\"\"\n",
        "        text = text.strip()\n",
        "        text = text.replace(\" \", \"-\")\n",
        "        text_n_newline = text.replace(\"\\n\", \" \")\n",
        "        return text_n_newline\n",
        "\n",
        "    def convert_text_to_list(self):\n",
        "        \"\"\"\n",
        "        Pandasデータフレームのヘッダーをリストに変換する関数\n",
        "        \"\"\"\n",
        "        df_header_list = self.dataframe.columns.values.tolist()\n",
        "        df_header_list_cleaned = [self.clean_header(x) for x in df_header_list]\n",
        "        self.dataframe.columns = df_header_list_cleaned\n",
        "\n",
        "    def drop_columns(\n",
        "        self,\n",
        "        col_names=[\"No\"]\n",
        "    ):\n",
        "        \"\"\"\n",
        "        学習に不必要な項目をdrop()する関数\n",
        "        \"\"\"\n",
        "        self.dataframe = self.dataframe.drop(columns=col_names)\n",
        "\n",
        "    def data_imputation(\n",
        "        self,\n",
        "        null_val='NaN',\n",
        "        strategy='median'\n",
        "    ):\n",
        "        \"\"\"\n",
        "        sklearnのSimpleImputerを導入し欠損値（NaN)補完を行う関数\n",
        "        \"\"\"\n",
        "        if null_val == 'NaN':\n",
        "            nan_attr = np.NaN\n",
        "        else:\n",
        "            print(\"Declare valid null data value for variable null_val\")\n",
        "        # データフレーム内の\"NaN\"をnumpyのNaNと置き換える)\n",
        "        self.dataframe.replace(null_val, nan_attr, inplace=True)\n",
        "        # sklearnのSimpleImputerを使い、np.NaNをnull値として認識させる。\n",
        "        # 加、strategy=\"median\"はnp.NaNをその行のNaNを中央値と置き換えるための指定\n",
        "        imp = SimpleImputer(missing_values=nan_attr, strategy=strategy)\n",
        "        df_idf = pd.DataFrame(imp.fit_transform(self.dataframe))\n",
        "        # SimpleImputerは数値しか作成できない為、元のデータセットの行名を新しいデータセットに加るコード\n",
        "        df_idf.columns = self.dataframe.columns\n",
        "        self.dataframe = df_idf\n",
        "\n",
        "    def remove_header_map(\n",
        "        self,\n",
        "        text\n",
        "    ):\n",
        "        \"\"\"\n",
        "        Pandasデータフレームのヘッダー内にカテゴリカル変数が含まれる場合、数値と置き換える関数\n",
        "        \"\"\"\n",
        "        for key in self.columnname_dict.keys():\n",
        "            if key in text:\n",
        "                text = key\n",
        "        return text\n",
        "\n",
        "    def create_data_synthesis_network(\n",
        "        self,\n",
        "        # データの要素を識別できるように、IDをデータのキーとして認識する\n",
        "        candidate_keys={'ID': True},\n",
        "        categorical_attr_index=9,\n",
        "        categorical_attr_incl=['ID', 'age', 'Brinkman-Index'],\n",
        "\n",
        "        # ベイジアンネットワークパラメーター指定\n",
        "        # ドメインサイズがこのしきい値よりも小さい場合、属性はカテゴリーに分類されます。\n",
        "        # 今回のデータでは一番多いカテゴリー要素が4だったので、閾値を4と指定する\n",
        "        threshold_value=4,\n",
        "\n",
        "        # 差分プライバシーのパラメーター。 これは、入力データセットの行を削除しても、exp（epsilon）の乗法差以上に同じ出力を取得する確率が変わらないことを大まかに意味します。\n",
        "        # イプシロン値を増やすことで学習モデルのノイズを減らせます。 差分プライバシーをオフにするにはepsilon = 0を設定します。\n",
        "        epsilon=1,\n",
        "\n",
        "        # ベイジアンネットワーク内の親ノードの最大数、つまり、有向グラフでの入力エッジの最大数。\n",
        "        degree_of_bayesian_network=2\n",
        "    ):\n",
        "        \"\"\"\n",
        "        模擬データを作成するためのベイジアンネットワークモデルの定義・学習を行う関数\n",
        "        \"\"\"\n",
        "        # PandasのデータフレームをDataSynthesizerが応用できるようにcsvに変換する\n",
        "        self.dataframe.to_csv(self.dataframe_name + '.csv', index=False)\n",
        "\n",
        "        # データフレーム内の0−9行の内age以外の行はカテゴリカルなため、模擬データを作成出来るようにカテゴリかルアトリビュートとして認識する\n",
        "        categorical_attributes = {}\n",
        "\n",
        "        for columns in list(self.dataframe.columns[:categorical_attr_index]):\n",
        "            if columns not in categorical_attr_incl:\n",
        "                categorical_attributes[columns] = True\n",
        "\n",
        "        # DataDescriberをインスタンス化する\n",
        "        describer = DataDescriber(category_threshold=threshold_value)\n",
        "\n",
        "        if self.mode == 'correlated_attribute_mode':\n",
        "            # データセットの統計を計算する\n",
        "            describer.describe_dataset_in_correlated_attribute_mode(dataset_file='./' + self.dataframe_name + '.csv',\n",
        "                                                                    epsilon=epsilon,\n",
        "                                                                    k=degree_of_bayesian_network,\n",
        "                                                                    attribute_to_is_categorical=categorical_attributes,\n",
        "                                                                    attribute_to_is_candidate_key=candidate_keys)\n",
        "        else:\n",
        "            print(\"The model does not currently suport this mode type for computation\")\n",
        "\n",
        "        # データセットの統計を上で定義した出力ファイルに保存する\n",
        "        # その後に作成されたベイズネットワークを出力する\n",
        "        describer.save_dataset_description_to_file(self.description_file)\n",
        "        display_bayesian_network(describer.bayesian_network)\n",
        "        return describer\n",
        "\n",
        "    def generate_synthetic_data(\n",
        "        self,\n",
        "        # 合成データセットで生成される症例数\n",
        "        num_tuples_to_generate=50\n",
        "    ):\n",
        "        \"\"\"\n",
        "        学習済のベイジアンネットワークモデルを使い模擬データを実際に作成する関数\n",
        "        \"\"\"\n",
        "        # 実際に模擬データを作成するコード\n",
        "        generator = DataGenerator()\n",
        "\n",
        "        # ベイズモデルの応用（模擬データの作成）\n",
        "        # description_fileとして定義してあるJSONファイルにベイズモデルが学習したカテゴリカルアトリビュートの特徴が保存される\n",
        "        # num_tuples_to_generateは生成される症例数\n",
        "        generator.generate_dataset_in_correlated_attribute_mode(\n",
        "            num_tuples_to_generate, self.description_file)\n",
        "\n",
        "        # 作成した模擬データをsynthetic_dataとして定義したcsvファイルに保存する\n",
        "        generator.save_synthetic_data(self.synthetic_data)\n",
        "\n",
        "        # pandasのデータフレームとして模擬データを読み込む\n",
        "        synthetic_df = pd.read_csv(self.synthetic_data)\n",
        "\n",
        "        return synthetic_df, generator\n",
        "\n",
        "    def synthetic_data_wrapper(\n",
        "        self\n",
        "    ):\n",
        "        \"\"\"\n",
        "        学習済のDataDescriberのモデルが存在するかを確認する関数\n",
        "        \"\"\"\n",
        "        # ヘッダーコラムのテキストを記号と置き換える必要がある場合\n",
        "        df_header_list = self.dataframe.columns.values.tolist()\n",
        "        df_header_list_cleaned = [self.remove_header_map(\n",
        "            x) for x in self.columnname_dict]\n",
        "        for column in self.dataframe:\n",
        "            for header in df_header_list_cleaned:\n",
        "                if header in column:\n",
        "                    self.dataframe.rename(\n",
        "                        columns={column: header}, inplace=True)\n",
        "\n",
        "        # 事前に学習済のDataDescriberが存在するかを確認する\n",
        "        if os.path.exists(self.synthetic_data) and \\\n",
        "                os.stat(self.synthetic_data).st_size != 0:\n",
        "            # pandasのデータフレームとして模擬データを読み込む\n",
        "            synthetic_df = pd.read_csv(self.synthetic_data)\n",
        "\n",
        "        else:\n",
        "            describer = self.create_data_synthesis_network()\n",
        "            synthetic_df, generator = self.generate_synthetic_data()\n",
        "\n",
        "        # 新しく作成した模擬データは上記で作成したsynthetic_df内にあるため、self.dataframeにデータを足す\n",
        "        self.dataframe = pd.concat([self.dataframe, synthetic_df])\n",
        "        return self.dataframe\n",
        "\n",
        "    def main(\n",
        "        self\n",
        "    ):\n",
        "        \"\"\"\n",
        "        上記全ての工程を一度に実行するためのメイン関数\n",
        "        \"\"\"\n",
        "        self.convert_text_to_list()\n",
        "        self.drop_columns(col_names=[\"No\"])\n",
        "        self.data_imputation(null_val='NaN', strategy='median')\n",
        "        return self.synthetic_data_wrapper()\n"
      ],
      "metadata": {
        "id": "Cg_8K1fpjwJX"
      },
      "execution_count": 5,
      "outputs": []
    },
    {
      "cell_type": "markdown",
      "source": [
        "データ保存先のrootディレクトリ(dataset_root)を指定し， 上記のクラスを使用してデータの前処理を行う。前処理済のデータはdataframe_nameで指定した名前でPandasのデータフレーム形式で所定の場所に保存されます。"
      ],
      "metadata": {
        "id": "4UKKr7DVDMNG"
      }
    },
    {
      "cell_type": "code",
      "source": [
        "dataset = 'patient_data.xlsx'\n",
        "dataset_root = './'\n",
        "dataframe_name = 'AE_FILD_df'\n",
        "post_processed_data_frame = BaseBALDatasetProcessor(dataset, dataset_root, dataframe_name).main()\n",
        "post_processed_data_frame.head()"
      ],
      "metadata": {
        "colab": {
          "base_uri": "https://localhost:8080/",
          "height": 317
        },
        "id": "zKrG2bzSCKoq",
        "outputId": "55475d07-14b0-4b6f-c187-575af19e204b"
      },
      "execution_count": 6,
      "outputs": [
        {
          "output_type": "execute_result",
          "data": {
            "text/plain": [
              "          ID  90day-mortality  sex   age  smoking-status  Brinkman-Index  \\\n",
              "0   558277.0              0.0  0.0  78.0             1.0          1600.0   \n",
              "1  1848827.0              0.0  1.0  72.0             0.0             0.0   \n",
              "2  1902349.0              0.0  0.0  86.0             0.0             0.0   \n",
              "3  3165531.0              0.0  0.0  58.0             1.0           500.0   \n",
              "4  3253683.0              0.0  0.0  76.0             1.0           800.0   \n",
              "\n",
              "   emphysema  Baseline-ILD  Collagen-disease  IPAF  ...  IL-7        IL-8  \\\n",
              "0        0.0           1.0               0.0   0.0  ...   3.2  313.439925   \n",
              "1        0.0           2.0               0.0   0.0  ...   3.2  325.398968   \n",
              "2        0.0           2.0               0.0   0.0  ...   3.2   35.723941   \n",
              "3        0.0           2.0               0.0   0.0  ...   3.2   87.506323   \n",
              "4        0.0           3.0               0.0   0.0  ...   3.2  179.661551   \n",
              "\n",
              "          IP-10        MCP-1     MIP-1a      MIP-1b       TNFa  TNFb  VEGF  \\\n",
              "0   2160.940947  1009.878650  28.906316   30.940577   4.483265   3.2   3.2   \n",
              "1  15647.940247  1943.663852  25.105166   25.342591  24.074274   3.2   3.2   \n",
              "2   2807.826476   243.983235   5.912140   23.698467   8.748703   3.2   3.2   \n",
              "3   3908.900383   637.958551   3.518690   14.870714   3.792897   3.2   3.2   \n",
              "4   2575.467315  3495.474916  31.821785  100.036875  21.233261   3.2   3.2   \n",
              "\n",
              "     IL-36β  \n",
              "0  4.221958  \n",
              "1  2.000000  \n",
              "2  2.000000  \n",
              "3  2.000000  \n",
              "4  2.000000  \n",
              "\n",
              "[5 rows x 63 columns]"
            ],
            "text/html": [
              "\n",
              "  <div id=\"df-37d10dc0-22bd-414c-b341-da433a8baf1b\">\n",
              "    <div class=\"colab-df-container\">\n",
              "      <div>\n",
              "<style scoped>\n",
              "    .dataframe tbody tr th:only-of-type {\n",
              "        vertical-align: middle;\n",
              "    }\n",
              "\n",
              "    .dataframe tbody tr th {\n",
              "        vertical-align: top;\n",
              "    }\n",
              "\n",
              "    .dataframe thead th {\n",
              "        text-align: right;\n",
              "    }\n",
              "</style>\n",
              "<table border=\"1\" class=\"dataframe\">\n",
              "  <thead>\n",
              "    <tr style=\"text-align: right;\">\n",
              "      <th></th>\n",
              "      <th>ID</th>\n",
              "      <th>90day-mortality</th>\n",
              "      <th>sex</th>\n",
              "      <th>age</th>\n",
              "      <th>smoking-status</th>\n",
              "      <th>Brinkman-Index</th>\n",
              "      <th>emphysema</th>\n",
              "      <th>Baseline-ILD</th>\n",
              "      <th>Collagen-disease</th>\n",
              "      <th>IPAF</th>\n",
              "      <th>...</th>\n",
              "      <th>IL-7</th>\n",
              "      <th>IL-8</th>\n",
              "      <th>IP-10</th>\n",
              "      <th>MCP-1</th>\n",
              "      <th>MIP-1a</th>\n",
              "      <th>MIP-1b</th>\n",
              "      <th>TNFa</th>\n",
              "      <th>TNFb</th>\n",
              "      <th>VEGF</th>\n",
              "      <th>IL-36β</th>\n",
              "    </tr>\n",
              "  </thead>\n",
              "  <tbody>\n",
              "    <tr>\n",
              "      <th>0</th>\n",
              "      <td>558277.0</td>\n",
              "      <td>0.0</td>\n",
              "      <td>0.0</td>\n",
              "      <td>78.0</td>\n",
              "      <td>1.0</td>\n",
              "      <td>1600.0</td>\n",
              "      <td>0.0</td>\n",
              "      <td>1.0</td>\n",
              "      <td>0.0</td>\n",
              "      <td>0.0</td>\n",
              "      <td>...</td>\n",
              "      <td>3.2</td>\n",
              "      <td>313.439925</td>\n",
              "      <td>2160.940947</td>\n",
              "      <td>1009.878650</td>\n",
              "      <td>28.906316</td>\n",
              "      <td>30.940577</td>\n",
              "      <td>4.483265</td>\n",
              "      <td>3.2</td>\n",
              "      <td>3.2</td>\n",
              "      <td>4.221958</td>\n",
              "    </tr>\n",
              "    <tr>\n",
              "      <th>1</th>\n",
              "      <td>1848827.0</td>\n",
              "      <td>0.0</td>\n",
              "      <td>1.0</td>\n",
              "      <td>72.0</td>\n",
              "      <td>0.0</td>\n",
              "      <td>0.0</td>\n",
              "      <td>0.0</td>\n",
              "      <td>2.0</td>\n",
              "      <td>0.0</td>\n",
              "      <td>0.0</td>\n",
              "      <td>...</td>\n",
              "      <td>3.2</td>\n",
              "      <td>325.398968</td>\n",
              "      <td>15647.940247</td>\n",
              "      <td>1943.663852</td>\n",
              "      <td>25.105166</td>\n",
              "      <td>25.342591</td>\n",
              "      <td>24.074274</td>\n",
              "      <td>3.2</td>\n",
              "      <td>3.2</td>\n",
              "      <td>2.000000</td>\n",
              "    </tr>\n",
              "    <tr>\n",
              "      <th>2</th>\n",
              "      <td>1902349.0</td>\n",
              "      <td>0.0</td>\n",
              "      <td>0.0</td>\n",
              "      <td>86.0</td>\n",
              "      <td>0.0</td>\n",
              "      <td>0.0</td>\n",
              "      <td>0.0</td>\n",
              "      <td>2.0</td>\n",
              "      <td>0.0</td>\n",
              "      <td>0.0</td>\n",
              "      <td>...</td>\n",
              "      <td>3.2</td>\n",
              "      <td>35.723941</td>\n",
              "      <td>2807.826476</td>\n",
              "      <td>243.983235</td>\n",
              "      <td>5.912140</td>\n",
              "      <td>23.698467</td>\n",
              "      <td>8.748703</td>\n",
              "      <td>3.2</td>\n",
              "      <td>3.2</td>\n",
              "      <td>2.000000</td>\n",
              "    </tr>\n",
              "    <tr>\n",
              "      <th>3</th>\n",
              "      <td>3165531.0</td>\n",
              "      <td>0.0</td>\n",
              "      <td>0.0</td>\n",
              "      <td>58.0</td>\n",
              "      <td>1.0</td>\n",
              "      <td>500.0</td>\n",
              "      <td>0.0</td>\n",
              "      <td>2.0</td>\n",
              "      <td>0.0</td>\n",
              "      <td>0.0</td>\n",
              "      <td>...</td>\n",
              "      <td>3.2</td>\n",
              "      <td>87.506323</td>\n",
              "      <td>3908.900383</td>\n",
              "      <td>637.958551</td>\n",
              "      <td>3.518690</td>\n",
              "      <td>14.870714</td>\n",
              "      <td>3.792897</td>\n",
              "      <td>3.2</td>\n",
              "      <td>3.2</td>\n",
              "      <td>2.000000</td>\n",
              "    </tr>\n",
              "    <tr>\n",
              "      <th>4</th>\n",
              "      <td>3253683.0</td>\n",
              "      <td>0.0</td>\n",
              "      <td>0.0</td>\n",
              "      <td>76.0</td>\n",
              "      <td>1.0</td>\n",
              "      <td>800.0</td>\n",
              "      <td>0.0</td>\n",
              "      <td>3.0</td>\n",
              "      <td>0.0</td>\n",
              "      <td>0.0</td>\n",
              "      <td>...</td>\n",
              "      <td>3.2</td>\n",
              "      <td>179.661551</td>\n",
              "      <td>2575.467315</td>\n",
              "      <td>3495.474916</td>\n",
              "      <td>31.821785</td>\n",
              "      <td>100.036875</td>\n",
              "      <td>21.233261</td>\n",
              "      <td>3.2</td>\n",
              "      <td>3.2</td>\n",
              "      <td>2.000000</td>\n",
              "    </tr>\n",
              "  </tbody>\n",
              "</table>\n",
              "<p>5 rows × 63 columns</p>\n",
              "</div>\n",
              "      <button class=\"colab-df-convert\" onclick=\"convertToInteractive('df-37d10dc0-22bd-414c-b341-da433a8baf1b')\"\n",
              "              title=\"Convert this dataframe to an interactive table.\"\n",
              "              style=\"display:none;\">\n",
              "        \n",
              "  <svg xmlns=\"http://www.w3.org/2000/svg\" height=\"24px\"viewBox=\"0 0 24 24\"\n",
              "       width=\"24px\">\n",
              "    <path d=\"M0 0h24v24H0V0z\" fill=\"none\"/>\n",
              "    <path d=\"M18.56 5.44l.94 2.06.94-2.06 2.06-.94-2.06-.94-.94-2.06-.94 2.06-2.06.94zm-11 1L8.5 8.5l.94-2.06 2.06-.94-2.06-.94L8.5 2.5l-.94 2.06-2.06.94zm10 10l.94 2.06.94-2.06 2.06-.94-2.06-.94-.94-2.06-.94 2.06-2.06.94z\"/><path d=\"M17.41 7.96l-1.37-1.37c-.4-.4-.92-.59-1.43-.59-.52 0-1.04.2-1.43.59L10.3 9.45l-7.72 7.72c-.78.78-.78 2.05 0 2.83L4 21.41c.39.39.9.59 1.41.59.51 0 1.02-.2 1.41-.59l7.78-7.78 2.81-2.81c.8-.78.8-2.07 0-2.86zM5.41 20L4 18.59l7.72-7.72 1.47 1.35L5.41 20z\"/>\n",
              "  </svg>\n",
              "      </button>\n",
              "      \n",
              "  <style>\n",
              "    .colab-df-container {\n",
              "      display:flex;\n",
              "      flex-wrap:wrap;\n",
              "      gap: 12px;\n",
              "    }\n",
              "\n",
              "    .colab-df-convert {\n",
              "      background-color: #E8F0FE;\n",
              "      border: none;\n",
              "      border-radius: 50%;\n",
              "      cursor: pointer;\n",
              "      display: none;\n",
              "      fill: #1967D2;\n",
              "      height: 32px;\n",
              "      padding: 0 0 0 0;\n",
              "      width: 32px;\n",
              "    }\n",
              "\n",
              "    .colab-df-convert:hover {\n",
              "      background-color: #E2EBFA;\n",
              "      box-shadow: 0px 1px 2px rgba(60, 64, 67, 0.3), 0px 1px 3px 1px rgba(60, 64, 67, 0.15);\n",
              "      fill: #174EA6;\n",
              "    }\n",
              "\n",
              "    [theme=dark] .colab-df-convert {\n",
              "      background-color: #3B4455;\n",
              "      fill: #D2E3FC;\n",
              "    }\n",
              "\n",
              "    [theme=dark] .colab-df-convert:hover {\n",
              "      background-color: #434B5C;\n",
              "      box-shadow: 0px 1px 3px 1px rgba(0, 0, 0, 0.15);\n",
              "      filter: drop-shadow(0px 1px 2px rgba(0, 0, 0, 0.3));\n",
              "      fill: #FFFFFF;\n",
              "    }\n",
              "  </style>\n",
              "\n",
              "      <script>\n",
              "        const buttonEl =\n",
              "          document.querySelector('#df-37d10dc0-22bd-414c-b341-da433a8baf1b button.colab-df-convert');\n",
              "        buttonEl.style.display =\n",
              "          google.colab.kernel.accessAllowed ? 'block' : 'none';\n",
              "\n",
              "        async function convertToInteractive(key) {\n",
              "          const element = document.querySelector('#df-37d10dc0-22bd-414c-b341-da433a8baf1b');\n",
              "          const dataTable =\n",
              "            await google.colab.kernel.invokeFunction('convertToInteractive',\n",
              "                                                     [key], {});\n",
              "          if (!dataTable) return;\n",
              "\n",
              "          const docLinkHtml = 'Like what you see? Visit the ' +\n",
              "            '<a target=\"_blank\" href=https://colab.research.google.com/notebooks/data_table.ipynb>data table notebook</a>'\n",
              "            + ' to learn more about interactive tables.';\n",
              "          element.innerHTML = '';\n",
              "          dataTable['output_type'] = 'display_data';\n",
              "          await google.colab.output.renderOutput(dataTable, element);\n",
              "          const docLink = document.createElement('div');\n",
              "          docLink.innerHTML = docLinkHtml;\n",
              "          element.appendChild(docLink);\n",
              "        }\n",
              "      </script>\n",
              "    </div>\n",
              "  </div>\n",
              "  "
            ]
          },
          "metadata": {},
          "execution_count": 6
        }
      ]
    },
    {
      "cell_type": "markdown",
      "source": [
        "保存先の./outディレクトリに以下のファイルが保存されていることを確認する。\n",
        "* 模擬データを作成するためのベイジアンネットワークモデルを保管するdescription.jsonファイル\n",
        "* 学習済のベイジアンネットワークモデルを使い作成した模擬データを保管するsynthetic_data.csv\n"
      ],
      "metadata": {
        "id": "ouGphNQqYugC"
      }
    },
    {
      "cell_type": "code",
      "source": [
        "!tree ./out"
      ],
      "metadata": {
        "colab": {
          "base_uri": "https://localhost:8080/"
        },
        "id": "-EuqubzNZdBR",
        "outputId": "9a79dc04-2122-4b98-ffe7-3127495623fc"
      },
      "execution_count": 7,
      "outputs": [
        {
          "output_type": "stream",
          "name": "stdout",
          "text": [
            "./out\n",
            "├── description.json\n",
            "└── synthetic_data.csv\n",
            "\n",
            "0 directories, 2 files\n"
          ]
        }
      ]
    },
    {
      "cell_type": "markdown",
      "source": [
        "## RF解析モデル\n"
      ],
      "metadata": {
        "id": "dbboFo1YaCNb"
      }
    },
    {
      "cell_type": "markdown",
      "source": [
        "学習モデルを構築する為の学習アルゴリズムには、ランダムフォレストを使用します。\n",
        "まずデータセット分割を行います。\n",
        "教示あり学習には主に交差検証とホールドアウト法がありますが今回はシンプルにホールドアウト法を使ってモデル構築を行います。\n",
        "ホールドアウト法：学習用と評価用にデータセットに分けてから、学習用でモデルを作成してから、評価用のデータでうまく予測する事ができるか確認していきます。\n",
        "X_allにフィーチャー、y_allにラベルと分割し、さらにX_allとy_allを学習用と評価用に分割しました。\n",
        "評価用を30％、学習用を70%と指定しました。\n",
        "加え、ラベルのインデックスは、\n",
        "*   0: 間質性肺炎感染90日後の生存者\n",
        "*   1: 間質性肺炎感染90日後の死者\n",
        "\n",
        "となっています。\n",
        "\n",
        "分割方法についてですが# Scikit-learnのtrain_test_split()を使い自動的にデータセットを学習用と評価用に分割します。test_sizeを0.3にして学習用を30%、訓練用を70%といったように分割できます。加え、random_stateを42にして実験の再現性を向上させます\n"
      ],
      "metadata": {
        "id": "BI-hAB57qTPM"
      }
    },
    {
      "cell_type": "code",
      "source": [
        "#IDを削除\n",
        "finalized_df = post_processed_data_frame.drop(labels=['ID'], axis=1)\n",
        "\n",
        "# 行数と列数を変数として保管する\n",
        "NUM_ROWS, NUM_COLS = finalized_df.shape[0], finalized_df.shape[1]\n",
        "\n",
        "# Y (ラベル) ターゲットラベル\n",
        "Y_col = '90day-mortality'\n",
        "# X (フィーチャー) ターゲットラベル以外の全ての行\n",
        "X_cols = finalized_df.loc[:, finalized_df.columns != Y_col].columns\n",
        "\n",
        "X_train, X_test, y_train, y_test = \\\n",
        "train_test_split(finalized_df[X_cols], finalized_df[Y_col],test_size=0.2, random_state=42)\n",
        "\n",
        "X_train_op, X_test_op, y_train_op, y_test_op = X_train.copy(), X_test.copy(), y_train.copy(), y_test.copy()\n",
        "\n",
        "print(\"X_train.shape = \", X_train.shape, \" \\t y_train.shape = \", y_train.shape)\n",
        "print(\"X_test.shape = \", X_test.shape, \" \\t y_test.shape = \", y_test.shape)\n"
      ],
      "metadata": {
        "colab": {
          "base_uri": "https://localhost:8080/"
        },
        "id": "HnHiazrGZ84Z",
        "outputId": "ba2627be-f395-4eb1-b917-976f7e299f5d"
      },
      "execution_count": 8,
      "outputs": [
        {
          "output_type": "stream",
          "name": "stdout",
          "text": [
            "X_train.shape =  (88, 61)  \t y_train.shape =  (88,)\n",
            "X_test.shape =  (22, 61)  \t y_test.shape =  (22,)\n"
          ]
        }
      ]
    },
    {
      "cell_type": "markdown",
      "source": [
        "学習用データセットに含まれている各ラベル毎のサンプル数をカウントしてみます．"
      ],
      "metadata": {
        "id": "5yApgRKStkBs"
      }
    },
    {
      "cell_type": "code",
      "source": [
        "uniq_train, counts_train = np.unique(y_train, return_counts=True)\n",
        "print(\"y_train count each labels: \", dict(zip(uniq_train, counts_train)))"
      ],
      "metadata": {
        "colab": {
          "base_uri": "https://localhost:8080/"
        },
        "id": "yt-b-tG-ttOA",
        "outputId": "571a67de-4134-4307-9a04-d9973935a421"
      },
      "execution_count": 9,
      "outputs": [
        {
          "output_type": "stream",
          "name": "stdout",
          "text": [
            "y_train count each labels:  {0.0: 59, 1.0: 29}\n"
          ]
        }
      ]
    },
    {
      "cell_type": "markdown",
      "source": [
        "評価用データについても同様にラベル毎のサンプル数をカウントします．"
      ],
      "metadata": {
        "id": "hfSdFRaqtwYU"
      }
    },
    {
      "cell_type": "code",
      "source": [
        "uniq_test, counts_test = np.unique(y_test, return_counts=True)\n",
        "print(\"y_test count each labels: \", dict(zip(uniq_test, counts_test)))"
      ],
      "metadata": {
        "colab": {
          "base_uri": "https://localhost:8080/"
        },
        "id": "YheI_1OpuWK3",
        "outputId": "92f06075-4f74-49d4-e25a-3b7e2942ea51"
      },
      "execution_count": 10,
      "outputs": [
        {
          "output_type": "stream",
          "name": "stdout",
          "text": [
            "y_test count each labels:  {0.0: 13, 1.0: 9}\n"
          ]
        }
      ]
    },
    {
      "cell_type": "markdown",
      "source": [
        "### モデル構築から予測精度の確認"
      ],
      "metadata": {
        "id": "wQIsoppg-nul"
      }
    },
    {
      "cell_type": "markdown",
      "source": [
        "学習したデータに対してとても良い精度を出すモデルであっても、予測が必要な新たなデータに対する精度が非常に低い、いわゆる「過学習」という状態になることが良くあります。こうならないように、汎用的に良い精度になるモデルを作成するためには、妥当性の検証が必要になります。\n",
        "妥当性の検証としては方法を二通り行います：\n",
        "* クロスバリデーション\n",
        "* Optuna\n",
        "\n"
      ],
      "metadata": {
        "id": "JKkBrwE0-tgj"
      }
    },
    {
      "cell_type": "markdown",
      "source": [
        "#### クロスバリデーション"
      ],
      "metadata": {
        "id": "LZrYNlVBcDJ5"
      }
    },
    {
      "cell_type": "markdown",
      "source": [
        "クロスバリデーションを使った最終モデル選択までの手順：\n",
        "1. 使うモデルの候補を上げる：RandomForestClassifier --> ランダムフォレストのパラメーターは、初期値として作成する決定木を42、最大の深さを1にしてみます。)\n",
        "\n",
        "2. それぞれのモデルでクロスバリデーションを行い、感度や特異度などの精度を算出する (決定木を50, 150, 250, 350; 最大の深さを1から20でランダムフォレストモデルを定義する) \n",
        "\n",
        "3. クロスバリデーションの結果、テストデータでの精度が一番高そうなモデルを選択\n"
      ],
      "metadata": {
        "id": "ZE3N6p_WA04B"
      }
    },
    {
      "cell_type": "code",
      "source": [
        "# cross validationを使い、階層や決定木の数をチューニングしてみる（ハイパーパラメーター）\n",
        "# 注：過適合/過剰適合のバランスを見極めながらハイパーパラメーターチューニングを行う\n",
        "best_accuracy = 0\n",
        "best_depth = 1\n",
        "best_num_trees = 42\n",
        "\n",
        "for ntrees in range(50,450,100):  # 決定木50から350の間（ステップ数：100)\n",
        "    for d in range(1,20): # 階層1から20の間\n",
        "        rforest_model = ensemble.RandomForestClassifier(max_depth=d, \n",
        "                                                        n_estimators=ntrees)\n",
        "        cv_scores = cross_val_score( rforest_model, X_train, y_train, cv=5 ) # 5 はトレーニング・テストの割合が8割・2割ということを表す\n",
        "        average_cv_accuracy = cv_scores.mean()  # cvスコアの平均値cv=5はスコアを五つ出すため、その平均値を見る\n",
        "        if average_cv_accuracy >= best_accuracy: # cvスコアの平均値正確性が現在の最適正確性を上回った場合、現在のcvスコア平均値を出した決定木数・階層を最適とする\n",
        "            best_accuracy = average_cv_accuracy\n",
        "            best_depth = d\n",
        "            best_num_trees = ntrees\n",
        "        print(f\"階層: {d:2d} 決定木: {ntrees:3d} cv スコア平均値: {average_cv_accuracy:7.4f}\")\n",
        "\n",
        "print()\n",
        "print(f\"最適層: {best_depth}, 最適決定木数： {best_num_trees}, 最高予測精度：{best_accuracy}\")\n",
        "\n",
        "# 上記で見つけた最適層・最適決定木数をもとにモデルの構築・モデルのトレーニング\n",
        "rforest_model_cv = ensemble.RandomForestClassifier(max_depth=best_depth, n_estimators=best_num_trees) # ensemble.RandomForestClassifierからRF解析モデルを引っ張ってくる\n",
        "\n",
        "# モデルを再度トレーニングする\n",
        "rforest_model_cv.fit(X_train, y_train) # .fit()がトレーニングデータを使い、モデルをトレーニングしろというコマンド\n",
        "\n",
        "# 再度トレーニングした後のモデルのパフォーマンス検証\n",
        "# テストデータにrforest_modelに.predict()関数を応用し、RFモデルがラベルを何個正確に予測出来たかを検証する\n",
        "y_pred = rforest_model_cv.predict(X_test)\n",
        "\n",
        "#モデルを作成する段階でのモデルの識別精度\n",
        "trainaccuracy_random_forest = rforest_model_cv.score(X_train, y_train)\n",
        "print('TrainAccuracy: {}'.format(trainaccuracy_random_forest))\n",
        "\n",
        "#作成したモデルに学習に使用していない評価用のデータセットを入力し精度を確認\n",
        "accuracy_random_forest = accuracy_score(y_test, y_pred)\n",
        "print('Accuracy: {}'.format(accuracy_random_forest))\n",
        "\n",
        "# 正確性の出力\n",
        "print(classification_report(y_test, y_pred))"
      ],
      "metadata": {
        "colab": {
          "base_uri": "https://localhost:8080/"
        },
        "id": "oFUCossjbmh9",
        "outputId": "445d8597-e1d3-4a2f-c8a3-a6261cbf1df4"
      },
      "execution_count": 11,
      "outputs": [
        {
          "output_type": "stream",
          "name": "stdout",
          "text": [
            "階層:  1 決定木:  50 cv スコア平均値:  0.7065\n",
            "階層:  2 決定木:  50 cv スコア平均値:  0.6928\n",
            "階層:  3 決定木:  50 cv スコア平均値:  0.7510\n",
            "階層:  4 決定木:  50 cv スコア平均値:  0.7392\n",
            "階層:  5 決定木:  50 cv スコア平均値:  0.7157\n",
            "階層:  6 決定木:  50 cv スコア平均値:  0.7046\n",
            "階層:  7 決定木:  50 cv スコア平均値:  0.7490\n",
            "階層:  8 決定木:  50 cv スコア平均値:  0.7497\n",
            "階層:  9 決定木:  50 cv スコア平均値:  0.7275\n",
            "階層: 10 決定木:  50 cv スコア平均値:  0.7510\n",
            "階層: 11 決定木:  50 cv スコア平均値:  0.7163\n",
            "階層: 12 決定木:  50 cv スコア平均値:  0.7163\n",
            "階層: 13 決定木:  50 cv スコア平均値:  0.6810\n",
            "階層: 14 決定木:  50 cv スコア平均値:  0.7608\n",
            "階層: 15 決定木:  50 cv スコア平均値:  0.7255\n",
            "階層: 16 決定木:  50 cv スコア平均値:  0.7490\n",
            "階層: 17 決定木:  50 cv スコア平均値:  0.7373\n",
            "階層: 18 決定木:  50 cv スコア平均値:  0.7157\n",
            "階層: 19 決定木:  50 cv スコア平均値:  0.7739\n",
            "階層:  1 決定木: 150 cv スコア平均値:  0.6837\n",
            "階層:  2 決定木: 150 cv スコア平均値:  0.6941\n",
            "階層:  3 決定木: 150 cv スコア平均値:  0.7281\n",
            "階層:  4 決定木: 150 cv スコア平均値:  0.7732\n",
            "階層:  5 決定木: 150 cv スコア平均値:  0.7503\n",
            "階層:  6 決定木: 150 cv スコア平均値:  0.7719\n",
            "階層:  7 決定木: 150 cv スコア平均値:  0.7503\n",
            "階層:  8 決定木: 150 cv スコア平均値:  0.7837\n",
            "階層:  9 決定木: 150 cv スコア平均値:  0.7275\n",
            "階層: 10 決定木: 150 cv スコア平均値:  0.7392\n",
            "階層: 11 決定木: 150 cv スコア平均値:  0.7052\n",
            "階層: 12 決定木: 150 cv スコア平均値:  0.7608\n",
            "階層: 13 決定木: 150 cv スコア平均値:  0.7392\n",
            "階層: 14 決定木: 150 cv スコア平均値:  0.7275\n",
            "階層: 15 決定木: 150 cv スコア平均値:  0.7601\n",
            "階層: 16 決定木: 150 cv スコア平均値:  0.7614\n",
            "階層: 17 決定木: 150 cv スコア平均値:  0.7954\n",
            "階層: 18 決定木: 150 cv スコア平均値:  0.7503\n",
            "階層: 19 決定木: 150 cv スコア平均値:  0.7281\n",
            "階層:  1 決定木: 250 cv スコア平均値:  0.6490\n",
            "階層:  2 決定木: 250 cv スコア平均値:  0.7497\n",
            "階層:  3 決定木: 250 cv スコア平均値:  0.7503\n",
            "階層:  4 決定木: 250 cv スコア平均値:  0.7725\n",
            "階層:  5 決定木: 250 cv スコア平均値:  0.7608\n",
            "階層:  6 決定木: 250 cv スコア平均値:  0.7837\n",
            "階層:  7 決定木: 250 cv スコア平均値:  0.7725\n",
            "階層:  8 決定木: 250 cv スコア平均値:  0.7386\n",
            "階層:  9 決定木: 250 cv スコア平均値:  0.7379\n",
            "階層: 10 決定木: 250 cv スコア平均値:  0.7843\n",
            "階層: 11 決定木: 250 cv スコア平均値:  0.7379\n",
            "階層: 12 決定木: 250 cv スコア平均値:  0.7732\n",
            "階層: 13 決定木: 250 cv スコア平均値:  0.7614\n",
            "階層: 14 決定木: 250 cv スコア平均値:  0.7843\n",
            "階層: 15 決定木: 250 cv スコア平均値:  0.7614\n",
            "階層: 16 決定木: 250 cv スコア平均値:  0.7725\n",
            "階層: 17 決定木: 250 cv スコア平均値:  0.7503\n",
            "階層: 18 決定木: 250 cv スコア平均値:  0.7725\n",
            "階層: 19 決定木: 250 cv スコア平均値:  0.7614\n",
            "階層:  1 決定木: 350 cv スコア平均値:  0.6948\n",
            "階層:  2 決定木: 350 cv スコア平均値:  0.7386\n",
            "階層:  3 決定木: 350 cv スコア平均値:  0.7725\n",
            "階層:  4 決定木: 350 cv スコア平均値:  0.7503\n",
            "階層:  5 決定木: 350 cv スコア平均値:  0.7961\n",
            "階層:  6 決定木: 350 cv スコア平均値:  0.7843\n",
            "階層:  7 決定木: 350 cv スコア平均値:  0.7732\n",
            "階層:  8 決定木: 350 cv スコア平均値:  0.7614\n",
            "階層:  9 決定木: 350 cv スコア平均値:  0.7614\n",
            "階層: 10 決定木: 350 cv スコア平均値:  0.7732\n",
            "階層: 11 決定木: 350 cv スコア平均値:  0.7497\n",
            "階層: 12 決定木: 350 cv スコア平均値:  0.7608\n",
            "階層: 13 決定木: 350 cv スコア平均値:  0.7961\n",
            "階層: 14 決定木: 350 cv スコア平均値:  0.7725\n",
            "階層: 15 決定木: 350 cv スコア平均値:  0.7601\n",
            "階層: 16 決定木: 350 cv スコア平均値:  0.7503\n",
            "階層: 17 決定木: 350 cv スコア平均値:  0.7614\n",
            "階層: 18 決定木: 350 cv スコア平均値:  0.7732\n",
            "階層: 19 決定木: 350 cv スコア平均値:  0.7614\n",
            "\n",
            "最適層: 13, 最適決定木数： 350, 最高予測精度：0.7960784313725491\n",
            "TrainAccuracy: 1.0\n",
            "Accuracy: 0.6818181818181818\n",
            "              precision    recall  f1-score   support\n",
            "\n",
            "         0.0       0.71      0.77      0.74        13\n",
            "         1.0       0.62      0.56      0.59         9\n",
            "\n",
            "    accuracy                           0.68        22\n",
            "   macro avg       0.67      0.66      0.66        22\n",
            "weighted avg       0.68      0.68      0.68        22\n",
            "\n"
          ]
        }
      ]
    },
    {
      "cell_type": "markdown",
      "source": [
        "* 適合率(specificity, precision)とは、positiveと分類したデータ(TP + FP)の中で実際にpositiveだったデータ(TP)数の割合であり、この値が高いほど性能が良く、間違った分類が少ないということを意味します。\n",
        "\n",
        "* 再現率(sensitivity, recall)では、取りこぼし無くpositiveなデータを正しくpositiveと推測できているかどうかの指標となります。この値が高いほど性能がよく、間違ったpositiveの判断が少ないということであり、別の言い方をすると本来positiveと推測すべき全てのデータを、うまく推測できたかどうかを示します。\n",
        "\n",
        "* F-MeasureはF値またはF尺度と呼ばれており、適合率と再現率の調和平均を示します。高ければ高いほど、適合率と再現率ともに高くなり、バランスを示す事ができます。\n",
        "\n",
        "また，クラスごとのスコアの下に，複数の平均スコアが表示されていますが，それぞれの意味は以下の通りです．\n",
        "\n",
        "* マイクロ平均 (micro avg) : 各クラスを区別せずに，混同行列全体からスコアを算出．計算結果はいずれも正解率と一致\n",
        "* マクロ平均 (macro avg) : クラスごとに算出されたスコアの単純平均\n",
        "* 重み付き平均 (weighted avg) : クラスごとに算出されたスコアをサンプル数の比率で重み付けした加重平均"
      ],
      "metadata": {
        "id": "DE-qSfrf3osc"
      }
    },
    {
      "cell_type": "markdown",
      "source": [
        "予測結果を確認していきましょう。\n",
        "\n",
        "混同行列とよばれる，予測の分類結果をまとめた表を作成します．行方向（表側）を正解ラベル，列方向（表頭）を予測ラベルとして，各項目では以下の集計値を求めています．\n",
        "\n",
        "* 左上 : 実際に生存者であるサンプルが，生存者と予測された数\n",
        "* 右上 : 実際に生存者であるサンプルが、死者と予測された数\n",
        "* 左下 : 実際に死者であるサンプルが，生存者と予測された数\n",
        "* 右下 : 実際に死者であるサンプルが，死者と予測された数"
      ],
      "metadata": {
        "id": "B21f8H6d4KXV"
      }
    },
    {
      "cell_type": "code",
      "source": [
        "result = confusion_matrix(y_test, y_pred)\n",
        "print(\"Confusion Matrix:\")\n",
        "#confusion matrix\n",
        "labels = sorted(finalized_df['90day-mortality'].unique())\n",
        "ax = sns.heatmap(\n",
        "confusion_matrix(y_test, y_pred),\n",
        "annot=True,\n",
        "xticklabels=labels,\n",
        "yticklabels=labels\n",
        ")\n",
        "ax.set(xlabel='true label', ylabel='predicted label')"
      ],
      "metadata": {
        "colab": {
          "base_uri": "https://localhost:8080/",
          "height": 324
        },
        "id": "Z3UaS57-3qLO",
        "outputId": "c1521566-0c5e-4d1f-fa64-e6fcaf60df63"
      },
      "execution_count": 12,
      "outputs": [
        {
          "output_type": "stream",
          "name": "stdout",
          "text": [
            "Confusion Matrix:\n"
          ]
        },
        {
          "output_type": "execute_result",
          "data": {
            "text/plain": [
              "[Text(30.5, 0.5, 'predicted label'), Text(0.5, 12.5, 'true label')]"
            ]
          },
          "metadata": {},
          "execution_count": 12
        },
        {
          "output_type": "display_data",
          "data": {
            "text/plain": [
              "<Figure size 432x288 with 2 Axes>"
            ],
            "image/png": "[encoded data removed]"
          },
          "metadata": {
            "needs_background": "light"
          }
        }
      ]
    },
    {
      "cell_type": "markdown",
      "source": [
        "サンプル数が多い生存者に対する予測スコアは高い値を示す一方で，サンプル数の少ない死者に対しては，スコアが低くなる傾向があります．今回のデータセットのように，サンプルが占めるクラスの割合が極端に偏っている不均衡データでは，こうした傾向が観測されることが知られています．\n"
      ],
      "metadata": {
        "id": "7m9htP6vZY0Y"
      }
    },
    {
      "cell_type": "markdown",
      "source": [
        "#### Optuna"
      ],
      "metadata": {
        "id": "bTPHnf-wcVW2"
      }
    },
    {
      "cell_type": "markdown",
      "source": [
        "OptunaとはPreferred Networks社が出しているハイパーパラメータ自動化ツールです。Tree-structured Parzen Estimator というベイズ最適化アルゴリズムの一種を用いていて有望そうなハイパーパレメーターを正確に特定できます。\n",
        "objective()というOptunaの目的関数を設定する関数でRandomForestClassifierのパラメーターを設定しています。\n",
        "RandomForestClassifier()のパラメーターについて：\n",
        "1.   criterion - 評価基準 (ジニ係数またはエントロピー)\n",
        "2.   bootstrap - 決定木構築の際にブートストラップサンプルを使用するかどうか\n",
        "3.   max_depth - 先のn_estimatorsで指定した決定木／回帰木の深さの指定\n",
        "4.   max_features - 個々の決定木に、どれくらいの特徴量を使用するかを、表します\n",
        "5.   max_leaf_nodes - 決定木をベスト・ファーストの方法で成長させる\n",
        "6.   n_estimators - ベースとして利用する決定木／回帰木の数\n",
        "7.   min_samples_split - 子ノードを分割するために必要なサンプルの最小数\n",
        "8.   min_samples_leaf - リーフノードにある必要があるサンプルの最小数\n",
        "\n",
        "詳しくはこちらを参照して下さい [[3](https://scikit-learn.org/stable/modules/generated/sklearn.ensemble.RandomForestClassifier.html)]。\n",
        "\n",
        "\n"
      ],
      "metadata": {
        "id": "s2Zv_9Gv8IKG"
      }
    },
    {
      "cell_type": "code",
      "source": [
        "def objective(trial):\n",
        "  criterion = trial.suggest_categorical('criterion', ['gini', 'entropy'])\n",
        "  bootstrap = trial.suggest_categorical('bootstrap',['True','False'])\n",
        "  max_depth = trial.suggest_int('max_depth', 1, 1000)\n",
        "  max_features = trial.suggest_categorical('max_features', ['auto', 'sqrt','log2'])\n",
        "  max_leaf_nodes = trial.suggest_int('max_leaf_nodes', 1,1000)\n",
        "  n_estimators =  trial.suggest_int('n_estimators', 1, 1000)\n",
        "  min_samples_split = trial.suggest_int('min_samples_split',2,5)\n",
        "  min_samples_leaf = trial.suggest_int('min_samples_leaf',1,10)\n",
        "\n",
        "  regr = ensemble.RandomForestClassifier(\n",
        "      bootstrap = bootstrap, criterion = criterion,\n",
        "      max_depth = max_depth, max_features = max_features,\n",
        "      max_leaf_nodes = max_leaf_nodes,n_estimators = n_estimators,\n",
        "      min_samples_split = min_samples_split,min_samples_leaf = min_samples_leaf,\n",
        "      n_jobs=2)\n",
        "\n",
        "  score = cross_val_score(regr, X_train_op, y_train_op, cv=5, scoring=\"r2\")\n",
        "  r2_mean = score.mean()\n",
        "  return r2_mean\n",
        "\n",
        "study = optuna.create_study(direction='maximize')\n",
        "study.optimize(objective, n_trials=50)\n",
        "\n",
        "trial = study.best_trial\n",
        "print('Accuracy: {}'.format(trial.value))\n",
        "\n",
        "# チューニングしたハイパーパラメーターをフィット\n",
        "rforest_model_post_optuna = ensemble.RandomForestClassifier(bootstrap = study.best_params['bootstrap'], criterion = study.best_params['criterion'],\n",
        "                                     max_depth = study.best_params['max_depth'], max_features = study.best_params['max_features'],\n",
        "                                     max_leaf_nodes = study.best_params['max_leaf_nodes'],n_estimators = study.best_params['n_estimators'],\n",
        "                                     min_samples_split = study.best_params['min_samples_split'],min_samples_leaf = study.best_params['min_samples_leaf'],                                     \n",
        "                                     n_jobs=2)\n",
        "\n",
        "# モデルを再度トレーニングする\n",
        "rforest_model_post_optuna.fit(X_train_op, y_train_op) \n",
        "\n",
        "# 再度トレーニングした後のモデルのパフォーマンス検証\n",
        "# テストデータにrforest_modelに.predict()関数を応用し、RFモデルがラベルを何個正確に予測出来たかを検証する\n",
        "y_pred_op = rforest_model_post_optuna.predict(X_test_op)\n",
        "\n",
        "#モデルを作成する段階でのモデルの識別精度\n",
        "trainaccuracy_random_forest_op = rforest_model_post_optuna.score(X_train_op, y_train_op)\n",
        "print('TrainAccuracy: {}'.format(trainaccuracy_random_forest_op))\n",
        "\n",
        "#作成したモデルに学習に使用していない評価用のデータセットを入力し精度を確認\n",
        "accuracy_random_forest_op = accuracy_score(y_test_op, y_pred_op)\n",
        "print('Accuracy: {}'.format(accuracy_random_forest_op))\n",
        "\n",
        "# 正確性の出力\n",
        "print(classification_report(y_test_op, y_pred_op))\n"
      ],
      "metadata": {
        "colab": {
          "base_uri": "https://localhost:8080/"
        },
        "id": "o4bdvDsKcXlW",
        "outputId": "e0dd23e0-e89c-4cd3-f78e-83d7b2d6c43e"
      },
      "execution_count": 13,
      "outputs": [
        {
          "output_type": "stream",
          "name": "stderr",
          "text": [
            "\u001b[32m[I 2022-03-20 18:16:54,453]\u001b[0m A new study created in memory with name: no-name-69b50d0a-5bf2-4db5-91d7-fa516e8b794a\u001b[0m\n",
            "\u001b[32m[I 2022-03-20 18:17:05,309]\u001b[0m Trial 0 finished with value: -0.13787878787878788 and parameters: {'criterion': 'gini', 'bootstrap': 'True', 'max_depth': 778, 'max_features': 'auto', 'max_leaf_nodes': 481, 'n_estimators': 804, 'min_samples_split': 2, 'min_samples_leaf': 5}. Best is trial 0 with value: -0.13787878787878788.\u001b[0m\n",
            "\u001b[32m[I 2022-03-20 18:17:15,205]\u001b[0m Trial 1 finished with value: 0.018787878787878777 and parameters: {'criterion': 'gini', 'bootstrap': 'False', 'max_depth': 773, 'max_features': 'auto', 'max_leaf_nodes': 59, 'n_estimators': 815, 'min_samples_split': 2, 'min_samples_leaf': 2}. Best is trial 1 with value: 0.018787878787878777.\u001b[0m\n",
            "\u001b[32m[I 2022-03-20 18:17:20,359]\u001b[0m Trial 2 finished with value: -0.24454545454545454 and parameters: {'criterion': 'gini', 'bootstrap': 'False', 'max_depth': 137, 'max_features': 'log2', 'max_leaf_nodes': 586, 'n_estimators': 395, 'min_samples_split': 5, 'min_samples_leaf': 9}. Best is trial 1 with value: 0.018787878787878777.\u001b[0m\n",
            "\u001b[32m[I 2022-03-20 18:17:21,652]\u001b[0m Trial 3 finished with value: -0.2409090909090909 and parameters: {'criterion': 'gini', 'bootstrap': 'False', 'max_depth': 62, 'max_features': 'auto', 'max_leaf_nodes': 842, 'n_estimators': 40, 'min_samples_split': 4, 'min_samples_leaf': 6}. Best is trial 1 with value: 0.018787878787878777.\u001b[0m\n",
            "\u001b[32m[I 2022-03-20 18:17:26,707]\u001b[0m Trial 4 finished with value: -0.08787878787878786 and parameters: {'criterion': 'entropy', 'bootstrap': 'True', 'max_depth': 721, 'max_features': 'sqrt', 'max_leaf_nodes': 663, 'n_estimators': 381, 'min_samples_split': 2, 'min_samples_leaf': 5}. Best is trial 1 with value: 0.018787878787878777.\u001b[0m\n",
            "\u001b[32m[I 2022-03-20 18:17:30,310]\u001b[0m Trial 5 finished with value: -0.13787878787878788 and parameters: {'criterion': 'gini', 'bootstrap': 'False', 'max_depth': 779, 'max_features': 'auto', 'max_leaf_nodes': 493, 'n_estimators': 265, 'min_samples_split': 4, 'min_samples_leaf': 8}. Best is trial 1 with value: 0.018787878787878777.\u001b[0m\n",
            "\u001b[32m[I 2022-03-20 18:17:38,411]\u001b[0m Trial 6 finished with value: -0.13787878787878788 and parameters: {'criterion': 'gini', 'bootstrap': 'False', 'max_depth': 25, 'max_features': 'auto', 'max_leaf_nodes': 84, 'n_estimators': 690, 'min_samples_split': 2, 'min_samples_leaf': 10}. Best is trial 1 with value: 0.018787878787878777.\u001b[0m\n",
            "\u001b[32m[I 2022-03-20 18:17:45,528]\u001b[0m Trial 7 finished with value: -0.24606060606060604 and parameters: {'criterion': 'entropy', 'bootstrap': 'True', 'max_depth': 600, 'max_features': 'log2', 'max_leaf_nodes': 917, 'n_estimators': 545, 'min_samples_split': 4, 'min_samples_leaf': 3}. Best is trial 1 with value: 0.018787878787878777.\u001b[0m\n",
            "\u001b[32m[I 2022-03-20 18:17:46,802]\u001b[0m Trial 8 finished with value: -0.23272727272727275 and parameters: {'criterion': 'entropy', 'bootstrap': 'True', 'max_depth': 584, 'max_features': 'log2', 'max_leaf_nodes': 361, 'n_estimators': 48, 'min_samples_split': 3, 'min_samples_leaf': 6}. Best is trial 1 with value: 0.018787878787878777.\u001b[0m\n",
            "\u001b[32m[I 2022-03-20 18:17:53,995]\u001b[0m Trial 9 finished with value: -0.1393939393939394 and parameters: {'criterion': 'entropy', 'bootstrap': 'True', 'max_depth': 34, 'max_features': 'log2', 'max_leaf_nodes': 540, 'n_estimators': 586, 'min_samples_split': 4, 'min_samples_leaf': 7}. Best is trial 1 with value: 0.018787878787878777.\u001b[0m\n",
            "\u001b[32m[I 2022-03-20 18:18:05,298]\u001b[0m Trial 10 finished with value: -0.08121212121212122 and parameters: {'criterion': 'gini', 'bootstrap': 'False', 'max_depth': 998, 'max_features': 'sqrt', 'max_leaf_nodes': 61, 'n_estimators': 970, 'min_samples_split': 3, 'min_samples_leaf': 1}. Best is trial 1 with value: 0.018787878787878777.\u001b[0m\n",
            "\u001b[32m[I 2022-03-20 18:18:16,573]\u001b[0m Trial 11 finished with value: -0.13787878787878788 and parameters: {'criterion': 'gini', 'bootstrap': 'False', 'max_depth': 985, 'max_features': 'sqrt', 'max_leaf_nodes': 4, 'n_estimators': 978, 'min_samples_split': 3, 'min_samples_leaf': 1}. Best is trial 1 with value: 0.018787878787878777.\u001b[0m\n",
            "\u001b[32m[I 2022-03-20 18:18:27,891]\u001b[0m Trial 12 finished with value: 0.012121212121212133 and parameters: {'criterion': 'gini', 'bootstrap': 'False', 'max_depth': 996, 'max_features': 'sqrt', 'max_leaf_nodes': 202, 'n_estimators': 992, 'min_samples_split': 3, 'min_samples_leaf': 1}. Best is trial 1 with value: 0.018787878787878777.\u001b[0m\n",
            "\u001b[32m[I 2022-03-20 18:18:37,727]\u001b[0m Trial 13 finished with value: 0.012121212121212133 and parameters: {'criterion': 'gini', 'bootstrap': 'False', 'max_depth': 259, 'max_features': 'sqrt', 'max_leaf_nodes': 257, 'n_estimators': 815, 'min_samples_split': 2, 'min_samples_leaf': 3}. Best is trial 1 with value: 0.018787878787878777.\u001b[0m\n",
            "\u001b[32m[I 2022-03-20 18:18:47,684]\u001b[0m Trial 14 finished with value: -0.1445454545454545 and parameters: {'criterion': 'gini', 'bootstrap': 'False', 'max_depth': 852, 'max_features': 'sqrt', 'max_leaf_nodes': 217, 'n_estimators': 832, 'min_samples_split': 3, 'min_samples_leaf': 3}. Best is trial 1 with value: 0.018787878787878777.\u001b[0m\n",
            "\u001b[32m[I 2022-03-20 18:18:56,397]\u001b[0m Trial 15 finished with value: -0.08636363636363635 and parameters: {'criterion': 'gini', 'bootstrap': 'False', 'max_depth': 419, 'max_features': 'auto', 'max_leaf_nodes': 196, 'n_estimators': 699, 'min_samples_split': 2, 'min_samples_leaf': 2}. Best is trial 1 with value: 0.018787878787878777.\u001b[0m\n",
            "\u001b[32m[I 2022-03-20 18:19:06,491]\u001b[0m Trial 16 finished with value: -0.043030303030302995 and parameters: {'criterion': 'gini', 'bootstrap': 'False', 'max_depth': 908, 'max_features': 'sqrt', 'max_leaf_nodes': 353, 'n_estimators': 893, 'min_samples_split': 3, 'min_samples_leaf': 4}. Best is trial 1 with value: 0.018787878787878777.\u001b[0m\n",
            "\u001b[32m[I 2022-03-20 18:19:14,605]\u001b[0m Trial 17 finished with value: -0.037878787878787866 and parameters: {'criterion': 'gini', 'bootstrap': 'False', 'max_depth': 324, 'max_features': 'auto', 'max_leaf_nodes': 309, 'n_estimators': 676, 'min_samples_split': 2, 'min_samples_leaf': 3}. Best is trial 1 with value: 0.018787878787878777.\u001b[0m\n",
            "\u001b[32m[I 2022-03-20 18:19:24,582]\u001b[0m Trial 18 finished with value: -0.037878787878787866 and parameters: {'criterion': 'entropy', 'bootstrap': 'False', 'max_depth': 246, 'max_features': 'auto', 'max_leaf_nodes': 130, 'n_estimators': 800, 'min_samples_split': 5, 'min_samples_leaf': 4}. Best is trial 1 with value: 0.018787878787878777.\u001b[0m\n",
            "\u001b[32m[I 2022-03-20 18:19:30,778]\u001b[0m Trial 19 finished with value: -0.036363636363636355 and parameters: {'criterion': 'gini', 'bootstrap': 'False', 'max_depth': 449, 'max_features': 'sqrt', 'max_leaf_nodes': 292, 'n_estimators': 475, 'min_samples_split': 2, 'min_samples_leaf': 2}. Best is trial 1 with value: 0.018787878787878777.\u001b[0m\n",
            "\u001b[32m[I 2022-03-20 18:19:38,346]\u001b[0m Trial 20 finished with value: -0.13787878787878788 and parameters: {'criterion': 'gini', 'bootstrap': 'False', 'max_depth': 258, 'max_features': 'sqrt', 'max_leaf_nodes': 404, 'n_estimators': 633, 'min_samples_split': 2, 'min_samples_leaf': 4}. Best is trial 1 with value: 0.018787878787878777.\u001b[0m\n",
            "\u001b[32m[I 2022-03-20 18:19:48,884]\u001b[0m Trial 21 finished with value: -0.13787878787878788 and parameters: {'criterion': 'gini', 'bootstrap': 'False', 'max_depth': 663, 'max_features': 'sqrt', 'max_leaf_nodes': 187, 'n_estimators': 887, 'min_samples_split': 3, 'min_samples_leaf': 1}. Best is trial 1 with value: 0.018787878787878777.\u001b[0m\n",
            "\u001b[32m[I 2022-03-20 18:20:00,377]\u001b[0m Trial 22 finished with value: -0.13787878787878788 and parameters: {'criterion': 'gini', 'bootstrap': 'False', 'max_depth': 921, 'max_features': 'sqrt', 'max_leaf_nodes': 134, 'n_estimators': 986, 'min_samples_split': 2, 'min_samples_leaf': 2}. Best is trial 1 with value: 0.018787878787878777.\u001b[0m\n",
            "\u001b[32m[I 2022-03-20 18:20:09,601]\u001b[0m Trial 23 finished with value: -0.24454545454545454 and parameters: {'criterion': 'gini', 'bootstrap': 'False', 'max_depth': 565, 'max_features': 'sqrt', 'max_leaf_nodes': 246, 'n_estimators': 749, 'min_samples_split': 3, 'min_samples_leaf': 2}. Best is trial 1 with value: 0.018787878787878777.\u001b[0m\n",
            "\u001b[32m[I 2022-03-20 18:20:20,155]\u001b[0m Trial 24 finished with value: -0.08272727272727276 and parameters: {'criterion': 'gini', 'bootstrap': 'False', 'max_depth': 846, 'max_features': 'sqrt', 'max_leaf_nodes': 32, 'n_estimators': 891, 'min_samples_split': 2, 'min_samples_leaf': 1}. Best is trial 1 with value: 0.018787878787878777.\u001b[0m\n",
            "\u001b[32m[I 2022-03-20 18:20:30,790]\u001b[0m Trial 25 finished with value: -0.036363636363636355 and parameters: {'criterion': 'gini', 'bootstrap': 'False', 'max_depth': 372, 'max_features': 'auto', 'max_leaf_nodes': 131, 'n_estimators': 878, 'min_samples_split': 3, 'min_samples_leaf': 3}. Best is trial 1 with value: 0.018787878787878777.\u001b[0m\n",
            "\u001b[32m[I 2022-03-20 18:20:40,531]\u001b[0m Trial 26 finished with value: -0.18272727272727277 and parameters: {'criterion': 'entropy', 'bootstrap': 'True', 'max_depth': 172, 'max_features': 'sqrt', 'max_leaf_nodes': 702, 'n_estimators': 780, 'min_samples_split': 2, 'min_samples_leaf': 2}. Best is trial 1 with value: 0.018787878787878777.\u001b[0m\n",
            "\u001b[32m[I 2022-03-20 18:20:51,995]\u001b[0m Trial 27 finished with value: -0.037878787878787866 and parameters: {'criterion': 'gini', 'bootstrap': 'False', 'max_depth': 506, 'max_features': 'auto', 'max_leaf_nodes': 449, 'n_estimators': 930, 'min_samples_split': 2, 'min_samples_leaf': 1}. Best is trial 1 with value: 0.018787878787878777.\u001b[0m\n",
            "\u001b[32m[I 2022-03-20 18:21:01,265]\u001b[0m Trial 28 finished with value: 0.013636363636363646 and parameters: {'criterion': 'gini', 'bootstrap': 'False', 'max_depth': 727, 'max_features': 'sqrt', 'max_leaf_nodes': 274, 'n_estimators': 742, 'min_samples_split': 3, 'min_samples_leaf': 4}. Best is trial 1 with value: 0.018787878787878777.\u001b[0m\n",
            "\u001b[32m[I 2022-03-20 18:21:10,588]\u001b[0m Trial 29 finished with value: -0.19606060606060605 and parameters: {'criterion': 'gini', 'bootstrap': 'True', 'max_depth': 726, 'max_features': 'log2', 'max_leaf_nodes': 270, 'n_estimators': 758, 'min_samples_split': 2, 'min_samples_leaf': 5}. Best is trial 1 with value: 0.018787878787878777.\u001b[0m\n",
            "\u001b[32m[I 2022-03-20 18:21:17,939]\u001b[0m Trial 30 finished with value: -0.13787878787878788 and parameters: {'criterion': 'gini', 'bootstrap': 'False', 'max_depth': 780, 'max_features': 'auto', 'max_leaf_nodes': 95, 'n_estimators': 598, 'min_samples_split': 4, 'min_samples_leaf': 4}. Best is trial 1 with value: 0.018787878787878777.\u001b[0m\n",
            "\u001b[32m[I 2022-03-20 18:21:28,249]\u001b[0m Trial 31 finished with value: 0.06363636363636364 and parameters: {'criterion': 'gini', 'bootstrap': 'False', 'max_depth': 670, 'max_features': 'sqrt', 'max_leaf_nodes': 154, 'n_estimators': 840, 'min_samples_split': 3, 'min_samples_leaf': 3}. Best is trial 31 with value: 0.06363636363636364.\u001b[0m\n",
            "\u001b[32m[I 2022-03-20 18:21:38,229]\u001b[0m Trial 32 finished with value: -0.19454545454545452 and parameters: {'criterion': 'gini', 'bootstrap': 'False', 'max_depth': 676, 'max_features': 'sqrt', 'max_leaf_nodes': 153, 'n_estimators': 824, 'min_samples_split': 3, 'min_samples_leaf': 3}. Best is trial 31 with value: 0.06363636363636364.\u001b[0m\n",
            "\u001b[32m[I 2022-03-20 18:21:47,538]\u001b[0m Trial 33 finished with value: -0.036363636363636355 and parameters: {'criterion': 'gini', 'bootstrap': 'False', 'max_depth': 631, 'max_features': 'sqrt', 'max_leaf_nodes': 325, 'n_estimators': 743, 'min_samples_split': 5, 'min_samples_leaf': 5}. Best is trial 31 with value: 0.06363636363636364.\u001b[0m\n",
            "\u001b[32m[I 2022-03-20 18:21:57,731]\u001b[0m Trial 34 finished with value: -0.08272727272727276 and parameters: {'criterion': 'gini', 'bootstrap': 'False', 'max_depth': 751, 'max_features': 'sqrt', 'max_leaf_nodes': 416, 'n_estimators': 842, 'min_samples_split': 3, 'min_samples_leaf': 4}. Best is trial 31 with value: 0.06363636363636364.\u001b[0m\n",
            "\u001b[32m[I 2022-03-20 18:22:08,623]\u001b[0m Trial 35 finished with value: -0.4945454545454545 and parameters: {'criterion': 'gini', 'bootstrap': 'False', 'max_depth': 845, 'max_features': 'sqrt', 'max_leaf_nodes': 2, 'n_estimators': 932, 'min_samples_split': 4, 'min_samples_leaf': 2}. Best is trial 31 with value: 0.06363636363636364.\u001b[0m\n",
            "\u001b[32m[I 2022-03-20 18:22:14,244]\u001b[0m Trial 36 finished with value: -0.1393939393939394 and parameters: {'criterion': 'gini', 'bootstrap': 'False', 'max_depth': 115, 'max_features': 'auto', 'max_leaf_nodes': 228, 'n_estimators': 421, 'min_samples_split': 2, 'min_samples_leaf': 5}. Best is trial 31 with value: 0.06363636363636364.\u001b[0m\n",
            "\u001b[32m[I 2022-03-20 18:22:17,588]\u001b[0m Trial 37 finished with value: -0.14606060606060606 and parameters: {'criterion': 'entropy', 'bootstrap': 'True', 'max_depth': 492, 'max_features': 'log2', 'max_leaf_nodes': 623, 'n_estimators': 252, 'min_samples_split': 2, 'min_samples_leaf': 3}. Best is trial 31 with value: 0.06363636363636364.\u001b[0m\n",
            "\u001b[32m[I 2022-03-20 18:22:25,732]\u001b[0m Trial 38 finished with value: -0.23787878787878788 and parameters: {'criterion': 'gini', 'bootstrap': 'False', 'max_depth': 686, 'max_features': 'sqrt', 'max_leaf_nodes': 77, 'n_estimators': 660, 'min_samples_split': 4, 'min_samples_leaf': 6}. Best is trial 31 with value: 0.06363636363636364.\u001b[0m\n",
            "\u001b[32m[I 2022-03-20 18:22:34,898]\u001b[0m Trial 39 finished with value: -0.19454545454545452 and parameters: {'criterion': 'gini', 'bootstrap': 'False', 'max_depth': 798, 'max_features': 'auto', 'max_leaf_nodes': 748, 'n_estimators': 724, 'min_samples_split': 3, 'min_samples_leaf': 10}. Best is trial 31 with value: 0.06363636363636364.\u001b[0m\n",
            "\u001b[32m[I 2022-03-20 18:22:41,627]\u001b[0m Trial 40 finished with value: -0.24606060606060604 and parameters: {'criterion': 'entropy', 'bootstrap': 'True', 'max_depth': 556, 'max_features': 'log2', 'max_leaf_nodes': 997, 'n_estimators': 525, 'min_samples_split': 3, 'min_samples_leaf': 8}. Best is trial 31 with value: 0.06363636363636364.\u001b[0m\n",
            "\u001b[32m[I 2022-03-20 18:22:52,097]\u001b[0m Trial 41 finished with value: -0.18787878787878787 and parameters: {'criterion': 'gini', 'bootstrap': 'False', 'max_depth': 926, 'max_features': 'sqrt', 'max_leaf_nodes': 173, 'n_estimators': 850, 'min_samples_split': 3, 'min_samples_leaf': 2}. Best is trial 31 with value: 0.06363636363636364.\u001b[0m\n",
            "\u001b[32m[I 2022-03-20 18:23:03,391]\u001b[0m Trial 42 finished with value: 0.018787878787878777 and parameters: {'criterion': 'gini', 'bootstrap': 'False', 'max_depth': 629, 'max_features': 'sqrt', 'max_leaf_nodes': 259, 'n_estimators': 929, 'min_samples_split': 3, 'min_samples_leaf': 3}. Best is trial 31 with value: 0.06363636363636364.\u001b[0m\n",
            "\u001b[32m[I 2022-03-20 18:23:14,622]\u001b[0m Trial 43 finished with value: -0.031212121212121226 and parameters: {'criterion': 'gini', 'bootstrap': 'False', 'max_depth': 708, 'max_features': 'sqrt', 'max_leaf_nodes': 540, 'n_estimators': 941, 'min_samples_split': 3, 'min_samples_leaf': 3}. Best is trial 31 with value: 0.06363636363636364.\u001b[0m\n",
            "\u001b[32m[I 2022-03-20 18:23:24,613]\u001b[0m Trial 44 finished with value: -0.08787878787878786 and parameters: {'criterion': 'gini', 'bootstrap': 'False', 'max_depth': 631, 'max_features': 'sqrt', 'max_leaf_nodes': 360, 'n_estimators': 793, 'min_samples_split': 4, 'min_samples_leaf': 4}. Best is trial 31 with value: 0.06363636363636364.\u001b[0m\n",
            "\u001b[32m[I 2022-03-20 18:23:36,829]\u001b[0m Trial 45 finished with value: 0.07030303030303028 and parameters: {'criterion': 'gini', 'bootstrap': 'False', 'max_depth': 800, 'max_features': 'sqrt', 'max_leaf_nodes': 91, 'n_estimators': 1000, 'min_samples_split': 3, 'min_samples_leaf': 1}. Best is trial 45 with value: 0.07030303030303028.\u001b[0m\n",
            "\u001b[32m[I 2022-03-20 18:23:48,270]\u001b[0m Trial 46 finished with value: -0.1893939393939394 and parameters: {'criterion': 'gini', 'bootstrap': 'False', 'max_depth': 790, 'max_features': 'sqrt', 'max_leaf_nodes': 54, 'n_estimators': 946, 'min_samples_split': 3, 'min_samples_leaf': 2}. Best is trial 45 with value: 0.07030303030303028.\u001b[0m\n",
            "\u001b[32m[I 2022-03-20 18:24:00,492]\u001b[0m Trial 47 finished with value: -0.1893939393939394 and parameters: {'criterion': 'gini', 'bootstrap': 'False', 'max_depth': 745, 'max_features': 'sqrt', 'max_leaf_nodes': 104, 'n_estimators': 1000, 'min_samples_split': 4, 'min_samples_leaf': 1}. Best is trial 45 with value: 0.07030303030303028.\u001b[0m\n",
            "\u001b[32m[I 2022-03-20 18:24:01,122]\u001b[0m Trial 48 finished with value: -0.44393939393939397 and parameters: {'criterion': 'entropy', 'bootstrap': 'True', 'max_depth': 622, 'max_features': 'log2', 'max_leaf_nodes': 37, 'n_estimators': 2, 'min_samples_split': 3, 'min_samples_leaf': 3}. Best is trial 45 with value: 0.07030303030303028.\u001b[0m\n",
            "\u001b[32m[I 2022-03-20 18:24:04,004]\u001b[0m Trial 49 finished with value: -0.2393939393939394 and parameters: {'criterion': 'gini', 'bootstrap': 'False', 'max_depth': 834, 'max_features': 'auto', 'max_leaf_nodes': 176, 'n_estimators': 157, 'min_samples_split': 3, 'min_samples_leaf': 5}. Best is trial 45 with value: 0.07030303030303028.\u001b[0m\n"
          ]
        },
        {
          "output_type": "stream",
          "name": "stdout",
          "text": [
            "Accuracy: 0.07030303030303028\n",
            "TrainAccuracy: 1.0\n",
            "Accuracy: 0.7272727272727273\n",
            "              precision    recall  f1-score   support\n",
            "\n",
            "         0.0       0.73      0.85      0.79        13\n",
            "         1.0       0.71      0.56      0.63         9\n",
            "\n",
            "    accuracy                           0.73        22\n",
            "   macro avg       0.72      0.70      0.71        22\n",
            "weighted avg       0.73      0.73      0.72        22\n",
            "\n"
          ]
        }
      ]
    },
    {
      "cell_type": "markdown",
      "source": [
        "最適化の履歴をplot_optimization_history()メソッドを使い確認してみましょう。\n",
        "縦軸が目的変数、横軸が最適化のトライアル数になってます。オレンジの折れ線が最良の目的変数の値となっており、何回目のトライアルでベストパラメータが出たのかわかりやすくなってます。"
      ],
      "metadata": {
        "id": "Nz5P7pvYc8Oa"
      }
    },
    {
      "cell_type": "code",
      "source": [
        "optuna.visualization.plot_optimization_history(study)"
      ],
      "metadata": {
        "colab": {
          "base_uri": "https://localhost:8080/",
          "height": 542
        },
        "id": "WZbFkzSodF-A",
        "outputId": "e83618ff-86f6-4af9-92bd-f5765391a7de"
      },
      "execution_count": 14,
      "outputs": [
        {
          "output_type": "display_data",
          "data": {
            "text/html": [
              "<html>\n",
              "<head><meta charset=\"utf-8\" /></head>\n",
              "<body>\n",
              "    <div>            <script src=\"https://cdnjs.cloudflare.com/ajax/libs/mathjax/2.7.5/MathJax.js?config=TeX-AMS-MML_SVG\"></script><script type=\"text/javascript\">if (window.MathJax) {MathJax.Hub.Config({SVG: {font: \"STIX-Web\"}});}</script>                <script type=\"text/javascript\">window.PlotlyConfig = {MathJaxConfig: 'local'};</script>\n",
              "        <script src=\"https://cdn.plot.ly/plotly-2.8.3.min.js\"></script>                <div id=\"82be30b5-4a51-41a0-8911-f5522378f3dc\" class=\"plotly-graph-div\" style=\"height:525px; width:100%;\"></div>            <script type=\"text/javascript\">                                    window.PLOTLYENV=window.PLOTLYENV || {};                                    if (document.getElementById(\"82be30b5-4a51-41a0-8911-f5522378f3dc\")) {                    Plotly.newPlot(                        \"82be30b5-4a51-41a0-8911-f5522378f3dc\",                        [{\"mode\":\"markers\",\"name\":\"Objective Value\",\"x\":[0,1,2,3,4,5,6,7,8,9,10,11,12,13,14,15,16,17,18,19,20,21,22,23,24,25,26,27,28,29,30,31,32,33,34,35,36,37,38,39,40,41,42,43,44,45,46,47,48,49],\"y\":[-0.13787878787878788,0.018787878787878777,-0.24454545454545454,-0.2409090909090909,-0.08787878787878786,-0.13787878787878788,-0.13787878787878788,-0.24606060606060604,-0.23272727272727275,-0.1393939393939394,-0.08121212121212122,-0.13787878787878788,0.012121212121212133,0.012121212121212133,-0.1445454545454545,-0.08636363636363635,-0.043030303030302995,-0.037878787878787866,-0.037878787878787866,-0.036363636363636355,-0.13787878787878788,-0.13787878787878788,-0.13787878787878788,-0.24454545454545454,-0.08272727272727276,-0.036363636363636355,-0.18272727272727277,-0.037878787878787866,0.013636363636363646,-0.19606060606060605,-0.13787878787878788,0.06363636363636364,-0.19454545454545452,-0.036363636363636355,-0.08272727272727276,-0.4945454545454545,-0.1393939393939394,-0.14606060606060606,-0.23787878787878788,-0.19454545454545452,-0.24606060606060604,-0.18787878787878787,0.018787878787878777,-0.031212121212121226,-0.08787878787878786,0.07030303030303028,-0.1893939393939394,-0.1893939393939394,-0.44393939393939397,-0.2393939393939394],\"type\":\"scatter\"},{\"name\":\"Best Value\",\"x\":[0,1,2,3,4,5,6,7,8,9,10,11,12,13,14,15,16,17,18,19,20,21,22,23,24,25,26,27,28,29,30,31,32,33,34,35,36,37,38,39,40,41,42,43,44,45,46,47,48,49],\"y\":[-0.13787878787878788,0.018787878787878777,0.018787878787878777,0.018787878787878777,0.018787878787878777,0.018787878787878777,0.018787878787878777,0.018787878787878777,0.018787878787878777,0.018787878787878777,0.018787878787878777,0.018787878787878777,0.018787878787878777,0.018787878787878777,0.018787878787878777,0.018787878787878777,0.018787878787878777,0.018787878787878777,0.018787878787878777,0.018787878787878777,0.018787878787878777,0.018787878787878777,0.018787878787878777,0.018787878787878777,0.018787878787878777,0.018787878787878777,0.018787878787878777,0.018787878787878777,0.018787878787878777,0.018787878787878777,0.018787878787878777,0.06363636363636364,0.06363636363636364,0.06363636363636364,0.06363636363636364,0.06363636363636364,0.06363636363636364,0.06363636363636364,0.06363636363636364,0.06363636363636364,0.06363636363636364,0.06363636363636364,0.06363636363636364,0.06363636363636364,0.06363636363636364,0.07030303030303028,0.07030303030303028,0.07030303030303028,0.07030303030303028,0.07030303030303028],\"type\":\"scatter\"}],                        {\"title\":{\"text\":\"Optimization History Plot\"},\"xaxis\":{\"title\":{\"text\":\"#Trials\"}},\"yaxis\":{\"title\":{\"text\":\"Objective Value\"}},\"template\":{\"data\":{\"bar\":[{\"error_x\":{\"color\":\"#2a3f5f\"},\"error_y\":{\"color\":\"#2a3f5f\"},\"marker\":{\"line\":{\"color\":\"#E5ECF6\",\"width\":0.5},\"pattern\":{\"fillmode\":\"overlay\",\"size\":10,\"solidity\":0.2}},\"type\":\"bar\"}],\"barpolar\":[{\"marker\":{\"line\":{\"color\":\"#E5ECF6\",\"width\":0.5},\"pattern\":{\"fillmode\":\"overlay\",\"size\":10,\"solidity\":0.2}},\"type\":\"barpolar\"}],\"carpet\":[{\"aaxis\":{\"endlinecolor\":\"#2a3f5f\",\"gridcolor\":\"white\",\"linecolor\":\"white\",\"minorgridcolor\":\"white\",\"startlinecolor\":\"#2a3f5f\"},\"baxis\":{\"endlinecolor\":\"#2a3f5f\",\"gridcolor\":\"white\",\"linecolor\":\"white\",\"minorgridcolor\":\"white\",\"startlinecolor\":\"#2a3f5f\"},\"type\":\"carpet\"}],\"choropleth\":[{\"colorbar\":{\"outlinewidth\":0,\"ticks\":\"\"},\"type\":\"choropleth\"}],\"contour\":[{\"colorbar\":{\"outlinewidth\":0,\"ticks\":\"\"},\"colorscale\":[[0.0,\"#0d0887\"],[0.1111111111111111,\"#46039f\"],[0.2222222222222222,\"#7201a8\"],[0.3333333333333333,\"#9c179e\"],[0.4444444444444444,\"#bd3786\"],[0.5555555555555556,\"#d8576b\"],[0.6666666666666666,\"#ed7953\"],[0.7777777777777778,\"#fb9f3a\"],[0.8888888888888888,\"#fdca26\"],[1.0,\"#f0f921\"]],\"type\":\"contour\"}],\"contourcarpet\":[{\"colorbar\":{\"outlinewidth\":0,\"ticks\":\"\"},\"type\":\"contourcarpet\"}],\"heatmap\":[{\"colorbar\":{\"outlinewidth\":0,\"ticks\":\"\"},\"colorscale\":[[0.0,\"#0d0887\"],[0.1111111111111111,\"#46039f\"],[0.2222222222222222,\"#7201a8\"],[0.3333333333333333,\"#9c179e\"],[0.4444444444444444,\"#bd3786\"],[0.5555555555555556,\"#d8576b\"],[0.6666666666666666,\"#ed7953\"],[0.7777777777777778,\"#fb9f3a\"],[0.8888888888888888,\"#fdca26\"],[1.0,\"#f0f921\"]],\"type\":\"heatmap\"}],\"heatmapgl\":[{\"colorbar\":{\"outlinewidth\":0,\"ticks\":\"\"},\"colorscale\":[[0.0,\"#0d0887\"],[0.1111111111111111,\"#46039f\"],[0.2222222222222222,\"#7201a8\"],[0.3333333333333333,\"#9c179e\"],[0.4444444444444444,\"#bd3786\"],[0.5555555555555556,\"#d8576b\"],[0.6666666666666666,\"#ed7953\"],[0.7777777777777778,\"#fb9f3a\"],[0.8888888888888888,\"#fdca26\"],[1.0,\"#f0f921\"]],\"type\":\"heatmapgl\"}],\"histogram\":[{\"marker\":{\"pattern\":{\"fillmode\":\"overlay\",\"size\":10,\"solidity\":0.2}},\"type\":\"histogram\"}],\"histogram2d\":[{\"colorbar\":{\"outlinewidth\":0,\"ticks\":\"\"},\"colorscale\":[[0.0,\"#0d0887\"],[0.1111111111111111,\"#46039f\"],[0.2222222222222222,\"#7201a8\"],[0.3333333333333333,\"#9c179e\"],[0.4444444444444444,\"#bd3786\"],[0.5555555555555556,\"#d8576b\"],[0.6666666666666666,\"#ed7953\"],[0.7777777777777778,\"#fb9f3a\"],[0.8888888888888888,\"#fdca26\"],[1.0,\"#f0f921\"]],\"type\":\"histogram2d\"}],\"histogram2dcontour\":[{\"colorbar\":{\"outlinewidth\":0,\"ticks\":\"\"},\"colorscale\":[[0.0,\"#0d0887\"],[0.1111111111111111,\"#46039f\"],[0.2222222222222222,\"#7201a8\"],[0.3333333333333333,\"#9c179e\"],[0.4444444444444444,\"#bd3786\"],[0.5555555555555556,\"#d8576b\"],[0.6666666666666666,\"#ed7953\"],[0.7777777777777778,\"#fb9f3a\"],[0.8888888888888888,\"#fdca26\"],[1.0,\"#f0f921\"]],\"type\":\"histogram2dcontour\"}],\"mesh3d\":[{\"colorbar\":{\"outlinewidth\":0,\"ticks\":\"\"},\"type\":\"mesh3d\"}],\"parcoords\":[{\"line\":{\"colorbar\":{\"outlinewidth\":0,\"ticks\":\"\"}},\"type\":\"parcoords\"}],\"pie\":[{\"automargin\":true,\"type\":\"pie\"}],\"scatter\":[{\"marker\":{\"colorbar\":{\"outlinewidth\":0,\"ticks\":\"\"}},\"type\":\"scatter\"}],\"scatter3d\":[{\"line\":{\"colorbar\":{\"outlinewidth\":0,\"ticks\":\"\"}},\"marker\":{\"colorbar\":{\"outlinewidth\":0,\"ticks\":\"\"}},\"type\":\"scatter3d\"}],\"scattercarpet\":[{\"marker\":{\"colorbar\":{\"outlinewidth\":0,\"ticks\":\"\"}},\"type\":\"scattercarpet\"}],\"scattergeo\":[{\"marker\":{\"colorbar\":{\"outlinewidth\":0,\"ticks\":\"\"}},\"type\":\"scattergeo\"}],\"scattergl\":[{\"marker\":{\"colorbar\":{\"outlinewidth\":0,\"ticks\":\"\"}},\"type\":\"scattergl\"}],\"scattermapbox\":[{\"marker\":{\"colorbar\":{\"outlinewidth\":0,\"ticks\":\"\"}},\"type\":\"scattermapbox\"}],\"scatterpolar\":[{\"marker\":{\"colorbar\":{\"outlinewidth\":0,\"ticks\":\"\"}},\"type\":\"scatterpolar\"}],\"scatterpolargl\":[{\"marker\":{\"colorbar\":{\"outlinewidth\":0,\"ticks\":\"\"}},\"type\":\"scatterpolargl\"}],\"scatterternary\":[{\"marker\":{\"colorbar\":{\"outlinewidth\":0,\"ticks\":\"\"}},\"type\":\"scatterternary\"}],\"surface\":[{\"colorbar\":{\"outlinewidth\":0,\"ticks\":\"\"},\"colorscale\":[[0.0,\"#0d0887\"],[0.1111111111111111,\"#46039f\"],[0.2222222222222222,\"#7201a8\"],[0.3333333333333333,\"#9c179e\"],[0.4444444444444444,\"#bd3786\"],[0.5555555555555556,\"#d8576b\"],[0.6666666666666666,\"#ed7953\"],[0.7777777777777778,\"#fb9f3a\"],[0.8888888888888888,\"#fdca26\"],[1.0,\"#f0f921\"]],\"type\":\"surface\"}],\"table\":[{\"cells\":{\"fill\":{\"color\":\"#EBF0F8\"},\"line\":{\"color\":\"white\"}},\"header\":{\"fill\":{\"color\":\"#C8D4E3\"},\"line\":{\"color\":\"white\"}},\"type\":\"table\"}]},\"layout\":{\"annotationdefaults\":{\"arrowcolor\":\"#2a3f5f\",\"arrowhead\":0,\"arrowwidth\":1},\"autotypenumbers\":\"strict\",\"coloraxis\":{\"colorbar\":{\"outlinewidth\":0,\"ticks\":\"\"}},\"colorscale\":{\"diverging\":[[0,\"#8e0152\"],[0.1,\"#c51b7d\"],[0.2,\"#de77ae\"],[0.3,\"#f1b6da\"],[0.4,\"#fde0ef\"],[0.5,\"#f7f7f7\"],[0.6,\"#e6f5d0\"],[0.7,\"#b8e186\"],[0.8,\"#7fbc41\"],[0.9,\"#4d9221\"],[1,\"#276419\"]],\"sequential\":[[0.0,\"#0d0887\"],[0.1111111111111111,\"#46039f\"],[0.2222222222222222,\"#7201a8\"],[0.3333333333333333,\"#9c179e\"],[0.4444444444444444,\"#bd3786\"],[0.5555555555555556,\"#d8576b\"],[0.6666666666666666,\"#ed7953\"],[0.7777777777777778,\"#fb9f3a\"],[0.8888888888888888,\"#fdca26\"],[1.0,\"#f0f921\"]],\"sequentialminus\":[[0.0,\"#0d0887\"],[0.1111111111111111,\"#46039f\"],[0.2222222222222222,\"#7201a8\"],[0.3333333333333333,\"#9c179e\"],[0.4444444444444444,\"#bd3786\"],[0.5555555555555556,\"#d8576b\"],[0.6666666666666666,\"#ed7953\"],[0.7777777777777778,\"#fb9f3a\"],[0.8888888888888888,\"#fdca26\"],[1.0,\"#f0f921\"]]},\"colorway\":[\"#636efa\",\"#EF553B\",\"#00cc96\",\"#ab63fa\",\"#FFA15A\",\"#19d3f3\",\"#FF6692\",\"#B6E880\",\"#FF97FF\",\"#FECB52\"],\"font\":{\"color\":\"#2a3f5f\"},\"geo\":{\"bgcolor\":\"white\",\"lakecolor\":\"white\",\"landcolor\":\"#E5ECF6\",\"showlakes\":true,\"showland\":true,\"subunitcolor\":\"white\"},\"hoverlabel\":{\"align\":\"left\"},\"hovermode\":\"closest\",\"mapbox\":{\"style\":\"light\"},\"paper_bgcolor\":\"white\",\"plot_bgcolor\":\"#E5ECF6\",\"polar\":{\"angularaxis\":{\"gridcolor\":\"white\",\"linecolor\":\"white\",\"ticks\":\"\"},\"bgcolor\":\"#E5ECF6\",\"radialaxis\":{\"gridcolor\":\"white\",\"linecolor\":\"white\",\"ticks\":\"\"}},\"scene\":{\"xaxis\":{\"backgroundcolor\":\"#E5ECF6\",\"gridcolor\":\"white\",\"gridwidth\":2,\"linecolor\":\"white\",\"showbackground\":true,\"ticks\":\"\",\"zerolinecolor\":\"white\"},\"yaxis\":{\"backgroundcolor\":\"#E5ECF6\",\"gridcolor\":\"white\",\"gridwidth\":2,\"linecolor\":\"white\",\"showbackground\":true,\"ticks\":\"\",\"zerolinecolor\":\"white\"},\"zaxis\":{\"backgroundcolor\":\"#E5ECF6\",\"gridcolor\":\"white\",\"gridwidth\":2,\"linecolor\":\"white\",\"showbackground\":true,\"ticks\":\"\",\"zerolinecolor\":\"white\"}},\"shapedefaults\":{\"line\":{\"color\":\"#2a3f5f\"}},\"ternary\":{\"aaxis\":{\"gridcolor\":\"white\",\"linecolor\":\"white\",\"ticks\":\"\"},\"baxis\":{\"gridcolor\":\"white\",\"linecolor\":\"white\",\"ticks\":\"\"},\"bgcolor\":\"#E5ECF6\",\"caxis\":{\"gridcolor\":\"white\",\"linecolor\":\"white\",\"ticks\":\"\"}},\"title\":{\"x\":0.05},\"xaxis\":{\"automargin\":true,\"gridcolor\":\"white\",\"linecolor\":\"white\",\"ticks\":\"\",\"title\":{\"standoff\":15},\"zerolinecolor\":\"white\",\"zerolinewidth\":2},\"yaxis\":{\"automargin\":true,\"gridcolor\":\"white\",\"linecolor\":\"white\",\"ticks\":\"\",\"title\":{\"standoff\":15},\"zerolinecolor\":\"white\",\"zerolinewidth\":2}}}},                        {\"responsive\": true}                    ).then(function(){\n",
              "                            \n",
              "var gd = document.getElementById('82be30b5-4a51-41a0-8911-f5522378f3dc');\n",
              "var x = new MutationObserver(function (mutations, observer) {{\n",
              "        var display = window.getComputedStyle(gd).display;\n",
              "        if (!display || display === 'none') {{\n",
              "            console.log([gd, 'removed!']);\n",
              "            Plotly.purge(gd);\n",
              "            observer.disconnect();\n",
              "        }}\n",
              "}});\n",
              "\n",
              "// Listen for the removal of the full notebook cells\n",
              "var notebookContainer = gd.closest('#notebook-container');\n",
              "if (notebookContainer) {{\n",
              "    x.observe(notebookContainer, {childList: true});\n",
              "}}\n",
              "\n",
              "// Listen for the clearing of the current output cell\n",
              "var outputEl = gd.closest('.output');\n",
              "if (outputEl) {{\n",
              "    x.observe(outputEl, {childList: true});\n",
              "}}\n",
              "\n",
              "                        })                };                            </script>        </div>\n",
              "</body>\n",
              "</html>"
            ]
          },
          "metadata": {}
        }
      ]
    },
    {
      "cell_type": "markdown",
      "source": [
        "グラフをみてみると61回目のトライアルでベストパラメーターが出たのがわかりやくなっています。"
      ],
      "metadata": {
        "id": "RzcLsFL8HEg_"
      }
    },
    {
      "cell_type": "markdown",
      "source": [
        "## 特徴量の重要度の評価"
      ],
      "metadata": {
        "id": "TQSbk2_iIW9j"
      }
    },
    {
      "cell_type": "markdown",
      "source": [
        "妥当性の検証を終え、クロスバリデーションとOptunaでより正確性が高かったモデルを使い、特徴量の重要度の評価を行います。\n",
        "特徴量の重要度の評価はScikit-learnのランダムフォレストモデルライブラリのfeature_importances()という関数を使います。\n"
      ],
      "metadata": {
        "id": "CJSXajwpdRfK"
      }
    },
    {
      "cell_type": "code",
      "source": [
        "if accuracy_random_forest_op > accuracy_random_forest:\n",
        "  print(\"妥当性の検証方法でより正確だったのはOptunaです\")\n",
        "  feature_importances = rforest_model_post_optuna.feature_importances_\n",
        "else:\n",
        "  print(\"妥当性の検証方法でより正確だったのはCross Validationです\")\n",
        "  feature_importances = rforest_model_cv.feature_importances_\n",
        "\n",
        "feature_importances_dict = {}\n",
        "for i, importance in enumerate(feature_importances):\n",
        "  perc = importance * 100\n",
        "  feature_importances_dict[finalized_df.columns[i+1]] = perc # 一行目は出力行のため、考慮しない\n",
        "\n",
        "sorted_dict = {}\n",
        "sorted_keys = sorted(feature_importances_dict, key=feature_importances_dict.get)\n",
        "for w in sorted_keys:\n",
        "    sorted_dict[w] =  feature_importances_dict[w]\n",
        "  \n",
        "for keys in sorted_dict.keys():\n",
        "  print(f\"フィーチャー名：{keys:>12s}は出力データの結果に{sorted_dict[keys]:>7.2f}%関与しています\")"
      ],
      "metadata": {
        "id": "0kObwlht9ssY",
        "colab": {
          "base_uri": "https://localhost:8080/"
        },
        "outputId": "dac68139-1f3c-475a-ef03-89d9b5d6f83e"
      },
      "execution_count": 15,
      "outputs": [
        {
          "output_type": "stream",
          "name": "stdout",
          "text": [
            "妥当性の検証方法でより正確だったのはOptunaです\n",
            "フィーチャー名：    IL-12P70は出力データの結果に   0.00%関与しています\n",
            "フィーチャー名：       IL-17は出力データの結果に   0.00%関与しています\n",
            "フィーチャー名：        IL-9は出力データの結果に   0.00%関与しています\n",
            "フィーチャー名：        IL-2は出力データの結果に   0.00%関与しています\n",
            "フィーチャー名：        IL-3は出力データの結果に   0.00%関与しています\n",
            "フィーチャー名：        TNFbは出力データの結果に   0.00%関与しています\n",
            "フィーチャー名：         sexは出力データの結果に   0.11%関与しています\n",
            "フィーチャー名：        IPAFは出力データの結果に   0.12%関与しています\n",
            "フィーチャー名：      IL-36βは出力データの結果に   0.13%関与しています\n",
            "フィーチャー名：       TGF-aは出力データの結果に   0.14%関与しています\n",
            "フィーチャー名：Collagen-diseaseは出力データの結果に   0.29%関与しています\n",
            "フィーチャー名：   emphysemaは出力データの結果に   0.34%関与しています\n",
            "フィーチャー名：Baseline-ILDは出力データの結果に   0.56%関与しています\n",
            "フィーチャー名：        IL-7は出力データの結果に   0.74%関与しています\n",
            "フィーチャー名：smoking-statusは出力データの結果に   0.78%関与しています\n",
            "フィーチャー名：BAL(Lymph-%)は出力データの結果に   0.81%関与しています\n",
            "フィーチャー名：        VEGFは出力データの結果に   1.10%関与しています\n",
            "フィーチャー名：        IL-5は出力データの結果に   1.22%関与しています\n",
            "フィーチャー名：      IL-1RAは出力データの結果に   1.27%関与しています\n",
            "フィーチャー名：       IL-15は出力データの結果に   1.29%関与しています\n",
            "フィーチャー名：       IL-1bは出力データの結果に   1.29%関与しています\n",
            "フィーチャー名：      IFN-a2は出力データの結果に   1.32%関与しています\n",
            "フィーチャー名：       IP-10は出力データの結果に   1.36%関与しています\n",
            "フィーチャー名：       IFN-gは出力データの結果に   1.37%関与しています\n",
            "フィーチャー名：      MIP-1aは出力データの結果に   1.38%関与しています\n",
            "フィーチャー名：         ageは出力データの結果に   1.38%関与しています\n",
            "フィーチャー名：       TGFB2は出力データの結果に   1.39%関与しています\n",
            "フィーチャー名：    IL-12P40は出力データの結果に   1.41%関与しています\n",
            "フィーチャー名：       FGF-2は出力データの結果に   1.44%関与しています\n",
            "フィーチャー名：       IL-1aは出力データの結果に   1.49%関与しています\n",
            "フィーチャー名：        IL-8は出力データの結果に   1.53%関与しています\n",
            "フィーチャー名：       MCP-1は出力データの結果に   1.54%関与しています\n",
            "フィーチャー名：       TGFB1は出力データの結果に   1.58%関与しています\n",
            "フィーチャー名：  BAL(Eos-%)は出力データの結果に   1.64%関与しています\n",
            "フィーチャー名：    BAL(M-%)は出力データの結果に   1.66%関与しています\n",
            "フィーチャー名：Brinkman-Indexは出力データの結果に   1.69%関与しています\n",
            "フィーチャー名：  BAL(CD4/8)は出力データの結果に   1.69%関与しています\n",
            "フィーチャー名：      GM-CSFは出力データの結果に   1.70%関与しています\n",
            "フィーチャー名：      MIP-1bは出力データの結果に   1.79%関与しています\n",
            "フィーチャー名：       MCP-3は出力データの結果に   1.82%関与しています\n",
            "フィーチャー名：         EGFは出力データの結果に   1.82%関与しています\n",
            "フィーチャー名：         CRPは出力データの結果に   1.84%関与しています\n",
            "フィーチャー名：        IL-4は出力データの結果に   1.86%関与しています\n",
            "フィーチャー名：      Flt-3Lは出力データの結果に   1.88%関与しています\n",
            "フィーチャー名：         MDCは出力データの結果に   1.94%関与しています\n",
            "フィーチャー名：        TNFaは出力データの結果に   1.94%関与しています\n",
            "フィーチャー名：       TGFB3は出力データの結果に   1.97%関与しています\n",
            "フィーチャー名：       MMP-7は出力データの結果に   2.07%関与しています\n",
            "フィーチャー名：     EOTAXINは出力データの結果に   2.09%関与しています\n",
            "フィーチャー名：         LDHは出力データの結果に   2.70%関与しています\n",
            "フィーチャー名：        IL-6は出力データの結果に   2.80%関与しています\n",
            "フィーチャー名：       G-CSFは出力データの結果に   2.84%関与しています\n",
            "フィーチャー名：        KL-6は出力データの結果に   2.85%関与しています\n",
            "フィーチャー名：      sCD40Lは出力データの結果に   3.11%関与しています\n",
            "フィーチャー名：         GROは出力データの結果に   3.17%関与しています\n",
            "フィーチャー名：BAL(neutro-%)は出力データの結果に   3.30%関与しています\n",
            "フィーチャー名： FRACTALKINEは出力データの結果に   3.34%関与しています\n",
            "フィーチャー名：   P/F-ratioは出力データの結果に   3.50%関与しています\n",
            "フィーチャー名：       IL-13は出力データの結果に   4.74%関与しています\n",
            "フィーチャー名：       IL-10は出力データの結果に   5.04%関与しています\n",
            "フィーチャー名：       MMP-1は出力データの結果に   5.81%関与しています\n"
          ]
        }
      ]
    },
    {
      "cell_type": "markdown",
      "source": [
        "##  特徴量の重要度の評価に基づきモデル再構築"
      ],
      "metadata": {
        "id": "oSzY43HdJjcR"
      }
    },
    {
      "cell_type": "markdown",
      "source": [
        "特徴量設計は、モデルタイプやそのパラメータよりもモデルの品質に大きな影響を与えるという共通認識があります。特徴量選択が重要な問題である理由として、実際のパターンを隠してしまうほどの余分な特徴量で学習してしまうと、本来のパターンを見つけるのが難しくなります。この場合、モデルは不要な特徴量のノイズパターンを使用し始め、結果としてパフォーマンスの低下につながります。加え、特徴量の数を減らすと、一般的にモデルの学習（トレーニング）が大幅に速くなります。そして大抵の場合、結果として得られるモデルは単純で理解しやすいものとなります。常に単純なモデルになるように心がけ、ノイズを削除し、ロバストなモデル作成を心がける必要があります。詳しくはこちらを参照して下さい [[4](https://www.rapidminer.jp/wp-content/uploads/2020/05/%E6%A9%9F%E6%A2%B0%E5%AD%A6%E7%BF%92%E3%81%AE%E3%81%9F%E3%82%81%E3%81%AE%E7%89%B9%E5%BE%B4%E9%87%8F%E6%9C%80%E9%81%A9%E5%8C%96.pdf)]。\n",
        "\n",
        "今回はForward Selectionという考え方を応用し、特徴量の重要度の評価で最も正答率が高かった10個の属性を保持して再度モデルを作成します。"
      ],
      "metadata": {
        "id": "QCqhOn89d4da"
      }
    },
    {
      "cell_type": "code",
      "source": [
        "top_ten_params = list(sorted_dict.keys())[-10:]\n",
        "top_ten_params.append('90day-mortality')\n",
        "print(f\"The top ten parameters are: {top_ten_params}\")\n",
        "\n",
        "# 最後に使用したPandasデータフレームをコピーを作成する\n",
        "finalized_df_c = finalized_df.copy()\n",
        "\n",
        "# 新しいデータフレームから重要因子以外を取り除く\n",
        "finalized_df_c = finalized_df_c.drop(columns=[col for col in finalized_df.columns if col not in top_ten_params])\n",
        "\n",
        "# 行数と列数を変数として保管する\n",
        "NUM_ROWS, NUM_COLS = finalized_df_c.shape[0], finalized_df_c.shape[1]\n",
        "\n",
        "# Y (ラベル) ターゲットラベル\n",
        "Y_col = '90day-mortality'\n",
        "# X (フィーチャー) ターゲットラベル以外の全ての行\n",
        "X_cols = finalized_df_c.loc[:, finalized_df_c.columns != Y_col].columns\n",
        "\n",
        "X_train, X_test, y_train, y_test = \\\n",
        "train_test_split(finalized_df_c[X_cols], finalized_df_c[Y_col],test_size=0.2, random_state=42)\n",
        "\n",
        "print(\"X_train.shape = \", X_train.shape, \" \\t y_train.shape = \", y_train.shape)\n",
        "print(\"X_test.shape = \", X_test.shape, \" \\t y_test.shape = \", y_test.shape)\n",
        "\n",
        "study = optuna.create_study(direction='maximize')\n",
        "study.optimize(objective, n_trials=50)\n",
        "\n",
        "trial = study.best_trial\n",
        "print('Accuracy: {}'.format(trial.value))\n",
        "\n",
        "# チューニングしたハイパーパラメーターをフィット\n",
        "rforest_model_post_optuna_opt = ensemble.RandomForestClassifier(bootstrap = study.best_params['bootstrap'], criterion = study.best_params['criterion'],\n",
        "                                     max_depth = study.best_params['max_depth'], max_features = study.best_params['max_features'],\n",
        "                                     max_leaf_nodes = study.best_params['max_leaf_nodes'],n_estimators = study.best_params['n_estimators'],\n",
        "                                     min_samples_split = study.best_params['min_samples_split'],min_samples_leaf = study.best_params['min_samples_leaf'],                                     \n",
        "                                     n_jobs=2)\n",
        "\n",
        "# モデルを再度トレーニングする\n",
        "rforest_model_post_optuna_opt.fit(X_train, y_train) \n",
        "\n",
        "# 再度トレーニングした後のモデルのパフォーマンス検証\n",
        "# テストデータにrforest_modelに.predict()関数を応用し、RFモデルがラベルを何個正確に予測出来たかを検証する\n",
        "y_pred_op = rforest_model_post_optuna_opt.predict(X_test)\n",
        "\n",
        "#モデルを作成する段階でのモデルの識別精度\n",
        "trainaccuracy_random_forest = rforest_model_post_optuna_opt.score(X_train, y_train)\n",
        "print('TrainAccuracy: {}'.format(trainaccuracy_random_forest))\n",
        "\n",
        "#作成したモデルに学習に使用していない評価用のデータセットを入力し精度を確認\n",
        "accuracy_random_forest = accuracy_score(y_test, y_pred_op)\n",
        "print('Accuracy: {}'.format(accuracy_random_forest))\n",
        "\n",
        "# 正確性の出力\n",
        "print(classification_report(y_test, y_pred_op))\n",
        "\n",
        "# フィーチャーの重要度を出力するコード\n",
        "feature_importances_opt = rforest_model_post_optuna_opt.feature_importances_\n",
        "\n",
        "feature_importances_dict = {}\n",
        "for i, importance in enumerate(feature_importances_opt):\n",
        "  perc = importance * 100\n",
        "  feature_importances_dict[finalized_df_c.columns[i+1]] = perc\n",
        "\n",
        "sorted_dict = {}\n",
        "sorted_keys = sorted(feature_importances_dict, key=feature_importances_dict.get)\n",
        "for w in sorted_keys:\n",
        "    sorted_dict[w] =  feature_importances_dict[w]\n",
        "  \n",
        "for keys in sorted_dict.keys():\n",
        "  print(f\"フィーチャー名：{keys:>12s}は出力データの結果に{sorted_dict[keys]:>7.2f}%関与しています\")"
      ],
      "metadata": {
        "colab": {
          "base_uri": "https://localhost:8080/"
        },
        "id": "U0bu0FLieIiN",
        "outputId": "2c6ff3a9-c46f-4060-86eb-c5329974ed37"
      },
      "execution_count": 16,
      "outputs": [
        {
          "output_type": "stream",
          "name": "stderr",
          "text": [
            "\u001b[32m[I 2022-03-20 18:24:07,858]\u001b[0m A new study created in memory with name: no-name-659c95f8-e6cc-4455-a8f8-6146a654fd29\u001b[0m\n"
          ]
        },
        {
          "output_type": "stream",
          "name": "stdout",
          "text": [
            "The top ten parameters are: ['G-CSF', 'KL-6', 'sCD40L', 'GRO', 'BAL(neutro-%)', 'FRACTALKINE', 'P/F-ratio', 'IL-13', 'IL-10', 'MMP-1', '90day-mortality']\n",
            "X_train.shape =  (88, 10)  \t y_train.shape =  (88,)\n",
            "X_test.shape =  (22, 10)  \t y_test.shape =  (22,)\n"
          ]
        },
        {
          "output_type": "stream",
          "name": "stderr",
          "text": [
            "\u001b[32m[I 2022-03-20 18:24:17,121]\u001b[0m Trial 0 finished with value: -0.1893939393939394 and parameters: {'criterion': 'gini', 'bootstrap': 'True', 'max_depth': 727, 'max_features': 'auto', 'max_leaf_nodes': 236, 'n_estimators': 727, 'min_samples_split': 4, 'min_samples_leaf': 4}. Best is trial 0 with value: -0.1893939393939394.\u001b[0m\n",
            "\u001b[32m[I 2022-03-20 18:24:21,590]\u001b[0m Trial 1 finished with value: -0.09303030303030299 and parameters: {'criterion': 'gini', 'bootstrap': 'False', 'max_depth': 901, 'max_features': 'sqrt', 'max_leaf_nodes': 209, 'n_estimators': 327, 'min_samples_split': 2, 'min_samples_leaf': 9}. Best is trial 1 with value: -0.09303030303030299.\u001b[0m\n",
            "\u001b[32m[I 2022-03-20 18:24:32,907]\u001b[0m Trial 2 finished with value: -0.23787878787878788 and parameters: {'criterion': 'gini', 'bootstrap': 'False', 'max_depth': 167, 'max_features': 'log2', 'max_leaf_nodes': 233, 'n_estimators': 972, 'min_samples_split': 3, 'min_samples_leaf': 8}. Best is trial 1 with value: -0.09303030303030299.\u001b[0m\n",
            "\u001b[32m[I 2022-03-20 18:24:38,175]\u001b[0m Trial 3 finished with value: -0.09303030303030299 and parameters: {'criterion': 'gini', 'bootstrap': 'True', 'max_depth': 845, 'max_features': 'log2', 'max_leaf_nodes': 731, 'n_estimators': 379, 'min_samples_split': 2, 'min_samples_leaf': 7}. Best is trial 1 with value: -0.09303030303030299.\u001b[0m\n",
            "\u001b[32m[I 2022-03-20 18:24:41,661]\u001b[0m Trial 4 finished with value: -0.09303030303030299 and parameters: {'criterion': 'gini', 'bootstrap': 'True', 'max_depth': 918, 'max_features': 'sqrt', 'max_leaf_nodes': 59, 'n_estimators': 221, 'min_samples_split': 2, 'min_samples_leaf': 5}. Best is trial 1 with value: -0.09303030303030299.\u001b[0m\n",
            "\u001b[32m[I 2022-03-20 18:24:49,787]\u001b[0m Trial 5 finished with value: -0.08787878787878786 and parameters: {'criterion': 'entropy', 'bootstrap': 'False', 'max_depth': 195, 'max_features': 'sqrt', 'max_leaf_nodes': 316, 'n_estimators': 656, 'min_samples_split': 4, 'min_samples_leaf': 9}. Best is trial 5 with value: -0.08787878787878786.\u001b[0m\n",
            "\u001b[32m[I 2022-03-20 18:24:51,191]\u001b[0m Trial 6 finished with value: -0.34454545454545454 and parameters: {'criterion': 'gini', 'bootstrap': 'True', 'max_depth': 170, 'max_features': 'sqrt', 'max_leaf_nodes': 958, 'n_estimators': 61, 'min_samples_split': 3, 'min_samples_leaf': 1}. Best is trial 5 with value: -0.08787878787878786.\u001b[0m\n",
            "\u001b[32m[I 2022-03-20 18:24:57,130]\u001b[0m Trial 7 finished with value: -0.24454545454545454 and parameters: {'criterion': 'entropy', 'bootstrap': 'False', 'max_depth': 851, 'max_features': 'sqrt', 'max_leaf_nodes': 486, 'n_estimators': 411, 'min_samples_split': 5, 'min_samples_leaf': 1}. Best is trial 5 with value: -0.08787878787878786.\u001b[0m\n",
            "\u001b[32m[I 2022-03-20 18:25:04,544]\u001b[0m Trial 8 finished with value: -0.13121212121212122 and parameters: {'criterion': 'gini', 'bootstrap': 'True', 'max_depth': 195, 'max_features': 'sqrt', 'max_leaf_nodes': 800, 'n_estimators': 597, 'min_samples_split': 4, 'min_samples_leaf': 6}. Best is trial 5 with value: -0.08787878787878786.\u001b[0m\n",
            "\u001b[32m[I 2022-03-20 18:25:11,773]\u001b[0m Trial 9 finished with value: -0.1445454545454545 and parameters: {'criterion': 'gini', 'bootstrap': 'False', 'max_depth': 774, 'max_features': 'log2', 'max_leaf_nodes': 331, 'n_estimators': 580, 'min_samples_split': 4, 'min_samples_leaf': 8}. Best is trial 5 with value: -0.08787878787878786.\u001b[0m\n",
            "\u001b[32m[I 2022-03-20 18:25:22,620]\u001b[0m Trial 10 finished with value: -0.19454545454545452 and parameters: {'criterion': 'entropy', 'bootstrap': 'False', 'max_depth': 422, 'max_features': 'auto', 'max_leaf_nodes': 522, 'n_estimators': 909, 'min_samples_split': 5, 'min_samples_leaf': 10}. Best is trial 5 with value: -0.08787878787878786.\u001b[0m\n",
            "\u001b[32m[I 2022-03-20 18:25:25,981]\u001b[0m Trial 11 finished with value: -0.037878787878787866 and parameters: {'criterion': 'entropy', 'bootstrap': 'False', 'max_depth': 462, 'max_features': 'sqrt', 'max_leaf_nodes': 60, 'n_estimators': 257, 'min_samples_split': 3, 'min_samples_leaf': 10}. Best is trial 11 with value: -0.037878787878787866.\u001b[0m\n",
            "\u001b[32m[I 2022-03-20 18:25:35,436]\u001b[0m Trial 12 finished with value: -0.1445454545454545 and parameters: {'criterion': 'entropy', 'bootstrap': 'False', 'max_depth': 421, 'max_features': 'sqrt', 'max_leaf_nodes': 68, 'n_estimators': 754, 'min_samples_split': 3, 'min_samples_leaf': 10}. Best is trial 11 with value: -0.037878787878787866.\u001b[0m\n",
            "\u001b[32m[I 2022-03-20 18:25:37,523]\u001b[0m Trial 13 finished with value: -0.23787878787878788 and parameters: {'criterion': 'entropy', 'bootstrap': 'False', 'max_depth': 19, 'max_features': 'sqrt', 'max_leaf_nodes': 23, 'n_estimators': 126, 'min_samples_split': 4, 'min_samples_leaf': 10}. Best is trial 11 with value: -0.037878787878787866.\u001b[0m\n",
            "\u001b[32m[I 2022-03-20 18:25:43,954]\u001b[0m Trial 14 finished with value: -0.031212121212121226 and parameters: {'criterion': 'entropy', 'bootstrap': 'False', 'max_depth': 615, 'max_features': 'sqrt', 'max_leaf_nodes': 425, 'n_estimators': 502, 'min_samples_split': 3, 'min_samples_leaf': 8}. Best is trial 14 with value: -0.031212121212121226.\u001b[0m\n",
            "\u001b[32m[I 2022-03-20 18:25:47,520]\u001b[0m Trial 15 finished with value: -0.18787878787878787 and parameters: {'criterion': 'entropy', 'bootstrap': 'False', 'max_depth': 626, 'max_features': 'auto', 'max_leaf_nodes': 525, 'n_estimators': 261, 'min_samples_split': 3, 'min_samples_leaf': 7}. Best is trial 14 with value: -0.031212121212121226.\u001b[0m\n",
            "\u001b[32m[I 2022-03-20 18:25:53,956]\u001b[0m Trial 16 finished with value: -0.03272727272727276 and parameters: {'criterion': 'entropy', 'bootstrap': 'False', 'max_depth': 563, 'max_features': 'sqrt', 'max_leaf_nodes': 686, 'n_estimators': 508, 'min_samples_split': 3, 'min_samples_leaf': 3}. Best is trial 14 with value: -0.031212121212121226.\u001b[0m\n",
            "\u001b[32m[I 2022-03-20 18:26:00,503]\u001b[0m Trial 17 finished with value: -0.08121212121212122 and parameters: {'criterion': 'entropy', 'bootstrap': 'False', 'max_depth': 603, 'max_features': 'sqrt', 'max_leaf_nodes': 669, 'n_estimators': 488, 'min_samples_split': 2, 'min_samples_leaf': 3}. Best is trial 14 with value: -0.031212121212121226.\u001b[0m\n",
            "\u001b[32m[I 2022-03-20 18:26:07,157]\u001b[0m Trial 18 finished with value: -0.08121212121212122 and parameters: {'criterion': 'entropy', 'bootstrap': 'False', 'max_depth': 580, 'max_features': 'auto', 'max_leaf_nodes': 618, 'n_estimators': 503, 'min_samples_split': 3, 'min_samples_leaf': 3}. Best is trial 14 with value: -0.031212121212121226.\u001b[0m\n",
            "\u001b[32m[I 2022-03-20 18:26:17,460]\u001b[0m Trial 19 finished with value: -0.2393939393939394 and parameters: {'criterion': 'entropy', 'bootstrap': 'False', 'max_depth': 323, 'max_features': 'log2', 'max_leaf_nodes': 849, 'n_estimators': 800, 'min_samples_split': 2, 'min_samples_leaf': 3}. Best is trial 14 with value: -0.031212121212121226.\u001b[0m\n",
            "\u001b[32m[I 2022-03-20 18:26:24,061]\u001b[0m Trial 20 finished with value: -0.24606060606060604 and parameters: {'criterion': 'entropy', 'bootstrap': 'False', 'max_depth': 743, 'max_features': 'sqrt', 'max_leaf_nodes': 425, 'n_estimators': 490, 'min_samples_split': 3, 'min_samples_leaf': 2}. Best is trial 14 with value: -0.031212121212121226.\u001b[0m\n",
            "\u001b[32m[I 2022-03-20 18:26:26,834]\u001b[0m Trial 21 finished with value: -0.24454545454545454 and parameters: {'criterion': 'entropy', 'bootstrap': 'False', 'max_depth': 493, 'max_features': 'sqrt', 'max_leaf_nodes': 628, 'n_estimators': 192, 'min_samples_split': 3, 'min_samples_leaf': 5}. Best is trial 14 with value: -0.031212121212121226.\u001b[0m\n",
            "\u001b[32m[I 2022-03-20 18:26:31,203]\u001b[0m Trial 22 finished with value: -0.1445454545454545 and parameters: {'criterion': 'entropy', 'bootstrap': 'False', 'max_depth': 524, 'max_features': 'sqrt', 'max_leaf_nodes': 130, 'n_estimators': 321, 'min_samples_split': 3, 'min_samples_leaf': 9}. Best is trial 14 with value: -0.031212121212121226.\u001b[0m\n",
            "\u001b[32m[I 2022-03-20 18:26:37,153]\u001b[0m Trial 23 finished with value: -0.13636363636363635 and parameters: {'criterion': 'entropy', 'bootstrap': 'False', 'max_depth': 345, 'max_features': 'sqrt', 'max_leaf_nodes': 369, 'n_estimators': 416, 'min_samples_split': 3, 'min_samples_leaf': 7}. Best is trial 14 with value: -0.031212121212121226.\u001b[0m\n",
            "\u001b[32m[I 2022-03-20 18:26:44,579]\u001b[0m Trial 24 finished with value: -0.18787878787878787 and parameters: {'criterion': 'entropy', 'bootstrap': 'False', 'max_depth': 664, 'max_features': 'sqrt', 'max_leaf_nodes': 971, 'n_estimators': 559, 'min_samples_split': 4, 'min_samples_leaf': 8}. Best is trial 14 with value: -0.031212121212121226.\u001b[0m\n",
            "\u001b[32m[I 2022-03-20 18:26:45,858]\u001b[0m Trial 25 finished with value: -0.296060606060606 and parameters: {'criterion': 'entropy', 'bootstrap': 'False', 'max_depth': 518, 'max_features': 'sqrt', 'max_leaf_nodes': 859, 'n_estimators': 38, 'min_samples_split': 3, 'min_samples_leaf': 6}. Best is trial 14 with value: -0.031212121212121226.\u001b[0m\n",
            "\u001b[32m[I 2022-03-20 18:26:54,033]\u001b[0m Trial 26 finished with value: -0.09454545454545452 and parameters: {'criterion': 'entropy', 'bootstrap': 'True', 'max_depth': 441, 'max_features': 'sqrt', 'max_leaf_nodes': 741, 'n_estimators': 661, 'min_samples_split': 2, 'min_samples_leaf': 4}. Best is trial 14 with value: -0.031212121212121226.\u001b[0m\n",
            "\u001b[32m[I 2022-03-20 18:26:57,964]\u001b[0m Trial 27 finished with value: -0.18787878787878787 and parameters: {'criterion': 'entropy', 'bootstrap': 'False', 'max_depth': 989, 'max_features': 'sqrt', 'max_leaf_nodes': 567, 'n_estimators': 294, 'min_samples_split': 3, 'min_samples_leaf': 10}. Best is trial 14 with value: -0.031212121212121226.\u001b[0m\n",
            "\u001b[32m[I 2022-03-20 18:27:00,651]\u001b[0m Trial 28 finished with value: -0.24757575757575756 and parameters: {'criterion': 'entropy', 'bootstrap': 'False', 'max_depth': 312, 'max_features': 'auto', 'max_leaf_nodes': 434, 'n_estimators': 149, 'min_samples_split': 4, 'min_samples_leaf': 9}. Best is trial 14 with value: -0.031212121212121226.\u001b[0m\n",
            "\u001b[32m[I 2022-03-20 18:27:06,873]\u001b[0m Trial 29 finished with value: -0.08787878787878786 and parameters: {'criterion': 'entropy', 'bootstrap': 'True', 'max_depth': 690, 'max_features': 'log2', 'max_leaf_nodes': 159, 'n_estimators': 460, 'min_samples_split': 5, 'min_samples_leaf': 4}. Best is trial 14 with value: -0.031212121212121226.\u001b[0m\n",
            "\u001b[32m[I 2022-03-20 18:27:15,790]\u001b[0m Trial 30 finished with value: -0.08787878787878786 and parameters: {'criterion': 'entropy', 'bootstrap': 'False', 'max_depth': 583, 'max_features': 'auto', 'max_leaf_nodes': 686, 'n_estimators': 672, 'min_samples_split': 2, 'min_samples_leaf': 2}. Best is trial 14 with value: -0.031212121212121226.\u001b[0m\n",
            "\u001b[32m[I 2022-03-20 18:27:23,198]\u001b[0m Trial 31 finished with value: -0.13787878787878788 and parameters: {'criterion': 'entropy', 'bootstrap': 'False', 'max_depth': 557, 'max_features': 'auto', 'max_leaf_nodes': 606, 'n_estimators': 565, 'min_samples_split': 3, 'min_samples_leaf': 3}. Best is trial 14 with value: -0.031212121212121226.\u001b[0m\n",
            "\u001b[32m[I 2022-03-20 18:27:28,592]\u001b[0m Trial 32 finished with value: -0.13787878787878788 and parameters: {'criterion': 'entropy', 'bootstrap': 'False', 'max_depth': 610, 'max_features': 'sqrt', 'max_leaf_nodes': 699, 'n_estimators': 372, 'min_samples_split': 2, 'min_samples_leaf': 2}. Best is trial 14 with value: -0.031212121212121226.\u001b[0m\n",
            "\u001b[32m[I 2022-03-20 18:27:35,783]\u001b[0m Trial 33 finished with value: -0.19090909090909092 and parameters: {'criterion': 'entropy', 'bootstrap': 'False', 'max_depth': 476, 'max_features': 'auto', 'max_leaf_nodes': 267, 'n_estimators': 539, 'min_samples_split': 3, 'min_samples_leaf': 5}. Best is trial 14 with value: -0.031212121212121226.\u001b[0m\n",
            "\u001b[32m[I 2022-03-20 18:27:41,641]\u001b[0m Trial 34 finished with value: -0.18787878787878787 and parameters: {'criterion': 'entropy', 'bootstrap': 'False', 'max_depth': 697, 'max_features': 'auto', 'max_leaf_nodes': 796, 'n_estimators': 420, 'min_samples_split': 3, 'min_samples_leaf': 4}. Best is trial 14 with value: -0.031212121212121226.\u001b[0m\n",
            "\u001b[32m[I 2022-03-20 18:27:46,865]\u001b[0m Trial 35 finished with value: -0.24454545454545454 and parameters: {'criterion': 'gini', 'bootstrap': 'False', 'max_depth': 803, 'max_features': 'sqrt', 'max_leaf_nodes': 663, 'n_estimators': 357, 'min_samples_split': 2, 'min_samples_leaf': 3}. Best is trial 14 with value: -0.031212121212121226.\u001b[0m\n",
            "\u001b[32m[I 2022-03-20 18:27:54,672]\u001b[0m Trial 36 finished with value: -0.08787878787878786 and parameters: {'criterion': 'entropy', 'bootstrap': 'True', 'max_depth': 662, 'max_features': 'auto', 'max_leaf_nodes': 564, 'n_estimators': 622, 'min_samples_split': 3, 'min_samples_leaf': 7}. Best is trial 14 with value: -0.031212121212121226.\u001b[0m\n",
            "\u001b[32m[I 2022-03-20 18:28:01,410]\u001b[0m Trial 37 finished with value: -0.13787878787878788 and parameters: {'criterion': 'gini', 'bootstrap': 'False', 'max_depth': 392, 'max_features': 'log2', 'max_leaf_nodes': 189, 'n_estimators': 526, 'min_samples_split': 3, 'min_samples_leaf': 8}. Best is trial 14 with value: -0.031212121212121226.\u001b[0m\n",
            "\u001b[32m[I 2022-03-20 18:28:10,940]\u001b[0m Trial 38 finished with value: -0.031212121212121226 and parameters: {'criterion': 'entropy', 'bootstrap': 'False', 'max_depth': 544, 'max_features': 'sqrt', 'max_leaf_nodes': 916, 'n_estimators': 715, 'min_samples_split': 2, 'min_samples_leaf': 1}. Best is trial 14 with value: -0.031212121212121226.\u001b[0m\n",
            "\u001b[32m[I 2022-03-20 18:28:21,838]\u001b[0m Trial 39 finished with value: -0.08121212121212122 and parameters: {'criterion': 'entropy', 'bootstrap': 'True', 'max_depth': 370, 'max_features': 'sqrt', 'max_leaf_nodes': 900, 'n_estimators': 859, 'min_samples_split': 2, 'min_samples_leaf': 1}. Best is trial 14 with value: -0.031212121212121226.\u001b[0m\n",
            "\u001b[32m[I 2022-03-20 18:28:31,221]\u001b[0m Trial 40 finished with value: 0.013636363636363646 and parameters: {'criterion': 'gini', 'bootstrap': 'False', 'max_depth': 249, 'max_features': 'sqrt', 'max_leaf_nodes': 992, 'n_estimators': 726, 'min_samples_split': 2, 'min_samples_leaf': 1}. Best is trial 40 with value: 0.013636363636363646.\u001b[0m\n",
            "\u001b[32m[I 2022-03-20 18:28:40,686]\u001b[0m Trial 41 finished with value: -0.08787878787878786 and parameters: {'criterion': 'gini', 'bootstrap': 'False', 'max_depth': 268, 'max_features': 'sqrt', 'max_leaf_nodes': 927, 'n_estimators': 743, 'min_samples_split': 2, 'min_samples_leaf': 1}. Best is trial 40 with value: 0.013636363636363646.\u001b[0m\n",
            "\u001b[32m[I 2022-03-20 18:28:52,429]\u001b[0m Trial 42 finished with value: -0.08787878787878786 and parameters: {'criterion': 'gini', 'bootstrap': 'False', 'max_depth': 68, 'max_features': 'sqrt', 'max_leaf_nodes': 767, 'n_estimators': 983, 'min_samples_split': 2, 'min_samples_leaf': 2}. Best is trial 40 with value: 0.013636363636363646.\u001b[0m\n",
            "\u001b[32m[I 2022-03-20 18:29:02,818]\u001b[0m Trial 43 finished with value: -0.08787878787878786 and parameters: {'criterion': 'gini', 'bootstrap': 'False', 'max_depth': 249, 'max_features': 'sqrt', 'max_leaf_nodes': 876, 'n_estimators': 836, 'min_samples_split': 2, 'min_samples_leaf': 1}. Best is trial 40 with value: 0.013636363636363646.\u001b[0m\n",
            "\u001b[32m[I 2022-03-20 18:29:11,791]\u001b[0m Trial 44 finished with value: -0.08636363636363635 and parameters: {'criterion': 'gini', 'bootstrap': 'False', 'max_depth': 451, 'max_features': 'sqrt', 'max_leaf_nodes': 940, 'n_estimators': 696, 'min_samples_split': 2, 'min_samples_leaf': 2}. Best is trial 40 with value: 0.013636363636363646.\u001b[0m\n",
            "\u001b[32m[I 2022-03-20 18:29:19,515]\u001b[0m Trial 45 finished with value: -0.037878787878787866 and parameters: {'criterion': 'gini', 'bootstrap': 'False', 'max_depth': 95, 'max_features': 'sqrt', 'max_leaf_nodes': 975, 'n_estimators': 604, 'min_samples_split': 4, 'min_samples_leaf': 1}. Best is trial 40 with value: 0.013636363636363646.\u001b[0m\n",
            "\u001b[32m[I 2022-03-20 18:29:28,771]\u001b[0m Trial 46 finished with value: -0.20121212121212118 and parameters: {'criterion': 'gini', 'bootstrap': 'False', 'max_depth': 541, 'max_features': 'sqrt', 'max_leaf_nodes': 831, 'n_estimators': 728, 'min_samples_split': 2, 'min_samples_leaf': 9}. Best is trial 40 with value: 0.013636363636363646.\u001b[0m\n",
            "\u001b[32m[I 2022-03-20 18:29:39,923]\u001b[0m Trial 47 finished with value: -0.037878787878787866 and parameters: {'criterion': 'entropy', 'bootstrap': 'True', 'max_depth': 251, 'max_features': 'sqrt', 'max_leaf_nodes': 999, 'n_estimators': 911, 'min_samples_split': 4, 'min_samples_leaf': 6}. Best is trial 40 with value: 0.013636363636363646.\u001b[0m\n",
            "\u001b[32m[I 2022-03-20 18:29:50,119]\u001b[0m Trial 48 finished with value: -0.08787878787878786 and parameters: {'criterion': 'gini', 'bootstrap': 'True', 'max_depth': 143, 'max_features': 'sqrt', 'max_leaf_nodes': 927, 'n_estimators': 797, 'min_samples_split': 4, 'min_samples_leaf': 6}. Best is trial 40 with value: 0.013636363636363646.\u001b[0m\n",
            "\u001b[32m[I 2022-03-20 18:29:57,809]\u001b[0m Trial 49 finished with value: -0.08121212121212122 and parameters: {'criterion': 'gini', 'bootstrap': 'False', 'max_depth': 121, 'max_features': 'log2', 'max_leaf_nodes': 974, 'n_estimators': 617, 'min_samples_split': 4, 'min_samples_leaf': 1}. Best is trial 40 with value: 0.013636363636363646.\u001b[0m\n"
          ]
        },
        {
          "output_type": "stream",
          "name": "stdout",
          "text": [
            "Accuracy: 0.013636363636363646\n",
            "TrainAccuracy: 1.0\n",
            "Accuracy: 0.6818181818181818\n",
            "              precision    recall  f1-score   support\n",
            "\n",
            "         0.0       0.71      0.77      0.74        13\n",
            "         1.0       0.62      0.56      0.59         9\n",
            "\n",
            "    accuracy                           0.68        22\n",
            "   macro avg       0.67      0.66      0.66        22\n",
            "weighted avg       0.68      0.68      0.68        22\n",
            "\n",
            "フィーチャー名：       G-CSFは出力データの結果に   7.76%関与しています\n",
            "フィーチャー名：      sCD40Lは出力データの結果に   8.03%関与しています\n",
            "フィーチャー名： FRACTALKINEは出力データの結果に   8.42%関与しています\n",
            "フィーチャー名：         GROは出力データの結果に   8.62%関与しています\n",
            "フィーチャー名：BAL(neutro-%)は出力データの結果に   8.82%関与しています\n",
            "フィーチャー名：   P/F-ratioは出力データの結果に   9.07%関与しています\n",
            "フィーチャー名：        KL-6は出力データの結果に   9.21%関与しています\n",
            "フィーチャー名：       IL-13は出力データの結果に  11.81%関与しています\n",
            "フィーチャー名：       IL-10は出力データの結果に  12.56%関与しています\n",
            "フィーチャー名：       MMP-1は出力データの結果に  15.70%関与しています\n"
          ]
        }
      ]
    },
    {
      "cell_type": "markdown",
      "source": [
        "混同行列で予測結果を確認していきましょう。"
      ],
      "metadata": {
        "id": "PGyEBEKkHRuM"
      }
    },
    {
      "cell_type": "code",
      "source": [
        "result = confusion_matrix(y_test, y_pred_op)\n",
        "print(\"Confusion Matrix:\")\n",
        "#confusion matrix\n",
        "labels = sorted(finalized_df_c['90day-mortality'].unique())\n",
        "ax = sns.heatmap(\n",
        "confusion_matrix(y_test, y_pred_op),\n",
        "annot=True,\n",
        "xticklabels=labels,\n",
        "yticklabels=labels\n",
        ")\n",
        "ax.set(xlabel='true label', ylabel='predicted label')"
      ],
      "metadata": {
        "colab": {
          "base_uri": "https://localhost:8080/",
          "height": 324
        },
        "id": "bm2eeNDBHS_R",
        "outputId": "5a91bed5-86b7-4460-cd5e-ec1d8e7bbe1c"
      },
      "execution_count": 17,
      "outputs": [
        {
          "output_type": "stream",
          "name": "stdout",
          "text": [
            "Confusion Matrix:\n"
          ]
        },
        {
          "output_type": "execute_result",
          "data": {
            "text/plain": [
              "[Text(30.5, 0.5, 'predicted label'), Text(0.5, 12.5, 'true label')]"
            ]
          },
          "metadata": {},
          "execution_count": 17
        },
        {
          "output_type": "display_data",
          "data": {
            "text/plain": [
              "<Figure size 432x288 with 2 Axes>"
            ],
            "image/png": "[encoded data removed]"
          },
          "metadata": {
            "needs_background": "light"
          }
        }
      ]
    },
    {
      "cell_type": "markdown",
      "source": [
        "**TODO: 柴木様**\n",
        "\n",
        "解析を終え、結果についての発表・及びその重要度の説明"
      ],
      "metadata": {
        "id": "aWg4ynNXR1Gx"
      }
    },
    {
      "cell_type": "markdown",
      "source": [
        "## 学習モデルの保存"
      ],
      "metadata": {
        "id": "Tp56SPweJceL"
      }
    },
    {
      "cell_type": "markdown",
      "source": [
        "モデルは訓練中にも、訓練が終わったあとも保存できます。このことは、長い訓練時間を掛けなくても、やめたところから再開できるということを意味します。モデルが保存可能であることは、あなたが作ったモデルを他の人と共有できるということでもあります。\n",
        "\n",
        "保存方法としてはJoblibというSciPyのライブラリを使用します。JoblibはPythonのジョブをパイプライン処理するためのユーティリティを提供しています。NumPyデータ構造を効率的に利用するPythonオブジェクトの保存とロードを行うユーティリティを提供します。"
      ],
      "metadata": {
        "id": "V-DJFRFEI9as"
      }
    },
    {
      "cell_type": "code",
      "source": [
        "# モデルを./outに保存\n",
        "filename = 'out/finalized_model.joblib'\n",
        "joblib.dump(rforest_model_post_optuna_opt, filename)\n",
        "\n",
        "# モデルをGoogle Driveに保存\n",
        "!cp 'out/finalized_model.joblib' '/content/drive/MyDrive/shibaki analysis/'\n",
        "\n",
        "# モデルをGoogle Driveからロードしたい場合\n",
        "loaded_model_optuna_rf = joblib.load(\"/content/drive/MyDrive/shibaki analysis/finalized_model.joblib\")\n",
        "\n",
        "# # ロードしたモデルで解析を行う場合\n",
        "# loaded_model_optuna_rf.predict()"
      ],
      "metadata": {
        "id": "L3nOSHEkIkaZ"
      },
      "execution_count": 20,
      "outputs": []
    },
    {
      "cell_type": "markdown",
      "source": [
        "## 終わりに"
      ],
      "metadata": {
        "id": "DZkWrIMjRIaT"
      }
    },
    {
      "cell_type": "markdown",
      "source": [
        "今研究では、和歌山医科大学の保有する、線維化を伴う間質性肺炎の急性増悪の多施設後ろ向き実態調査に登録された患者において急性増悪中に施行されたBAL液中のサイトカインやケモカインのデータを用いて、間質性肺炎の予後予測因子の抽出と予後予測に取り組みました。\n",
        "\n",
        "解析内容の要約は以下となります。\n",
        "1.   環境構築\n",
        "2.   データ前処理\n",
        "3.   RF解析モデル構築\n",
        "4.   妥当性の検証・ハイパーパラメーターチューニング\n",
        "5.   特徴量重要度の評価\n",
        "6.   特徴量重要の評価に基づきモデル再構築\n",
        "\n",
        "精度向上に向けて様々な手法を試してみましたが，今回のタスクにおいては，どの工夫が有効に働くか自明で無い場合がほとんどです．従って，試行錯誤を行いながら，その問題設定に適合するやり方を模索していく必要があります．\n",
        "\n",
        "さらなる取り組みとしては，例えば下記内容を検討する余地があります。\n",
        "\n",
        "\n",
        "* クラス不均衡データへの対応\n",
        "  - サンプリング\n",
        "      - 不均衡データセットからサンプリングを行い，クラス比率のバランスが取れたデータセットを作成．\n",
        "    - **Undersampling** : 大多数の正常サンプルを削減．\n",
        "    - **Oversampling**  : 少数の異常サンプルを水増し．  \n",
        "  - 損失関数の重み調整\n",
        "    - 正常サンプルを異常と誤分類した際のペナルティを小さく，異常サンプルを正常と誤分類した際のペナルティを大きくする．\n",
        "    - 例えば，サンプル数の存在比率の逆数を重みとして利用．\n",
        "  - 目的関数(損失関数)の変更\n",
        "    - 異常サンプルに対する予測スコアを向上させるような目的関数を導入．\n",
        "  - 異常検知\n",
        "    - 正常サンプルのデータ分布を仮定し，そこから十分に逸脱したサンプルを異常とみなす．\n",
        "\n",
        "* 前処理の工夫\n",
        "  - ラベルの追加\n",
        "    - 生存者・死者加えて，新たな目的関数を考慮する．\n",
        "  - ラベルの与え方の変更\n",
        "      * セグメント範囲内に正常以外のピークラベルが含まれる場合に優先的にそのラベルを付与する，等．\n",
        "\n",
        "* モデルの変更等\n",
        "  - ランダムフォレスト以外の機械学習モデルを導入する\n"
      ],
      "metadata": {
        "id": "pUphjw9xClpF"
      }
    },
    {
      "cell_type": "markdown",
      "source": [
        "## 参考文献"
      ],
      "metadata": {
        "id": "_3R_5a-Bfkc4"
      }
    },
    {
      "cell_type": "markdown",
      "source": [
        "**TODO: 柴木様**\n",
        "\n"
      ],
      "metadata": {
        "id": "0ZY3i9f1fsqa"
      }
    }
  ]
}